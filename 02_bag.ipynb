{
 "cells": [
  {
   "cell_type": "markdown",
   "metadata": {},
   "source": [
    "<img src=\"images/dask_horizontal.svg\" align=\"right\" width=\"30%\">"
   ]
  },
  {
   "cell_type": "markdown",
   "metadata": {},
   "source": [
    "# Bag: Parallel Lists for semi-structured data"
   ]
  },
  {
   "cell_type": "markdown",
   "metadata": {},
   "source": [
    "Dask-bag excels in processing data that can be represented as a sequence of arbitrary inputs. We'll refer to this as \"messy\" data, because it can contain complex nested structures, missing fields, mixtures of data types, etc. The *functional* programming style fits very nicely with standard Python iteration, such as can be found in the `itertools` module.\n",
    "\n",
    "Messy data is often encountered at the beginning of data processing pipelines when large volumes of raw data are first consumed. The initial set of data might be JSON, CSV, XML, or any other format that does not enforce strict structure and datatypes.\n",
    "For this reason, the initial data massaging and processing is often done with Python `list`s, `dict`s, and `set`s.\n",
    "\n",
    "These core data structures are optimized for general-purpose storage and processing.  Adding streaming computation with iterators/generator expressions or libraries like `itertools` or [`toolz`](https://toolz.readthedocs.io/en/latest/) let us process large volumes in a small space.  If we combine this with parallel processing then we can churn through a fair amount of data.\n",
    "\n",
    "Dask.bag is a high level Dask collection to automate common workloads of this form.  In a nutshell\n",
    "\n",
    "    dask.bag = map, filter, toolz + parallel execution\n",
    "    \n",
    "**Related Documentation**\n",
    "\n",
    "* [Bag documentation](https://docs.dask.org/en/latest/bag.html)\n",
    "* [Bag screencast](https://youtu.be/-qIiJ1XtSv0)\n",
    "* [Bag API](https://docs.dask.org/en/latest/bag-api.html)\n",
    "* [Bag examples](https://examples.dask.org/bag.html)"
   ]
  },
  {
   "cell_type": "markdown",
   "metadata": {},
   "source": [
    "## Create data"
   ]
  },
  {
   "cell_type": "code",
   "execution_count": 1,
   "metadata": {
    "execution": {
     "iopub.execute_input": "2021-04-05T15:57:21.463927Z",
     "iopub.status.busy": "2021-04-05T15:57:21.463414Z",
     "iopub.status.idle": "2021-04-05T15:57:22.043122Z",
     "shell.execute_reply": "2021-04-05T15:57:22.042561Z"
    }
   },
   "outputs": [],
   "source": [
    "%run prep.py -d accounts"
   ]
  },
  {
   "cell_type": "markdown",
   "metadata": {},
   "source": [
    "## Setup"
   ]
  },
  {
   "cell_type": "markdown",
   "metadata": {},
   "source": [
    "Again, we'll use the distributed scheduler. Schedulers will be explained in depth [later](05_distributed.ipynb)."
   ]
  },
  {
   "cell_type": "code",
   "execution_count": 2,
   "metadata": {
    "execution": {
     "iopub.execute_input": "2021-04-05T15:57:22.047104Z",
     "iopub.status.busy": "2021-04-05T15:57:22.046142Z",
     "iopub.status.idle": "2021-04-05T15:57:23.763142Z",
     "shell.execute_reply": "2021-04-05T15:57:23.762344Z"
    }
   },
   "outputs": [],
   "source": [
    "from dask.distributed import Client\n",
    "\n",
    "client = Client(n_workers=4)"
   ]
  },
  {
   "cell_type": "markdown",
   "metadata": {},
   "source": [
    "## Creation"
   ]
  },
  {
   "cell_type": "markdown",
   "metadata": {},
   "source": [
    "You can create a `Bag` from a Python sequence, from files, from data on S3, etc.\n",
    "We demonstrate using `.take()` to show elements of the data. (Doing `.take(1)` results in a tuple with one element)\n",
    "\n",
    "Note that the data are partitioned into blocks, and there are many items per block. In the first example, the two partitions contain five elements each, and in the following two, each file is partitioned into one or more bytes blocks."
   ]
  },
  {
   "cell_type": "code",
   "execution_count": 3,
   "metadata": {
    "execution": {
     "iopub.execute_input": "2021-04-05T15:57:23.769753Z",
     "iopub.status.busy": "2021-04-05T15:57:23.767610Z",
     "iopub.status.idle": "2021-04-05T15:57:23.884742Z",
     "shell.execute_reply": "2021-04-05T15:57:23.885182Z"
    }
   },
   "outputs": [
    {
     "data": {
      "text/plain": [
       "(1, 2, 3)"
      ]
     },
     "execution_count": 1,
     "metadata": {},
     "output_type": "execute_result"
    }
   ],
   "source": [
    "# each element is an integer\n",
    "import dask.bag as db\n",
    "b = db.from_sequence([1, 2, 3, 4, 5, 6, 7, 8, 9, 10], npartitions=2)\n",
    "b.take(3)"
   ]
  },
  {
   "cell_type": "code",
   "execution_count": 4,
   "metadata": {
    "execution": {
     "iopub.execute_input": "2021-04-05T15:57:23.889478Z",
     "iopub.status.busy": "2021-04-05T15:57:23.888968Z",
     "iopub.status.idle": "2021-04-05T15:57:23.916248Z",
     "shell.execute_reply": "2021-04-05T15:57:23.915759Z"
    }
   },
   "outputs": [
    {
     "data": {
      "text/plain": [
       "('{\"id\": 0, \"name\": \"George\", \"transactions\": [{\"transaction-id\": 22, \"amount\": 2007}, {\"transaction-id\": 488, \"amount\": 1853}, {\"transaction-id\": 507, \"amount\": 1890}, {\"transaction-id\": 508, \"amount\": 1677}, {\"transaction-id\": 933, \"amount\": 1704}, {\"transaction-id\": 979, \"amount\": 1901}, {\"transaction-id\": 1048, \"amount\": 1792}, {\"transaction-id\": 1193, \"amount\": 1757}, {\"transaction-id\": 1619, \"amount\": 1613}, {\"transaction-id\": 1646, \"amount\": 1656}, {\"transaction-id\": 1861, \"amount\": 1821}, {\"transaction-id\": 2000, \"amount\": 1529}, {\"transaction-id\": 2036, \"amount\": 1754}, {\"transaction-id\": 2289, \"amount\": 1379}, {\"transaction-id\": 2319, \"amount\": 1642}, {\"transaction-id\": 2678, \"amount\": 1854}, {\"transaction-id\": 3017, \"amount\": 1763}, {\"transaction-id\": 3101, \"amount\": 1899}, {\"transaction-id\": 3114, \"amount\": 1866}, {\"transaction-id\": 3234, \"amount\": 1870}, {\"transaction-id\": 3286, \"amount\": 1724}, {\"transaction-id\": 3454, \"amount\": 1903}, {\"transaction-id\": 3514, \"amount\": 1764}, {\"transaction-id\": 3579, \"amount\": 1983}, {\"transaction-id\": 3795, \"amount\": 1928}, {\"transaction-id\": 3881, \"amount\": 1963}, {\"transaction-id\": 3930, \"amount\": 1893}, {\"transaction-id\": 4122, \"amount\": 1777}, {\"transaction-id\": 4311, \"amount\": 1692}, {\"transaction-id\": 4962, \"amount\": 1771}, {\"transaction-id\": 4995, \"amount\": 1615}, {\"transaction-id\": 5064, \"amount\": 1660}, {\"transaction-id\": 5192, \"amount\": 1880}, {\"transaction-id\": 5208, \"amount\": 1831}, {\"transaction-id\": 5305, \"amount\": 1894}, {\"transaction-id\": 5434, \"amount\": 1960}, {\"transaction-id\": 5442, \"amount\": 2036}, {\"transaction-id\": 5713, \"amount\": 2018}, {\"transaction-id\": 6182, \"amount\": 1768}, {\"transaction-id\": 6207, \"amount\": 1965}, {\"transaction-id\": 6581, \"amount\": 1772}, {\"transaction-id\": 6639, \"amount\": 1860}, {\"transaction-id\": 6841, \"amount\": 1783}, {\"transaction-id\": 6974, \"amount\": 2097}, {\"transaction-id\": 6988, \"amount\": 1962}, {\"transaction-id\": 7441, \"amount\": 2107}, {\"transaction-id\": 7900, \"amount\": 1720}, {\"transaction-id\": 8254, \"amount\": 1858}, {\"transaction-id\": 8461, \"amount\": 1941}, {\"transaction-id\": 8495, \"amount\": 1838}, {\"transaction-id\": 8572, \"amount\": 1767}, {\"transaction-id\": 8607, \"amount\": 1644}, {\"transaction-id\": 8724, \"amount\": 1933}, {\"transaction-id\": 8858, \"amount\": 1876}, {\"transaction-id\": 8969, \"amount\": 1722}, {\"transaction-id\": 9145, \"amount\": 2066}, {\"transaction-id\": 9193, \"amount\": 1523}, {\"transaction-id\": 9500, \"amount\": 1761}, {\"transaction-id\": 9736, \"amount\": 1602}]}\\n',)"
      ]
     },
     "execution_count": 1,
     "metadata": {},
     "output_type": "execute_result"
    }
   ],
   "source": [
    "# each element is a text file, where each line is a JSON object\n",
    "# note that the compression is handled automatically\n",
    "import os\n",
    "b = db.read_text(os.path.join('data', 'accounts.*.json.gz'))\n",
    "b.take(1)"
   ]
  },
  {
   "cell_type": "code",
   "execution_count": 5,
   "metadata": {
    "execution": {
     "iopub.execute_input": "2021-04-05T15:57:23.920008Z",
     "iopub.status.busy": "2021-04-05T15:57:23.919486Z",
     "iopub.status.idle": "2021-04-05T15:57:23.926251Z",
     "shell.execute_reply": "2021-04-05T15:57:23.925837Z"
    }
   },
   "outputs": [
    {
     "data": {
      "text/plain": [
       "'s3://dask-data/nyc-taxi/2015/yellow_tripdata_2015-01.csv'"
      ]
     },
     "execution_count": 1,
     "metadata": {},
     "output_type": "execute_result"
    }
   ],
   "source": [
    "# Edit sources.py to configure source locations\n",
    "import sources\n",
    "sources.bag_url"
   ]
  },
  {
   "cell_type": "code",
   "execution_count": 6,
   "metadata": {
    "execution": {
     "iopub.execute_input": "2021-04-05T15:57:23.929921Z",
     "iopub.status.busy": "2021-04-05T15:57:23.929348Z",
     "iopub.status.idle": "2021-04-05T15:57:24.685061Z",
     "shell.execute_reply": "2021-04-05T15:57:24.684059Z"
    }
   },
   "outputs": [
    {
     "data": {
      "text/plain": [
       "('VendorID,tpep_pickup_datetime,tpep_dropoff_datetime,passenger_count,trip_distance,pickup_longitude,pickup_latitude,RateCodeID,store_and_fwd_flag,dropoff_longitude,dropoff_latitude,payment_type,fare_amount,extra,mta_tax,tip_amount,tolls_amount,improvement_surcharge,total_amount\\n',)"
      ]
     },
     "execution_count": 1,
     "metadata": {},
     "output_type": "execute_result"
    }
   ],
   "source": [
    "# Requires `s3fs` library\n",
    "# each partition is a remote CSV text file\n",
    "b = db.read_text(sources.bag_url,\n",
    "                 storage_options={'anon': True})\n",
    "b.take(1)"
   ]
  },
  {
   "cell_type": "markdown",
   "metadata": {},
   "source": [
    "## Manipulation"
   ]
  },
  {
   "cell_type": "markdown",
   "metadata": {},
   "source": [
    "`Bag` objects hold the standard functional API found in projects like the Python standard library, `toolz`, or `pyspark`, including `map`, `filter`, `groupby`, etc..\n",
    "\n",
    "Operations on `Bag` objects create new bags.  Call the `.compute()` method to trigger execution, as we saw for `Delayed` objects.  "
   ]
  },
  {
   "cell_type": "code",
   "execution_count": 7,
   "metadata": {
    "execution": {
     "iopub.execute_input": "2021-04-05T15:57:24.691286Z",
     "iopub.status.busy": "2021-04-05T15:57:24.690593Z",
     "iopub.status.idle": "2021-04-05T15:57:24.695857Z",
     "shell.execute_reply": "2021-04-05T15:57:24.696375Z"
    }
   },
   "outputs": [
    {
     "data": {
      "text/plain": [
       "dask.bag<lambda, npartitions=10>"
      ]
     },
     "execution_count": 1,
     "metadata": {},
     "output_type": "execute_result"
    }
   ],
   "source": [
    "def is_even(n):\n",
    "    return n % 2 == 0\n",
    "\n",
    "b = db.from_sequence([1, 2, 3, 4, 5, 6, 7, 8, 9, 10])\n",
    "c = b.filter(is_even).map(lambda x: x ** 2)\n",
    "c"
   ]
  },
  {
   "cell_type": "code",
   "execution_count": 8,
   "metadata": {
    "execution": {
     "iopub.execute_input": "2021-04-05T15:57:24.701835Z",
     "iopub.status.busy": "2021-04-05T15:57:24.701181Z",
     "iopub.status.idle": "2021-04-05T15:57:24.834410Z",
     "shell.execute_reply": "2021-04-05T15:57:24.833705Z"
    }
   },
   "outputs": [
    {
     "data": {
      "text/plain": [
       "[4, 16, 36, 64, 100]"
      ]
     },
     "execution_count": 1,
     "metadata": {},
     "output_type": "execute_result"
    }
   ],
   "source": [
    "# blocking form: wait for completion (which is very fast in this case)\n",
    "c.compute()"
   ]
  },
  {
   "cell_type": "markdown",
   "metadata": {},
   "source": [
    "### Example: Accounts JSON data"
   ]
  },
  {
   "cell_type": "markdown",
   "metadata": {},
   "source": [
    "We've created a fake dataset of gzipped JSON data in your data directory.  This is like the example used in the `DataFrame` example we will see later, except that it has bundled up all of the entries for each individual `id` into a single record.  This is similar to data that you might collect off of a document store database or a web API.\n",
    "\n",
    "Each line is a JSON encoded dictionary with the following keys\n",
    "\n",
    "*  id: Unique identifier of the customer\n",
    "*  name: Name of the customer\n",
    "*  transactions: List of `transaction-id`, `amount` pairs, one for each transaction for the customer in that file"
   ]
  },
  {
   "cell_type": "code",
   "execution_count": 9,
   "metadata": {
    "execution": {
     "iopub.execute_input": "2021-04-05T15:57:24.838425Z",
     "iopub.status.busy": "2021-04-05T15:57:24.837782Z",
     "iopub.status.idle": "2021-04-05T15:57:24.861255Z",
     "shell.execute_reply": "2021-04-05T15:57:24.861616Z"
    }
   },
   "outputs": [
    {
     "data": {
      "text/plain": [
       "('{\"id\": 0, \"name\": \"George\", \"transactions\": [{\"transaction-id\": 22, \"amount\": 2007}, {\"transaction-id\": 488, \"amount\": 1853}, {\"transaction-id\": 507, \"amount\": 1890}, {\"transaction-id\": 508, \"amount\": 1677}, {\"transaction-id\": 933, \"amount\": 1704}, {\"transaction-id\": 979, \"amount\": 1901}, {\"transaction-id\": 1048, \"amount\": 1792}, {\"transaction-id\": 1193, \"amount\": 1757}, {\"transaction-id\": 1619, \"amount\": 1613}, {\"transaction-id\": 1646, \"amount\": 1656}, {\"transaction-id\": 1861, \"amount\": 1821}, {\"transaction-id\": 2000, \"amount\": 1529}, {\"transaction-id\": 2036, \"amount\": 1754}, {\"transaction-id\": 2289, \"amount\": 1379}, {\"transaction-id\": 2319, \"amount\": 1642}, {\"transaction-id\": 2678, \"amount\": 1854}, {\"transaction-id\": 3017, \"amount\": 1763}, {\"transaction-id\": 3101, \"amount\": 1899}, {\"transaction-id\": 3114, \"amount\": 1866}, {\"transaction-id\": 3234, \"amount\": 1870}, {\"transaction-id\": 3286, \"amount\": 1724}, {\"transaction-id\": 3454, \"amount\": 1903}, {\"transaction-id\": 3514, \"amount\": 1764}, {\"transaction-id\": 3579, \"amount\": 1983}, {\"transaction-id\": 3795, \"amount\": 1928}, {\"transaction-id\": 3881, \"amount\": 1963}, {\"transaction-id\": 3930, \"amount\": 1893}, {\"transaction-id\": 4122, \"amount\": 1777}, {\"transaction-id\": 4311, \"amount\": 1692}, {\"transaction-id\": 4962, \"amount\": 1771}, {\"transaction-id\": 4995, \"amount\": 1615}, {\"transaction-id\": 5064, \"amount\": 1660}, {\"transaction-id\": 5192, \"amount\": 1880}, {\"transaction-id\": 5208, \"amount\": 1831}, {\"transaction-id\": 5305, \"amount\": 1894}, {\"transaction-id\": 5434, \"amount\": 1960}, {\"transaction-id\": 5442, \"amount\": 2036}, {\"transaction-id\": 5713, \"amount\": 2018}, {\"transaction-id\": 6182, \"amount\": 1768}, {\"transaction-id\": 6207, \"amount\": 1965}, {\"transaction-id\": 6581, \"amount\": 1772}, {\"transaction-id\": 6639, \"amount\": 1860}, {\"transaction-id\": 6841, \"amount\": 1783}, {\"transaction-id\": 6974, \"amount\": 2097}, {\"transaction-id\": 6988, \"amount\": 1962}, {\"transaction-id\": 7441, \"amount\": 2107}, {\"transaction-id\": 7900, \"amount\": 1720}, {\"transaction-id\": 8254, \"amount\": 1858}, {\"transaction-id\": 8461, \"amount\": 1941}, {\"transaction-id\": 8495, \"amount\": 1838}, {\"transaction-id\": 8572, \"amount\": 1767}, {\"transaction-id\": 8607, \"amount\": 1644}, {\"transaction-id\": 8724, \"amount\": 1933}, {\"transaction-id\": 8858, \"amount\": 1876}, {\"transaction-id\": 8969, \"amount\": 1722}, {\"transaction-id\": 9145, \"amount\": 2066}, {\"transaction-id\": 9193, \"amount\": 1523}, {\"transaction-id\": 9500, \"amount\": 1761}, {\"transaction-id\": 9736, \"amount\": 1602}]}\\n',\n",
       " '{\"id\": 1, \"name\": \"Oliver\", \"transactions\": [{\"transaction-id\": 750, \"amount\": 305}, {\"transaction-id\": 2733, \"amount\": 340}, {\"transaction-id\": 3434, \"amount\": 291}, {\"transaction-id\": 4622, \"amount\": 323}, {\"transaction-id\": 7666, \"amount\": 277}, {\"transaction-id\": 7955, \"amount\": 412}, {\"transaction-id\": 8341, \"amount\": 365}, {\"transaction-id\": 8683, \"amount\": 276}, {\"transaction-id\": 8732, \"amount\": 218}, {\"transaction-id\": 9247, \"amount\": 235}]}\\n',\n",
       " '{\"id\": 2, \"name\": \"Oliver\", \"transactions\": [{\"transaction-id\": 3022, \"amount\": 457}, {\"transaction-id\": 3136, \"amount\": 454}, {\"transaction-id\": 3735, \"amount\": 353}, {\"transaction-id\": 6620, \"amount\": 414}, {\"transaction-id\": 6855, \"amount\": 459}, {\"transaction-id\": 7721, \"amount\": 388}, {\"transaction-id\": 8888, \"amount\": 437}, {\"transaction-id\": 9759, \"amount\": 414}]}\\n')"
      ]
     },
     "execution_count": 1,
     "metadata": {},
     "output_type": "execute_result"
    }
   ],
   "source": [
    "filename = os.path.join('data', 'accounts.*.json.gz')\n",
    "lines = db.read_text(filename)\n",
    "lines.take(3)"
   ]
  },
  {
   "cell_type": "markdown",
   "metadata": {},
   "source": [
    "Our data comes out of the file as lines of text. Notice that file decompression happened automatically. We can make this data look more reasonable by mapping the `json.loads` function onto our bag."
   ]
  },
  {
   "cell_type": "code",
   "execution_count": 10,
   "metadata": {
    "execution": {
     "iopub.execute_input": "2021-04-05T15:57:24.865534Z",
     "iopub.status.busy": "2021-04-05T15:57:24.864670Z",
     "iopub.status.idle": "2021-04-05T15:57:24.891375Z",
     "shell.execute_reply": "2021-04-05T15:57:24.890770Z"
    }
   },
   "outputs": [
    {
     "data": {
      "text/plain": [
       "({'id': 0,\n",
       "  'name': 'George',\n",
       "  'transactions': [{'transaction-id': 22, 'amount': 2007},\n",
       "   {'transaction-id': 488, 'amount': 1853},\n",
       "   {'transaction-id': 507, 'amount': 1890},\n",
       "   {'transaction-id': 508, 'amount': 1677},\n",
       "   {'transaction-id': 933, 'amount': 1704},\n",
       "   {'transaction-id': 979, 'amount': 1901},\n",
       "   {'transaction-id': 1048, 'amount': 1792},\n",
       "   {'transaction-id': 1193, 'amount': 1757},\n",
       "   {'transaction-id': 1619, 'amount': 1613},\n",
       "   {'transaction-id': 1646, 'amount': 1656},\n",
       "   {'transaction-id': 1861, 'amount': 1821},\n",
       "   {'transaction-id': 2000, 'amount': 1529},\n",
       "   {'transaction-id': 2036, 'amount': 1754},\n",
       "   {'transaction-id': 2289, 'amount': 1379},\n",
       "   {'transaction-id': 2319, 'amount': 1642},\n",
       "   {'transaction-id': 2678, 'amount': 1854},\n",
       "   {'transaction-id': 3017, 'amount': 1763},\n",
       "   {'transaction-id': 3101, 'amount': 1899},\n",
       "   {'transaction-id': 3114, 'amount': 1866},\n",
       "   {'transaction-id': 3234, 'amount': 1870},\n",
       "   {'transaction-id': 3286, 'amount': 1724},\n",
       "   {'transaction-id': 3454, 'amount': 1903},\n",
       "   {'transaction-id': 3514, 'amount': 1764},\n",
       "   {'transaction-id': 3579, 'amount': 1983},\n",
       "   {'transaction-id': 3795, 'amount': 1928},\n",
       "   {'transaction-id': 3881, 'amount': 1963},\n",
       "   {'transaction-id': 3930, 'amount': 1893},\n",
       "   {'transaction-id': 4122, 'amount': 1777},\n",
       "   {'transaction-id': 4311, 'amount': 1692},\n",
       "   {'transaction-id': 4962, 'amount': 1771},\n",
       "   {'transaction-id': 4995, 'amount': 1615},\n",
       "   {'transaction-id': 5064, 'amount': 1660},\n",
       "   {'transaction-id': 5192, 'amount': 1880},\n",
       "   {'transaction-id': 5208, 'amount': 1831},\n",
       "   {'transaction-id': 5305, 'amount': 1894},\n",
       "   {'transaction-id': 5434, 'amount': 1960},\n",
       "   {'transaction-id': 5442, 'amount': 2036},\n",
       "   {'transaction-id': 5713, 'amount': 2018},\n",
       "   {'transaction-id': 6182, 'amount': 1768},\n",
       "   {'transaction-id': 6207, 'amount': 1965},\n",
       "   {'transaction-id': 6581, 'amount': 1772},\n",
       "   {'transaction-id': 6639, 'amount': 1860},\n",
       "   {'transaction-id': 6841, 'amount': 1783},\n",
       "   {'transaction-id': 6974, 'amount': 2097},\n",
       "   {'transaction-id': 6988, 'amount': 1962},\n",
       "   {'transaction-id': 7441, 'amount': 2107},\n",
       "   {'transaction-id': 7900, 'amount': 1720},\n",
       "   {'transaction-id': 8254, 'amount': 1858},\n",
       "   {'transaction-id': 8461, 'amount': 1941},\n",
       "   {'transaction-id': 8495, 'amount': 1838},\n",
       "   {'transaction-id': 8572, 'amount': 1767},\n",
       "   {'transaction-id': 8607, 'amount': 1644},\n",
       "   {'transaction-id': 8724, 'amount': 1933},\n",
       "   {'transaction-id': 8858, 'amount': 1876},\n",
       "   {'transaction-id': 8969, 'amount': 1722},\n",
       "   {'transaction-id': 9145, 'amount': 2066},\n",
       "   {'transaction-id': 9193, 'amount': 1523},\n",
       "   {'transaction-id': 9500, 'amount': 1761},\n",
       "   {'transaction-id': 9736, 'amount': 1602}]},\n",
       " {'id': 1,\n",
       "  'name': 'Oliver',\n",
       "  'transactions': [{'transaction-id': 750, 'amount': 305},\n",
       "   {'transaction-id': 2733, 'amount': 340},\n",
       "   {'transaction-id': 3434, 'amount': 291},\n",
       "   {'transaction-id': 4622, 'amount': 323},\n",
       "   {'transaction-id': 7666, 'amount': 277},\n",
       "   {'transaction-id': 7955, 'amount': 412},\n",
       "   {'transaction-id': 8341, 'amount': 365},\n",
       "   {'transaction-id': 8683, 'amount': 276},\n",
       "   {'transaction-id': 8732, 'amount': 218},\n",
       "   {'transaction-id': 9247, 'amount': 235}]},\n",
       " {'id': 2,\n",
       "  'name': 'Oliver',\n",
       "  'transactions': [{'transaction-id': 3022, 'amount': 457},\n",
       "   {'transaction-id': 3136, 'amount': 454},\n",
       "   {'transaction-id': 3735, 'amount': 353},\n",
       "   {'transaction-id': 6620, 'amount': 414},\n",
       "   {'transaction-id': 6855, 'amount': 459},\n",
       "   {'transaction-id': 7721, 'amount': 388},\n",
       "   {'transaction-id': 8888, 'amount': 437},\n",
       "   {'transaction-id': 9759, 'amount': 414}]})"
      ]
     },
     "execution_count": 1,
     "metadata": {},
     "output_type": "execute_result"
    }
   ],
   "source": [
    "import json\n",
    "js = lines.map(json.loads)\n",
    "# take: inspect first few elements\n",
    "js.take(3)"
   ]
  },
  {
   "cell_type": "markdown",
   "metadata": {},
   "source": [
    "### Basic Queries"
   ]
  },
  {
   "cell_type": "markdown",
   "metadata": {},
   "source": [
    "Once we parse our JSON data into proper Python objects (`dict`s, `list`s, etc.) we can perform more interesting queries by creating small Python functions to run on our data."
   ]
  },
  {
   "cell_type": "code",
   "execution_count": 11,
   "metadata": {
    "execution": {
     "iopub.execute_input": "2021-04-05T15:57:24.900032Z",
     "iopub.status.busy": "2021-04-05T15:57:24.899545Z",
     "iopub.status.idle": "2021-04-05T15:57:24.931060Z",
     "shell.execute_reply": "2021-04-05T15:57:24.930613Z"
    }
   },
   "outputs": [
    {
     "data": {
      "text/plain": [
       "({'id': 15,\n",
       "  'name': 'Alice',\n",
       "  'transactions': [{'transaction-id': 428, 'amount': 194},\n",
       "   {'transaction-id': 477, 'amount': 196},\n",
       "   {'transaction-id': 535, 'amount': 200},\n",
       "   {'transaction-id': 987, 'amount': 188},\n",
       "   {'transaction-id': 1044, 'amount': 199},\n",
       "   {'transaction-id': 1061, 'amount': 181},\n",
       "   {'transaction-id': 1151, 'amount': 210},\n",
       "   {'transaction-id': 1934, 'amount': 191},\n",
       "   {'transaction-id': 2283, 'amount': 204},\n",
       "   {'transaction-id': 2336, 'amount': 194},\n",
       "   {'transaction-id': 2665, 'amount': 205},\n",
       "   {'transaction-id': 3760, 'amount': 191},\n",
       "   {'transaction-id': 4339, 'amount': 195},\n",
       "   {'transaction-id': 4353, 'amount': 199},\n",
       "   {'transaction-id': 4457, 'amount': 190},\n",
       "   {'transaction-id': 4540, 'amount': 213},\n",
       "   {'transaction-id': 4674, 'amount': 200},\n",
       "   {'transaction-id': 4860, 'amount': 213},\n",
       "   {'transaction-id': 5344, 'amount': 199},\n",
       "   {'transaction-id': 5668, 'amount': 194},\n",
       "   {'transaction-id': 5834, 'amount': 197},\n",
       "   {'transaction-id': 5967, 'amount': 205},\n",
       "   {'transaction-id': 6079, 'amount': 204},\n",
       "   {'transaction-id': 6659, 'amount': 212},\n",
       "   {'transaction-id': 7021, 'amount': 211},\n",
       "   {'transaction-id': 7256, 'amount': 182},\n",
       "   {'transaction-id': 7370, 'amount': 181},\n",
       "   {'transaction-id': 7375, 'amount': 203},\n",
       "   {'transaction-id': 7387, 'amount': 196},\n",
       "   {'transaction-id': 7508, 'amount': 191},\n",
       "   {'transaction-id': 7511, 'amount': 203},\n",
       "   {'transaction-id': 7752, 'amount': 189},\n",
       "   {'transaction-id': 8177, 'amount': 197},\n",
       "   {'transaction-id': 8234, 'amount': 201},\n",
       "   {'transaction-id': 8709, 'amount': 189},\n",
       "   {'transaction-id': 8758, 'amount': 195},\n",
       "   {'transaction-id': 8781, 'amount': 195},\n",
       "   {'transaction-id': 8916, 'amount': 206},\n",
       "   {'transaction-id': 8972, 'amount': 194},\n",
       "   {'transaction-id': 9008, 'amount': 205},\n",
       "   {'transaction-id': 9514, 'amount': 189},\n",
       "   {'transaction-id': 9717, 'amount': 198},\n",
       "   {'transaction-id': 9787, 'amount': 193}]},\n",
       " {'id': 61,\n",
       "  'name': 'Alice',\n",
       "  'transactions': [{'transaction-id': 4042, 'amount': 561},\n",
       "   {'transaction-id': 9469, 'amount': 629}]},\n",
       " {'id': 101,\n",
       "  'name': 'Alice',\n",
       "  'transactions': [{'transaction-id': 2653, 'amount': 385},\n",
       "   {'transaction-id': 5026, 'amount': 324},\n",
       "   {'transaction-id': 9096, 'amount': 372}]},\n",
       " {'id': 157,\n",
       "  'name': 'Alice',\n",
       "  'transactions': [{'transaction-id': 154, 'amount': 15},\n",
       "   {'transaction-id': 618, 'amount': 17},\n",
       "   {'transaction-id': 686, 'amount': 13},\n",
       "   {'transaction-id': 1009, 'amount': 15},\n",
       "   {'transaction-id': 1421, 'amount': 16},\n",
       "   {'transaction-id': 1468, 'amount': 12},\n",
       "   {'transaction-id': 1603, 'amount': 21},\n",
       "   {'transaction-id': 2031, 'amount': 17},\n",
       "   {'transaction-id': 2166, 'amount': 15},\n",
       "   {'transaction-id': 2602, 'amount': 23},\n",
       "   {'transaction-id': 2941, 'amount': 11},\n",
       "   {'transaction-id': 3223, 'amount': 17},\n",
       "   {'transaction-id': 3425, 'amount': 13},\n",
       "   {'transaction-id': 3453, 'amount': 15},\n",
       "   {'transaction-id': 4717, 'amount': 19},\n",
       "   {'transaction-id': 5276, 'amount': 16},\n",
       "   {'transaction-id': 6173, 'amount': 10},\n",
       "   {'transaction-id': 7121, 'amount': 13},\n",
       "   {'transaction-id': 8068, 'amount': 11},\n",
       "   {'transaction-id': 8166, 'amount': 14},\n",
       "   {'transaction-id': 8195, 'amount': 18},\n",
       "   {'transaction-id': 8439, 'amount': 10},\n",
       "   {'transaction-id': 8821, 'amount': 18}]},\n",
       " {'id': 177,\n",
       "  'name': 'Alice',\n",
       "  'transactions': [{'transaction-id': 1498, 'amount': -68},\n",
       "   {'transaction-id': 1583, 'amount': -44},\n",
       "   {'transaction-id': 2077, 'amount': -97},\n",
       "   {'transaction-id': 2442, 'amount': -67},\n",
       "   {'transaction-id': 2876, 'amount': -15},\n",
       "   {'transaction-id': 3345, 'amount': -12},\n",
       "   {'transaction-id': 4913, 'amount': -51},\n",
       "   {'transaction-id': 4915, 'amount': -52},\n",
       "   {'transaction-id': 5103, 'amount': -56},\n",
       "   {'transaction-id': 5717, 'amount': -81},\n",
       "   {'transaction-id': 6496, 'amount': -61},\n",
       "   {'transaction-id': 8985, 'amount': -75},\n",
       "   {'transaction-id': 9868, 'amount': -60}]})"
      ]
     },
     "execution_count": 1,
     "metadata": {},
     "output_type": "execute_result"
    }
   ],
   "source": [
    "# filter: keep only some elements of the sequence\n",
    "js.filter(lambda record: record['name'] == 'Alice').take(5)"
   ]
  },
  {
   "cell_type": "code",
   "execution_count": 12,
   "metadata": {
    "execution": {
     "iopub.execute_input": "2021-04-05T15:57:24.936807Z",
     "iopub.status.busy": "2021-04-05T15:57:24.935859Z",
     "iopub.status.idle": "2021-04-05T15:57:24.958458Z",
     "shell.execute_reply": "2021-04-05T15:57:24.958875Z"
    }
   },
   "outputs": [
    {
     "data": {
      "text/plain": [
       "({'name': 'Alice', 'count': 43},\n",
       " {'name': 'Alice', 'count': 2},\n",
       " {'name': 'Alice', 'count': 3},\n",
       " {'name': 'Alice', 'count': 23},\n",
       " {'name': 'Alice', 'count': 13})"
      ]
     },
     "execution_count": 1,
     "metadata": {},
     "output_type": "execute_result"
    }
   ],
   "source": [
    "def count_transactions(d):\n",
    "    return {'name': d['name'], 'count': len(d['transactions'])}\n",
    "\n",
    "# map: apply a function to each element\n",
    "(js.filter(lambda record: record['name'] == 'Alice')\n",
    "   .map(count_transactions)\n",
    "   .take(5))"
   ]
  },
  {
   "cell_type": "code",
   "execution_count": 13,
   "metadata": {
    "execution": {
     "iopub.execute_input": "2021-04-05T15:57:24.964107Z",
     "iopub.status.busy": "2021-04-05T15:57:24.963545Z",
     "iopub.status.idle": "2021-04-05T15:57:24.983615Z",
     "shell.execute_reply": "2021-04-05T15:57:24.983984Z"
    }
   },
   "outputs": [
    {
     "data": {
      "text/plain": [
       "(43, 2, 3, 23, 13)"
      ]
     },
     "execution_count": 1,
     "metadata": {},
     "output_type": "execute_result"
    }
   ],
   "source": [
    "# pluck: select a field, as from a dictionary, element[field]\n",
    "(js.filter(lambda record: record['name'] == 'Alice')\n",
    "   .map(count_transactions)\n",
    "   .pluck('count')\n",
    "   .take(5))"
   ]
  },
  {
   "cell_type": "code",
   "execution_count": 14,
   "metadata": {
    "execution": {
     "iopub.execute_input": "2021-04-05T15:57:24.995516Z",
     "iopub.status.busy": "2021-04-05T15:57:24.988999Z",
     "iopub.status.idle": "2021-04-05T15:57:25.428370Z",
     "shell.execute_reply": "2021-04-05T15:57:25.427607Z"
    }
   },
   "outputs": [
    {
     "data": {
      "text/plain": [
       "25.49074074074074"
      ]
     },
     "execution_count": 1,
     "metadata": {},
     "output_type": "execute_result"
    }
   ],
   "source": [
    "# Average number of transactions for all of the Alice entries\n",
    "(js.filter(lambda record: record['name'] == 'Alice')\n",
    "   .map(count_transactions)\n",
    "   .pluck('count')\n",
    "   .mean()\n",
    "   .compute())"
   ]
  },
  {
   "cell_type": "markdown",
   "metadata": {},
   "source": [
    "### Use `flatten` to de-nest"
   ]
  },
  {
   "cell_type": "markdown",
   "metadata": {},
   "source": [
    "In the example below we see the use of `.flatten()` to flatten results.  We compute the average amount for all transactions for all Alices."
   ]
  },
  {
   "cell_type": "code",
   "execution_count": 15,
   "metadata": {
    "execution": {
     "iopub.execute_input": "2021-04-05T15:57:25.439472Z",
     "iopub.status.busy": "2021-04-05T15:57:25.438916Z",
     "iopub.status.idle": "2021-04-05T15:57:25.457332Z",
     "shell.execute_reply": "2021-04-05T15:57:25.456605Z"
    }
   },
   "outputs": [
    {
     "data": {
      "text/plain": [
       "([{'transaction-id': 428, 'amount': 194},\n",
       "  {'transaction-id': 477, 'amount': 196},\n",
       "  {'transaction-id': 535, 'amount': 200},\n",
       "  {'transaction-id': 987, 'amount': 188},\n",
       "  {'transaction-id': 1044, 'amount': 199},\n",
       "  {'transaction-id': 1061, 'amount': 181},\n",
       "  {'transaction-id': 1151, 'amount': 210},\n",
       "  {'transaction-id': 1934, 'amount': 191},\n",
       "  {'transaction-id': 2283, 'amount': 204},\n",
       "  {'transaction-id': 2336, 'amount': 194},\n",
       "  {'transaction-id': 2665, 'amount': 205},\n",
       "  {'transaction-id': 3760, 'amount': 191},\n",
       "  {'transaction-id': 4339, 'amount': 195},\n",
       "  {'transaction-id': 4353, 'amount': 199},\n",
       "  {'transaction-id': 4457, 'amount': 190},\n",
       "  {'transaction-id': 4540, 'amount': 213},\n",
       "  {'transaction-id': 4674, 'amount': 200},\n",
       "  {'transaction-id': 4860, 'amount': 213},\n",
       "  {'transaction-id': 5344, 'amount': 199},\n",
       "  {'transaction-id': 5668, 'amount': 194},\n",
       "  {'transaction-id': 5834, 'amount': 197},\n",
       "  {'transaction-id': 5967, 'amount': 205},\n",
       "  {'transaction-id': 6079, 'amount': 204},\n",
       "  {'transaction-id': 6659, 'amount': 212},\n",
       "  {'transaction-id': 7021, 'amount': 211},\n",
       "  {'transaction-id': 7256, 'amount': 182},\n",
       "  {'transaction-id': 7370, 'amount': 181},\n",
       "  {'transaction-id': 7375, 'amount': 203},\n",
       "  {'transaction-id': 7387, 'amount': 196},\n",
       "  {'transaction-id': 7508, 'amount': 191},\n",
       "  {'transaction-id': 7511, 'amount': 203},\n",
       "  {'transaction-id': 7752, 'amount': 189},\n",
       "  {'transaction-id': 8177, 'amount': 197},\n",
       "  {'transaction-id': 8234, 'amount': 201},\n",
       "  {'transaction-id': 8709, 'amount': 189},\n",
       "  {'transaction-id': 8758, 'amount': 195},\n",
       "  {'transaction-id': 8781, 'amount': 195},\n",
       "  {'transaction-id': 8916, 'amount': 206},\n",
       "  {'transaction-id': 8972, 'amount': 194},\n",
       "  {'transaction-id': 9008, 'amount': 205},\n",
       "  {'transaction-id': 9514, 'amount': 189},\n",
       "  {'transaction-id': 9717, 'amount': 198},\n",
       "  {'transaction-id': 9787, 'amount': 193}],\n",
       " [{'transaction-id': 4042, 'amount': 561},\n",
       "  {'transaction-id': 9469, 'amount': 629}],\n",
       " [{'transaction-id': 2653, 'amount': 385},\n",
       "  {'transaction-id': 5026, 'amount': 324},\n",
       "  {'transaction-id': 9096, 'amount': 372}])"
      ]
     },
     "execution_count": 1,
     "metadata": {},
     "output_type": "execute_result"
    }
   ],
   "source": [
    "(js.filter(lambda record: record['name'] == 'Alice')\n",
    "   .pluck('transactions')\n",
    "   .take(3))"
   ]
  },
  {
   "cell_type": "code",
   "execution_count": 16,
   "metadata": {
    "execution": {
     "iopub.execute_input": "2021-04-05T15:57:25.462126Z",
     "iopub.status.busy": "2021-04-05T15:57:25.461047Z",
     "iopub.status.idle": "2021-04-05T15:57:25.478645Z",
     "shell.execute_reply": "2021-04-05T15:57:25.477918Z"
    }
   },
   "outputs": [
    {
     "data": {
      "text/plain": [
       "({'transaction-id': 428, 'amount': 194},\n",
       " {'transaction-id': 477, 'amount': 196},\n",
       " {'transaction-id': 535, 'amount': 200})"
      ]
     },
     "execution_count": 1,
     "metadata": {},
     "output_type": "execute_result"
    }
   ],
   "source": [
    "(js.filter(lambda record: record['name'] == 'Alice')\n",
    "   .pluck('transactions')\n",
    "   .flatten()\n",
    "   .take(3))"
   ]
  },
  {
   "cell_type": "code",
   "execution_count": 17,
   "metadata": {
    "execution": {
     "iopub.execute_input": "2021-04-05T15:57:25.481259Z",
     "iopub.status.busy": "2021-04-05T15:57:25.480586Z",
     "iopub.status.idle": "2021-04-05T15:57:25.501659Z",
     "shell.execute_reply": "2021-04-05T15:57:25.501195Z"
    }
   },
   "outputs": [
    {
     "data": {
      "text/plain": [
       "(194, 196, 200)"
      ]
     },
     "execution_count": 1,
     "metadata": {},
     "output_type": "execute_result"
    }
   ],
   "source": [
    "(js.filter(lambda record: record['name'] == 'Alice')\n",
    "   .pluck('transactions')\n",
    "   .flatten()\n",
    "   .pluck('amount')\n",
    "   .take(3))"
   ]
  },
  {
   "cell_type": "code",
   "execution_count": 18,
   "metadata": {
    "execution": {
     "iopub.execute_input": "2021-04-05T15:57:25.516603Z",
     "iopub.status.busy": "2021-04-05T15:57:25.510450Z",
     "iopub.status.idle": "2021-04-05T15:57:25.954347Z",
     "shell.execute_reply": "2021-04-05T15:57:25.953471Z"
    }
   },
   "outputs": [
    {
     "data": {
      "text/plain": [
       "21.865056302215766"
      ]
     },
     "execution_count": 1,
     "metadata": {},
     "output_type": "execute_result"
    }
   ],
   "source": [
    "(js.filter(lambda record: record['name'] == 'Alice')\n",
    "   .pluck('transactions')\n",
    "   .flatten()\n",
    "   .pluck('amount')\n",
    "   .mean()\n",
    "   .compute())"
   ]
  },
  {
   "cell_type": "markdown",
   "metadata": {},
   "source": [
    "### Groupby and Foldby"
   ]
  },
  {
   "cell_type": "markdown",
   "metadata": {},
   "source": [
    "Often we want to group data by some function or key.  We can do this either with the `.groupby` method, which is straightforward but forces a full shuffle of the data (expensive) or with the harder-to-use but faster `.foldby` method, which does a streaming combined groupby and reduction.\n",
    "\n",
    "*  `groupby`:  Shuffles data so that all items with the same key are in the same key-value pair\n",
    "*  `foldby`:  Walks through the data accumulating a result per key\n",
    "\n",
    "*Note: the full groupby is particularly bad. In actual workloads you would do well to use `foldby` or switch to `DataFrame`s if possible.*"
   ]
  },
  {
   "cell_type": "markdown",
   "metadata": {},
   "source": [
    "### `groupby`"
   ]
  },
  {
   "cell_type": "markdown",
   "metadata": {},
   "source": [
    "Groupby collects items in your collection so that all items with the same value under some function are collected together into a key-value pair."
   ]
  },
  {
   "cell_type": "code",
   "execution_count": 19,
   "metadata": {
    "execution": {
     "iopub.execute_input": "2021-04-05T15:57:25.963413Z",
     "iopub.status.busy": "2021-04-05T15:57:25.957037Z",
     "iopub.status.idle": "2021-04-05T15:57:26.067482Z",
     "shell.execute_reply": "2021-04-05T15:57:26.067009Z"
    }
   },
   "outputs": [
    {
     "data": {
      "text/plain": [
       "[(7, ['Charlie']), (3, ['Bob', 'Dan']), (5, ['Alice', 'Edith', 'Frank'])]"
      ]
     },
     "execution_count": 1,
     "metadata": {},
     "output_type": "execute_result"
    }
   ],
   "source": [
    "b = db.from_sequence(['Alice', 'Bob', 'Charlie', 'Dan', 'Edith', 'Frank'])\n",
    "b.groupby(len).compute()  # names grouped by length"
   ]
  },
  {
   "cell_type": "code",
   "execution_count": 20,
   "metadata": {
    "execution": {
     "iopub.execute_input": "2021-04-05T15:57:26.085402Z",
     "iopub.status.busy": "2021-04-05T15:57:26.077676Z",
     "iopub.status.idle": "2021-04-05T15:57:26.257334Z",
     "shell.execute_reply": "2021-04-05T15:57:26.257915Z"
    }
   },
   "outputs": [
    {
     "data": {
      "text/plain": [
       "[(0, [0, 2, 4, 6, 8]), (1, [1, 3, 5, 7, 9])]"
      ]
     },
     "execution_count": 1,
     "metadata": {},
     "output_type": "execute_result"
    }
   ],
   "source": [
    "b = db.from_sequence(list(range(10)))\n",
    "b.groupby(lambda x: x % 2).compute()"
   ]
  },
  {
   "cell_type": "code",
   "execution_count": 21,
   "metadata": {
    "execution": {
     "iopub.execute_input": "2021-04-05T15:57:26.268810Z",
     "iopub.status.busy": "2021-04-05T15:57:26.268198Z",
     "iopub.status.idle": "2021-04-05T15:57:26.452236Z",
     "shell.execute_reply": "2021-04-05T15:57:26.452670Z"
    }
   },
   "outputs": [
    {
     "data": {
      "text/plain": [
       "[(0, 8), (1, 9)]"
      ]
     },
     "execution_count": 1,
     "metadata": {},
     "output_type": "execute_result"
    }
   ],
   "source": [
    "b.groupby(lambda x: x % 2).starmap(lambda k, v: (k, max(v))).compute()"
   ]
  },
  {
   "cell_type": "markdown",
   "metadata": {},
   "source": [
    "### `foldby`"
   ]
  },
  {
   "cell_type": "markdown",
   "metadata": {},
   "source": [
    "Foldby can be quite odd at first.  It is similar to the following functions from other libraries:\n",
    "\n",
    "*  [`toolz.reduceby`](http://toolz.readthedocs.io/en/latest/streaming-analytics.html#streaming-split-apply-combine)\n",
    "*  [`pyspark.RDD.combineByKey`](http://abshinn.github.io/python/apache-spark/2014/10/11/using-combinebykey-in-apache-spark/)\n",
    "\n",
    "When using `foldby` you provide \n",
    "\n",
    "1.  A key function on which to group elements\n",
    "2.  A binary operator such as you would pass to `reduce` that you use to perform reduction per each group\n",
    "3.  A combine binary operator that can combine the results of two `reduce` calls on different parts of your dataset.\n",
    "\n",
    "Your reduction must be associative.  It will happen in parallel in each of the partitions of your dataset.  Then all of these intermediate results will be combined by the `combine` binary operator."
   ]
  },
  {
   "cell_type": "code",
   "execution_count": 22,
   "metadata": {
    "execution": {
     "iopub.execute_input": "2021-04-05T15:57:26.458960Z",
     "iopub.status.busy": "2021-04-05T15:57:26.458026Z",
     "iopub.status.idle": "2021-04-05T15:57:26.506925Z",
     "shell.execute_reply": "2021-04-05T15:57:26.507735Z"
    }
   },
   "outputs": [
    {
     "data": {
      "text/plain": [
       "[(0, 8), (1, 9)]"
      ]
     },
     "execution_count": 1,
     "metadata": {},
     "output_type": "execute_result"
    }
   ],
   "source": [
    "b.foldby(lambda x: x % 2, binop=max, combine=max).compute()"
   ]
  },
  {
   "cell_type": "markdown",
   "metadata": {},
   "source": [
    "### Example with account data"
   ]
  },
  {
   "cell_type": "markdown",
   "metadata": {},
   "source": [
    "We find the number of people with the same name."
   ]
  },
  {
   "cell_type": "code",
   "execution_count": 23,
   "metadata": {
    "execution": {
     "iopub.execute_input": "2021-04-05T15:57:26.515711Z",
     "iopub.status.busy": "2021-04-05T15:57:26.510084Z",
     "iopub.status.idle": "2021-04-05T15:57:32.669446Z",
     "shell.execute_reply": "2021-04-05T15:57:32.669831Z"
    }
   },
   "outputs": [
    {
     "name": "stdout",
     "output_type": "stream",
     "text": [
      "[('Alice', 104), ('Alice', 104), ('Alice', 111), ('Alice', 113), ('Bob', 69), ('Bob', 71), ('Bob', 77), ('Bob', 78), ('Charlie', 108), ('Charlie', 108), ('Charlie', 115), ('Charlie', 117), ('Dan', 112), ('Dan', 113), ('Dan', 119), ('Dan', 121), ('Edith', 167), ('Edith', 168), ('Edith', 181), ('Edith', 182), ('Frank', 169), ('Frank', 169), ('Frank', 312), ('George', 155), ('George', 168), ('George', 322), ('Hannah', 131), ('Hannah', 131), ('Hannah', 141), ('Hannah', 142), ('Ingrid', 120), ('Ingrid', 120), ('Ingrid', 130), ('Ingrid', 130), ('Jerry', 120), ('Jerry', 120), ('Jerry', 130), ('Jerry', 130), ('Kevin', 72), ('Kevin', 72), ('Kevin', 78), ('Kevin', 78), ('Laura', 176), ('Laura', 177), ('Laura', 189), ('Laura', 189), ('Michael', 82), ('Michael', 83), ('Michael', 90), ('Michael', 90), ('Norbert', 107), ('Norbert', 108), ('Norbert', 116), ('Norbert', 117), ('Oliver', 132), ('Oliver', 132), ('Oliver', 143), ('Oliver', 143), ('Patricia', 132), ('Patricia', 132), ('Patricia', 143), ('Patricia', 143), ('Quinn', 84), ('Quinn', 91), ('Quinn', 175), ('Ray', 60), ('Ray', 60), ('Ray', 64), ('Ray', 65), ('Sarah', 153), ('Sarah', 156), ('Sarah', 169), ('Sarah', 169), ('Tim', 153), ('Tim', 154), ('Tim', 167), ('Tim', 167), ('Ursula', 155), ('Ursula', 155), ('Ursula', 167), ('Ursula', 167), ('Victor', 83), ('Victor', 84), ('Victor', 89), ('Victor', 90), ('Wendy', 84), ('Wendy', 84), ('Wendy', 91), ('Wendy', 91), ('Xavier', 60), ('Xavier', 60), ('Xavier', 65), ('Xavier', 65), ('Yvonne', 117), ('Yvonne', 119), ('Yvonne', 127), ('Yvonne', 128), ('Zelda', 52), ('Zelda', 53), ('Zelda', 96)]\n",
      "CPU times: user 1.26 s, sys: 67.9 ms, total: 1.32 s\n",
      "Wall time: 6.15 s\n"
     ]
    }
   ],
   "source": [
    "%%time\n",
    "# Warning, this one takes a while...\n",
    "result = js.groupby(lambda item: item['name']).starmap(lambda k, v: (k, len(v))).compute()\n",
    "print(sorted(result))"
   ]
  },
  {
   "cell_type": "code",
   "execution_count": 24,
   "metadata": {
    "execution": {
     "iopub.execute_input": "2021-04-05T15:57:32.684488Z",
     "iopub.status.busy": "2021-04-05T15:57:32.683978Z",
     "iopub.status.idle": "2021-04-05T15:57:33.182435Z",
     "shell.execute_reply": "2021-04-05T15:57:33.181982Z"
    }
   },
   "outputs": [
    {
     "name": "stdout",
     "output_type": "stream",
     "text": [
      "[('Alice', 432), ('Bob', 295), ('Charlie', 448), ('Dan', 465), ('Edith', 698), ('Frank', 650), ('George', 645), ('Hannah', 545), ('Ingrid', 500), ('Jerry', 500), ('Kevin', 300), ('Laura', 731), ('Michael', 345), ('Norbert', 448), ('Oliver', 550), ('Patricia', 550), ('Quinn', 350), ('Ray', 249), ('Sarah', 647), ('Tim', 641), ('Ursula', 644), ('Victor', 346), ('Wendy', 350), ('Xavier', 250), ('Yvonne', 491), ('Zelda', 201)]\n",
      "CPU times: user 130 ms, sys: 11 ms, total: 141 ms\n",
      "Wall time: 499 ms\n"
     ]
    }
   ],
   "source": [
    "%%time\n",
    "# This one is comparatively fast and produces the same result.\n",
    "from operator import add\n",
    "def incr(tot, _):\n",
    "    return tot + 1\n",
    "\n",
    "result = js.foldby(key='name', \n",
    "                   binop=incr, \n",
    "                   initial=0, \n",
    "                   combine=add, \n",
    "                   combine_initial=0).compute()\n",
    "print(sorted(result))"
   ]
  },
  {
   "cell_type": "markdown",
   "metadata": {},
   "source": [
    "### Exercise: compute total amount per name"
   ]
  },
  {
   "cell_type": "markdown",
   "metadata": {},
   "source": [
    "We want to groupby (or foldby) the `name` key, then add up the all of the amounts for each name.\n",
    "\n",
    "Steps\n",
    "\n",
    "1.  Create a small function that, given a dictionary like \n",
    "\n",
    "        {'name': 'Alice', 'transactions': [{'amount': 1, 'id': 123}, {'amount': 2, 'id': 456}]}\n",
    "        \n",
    "    produces the sum of the amounts, e.g. `3`\n",
    "    \n",
    "2.  Slightly change the binary operator of the `foldby` example above so that the binary operator doesn't count the number of entries, but instead accumulates the sum of the amounts."
   ]
  },
  {
   "cell_type": "code",
   "execution_count": 25,
   "metadata": {
    "execution": {
     "iopub.execute_input": "2021-04-05T15:57:33.186103Z",
     "iopub.status.busy": "2021-04-05T15:57:33.185571Z",
     "iopub.status.idle": "2021-04-05T15:57:33.188337Z",
     "shell.execute_reply": "2021-04-05T15:57:33.188772Z"
    }
   },
   "outputs": [],
   "source": [
    "# Your code here..."
   ]
  },
  {
   "cell_type": "markdown",
   "metadata": {},
   "source": [
    "## DataFrames"
   ]
  },
  {
   "cell_type": "markdown",
   "metadata": {},
   "source": [
    "For the same reasons that Pandas is often faster than pure Python, `dask.dataframe` can be faster than `dask.bag`.  We will work more with DataFrames later, but from the point of view of a Bag, it is frequently the end-point of the \"messy\" part of data ingestion—once the data can be made into a data-frame, then complex split-apply-combine logic will become much more straight-forward and efficient.\n",
    "\n",
    "You can transform a bag with a simple tuple or flat dictionary structure into a `dask.dataframe` with the `to_dataframe` method."
   ]
  },
  {
   "cell_type": "code",
   "execution_count": 26,
   "metadata": {
    "execution": {
     "iopub.execute_input": "2021-04-05T15:57:33.192593Z",
     "iopub.status.busy": "2021-04-05T15:57:33.192110Z",
     "iopub.status.idle": "2021-04-05T15:57:33.885294Z",
     "shell.execute_reply": "2021-04-05T15:57:33.885736Z"
    }
   },
   "outputs": [
    {
     "data": {
      "text/html": [
       "<div>\n",
       "<style scoped>\n",
       "    .dataframe tbody tr th:only-of-type {\n",
       "        vertical-align: middle;\n",
       "    }\n",
       "\n",
       "    .dataframe tbody tr th {\n",
       "        vertical-align: top;\n",
       "    }\n",
       "\n",
       "    .dataframe thead th {\n",
       "        text-align: right;\n",
       "    }\n",
       "</style>\n",
       "<table border=\"1\" class=\"dataframe\">\n",
       "  <thead>\n",
       "    <tr style=\"text-align: right;\">\n",
       "      <th></th>\n",
       "      <th>id</th>\n",
       "      <th>name</th>\n",
       "      <th>transactions</th>\n",
       "    </tr>\n",
       "  </thead>\n",
       "  <tbody>\n",
       "    <tr>\n",
       "      <th>0</th>\n",
       "      <td>0</td>\n",
       "      <td>George</td>\n",
       "      <td>[{'transaction-id': 22, 'amount': 2007}, {'tra...</td>\n",
       "    </tr>\n",
       "    <tr>\n",
       "      <th>1</th>\n",
       "      <td>1</td>\n",
       "      <td>Oliver</td>\n",
       "      <td>[{'transaction-id': 750, 'amount': 305}, {'tra...</td>\n",
       "    </tr>\n",
       "    <tr>\n",
       "      <th>2</th>\n",
       "      <td>2</td>\n",
       "      <td>Oliver</td>\n",
       "      <td>[{'transaction-id': 3022, 'amount': 457}, {'tr...</td>\n",
       "    </tr>\n",
       "    <tr>\n",
       "      <th>3</th>\n",
       "      <td>3</td>\n",
       "      <td>Yvonne</td>\n",
       "      <td>[{'transaction-id': 128, 'amount': 825}, {'tra...</td>\n",
       "    </tr>\n",
       "    <tr>\n",
       "      <th>4</th>\n",
       "      <td>5</td>\n",
       "      <td>Xavier</td>\n",
       "      <td>[{'transaction-id': 24, 'amount': 4281}, {'tra...</td>\n",
       "    </tr>\n",
       "  </tbody>\n",
       "</table>\n",
       "</div>"
      ],
      "text/plain": [
       "   id    name                                       transactions\n",
       "0   0  George  [{'transaction-id': 22, 'amount': 2007}, {'tra...\n",
       "1   1  Oliver  [{'transaction-id': 750, 'amount': 305}, {'tra...\n",
       "2   2  Oliver  [{'transaction-id': 3022, 'amount': 457}, {'tr...\n",
       "3   3  Yvonne  [{'transaction-id': 128, 'amount': 825}, {'tra...\n",
       "4   5  Xavier  [{'transaction-id': 24, 'amount': 4281}, {'tra..."
      ]
     },
     "execution_count": 1,
     "metadata": {},
     "output_type": "execute_result"
    }
   ],
   "source": [
    "df1 = js.to_dataframe()\n",
    "df1.head()"
   ]
  },
  {
   "cell_type": "markdown",
   "metadata": {},
   "source": [
    "This now looks like a well-defined DataFrame, and we can apply Pandas-like computations to it efficiently."
   ]
  },
  {
   "cell_type": "markdown",
   "metadata": {},
   "source": [
    "Using a Dask DataFrame, how long does it take to do our prior computation of numbers of people with the same name?  It turns out that `dask.dataframe.groupby()` beats `dask.bag.groupby()` by more than an order of magnitude; but it still cannot match `dask.bag.foldby()` for this case."
   ]
  },
  {
   "cell_type": "code",
   "execution_count": 27,
   "metadata": {
    "execution": {
     "iopub.execute_input": "2021-04-05T15:57:33.912923Z",
     "iopub.status.busy": "2021-04-05T15:57:33.899458Z",
     "iopub.status.idle": "2021-04-05T15:57:35.214394Z",
     "shell.execute_reply": "2021-04-05T15:57:35.214810Z"
    }
   },
   "outputs": [
    {
     "name": "stdout",
     "output_type": "stream",
     "text": [
      "CPU times: user 156 ms, sys: 18.9 ms, total: 175 ms\n",
      "Wall time: 1.32 s\n"
     ]
    },
    {
     "data": {
      "text/plain": [
       "name\n",
       "Alice      432\n",
       "Bob        295\n",
       "Charlie    448\n",
       "Dan        465\n",
       "Edith      698\n",
       "Name: id, dtype: int64"
      ]
     },
     "execution_count": 1,
     "metadata": {},
     "output_type": "execute_result"
    }
   ],
   "source": [
    "%time df1.groupby('name').id.count().compute().head()"
   ]
  },
  {
   "cell_type": "markdown",
   "metadata": {},
   "source": [
    "### Denormalization"
   ]
  },
  {
   "cell_type": "markdown",
   "metadata": {},
   "source": [
    "This DataFrame format is less-than-optimal because the `transactions` column is filled with nested data so Pandas has to revert to `object` dtype, which is quite slow in Pandas.  Ideally we want to transform to a dataframe only after we have flattened our data so that each record is a single `int`, `string`, `float`, etc.."
   ]
  },
  {
   "cell_type": "code",
   "execution_count": 28,
   "metadata": {
    "execution": {
     "iopub.execute_input": "2021-04-05T15:57:35.222248Z",
     "iopub.status.busy": "2021-04-05T15:57:35.219690Z",
     "iopub.status.idle": "2021-04-05T15:57:35.253834Z",
     "shell.execute_reply": "2021-04-05T15:57:35.253369Z"
    }
   },
   "outputs": [
    {
     "data": {
      "text/plain": [
       "({'id': 0, 'name': 'George', 'amount': 2007, 'transaction-id': 22},\n",
       " {'id': 0, 'name': 'George', 'amount': 1853, 'transaction-id': 488},\n",
       " {'id': 0, 'name': 'George', 'amount': 1890, 'transaction-id': 507})"
      ]
     },
     "execution_count": 1,
     "metadata": {},
     "output_type": "execute_result"
    }
   ],
   "source": [
    "def denormalize(record):\n",
    "    # returns a list for each person, one item per transaction\n",
    "    return [{'id': record['id'], \n",
    "             'name': record['name'], \n",
    "             'amount': transaction['amount'], \n",
    "             'transaction-id': transaction['transaction-id']}\n",
    "            for transaction in record['transactions']]\n",
    "\n",
    "transactions = js.map(denormalize).flatten()\n",
    "transactions.take(3)"
   ]
  },
  {
   "cell_type": "code",
   "execution_count": 29,
   "metadata": {
    "execution": {
     "iopub.execute_input": "2021-04-05T15:57:35.259261Z",
     "iopub.status.busy": "2021-04-05T15:57:35.258621Z",
     "iopub.status.idle": "2021-04-05T15:57:35.341962Z",
     "shell.execute_reply": "2021-04-05T15:57:35.341493Z"
    }
   },
   "outputs": [
    {
     "data": {
      "text/html": [
       "<div>\n",
       "<style scoped>\n",
       "    .dataframe tbody tr th:only-of-type {\n",
       "        vertical-align: middle;\n",
       "    }\n",
       "\n",
       "    .dataframe tbody tr th {\n",
       "        vertical-align: top;\n",
       "    }\n",
       "\n",
       "    .dataframe thead th {\n",
       "        text-align: right;\n",
       "    }\n",
       "</style>\n",
       "<table border=\"1\" class=\"dataframe\">\n",
       "  <thead>\n",
       "    <tr style=\"text-align: right;\">\n",
       "      <th></th>\n",
       "      <th>id</th>\n",
       "      <th>name</th>\n",
       "      <th>amount</th>\n",
       "      <th>transaction-id</th>\n",
       "    </tr>\n",
       "  </thead>\n",
       "  <tbody>\n",
       "    <tr>\n",
       "      <th>0</th>\n",
       "      <td>0</td>\n",
       "      <td>George</td>\n",
       "      <td>2007</td>\n",
       "      <td>22</td>\n",
       "    </tr>\n",
       "    <tr>\n",
       "      <th>1</th>\n",
       "      <td>0</td>\n",
       "      <td>George</td>\n",
       "      <td>1853</td>\n",
       "      <td>488</td>\n",
       "    </tr>\n",
       "    <tr>\n",
       "      <th>2</th>\n",
       "      <td>0</td>\n",
       "      <td>George</td>\n",
       "      <td>1890</td>\n",
       "      <td>507</td>\n",
       "    </tr>\n",
       "    <tr>\n",
       "      <th>3</th>\n",
       "      <td>0</td>\n",
       "      <td>George</td>\n",
       "      <td>1677</td>\n",
       "      <td>508</td>\n",
       "    </tr>\n",
       "    <tr>\n",
       "      <th>4</th>\n",
       "      <td>0</td>\n",
       "      <td>George</td>\n",
       "      <td>1704</td>\n",
       "      <td>933</td>\n",
       "    </tr>\n",
       "  </tbody>\n",
       "</table>\n",
       "</div>"
      ],
      "text/plain": [
       "   id    name  amount  transaction-id\n",
       "0   0  George    2007              22\n",
       "1   0  George    1853             488\n",
       "2   0  George    1890             507\n",
       "3   0  George    1677             508\n",
       "4   0  George    1704             933"
      ]
     },
     "execution_count": 1,
     "metadata": {},
     "output_type": "execute_result"
    }
   ],
   "source": [
    "df = transactions.to_dataframe()\n",
    "df.head()"
   ]
  },
  {
   "cell_type": "code",
   "execution_count": 30,
   "metadata": {
    "execution": {
     "iopub.execute_input": "2021-04-05T15:57:35.356020Z",
     "iopub.status.busy": "2021-04-05T15:57:35.348479Z",
     "iopub.status.idle": "2021-04-05T15:57:36.441632Z",
     "shell.execute_reply": "2021-04-05T15:57:36.442661Z"
    }
   },
   "outputs": [
    {
     "name": "stdout",
     "output_type": "stream",
     "text": [
      "CPU times: user 167 ms, sys: 8.48 ms, total: 175 ms\n",
      "Wall time: 1.09 s\n"
     ]
    },
    {
     "data": {
      "text/plain": [
       "name\n",
       "Alice       11012\n",
       "Bob         12215\n",
       "Charlie     24925\n",
       "Dan         21426\n",
       "Edith       25683\n",
       "Frank       19134\n",
       "George      25757\n",
       "Hannah      25829\n",
       "Ingrid      21119\n",
       "Jerry       16432\n",
       "Kevin       11131\n",
       "Laura       39549\n",
       "Michael     18665\n",
       "Norbert     10560\n",
       "Oliver      20499\n",
       "Patricia    25378\n",
       "Quinn       17397\n",
       "Ray          5431\n",
       "Sarah       24409\n",
       "Tim         38037\n",
       "Ursula      14400\n",
       "Victor      18164\n",
       "Wendy       13919\n",
       "Xavier      16470\n",
       "Yvonne      15887\n",
       "Zelda        6572\n",
       "Name: transaction-id, dtype: int64"
      ]
     },
     "execution_count": 1,
     "metadata": {},
     "output_type": "execute_result"
    }
   ],
   "source": [
    "%%time\n",
    "# number of transactions per name\n",
    "# note that the time here includes the data load and ingestion\n",
    "df.groupby('name')['transaction-id'].count().compute()"
   ]
  },
  {
   "cell_type": "markdown",
   "metadata": {},
   "source": [
    "## Limitations"
   ]
  },
  {
   "cell_type": "markdown",
   "metadata": {},
   "source": [
    "Bags provide very general computation (any Python function.)  This generality\n",
    "comes at cost.  Bags have the following known limitations\n",
    "\n",
    "1.  Bag operations tend to be slower than array/dataframe computations in the\n",
    "    same way that Python tends to be slower than NumPy/Pandas\n",
    "2.  ``Bag.groupby`` is slow.  You should try to use ``Bag.foldby`` if possible.\n",
    "    Using ``Bag.foldby`` requires more thought. Even better, consider creating\n",
    "    a normalised dataframe."
   ]
  },
  {
   "cell_type": "markdown",
   "metadata": {},
   "source": [
    "## Learn More\n",
    "\n",
    "* [Bag documentation](https://docs.dask.org/en/latest/bag.html)\n",
    "* [Bag screencast](https://youtu.be/-qIiJ1XtSv0)\n",
    "* [Bag API](https://docs.dask.org/en/latest/bag-api.html)\n",
    "* [Bag examples](https://examples.dask.org/bag.html)"
   ]
  },
  {
   "cell_type": "markdown",
   "metadata": {},
   "source": [
    "## Shutdown"
   ]
  },
  {
   "cell_type": "code",
   "execution_count": 31,
   "metadata": {
    "execution": {
     "iopub.execute_input": "2021-04-05T15:57:36.447217Z",
     "iopub.status.busy": "2021-04-05T15:57:36.446537Z",
     "iopub.status.idle": "2021-04-05T15:57:37.874562Z",
     "shell.execute_reply": "2021-04-05T15:57:37.873631Z"
    }
   },
   "outputs": [],
   "source": [
    "client.shutdown()"
   ]
  }
 ],
 "metadata": {
  "anaconda-cloud": {},
  "kernelspec": {
   "display_name": "Python 3",
   "language": "python",
   "name": "python3"
  },
  "language_info": {
   "codemirror_mode": {
    "name": "ipython",
    "version": 3
   },
   "file_extension": ".py",
   "mimetype": "text/x-python",
   "name": "python",
   "nbconvert_exporter": "python",
   "pygments_lexer": "ipython3",
   "version": "3.8.8"
  }
 },
 "nbformat": 4,
 "nbformat_minor": 4
}
