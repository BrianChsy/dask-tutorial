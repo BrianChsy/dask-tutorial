{
 "cells": [
  {
   "cell_type": "markdown",
   "metadata": {},
   "source": [
    "<img src=\"images/dask_horizontal.svg\" align=\"right\" width=\"30%\">"
   ]
  },
  {
   "cell_type": "markdown",
   "metadata": {},
   "source": [
    "# Bag: Parallel Lists for semi-structured data"
   ]
  },
  {
   "cell_type": "markdown",
   "metadata": {},
   "source": [
    "Dask-bag excels in processing data that can be represented as a sequence of arbitrary inputs. We'll refer to this as \"messy\" data, because it can contain complex nested structures, missing fields, mixtures of data types, etc. The *functional* programming style fits very nicely with standard Python iteration, such as can be found in the `itertools` module.\n",
    "\n",
    "Messy data is often encountered at the beginning of data processing pipelines when large volumes of raw data are first consumed. The initial set of data might be JSON, CSV, XML, or any other format that does not enforce strict structure and datatypes.\n",
    "For this reason, the initial data massaging and processing is often done with Python `list`s, `dict`s, and `set`s.\n",
    "\n",
    "These core data structures are optimized for general-purpose storage and processing.  Adding streaming computation with iterators/generator expressions or libraries like `itertools` or [`toolz`](https://toolz.readthedocs.io/en/latest/) let us process large volumes in a small space.  If we combine this with parallel processing then we can churn through a fair amount of data.\n",
    "\n",
    "Dask.bag is a high level Dask collection to automate common workloads of this form.  In a nutshell\n",
    "\n",
    "    dask.bag = map, filter, toolz + parallel execution\n",
    "    \n",
    "**Related Documentation**\n",
    "\n",
    "* [Bag documentation](https://docs.dask.org/en/latest/bag.html)\n",
    "* [Bag screencast](https://youtu.be/-qIiJ1XtSv0)\n",
    "* [Bag API](https://docs.dask.org/en/latest/bag-api.html)\n",
    "* [Bag examples](https://examples.dask.org/bag.html)"
   ]
  },
  {
   "cell_type": "markdown",
   "metadata": {},
   "source": [
    "## Create data"
   ]
  },
  {
   "cell_type": "code",
   "execution_count": 1,
   "metadata": {
    "execution": {
     "iopub.execute_input": "2021-12-10T20:50:59.689966Z",
     "iopub.status.busy": "2021-12-10T20:50:59.689457Z",
     "iopub.status.idle": "2021-12-10T20:51:00.244580Z",
     "shell.execute_reply": "2021-12-10T20:51:00.244057Z"
    }
   },
   "outputs": [],
   "source": [
    "%run prep.py -d accounts"
   ]
  },
  {
   "cell_type": "markdown",
   "metadata": {},
   "source": [
    "## Setup"
   ]
  },
  {
   "cell_type": "markdown",
   "metadata": {},
   "source": [
    "Again, we'll use the distributed scheduler. Schedulers will be explained in depth [later](05_distributed.ipynb)."
   ]
  },
  {
   "cell_type": "code",
   "execution_count": 2,
   "metadata": {
    "execution": {
     "iopub.execute_input": "2021-12-10T20:51:00.248286Z",
     "iopub.status.busy": "2021-12-10T20:51:00.247822Z",
     "iopub.status.idle": "2021-12-10T20:51:02.756224Z",
     "shell.execute_reply": "2021-12-10T20:51:02.755815Z"
    }
   },
   "outputs": [],
   "source": [
    "from dask.distributed import Client\n",
    "\n",
    "client = Client(n_workers=4)"
   ]
  },
  {
   "cell_type": "markdown",
   "metadata": {},
   "source": [
    "## Creation"
   ]
  },
  {
   "cell_type": "markdown",
   "metadata": {},
   "source": [
    "You can create a `Bag` from a Python sequence, from files, from data on S3, etc.\n",
    "We demonstrate using `.take()` to show elements of the data. (Doing `.take(1)` results in a tuple with one element)\n",
    "\n",
    "Note that the data are partitioned into blocks, and there are many items per block. In the first example, the two partitions contain five elements each, and in the following two, each file is partitioned into one or more bytes blocks."
   ]
  },
  {
   "cell_type": "code",
   "execution_count": 3,
   "metadata": {
    "execution": {
     "iopub.execute_input": "2021-12-10T20:51:02.761007Z",
     "iopub.status.busy": "2021-12-10T20:51:02.760563Z",
     "iopub.status.idle": "2021-12-10T20:51:03.034257Z",
     "shell.execute_reply": "2021-12-10T20:51:03.032957Z"
    }
   },
   "outputs": [
    {
     "data": {
      "text/plain": [
       "(1, 2, 3)"
      ]
     },
     "execution_count": 3,
     "metadata": {},
     "output_type": "execute_result"
    }
   ],
   "source": [
    "# each element is an integer\n",
    "import dask.bag as db\n",
    "b = db.from_sequence([1, 2, 3, 4, 5, 6, 7, 8, 9, 10], npartitions=2)\n",
    "b.take(3)"
   ]
  },
  {
   "cell_type": "code",
   "execution_count": 4,
   "metadata": {
    "execution": {
     "iopub.execute_input": "2021-12-10T20:51:03.039715Z",
     "iopub.status.busy": "2021-12-10T20:51:03.038196Z",
     "iopub.status.idle": "2021-12-10T20:51:03.139827Z",
     "shell.execute_reply": "2021-12-10T20:51:03.140912Z"
    }
   },
   "outputs": [
    {
     "data": {
      "text/plain": [
       "('{\"id\": 0, \"name\": \"Oliver\", \"transactions\": [{\"transaction-id\": 123, \"amount\": 344}, {\"transaction-id\": 179, \"amount\": 355}, {\"transaction-id\": 317, \"amount\": 310}, {\"transaction-id\": 412, \"amount\": 335}, {\"transaction-id\": 704, \"amount\": 340}, {\"transaction-id\": 769, \"amount\": 348}, {\"transaction-id\": 818, \"amount\": 348}, {\"transaction-id\": 1000, \"amount\": 341}, {\"transaction-id\": 1256, \"amount\": 350}, {\"transaction-id\": 1307, \"amount\": 367}, {\"transaction-id\": 1494, \"amount\": 362}, {\"transaction-id\": 1557, \"amount\": 326}, {\"transaction-id\": 1582, \"amount\": 337}, {\"transaction-id\": 1621, \"amount\": 371}, {\"transaction-id\": 1645, \"amount\": 311}, {\"transaction-id\": 1908, \"amount\": 367}, {\"transaction-id\": 2125, \"amount\": 287}, {\"transaction-id\": 2183, \"amount\": 339}, {\"transaction-id\": 2353, \"amount\": 353}, {\"transaction-id\": 2379, \"amount\": 355}, {\"transaction-id\": 2424, \"amount\": 343}, {\"transaction-id\": 2577, \"amount\": 297}, {\"transaction-id\": 2583, \"amount\": 325}, {\"transaction-id\": 2601, \"amount\": 320}, {\"transaction-id\": 2988, \"amount\": 356}, {\"transaction-id\": 3253, \"amount\": 362}, {\"transaction-id\": 3309, \"amount\": 355}, {\"transaction-id\": 3405, \"amount\": 287}, {\"transaction-id\": 3600, \"amount\": 337}, {\"transaction-id\": 3946, \"amount\": 342}, {\"transaction-id\": 4038, \"amount\": 353}, {\"transaction-id\": 4201, \"amount\": 353}, {\"transaction-id\": 4235, \"amount\": 386}, {\"transaction-id\": 4340, \"amount\": 353}, {\"transaction-id\": 4621, \"amount\": 303}, {\"transaction-id\": 4708, \"amount\": 307}, {\"transaction-id\": 4861, \"amount\": 345}, {\"transaction-id\": 4866, \"amount\": 346}, {\"transaction-id\": 4877, \"amount\": 324}, {\"transaction-id\": 5008, \"amount\": 300}, {\"transaction-id\": 5177, \"amount\": 354}, {\"transaction-id\": 5202, \"amount\": 335}, {\"transaction-id\": 5637, \"amount\": 342}, {\"transaction-id\": 5730, \"amount\": 398}, {\"transaction-id\": 5741, \"amount\": 323}, {\"transaction-id\": 5998, \"amount\": 330}, {\"transaction-id\": 6015, \"amount\": 337}, {\"transaction-id\": 6124, \"amount\": 385}, {\"transaction-id\": 6209, \"amount\": 357}, {\"transaction-id\": 6289, \"amount\": 344}, {\"transaction-id\": 6429, \"amount\": 309}, {\"transaction-id\": 6501, \"amount\": 316}, {\"transaction-id\": 6710, \"amount\": 320}, {\"transaction-id\": 6803, \"amount\": 324}, {\"transaction-id\": 7290, \"amount\": 326}, {\"transaction-id\": 7299, \"amount\": 340}, {\"transaction-id\": 7563, \"amount\": 321}, {\"transaction-id\": 7619, \"amount\": 328}, {\"transaction-id\": 7678, \"amount\": 329}, {\"transaction-id\": 7837, \"amount\": 322}, {\"transaction-id\": 7892, \"amount\": 358}, {\"transaction-id\": 8983, \"amount\": 332}, {\"transaction-id\": 9124, \"amount\": 364}, {\"transaction-id\": 9153, \"amount\": 344}, {\"transaction-id\": 9234, \"amount\": 336}, {\"transaction-id\": 9717, \"amount\": 332}, {\"transaction-id\": 9782, \"amount\": 335}]}\\n',)"
      ]
     },
     "execution_count": 4,
     "metadata": {},
     "output_type": "execute_result"
    }
   ],
   "source": [
    "# each element is a text file, where each line is a JSON object\n",
    "# note that the compression is handled automatically\n",
    "import os\n",
    "b = db.read_text(os.path.join('data', 'accounts.*.json.gz'))\n",
    "b.take(1)"
   ]
  },
  {
   "cell_type": "code",
   "execution_count": 5,
   "metadata": {
    "execution": {
     "iopub.execute_input": "2021-12-10T20:51:03.147222Z",
     "iopub.status.busy": "2021-12-10T20:51:03.146039Z",
     "iopub.status.idle": "2021-12-10T20:51:03.149353Z",
     "shell.execute_reply": "2021-12-10T20:51:03.149786Z"
    }
   },
   "outputs": [
    {
     "data": {
      "text/plain": [
       "'s3://dask-data/nyc-taxi/2015/yellow_tripdata_2015-01.csv'"
      ]
     },
     "execution_count": 5,
     "metadata": {},
     "output_type": "execute_result"
    }
   ],
   "source": [
    "# Edit sources.py to configure source locations\n",
    "import sources\n",
    "sources.bag_url"
   ]
  },
  {
   "cell_type": "code",
   "execution_count": 6,
   "metadata": {
    "execution": {
     "iopub.execute_input": "2021-12-10T20:51:03.154513Z",
     "iopub.status.busy": "2021-12-10T20:51:03.153964Z",
     "iopub.status.idle": "2021-12-10T20:51:04.683785Z",
     "shell.execute_reply": "2021-12-10T20:51:04.683310Z"
    }
   },
   "outputs": [
    {
     "data": {
      "text/plain": [
       "('VendorID,tpep_pickup_datetime,tpep_dropoff_datetime,passenger_count,trip_distance,pickup_longitude,pickup_latitude,RateCodeID,store_and_fwd_flag,dropoff_longitude,dropoff_latitude,payment_type,fare_amount,extra,mta_tax,tip_amount,tolls_amount,improvement_surcharge,total_amount\\n',)"
      ]
     },
     "execution_count": 6,
     "metadata": {},
     "output_type": "execute_result"
    }
   ],
   "source": [
    "# Requires `s3fs` library\n",
    "# each partition is a remote CSV text file\n",
    "b = db.read_text(sources.bag_url,\n",
    "                 storage_options={'anon': True})\n",
    "b.take(1)"
   ]
  },
  {
   "cell_type": "markdown",
   "metadata": {},
   "source": [
    "## Manipulation"
   ]
  },
  {
   "cell_type": "markdown",
   "metadata": {},
   "source": [
    "`Bag` objects hold the standard functional API found in projects like the Python standard library, `toolz`, or `pyspark`, including `map`, `filter`, `groupby`, etc..\n",
    "\n",
    "Operations on `Bag` objects create new bags.  Call the `.compute()` method to trigger execution, as we saw for `Delayed` objects.  "
   ]
  },
  {
   "cell_type": "code",
   "execution_count": 7,
   "metadata": {
    "execution": {
     "iopub.execute_input": "2021-12-10T20:51:04.692766Z",
     "iopub.status.busy": "2021-12-10T20:51:04.691587Z",
     "iopub.status.idle": "2021-12-10T20:51:04.699358Z",
     "shell.execute_reply": "2021-12-10T20:51:04.699769Z"
    }
   },
   "outputs": [
    {
     "data": {
      "text/plain": [
       "dask.bag<lambda, npartitions=10>"
      ]
     },
     "execution_count": 7,
     "metadata": {},
     "output_type": "execute_result"
    }
   ],
   "source": [
    "def is_even(n):\n",
    "    return n % 2 == 0\n",
    "\n",
    "b = db.from_sequence([1, 2, 3, 4, 5, 6, 7, 8, 9, 10])\n",
    "c = b.filter(is_even).map(lambda x: x ** 2)\n",
    "c"
   ]
  },
  {
   "cell_type": "code",
   "execution_count": 8,
   "metadata": {
    "execution": {
     "iopub.execute_input": "2021-12-10T20:51:04.714521Z",
     "iopub.status.busy": "2021-12-10T20:51:04.702737Z",
     "iopub.status.idle": "2021-12-10T20:51:04.886255Z",
     "shell.execute_reply": "2021-12-10T20:51:04.885775Z"
    }
   },
   "outputs": [
    {
     "data": {
      "text/plain": [
       "[4, 16, 36, 64, 100]"
      ]
     },
     "execution_count": 8,
     "metadata": {},
     "output_type": "execute_result"
    }
   ],
   "source": [
    "# blocking form: wait for completion (which is very fast in this case)\n",
    "c.compute()"
   ]
  },
  {
   "cell_type": "markdown",
   "metadata": {},
   "source": [
    "### Example: Accounts JSON data"
   ]
  },
  {
   "cell_type": "markdown",
   "metadata": {},
   "source": [
    "We've created a fake dataset of gzipped JSON data in your data directory.  This is like the example used in the `DataFrame` example we will see later, except that it has bundled up all of the entries for each individual `id` into a single record.  This is similar to data that you might collect off of a document store database or a web API.\n",
    "\n",
    "Each line is a JSON encoded dictionary with the following keys\n",
    "\n",
    "*  id: Unique identifier of the customer\n",
    "*  name: Name of the customer\n",
    "*  transactions: List of `transaction-id`, `amount` pairs, one for each transaction for the customer in that file"
   ]
  },
  {
   "cell_type": "code",
   "execution_count": 9,
   "metadata": {
    "execution": {
     "iopub.execute_input": "2021-12-10T20:51:04.891378Z",
     "iopub.status.busy": "2021-12-10T20:51:04.890822Z",
     "iopub.status.idle": "2021-12-10T20:51:04.923742Z",
     "shell.execute_reply": "2021-12-10T20:51:04.924475Z"
    }
   },
   "outputs": [
    {
     "data": {
      "text/plain": [
       "('{\"id\": 0, \"name\": \"Oliver\", \"transactions\": [{\"transaction-id\": 123, \"amount\": 344}, {\"transaction-id\": 179, \"amount\": 355}, {\"transaction-id\": 317, \"amount\": 310}, {\"transaction-id\": 412, \"amount\": 335}, {\"transaction-id\": 704, \"amount\": 340}, {\"transaction-id\": 769, \"amount\": 348}, {\"transaction-id\": 818, \"amount\": 348}, {\"transaction-id\": 1000, \"amount\": 341}, {\"transaction-id\": 1256, \"amount\": 350}, {\"transaction-id\": 1307, \"amount\": 367}, {\"transaction-id\": 1494, \"amount\": 362}, {\"transaction-id\": 1557, \"amount\": 326}, {\"transaction-id\": 1582, \"amount\": 337}, {\"transaction-id\": 1621, \"amount\": 371}, {\"transaction-id\": 1645, \"amount\": 311}, {\"transaction-id\": 1908, \"amount\": 367}, {\"transaction-id\": 2125, \"amount\": 287}, {\"transaction-id\": 2183, \"amount\": 339}, {\"transaction-id\": 2353, \"amount\": 353}, {\"transaction-id\": 2379, \"amount\": 355}, {\"transaction-id\": 2424, \"amount\": 343}, {\"transaction-id\": 2577, \"amount\": 297}, {\"transaction-id\": 2583, \"amount\": 325}, {\"transaction-id\": 2601, \"amount\": 320}, {\"transaction-id\": 2988, \"amount\": 356}, {\"transaction-id\": 3253, \"amount\": 362}, {\"transaction-id\": 3309, \"amount\": 355}, {\"transaction-id\": 3405, \"amount\": 287}, {\"transaction-id\": 3600, \"amount\": 337}, {\"transaction-id\": 3946, \"amount\": 342}, {\"transaction-id\": 4038, \"amount\": 353}, {\"transaction-id\": 4201, \"amount\": 353}, {\"transaction-id\": 4235, \"amount\": 386}, {\"transaction-id\": 4340, \"amount\": 353}, {\"transaction-id\": 4621, \"amount\": 303}, {\"transaction-id\": 4708, \"amount\": 307}, {\"transaction-id\": 4861, \"amount\": 345}, {\"transaction-id\": 4866, \"amount\": 346}, {\"transaction-id\": 4877, \"amount\": 324}, {\"transaction-id\": 5008, \"amount\": 300}, {\"transaction-id\": 5177, \"amount\": 354}, {\"transaction-id\": 5202, \"amount\": 335}, {\"transaction-id\": 5637, \"amount\": 342}, {\"transaction-id\": 5730, \"amount\": 398}, {\"transaction-id\": 5741, \"amount\": 323}, {\"transaction-id\": 5998, \"amount\": 330}, {\"transaction-id\": 6015, \"amount\": 337}, {\"transaction-id\": 6124, \"amount\": 385}, {\"transaction-id\": 6209, \"amount\": 357}, {\"transaction-id\": 6289, \"amount\": 344}, {\"transaction-id\": 6429, \"amount\": 309}, {\"transaction-id\": 6501, \"amount\": 316}, {\"transaction-id\": 6710, \"amount\": 320}, {\"transaction-id\": 6803, \"amount\": 324}, {\"transaction-id\": 7290, \"amount\": 326}, {\"transaction-id\": 7299, \"amount\": 340}, {\"transaction-id\": 7563, \"amount\": 321}, {\"transaction-id\": 7619, \"amount\": 328}, {\"transaction-id\": 7678, \"amount\": 329}, {\"transaction-id\": 7837, \"amount\": 322}, {\"transaction-id\": 7892, \"amount\": 358}, {\"transaction-id\": 8983, \"amount\": 332}, {\"transaction-id\": 9124, \"amount\": 364}, {\"transaction-id\": 9153, \"amount\": 344}, {\"transaction-id\": 9234, \"amount\": 336}, {\"transaction-id\": 9717, \"amount\": 332}, {\"transaction-id\": 9782, \"amount\": 335}]}\\n',\n",
       " '{\"id\": 1, \"name\": \"Patricia\", \"transactions\": [{\"transaction-id\": 208, \"amount\": 2804}, {\"transaction-id\": 448, \"amount\": 2692}, {\"transaction-id\": 628, \"amount\": 2936}, {\"transaction-id\": 1048, \"amount\": 3094}, {\"transaction-id\": 1328, \"amount\": 2885}, {\"transaction-id\": 1444, \"amount\": 2803}, {\"transaction-id\": 1825, \"amount\": 2783}, {\"transaction-id\": 2016, \"amount\": 2944}, {\"transaction-id\": 2879, \"amount\": 2838}, {\"transaction-id\": 2917, \"amount\": 2664}, {\"transaction-id\": 3029, \"amount\": 2720}, {\"transaction-id\": 3081, \"amount\": 2846}, {\"transaction-id\": 3142, \"amount\": 2888}, {\"transaction-id\": 3338, \"amount\": 2688}, {\"transaction-id\": 3944, \"amount\": 2931}, {\"transaction-id\": 4339, \"amount\": 3034}, {\"transaction-id\": 4550, \"amount\": 2724}, {\"transaction-id\": 4611, \"amount\": 2750}, {\"transaction-id\": 4686, \"amount\": 3018}, {\"transaction-id\": 4854, \"amount\": 2946}, {\"transaction-id\": 5034, \"amount\": 2823}, {\"transaction-id\": 5472, \"amount\": 2703}, {\"transaction-id\": 5526, \"amount\": 2775}, {\"transaction-id\": 5616, \"amount\": 2707}, {\"transaction-id\": 5703, \"amount\": 3028}, {\"transaction-id\": 6078, \"amount\": 2925}, {\"transaction-id\": 6365, \"amount\": 2948}, {\"transaction-id\": 6464, \"amount\": 2895}, {\"transaction-id\": 6608, \"amount\": 2812}, {\"transaction-id\": 6758, \"amount\": 2794}, {\"transaction-id\": 7031, \"amount\": 2894}, {\"transaction-id\": 7298, \"amount\": 2862}, {\"transaction-id\": 7611, \"amount\": 2896}, {\"transaction-id\": 7761, \"amount\": 2955}, {\"transaction-id\": 7887, \"amount\": 2907}, {\"transaction-id\": 8233, \"amount\": 2879}, {\"transaction-id\": 8277, \"amount\": 2876}, {\"transaction-id\": 8927, \"amount\": 2640}, {\"transaction-id\": 9424, \"amount\": 2719}, {\"transaction-id\": 9688, \"amount\": 2818}, {\"transaction-id\": 9767, \"amount\": 2641}, {\"transaction-id\": 9985, \"amount\": 2974}]}\\n',\n",
       " '{\"id\": 2, \"name\": \"Quinn\", \"transactions\": [{\"transaction-id\": 78, \"amount\": 627}, {\"transaction-id\": 181, \"amount\": 516}, {\"transaction-id\": 232, \"amount\": 635}, {\"transaction-id\": 307, \"amount\": 645}, {\"transaction-id\": 315, \"amount\": 559}, {\"transaction-id\": 513, \"amount\": 369}, {\"transaction-id\": 600, \"amount\": 263}, {\"transaction-id\": 706, \"amount\": 73}, {\"transaction-id\": 799, \"amount\": 641}, {\"transaction-id\": 1209, \"amount\": 1097}, {\"transaction-id\": 1281, \"amount\": 45}, {\"transaction-id\": 1716, \"amount\": 837}, {\"transaction-id\": 2068, \"amount\": 674}, {\"transaction-id\": 2181, \"amount\": 477}, {\"transaction-id\": 2290, \"amount\": 281}, {\"transaction-id\": 2432, \"amount\": 662}, {\"transaction-id\": 2488, \"amount\": 842}, {\"transaction-id\": 2490, \"amount\": 544}, {\"transaction-id\": 2625, \"amount\": 761}, {\"transaction-id\": 2837, \"amount\": 1174}, {\"transaction-id\": 3199, \"amount\": 757}, {\"transaction-id\": 3399, \"amount\": 520}, {\"transaction-id\": 3481, \"amount\": 193}, {\"transaction-id\": 3639, \"amount\": 199}, {\"transaction-id\": 3766, \"amount\": 526}, {\"transaction-id\": 3907, \"amount\": 451}, {\"transaction-id\": 4065, \"amount\": 760}, {\"transaction-id\": 4130, \"amount\": 230}, {\"transaction-id\": 4409, \"amount\": 656}, {\"transaction-id\": 4449, \"amount\": 456}, {\"transaction-id\": 4949, \"amount\": 493}, {\"transaction-id\": 5031, \"amount\": 881}, {\"transaction-id\": 5227, \"amount\": 1132}, {\"transaction-id\": 5297, \"amount\": 539}, {\"transaction-id\": 5390, \"amount\": 465}, {\"transaction-id\": 5443, \"amount\": 311}, {\"transaction-id\": 5841, \"amount\": 1053}, {\"transaction-id\": 5986, \"amount\": 763}, {\"transaction-id\": 6159, \"amount\": 946}, {\"transaction-id\": 6160, \"amount\": 451}, {\"transaction-id\": 6265, \"amount\": 771}, {\"transaction-id\": 6284, \"amount\": 304}, {\"transaction-id\": 6430, \"amount\": 941}, {\"transaction-id\": 6648, \"amount\": 819}, {\"transaction-id\": 6818, \"amount\": 863}, {\"transaction-id\": 6967, \"amount\": 589}, {\"transaction-id\": 7098, \"amount\": 496}, {\"transaction-id\": 7450, \"amount\": 1073}, {\"transaction-id\": 7787, \"amount\": 320}, {\"transaction-id\": 8180, \"amount\": 691}, {\"transaction-id\": 8254, \"amount\": 471}, {\"transaction-id\": 8355, \"amount\": 1149}, {\"transaction-id\": 8426, \"amount\": 480}, {\"transaction-id\": 8626, \"amount\": 678}, {\"transaction-id\": 8630, \"amount\": 752}, {\"transaction-id\": 8671, \"amount\": 732}, {\"transaction-id\": 8753, \"amount\": 534}, {\"transaction-id\": 8892, \"amount\": 174}, {\"transaction-id\": 9118, \"amount\": 201}, {\"transaction-id\": 9664, \"amount\": 871}, {\"transaction-id\": 9849, \"amount\": 457}, {\"transaction-id\": 9860, \"amount\": 828}]}\\n')"
      ]
     },
     "execution_count": 9,
     "metadata": {},
     "output_type": "execute_result"
    }
   ],
   "source": [
    "filename = os.path.join('data', 'accounts.*.json.gz')\n",
    "lines = db.read_text(filename)\n",
    "lines.take(3)"
   ]
  },
  {
   "cell_type": "markdown",
   "metadata": {},
   "source": [
    "Our data comes out of the file as lines of text. Notice that file decompression happened automatically. We can make this data look more reasonable by mapping the `json.loads` function onto our bag."
   ]
  },
  {
   "cell_type": "code",
   "execution_count": 10,
   "metadata": {
    "execution": {
     "iopub.execute_input": "2021-12-10T20:51:04.934379Z",
     "iopub.status.busy": "2021-12-10T20:51:04.927387Z",
     "iopub.status.idle": "2021-12-10T20:51:04.965462Z",
     "shell.execute_reply": "2021-12-10T20:51:04.964576Z"
    }
   },
   "outputs": [
    {
     "data": {
      "text/plain": [
       "({'id': 0,\n",
       "  'name': 'Oliver',\n",
       "  'transactions': [{'transaction-id': 123, 'amount': 344},\n",
       "   {'transaction-id': 179, 'amount': 355},\n",
       "   {'transaction-id': 317, 'amount': 310},\n",
       "   {'transaction-id': 412, 'amount': 335},\n",
       "   {'transaction-id': 704, 'amount': 340},\n",
       "   {'transaction-id': 769, 'amount': 348},\n",
       "   {'transaction-id': 818, 'amount': 348},\n",
       "   {'transaction-id': 1000, 'amount': 341},\n",
       "   {'transaction-id': 1256, 'amount': 350},\n",
       "   {'transaction-id': 1307, 'amount': 367},\n",
       "   {'transaction-id': 1494, 'amount': 362},\n",
       "   {'transaction-id': 1557, 'amount': 326},\n",
       "   {'transaction-id': 1582, 'amount': 337},\n",
       "   {'transaction-id': 1621, 'amount': 371},\n",
       "   {'transaction-id': 1645, 'amount': 311},\n",
       "   {'transaction-id': 1908, 'amount': 367},\n",
       "   {'transaction-id': 2125, 'amount': 287},\n",
       "   {'transaction-id': 2183, 'amount': 339},\n",
       "   {'transaction-id': 2353, 'amount': 353},\n",
       "   {'transaction-id': 2379, 'amount': 355},\n",
       "   {'transaction-id': 2424, 'amount': 343},\n",
       "   {'transaction-id': 2577, 'amount': 297},\n",
       "   {'transaction-id': 2583, 'amount': 325},\n",
       "   {'transaction-id': 2601, 'amount': 320},\n",
       "   {'transaction-id': 2988, 'amount': 356},\n",
       "   {'transaction-id': 3253, 'amount': 362},\n",
       "   {'transaction-id': 3309, 'amount': 355},\n",
       "   {'transaction-id': 3405, 'amount': 287},\n",
       "   {'transaction-id': 3600, 'amount': 337},\n",
       "   {'transaction-id': 3946, 'amount': 342},\n",
       "   {'transaction-id': 4038, 'amount': 353},\n",
       "   {'transaction-id': 4201, 'amount': 353},\n",
       "   {'transaction-id': 4235, 'amount': 386},\n",
       "   {'transaction-id': 4340, 'amount': 353},\n",
       "   {'transaction-id': 4621, 'amount': 303},\n",
       "   {'transaction-id': 4708, 'amount': 307},\n",
       "   {'transaction-id': 4861, 'amount': 345},\n",
       "   {'transaction-id': 4866, 'amount': 346},\n",
       "   {'transaction-id': 4877, 'amount': 324},\n",
       "   {'transaction-id': 5008, 'amount': 300},\n",
       "   {'transaction-id': 5177, 'amount': 354},\n",
       "   {'transaction-id': 5202, 'amount': 335},\n",
       "   {'transaction-id': 5637, 'amount': 342},\n",
       "   {'transaction-id': 5730, 'amount': 398},\n",
       "   {'transaction-id': 5741, 'amount': 323},\n",
       "   {'transaction-id': 5998, 'amount': 330},\n",
       "   {'transaction-id': 6015, 'amount': 337},\n",
       "   {'transaction-id': 6124, 'amount': 385},\n",
       "   {'transaction-id': 6209, 'amount': 357},\n",
       "   {'transaction-id': 6289, 'amount': 344},\n",
       "   {'transaction-id': 6429, 'amount': 309},\n",
       "   {'transaction-id': 6501, 'amount': 316},\n",
       "   {'transaction-id': 6710, 'amount': 320},\n",
       "   {'transaction-id': 6803, 'amount': 324},\n",
       "   {'transaction-id': 7290, 'amount': 326},\n",
       "   {'transaction-id': 7299, 'amount': 340},\n",
       "   {'transaction-id': 7563, 'amount': 321},\n",
       "   {'transaction-id': 7619, 'amount': 328},\n",
       "   {'transaction-id': 7678, 'amount': 329},\n",
       "   {'transaction-id': 7837, 'amount': 322},\n",
       "   {'transaction-id': 7892, 'amount': 358},\n",
       "   {'transaction-id': 8983, 'amount': 332},\n",
       "   {'transaction-id': 9124, 'amount': 364},\n",
       "   {'transaction-id': 9153, 'amount': 344},\n",
       "   {'transaction-id': 9234, 'amount': 336},\n",
       "   {'transaction-id': 9717, 'amount': 332},\n",
       "   {'transaction-id': 9782, 'amount': 335}]},\n",
       " {'id': 1,\n",
       "  'name': 'Patricia',\n",
       "  'transactions': [{'transaction-id': 208, 'amount': 2804},\n",
       "   {'transaction-id': 448, 'amount': 2692},\n",
       "   {'transaction-id': 628, 'amount': 2936},\n",
       "   {'transaction-id': 1048, 'amount': 3094},\n",
       "   {'transaction-id': 1328, 'amount': 2885},\n",
       "   {'transaction-id': 1444, 'amount': 2803},\n",
       "   {'transaction-id': 1825, 'amount': 2783},\n",
       "   {'transaction-id': 2016, 'amount': 2944},\n",
       "   {'transaction-id': 2879, 'amount': 2838},\n",
       "   {'transaction-id': 2917, 'amount': 2664},\n",
       "   {'transaction-id': 3029, 'amount': 2720},\n",
       "   {'transaction-id': 3081, 'amount': 2846},\n",
       "   {'transaction-id': 3142, 'amount': 2888},\n",
       "   {'transaction-id': 3338, 'amount': 2688},\n",
       "   {'transaction-id': 3944, 'amount': 2931},\n",
       "   {'transaction-id': 4339, 'amount': 3034},\n",
       "   {'transaction-id': 4550, 'amount': 2724},\n",
       "   {'transaction-id': 4611, 'amount': 2750},\n",
       "   {'transaction-id': 4686, 'amount': 3018},\n",
       "   {'transaction-id': 4854, 'amount': 2946},\n",
       "   {'transaction-id': 5034, 'amount': 2823},\n",
       "   {'transaction-id': 5472, 'amount': 2703},\n",
       "   {'transaction-id': 5526, 'amount': 2775},\n",
       "   {'transaction-id': 5616, 'amount': 2707},\n",
       "   {'transaction-id': 5703, 'amount': 3028},\n",
       "   {'transaction-id': 6078, 'amount': 2925},\n",
       "   {'transaction-id': 6365, 'amount': 2948},\n",
       "   {'transaction-id': 6464, 'amount': 2895},\n",
       "   {'transaction-id': 6608, 'amount': 2812},\n",
       "   {'transaction-id': 6758, 'amount': 2794},\n",
       "   {'transaction-id': 7031, 'amount': 2894},\n",
       "   {'transaction-id': 7298, 'amount': 2862},\n",
       "   {'transaction-id': 7611, 'amount': 2896},\n",
       "   {'transaction-id': 7761, 'amount': 2955},\n",
       "   {'transaction-id': 7887, 'amount': 2907},\n",
       "   {'transaction-id': 8233, 'amount': 2879},\n",
       "   {'transaction-id': 8277, 'amount': 2876},\n",
       "   {'transaction-id': 8927, 'amount': 2640},\n",
       "   {'transaction-id': 9424, 'amount': 2719},\n",
       "   {'transaction-id': 9688, 'amount': 2818},\n",
       "   {'transaction-id': 9767, 'amount': 2641},\n",
       "   {'transaction-id': 9985, 'amount': 2974}]},\n",
       " {'id': 2,\n",
       "  'name': 'Quinn',\n",
       "  'transactions': [{'transaction-id': 78, 'amount': 627},\n",
       "   {'transaction-id': 181, 'amount': 516},\n",
       "   {'transaction-id': 232, 'amount': 635},\n",
       "   {'transaction-id': 307, 'amount': 645},\n",
       "   {'transaction-id': 315, 'amount': 559},\n",
       "   {'transaction-id': 513, 'amount': 369},\n",
       "   {'transaction-id': 600, 'amount': 263},\n",
       "   {'transaction-id': 706, 'amount': 73},\n",
       "   {'transaction-id': 799, 'amount': 641},\n",
       "   {'transaction-id': 1209, 'amount': 1097},\n",
       "   {'transaction-id': 1281, 'amount': 45},\n",
       "   {'transaction-id': 1716, 'amount': 837},\n",
       "   {'transaction-id': 2068, 'amount': 674},\n",
       "   {'transaction-id': 2181, 'amount': 477},\n",
       "   {'transaction-id': 2290, 'amount': 281},\n",
       "   {'transaction-id': 2432, 'amount': 662},\n",
       "   {'transaction-id': 2488, 'amount': 842},\n",
       "   {'transaction-id': 2490, 'amount': 544},\n",
       "   {'transaction-id': 2625, 'amount': 761},\n",
       "   {'transaction-id': 2837, 'amount': 1174},\n",
       "   {'transaction-id': 3199, 'amount': 757},\n",
       "   {'transaction-id': 3399, 'amount': 520},\n",
       "   {'transaction-id': 3481, 'amount': 193},\n",
       "   {'transaction-id': 3639, 'amount': 199},\n",
       "   {'transaction-id': 3766, 'amount': 526},\n",
       "   {'transaction-id': 3907, 'amount': 451},\n",
       "   {'transaction-id': 4065, 'amount': 760},\n",
       "   {'transaction-id': 4130, 'amount': 230},\n",
       "   {'transaction-id': 4409, 'amount': 656},\n",
       "   {'transaction-id': 4449, 'amount': 456},\n",
       "   {'transaction-id': 4949, 'amount': 493},\n",
       "   {'transaction-id': 5031, 'amount': 881},\n",
       "   {'transaction-id': 5227, 'amount': 1132},\n",
       "   {'transaction-id': 5297, 'amount': 539},\n",
       "   {'transaction-id': 5390, 'amount': 465},\n",
       "   {'transaction-id': 5443, 'amount': 311},\n",
       "   {'transaction-id': 5841, 'amount': 1053},\n",
       "   {'transaction-id': 5986, 'amount': 763},\n",
       "   {'transaction-id': 6159, 'amount': 946},\n",
       "   {'transaction-id': 6160, 'amount': 451},\n",
       "   {'transaction-id': 6265, 'amount': 771},\n",
       "   {'transaction-id': 6284, 'amount': 304},\n",
       "   {'transaction-id': 6430, 'amount': 941},\n",
       "   {'transaction-id': 6648, 'amount': 819},\n",
       "   {'transaction-id': 6818, 'amount': 863},\n",
       "   {'transaction-id': 6967, 'amount': 589},\n",
       "   {'transaction-id': 7098, 'amount': 496},\n",
       "   {'transaction-id': 7450, 'amount': 1073},\n",
       "   {'transaction-id': 7787, 'amount': 320},\n",
       "   {'transaction-id': 8180, 'amount': 691},\n",
       "   {'transaction-id': 8254, 'amount': 471},\n",
       "   {'transaction-id': 8355, 'amount': 1149},\n",
       "   {'transaction-id': 8426, 'amount': 480},\n",
       "   {'transaction-id': 8626, 'amount': 678},\n",
       "   {'transaction-id': 8630, 'amount': 752},\n",
       "   {'transaction-id': 8671, 'amount': 732},\n",
       "   {'transaction-id': 8753, 'amount': 534},\n",
       "   {'transaction-id': 8892, 'amount': 174},\n",
       "   {'transaction-id': 9118, 'amount': 201},\n",
       "   {'transaction-id': 9664, 'amount': 871},\n",
       "   {'transaction-id': 9849, 'amount': 457},\n",
       "   {'transaction-id': 9860, 'amount': 828}]})"
      ]
     },
     "execution_count": 10,
     "metadata": {},
     "output_type": "execute_result"
    }
   ],
   "source": [
    "import json\n",
    "js = lines.map(json.loads)\n",
    "# take: inspect first few elements\n",
    "js.take(3)"
   ]
  },
  {
   "cell_type": "markdown",
   "metadata": {},
   "source": [
    "### Basic Queries"
   ]
  },
  {
   "cell_type": "markdown",
   "metadata": {},
   "source": [
    "Once we parse our JSON data into proper Python objects (`dict`s, `list`s, etc.) we can perform more interesting queries by creating small Python functions to run on our data."
   ]
  },
  {
   "cell_type": "code",
   "execution_count": 11,
   "metadata": {
    "execution": {
     "iopub.execute_input": "2021-12-10T20:51:04.977226Z",
     "iopub.status.busy": "2021-12-10T20:51:04.976107Z",
     "iopub.status.idle": "2021-12-10T20:51:05.008840Z",
     "shell.execute_reply": "2021-12-10T20:51:05.009528Z"
    }
   },
   "outputs": [
    {
     "data": {
      "text/plain": [
       "({'id': 7,\n",
       "  'name': 'Alice',\n",
       "  'transactions': [{'transaction-id': 1853, 'amount': 611},\n",
       "   {'transaction-id': 2511, 'amount': 1269},\n",
       "   {'transaction-id': 2537, 'amount': 1103},\n",
       "   {'transaction-id': 2669, 'amount': 1161},\n",
       "   {'transaction-id': 2927, 'amount': 888},\n",
       "   {'transaction-id': 5060, 'amount': 979},\n",
       "   {'transaction-id': 5168, 'amount': 973},\n",
       "   {'transaction-id': 5393, 'amount': 861},\n",
       "   {'transaction-id': 5767, 'amount': 783},\n",
       "   {'transaction-id': 6269, 'amount': 1097},\n",
       "   {'transaction-id': 6462, 'amount': 845},\n",
       "   {'transaction-id': 6503, 'amount': 656},\n",
       "   {'transaction-id': 6703, 'amount': 946},\n",
       "   {'transaction-id': 6736, 'amount': 922},\n",
       "   {'transaction-id': 7159, 'amount': 1205},\n",
       "   {'transaction-id': 7288, 'amount': 657},\n",
       "   {'transaction-id': 8230, 'amount': 929},\n",
       "   {'transaction-id': 9189, 'amount': 1115}]},\n",
       " {'id': 8,\n",
       "  'name': 'Alice',\n",
       "  'transactions': [{'transaction-id': 440, 'amount': 28},\n",
       "   {'transaction-id': 864, 'amount': 34},\n",
       "   {'transaction-id': 1512, 'amount': 34},\n",
       "   {'transaction-id': 1683, 'amount': 28},\n",
       "   {'transaction-id': 2109, 'amount': 22},\n",
       "   {'transaction-id': 2301, 'amount': 31},\n",
       "   {'transaction-id': 2326, 'amount': 32},\n",
       "   {'transaction-id': 2586, 'amount': 32},\n",
       "   {'transaction-id': 2781, 'amount': 22},\n",
       "   {'transaction-id': 3268, 'amount': 27},\n",
       "   {'transaction-id': 3412, 'amount': 34},\n",
       "   {'transaction-id': 4411, 'amount': 26},\n",
       "   {'transaction-id': 5400, 'amount': 28},\n",
       "   {'transaction-id': 5739, 'amount': 33},\n",
       "   {'transaction-id': 6642, 'amount': 32},\n",
       "   {'transaction-id': 6658, 'amount': 28},\n",
       "   {'transaction-id': 6784, 'amount': 36},\n",
       "   {'transaction-id': 6868, 'amount': 25},\n",
       "   {'transaction-id': 7003, 'amount': 27},\n",
       "   {'transaction-id': 7033, 'amount': 25},\n",
       "   {'transaction-id': 7281, 'amount': 37},\n",
       "   {'transaction-id': 7463, 'amount': 30},\n",
       "   {'transaction-id': 7758, 'amount': 29},\n",
       "   {'transaction-id': 8441, 'amount': 33},\n",
       "   {'transaction-id': 9241, 'amount': 27},\n",
       "   {'transaction-id': 9531, 'amount': 33}]},\n",
       " {'id': 34,\n",
       "  'name': 'Alice',\n",
       "  'transactions': [{'transaction-id': 299, 'amount': 4},\n",
       "   {'transaction-id': 1876, 'amount': 5},\n",
       "   {'transaction-id': 2367, 'amount': 7},\n",
       "   {'transaction-id': 3130, 'amount': 4},\n",
       "   {'transaction-id': 3174, 'amount': 6},\n",
       "   {'transaction-id': 3221, 'amount': 7},\n",
       "   {'transaction-id': 3713, 'amount': 1},\n",
       "   {'transaction-id': 3729, 'amount': 6},\n",
       "   {'transaction-id': 3819, 'amount': 2},\n",
       "   {'transaction-id': 3987, 'amount': 3},\n",
       "   {'transaction-id': 5583, 'amount': 4},\n",
       "   {'transaction-id': 5614, 'amount': 12},\n",
       "   {'transaction-id': 6140, 'amount': 4},\n",
       "   {'transaction-id': 6348, 'amount': 10},\n",
       "   {'transaction-id': 6479, 'amount': 7},\n",
       "   {'transaction-id': 7225, 'amount': 6},\n",
       "   {'transaction-id': 7388, 'amount': 3},\n",
       "   {'transaction-id': 7543, 'amount': 2},\n",
       "   {'transaction-id': 7569, 'amount': 2},\n",
       "   {'transaction-id': 7697, 'amount': 1},\n",
       "   {'transaction-id': 8191, 'amount': 0},\n",
       "   {'transaction-id': 8627, 'amount': 4},\n",
       "   {'transaction-id': 8645, 'amount': 0},\n",
       "   {'transaction-id': 9068, 'amount': 2},\n",
       "   {'transaction-id': 9900, 'amount': 2}]},\n",
       " {'id': 43,\n",
       "  'name': 'Alice',\n",
       "  'transactions': [{'transaction-id': 1282, 'amount': 1697},\n",
       "   {'transaction-id': 1619, 'amount': 1872},\n",
       "   {'transaction-id': 1631, 'amount': 1969},\n",
       "   {'transaction-id': 2522, 'amount': 1771},\n",
       "   {'transaction-id': 2984, 'amount': 1717},\n",
       "   {'transaction-id': 3106, 'amount': 1748},\n",
       "   {'transaction-id': 3259, 'amount': 1837},\n",
       "   {'transaction-id': 3812, 'amount': 1978},\n",
       "   {'transaction-id': 4284, 'amount': 1664},\n",
       "   {'transaction-id': 4534, 'amount': 1839},\n",
       "   {'transaction-id': 5677, 'amount': 1814},\n",
       "   {'transaction-id': 6003, 'amount': 1599},\n",
       "   {'transaction-id': 6386, 'amount': 1765},\n",
       "   {'transaction-id': 6734, 'amount': 1934},\n",
       "   {'transaction-id': 7113, 'amount': 1786},\n",
       "   {'transaction-id': 7212, 'amount': 2017},\n",
       "   {'transaction-id': 8597, 'amount': 1920},\n",
       "   {'transaction-id': 8861, 'amount': 1843},\n",
       "   {'transaction-id': 9265, 'amount': 1852},\n",
       "   {'transaction-id': 9641, 'amount': 1900},\n",
       "   {'transaction-id': 9974, 'amount': 1805}]},\n",
       " {'id': 48,\n",
       "  'name': 'Alice',\n",
       "  'transactions': [{'transaction-id': 643, 'amount': 5428},\n",
       "   {'transaction-id': 742, 'amount': 5642},\n",
       "   {'transaction-id': 1565, 'amount': 5723},\n",
       "   {'transaction-id': 1588, 'amount': 5568},\n",
       "   {'transaction-id': 1925, 'amount': 5221},\n",
       "   {'transaction-id': 1994, 'amount': 4907},\n",
       "   {'transaction-id': 2530, 'amount': 6122},\n",
       "   {'transaction-id': 3083, 'amount': 5201},\n",
       "   {'transaction-id': 3449, 'amount': 5146},\n",
       "   {'transaction-id': 3594, 'amount': 5593},\n",
       "   {'transaction-id': 3952, 'amount': 5653},\n",
       "   {'transaction-id': 4418, 'amount': 6178},\n",
       "   {'transaction-id': 4602, 'amount': 5811},\n",
       "   {'transaction-id': 5038, 'amount': 5104},\n",
       "   {'transaction-id': 5092, 'amount': 5988},\n",
       "   {'transaction-id': 5180, 'amount': 6292},\n",
       "   {'transaction-id': 5254, 'amount': 5584},\n",
       "   {'transaction-id': 5291, 'amount': 5607},\n",
       "   {'transaction-id': 5749, 'amount': 5756},\n",
       "   {'transaction-id': 6162, 'amount': 5587},\n",
       "   {'transaction-id': 6792, 'amount': 5328},\n",
       "   {'transaction-id': 6799, 'amount': 5741},\n",
       "   {'transaction-id': 7019, 'amount': 5786},\n",
       "   {'transaction-id': 7080, 'amount': 4904},\n",
       "   {'transaction-id': 7360, 'amount': 5355},\n",
       "   {'transaction-id': 7596, 'amount': 5253},\n",
       "   {'transaction-id': 7757, 'amount': 5093},\n",
       "   {'transaction-id': 8474, 'amount': 5511},\n",
       "   {'transaction-id': 8729, 'amount': 5658},\n",
       "   {'transaction-id': 8824, 'amount': 5461},\n",
       "   {'transaction-id': 9258, 'amount': 5985},\n",
       "   {'transaction-id': 9352, 'amount': 5332},\n",
       "   {'transaction-id': 9374, 'amount': 6069}]})"
      ]
     },
     "execution_count": 11,
     "metadata": {},
     "output_type": "execute_result"
    }
   ],
   "source": [
    "# filter: keep only some elements of the sequence\n",
    "js.filter(lambda record: record['name'] == 'Alice').take(5)"
   ]
  },
  {
   "cell_type": "code",
   "execution_count": 12,
   "metadata": {
    "execution": {
     "iopub.execute_input": "2021-12-10T20:51:05.016129Z",
     "iopub.status.busy": "2021-12-10T20:51:05.012111Z",
     "iopub.status.idle": "2021-12-10T20:51:05.041792Z",
     "shell.execute_reply": "2021-12-10T20:51:05.042216Z"
    }
   },
   "outputs": [
    {
     "data": {
      "text/plain": [
       "({'name': 'Alice', 'count': 18},\n",
       " {'name': 'Alice', 'count': 26},\n",
       " {'name': 'Alice', 'count': 25},\n",
       " {'name': 'Alice', 'count': 21},\n",
       " {'name': 'Alice', 'count': 33})"
      ]
     },
     "execution_count": 12,
     "metadata": {},
     "output_type": "execute_result"
    }
   ],
   "source": [
    "def count_transactions(d):\n",
    "    return {'name': d['name'], 'count': len(d['transactions'])}\n",
    "\n",
    "# map: apply a function to each element\n",
    "(js.filter(lambda record: record['name'] == 'Alice')\n",
    "   .map(count_transactions)\n",
    "   .take(5))"
   ]
  },
  {
   "cell_type": "code",
   "execution_count": 13,
   "metadata": {
    "execution": {
     "iopub.execute_input": "2021-12-10T20:51:05.053305Z",
     "iopub.status.busy": "2021-12-10T20:51:05.052581Z",
     "iopub.status.idle": "2021-12-10T20:51:05.071647Z",
     "shell.execute_reply": "2021-12-10T20:51:05.070903Z"
    }
   },
   "outputs": [
    {
     "data": {
      "text/plain": [
       "(18, 26, 25, 21, 33)"
      ]
     },
     "execution_count": 13,
     "metadata": {},
     "output_type": "execute_result"
    }
   ],
   "source": [
    "# pluck: select a field, as from a dictionary, element[field]\n",
    "(js.filter(lambda record: record['name'] == 'Alice')\n",
    "   .map(count_transactions)\n",
    "   .pluck('count')\n",
    "   .take(5))"
   ]
  },
  {
   "cell_type": "code",
   "execution_count": 14,
   "metadata": {
    "execution": {
     "iopub.execute_input": "2021-12-10T20:51:05.087731Z",
     "iopub.status.busy": "2021-12-10T20:51:05.082477Z",
     "iopub.status.idle": "2021-12-10T20:51:05.555086Z",
     "shell.execute_reply": "2021-12-10T20:51:05.554568Z"
    }
   },
   "outputs": [
    {
     "data": {
      "text/plain": [
       "30.63453237410072"
      ]
     },
     "execution_count": 14,
     "metadata": {},
     "output_type": "execute_result"
    }
   ],
   "source": [
    "# Average number of transactions for all of the Alice entries\n",
    "(js.filter(lambda record: record['name'] == 'Alice')\n",
    "   .map(count_transactions)\n",
    "   .pluck('count')\n",
    "   .mean()\n",
    "   .compute())"
   ]
  },
  {
   "cell_type": "markdown",
   "metadata": {},
   "source": [
    "### Use `flatten` to de-nest"
   ]
  },
  {
   "cell_type": "markdown",
   "metadata": {},
   "source": [
    "In the example below we see the use of `.flatten()` to flatten results.  We compute the average amount for all transactions for all Alices."
   ]
  },
  {
   "cell_type": "code",
   "execution_count": 15,
   "metadata": {
    "execution": {
     "iopub.execute_input": "2021-12-10T20:51:05.566494Z",
     "iopub.status.busy": "2021-12-10T20:51:05.565684Z",
     "iopub.status.idle": "2021-12-10T20:51:05.587747Z",
     "shell.execute_reply": "2021-12-10T20:51:05.588159Z"
    }
   },
   "outputs": [
    {
     "data": {
      "text/plain": [
       "([{'transaction-id': 1853, 'amount': 611},\n",
       "  {'transaction-id': 2511, 'amount': 1269},\n",
       "  {'transaction-id': 2537, 'amount': 1103},\n",
       "  {'transaction-id': 2669, 'amount': 1161},\n",
       "  {'transaction-id': 2927, 'amount': 888},\n",
       "  {'transaction-id': 5060, 'amount': 979},\n",
       "  {'transaction-id': 5168, 'amount': 973},\n",
       "  {'transaction-id': 5393, 'amount': 861},\n",
       "  {'transaction-id': 5767, 'amount': 783},\n",
       "  {'transaction-id': 6269, 'amount': 1097},\n",
       "  {'transaction-id': 6462, 'amount': 845},\n",
       "  {'transaction-id': 6503, 'amount': 656},\n",
       "  {'transaction-id': 6703, 'amount': 946},\n",
       "  {'transaction-id': 6736, 'amount': 922},\n",
       "  {'transaction-id': 7159, 'amount': 1205},\n",
       "  {'transaction-id': 7288, 'amount': 657},\n",
       "  {'transaction-id': 8230, 'amount': 929},\n",
       "  {'transaction-id': 9189, 'amount': 1115}],\n",
       " [{'transaction-id': 440, 'amount': 28},\n",
       "  {'transaction-id': 864, 'amount': 34},\n",
       "  {'transaction-id': 1512, 'amount': 34},\n",
       "  {'transaction-id': 1683, 'amount': 28},\n",
       "  {'transaction-id': 2109, 'amount': 22},\n",
       "  {'transaction-id': 2301, 'amount': 31},\n",
       "  {'transaction-id': 2326, 'amount': 32},\n",
       "  {'transaction-id': 2586, 'amount': 32},\n",
       "  {'transaction-id': 2781, 'amount': 22},\n",
       "  {'transaction-id': 3268, 'amount': 27},\n",
       "  {'transaction-id': 3412, 'amount': 34},\n",
       "  {'transaction-id': 4411, 'amount': 26},\n",
       "  {'transaction-id': 5400, 'amount': 28},\n",
       "  {'transaction-id': 5739, 'amount': 33},\n",
       "  {'transaction-id': 6642, 'amount': 32},\n",
       "  {'transaction-id': 6658, 'amount': 28},\n",
       "  {'transaction-id': 6784, 'amount': 36},\n",
       "  {'transaction-id': 6868, 'amount': 25},\n",
       "  {'transaction-id': 7003, 'amount': 27},\n",
       "  {'transaction-id': 7033, 'amount': 25},\n",
       "  {'transaction-id': 7281, 'amount': 37},\n",
       "  {'transaction-id': 7463, 'amount': 30},\n",
       "  {'transaction-id': 7758, 'amount': 29},\n",
       "  {'transaction-id': 8441, 'amount': 33},\n",
       "  {'transaction-id': 9241, 'amount': 27},\n",
       "  {'transaction-id': 9531, 'amount': 33}],\n",
       " [{'transaction-id': 299, 'amount': 4},\n",
       "  {'transaction-id': 1876, 'amount': 5},\n",
       "  {'transaction-id': 2367, 'amount': 7},\n",
       "  {'transaction-id': 3130, 'amount': 4},\n",
       "  {'transaction-id': 3174, 'amount': 6},\n",
       "  {'transaction-id': 3221, 'amount': 7},\n",
       "  {'transaction-id': 3713, 'amount': 1},\n",
       "  {'transaction-id': 3729, 'amount': 6},\n",
       "  {'transaction-id': 3819, 'amount': 2},\n",
       "  {'transaction-id': 3987, 'amount': 3},\n",
       "  {'transaction-id': 5583, 'amount': 4},\n",
       "  {'transaction-id': 5614, 'amount': 12},\n",
       "  {'transaction-id': 6140, 'amount': 4},\n",
       "  {'transaction-id': 6348, 'amount': 10},\n",
       "  {'transaction-id': 6479, 'amount': 7},\n",
       "  {'transaction-id': 7225, 'amount': 6},\n",
       "  {'transaction-id': 7388, 'amount': 3},\n",
       "  {'transaction-id': 7543, 'amount': 2},\n",
       "  {'transaction-id': 7569, 'amount': 2},\n",
       "  {'transaction-id': 7697, 'amount': 1},\n",
       "  {'transaction-id': 8191, 'amount': 0},\n",
       "  {'transaction-id': 8627, 'amount': 4},\n",
       "  {'transaction-id': 8645, 'amount': 0},\n",
       "  {'transaction-id': 9068, 'amount': 2},\n",
       "  {'transaction-id': 9900, 'amount': 2}])"
      ]
     },
     "execution_count": 15,
     "metadata": {},
     "output_type": "execute_result"
    }
   ],
   "source": [
    "(js.filter(lambda record: record['name'] == 'Alice')\n",
    "   .pluck('transactions')\n",
    "   .take(3))"
   ]
  },
  {
   "cell_type": "code",
   "execution_count": 16,
   "metadata": {
    "execution": {
     "iopub.execute_input": "2021-12-10T20:51:05.592185Z",
     "iopub.status.busy": "2021-12-10T20:51:05.591722Z",
     "iopub.status.idle": "2021-12-10T20:51:05.614590Z",
     "shell.execute_reply": "2021-12-10T20:51:05.614209Z"
    }
   },
   "outputs": [
    {
     "data": {
      "text/plain": [
       "({'transaction-id': 1853, 'amount': 611},\n",
       " {'transaction-id': 2511, 'amount': 1269},\n",
       " {'transaction-id': 2537, 'amount': 1103})"
      ]
     },
     "execution_count": 16,
     "metadata": {},
     "output_type": "execute_result"
    }
   ],
   "source": [
    "(js.filter(lambda record: record['name'] == 'Alice')\n",
    "   .pluck('transactions')\n",
    "   .flatten()\n",
    "   .take(3))"
   ]
  },
  {
   "cell_type": "code",
   "execution_count": 17,
   "metadata": {
    "execution": {
     "iopub.execute_input": "2021-12-10T20:51:05.624253Z",
     "iopub.status.busy": "2021-12-10T20:51:05.623813Z",
     "iopub.status.idle": "2021-12-10T20:51:05.641164Z",
     "shell.execute_reply": "2021-12-10T20:51:05.640803Z"
    }
   },
   "outputs": [
    {
     "data": {
      "text/plain": [
       "(611, 1269, 1103)"
      ]
     },
     "execution_count": 17,
     "metadata": {},
     "output_type": "execute_result"
    }
   ],
   "source": [
    "(js.filter(lambda record: record['name'] == 'Alice')\n",
    "   .pluck('transactions')\n",
    "   .flatten()\n",
    "   .pluck('amount')\n",
    "   .take(3))"
   ]
  },
  {
   "cell_type": "code",
   "execution_count": 18,
   "metadata": {
    "execution": {
     "iopub.execute_input": "2021-12-10T20:51:05.651584Z",
     "iopub.status.busy": "2021-12-10T20:51:05.645524Z",
     "iopub.status.idle": "2021-12-10T20:51:06.065158Z",
     "shell.execute_reply": "2021-12-10T20:51:06.064688Z"
    }
   },
   "outputs": [
    {
     "data": {
      "text/plain": [
       "1708.4988023108356"
      ]
     },
     "execution_count": 18,
     "metadata": {},
     "output_type": "execute_result"
    }
   ],
   "source": [
    "(js.filter(lambda record: record['name'] == 'Alice')\n",
    "   .pluck('transactions')\n",
    "   .flatten()\n",
    "   .pluck('amount')\n",
    "   .mean()\n",
    "   .compute())"
   ]
  },
  {
   "cell_type": "markdown",
   "metadata": {},
   "source": [
    "### Groupby and Foldby"
   ]
  },
  {
   "cell_type": "markdown",
   "metadata": {},
   "source": [
    "Often we want to group data by some function or key.  We can do this either with the `.groupby` method, which is straightforward but forces a full shuffle of the data (expensive) or with the harder-to-use but faster `.foldby` method, which does a streaming combined groupby and reduction.\n",
    "\n",
    "*  `groupby`:  Shuffles data so that all items with the same key are in the same key-value pair\n",
    "*  `foldby`:  Walks through the data accumulating a result per key\n",
    "\n",
    "*Note: the full groupby is particularly bad. In actual workloads you would do well to use `foldby` or switch to `DataFrame`s if possible.*"
   ]
  },
  {
   "cell_type": "markdown",
   "metadata": {},
   "source": [
    "### `groupby`"
   ]
  },
  {
   "cell_type": "markdown",
   "metadata": {},
   "source": [
    "Groupby collects items in your collection so that all items with the same value under some function are collected together into a key-value pair."
   ]
  },
  {
   "cell_type": "code",
   "execution_count": 19,
   "metadata": {
    "execution": {
     "iopub.execute_input": "2021-12-10T20:51:06.074912Z",
     "iopub.status.busy": "2021-12-10T20:51:06.074387Z",
     "iopub.status.idle": "2021-12-10T20:51:06.167579Z",
     "shell.execute_reply": "2021-12-10T20:51:06.167927Z"
    }
   },
   "outputs": [
    {
     "data": {
      "text/plain": [
       "[(7, ['Charlie']), (3, ['Bob', 'Dan']), (5, ['Alice', 'Edith', 'Frank'])]"
      ]
     },
     "execution_count": 19,
     "metadata": {},
     "output_type": "execute_result"
    }
   ],
   "source": [
    "b = db.from_sequence(['Alice', 'Bob', 'Charlie', 'Dan', 'Edith', 'Frank'])\n",
    "b.groupby(len).compute()  # names grouped by length"
   ]
  },
  {
   "cell_type": "code",
   "execution_count": 20,
   "metadata": {
    "execution": {
     "iopub.execute_input": "2021-12-10T20:51:06.177857Z",
     "iopub.status.busy": "2021-12-10T20:51:06.172846Z",
     "iopub.status.idle": "2021-12-10T20:51:06.408786Z",
     "shell.execute_reply": "2021-12-10T20:51:06.408348Z"
    }
   },
   "outputs": [
    {
     "data": {
      "text/plain": [
       "[(0, [0, 2, 4, 6, 8]), (1, [1, 3, 5, 7, 9])]"
      ]
     },
     "execution_count": 20,
     "metadata": {},
     "output_type": "execute_result"
    }
   ],
   "source": [
    "b = db.from_sequence(list(range(10)))\n",
    "b.groupby(lambda x: x % 2).compute()"
   ]
  },
  {
   "cell_type": "code",
   "execution_count": 21,
   "metadata": {
    "execution": {
     "iopub.execute_input": "2021-12-10T20:51:06.426414Z",
     "iopub.status.busy": "2021-12-10T20:51:06.411244Z",
     "iopub.status.idle": "2021-12-10T20:51:06.605786Z",
     "shell.execute_reply": "2021-12-10T20:51:06.605125Z"
    }
   },
   "outputs": [
    {
     "data": {
      "text/plain": [
       "[(0, 8), (1, 9)]"
      ]
     },
     "execution_count": 21,
     "metadata": {},
     "output_type": "execute_result"
    }
   ],
   "source": [
    "b.groupby(lambda x: x % 2).starmap(lambda k, v: (k, max(v))).compute()"
   ]
  },
  {
   "cell_type": "markdown",
   "metadata": {},
   "source": [
    "### `foldby`"
   ]
  },
  {
   "cell_type": "markdown",
   "metadata": {},
   "source": [
    "Foldby can be quite odd at first.  It is similar to the following functions from other libraries:\n",
    "\n",
    "*  [`toolz.reduceby`](http://toolz.readthedocs.io/en/latest/streaming-analytics.html#streaming-split-apply-combine)\n",
    "*  [`pyspark.RDD.combineByKey`](http://abshinn.github.io/python/apache-spark/2014/10/11/using-combinebykey-in-apache-spark/)\n",
    "\n",
    "When using `foldby` you provide \n",
    "\n",
    "1.  A key function on which to group elements\n",
    "2.  A binary operator such as you would pass to `reduce` that you use to perform reduction per each group\n",
    "3.  A combine binary operator that can combine the results of two `reduce` calls on different parts of your dataset.\n",
    "\n",
    "Your reduction must be associative.  It will happen in parallel in each of the partitions of your dataset.  Then all of these intermediate results will be combined by the `combine` binary operator."
   ]
  },
  {
   "cell_type": "code",
   "execution_count": 22,
   "metadata": {
    "execution": {
     "iopub.execute_input": "2021-12-10T20:51:06.610236Z",
     "iopub.status.busy": "2021-12-10T20:51:06.609766Z",
     "iopub.status.idle": "2021-12-10T20:51:06.666131Z",
     "shell.execute_reply": "2021-12-10T20:51:06.666818Z"
    }
   },
   "outputs": [
    {
     "data": {
      "text/plain": [
       "[(0, 8), (1, 9)]"
      ]
     },
     "execution_count": 22,
     "metadata": {},
     "output_type": "execute_result"
    }
   ],
   "source": [
    "b.foldby(lambda x: x % 2, binop=max, combine=max).compute()"
   ]
  },
  {
   "cell_type": "markdown",
   "metadata": {},
   "source": [
    "### Example with account data"
   ]
  },
  {
   "cell_type": "markdown",
   "metadata": {},
   "source": [
    "We find the number of people with the same name."
   ]
  },
  {
   "cell_type": "code",
   "execution_count": 23,
   "metadata": {
    "execution": {
     "iopub.execute_input": "2021-12-10T20:51:06.680419Z",
     "iopub.status.busy": "2021-12-10T20:51:06.669400Z",
     "iopub.status.idle": "2021-12-10T20:51:11.238989Z",
     "shell.execute_reply": "2021-12-10T20:51:11.239689Z"
    }
   },
   "outputs": [
    {
     "name": "stdout",
     "output_type": "stream",
     "text": [
      "[('Alice', 166), ('Alice', 168), ('Alice', 180), ('Alice', 181), ('Bob', 80), ('Bob', 81), ('Bob', 87), ('Bob', 90), ('Charlie', 117), ('Charlie', 117), ('Charlie', 128), ('Charlie', 128), ('Dan', 87), ('Dan', 92), ('Dan', 96), ('Dan', 99), ('Edith', 96), ('Edith', 96), ('Edith', 104), ('Edith', 104), ('Frank', 126), ('Frank', 130), ('Frank', 140), ('Frank', 140), ('George', 132), ('George', 132), ('George', 142), ('George', 143), ('Hannah', 72), ('Hannah', 72), ('Hannah', 77), ('Hannah', 77), ('Ingrid', 105), ('Ingrid', 108), ('Ingrid', 116), ('Ingrid', 117), ('Jerry', 60), ('Jerry', 60), ('Jerry', 65), ('Jerry', 65), ('Kevin', 95), ('Kevin', 96), ('Kevin', 103), ('Kevin', 104), ('Laura', 127), ('Laura', 129), ('Laura', 140), ('Laura', 140), ('Michael', 108), ('Michael', 108), ('Michael', 117), ('Michael', 117), ('Norbert', 83), ('Norbert', 83), ('Norbert', 88), ('Norbert', 88), ('Oliver', 88), ('Oliver', 90), ('Oliver', 94), ('Oliver', 98), ('Patricia', 127), ('Patricia', 128), ('Patricia', 137), ('Patricia', 138), ('Quinn', 117), ('Quinn', 117), ('Quinn', 124), ('Quinn', 127), ('Ray', 162), ('Ray', 165), ('Ray', 174), ('Ray', 175), ('Sarah', 48), ('Sarah', 48), ('Sarah', 52), ('Sarah', 52), ('Tim', 106), ('Tim', 107), ('Tim', 115), ('Tim', 115), ('Ursula', 153), ('Ursula', 155), ('Ursula', 166), ('Ursula', 166), ('Victor', 96), ('Victor', 104), ('Victor', 198), ('Wendy', 145), ('Wendy', 148), ('Wendy', 158), ('Wendy', 163), ('Xavier', 120), ('Xavier', 120), ('Xavier', 129), ('Xavier', 130), ('Yvonne', 132), ('Yvonne', 132), ('Yvonne', 143), ('Yvonne', 143), ('Zelda', 140), ('Zelda', 145), ('Zelda', 160), ('Zelda', 164)]\n",
      "CPU times: user 999 ms, sys: 88.6 ms, total: 1.09 s\n",
      "Wall time: 4.56 s\n"
     ]
    }
   ],
   "source": [
    "%%time\n",
    "# Warning, this one takes a while...\n",
    "result = js.groupby(lambda item: item['name']).starmap(lambda k, v: (k, len(v))).compute()\n",
    "print(sorted(result))"
   ]
  },
  {
   "cell_type": "code",
   "execution_count": 24,
   "metadata": {
    "execution": {
     "iopub.execute_input": "2021-12-10T20:51:11.245340Z",
     "iopub.status.busy": "2021-12-10T20:51:11.244559Z",
     "iopub.status.idle": "2021-12-10T20:51:11.714832Z",
     "shell.execute_reply": "2021-12-10T20:51:11.714098Z"
    }
   },
   "outputs": [
    {
     "name": "stdout",
     "output_type": "stream",
     "text": [
      "[('Alice', 695), ('Bob', 338), ('Charlie', 490), ('Dan', 374), ('Edith', 400), ('Frank', 536), ('George', 549), ('Hannah', 298), ('Ingrid', 446), ('Jerry', 250), ('Kevin', 398), ('Laura', 536), ('Michael', 450), ('Norbert', 342), ('Oliver', 370), ('Patricia', 530), ('Quinn', 485), ('Ray', 676), ('Sarah', 200), ('Tim', 443), ('Ursula', 640), ('Victor', 398), ('Wendy', 614), ('Xavier', 499), ('Yvonne', 550), ('Zelda', 609)]\n",
      "CPU times: user 113 ms, sys: 29.2 ms, total: 142 ms\n",
      "Wall time: 466 ms\n"
     ]
    }
   ],
   "source": [
    "%%time\n",
    "# This one is comparatively fast and produces the same result.\n",
    "from operator import add\n",
    "def incr(tot, _):\n",
    "    return tot + 1\n",
    "\n",
    "result = js.foldby(key='name', \n",
    "                   binop=incr, \n",
    "                   initial=0, \n",
    "                   combine=add, \n",
    "                   combine_initial=0).compute()\n",
    "print(sorted(result))"
   ]
  },
  {
   "cell_type": "markdown",
   "metadata": {},
   "source": [
    "### Exercise: compute total amount per name"
   ]
  },
  {
   "cell_type": "markdown",
   "metadata": {},
   "source": [
    "We want to groupby (or foldby) the `name` key, then add up the all of the amounts for each name.\n",
    "\n",
    "Steps\n",
    "\n",
    "1.  Create a small function that, given a dictionary like \n",
    "\n",
    "        {'name': 'Alice', 'transactions': [{'amount': 1, 'id': 123}, {'amount': 2, 'id': 456}]}\n",
    "        \n",
    "    produces the sum of the amounts, e.g. `3`\n",
    "    \n",
    "2.  Slightly change the binary operator of the `foldby` example above so that the binary operator doesn't count the number of entries, but instead accumulates the sum of the amounts."
   ]
  },
  {
   "cell_type": "code",
   "execution_count": 25,
   "metadata": {
    "execution": {
     "iopub.execute_input": "2021-12-10T20:51:11.720695Z",
     "iopub.status.busy": "2021-12-10T20:51:11.720188Z",
     "iopub.status.idle": "2021-12-10T20:51:11.722114Z",
     "shell.execute_reply": "2021-12-10T20:51:11.722527Z"
    }
   },
   "outputs": [],
   "source": [
    "# Your code here..."
   ]
  },
  {
   "cell_type": "markdown",
   "metadata": {},
   "source": [
    "## DataFrames"
   ]
  },
  {
   "cell_type": "markdown",
   "metadata": {},
   "source": [
    "For the same reasons that Pandas is often faster than pure Python, `dask.dataframe` can be faster than `dask.bag`.  We will work more with DataFrames later, but from the point of view of a Bag, it is frequently the end-point of the \"messy\" part of data ingestion—once the data can be made into a data-frame, then complex split-apply-combine logic will become much more straight-forward and efficient.\n",
    "\n",
    "You can transform a bag with a simple tuple or flat dictionary structure into a `dask.dataframe` with the `to_dataframe` method."
   ]
  },
  {
   "cell_type": "code",
   "execution_count": 26,
   "metadata": {
    "execution": {
     "iopub.execute_input": "2021-12-10T20:51:11.726527Z",
     "iopub.status.busy": "2021-12-10T20:51:11.725977Z",
     "iopub.status.idle": "2021-12-10T20:51:12.304367Z",
     "shell.execute_reply": "2021-12-10T20:51:12.305175Z"
    }
   },
   "outputs": [
    {
     "data": {
      "text/html": [
       "<div>\n",
       "<style scoped>\n",
       "    .dataframe tbody tr th:only-of-type {\n",
       "        vertical-align: middle;\n",
       "    }\n",
       "\n",
       "    .dataframe tbody tr th {\n",
       "        vertical-align: top;\n",
       "    }\n",
       "\n",
       "    .dataframe thead th {\n",
       "        text-align: right;\n",
       "    }\n",
       "</style>\n",
       "<table border=\"1\" class=\"dataframe\">\n",
       "  <thead>\n",
       "    <tr style=\"text-align: right;\">\n",
       "      <th></th>\n",
       "      <th>id</th>\n",
       "      <th>name</th>\n",
       "      <th>transactions</th>\n",
       "    </tr>\n",
       "  </thead>\n",
       "  <tbody>\n",
       "    <tr>\n",
       "      <th>0</th>\n",
       "      <td>0</td>\n",
       "      <td>Oliver</td>\n",
       "      <td>[{'transaction-id': 123, 'amount': 344}, {'tra...</td>\n",
       "    </tr>\n",
       "    <tr>\n",
       "      <th>1</th>\n",
       "      <td>1</td>\n",
       "      <td>Patricia</td>\n",
       "      <td>[{'transaction-id': 208, 'amount': 2804}, {'tr...</td>\n",
       "    </tr>\n",
       "    <tr>\n",
       "      <th>2</th>\n",
       "      <td>2</td>\n",
       "      <td>Quinn</td>\n",
       "      <td>[{'transaction-id': 78, 'amount': 627}, {'tran...</td>\n",
       "    </tr>\n",
       "    <tr>\n",
       "      <th>3</th>\n",
       "      <td>4</td>\n",
       "      <td>Xavier</td>\n",
       "      <td>[{'transaction-id': 92, 'amount': 2914}, {'tra...</td>\n",
       "    </tr>\n",
       "    <tr>\n",
       "      <th>4</th>\n",
       "      <td>5</td>\n",
       "      <td>Ursula</td>\n",
       "      <td>[{'transaction-id': 9, 'amount': 2541}, {'tran...</td>\n",
       "    </tr>\n",
       "  </tbody>\n",
       "</table>\n",
       "</div>"
      ],
      "text/plain": [
       "   id      name                                       transactions\n",
       "0   0    Oliver  [{'transaction-id': 123, 'amount': 344}, {'tra...\n",
       "1   1  Patricia  [{'transaction-id': 208, 'amount': 2804}, {'tr...\n",
       "2   2     Quinn  [{'transaction-id': 78, 'amount': 627}, {'tran...\n",
       "3   4    Xavier  [{'transaction-id': 92, 'amount': 2914}, {'tra...\n",
       "4   5    Ursula  [{'transaction-id': 9, 'amount': 2541}, {'tran..."
      ]
     },
     "execution_count": 26,
     "metadata": {},
     "output_type": "execute_result"
    }
   ],
   "source": [
    "df1 = js.to_dataframe()\n",
    "df1.head()"
   ]
  },
  {
   "cell_type": "markdown",
   "metadata": {},
   "source": [
    "This now looks like a well-defined DataFrame, and we can apply Pandas-like computations to it efficiently."
   ]
  },
  {
   "cell_type": "markdown",
   "metadata": {},
   "source": [
    "Using a Dask DataFrame, how long does it take to do our prior computation of numbers of people with the same name?  It turns out that `dask.dataframe.groupby()` beats `dask.bag.groupby()` by more than an order of magnitude; but it still cannot match `dask.bag.foldby()` for this case."
   ]
  },
  {
   "cell_type": "code",
   "execution_count": 27,
   "metadata": {
    "execution": {
     "iopub.execute_input": "2021-12-10T20:51:12.318529Z",
     "iopub.status.busy": "2021-12-10T20:51:12.318058Z",
     "iopub.status.idle": "2021-12-10T20:51:13.683473Z",
     "shell.execute_reply": "2021-12-10T20:51:13.683870Z"
    }
   },
   "outputs": [
    {
     "name": "stdout",
     "output_type": "stream",
     "text": [
      "CPU times: user 237 ms, sys: 6.08 ms, total: 243 ms\n",
      "Wall time: 1.36 s\n"
     ]
    },
    {
     "data": {
      "text/plain": [
       "name\n",
       "Alice      695\n",
       "Bob        338\n",
       "Charlie    490\n",
       "Dan        374\n",
       "Edith      400\n",
       "Name: id, dtype: int64"
      ]
     },
     "execution_count": 27,
     "metadata": {},
     "output_type": "execute_result"
    }
   ],
   "source": [
    "%time df1.groupby('name').id.count().compute().head()"
   ]
  },
  {
   "cell_type": "markdown",
   "metadata": {},
   "source": [
    "### Denormalization"
   ]
  },
  {
   "cell_type": "markdown",
   "metadata": {},
   "source": [
    "This DataFrame format is less-than-optimal because the `transactions` column is filled with nested data so Pandas has to revert to `object` dtype, which is quite slow in Pandas.  Ideally we want to transform to a dataframe only after we have flattened our data so that each record is a single `int`, `string`, `float`, etc.."
   ]
  },
  {
   "cell_type": "code",
   "execution_count": 28,
   "metadata": {
    "execution": {
     "iopub.execute_input": "2021-12-10T20:51:13.696161Z",
     "iopub.status.busy": "2021-12-10T20:51:13.695262Z",
     "iopub.status.idle": "2021-12-10T20:51:13.712054Z",
     "shell.execute_reply": "2021-12-10T20:51:13.712789Z"
    }
   },
   "outputs": [
    {
     "data": {
      "text/plain": [
       "({'id': 0, 'name': 'Oliver', 'amount': 344, 'transaction-id': 123},\n",
       " {'id': 0, 'name': 'Oliver', 'amount': 355, 'transaction-id': 179},\n",
       " {'id': 0, 'name': 'Oliver', 'amount': 310, 'transaction-id': 317})"
      ]
     },
     "execution_count": 28,
     "metadata": {},
     "output_type": "execute_result"
    }
   ],
   "source": [
    "def denormalize(record):\n",
    "    # returns a list for each person, one item per transaction\n",
    "    return [{'id': record['id'], \n",
    "             'name': record['name'], \n",
    "             'amount': transaction['amount'], \n",
    "             'transaction-id': transaction['transaction-id']}\n",
    "            for transaction in record['transactions']]\n",
    "\n",
    "transactions = js.map(denormalize).flatten()\n",
    "transactions.take(3)"
   ]
  },
  {
   "cell_type": "code",
   "execution_count": 29,
   "metadata": {
    "execution": {
     "iopub.execute_input": "2021-12-10T20:51:13.716768Z",
     "iopub.status.busy": "2021-12-10T20:51:13.714661Z",
     "iopub.status.idle": "2021-12-10T20:51:13.793188Z",
     "shell.execute_reply": "2021-12-10T20:51:13.793899Z"
    }
   },
   "outputs": [
    {
     "data": {
      "text/html": [
       "<div>\n",
       "<style scoped>\n",
       "    .dataframe tbody tr th:only-of-type {\n",
       "        vertical-align: middle;\n",
       "    }\n",
       "\n",
       "    .dataframe tbody tr th {\n",
       "        vertical-align: top;\n",
       "    }\n",
       "\n",
       "    .dataframe thead th {\n",
       "        text-align: right;\n",
       "    }\n",
       "</style>\n",
       "<table border=\"1\" class=\"dataframe\">\n",
       "  <thead>\n",
       "    <tr style=\"text-align: right;\">\n",
       "      <th></th>\n",
       "      <th>id</th>\n",
       "      <th>name</th>\n",
       "      <th>amount</th>\n",
       "      <th>transaction-id</th>\n",
       "    </tr>\n",
       "  </thead>\n",
       "  <tbody>\n",
       "    <tr>\n",
       "      <th>0</th>\n",
       "      <td>0</td>\n",
       "      <td>Oliver</td>\n",
       "      <td>344</td>\n",
       "      <td>123</td>\n",
       "    </tr>\n",
       "    <tr>\n",
       "      <th>1</th>\n",
       "      <td>0</td>\n",
       "      <td>Oliver</td>\n",
       "      <td>355</td>\n",
       "      <td>179</td>\n",
       "    </tr>\n",
       "    <tr>\n",
       "      <th>2</th>\n",
       "      <td>0</td>\n",
       "      <td>Oliver</td>\n",
       "      <td>310</td>\n",
       "      <td>317</td>\n",
       "    </tr>\n",
       "    <tr>\n",
       "      <th>3</th>\n",
       "      <td>0</td>\n",
       "      <td>Oliver</td>\n",
       "      <td>335</td>\n",
       "      <td>412</td>\n",
       "    </tr>\n",
       "    <tr>\n",
       "      <th>4</th>\n",
       "      <td>0</td>\n",
       "      <td>Oliver</td>\n",
       "      <td>340</td>\n",
       "      <td>704</td>\n",
       "    </tr>\n",
       "  </tbody>\n",
       "</table>\n",
       "</div>"
      ],
      "text/plain": [
       "   id    name  amount  transaction-id\n",
       "0   0  Oliver     344             123\n",
       "1   0  Oliver     355             179\n",
       "2   0  Oliver     310             317\n",
       "3   0  Oliver     335             412\n",
       "4   0  Oliver     340             704"
      ]
     },
     "execution_count": 29,
     "metadata": {},
     "output_type": "execute_result"
    }
   ],
   "source": [
    "df = transactions.to_dataframe()\n",
    "df.head()"
   ]
  },
  {
   "cell_type": "code",
   "execution_count": 30,
   "metadata": {
    "execution": {
     "iopub.execute_input": "2021-12-10T20:51:13.797440Z",
     "iopub.status.busy": "2021-12-10T20:51:13.796664Z",
     "iopub.status.idle": "2021-12-10T20:51:14.888019Z",
     "shell.execute_reply": "2021-12-10T20:51:14.887588Z"
    }
   },
   "outputs": [
    {
     "name": "stdout",
     "output_type": "stream",
     "text": [
      "CPU times: user 193 ms, sys: 9.68 ms, total: 203 ms\n",
      "Wall time: 1.08 s\n"
     ]
    },
    {
     "data": {
      "text/plain": [
       "name\n",
       "Alice       21291\n",
       "Bob         18458\n",
       "Charlie     21486\n",
       "Dan         12713\n",
       "Edith       26156\n",
       "Frank       16047\n",
       "George      19717\n",
       "Hannah      10189\n",
       "Ingrid      14918\n",
       "Jerry        6662\n",
       "Kevin       23077\n",
       "Laura       29886\n",
       "Michael     34388\n",
       "Norbert     18314\n",
       "Oliver      12062\n",
       "Patricia    21141\n",
       "Quinn       16455\n",
       "Ray         20560\n",
       "Sarah        7392\n",
       "Tim          6740\n",
       "Ursula      23389\n",
       "Victor      18795\n",
       "Wendy       35331\n",
       "Xavier      19208\n",
       "Yvonne      26163\n",
       "Zelda       19462\n",
       "Name: transaction-id, dtype: int64"
      ]
     },
     "execution_count": 30,
     "metadata": {},
     "output_type": "execute_result"
    }
   ],
   "source": [
    "%%time\n",
    "# number of transactions per name\n",
    "# note that the time here includes the data load and ingestion\n",
    "df.groupby('name')['transaction-id'].count().compute()"
   ]
  },
  {
   "cell_type": "markdown",
   "metadata": {},
   "source": [
    "## Limitations"
   ]
  },
  {
   "cell_type": "markdown",
   "metadata": {},
   "source": [
    "Bags provide very general computation (any Python function.)  This generality\n",
    "comes at cost.  Bags have the following known limitations\n",
    "\n",
    "1.  Bag operations tend to be slower than array/dataframe computations in the\n",
    "    same way that Python tends to be slower than NumPy/Pandas\n",
    "2.  ``Bag.groupby`` is slow.  You should try to use ``Bag.foldby`` if possible.\n",
    "    Using ``Bag.foldby`` requires more thought. Even better, consider creating\n",
    "    a normalised dataframe."
   ]
  },
  {
   "cell_type": "markdown",
   "metadata": {},
   "source": [
    "## Learn More\n",
    "\n",
    "* [Bag documentation](https://docs.dask.org/en/latest/bag.html)\n",
    "* [Bag screencast](https://youtu.be/-qIiJ1XtSv0)\n",
    "* [Bag API](https://docs.dask.org/en/latest/bag-api.html)\n",
    "* [Bag examples](https://examples.dask.org/bag.html)"
   ]
  },
  {
   "cell_type": "markdown",
   "metadata": {},
   "source": [
    "## Shutdown"
   ]
  },
  {
   "cell_type": "code",
   "execution_count": 31,
   "metadata": {
    "execution": {
     "iopub.execute_input": "2021-12-10T20:51:14.892682Z",
     "iopub.status.busy": "2021-12-10T20:51:14.892138Z",
     "iopub.status.idle": "2021-12-10T20:51:15.362199Z",
     "shell.execute_reply": "2021-12-10T20:51:15.362570Z"
    }
   },
   "outputs": [],
   "source": [
    "client.shutdown()"
   ]
  }
 ],
 "metadata": {
  "anaconda-cloud": {},
  "kernelspec": {
   "display_name": "Python 3",
   "language": "python",
   "name": "python3"
  },
  "language_info": {
   "codemirror_mode": {
    "name": "ipython",
    "version": 3
   },
   "file_extension": ".py",
   "mimetype": "text/x-python",
   "name": "python",
   "nbconvert_exporter": "python",
   "pygments_lexer": "ipython3",
   "version": "3.8.12"
  }
 },
 "nbformat": 4,
 "nbformat_minor": 4
}
