{
 "cells": [
  {
   "cell_type": "markdown",
   "metadata": {},
   "source": [
    "<img src=\"images/dask_horizontal.svg\" align=\"right\" width=\"30%\">"
   ]
  },
  {
   "cell_type": "markdown",
   "metadata": {},
   "source": [
    "# Bag: Parallel Lists for semi-structured data"
   ]
  },
  {
   "cell_type": "markdown",
   "metadata": {},
   "source": [
    "Dask-bag excels in processing data that can be represented as a sequence of arbitrary inputs. We'll refer to this as \"messy\" data, because it can contain complex nested structures, missing fields, mixtures of data types, etc. The *functional* programming style fits very nicely with standard Python iteration, such as can be found in the `itertools` module.\n",
    "\n",
    "Messy data is often encountered at the beginning of data processing pipelines when large volumes of raw data are first consumed. The initial set of data might be JSON, CSV, XML, or any other format that does not enforce strict structure and datatypes.\n",
    "For this reason, the initial data massaging and processing is often done with Python `list`s, `dict`s, and `set`s.\n",
    "\n",
    "These core data structures are optimized for general-purpose storage and processing.  Adding streaming computation with iterators/generator expressions or libraries like `itertools` or [`toolz`](https://toolz.readthedocs.io/en/latest/) let us process large volumes in a small space.  If we combine this with parallel processing then we can churn through a fair amount of data.\n",
    "\n",
    "Dask.bag is a high level Dask collection to automate common workloads of this form.  In a nutshell\n",
    "\n",
    "    dask.bag = map, filter, toolz + parallel execution\n",
    "    \n",
    "**Related Documentation**\n",
    "\n",
    "* [Bag documentation](https://docs.dask.org/en/latest/bag.html)\n",
    "* [Bag screencast](https://youtu.be/-qIiJ1XtSv0)\n",
    "* [Bag API](https://docs.dask.org/en/latest/bag-api.html)\n",
    "* [Bag examples](https://examples.dask.org/bag.html)"
   ]
  },
  {
   "cell_type": "markdown",
   "metadata": {},
   "source": [
    "## Create data"
   ]
  },
  {
   "cell_type": "code",
   "execution_count": 1,
   "metadata": {
    "execution": {
     "iopub.execute_input": "2021-04-08T14:51:57.752858Z",
     "iopub.status.busy": "2021-04-08T14:51:57.752208Z",
     "iopub.status.idle": "2021-04-08T14:51:58.370728Z",
     "shell.execute_reply": "2021-04-08T14:51:58.369839Z"
    }
   },
   "outputs": [],
   "source": [
    "%run prep.py -d accounts"
   ]
  },
  {
   "cell_type": "markdown",
   "metadata": {},
   "source": [
    "## Setup"
   ]
  },
  {
   "cell_type": "markdown",
   "metadata": {},
   "source": [
    "Again, we'll use the distributed scheduler. Schedulers will be explained in depth [later](05_distributed.ipynb)."
   ]
  },
  {
   "cell_type": "code",
   "execution_count": 2,
   "metadata": {
    "execution": {
     "iopub.execute_input": "2021-04-08T14:51:58.375445Z",
     "iopub.status.busy": "2021-04-08T14:51:58.374817Z",
     "iopub.status.idle": "2021-04-08T14:52:00.074296Z",
     "shell.execute_reply": "2021-04-08T14:52:00.074799Z"
    }
   },
   "outputs": [],
   "source": [
    "from dask.distributed import Client\n",
    "\n",
    "client = Client(n_workers=4)"
   ]
  },
  {
   "cell_type": "markdown",
   "metadata": {},
   "source": [
    "## Creation"
   ]
  },
  {
   "cell_type": "markdown",
   "metadata": {},
   "source": [
    "You can create a `Bag` from a Python sequence, from files, from data on S3, etc.\n",
    "We demonstrate using `.take()` to show elements of the data. (Doing `.take(1)` results in a tuple with one element)\n",
    "\n",
    "Note that the data are partitioned into blocks, and there are many items per block. In the first example, the two partitions contain five elements each, and in the following two, each file is partitioned into one or more bytes blocks."
   ]
  },
  {
   "cell_type": "code",
   "execution_count": 3,
   "metadata": {
    "execution": {
     "iopub.execute_input": "2021-04-08T14:52:00.079159Z",
     "iopub.status.busy": "2021-04-08T14:52:00.078657Z",
     "iopub.status.idle": "2021-04-08T14:52:00.185825Z",
     "shell.execute_reply": "2021-04-08T14:52:00.185361Z"
    }
   },
   "outputs": [
    {
     "data": {
      "text/plain": [
       "(1, 2, 3)"
      ]
     },
     "execution_count": 1,
     "metadata": {},
     "output_type": "execute_result"
    }
   ],
   "source": [
    "# each element is an integer\n",
    "import dask.bag as db\n",
    "b = db.from_sequence([1, 2, 3, 4, 5, 6, 7, 8, 9, 10], npartitions=2)\n",
    "b.take(3)"
   ]
  },
  {
   "cell_type": "code",
   "execution_count": 4,
   "metadata": {
    "execution": {
     "iopub.execute_input": "2021-04-08T14:52:00.191019Z",
     "iopub.status.busy": "2021-04-08T14:52:00.189287Z",
     "iopub.status.idle": "2021-04-08T14:52:00.216980Z",
     "shell.execute_reply": "2021-04-08T14:52:00.216522Z"
    }
   },
   "outputs": [
    {
     "data": {
      "text/plain": [
       "('{\"id\": 0, \"name\": \"Ingrid\", \"transactions\": [{\"transaction-id\": 27, \"amount\": 3625}, {\"transaction-id\": 184, \"amount\": 3349}, {\"transaction-id\": 435, \"amount\": 3467}, {\"transaction-id\": 782, \"amount\": 3332}, {\"transaction-id\": 888, \"amount\": 3134}, {\"transaction-id\": 1156, \"amount\": 3635}, {\"transaction-id\": 1299, \"amount\": 3227}, {\"transaction-id\": 1763, \"amount\": 3259}, {\"transaction-id\": 2148, \"amount\": 3426}, {\"transaction-id\": 2211, \"amount\": 2958}, {\"transaction-id\": 2275, \"amount\": 3494}, {\"transaction-id\": 2598, \"amount\": 3236}, {\"transaction-id\": 2695, \"amount\": 3242}, {\"transaction-id\": 2732, \"amount\": 3360}, {\"transaction-id\": 3167, \"amount\": 3555}, {\"transaction-id\": 3201, \"amount\": 3128}, {\"transaction-id\": 3270, \"amount\": 3365}, {\"transaction-id\": 3353, \"amount\": 3493}, {\"transaction-id\": 3431, \"amount\": 2996}, {\"transaction-id\": 3488, \"amount\": 3364}, {\"transaction-id\": 4015, \"amount\": 3277}, {\"transaction-id\": 4236, \"amount\": 3191}, {\"transaction-id\": 4361, \"amount\": 3136}, {\"transaction-id\": 4487, \"amount\": 3323}, {\"transaction-id\": 4660, \"amount\": 3071}, {\"transaction-id\": 4839, \"amount\": 3118}, {\"transaction-id\": 5324, \"amount\": 3435}, {\"transaction-id\": 5834, \"amount\": 3306}, {\"transaction-id\": 5847, \"amount\": 3325}, {\"transaction-id\": 6394, \"amount\": 3427}, {\"transaction-id\": 6921, \"amount\": 3084}, {\"transaction-id\": 7076, \"amount\": 3055}, {\"transaction-id\": 7175, \"amount\": 3292}, {\"transaction-id\": 8059, \"amount\": 3339}, {\"transaction-id\": 8251, \"amount\": 3802}, {\"transaction-id\": 8403, \"amount\": 3596}, {\"transaction-id\": 8650, \"amount\": 3445}, {\"transaction-id\": 8684, \"amount\": 3597}]}\\n',)"
      ]
     },
     "execution_count": 1,
     "metadata": {},
     "output_type": "execute_result"
    }
   ],
   "source": [
    "# each element is a text file, where each line is a JSON object\n",
    "# note that the compression is handled automatically\n",
    "import os\n",
    "b = db.read_text(os.path.join('data', 'accounts.*.json.gz'))\n",
    "b.take(1)"
   ]
  },
  {
   "cell_type": "code",
   "execution_count": 5,
   "metadata": {
    "execution": {
     "iopub.execute_input": "2021-04-08T14:52:00.221039Z",
     "iopub.status.busy": "2021-04-08T14:52:00.220544Z",
     "iopub.status.idle": "2021-04-08T14:52:00.223098Z",
     "shell.execute_reply": "2021-04-08T14:52:00.223500Z"
    }
   },
   "outputs": [
    {
     "data": {
      "text/plain": [
       "'s3://dask-data/nyc-taxi/2015/yellow_tripdata_2015-01.csv'"
      ]
     },
     "execution_count": 1,
     "metadata": {},
     "output_type": "execute_result"
    }
   ],
   "source": [
    "# Edit sources.py to configure source locations\n",
    "import sources\n",
    "sources.bag_url"
   ]
  },
  {
   "cell_type": "code",
   "execution_count": 6,
   "metadata": {
    "execution": {
     "iopub.execute_input": "2021-04-08T14:52:00.226873Z",
     "iopub.status.busy": "2021-04-08T14:52:00.226367Z",
     "iopub.status.idle": "2021-04-08T14:52:01.933706Z",
     "shell.execute_reply": "2021-04-08T14:52:01.933214Z"
    }
   },
   "outputs": [
    {
     "data": {
      "text/plain": [
       "('VendorID,tpep_pickup_datetime,tpep_dropoff_datetime,passenger_count,trip_distance,pickup_longitude,pickup_latitude,RateCodeID,store_and_fwd_flag,dropoff_longitude,dropoff_latitude,payment_type,fare_amount,extra,mta_tax,tip_amount,tolls_amount,improvement_surcharge,total_amount\\n',)"
      ]
     },
     "execution_count": 1,
     "metadata": {},
     "output_type": "execute_result"
    }
   ],
   "source": [
    "# Requires `s3fs` library\n",
    "# each partition is a remote CSV text file\n",
    "b = db.read_text(sources.bag_url,\n",
    "                 storage_options={'anon': True})\n",
    "b.take(1)"
   ]
  },
  {
   "cell_type": "markdown",
   "metadata": {},
   "source": [
    "## Manipulation"
   ]
  },
  {
   "cell_type": "markdown",
   "metadata": {},
   "source": [
    "`Bag` objects hold the standard functional API found in projects like the Python standard library, `toolz`, or `pyspark`, including `map`, `filter`, `groupby`, etc..\n",
    "\n",
    "Operations on `Bag` objects create new bags.  Call the `.compute()` method to trigger execution, as we saw for `Delayed` objects.  "
   ]
  },
  {
   "cell_type": "code",
   "execution_count": 7,
   "metadata": {
    "execution": {
     "iopub.execute_input": "2021-04-08T14:52:01.939905Z",
     "iopub.status.busy": "2021-04-08T14:52:01.939384Z",
     "iopub.status.idle": "2021-04-08T14:52:01.944521Z",
     "shell.execute_reply": "2021-04-08T14:52:01.944938Z"
    }
   },
   "outputs": [
    {
     "data": {
      "text/plain": [
       "dask.bag<lambda, npartitions=10>"
      ]
     },
     "execution_count": 1,
     "metadata": {},
     "output_type": "execute_result"
    }
   ],
   "source": [
    "def is_even(n):\n",
    "    return n % 2 == 0\n",
    "\n",
    "b = db.from_sequence([1, 2, 3, 4, 5, 6, 7, 8, 9, 10])\n",
    "c = b.filter(is_even).map(lambda x: x ** 2)\n",
    "c"
   ]
  },
  {
   "cell_type": "code",
   "execution_count": 8,
   "metadata": {
    "execution": {
     "iopub.execute_input": "2021-04-08T14:52:01.948248Z",
     "iopub.status.busy": "2021-04-08T14:52:01.947772Z",
     "iopub.status.idle": "2021-04-08T14:52:02.083004Z",
     "shell.execute_reply": "2021-04-08T14:52:02.082267Z"
    }
   },
   "outputs": [
    {
     "data": {
      "text/plain": [
       "[4, 16, 36, 64, 100]"
      ]
     },
     "execution_count": 1,
     "metadata": {},
     "output_type": "execute_result"
    }
   ],
   "source": [
    "# blocking form: wait for completion (which is very fast in this case)\n",
    "c.compute()"
   ]
  },
  {
   "cell_type": "markdown",
   "metadata": {},
   "source": [
    "### Example: Accounts JSON data"
   ]
  },
  {
   "cell_type": "markdown",
   "metadata": {},
   "source": [
    "We've created a fake dataset of gzipped JSON data in your data directory.  This is like the example used in the `DataFrame` example we will see later, except that it has bundled up all of the entries for each individual `id` into a single record.  This is similar to data that you might collect off of a document store database or a web API.\n",
    "\n",
    "Each line is a JSON encoded dictionary with the following keys\n",
    "\n",
    "*  id: Unique identifier of the customer\n",
    "*  name: Name of the customer\n",
    "*  transactions: List of `transaction-id`, `amount` pairs, one for each transaction for the customer in that file"
   ]
  },
  {
   "cell_type": "code",
   "execution_count": 9,
   "metadata": {
    "execution": {
     "iopub.execute_input": "2021-04-08T14:52:02.087510Z",
     "iopub.status.busy": "2021-04-08T14:52:02.086718Z",
     "iopub.status.idle": "2021-04-08T14:52:02.114898Z",
     "shell.execute_reply": "2021-04-08T14:52:02.114400Z"
    }
   },
   "outputs": [
    {
     "data": {
      "text/plain": [
       "('{\"id\": 0, \"name\": \"Ingrid\", \"transactions\": [{\"transaction-id\": 27, \"amount\": 3625}, {\"transaction-id\": 184, \"amount\": 3349}, {\"transaction-id\": 435, \"amount\": 3467}, {\"transaction-id\": 782, \"amount\": 3332}, {\"transaction-id\": 888, \"amount\": 3134}, {\"transaction-id\": 1156, \"amount\": 3635}, {\"transaction-id\": 1299, \"amount\": 3227}, {\"transaction-id\": 1763, \"amount\": 3259}, {\"transaction-id\": 2148, \"amount\": 3426}, {\"transaction-id\": 2211, \"amount\": 2958}, {\"transaction-id\": 2275, \"amount\": 3494}, {\"transaction-id\": 2598, \"amount\": 3236}, {\"transaction-id\": 2695, \"amount\": 3242}, {\"transaction-id\": 2732, \"amount\": 3360}, {\"transaction-id\": 3167, \"amount\": 3555}, {\"transaction-id\": 3201, \"amount\": 3128}, {\"transaction-id\": 3270, \"amount\": 3365}, {\"transaction-id\": 3353, \"amount\": 3493}, {\"transaction-id\": 3431, \"amount\": 2996}, {\"transaction-id\": 3488, \"amount\": 3364}, {\"transaction-id\": 4015, \"amount\": 3277}, {\"transaction-id\": 4236, \"amount\": 3191}, {\"transaction-id\": 4361, \"amount\": 3136}, {\"transaction-id\": 4487, \"amount\": 3323}, {\"transaction-id\": 4660, \"amount\": 3071}, {\"transaction-id\": 4839, \"amount\": 3118}, {\"transaction-id\": 5324, \"amount\": 3435}, {\"transaction-id\": 5834, \"amount\": 3306}, {\"transaction-id\": 5847, \"amount\": 3325}, {\"transaction-id\": 6394, \"amount\": 3427}, {\"transaction-id\": 6921, \"amount\": 3084}, {\"transaction-id\": 7076, \"amount\": 3055}, {\"transaction-id\": 7175, \"amount\": 3292}, {\"transaction-id\": 8059, \"amount\": 3339}, {\"transaction-id\": 8251, \"amount\": 3802}, {\"transaction-id\": 8403, \"amount\": 3596}, {\"transaction-id\": 8650, \"amount\": 3445}, {\"transaction-id\": 8684, \"amount\": 3597}]}\\n',\n",
       " '{\"id\": 1, \"name\": \"Norbert\", \"transactions\": [{\"transaction-id\": 8801, \"amount\": 1413}]}\\n',\n",
       " '{\"id\": 2, \"name\": \"Dan\", \"transactions\": [{\"transaction-id\": 251, \"amount\": 8}, {\"transaction-id\": 685, \"amount\": 18}, {\"transaction-id\": 2798, \"amount\": 9}, {\"transaction-id\": 3405, \"amount\": 15}, {\"transaction-id\": 3953, \"amount\": 11}, {\"transaction-id\": 4110, \"amount\": 18}, {\"transaction-id\": 4228, \"amount\": 18}, {\"transaction-id\": 4239, \"amount\": 11}, {\"transaction-id\": 5396, \"amount\": 15}, {\"transaction-id\": 5465, \"amount\": 15}, {\"transaction-id\": 6688, \"amount\": 9}, {\"transaction-id\": 7269, \"amount\": 14}, {\"transaction-id\": 7650, \"amount\": 15}, {\"transaction-id\": 9243, \"amount\": 9}, {\"transaction-id\": 9413, \"amount\": 14}, {\"transaction-id\": 9967, \"amount\": 12}]}\\n')"
      ]
     },
     "execution_count": 1,
     "metadata": {},
     "output_type": "execute_result"
    }
   ],
   "source": [
    "filename = os.path.join('data', 'accounts.*.json.gz')\n",
    "lines = db.read_text(filename)\n",
    "lines.take(3)"
   ]
  },
  {
   "cell_type": "markdown",
   "metadata": {},
   "source": [
    "Our data comes out of the file as lines of text. Notice that file decompression happened automatically. We can make this data look more reasonable by mapping the `json.loads` function onto our bag."
   ]
  },
  {
   "cell_type": "code",
   "execution_count": 10,
   "metadata": {
    "execution": {
     "iopub.execute_input": "2021-04-08T14:52:02.119196Z",
     "iopub.status.busy": "2021-04-08T14:52:02.118697Z",
     "iopub.status.idle": "2021-04-08T14:52:02.143241Z",
     "shell.execute_reply": "2021-04-08T14:52:02.142649Z"
    }
   },
   "outputs": [
    {
     "data": {
      "text/plain": [
       "({'id': 0,\n",
       "  'name': 'Ingrid',\n",
       "  'transactions': [{'transaction-id': 27, 'amount': 3625},\n",
       "   {'transaction-id': 184, 'amount': 3349},\n",
       "   {'transaction-id': 435, 'amount': 3467},\n",
       "   {'transaction-id': 782, 'amount': 3332},\n",
       "   {'transaction-id': 888, 'amount': 3134},\n",
       "   {'transaction-id': 1156, 'amount': 3635},\n",
       "   {'transaction-id': 1299, 'amount': 3227},\n",
       "   {'transaction-id': 1763, 'amount': 3259},\n",
       "   {'transaction-id': 2148, 'amount': 3426},\n",
       "   {'transaction-id': 2211, 'amount': 2958},\n",
       "   {'transaction-id': 2275, 'amount': 3494},\n",
       "   {'transaction-id': 2598, 'amount': 3236},\n",
       "   {'transaction-id': 2695, 'amount': 3242},\n",
       "   {'transaction-id': 2732, 'amount': 3360},\n",
       "   {'transaction-id': 3167, 'amount': 3555},\n",
       "   {'transaction-id': 3201, 'amount': 3128},\n",
       "   {'transaction-id': 3270, 'amount': 3365},\n",
       "   {'transaction-id': 3353, 'amount': 3493},\n",
       "   {'transaction-id': 3431, 'amount': 2996},\n",
       "   {'transaction-id': 3488, 'amount': 3364},\n",
       "   {'transaction-id': 4015, 'amount': 3277},\n",
       "   {'transaction-id': 4236, 'amount': 3191},\n",
       "   {'transaction-id': 4361, 'amount': 3136},\n",
       "   {'transaction-id': 4487, 'amount': 3323},\n",
       "   {'transaction-id': 4660, 'amount': 3071},\n",
       "   {'transaction-id': 4839, 'amount': 3118},\n",
       "   {'transaction-id': 5324, 'amount': 3435},\n",
       "   {'transaction-id': 5834, 'amount': 3306},\n",
       "   {'transaction-id': 5847, 'amount': 3325},\n",
       "   {'transaction-id': 6394, 'amount': 3427},\n",
       "   {'transaction-id': 6921, 'amount': 3084},\n",
       "   {'transaction-id': 7076, 'amount': 3055},\n",
       "   {'transaction-id': 7175, 'amount': 3292},\n",
       "   {'transaction-id': 8059, 'amount': 3339},\n",
       "   {'transaction-id': 8251, 'amount': 3802},\n",
       "   {'transaction-id': 8403, 'amount': 3596},\n",
       "   {'transaction-id': 8650, 'amount': 3445},\n",
       "   {'transaction-id': 8684, 'amount': 3597}]},\n",
       " {'id': 1,\n",
       "  'name': 'Norbert',\n",
       "  'transactions': [{'transaction-id': 8801, 'amount': 1413}]},\n",
       " {'id': 2,\n",
       "  'name': 'Dan',\n",
       "  'transactions': [{'transaction-id': 251, 'amount': 8},\n",
       "   {'transaction-id': 685, 'amount': 18},\n",
       "   {'transaction-id': 2798, 'amount': 9},\n",
       "   {'transaction-id': 3405, 'amount': 15},\n",
       "   {'transaction-id': 3953, 'amount': 11},\n",
       "   {'transaction-id': 4110, 'amount': 18},\n",
       "   {'transaction-id': 4228, 'amount': 18},\n",
       "   {'transaction-id': 4239, 'amount': 11},\n",
       "   {'transaction-id': 5396, 'amount': 15},\n",
       "   {'transaction-id': 5465, 'amount': 15},\n",
       "   {'transaction-id': 6688, 'amount': 9},\n",
       "   {'transaction-id': 7269, 'amount': 14},\n",
       "   {'transaction-id': 7650, 'amount': 15},\n",
       "   {'transaction-id': 9243, 'amount': 9},\n",
       "   {'transaction-id': 9413, 'amount': 14},\n",
       "   {'transaction-id': 9967, 'amount': 12}]})"
      ]
     },
     "execution_count": 1,
     "metadata": {},
     "output_type": "execute_result"
    }
   ],
   "source": [
    "import json\n",
    "js = lines.map(json.loads)\n",
    "# take: inspect first few elements\n",
    "js.take(3)"
   ]
  },
  {
   "cell_type": "markdown",
   "metadata": {},
   "source": [
    "### Basic Queries"
   ]
  },
  {
   "cell_type": "markdown",
   "metadata": {},
   "source": [
    "Once we parse our JSON data into proper Python objects (`dict`s, `list`s, etc.) we can perform more interesting queries by creating small Python functions to run on our data."
   ]
  },
  {
   "cell_type": "code",
   "execution_count": 11,
   "metadata": {
    "execution": {
     "iopub.execute_input": "2021-04-08T14:52:02.150083Z",
     "iopub.status.busy": "2021-04-08T14:52:02.148344Z",
     "iopub.status.idle": "2021-04-08T14:52:02.179467Z",
     "shell.execute_reply": "2021-04-08T14:52:02.179002Z"
    }
   },
   "outputs": [
    {
     "data": {
      "text/plain": [
       "({'id': 45,\n",
       "  'name': 'Alice',\n",
       "  'transactions': [{'transaction-id': 44, 'amount': 2221},\n",
       "   {'transaction-id': 116, 'amount': 1922},\n",
       "   {'transaction-id': 211, 'amount': 1793},\n",
       "   {'transaction-id': 265, 'amount': 2403},\n",
       "   {'transaction-id': 354, 'amount': 1762},\n",
       "   {'transaction-id': 651, 'amount': 2663},\n",
       "   {'transaction-id': 660, 'amount': 1744},\n",
       "   {'transaction-id': 800, 'amount': 2315},\n",
       "   {'transaction-id': 929, 'amount': 2079},\n",
       "   {'transaction-id': 985, 'amount': 1979},\n",
       "   {'transaction-id': 1048, 'amount': 2206},\n",
       "   {'transaction-id': 1276, 'amount': 2487},\n",
       "   {'transaction-id': 1313, 'amount': 2431},\n",
       "   {'transaction-id': 1458, 'amount': 1843},\n",
       "   {'transaction-id': 1478, 'amount': 2076},\n",
       "   {'transaction-id': 1561, 'amount': 1644},\n",
       "   {'transaction-id': 1587, 'amount': 2422},\n",
       "   {'transaction-id': 2198, 'amount': 2144},\n",
       "   {'transaction-id': 2415, 'amount': 2082},\n",
       "   {'transaction-id': 2765, 'amount': 1208},\n",
       "   {'transaction-id': 2894, 'amount': 1735},\n",
       "   {'transaction-id': 2993, 'amount': 2189},\n",
       "   {'transaction-id': 3071, 'amount': 1924},\n",
       "   {'transaction-id': 3243, 'amount': 1959},\n",
       "   {'transaction-id': 3917, 'amount': 1972},\n",
       "   {'transaction-id': 4061, 'amount': 2182},\n",
       "   {'transaction-id': 4086, 'amount': 2644},\n",
       "   {'transaction-id': 4089, 'amount': 1994},\n",
       "   {'transaction-id': 4149, 'amount': 1892},\n",
       "   {'transaction-id': 4171, 'amount': 1815},\n",
       "   {'transaction-id': 4268, 'amount': 2639},\n",
       "   {'transaction-id': 4279, 'amount': 2305},\n",
       "   {'transaction-id': 4461, 'amount': 2213},\n",
       "   {'transaction-id': 5023, 'amount': 2138},\n",
       "   {'transaction-id': 5343, 'amount': 2355},\n",
       "   {'transaction-id': 5360, 'amount': 2106},\n",
       "   {'transaction-id': 5621, 'amount': 1775},\n",
       "   {'transaction-id': 5796, 'amount': 1543},\n",
       "   {'transaction-id': 5860, 'amount': 1921},\n",
       "   {'transaction-id': 6005, 'amount': 2023},\n",
       "   {'transaction-id': 6345, 'amount': 1988},\n",
       "   {'transaction-id': 6354, 'amount': 1962},\n",
       "   {'transaction-id': 6734, 'amount': 2033},\n",
       "   {'transaction-id': 6821, 'amount': 2345},\n",
       "   {'transaction-id': 6932, 'amount': 2166},\n",
       "   {'transaction-id': 6991, 'amount': 1859},\n",
       "   {'transaction-id': 7256, 'amount': 1717},\n",
       "   {'transaction-id': 7395, 'amount': 2006},\n",
       "   {'transaction-id': 7417, 'amount': 2080},\n",
       "   {'transaction-id': 7528, 'amount': 2040},\n",
       "   {'transaction-id': 7552, 'amount': 2341},\n",
       "   {'transaction-id': 7797, 'amount': 2286},\n",
       "   {'transaction-id': 7847, 'amount': 2342},\n",
       "   {'transaction-id': 7859, 'amount': 2571},\n",
       "   {'transaction-id': 7901, 'amount': 2043},\n",
       "   {'transaction-id': 8040, 'amount': 2209},\n",
       "   {'transaction-id': 8188, 'amount': 1787},\n",
       "   {'transaction-id': 8294, 'amount': 2253},\n",
       "   {'transaction-id': 8298, 'amount': 1767},\n",
       "   {'transaction-id': 8301, 'amount': 1742},\n",
       "   {'transaction-id': 8509, 'amount': 2263},\n",
       "   {'transaction-id': 8723, 'amount': 2074},\n",
       "   {'transaction-id': 8891, 'amount': 1556},\n",
       "   {'transaction-id': 8908, 'amount': 1934},\n",
       "   {'transaction-id': 8911, 'amount': 2250},\n",
       "   {'transaction-id': 8957, 'amount': 2107},\n",
       "   {'transaction-id': 9152, 'amount': 1782},\n",
       "   {'transaction-id': 9171, 'amount': 2217},\n",
       "   {'transaction-id': 9337, 'amount': 2010},\n",
       "   {'transaction-id': 9415, 'amount': 2315},\n",
       "   {'transaction-id': 9493, 'amount': 2263},\n",
       "   {'transaction-id': 9582, 'amount': 2365},\n",
       "   {'transaction-id': 9833, 'amount': 2270},\n",
       "   {'transaction-id': 9995, 'amount': 1827}]},\n",
       " {'id': 86,\n",
       "  'name': 'Alice',\n",
       "  'transactions': [{'transaction-id': 540, 'amount': 379},\n",
       "   {'transaction-id': 2659, 'amount': 298},\n",
       "   {'transaction-id': 5407, 'amount': 255},\n",
       "   {'transaction-id': 8226, 'amount': 348},\n",
       "   {'transaction-id': 8896, 'amount': 427}]},\n",
       " {'id': 111,\n",
       "  'name': 'Alice',\n",
       "  'transactions': [{'transaction-id': 1059, 'amount': 799},\n",
       "   {'transaction-id': 1655, 'amount': 840},\n",
       "   {'transaction-id': 2212, 'amount': 957},\n",
       "   {'transaction-id': 3170, 'amount': 872},\n",
       "   {'transaction-id': 3304, 'amount': 888},\n",
       "   {'transaction-id': 4187, 'amount': 876},\n",
       "   {'transaction-id': 5431, 'amount': 841},\n",
       "   {'transaction-id': 5733, 'amount': 907},\n",
       "   {'transaction-id': 5973, 'amount': 974},\n",
       "   {'transaction-id': 6241, 'amount': 960},\n",
       "   {'transaction-id': 6263, 'amount': 912},\n",
       "   {'transaction-id': 6482, 'amount': 878},\n",
       "   {'transaction-id': 6728, 'amount': 892},\n",
       "   {'transaction-id': 6897, 'amount': 921},\n",
       "   {'transaction-id': 7022, 'amount': 872},\n",
       "   {'transaction-id': 7129, 'amount': 1002},\n",
       "   {'transaction-id': 7280, 'amount': 765},\n",
       "   {'transaction-id': 7409, 'amount': 966},\n",
       "   {'transaction-id': 7694, 'amount': 985},\n",
       "   {'transaction-id': 8428, 'amount': 991},\n",
       "   {'transaction-id': 9159, 'amount': 846},\n",
       "   {'transaction-id': 9622, 'amount': 957}]},\n",
       " {'id': 112,\n",
       "  'name': 'Alice',\n",
       "  'transactions': [{'transaction-id': 467, 'amount': -516},\n",
       "   {'transaction-id': 672, 'amount': -472},\n",
       "   {'transaction-id': 810, 'amount': -541},\n",
       "   {'transaction-id': 1207, 'amount': -496},\n",
       "   {'transaction-id': 1586, 'amount': -577},\n",
       "   {'transaction-id': 1620, 'amount': -544},\n",
       "   {'transaction-id': 1791, 'amount': -443},\n",
       "   {'transaction-id': 2384, 'amount': -469},\n",
       "   {'transaction-id': 2428, 'amount': -451},\n",
       "   {'transaction-id': 2879, 'amount': -503},\n",
       "   {'transaction-id': 4280, 'amount': -509},\n",
       "   {'transaction-id': 4387, 'amount': -411},\n",
       "   {'transaction-id': 4541, 'amount': -514},\n",
       "   {'transaction-id': 4796, 'amount': -504},\n",
       "   {'transaction-id': 5559, 'amount': -403},\n",
       "   {'transaction-id': 7571, 'amount': -500},\n",
       "   {'transaction-id': 8743, 'amount': -466},\n",
       "   {'transaction-id': 9461, 'amount': -471},\n",
       "   {'transaction-id': 9530, 'amount': -416},\n",
       "   {'transaction-id': 9841, 'amount': -464}]},\n",
       " {'id': 114,\n",
       "  'name': 'Alice',\n",
       "  'transactions': [{'transaction-id': 934, 'amount': 673},\n",
       "   {'transaction-id': 1193, 'amount': 687},\n",
       "   {'transaction-id': 1719, 'amount': 706},\n",
       "   {'transaction-id': 1773, 'amount': 699},\n",
       "   {'transaction-id': 1918, 'amount': 674},\n",
       "   {'transaction-id': 2150, 'amount': 738},\n",
       "   {'transaction-id': 2638, 'amount': 732},\n",
       "   {'transaction-id': 3593, 'amount': 690},\n",
       "   {'transaction-id': 5742, 'amount': 691},\n",
       "   {'transaction-id': 6107, 'amount': 709},\n",
       "   {'transaction-id': 6649, 'amount': 783},\n",
       "   {'transaction-id': 7972, 'amount': 700},\n",
       "   {'transaction-id': 9082, 'amount': 655},\n",
       "   {'transaction-id': 9964, 'amount': 746}]})"
      ]
     },
     "execution_count": 1,
     "metadata": {},
     "output_type": "execute_result"
    }
   ],
   "source": [
    "# filter: keep only some elements of the sequence\n",
    "js.filter(lambda record: record['name'] == 'Alice').take(5)"
   ]
  },
  {
   "cell_type": "code",
   "execution_count": 12,
   "metadata": {
    "execution": {
     "iopub.execute_input": "2021-04-08T14:52:02.185076Z",
     "iopub.status.busy": "2021-04-08T14:52:02.184253Z",
     "iopub.status.idle": "2021-04-08T14:52:02.203231Z",
     "shell.execute_reply": "2021-04-08T14:52:02.202778Z"
    }
   },
   "outputs": [
    {
     "data": {
      "text/plain": [
       "({'name': 'Alice', 'count': 74},\n",
       " {'name': 'Alice', 'count': 5},\n",
       " {'name': 'Alice', 'count': 22},\n",
       " {'name': 'Alice', 'count': 20},\n",
       " {'name': 'Alice', 'count': 14})"
      ]
     },
     "execution_count": 1,
     "metadata": {},
     "output_type": "execute_result"
    }
   ],
   "source": [
    "def count_transactions(d):\n",
    "    return {'name': d['name'], 'count': len(d['transactions'])}\n",
    "\n",
    "# map: apply a function to each element\n",
    "(js.filter(lambda record: record['name'] == 'Alice')\n",
    "   .map(count_transactions)\n",
    "   .take(5))"
   ]
  },
  {
   "cell_type": "code",
   "execution_count": 13,
   "metadata": {
    "execution": {
     "iopub.execute_input": "2021-04-08T14:52:02.209076Z",
     "iopub.status.busy": "2021-04-08T14:52:02.208580Z",
     "iopub.status.idle": "2021-04-08T14:52:02.228521Z",
     "shell.execute_reply": "2021-04-08T14:52:02.227787Z"
    }
   },
   "outputs": [
    {
     "data": {
      "text/plain": [
       "(74, 5, 22, 20, 14)"
      ]
     },
     "execution_count": 1,
     "metadata": {},
     "output_type": "execute_result"
    }
   ],
   "source": [
    "# pluck: select a field, as from a dictionary, element[field]\n",
    "(js.filter(lambda record: record['name'] == 'Alice')\n",
    "   .map(count_transactions)\n",
    "   .pluck('count')\n",
    "   .take(5))"
   ]
  },
  {
   "cell_type": "code",
   "execution_count": 14,
   "metadata": {
    "execution": {
     "iopub.execute_input": "2021-04-08T14:52:02.238536Z",
     "iopub.status.busy": "2021-04-08T14:52:02.230381Z",
     "iopub.status.idle": "2021-04-08T14:52:02.663915Z",
     "shell.execute_reply": "2021-04-08T14:52:02.663108Z"
    }
   },
   "outputs": [
    {
     "data": {
      "text/plain": [
       "49.806666666666665"
      ]
     },
     "execution_count": 1,
     "metadata": {},
     "output_type": "execute_result"
    }
   ],
   "source": [
    "# Average number of transactions for all of the Alice entries\n",
    "(js.filter(lambda record: record['name'] == 'Alice')\n",
    "   .map(count_transactions)\n",
    "   .pluck('count')\n",
    "   .mean()\n",
    "   .compute())"
   ]
  },
  {
   "cell_type": "markdown",
   "metadata": {},
   "source": [
    "### Use `flatten` to de-nest"
   ]
  },
  {
   "cell_type": "markdown",
   "metadata": {},
   "source": [
    "In the example below we see the use of `.flatten()` to flatten results.  We compute the average amount for all transactions for all Alices."
   ]
  },
  {
   "cell_type": "code",
   "execution_count": 15,
   "metadata": {
    "execution": {
     "iopub.execute_input": "2021-04-08T14:52:02.668784Z",
     "iopub.status.busy": "2021-04-08T14:52:02.668286Z",
     "iopub.status.idle": "2021-04-08T14:52:02.691505Z",
     "shell.execute_reply": "2021-04-08T14:52:02.691059Z"
    }
   },
   "outputs": [
    {
     "data": {
      "text/plain": [
       "([{'transaction-id': 44, 'amount': 2221},\n",
       "  {'transaction-id': 116, 'amount': 1922},\n",
       "  {'transaction-id': 211, 'amount': 1793},\n",
       "  {'transaction-id': 265, 'amount': 2403},\n",
       "  {'transaction-id': 354, 'amount': 1762},\n",
       "  {'transaction-id': 651, 'amount': 2663},\n",
       "  {'transaction-id': 660, 'amount': 1744},\n",
       "  {'transaction-id': 800, 'amount': 2315},\n",
       "  {'transaction-id': 929, 'amount': 2079},\n",
       "  {'transaction-id': 985, 'amount': 1979},\n",
       "  {'transaction-id': 1048, 'amount': 2206},\n",
       "  {'transaction-id': 1276, 'amount': 2487},\n",
       "  {'transaction-id': 1313, 'amount': 2431},\n",
       "  {'transaction-id': 1458, 'amount': 1843},\n",
       "  {'transaction-id': 1478, 'amount': 2076},\n",
       "  {'transaction-id': 1561, 'amount': 1644},\n",
       "  {'transaction-id': 1587, 'amount': 2422},\n",
       "  {'transaction-id': 2198, 'amount': 2144},\n",
       "  {'transaction-id': 2415, 'amount': 2082},\n",
       "  {'transaction-id': 2765, 'amount': 1208},\n",
       "  {'transaction-id': 2894, 'amount': 1735},\n",
       "  {'transaction-id': 2993, 'amount': 2189},\n",
       "  {'transaction-id': 3071, 'amount': 1924},\n",
       "  {'transaction-id': 3243, 'amount': 1959},\n",
       "  {'transaction-id': 3917, 'amount': 1972},\n",
       "  {'transaction-id': 4061, 'amount': 2182},\n",
       "  {'transaction-id': 4086, 'amount': 2644},\n",
       "  {'transaction-id': 4089, 'amount': 1994},\n",
       "  {'transaction-id': 4149, 'amount': 1892},\n",
       "  {'transaction-id': 4171, 'amount': 1815},\n",
       "  {'transaction-id': 4268, 'amount': 2639},\n",
       "  {'transaction-id': 4279, 'amount': 2305},\n",
       "  {'transaction-id': 4461, 'amount': 2213},\n",
       "  {'transaction-id': 5023, 'amount': 2138},\n",
       "  {'transaction-id': 5343, 'amount': 2355},\n",
       "  {'transaction-id': 5360, 'amount': 2106},\n",
       "  {'transaction-id': 5621, 'amount': 1775},\n",
       "  {'transaction-id': 5796, 'amount': 1543},\n",
       "  {'transaction-id': 5860, 'amount': 1921},\n",
       "  {'transaction-id': 6005, 'amount': 2023},\n",
       "  {'transaction-id': 6345, 'amount': 1988},\n",
       "  {'transaction-id': 6354, 'amount': 1962},\n",
       "  {'transaction-id': 6734, 'amount': 2033},\n",
       "  {'transaction-id': 6821, 'amount': 2345},\n",
       "  {'transaction-id': 6932, 'amount': 2166},\n",
       "  {'transaction-id': 6991, 'amount': 1859},\n",
       "  {'transaction-id': 7256, 'amount': 1717},\n",
       "  {'transaction-id': 7395, 'amount': 2006},\n",
       "  {'transaction-id': 7417, 'amount': 2080},\n",
       "  {'transaction-id': 7528, 'amount': 2040},\n",
       "  {'transaction-id': 7552, 'amount': 2341},\n",
       "  {'transaction-id': 7797, 'amount': 2286},\n",
       "  {'transaction-id': 7847, 'amount': 2342},\n",
       "  {'transaction-id': 7859, 'amount': 2571},\n",
       "  {'transaction-id': 7901, 'amount': 2043},\n",
       "  {'transaction-id': 8040, 'amount': 2209},\n",
       "  {'transaction-id': 8188, 'amount': 1787},\n",
       "  {'transaction-id': 8294, 'amount': 2253},\n",
       "  {'transaction-id': 8298, 'amount': 1767},\n",
       "  {'transaction-id': 8301, 'amount': 1742},\n",
       "  {'transaction-id': 8509, 'amount': 2263},\n",
       "  {'transaction-id': 8723, 'amount': 2074},\n",
       "  {'transaction-id': 8891, 'amount': 1556},\n",
       "  {'transaction-id': 8908, 'amount': 1934},\n",
       "  {'transaction-id': 8911, 'amount': 2250},\n",
       "  {'transaction-id': 8957, 'amount': 2107},\n",
       "  {'transaction-id': 9152, 'amount': 1782},\n",
       "  {'transaction-id': 9171, 'amount': 2217},\n",
       "  {'transaction-id': 9337, 'amount': 2010},\n",
       "  {'transaction-id': 9415, 'amount': 2315},\n",
       "  {'transaction-id': 9493, 'amount': 2263},\n",
       "  {'transaction-id': 9582, 'amount': 2365},\n",
       "  {'transaction-id': 9833, 'amount': 2270},\n",
       "  {'transaction-id': 9995, 'amount': 1827}],\n",
       " [{'transaction-id': 540, 'amount': 379},\n",
       "  {'transaction-id': 2659, 'amount': 298},\n",
       "  {'transaction-id': 5407, 'amount': 255},\n",
       "  {'transaction-id': 8226, 'amount': 348},\n",
       "  {'transaction-id': 8896, 'amount': 427}],\n",
       " [{'transaction-id': 1059, 'amount': 799},\n",
       "  {'transaction-id': 1655, 'amount': 840},\n",
       "  {'transaction-id': 2212, 'amount': 957},\n",
       "  {'transaction-id': 3170, 'amount': 872},\n",
       "  {'transaction-id': 3304, 'amount': 888},\n",
       "  {'transaction-id': 4187, 'amount': 876},\n",
       "  {'transaction-id': 5431, 'amount': 841},\n",
       "  {'transaction-id': 5733, 'amount': 907},\n",
       "  {'transaction-id': 5973, 'amount': 974},\n",
       "  {'transaction-id': 6241, 'amount': 960},\n",
       "  {'transaction-id': 6263, 'amount': 912},\n",
       "  {'transaction-id': 6482, 'amount': 878},\n",
       "  {'transaction-id': 6728, 'amount': 892},\n",
       "  {'transaction-id': 6897, 'amount': 921},\n",
       "  {'transaction-id': 7022, 'amount': 872},\n",
       "  {'transaction-id': 7129, 'amount': 1002},\n",
       "  {'transaction-id': 7280, 'amount': 765},\n",
       "  {'transaction-id': 7409, 'amount': 966},\n",
       "  {'transaction-id': 7694, 'amount': 985},\n",
       "  {'transaction-id': 8428, 'amount': 991},\n",
       "  {'transaction-id': 9159, 'amount': 846},\n",
       "  {'transaction-id': 9622, 'amount': 957}])"
      ]
     },
     "execution_count": 1,
     "metadata": {},
     "output_type": "execute_result"
    }
   ],
   "source": [
    "(js.filter(lambda record: record['name'] == 'Alice')\n",
    "   .pluck('transactions')\n",
    "   .take(3))"
   ]
  },
  {
   "cell_type": "code",
   "execution_count": 16,
   "metadata": {
    "execution": {
     "iopub.execute_input": "2021-04-08T14:52:02.696486Z",
     "iopub.status.busy": "2021-04-08T14:52:02.696003Z",
     "iopub.status.idle": "2021-04-08T14:52:02.720555Z",
     "shell.execute_reply": "2021-04-08T14:52:02.720944Z"
    }
   },
   "outputs": [
    {
     "data": {
      "text/plain": [
       "({'transaction-id': 44, 'amount': 2221},\n",
       " {'transaction-id': 116, 'amount': 1922},\n",
       " {'transaction-id': 211, 'amount': 1793})"
      ]
     },
     "execution_count": 1,
     "metadata": {},
     "output_type": "execute_result"
    }
   ],
   "source": [
    "(js.filter(lambda record: record['name'] == 'Alice')\n",
    "   .pluck('transactions')\n",
    "   .flatten()\n",
    "   .take(3))"
   ]
  },
  {
   "cell_type": "code",
   "execution_count": 17,
   "metadata": {
    "execution": {
     "iopub.execute_input": "2021-04-08T14:52:02.728414Z",
     "iopub.status.busy": "2021-04-08T14:52:02.725996Z",
     "iopub.status.idle": "2021-04-08T14:52:02.746311Z",
     "shell.execute_reply": "2021-04-08T14:52:02.745622Z"
    }
   },
   "outputs": [
    {
     "data": {
      "text/plain": [
       "(2221, 1922, 1793)"
      ]
     },
     "execution_count": 1,
     "metadata": {},
     "output_type": "execute_result"
    }
   ],
   "source": [
    "(js.filter(lambda record: record['name'] == 'Alice')\n",
    "   .pluck('transactions')\n",
    "   .flatten()\n",
    "   .pluck('amount')\n",
    "   .take(3))"
   ]
  },
  {
   "cell_type": "code",
   "execution_count": 18,
   "metadata": {
    "execution": {
     "iopub.execute_input": "2021-04-08T14:52:02.755947Z",
     "iopub.status.busy": "2021-04-08T14:52:02.750835Z",
     "iopub.status.idle": "2021-04-08T14:52:03.163081Z",
     "shell.execute_reply": "2021-04-08T14:52:03.163467Z"
    }
   },
   "outputs": [
    {
     "data": {
      "text/plain": [
       "428.0516218266185"
      ]
     },
     "execution_count": 1,
     "metadata": {},
     "output_type": "execute_result"
    }
   ],
   "source": [
    "(js.filter(lambda record: record['name'] == 'Alice')\n",
    "   .pluck('transactions')\n",
    "   .flatten()\n",
    "   .pluck('amount')\n",
    "   .mean()\n",
    "   .compute())"
   ]
  },
  {
   "cell_type": "markdown",
   "metadata": {},
   "source": [
    "### Groupby and Foldby"
   ]
  },
  {
   "cell_type": "markdown",
   "metadata": {},
   "source": [
    "Often we want to group data by some function or key.  We can do this either with the `.groupby` method, which is straightforward but forces a full shuffle of the data (expensive) or with the harder-to-use but faster `.foldby` method, which does a streaming combined groupby and reduction.\n",
    "\n",
    "*  `groupby`:  Shuffles data so that all items with the same key are in the same key-value pair\n",
    "*  `foldby`:  Walks through the data accumulating a result per key\n",
    "\n",
    "*Note: the full groupby is particularly bad. In actual workloads you would do well to use `foldby` or switch to `DataFrame`s if possible.*"
   ]
  },
  {
   "cell_type": "markdown",
   "metadata": {},
   "source": [
    "### `groupby`"
   ]
  },
  {
   "cell_type": "markdown",
   "metadata": {},
   "source": [
    "Groupby collects items in your collection so that all items with the same value under some function are collected together into a key-value pair."
   ]
  },
  {
   "cell_type": "code",
   "execution_count": 19,
   "metadata": {
    "execution": {
     "iopub.execute_input": "2021-04-08T14:52:03.172545Z",
     "iopub.status.busy": "2021-04-08T14:52:03.171835Z",
     "iopub.status.idle": "2021-04-08T14:52:03.256495Z",
     "shell.execute_reply": "2021-04-08T14:52:03.256056Z"
    }
   },
   "outputs": [
    {
     "data": {
      "text/plain": [
       "[(7, ['Charlie']), (3, ['Bob', 'Dan']), (5, ['Alice', 'Edith', 'Frank'])]"
      ]
     },
     "execution_count": 1,
     "metadata": {},
     "output_type": "execute_result"
    }
   ],
   "source": [
    "b = db.from_sequence(['Alice', 'Bob', 'Charlie', 'Dan', 'Edith', 'Frank'])\n",
    "b.groupby(len).compute()  # names grouped by length"
   ]
  },
  {
   "cell_type": "code",
   "execution_count": 20,
   "metadata": {
    "execution": {
     "iopub.execute_input": "2021-04-08T14:52:03.266129Z",
     "iopub.status.busy": "2021-04-08T14:52:03.260149Z",
     "iopub.status.idle": "2021-04-08T14:52:03.399355Z",
     "shell.execute_reply": "2021-04-08T14:52:03.398456Z"
    }
   },
   "outputs": [
    {
     "data": {
      "text/plain": [
       "[(0, [0, 2, 4, 6, 8]), (1, [1, 3, 5, 7, 9])]"
      ]
     },
     "execution_count": 1,
     "metadata": {},
     "output_type": "execute_result"
    }
   ],
   "source": [
    "b = db.from_sequence(list(range(10)))\n",
    "b.groupby(lambda x: x % 2).compute()"
   ]
  },
  {
   "cell_type": "code",
   "execution_count": 21,
   "metadata": {
    "execution": {
     "iopub.execute_input": "2021-04-08T14:52:03.416234Z",
     "iopub.status.busy": "2021-04-08T14:52:03.409208Z",
     "iopub.status.idle": "2021-04-08T14:52:03.548502Z",
     "shell.execute_reply": "2021-04-08T14:52:03.547862Z"
    }
   },
   "outputs": [
    {
     "data": {
      "text/plain": [
       "[(0, 8), (1, 9)]"
      ]
     },
     "execution_count": 1,
     "metadata": {},
     "output_type": "execute_result"
    }
   ],
   "source": [
    "b.groupby(lambda x: x % 2).starmap(lambda k, v: (k, max(v))).compute()"
   ]
  },
  {
   "cell_type": "markdown",
   "metadata": {},
   "source": [
    "### `foldby`"
   ]
  },
  {
   "cell_type": "markdown",
   "metadata": {},
   "source": [
    "Foldby can be quite odd at first.  It is similar to the following functions from other libraries:\n",
    "\n",
    "*  [`toolz.reduceby`](http://toolz.readthedocs.io/en/latest/streaming-analytics.html#streaming-split-apply-combine)\n",
    "*  [`pyspark.RDD.combineByKey`](http://abshinn.github.io/python/apache-spark/2014/10/11/using-combinebykey-in-apache-spark/)\n",
    "\n",
    "When using `foldby` you provide \n",
    "\n",
    "1.  A key function on which to group elements\n",
    "2.  A binary operator such as you would pass to `reduce` that you use to perform reduction per each group\n",
    "3.  A combine binary operator that can combine the results of two `reduce` calls on different parts of your dataset.\n",
    "\n",
    "Your reduction must be associative.  It will happen in parallel in each of the partitions of your dataset.  Then all of these intermediate results will be combined by the `combine` binary operator."
   ]
  },
  {
   "cell_type": "code",
   "execution_count": 22,
   "metadata": {
    "execution": {
     "iopub.execute_input": "2021-04-08T14:52:03.553834Z",
     "iopub.status.busy": "2021-04-08T14:52:03.553435Z",
     "iopub.status.idle": "2021-04-08T14:52:03.598762Z",
     "shell.execute_reply": "2021-04-08T14:52:03.599164Z"
    }
   },
   "outputs": [
    {
     "data": {
      "text/plain": [
       "[(0, 8), (1, 9)]"
      ]
     },
     "execution_count": 1,
     "metadata": {},
     "output_type": "execute_result"
    }
   ],
   "source": [
    "b.foldby(lambda x: x % 2, binop=max, combine=max).compute()"
   ]
  },
  {
   "cell_type": "markdown",
   "metadata": {},
   "source": [
    "### Example with account data"
   ]
  },
  {
   "cell_type": "markdown",
   "metadata": {},
   "source": [
    "We find the number of people with the same name."
   ]
  },
  {
   "cell_type": "code",
   "execution_count": 23,
   "metadata": {
    "execution": {
     "iopub.execute_input": "2021-04-08T14:52:03.611389Z",
     "iopub.status.busy": "2021-04-08T14:52:03.610875Z",
     "iopub.status.idle": "2021-04-08T14:52:09.805320Z",
     "shell.execute_reply": "2021-04-08T14:52:09.804914Z"
    }
   },
   "outputs": [
    {
     "name": "stdout",
     "output_type": "stream",
     "text": [
      "[('Alice', 108), ('Alice', 108), ('Alice', 117), ('Alice', 117), ('Bob', 83), ('Bob', 84), ('Bob', 90), ('Bob', 91), ('Charlie', 118), ('Charlie', 119), ('Charlie', 127), ('Charlie', 130), ('Dan', 188), ('Dan', 205), ('Dan', 392), ('Edith', 150), ('Edith', 154), ('Edith', 164), ('Edith', 165), ('Frank', 164), ('Frank', 167), ('Frank', 176), ('Frank', 185), ('George', 89), ('George', 90), ('George', 97), ('George', 97), ('Hannah', 131), ('Hannah', 140), ('Hannah', 275), ('Ingrid', 48), ('Ingrid', 48), ('Ingrid', 52), ('Ingrid', 52), ('Jerry', 60), ('Jerry', 60), ('Jerry', 64), ('Jerry', 65), ('Kevin', 152), ('Kevin', 153), ('Kevin', 166), ('Kevin', 167), ('Laura', 117), ('Laura', 117), ('Laura', 126), ('Laura', 128), ('Michael', 67), ('Michael', 70), ('Michael', 75), ('Michael', 75), ('Norbert', 127), ('Norbert', 128), ('Norbert', 236), ('Oliver', 137), ('Oliver', 140), ('Oliver', 151), ('Oliver', 152), ('Patricia', 75), ('Patricia', 76), ('Patricia', 78), ('Patricia', 78), ('Quinn', 120), ('Quinn', 120), ('Quinn', 130), ('Quinn', 130), ('Ray', 84), ('Ray', 84), ('Ray', 90), ('Ray', 91), ('Sarah', 82), ('Sarah', 84), ('Sarah', 89), ('Sarah', 89), ('Tim', 86), ('Tim', 91), ('Tim', 96), ('Tim', 98), ('Ursula', 163), ('Ursula', 164), ('Ursula', 178), ('Ursula', 180), ('Victor', 120), ('Victor', 120), ('Victor', 128), ('Victor', 130), ('Wendy', 115), ('Wendy', 118), ('Wendy', 122), ('Wendy', 125), ('Xavier', 97), ('Xavier', 97), ('Xavier', 105), ('Xavier', 105), ('Yvonne', 120), ('Yvonne', 120), ('Yvonne', 130), ('Yvonne', 130), ('Zelda', 90), ('Zelda', 93), ('Zelda', 101), ('Zelda', 102)]\n",
      "CPU times: user 1.16 s, sys: 95.9 ms, total: 1.26 s\n",
      "Wall time: 6.2 s\n"
     ]
    }
   ],
   "source": [
    "%%time\n",
    "# Warning, this one takes a while...\n",
    "result = js.groupby(lambda item: item['name']).starmap(lambda k, v: (k, len(v))).compute()\n",
    "print(sorted(result))"
   ]
  },
  {
   "cell_type": "code",
   "execution_count": 24,
   "metadata": {
    "execution": {
     "iopub.execute_input": "2021-04-08T14:52:09.810609Z",
     "iopub.status.busy": "2021-04-08T14:52:09.809201Z",
     "iopub.status.idle": "2021-04-08T14:52:10.283995Z",
     "shell.execute_reply": "2021-04-08T14:52:10.284385Z"
    }
   },
   "outputs": [
    {
     "name": "stdout",
     "output_type": "stream",
     "text": [
      "[('Alice', 450), ('Bob', 348), ('Charlie', 494), ('Dan', 785), ('Edith', 633), ('Frank', 692), ('George', 373), ('Hannah', 546), ('Ingrid', 200), ('Jerry', 249), ('Kevin', 638), ('Laura', 488), ('Michael', 287), ('Norbert', 491), ('Oliver', 580), ('Patricia', 307), ('Quinn', 500), ('Ray', 349), ('Sarah', 344), ('Tim', 371), ('Ursula', 685), ('Victor', 498), ('Wendy', 480), ('Xavier', 404), ('Yvonne', 500), ('Zelda', 386)]\n",
      "CPU times: user 128 ms, sys: 8.32 ms, total: 137 ms\n",
      "Wall time: 472 ms\n"
     ]
    }
   ],
   "source": [
    "%%time\n",
    "# This one is comparatively fast and produces the same result.\n",
    "from operator import add\n",
    "def incr(tot, _):\n",
    "    return tot + 1\n",
    "\n",
    "result = js.foldby(key='name', \n",
    "                   binop=incr, \n",
    "                   initial=0, \n",
    "                   combine=add, \n",
    "                   combine_initial=0).compute()\n",
    "print(sorted(result))"
   ]
  },
  {
   "cell_type": "markdown",
   "metadata": {},
   "source": [
    "### Exercise: compute total amount per name"
   ]
  },
  {
   "cell_type": "markdown",
   "metadata": {},
   "source": [
    "We want to groupby (or foldby) the `name` key, then add up the all of the amounts for each name.\n",
    "\n",
    "Steps\n",
    "\n",
    "1.  Create a small function that, given a dictionary like \n",
    "\n",
    "        {'name': 'Alice', 'transactions': [{'amount': 1, 'id': 123}, {'amount': 2, 'id': 456}]}\n",
    "        \n",
    "    produces the sum of the amounts, e.g. `3`\n",
    "    \n",
    "2.  Slightly change the binary operator of the `foldby` example above so that the binary operator doesn't count the number of entries, but instead accumulates the sum of the amounts."
   ]
  },
  {
   "cell_type": "code",
   "execution_count": 25,
   "metadata": {
    "execution": {
     "iopub.execute_input": "2021-04-08T14:52:10.288103Z",
     "iopub.status.busy": "2021-04-08T14:52:10.287607Z",
     "iopub.status.idle": "2021-04-08T14:52:10.290364Z",
     "shell.execute_reply": "2021-04-08T14:52:10.289910Z"
    }
   },
   "outputs": [],
   "source": [
    "# Your code here..."
   ]
  },
  {
   "cell_type": "markdown",
   "metadata": {},
   "source": [
    "## DataFrames"
   ]
  },
  {
   "cell_type": "markdown",
   "metadata": {},
   "source": [
    "For the same reasons that Pandas is often faster than pure Python, `dask.dataframe` can be faster than `dask.bag`.  We will work more with DataFrames later, but from the point of view of a Bag, it is frequently the end-point of the \"messy\" part of data ingestion—once the data can be made into a data-frame, then complex split-apply-combine logic will become much more straight-forward and efficient.\n",
    "\n",
    "You can transform a bag with a simple tuple or flat dictionary structure into a `dask.dataframe` with the `to_dataframe` method."
   ]
  },
  {
   "cell_type": "code",
   "execution_count": 26,
   "metadata": {
    "execution": {
     "iopub.execute_input": "2021-04-08T14:52:10.293612Z",
     "iopub.status.busy": "2021-04-08T14:52:10.293132Z",
     "iopub.status.idle": "2021-04-08T14:52:10.909776Z",
     "shell.execute_reply": "2021-04-08T14:52:10.908990Z"
    }
   },
   "outputs": [
    {
     "data": {
      "text/html": [
       "<div>\n",
       "<style scoped>\n",
       "    .dataframe tbody tr th:only-of-type {\n",
       "        vertical-align: middle;\n",
       "    }\n",
       "\n",
       "    .dataframe tbody tr th {\n",
       "        vertical-align: top;\n",
       "    }\n",
       "\n",
       "    .dataframe thead th {\n",
       "        text-align: right;\n",
       "    }\n",
       "</style>\n",
       "<table border=\"1\" class=\"dataframe\">\n",
       "  <thead>\n",
       "    <tr style=\"text-align: right;\">\n",
       "      <th></th>\n",
       "      <th>id</th>\n",
       "      <th>name</th>\n",
       "      <th>transactions</th>\n",
       "    </tr>\n",
       "  </thead>\n",
       "  <tbody>\n",
       "    <tr>\n",
       "      <th>0</th>\n",
       "      <td>0</td>\n",
       "      <td>Ingrid</td>\n",
       "      <td>[{'transaction-id': 27, 'amount': 3625}, {'tra...</td>\n",
       "    </tr>\n",
       "    <tr>\n",
       "      <th>1</th>\n",
       "      <td>1</td>\n",
       "      <td>Norbert</td>\n",
       "      <td>[{'transaction-id': 8801, 'amount': 1413}]</td>\n",
       "    </tr>\n",
       "    <tr>\n",
       "      <th>2</th>\n",
       "      <td>2</td>\n",
       "      <td>Dan</td>\n",
       "      <td>[{'transaction-id': 251, 'amount': 8}, {'trans...</td>\n",
       "    </tr>\n",
       "    <tr>\n",
       "      <th>3</th>\n",
       "      <td>3</td>\n",
       "      <td>Ingrid</td>\n",
       "      <td>[{'transaction-id': 721, 'amount': 239}, {'tra...</td>\n",
       "    </tr>\n",
       "    <tr>\n",
       "      <th>4</th>\n",
       "      <td>4</td>\n",
       "      <td>Charlie</td>\n",
       "      <td>[{'transaction-id': 1803, 'amount': 140}]</td>\n",
       "    </tr>\n",
       "  </tbody>\n",
       "</table>\n",
       "</div>"
      ],
      "text/plain": [
       "   id     name                                       transactions\n",
       "0   0   Ingrid  [{'transaction-id': 27, 'amount': 3625}, {'tra...\n",
       "1   1  Norbert         [{'transaction-id': 8801, 'amount': 1413}]\n",
       "2   2      Dan  [{'transaction-id': 251, 'amount': 8}, {'trans...\n",
       "3   3   Ingrid  [{'transaction-id': 721, 'amount': 239}, {'tra...\n",
       "4   4  Charlie          [{'transaction-id': 1803, 'amount': 140}]"
      ]
     },
     "execution_count": 1,
     "metadata": {},
     "output_type": "execute_result"
    }
   ],
   "source": [
    "df1 = js.to_dataframe()\n",
    "df1.head()"
   ]
  },
  {
   "cell_type": "markdown",
   "metadata": {},
   "source": [
    "This now looks like a well-defined DataFrame, and we can apply Pandas-like computations to it efficiently."
   ]
  },
  {
   "cell_type": "markdown",
   "metadata": {},
   "source": [
    "Using a Dask DataFrame, how long does it take to do our prior computation of numbers of people with the same name?  It turns out that `dask.dataframe.groupby()` beats `dask.bag.groupby()` by more than an order of magnitude; but it still cannot match `dask.bag.foldby()` for this case."
   ]
  },
  {
   "cell_type": "code",
   "execution_count": 27,
   "metadata": {
    "execution": {
     "iopub.execute_input": "2021-04-08T14:52:10.918853Z",
     "iopub.status.busy": "2021-04-08T14:52:10.918337Z",
     "iopub.status.idle": "2021-04-08T14:52:12.298271Z",
     "shell.execute_reply": "2021-04-08T14:52:12.297844Z"
    }
   },
   "outputs": [
    {
     "name": "stdout",
     "output_type": "stream",
     "text": [
      "CPU times: user 159 ms, sys: 16.3 ms, total: 175 ms\n",
      "Wall time: 1.37 s\n"
     ]
    },
    {
     "data": {
      "text/plain": [
       "name\n",
       "Alice      450\n",
       "Bob        348\n",
       "Charlie    494\n",
       "Dan        785\n",
       "Edith      633\n",
       "Name: id, dtype: int64"
      ]
     },
     "execution_count": 1,
     "metadata": {},
     "output_type": "execute_result"
    }
   ],
   "source": [
    "%time df1.groupby('name').id.count().compute().head()"
   ]
  },
  {
   "cell_type": "markdown",
   "metadata": {},
   "source": [
    "### Denormalization"
   ]
  },
  {
   "cell_type": "markdown",
   "metadata": {},
   "source": [
    "This DataFrame format is less-than-optimal because the `transactions` column is filled with nested data so Pandas has to revert to `object` dtype, which is quite slow in Pandas.  Ideally we want to transform to a dataframe only after we have flattened our data so that each record is a single `int`, `string`, `float`, etc.."
   ]
  },
  {
   "cell_type": "code",
   "execution_count": 28,
   "metadata": {
    "execution": {
     "iopub.execute_input": "2021-04-08T14:52:12.304635Z",
     "iopub.status.busy": "2021-04-08T14:52:12.303672Z",
     "iopub.status.idle": "2021-04-08T14:52:12.321666Z",
     "shell.execute_reply": "2021-04-08T14:52:12.321171Z"
    }
   },
   "outputs": [
    {
     "data": {
      "text/plain": [
       "({'id': 0, 'name': 'Ingrid', 'amount': 3625, 'transaction-id': 27},\n",
       " {'id': 0, 'name': 'Ingrid', 'amount': 3349, 'transaction-id': 184},\n",
       " {'id': 0, 'name': 'Ingrid', 'amount': 3467, 'transaction-id': 435})"
      ]
     },
     "execution_count": 1,
     "metadata": {},
     "output_type": "execute_result"
    }
   ],
   "source": [
    "def denormalize(record):\n",
    "    # returns a list for each person, one item per transaction\n",
    "    return [{'id': record['id'], \n",
    "             'name': record['name'], \n",
    "             'amount': transaction['amount'], \n",
    "             'transaction-id': transaction['transaction-id']}\n",
    "            for transaction in record['transactions']]\n",
    "\n",
    "transactions = js.map(denormalize).flatten()\n",
    "transactions.take(3)"
   ]
  },
  {
   "cell_type": "code",
   "execution_count": 29,
   "metadata": {
    "execution": {
     "iopub.execute_input": "2021-04-08T14:52:12.326067Z",
     "iopub.status.busy": "2021-04-08T14:52:12.325563Z",
     "iopub.status.idle": "2021-04-08T14:52:12.403901Z",
     "shell.execute_reply": "2021-04-08T14:52:12.403246Z"
    }
   },
   "outputs": [
    {
     "data": {
      "text/html": [
       "<div>\n",
       "<style scoped>\n",
       "    .dataframe tbody tr th:only-of-type {\n",
       "        vertical-align: middle;\n",
       "    }\n",
       "\n",
       "    .dataframe tbody tr th {\n",
       "        vertical-align: top;\n",
       "    }\n",
       "\n",
       "    .dataframe thead th {\n",
       "        text-align: right;\n",
       "    }\n",
       "</style>\n",
       "<table border=\"1\" class=\"dataframe\">\n",
       "  <thead>\n",
       "    <tr style=\"text-align: right;\">\n",
       "      <th></th>\n",
       "      <th>id</th>\n",
       "      <th>name</th>\n",
       "      <th>amount</th>\n",
       "      <th>transaction-id</th>\n",
       "    </tr>\n",
       "  </thead>\n",
       "  <tbody>\n",
       "    <tr>\n",
       "      <th>0</th>\n",
       "      <td>0</td>\n",
       "      <td>Ingrid</td>\n",
       "      <td>3625</td>\n",
       "      <td>27</td>\n",
       "    </tr>\n",
       "    <tr>\n",
       "      <th>1</th>\n",
       "      <td>0</td>\n",
       "      <td>Ingrid</td>\n",
       "      <td>3349</td>\n",
       "      <td>184</td>\n",
       "    </tr>\n",
       "    <tr>\n",
       "      <th>2</th>\n",
       "      <td>0</td>\n",
       "      <td>Ingrid</td>\n",
       "      <td>3467</td>\n",
       "      <td>435</td>\n",
       "    </tr>\n",
       "    <tr>\n",
       "      <th>3</th>\n",
       "      <td>0</td>\n",
       "      <td>Ingrid</td>\n",
       "      <td>3332</td>\n",
       "      <td>782</td>\n",
       "    </tr>\n",
       "    <tr>\n",
       "      <th>4</th>\n",
       "      <td>0</td>\n",
       "      <td>Ingrid</td>\n",
       "      <td>3134</td>\n",
       "      <td>888</td>\n",
       "    </tr>\n",
       "  </tbody>\n",
       "</table>\n",
       "</div>"
      ],
      "text/plain": [
       "   id    name  amount  transaction-id\n",
       "0   0  Ingrid    3625              27\n",
       "1   0  Ingrid    3349             184\n",
       "2   0  Ingrid    3467             435\n",
       "3   0  Ingrid    3332             782\n",
       "4   0  Ingrid    3134             888"
      ]
     },
     "execution_count": 1,
     "metadata": {},
     "output_type": "execute_result"
    }
   ],
   "source": [
    "df = transactions.to_dataframe()\n",
    "df.head()"
   ]
  },
  {
   "cell_type": "code",
   "execution_count": 30,
   "metadata": {
    "execution": {
     "iopub.execute_input": "2021-04-08T14:52:12.406970Z",
     "iopub.status.busy": "2021-04-08T14:52:12.406470Z",
     "iopub.status.idle": "2021-04-08T14:52:13.466233Z",
     "shell.execute_reply": "2021-04-08T14:52:13.466691Z"
    }
   },
   "outputs": [
    {
     "name": "stdout",
     "output_type": "stream",
     "text": [
      "CPU times: user 132 ms, sys: 21 ms, total: 153 ms\n",
      "Wall time: 1.05 s\n"
     ]
    },
    {
     "data": {
      "text/plain": [
       "name\n",
       "Alice       22413\n",
       "Bob         21742\n",
       "Charlie     17063\n",
       "Dan         37134\n",
       "Edith       29710\n",
       "Frank       21337\n",
       "George      11949\n",
       "Hannah      22090\n",
       "Ingrid       7145\n",
       "Jerry       12219\n",
       "Kevin       13832\n",
       "Laura       23802\n",
       "Michael     13409\n",
       "Norbert     23681\n",
       "Oliver      26216\n",
       "Patricia    12661\n",
       "Quinn       26658\n",
       "Ray          8998\n",
       "Sarah        7145\n",
       "Tim         14826\n",
       "Ursula      26021\n",
       "Victor      18055\n",
       "Wendy       26614\n",
       "Xavier      22039\n",
       "Yvonne      26151\n",
       "Zelda        7090\n",
       "Name: transaction-id, dtype: int64"
      ]
     },
     "execution_count": 1,
     "metadata": {},
     "output_type": "execute_result"
    }
   ],
   "source": [
    "%%time\n",
    "# number of transactions per name\n",
    "# note that the time here includes the data load and ingestion\n",
    "df.groupby('name')['transaction-id'].count().compute()"
   ]
  },
  {
   "cell_type": "markdown",
   "metadata": {},
   "source": [
    "## Limitations"
   ]
  },
  {
   "cell_type": "markdown",
   "metadata": {},
   "source": [
    "Bags provide very general computation (any Python function.)  This generality\n",
    "comes at cost.  Bags have the following known limitations\n",
    "\n",
    "1.  Bag operations tend to be slower than array/dataframe computations in the\n",
    "    same way that Python tends to be slower than NumPy/Pandas\n",
    "2.  ``Bag.groupby`` is slow.  You should try to use ``Bag.foldby`` if possible.\n",
    "    Using ``Bag.foldby`` requires more thought. Even better, consider creating\n",
    "    a normalised dataframe."
   ]
  },
  {
   "cell_type": "markdown",
   "metadata": {},
   "source": [
    "## Learn More\n",
    "\n",
    "* [Bag documentation](https://docs.dask.org/en/latest/bag.html)\n",
    "* [Bag screencast](https://youtu.be/-qIiJ1XtSv0)\n",
    "* [Bag API](https://docs.dask.org/en/latest/bag-api.html)\n",
    "* [Bag examples](https://examples.dask.org/bag.html)"
   ]
  },
  {
   "cell_type": "markdown",
   "metadata": {},
   "source": [
    "## Shutdown"
   ]
  },
  {
   "cell_type": "code",
   "execution_count": 31,
   "metadata": {
    "execution": {
     "iopub.execute_input": "2021-04-08T14:52:13.470290Z",
     "iopub.status.busy": "2021-04-08T14:52:13.469813Z",
     "iopub.status.idle": "2021-04-08T14:52:14.951495Z",
     "shell.execute_reply": "2021-04-08T14:52:14.951960Z"
    }
   },
   "outputs": [],
   "source": [
    "client.shutdown()"
   ]
  }
 ],
 "metadata": {
  "anaconda-cloud": {},
  "kernelspec": {
   "display_name": "Python 3",
   "language": "python",
   "name": "python3"
  },
  "language_info": {
   "codemirror_mode": {
    "name": "ipython",
    "version": 3
   },
   "file_extension": ".py",
   "mimetype": "text/x-python",
   "name": "python",
   "nbconvert_exporter": "python",
   "pygments_lexer": "ipython3",
   "version": "3.8.8"
  }
 },
 "nbformat": 4,
 "nbformat_minor": 4
}
