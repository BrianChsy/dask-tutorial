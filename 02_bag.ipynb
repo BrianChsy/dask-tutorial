{
 "cells": [
  {
   "cell_type": "markdown",
   "metadata": {},
   "source": [
    "<img src=\"images/dask_horizontal.svg\" align=\"right\" width=\"30%\">"
   ]
  },
  {
   "cell_type": "markdown",
   "metadata": {},
   "source": [
    "# Bag: Parallel Lists for semi-structured data"
   ]
  },
  {
   "cell_type": "markdown",
   "metadata": {},
   "source": [
    "Dask-bag excels in processing data that can be represented as a sequence of arbitrary inputs. We'll refer to this as \"messy\" data, because it can contain complex nested structures, missing fields, mixtures of data types, etc. The *functional* programming style fits very nicely with standard Python iteration, such as can be found in the `itertools` module.\n",
    "\n",
    "Messy data is often encountered at the beginning of data processing pipelines when large volumes of raw data are first consumed. The initial set of data might be JSON, CSV, XML, or any other format that does not enforce strict structure and datatypes.\n",
    "For this reason, the initial data massaging and processing is often done with Python `list`s, `dict`s, and `set`s.\n",
    "\n",
    "These core data structures are optimized for general-purpose storage and processing.  Adding streaming computation with iterators/generator expressions or libraries like `itertools` or [`toolz`](https://toolz.readthedocs.io/en/latest/) let us process large volumes in a small space.  If we combine this with parallel processing then we can churn through a fair amount of data.\n",
    "\n",
    "Dask.bag is a high level Dask collection to automate common workloads of this form.  In a nutshell\n",
    "\n",
    "    dask.bag = map, filter, toolz + parallel execution\n",
    "    \n",
    "**Related Documentation**\n",
    "\n",
    "* [Bag documentation](https://docs.dask.org/en/latest/bag.html)\n",
    "* [Bag screencast](https://youtu.be/-qIiJ1XtSv0)\n",
    "* [Bag API](https://docs.dask.org/en/latest/bag-api.html)\n",
    "* [Bag examples](https://examples.dask.org/bag.html)"
   ]
  },
  {
   "cell_type": "markdown",
   "metadata": {},
   "source": [
    "## Create data"
   ]
  },
  {
   "cell_type": "code",
   "execution_count": 1,
   "metadata": {
    "execution": {
     "iopub.execute_input": "2021-07-20T15:06:30.425011Z",
     "iopub.status.busy": "2021-07-20T15:06:30.424404Z",
     "iopub.status.idle": "2021-07-20T15:06:31.085106Z",
     "shell.execute_reply": "2021-07-20T15:06:31.084555Z"
    }
   },
   "outputs": [],
   "source": [
    "%run prep.py -d accounts"
   ]
  },
  {
   "cell_type": "markdown",
   "metadata": {},
   "source": [
    "## Setup"
   ]
  },
  {
   "cell_type": "markdown",
   "metadata": {},
   "source": [
    "Again, we'll use the distributed scheduler. Schedulers will be explained in depth [later](05_distributed.ipynb)."
   ]
  },
  {
   "cell_type": "code",
   "execution_count": 2,
   "metadata": {
    "execution": {
     "iopub.execute_input": "2021-07-20T15:06:31.089691Z",
     "iopub.status.busy": "2021-07-20T15:06:31.088284Z",
     "iopub.status.idle": "2021-07-20T15:06:32.983449Z",
     "shell.execute_reply": "2021-07-20T15:06:32.982945Z"
    }
   },
   "outputs": [],
   "source": [
    "from dask.distributed import Client\n",
    "\n",
    "client = Client(n_workers=4)"
   ]
  },
  {
   "cell_type": "markdown",
   "metadata": {},
   "source": [
    "## Creation"
   ]
  },
  {
   "cell_type": "markdown",
   "metadata": {},
   "source": [
    "You can create a `Bag` from a Python sequence, from files, from data on S3, etc.\n",
    "We demonstrate using `.take()` to show elements of the data. (Doing `.take(1)` results in a tuple with one element)\n",
    "\n",
    "Note that the data are partitioned into blocks, and there are many items per block. In the first example, the two partitions contain five elements each, and in the following two, each file is partitioned into one or more bytes blocks."
   ]
  },
  {
   "cell_type": "code",
   "execution_count": 3,
   "metadata": {
    "execution": {
     "iopub.execute_input": "2021-07-20T15:06:32.988829Z",
     "iopub.status.busy": "2021-07-20T15:06:32.988193Z",
     "iopub.status.idle": "2021-07-20T15:06:33.215249Z",
     "shell.execute_reply": "2021-07-20T15:06:33.214620Z"
    }
   },
   "outputs": [
    {
     "data": {
      "text/plain": [
       "(1, 2, 3)"
      ]
     },
     "execution_count": 3,
     "metadata": {},
     "output_type": "execute_result"
    }
   ],
   "source": [
    "# each element is an integer\n",
    "import dask.bag as db\n",
    "b = db.from_sequence([1, 2, 3, 4, 5, 6, 7, 8, 9, 10], npartitions=2)\n",
    "b.take(3)"
   ]
  },
  {
   "cell_type": "code",
   "execution_count": 4,
   "metadata": {
    "execution": {
     "iopub.execute_input": "2021-07-20T15:06:33.220348Z",
     "iopub.status.busy": "2021-07-20T15:06:33.218218Z",
     "iopub.status.idle": "2021-07-20T15:06:33.251281Z",
     "shell.execute_reply": "2021-07-20T15:06:33.251903Z"
    }
   },
   "outputs": [
    {
     "data": {
      "text/plain": [
       "('{\"id\": 0, \"name\": \"Ingrid\", \"transactions\": [{\"transaction-id\": 41, \"amount\": -248}, {\"transaction-id\": 91, \"amount\": -192}, {\"transaction-id\": 156, \"amount\": -213}, {\"transaction-id\": 209, \"amount\": -10}, {\"transaction-id\": 215, \"amount\": -162}, {\"transaction-id\": 249, \"amount\": -184}, {\"transaction-id\": 300, \"amount\": -184}, {\"transaction-id\": 324, \"amount\": -297}, {\"transaction-id\": 624, \"amount\": -210}, {\"transaction-id\": 701, \"amount\": -138}, {\"transaction-id\": 726, \"amount\": -217}, {\"transaction-id\": 739, \"amount\": -196}, {\"transaction-id\": 756, \"amount\": -114}, {\"transaction-id\": 758, \"amount\": 50}, {\"transaction-id\": 783, \"amount\": -108}, {\"transaction-id\": 792, \"amount\": -265}, {\"transaction-id\": 915, \"amount\": -276}, {\"transaction-id\": 916, \"amount\": -101}, {\"transaction-id\": 1024, \"amount\": -248}, {\"transaction-id\": 1030, \"amount\": -378}, {\"transaction-id\": 1050, \"amount\": -247}, {\"transaction-id\": 1076, \"amount\": -289}, {\"transaction-id\": 1111, \"amount\": -274}, {\"transaction-id\": 1272, \"amount\": -238}, {\"transaction-id\": 1291, \"amount\": -156}, {\"transaction-id\": 1292, \"amount\": -187}, {\"transaction-id\": 1430, \"amount\": -250}, {\"transaction-id\": 1438, \"amount\": -275}, {\"transaction-id\": 1594, \"amount\": -283}, {\"transaction-id\": 1612, \"amount\": -171}, {\"transaction-id\": 1700, \"amount\": -180}, {\"transaction-id\": 1737, \"amount\": -172}, {\"transaction-id\": 1843, \"amount\": -177}, {\"transaction-id\": 1883, \"amount\": -237}, {\"transaction-id\": 1894, \"amount\": -72}, {\"transaction-id\": 1945, \"amount\": -214}, {\"transaction-id\": 2099, \"amount\": -78}, {\"transaction-id\": 2149, \"amount\": -252}, {\"transaction-id\": 2159, \"amount\": -208}, {\"transaction-id\": 2238, \"amount\": -135}, {\"transaction-id\": 2316, \"amount\": -216}, {\"transaction-id\": 2334, \"amount\": -144}, {\"transaction-id\": 2406, \"amount\": -349}, {\"transaction-id\": 2464, \"amount\": -145}, {\"transaction-id\": 2481, \"amount\": -109}, {\"transaction-id\": 2622, \"amount\": -187}, {\"transaction-id\": 2643, \"amount\": -330}, {\"transaction-id\": 2717, \"amount\": -189}, {\"transaction-id\": 2826, \"amount\": -226}, {\"transaction-id\": 2839, \"amount\": -280}, {\"transaction-id\": 2882, \"amount\": -154}, {\"transaction-id\": 2909, \"amount\": -269}, {\"transaction-id\": 2922, \"amount\": -107}, {\"transaction-id\": 2948, \"amount\": -230}, {\"transaction-id\": 2987, \"amount\": -171}, {\"transaction-id\": 3008, \"amount\": -52}, {\"transaction-id\": 3180, \"amount\": -141}, {\"transaction-id\": 3216, \"amount\": -310}, {\"transaction-id\": 3273, \"amount\": -266}, {\"transaction-id\": 3512, \"amount\": -365}, {\"transaction-id\": 3563, \"amount\": -148}, {\"transaction-id\": 3819, \"amount\": -75}, {\"transaction-id\": 3880, \"amount\": -52}, {\"transaction-id\": 3977, \"amount\": -195}, {\"transaction-id\": 3987, \"amount\": -80}, {\"transaction-id\": 4004, \"amount\": -32}, {\"transaction-id\": 4046, \"amount\": -238}, {\"transaction-id\": 4129, \"amount\": -201}, {\"transaction-id\": 4243, \"amount\": -215}, {\"transaction-id\": 4347, \"amount\": -186}, {\"transaction-id\": 4360, \"amount\": -152}, {\"transaction-id\": 4452, \"amount\": -137}, {\"transaction-id\": 4522, \"amount\": -176}, {\"transaction-id\": 4783, \"amount\": -169}, {\"transaction-id\": 4804, \"amount\": -63}, {\"transaction-id\": 4854, \"amount\": -139}, {\"transaction-id\": 5021, \"amount\": -161}, {\"transaction-id\": 5032, \"amount\": -144}, {\"transaction-id\": 5079, \"amount\": -96}, {\"transaction-id\": 5142, \"amount\": -186}, {\"transaction-id\": 5420, \"amount\": -24}, {\"transaction-id\": 5455, \"amount\": -150}, {\"transaction-id\": 5547, \"amount\": 0}, {\"transaction-id\": 5560, \"amount\": -205}, {\"transaction-id\": 5604, \"amount\": -137}, {\"transaction-id\": 5680, \"amount\": -155}, {\"transaction-id\": 5745, \"amount\": -260}, {\"transaction-id\": 5771, \"amount\": -201}, {\"transaction-id\": 5968, \"amount\": -184}, {\"transaction-id\": 5982, \"amount\": -229}, {\"transaction-id\": 6070, \"amount\": -77}, {\"transaction-id\": 6113, \"amount\": -202}, {\"transaction-id\": 6125, \"amount\": -148}, {\"transaction-id\": 6245, \"amount\": -194}, {\"transaction-id\": 6248, \"amount\": -95}, {\"transaction-id\": 6302, \"amount\": -2}, {\"transaction-id\": 6366, \"amount\": -193}, {\"transaction-id\": 6373, \"amount\": -230}, {\"transaction-id\": 6500, \"amount\": -163}, {\"transaction-id\": 6651, \"amount\": -183}, {\"transaction-id\": 6677, \"amount\": -147}, {\"transaction-id\": 6708, \"amount\": -226}, {\"transaction-id\": 6730, \"amount\": -214}, {\"transaction-id\": 6843, \"amount\": -158}, {\"transaction-id\": 6956, \"amount\": -126}, {\"transaction-id\": 6977, \"amount\": -179}, {\"transaction-id\": 7001, \"amount\": -308}, {\"transaction-id\": 7027, \"amount\": -225}, {\"transaction-id\": 7052, \"amount\": -163}, {\"transaction-id\": 7054, \"amount\": -295}, {\"transaction-id\": 7056, \"amount\": -70}, {\"transaction-id\": 7112, \"amount\": -210}, {\"transaction-id\": 7134, \"amount\": -114}, {\"transaction-id\": 7484, \"amount\": -196}, {\"transaction-id\": 7551, \"amount\": -278}, {\"transaction-id\": 7730, \"amount\": -259}, {\"transaction-id\": 7882, \"amount\": -288}, {\"transaction-id\": 7948, \"amount\": -302}, {\"transaction-id\": 7988, \"amount\": -96}, {\"transaction-id\": 8171, \"amount\": -174}, {\"transaction-id\": 8244, \"amount\": -171}, {\"transaction-id\": 8270, \"amount\": -92}, {\"transaction-id\": 8353, \"amount\": -183}, {\"transaction-id\": 8447, \"amount\": -201}, {\"transaction-id\": 8477, \"amount\": -324}, {\"transaction-id\": 8517, \"amount\": -212}, {\"transaction-id\": 8518, \"amount\": -252}, {\"transaction-id\": 8531, \"amount\": -172}, {\"transaction-id\": 8594, \"amount\": -69}, {\"transaction-id\": 8754, \"amount\": -125}, {\"transaction-id\": 8770, \"amount\": -178}, {\"transaction-id\": 8872, \"amount\": -74}, {\"transaction-id\": 9088, \"amount\": -157}, {\"transaction-id\": 9176, \"amount\": -210}, {\"transaction-id\": 9443, \"amount\": -135}, {\"transaction-id\": 9511, \"amount\": -154}, {\"transaction-id\": 9540, \"amount\": -52}, {\"transaction-id\": 9595, \"amount\": -9}, {\"transaction-id\": 9781, \"amount\": -76}, {\"transaction-id\": 9849, \"amount\": -270}, {\"transaction-id\": 9857, \"amount\": -328}, {\"transaction-id\": 9991, \"amount\": -204}]}\\n',)"
      ]
     },
     "execution_count": 4,
     "metadata": {},
     "output_type": "execute_result"
    }
   ],
   "source": [
    "# each element is a text file, where each line is a JSON object\n",
    "# note that the compression is handled automatically\n",
    "import os\n",
    "b = db.read_text(os.path.join('data', 'accounts.*.json.gz'))\n",
    "b.take(1)"
   ]
  },
  {
   "cell_type": "code",
   "execution_count": 5,
   "metadata": {
    "execution": {
     "iopub.execute_input": "2021-07-20T15:06:33.256207Z",
     "iopub.status.busy": "2021-07-20T15:06:33.255578Z",
     "iopub.status.idle": "2021-07-20T15:06:33.259444Z",
     "shell.execute_reply": "2021-07-20T15:06:33.258994Z"
    }
   },
   "outputs": [
    {
     "data": {
      "text/plain": [
       "'s3://dask-data/nyc-taxi/2015/yellow_tripdata_2015-01.csv'"
      ]
     },
     "execution_count": 5,
     "metadata": {},
     "output_type": "execute_result"
    }
   ],
   "source": [
    "# Edit sources.py to configure source locations\n",
    "import sources\n",
    "sources.bag_url"
   ]
  },
  {
   "cell_type": "code",
   "execution_count": 6,
   "metadata": {
    "execution": {
     "iopub.execute_input": "2021-07-20T15:06:33.263650Z",
     "iopub.status.busy": "2021-07-20T15:06:33.263128Z",
     "iopub.status.idle": "2021-07-20T15:06:34.860381Z",
     "shell.execute_reply": "2021-07-20T15:06:34.859855Z"
    }
   },
   "outputs": [
    {
     "data": {
      "text/plain": [
       "('VendorID,tpep_pickup_datetime,tpep_dropoff_datetime,passenger_count,trip_distance,pickup_longitude,pickup_latitude,RateCodeID,store_and_fwd_flag,dropoff_longitude,dropoff_latitude,payment_type,fare_amount,extra,mta_tax,tip_amount,tolls_amount,improvement_surcharge,total_amount\\n',)"
      ]
     },
     "execution_count": 6,
     "metadata": {},
     "output_type": "execute_result"
    }
   ],
   "source": [
    "# Requires `s3fs` library\n",
    "# each partition is a remote CSV text file\n",
    "b = db.read_text(sources.bag_url,\n",
    "                 storage_options={'anon': True})\n",
    "b.take(1)"
   ]
  },
  {
   "cell_type": "markdown",
   "metadata": {},
   "source": [
    "## Manipulation"
   ]
  },
  {
   "cell_type": "markdown",
   "metadata": {},
   "source": [
    "`Bag` objects hold the standard functional API found in projects like the Python standard library, `toolz`, or `pyspark`, including `map`, `filter`, `groupby`, etc..\n",
    "\n",
    "Operations on `Bag` objects create new bags.  Call the `.compute()` method to trigger execution, as we saw for `Delayed` objects.  "
   ]
  },
  {
   "cell_type": "code",
   "execution_count": 7,
   "metadata": {
    "execution": {
     "iopub.execute_input": "2021-07-20T15:06:34.867402Z",
     "iopub.status.busy": "2021-07-20T15:06:34.866894Z",
     "iopub.status.idle": "2021-07-20T15:06:34.871642Z",
     "shell.execute_reply": "2021-07-20T15:06:34.870709Z"
    }
   },
   "outputs": [
    {
     "data": {
      "text/plain": [
       "dask.bag<lambda, npartitions=10>"
      ]
     },
     "execution_count": 7,
     "metadata": {},
     "output_type": "execute_result"
    }
   ],
   "source": [
    "def is_even(n):\n",
    "    return n % 2 == 0\n",
    "\n",
    "b = db.from_sequence([1, 2, 3, 4, 5, 6, 7, 8, 9, 10])\n",
    "c = b.filter(is_even).map(lambda x: x ** 2)\n",
    "c"
   ]
  },
  {
   "cell_type": "code",
   "execution_count": 8,
   "metadata": {
    "execution": {
     "iopub.execute_input": "2021-07-20T15:06:34.900925Z",
     "iopub.status.busy": "2021-07-20T15:06:34.900439Z",
     "iopub.status.idle": "2021-07-20T15:06:35.040022Z",
     "shell.execute_reply": "2021-07-20T15:06:35.039468Z"
    }
   },
   "outputs": [
    {
     "data": {
      "text/plain": [
       "[4, 16, 36, 64, 100]"
      ]
     },
     "execution_count": 8,
     "metadata": {},
     "output_type": "execute_result"
    }
   ],
   "source": [
    "# blocking form: wait for completion (which is very fast in this case)\n",
    "c.compute()"
   ]
  },
  {
   "cell_type": "markdown",
   "metadata": {},
   "source": [
    "### Example: Accounts JSON data"
   ]
  },
  {
   "cell_type": "markdown",
   "metadata": {},
   "source": [
    "We've created a fake dataset of gzipped JSON data in your data directory.  This is like the example used in the `DataFrame` example we will see later, except that it has bundled up all of the entries for each individual `id` into a single record.  This is similar to data that you might collect off of a document store database or a web API.\n",
    "\n",
    "Each line is a JSON encoded dictionary with the following keys\n",
    "\n",
    "*  id: Unique identifier of the customer\n",
    "*  name: Name of the customer\n",
    "*  transactions: List of `transaction-id`, `amount` pairs, one for each transaction for the customer in that file"
   ]
  },
  {
   "cell_type": "code",
   "execution_count": 9,
   "metadata": {
    "execution": {
     "iopub.execute_input": "2021-07-20T15:06:35.044884Z",
     "iopub.status.busy": "2021-07-20T15:06:35.044351Z",
     "iopub.status.idle": "2021-07-20T15:06:35.077267Z",
     "shell.execute_reply": "2021-07-20T15:06:35.076143Z"
    }
   },
   "outputs": [
    {
     "data": {
      "text/plain": [
       "('{\"id\": 0, \"name\": \"Ingrid\", \"transactions\": [{\"transaction-id\": 41, \"amount\": -248}, {\"transaction-id\": 91, \"amount\": -192}, {\"transaction-id\": 156, \"amount\": -213}, {\"transaction-id\": 209, \"amount\": -10}, {\"transaction-id\": 215, \"amount\": -162}, {\"transaction-id\": 249, \"amount\": -184}, {\"transaction-id\": 300, \"amount\": -184}, {\"transaction-id\": 324, \"amount\": -297}, {\"transaction-id\": 624, \"amount\": -210}, {\"transaction-id\": 701, \"amount\": -138}, {\"transaction-id\": 726, \"amount\": -217}, {\"transaction-id\": 739, \"amount\": -196}, {\"transaction-id\": 756, \"amount\": -114}, {\"transaction-id\": 758, \"amount\": 50}, {\"transaction-id\": 783, \"amount\": -108}, {\"transaction-id\": 792, \"amount\": -265}, {\"transaction-id\": 915, \"amount\": -276}, {\"transaction-id\": 916, \"amount\": -101}, {\"transaction-id\": 1024, \"amount\": -248}, {\"transaction-id\": 1030, \"amount\": -378}, {\"transaction-id\": 1050, \"amount\": -247}, {\"transaction-id\": 1076, \"amount\": -289}, {\"transaction-id\": 1111, \"amount\": -274}, {\"transaction-id\": 1272, \"amount\": -238}, {\"transaction-id\": 1291, \"amount\": -156}, {\"transaction-id\": 1292, \"amount\": -187}, {\"transaction-id\": 1430, \"amount\": -250}, {\"transaction-id\": 1438, \"amount\": -275}, {\"transaction-id\": 1594, \"amount\": -283}, {\"transaction-id\": 1612, \"amount\": -171}, {\"transaction-id\": 1700, \"amount\": -180}, {\"transaction-id\": 1737, \"amount\": -172}, {\"transaction-id\": 1843, \"amount\": -177}, {\"transaction-id\": 1883, \"amount\": -237}, {\"transaction-id\": 1894, \"amount\": -72}, {\"transaction-id\": 1945, \"amount\": -214}, {\"transaction-id\": 2099, \"amount\": -78}, {\"transaction-id\": 2149, \"amount\": -252}, {\"transaction-id\": 2159, \"amount\": -208}, {\"transaction-id\": 2238, \"amount\": -135}, {\"transaction-id\": 2316, \"amount\": -216}, {\"transaction-id\": 2334, \"amount\": -144}, {\"transaction-id\": 2406, \"amount\": -349}, {\"transaction-id\": 2464, \"amount\": -145}, {\"transaction-id\": 2481, \"amount\": -109}, {\"transaction-id\": 2622, \"amount\": -187}, {\"transaction-id\": 2643, \"amount\": -330}, {\"transaction-id\": 2717, \"amount\": -189}, {\"transaction-id\": 2826, \"amount\": -226}, {\"transaction-id\": 2839, \"amount\": -280}, {\"transaction-id\": 2882, \"amount\": -154}, {\"transaction-id\": 2909, \"amount\": -269}, {\"transaction-id\": 2922, \"amount\": -107}, {\"transaction-id\": 2948, \"amount\": -230}, {\"transaction-id\": 2987, \"amount\": -171}, {\"transaction-id\": 3008, \"amount\": -52}, {\"transaction-id\": 3180, \"amount\": -141}, {\"transaction-id\": 3216, \"amount\": -310}, {\"transaction-id\": 3273, \"amount\": -266}, {\"transaction-id\": 3512, \"amount\": -365}, {\"transaction-id\": 3563, \"amount\": -148}, {\"transaction-id\": 3819, \"amount\": -75}, {\"transaction-id\": 3880, \"amount\": -52}, {\"transaction-id\": 3977, \"amount\": -195}, {\"transaction-id\": 3987, \"amount\": -80}, {\"transaction-id\": 4004, \"amount\": -32}, {\"transaction-id\": 4046, \"amount\": -238}, {\"transaction-id\": 4129, \"amount\": -201}, {\"transaction-id\": 4243, \"amount\": -215}, {\"transaction-id\": 4347, \"amount\": -186}, {\"transaction-id\": 4360, \"amount\": -152}, {\"transaction-id\": 4452, \"amount\": -137}, {\"transaction-id\": 4522, \"amount\": -176}, {\"transaction-id\": 4783, \"amount\": -169}, {\"transaction-id\": 4804, \"amount\": -63}, {\"transaction-id\": 4854, \"amount\": -139}, {\"transaction-id\": 5021, \"amount\": -161}, {\"transaction-id\": 5032, \"amount\": -144}, {\"transaction-id\": 5079, \"amount\": -96}, {\"transaction-id\": 5142, \"amount\": -186}, {\"transaction-id\": 5420, \"amount\": -24}, {\"transaction-id\": 5455, \"amount\": -150}, {\"transaction-id\": 5547, \"amount\": 0}, {\"transaction-id\": 5560, \"amount\": -205}, {\"transaction-id\": 5604, \"amount\": -137}, {\"transaction-id\": 5680, \"amount\": -155}, {\"transaction-id\": 5745, \"amount\": -260}, {\"transaction-id\": 5771, \"amount\": -201}, {\"transaction-id\": 5968, \"amount\": -184}, {\"transaction-id\": 5982, \"amount\": -229}, {\"transaction-id\": 6070, \"amount\": -77}, {\"transaction-id\": 6113, \"amount\": -202}, {\"transaction-id\": 6125, \"amount\": -148}, {\"transaction-id\": 6245, \"amount\": -194}, {\"transaction-id\": 6248, \"amount\": -95}, {\"transaction-id\": 6302, \"amount\": -2}, {\"transaction-id\": 6366, \"amount\": -193}, {\"transaction-id\": 6373, \"amount\": -230}, {\"transaction-id\": 6500, \"amount\": -163}, {\"transaction-id\": 6651, \"amount\": -183}, {\"transaction-id\": 6677, \"amount\": -147}, {\"transaction-id\": 6708, \"amount\": -226}, {\"transaction-id\": 6730, \"amount\": -214}, {\"transaction-id\": 6843, \"amount\": -158}, {\"transaction-id\": 6956, \"amount\": -126}, {\"transaction-id\": 6977, \"amount\": -179}, {\"transaction-id\": 7001, \"amount\": -308}, {\"transaction-id\": 7027, \"amount\": -225}, {\"transaction-id\": 7052, \"amount\": -163}, {\"transaction-id\": 7054, \"amount\": -295}, {\"transaction-id\": 7056, \"amount\": -70}, {\"transaction-id\": 7112, \"amount\": -210}, {\"transaction-id\": 7134, \"amount\": -114}, {\"transaction-id\": 7484, \"amount\": -196}, {\"transaction-id\": 7551, \"amount\": -278}, {\"transaction-id\": 7730, \"amount\": -259}, {\"transaction-id\": 7882, \"amount\": -288}, {\"transaction-id\": 7948, \"amount\": -302}, {\"transaction-id\": 7988, \"amount\": -96}, {\"transaction-id\": 8171, \"amount\": -174}, {\"transaction-id\": 8244, \"amount\": -171}, {\"transaction-id\": 8270, \"amount\": -92}, {\"transaction-id\": 8353, \"amount\": -183}, {\"transaction-id\": 8447, \"amount\": -201}, {\"transaction-id\": 8477, \"amount\": -324}, {\"transaction-id\": 8517, \"amount\": -212}, {\"transaction-id\": 8518, \"amount\": -252}, {\"transaction-id\": 8531, \"amount\": -172}, {\"transaction-id\": 8594, \"amount\": -69}, {\"transaction-id\": 8754, \"amount\": -125}, {\"transaction-id\": 8770, \"amount\": -178}, {\"transaction-id\": 8872, \"amount\": -74}, {\"transaction-id\": 9088, \"amount\": -157}, {\"transaction-id\": 9176, \"amount\": -210}, {\"transaction-id\": 9443, \"amount\": -135}, {\"transaction-id\": 9511, \"amount\": -154}, {\"transaction-id\": 9540, \"amount\": -52}, {\"transaction-id\": 9595, \"amount\": -9}, {\"transaction-id\": 9781, \"amount\": -76}, {\"transaction-id\": 9849, \"amount\": -270}, {\"transaction-id\": 9857, \"amount\": -328}, {\"transaction-id\": 9991, \"amount\": -204}]}\\n',\n",
       " '{\"id\": 1, \"name\": \"Dan\", \"transactions\": [{\"transaction-id\": 140, \"amount\": 11236}, {\"transaction-id\": 294, \"amount\": 9982}, {\"transaction-id\": 436, \"amount\": 10119}, {\"transaction-id\": 569, \"amount\": 10059}, {\"transaction-id\": 715, \"amount\": 10035}, {\"transaction-id\": 1038, \"amount\": 10445}, {\"transaction-id\": 1278, \"amount\": 10567}, {\"transaction-id\": 1307, \"amount\": 10301}, {\"transaction-id\": 1670, \"amount\": 10444}, {\"transaction-id\": 1847, \"amount\": 9545}, {\"transaction-id\": 2009, \"amount\": 10052}, {\"transaction-id\": 2037, \"amount\": 10905}, {\"transaction-id\": 2291, \"amount\": 10381}, {\"transaction-id\": 2660, \"amount\": 10082}, {\"transaction-id\": 3231, \"amount\": 10407}, {\"transaction-id\": 3806, \"amount\": 10649}, {\"transaction-id\": 3935, \"amount\": 10497}, {\"transaction-id\": 4118, \"amount\": 9807}, {\"transaction-id\": 4411, \"amount\": 10009}, {\"transaction-id\": 4721, \"amount\": 10468}, {\"transaction-id\": 4958, \"amount\": 10670}, {\"transaction-id\": 5101, \"amount\": 10873}, {\"transaction-id\": 5209, \"amount\": 10154}, {\"transaction-id\": 5328, \"amount\": 11116}, {\"transaction-id\": 5337, \"amount\": 9747}, {\"transaction-id\": 5377, \"amount\": 10433}, {\"transaction-id\": 5572, \"amount\": 10744}, {\"transaction-id\": 6190, \"amount\": 10567}, {\"transaction-id\": 6449, \"amount\": 10095}, {\"transaction-id\": 6475, \"amount\": 9715}, {\"transaction-id\": 6568, \"amount\": 10498}, {\"transaction-id\": 7022, \"amount\": 10151}, {\"transaction-id\": 7279, \"amount\": 9900}, {\"transaction-id\": 7459, \"amount\": 10727}, {\"transaction-id\": 7464, \"amount\": 10770}, {\"transaction-id\": 7510, \"amount\": 10676}, {\"transaction-id\": 7527, \"amount\": 10328}, {\"transaction-id\": 8231, \"amount\": 9938}, {\"transaction-id\": 8263, \"amount\": 10074}, {\"transaction-id\": 8982, \"amount\": 10359}, {\"transaction-id\": 9085, \"amount\": 10777}, {\"transaction-id\": 9533, \"amount\": 10288}, {\"transaction-id\": 9814, \"amount\": 10743}]}\\n',\n",
       " '{\"id\": 2, \"name\": \"Laura\", \"transactions\": [{\"transaction-id\": 484, \"amount\": -1620}, {\"transaction-id\": 1032, \"amount\": -1178}, {\"transaction-id\": 1039, \"amount\": -1177}, {\"transaction-id\": 1288, \"amount\": -1504}, {\"transaction-id\": 1329, \"amount\": -1642}, {\"transaction-id\": 1392, \"amount\": -1949}, {\"transaction-id\": 1563, \"amount\": -1555}, {\"transaction-id\": 1620, \"amount\": -1599}, {\"transaction-id\": 1838, \"amount\": -1716}, {\"transaction-id\": 1860, \"amount\": -1760}, {\"transaction-id\": 2046, \"amount\": -1668}, {\"transaction-id\": 2155, \"amount\": -2279}, {\"transaction-id\": 2580, \"amount\": -1344}, {\"transaction-id\": 3141, \"amount\": -1616}, {\"transaction-id\": 3195, \"amount\": -1975}, {\"transaction-id\": 3380, \"amount\": -1866}, {\"transaction-id\": 3660, \"amount\": -1452}, {\"transaction-id\": 4078, \"amount\": -1142}, {\"transaction-id\": 4665, \"amount\": -1692}, {\"transaction-id\": 4931, \"amount\": -1815}, {\"transaction-id\": 4934, \"amount\": -1535}, {\"transaction-id\": 5839, \"amount\": -1320}, {\"transaction-id\": 6383, \"amount\": -1760}, {\"transaction-id\": 6562, \"amount\": -1315}, {\"transaction-id\": 6770, \"amount\": -1420}, {\"transaction-id\": 6856, \"amount\": -1785}, {\"transaction-id\": 7504, \"amount\": -1573}, {\"transaction-id\": 7909, \"amount\": -1160}, {\"transaction-id\": 8653, \"amount\": -1349}, {\"transaction-id\": 8681, \"amount\": -1401}, {\"transaction-id\": 8716, \"amount\": -1483}, {\"transaction-id\": 9021, \"amount\": -2067}, {\"transaction-id\": 9248, \"amount\": -1906}, {\"transaction-id\": 9257, \"amount\": -1590}, {\"transaction-id\": 9730, \"amount\": -1301}, {\"transaction-id\": 9965, \"amount\": -1542}]}\\n')"
      ]
     },
     "execution_count": 9,
     "metadata": {},
     "output_type": "execute_result"
    }
   ],
   "source": [
    "filename = os.path.join('data', 'accounts.*.json.gz')\n",
    "lines = db.read_text(filename)\n",
    "lines.take(3)"
   ]
  },
  {
   "cell_type": "markdown",
   "metadata": {},
   "source": [
    "Our data comes out of the file as lines of text. Notice that file decompression happened automatically. We can make this data look more reasonable by mapping the `json.loads` function onto our bag."
   ]
  },
  {
   "cell_type": "code",
   "execution_count": 10,
   "metadata": {
    "execution": {
     "iopub.execute_input": "2021-07-20T15:06:35.084076Z",
     "iopub.status.busy": "2021-07-20T15:06:35.082263Z",
     "iopub.status.idle": "2021-07-20T15:06:35.116407Z",
     "shell.execute_reply": "2021-07-20T15:06:35.116965Z"
    }
   },
   "outputs": [
    {
     "data": {
      "text/plain": [
       "({'id': 0,\n",
       "  'name': 'Ingrid',\n",
       "  'transactions': [{'transaction-id': 41, 'amount': -248},\n",
       "   {'transaction-id': 91, 'amount': -192},\n",
       "   {'transaction-id': 156, 'amount': -213},\n",
       "   {'transaction-id': 209, 'amount': -10},\n",
       "   {'transaction-id': 215, 'amount': -162},\n",
       "   {'transaction-id': 249, 'amount': -184},\n",
       "   {'transaction-id': 300, 'amount': -184},\n",
       "   {'transaction-id': 324, 'amount': -297},\n",
       "   {'transaction-id': 624, 'amount': -210},\n",
       "   {'transaction-id': 701, 'amount': -138},\n",
       "   {'transaction-id': 726, 'amount': -217},\n",
       "   {'transaction-id': 739, 'amount': -196},\n",
       "   {'transaction-id': 756, 'amount': -114},\n",
       "   {'transaction-id': 758, 'amount': 50},\n",
       "   {'transaction-id': 783, 'amount': -108},\n",
       "   {'transaction-id': 792, 'amount': -265},\n",
       "   {'transaction-id': 915, 'amount': -276},\n",
       "   {'transaction-id': 916, 'amount': -101},\n",
       "   {'transaction-id': 1024, 'amount': -248},\n",
       "   {'transaction-id': 1030, 'amount': -378},\n",
       "   {'transaction-id': 1050, 'amount': -247},\n",
       "   {'transaction-id': 1076, 'amount': -289},\n",
       "   {'transaction-id': 1111, 'amount': -274},\n",
       "   {'transaction-id': 1272, 'amount': -238},\n",
       "   {'transaction-id': 1291, 'amount': -156},\n",
       "   {'transaction-id': 1292, 'amount': -187},\n",
       "   {'transaction-id': 1430, 'amount': -250},\n",
       "   {'transaction-id': 1438, 'amount': -275},\n",
       "   {'transaction-id': 1594, 'amount': -283},\n",
       "   {'transaction-id': 1612, 'amount': -171},\n",
       "   {'transaction-id': 1700, 'amount': -180},\n",
       "   {'transaction-id': 1737, 'amount': -172},\n",
       "   {'transaction-id': 1843, 'amount': -177},\n",
       "   {'transaction-id': 1883, 'amount': -237},\n",
       "   {'transaction-id': 1894, 'amount': -72},\n",
       "   {'transaction-id': 1945, 'amount': -214},\n",
       "   {'transaction-id': 2099, 'amount': -78},\n",
       "   {'transaction-id': 2149, 'amount': -252},\n",
       "   {'transaction-id': 2159, 'amount': -208},\n",
       "   {'transaction-id': 2238, 'amount': -135},\n",
       "   {'transaction-id': 2316, 'amount': -216},\n",
       "   {'transaction-id': 2334, 'amount': -144},\n",
       "   {'transaction-id': 2406, 'amount': -349},\n",
       "   {'transaction-id': 2464, 'amount': -145},\n",
       "   {'transaction-id': 2481, 'amount': -109},\n",
       "   {'transaction-id': 2622, 'amount': -187},\n",
       "   {'transaction-id': 2643, 'amount': -330},\n",
       "   {'transaction-id': 2717, 'amount': -189},\n",
       "   {'transaction-id': 2826, 'amount': -226},\n",
       "   {'transaction-id': 2839, 'amount': -280},\n",
       "   {'transaction-id': 2882, 'amount': -154},\n",
       "   {'transaction-id': 2909, 'amount': -269},\n",
       "   {'transaction-id': 2922, 'amount': -107},\n",
       "   {'transaction-id': 2948, 'amount': -230},\n",
       "   {'transaction-id': 2987, 'amount': -171},\n",
       "   {'transaction-id': 3008, 'amount': -52},\n",
       "   {'transaction-id': 3180, 'amount': -141},\n",
       "   {'transaction-id': 3216, 'amount': -310},\n",
       "   {'transaction-id': 3273, 'amount': -266},\n",
       "   {'transaction-id': 3512, 'amount': -365},\n",
       "   {'transaction-id': 3563, 'amount': -148},\n",
       "   {'transaction-id': 3819, 'amount': -75},\n",
       "   {'transaction-id': 3880, 'amount': -52},\n",
       "   {'transaction-id': 3977, 'amount': -195},\n",
       "   {'transaction-id': 3987, 'amount': -80},\n",
       "   {'transaction-id': 4004, 'amount': -32},\n",
       "   {'transaction-id': 4046, 'amount': -238},\n",
       "   {'transaction-id': 4129, 'amount': -201},\n",
       "   {'transaction-id': 4243, 'amount': -215},\n",
       "   {'transaction-id': 4347, 'amount': -186},\n",
       "   {'transaction-id': 4360, 'amount': -152},\n",
       "   {'transaction-id': 4452, 'amount': -137},\n",
       "   {'transaction-id': 4522, 'amount': -176},\n",
       "   {'transaction-id': 4783, 'amount': -169},\n",
       "   {'transaction-id': 4804, 'amount': -63},\n",
       "   {'transaction-id': 4854, 'amount': -139},\n",
       "   {'transaction-id': 5021, 'amount': -161},\n",
       "   {'transaction-id': 5032, 'amount': -144},\n",
       "   {'transaction-id': 5079, 'amount': -96},\n",
       "   {'transaction-id': 5142, 'amount': -186},\n",
       "   {'transaction-id': 5420, 'amount': -24},\n",
       "   {'transaction-id': 5455, 'amount': -150},\n",
       "   {'transaction-id': 5547, 'amount': 0},\n",
       "   {'transaction-id': 5560, 'amount': -205},\n",
       "   {'transaction-id': 5604, 'amount': -137},\n",
       "   {'transaction-id': 5680, 'amount': -155},\n",
       "   {'transaction-id': 5745, 'amount': -260},\n",
       "   {'transaction-id': 5771, 'amount': -201},\n",
       "   {'transaction-id': 5968, 'amount': -184},\n",
       "   {'transaction-id': 5982, 'amount': -229},\n",
       "   {'transaction-id': 6070, 'amount': -77},\n",
       "   {'transaction-id': 6113, 'amount': -202},\n",
       "   {'transaction-id': 6125, 'amount': -148},\n",
       "   {'transaction-id': 6245, 'amount': -194},\n",
       "   {'transaction-id': 6248, 'amount': -95},\n",
       "   {'transaction-id': 6302, 'amount': -2},\n",
       "   {'transaction-id': 6366, 'amount': -193},\n",
       "   {'transaction-id': 6373, 'amount': -230},\n",
       "   {'transaction-id': 6500, 'amount': -163},\n",
       "   {'transaction-id': 6651, 'amount': -183},\n",
       "   {'transaction-id': 6677, 'amount': -147},\n",
       "   {'transaction-id': 6708, 'amount': -226},\n",
       "   {'transaction-id': 6730, 'amount': -214},\n",
       "   {'transaction-id': 6843, 'amount': -158},\n",
       "   {'transaction-id': 6956, 'amount': -126},\n",
       "   {'transaction-id': 6977, 'amount': -179},\n",
       "   {'transaction-id': 7001, 'amount': -308},\n",
       "   {'transaction-id': 7027, 'amount': -225},\n",
       "   {'transaction-id': 7052, 'amount': -163},\n",
       "   {'transaction-id': 7054, 'amount': -295},\n",
       "   {'transaction-id': 7056, 'amount': -70},\n",
       "   {'transaction-id': 7112, 'amount': -210},\n",
       "   {'transaction-id': 7134, 'amount': -114},\n",
       "   {'transaction-id': 7484, 'amount': -196},\n",
       "   {'transaction-id': 7551, 'amount': -278},\n",
       "   {'transaction-id': 7730, 'amount': -259},\n",
       "   {'transaction-id': 7882, 'amount': -288},\n",
       "   {'transaction-id': 7948, 'amount': -302},\n",
       "   {'transaction-id': 7988, 'amount': -96},\n",
       "   {'transaction-id': 8171, 'amount': -174},\n",
       "   {'transaction-id': 8244, 'amount': -171},\n",
       "   {'transaction-id': 8270, 'amount': -92},\n",
       "   {'transaction-id': 8353, 'amount': -183},\n",
       "   {'transaction-id': 8447, 'amount': -201},\n",
       "   {'transaction-id': 8477, 'amount': -324},\n",
       "   {'transaction-id': 8517, 'amount': -212},\n",
       "   {'transaction-id': 8518, 'amount': -252},\n",
       "   {'transaction-id': 8531, 'amount': -172},\n",
       "   {'transaction-id': 8594, 'amount': -69},\n",
       "   {'transaction-id': 8754, 'amount': -125},\n",
       "   {'transaction-id': 8770, 'amount': -178},\n",
       "   {'transaction-id': 8872, 'amount': -74},\n",
       "   {'transaction-id': 9088, 'amount': -157},\n",
       "   {'transaction-id': 9176, 'amount': -210},\n",
       "   {'transaction-id': 9443, 'amount': -135},\n",
       "   {'transaction-id': 9511, 'amount': -154},\n",
       "   {'transaction-id': 9540, 'amount': -52},\n",
       "   {'transaction-id': 9595, 'amount': -9},\n",
       "   {'transaction-id': 9781, 'amount': -76},\n",
       "   {'transaction-id': 9849, 'amount': -270},\n",
       "   {'transaction-id': 9857, 'amount': -328},\n",
       "   {'transaction-id': 9991, 'amount': -204}]},\n",
       " {'id': 1,\n",
       "  'name': 'Dan',\n",
       "  'transactions': [{'transaction-id': 140, 'amount': 11236},\n",
       "   {'transaction-id': 294, 'amount': 9982},\n",
       "   {'transaction-id': 436, 'amount': 10119},\n",
       "   {'transaction-id': 569, 'amount': 10059},\n",
       "   {'transaction-id': 715, 'amount': 10035},\n",
       "   {'transaction-id': 1038, 'amount': 10445},\n",
       "   {'transaction-id': 1278, 'amount': 10567},\n",
       "   {'transaction-id': 1307, 'amount': 10301},\n",
       "   {'transaction-id': 1670, 'amount': 10444},\n",
       "   {'transaction-id': 1847, 'amount': 9545},\n",
       "   {'transaction-id': 2009, 'amount': 10052},\n",
       "   {'transaction-id': 2037, 'amount': 10905},\n",
       "   {'transaction-id': 2291, 'amount': 10381},\n",
       "   {'transaction-id': 2660, 'amount': 10082},\n",
       "   {'transaction-id': 3231, 'amount': 10407},\n",
       "   {'transaction-id': 3806, 'amount': 10649},\n",
       "   {'transaction-id': 3935, 'amount': 10497},\n",
       "   {'transaction-id': 4118, 'amount': 9807},\n",
       "   {'transaction-id': 4411, 'amount': 10009},\n",
       "   {'transaction-id': 4721, 'amount': 10468},\n",
       "   {'transaction-id': 4958, 'amount': 10670},\n",
       "   {'transaction-id': 5101, 'amount': 10873},\n",
       "   {'transaction-id': 5209, 'amount': 10154},\n",
       "   {'transaction-id': 5328, 'amount': 11116},\n",
       "   {'transaction-id': 5337, 'amount': 9747},\n",
       "   {'transaction-id': 5377, 'amount': 10433},\n",
       "   {'transaction-id': 5572, 'amount': 10744},\n",
       "   {'transaction-id': 6190, 'amount': 10567},\n",
       "   {'transaction-id': 6449, 'amount': 10095},\n",
       "   {'transaction-id': 6475, 'amount': 9715},\n",
       "   {'transaction-id': 6568, 'amount': 10498},\n",
       "   {'transaction-id': 7022, 'amount': 10151},\n",
       "   {'transaction-id': 7279, 'amount': 9900},\n",
       "   {'transaction-id': 7459, 'amount': 10727},\n",
       "   {'transaction-id': 7464, 'amount': 10770},\n",
       "   {'transaction-id': 7510, 'amount': 10676},\n",
       "   {'transaction-id': 7527, 'amount': 10328},\n",
       "   {'transaction-id': 8231, 'amount': 9938},\n",
       "   {'transaction-id': 8263, 'amount': 10074},\n",
       "   {'transaction-id': 8982, 'amount': 10359},\n",
       "   {'transaction-id': 9085, 'amount': 10777},\n",
       "   {'transaction-id': 9533, 'amount': 10288},\n",
       "   {'transaction-id': 9814, 'amount': 10743}]},\n",
       " {'id': 2,\n",
       "  'name': 'Laura',\n",
       "  'transactions': [{'transaction-id': 484, 'amount': -1620},\n",
       "   {'transaction-id': 1032, 'amount': -1178},\n",
       "   {'transaction-id': 1039, 'amount': -1177},\n",
       "   {'transaction-id': 1288, 'amount': -1504},\n",
       "   {'transaction-id': 1329, 'amount': -1642},\n",
       "   {'transaction-id': 1392, 'amount': -1949},\n",
       "   {'transaction-id': 1563, 'amount': -1555},\n",
       "   {'transaction-id': 1620, 'amount': -1599},\n",
       "   {'transaction-id': 1838, 'amount': -1716},\n",
       "   {'transaction-id': 1860, 'amount': -1760},\n",
       "   {'transaction-id': 2046, 'amount': -1668},\n",
       "   {'transaction-id': 2155, 'amount': -2279},\n",
       "   {'transaction-id': 2580, 'amount': -1344},\n",
       "   {'transaction-id': 3141, 'amount': -1616},\n",
       "   {'transaction-id': 3195, 'amount': -1975},\n",
       "   {'transaction-id': 3380, 'amount': -1866},\n",
       "   {'transaction-id': 3660, 'amount': -1452},\n",
       "   {'transaction-id': 4078, 'amount': -1142},\n",
       "   {'transaction-id': 4665, 'amount': -1692},\n",
       "   {'transaction-id': 4931, 'amount': -1815},\n",
       "   {'transaction-id': 4934, 'amount': -1535},\n",
       "   {'transaction-id': 5839, 'amount': -1320},\n",
       "   {'transaction-id': 6383, 'amount': -1760},\n",
       "   {'transaction-id': 6562, 'amount': -1315},\n",
       "   {'transaction-id': 6770, 'amount': -1420},\n",
       "   {'transaction-id': 6856, 'amount': -1785},\n",
       "   {'transaction-id': 7504, 'amount': -1573},\n",
       "   {'transaction-id': 7909, 'amount': -1160},\n",
       "   {'transaction-id': 8653, 'amount': -1349},\n",
       "   {'transaction-id': 8681, 'amount': -1401},\n",
       "   {'transaction-id': 8716, 'amount': -1483},\n",
       "   {'transaction-id': 9021, 'amount': -2067},\n",
       "   {'transaction-id': 9248, 'amount': -1906},\n",
       "   {'transaction-id': 9257, 'amount': -1590},\n",
       "   {'transaction-id': 9730, 'amount': -1301},\n",
       "   {'transaction-id': 9965, 'amount': -1542}]})"
      ]
     },
     "execution_count": 10,
     "metadata": {},
     "output_type": "execute_result"
    }
   ],
   "source": [
    "import json\n",
    "js = lines.map(json.loads)\n",
    "# take: inspect first few elements\n",
    "js.take(3)"
   ]
  },
  {
   "cell_type": "markdown",
   "metadata": {},
   "source": [
    "### Basic Queries"
   ]
  },
  {
   "cell_type": "markdown",
   "metadata": {},
   "source": [
    "Once we parse our JSON data into proper Python objects (`dict`s, `list`s, etc.) we can perform more interesting queries by creating small Python functions to run on our data."
   ]
  },
  {
   "cell_type": "code",
   "execution_count": 11,
   "metadata": {
    "execution": {
     "iopub.execute_input": "2021-07-20T15:06:35.126055Z",
     "iopub.status.busy": "2021-07-20T15:06:35.122394Z",
     "iopub.status.idle": "2021-07-20T15:06:35.156125Z",
     "shell.execute_reply": "2021-07-20T15:06:35.156515Z"
    }
   },
   "outputs": [
    {
     "data": {
      "text/plain": [
       "({'id': 75,\n",
       "  'name': 'Alice',\n",
       "  'transactions': [{'transaction-id': 1035, 'amount': 749},\n",
       "   {'transaction-id': 2797, 'amount': 726},\n",
       "   {'transaction-id': 2945, 'amount': 780},\n",
       "   {'transaction-id': 4270, 'amount': 854},\n",
       "   {'transaction-id': 4817, 'amount': 640},\n",
       "   {'transaction-id': 6011, 'amount': 697},\n",
       "   {'transaction-id': 6058, 'amount': 782},\n",
       "   {'transaction-id': 6314, 'amount': 827},\n",
       "   {'transaction-id': 6808, 'amount': 814},\n",
       "   {'transaction-id': 6912, 'amount': 776},\n",
       "   {'transaction-id': 7341, 'amount': 794},\n",
       "   {'transaction-id': 7356, 'amount': 736},\n",
       "   {'transaction-id': 7768, 'amount': 805},\n",
       "   {'transaction-id': 8076, 'amount': 728},\n",
       "   {'transaction-id': 8723, 'amount': 754},\n",
       "   {'transaction-id': 9058, 'amount': 790}]},\n",
       " {'id': 113,\n",
       "  'name': 'Alice',\n",
       "  'transactions': [{'transaction-id': 46, 'amount': 3127},\n",
       "   {'transaction-id': 163, 'amount': 2932},\n",
       "   {'transaction-id': 238, 'amount': 2943},\n",
       "   {'transaction-id': 403, 'amount': 3071},\n",
       "   {'transaction-id': 917, 'amount': 2922},\n",
       "   {'transaction-id': 2893, 'amount': 3139},\n",
       "   {'transaction-id': 3710, 'amount': 3093},\n",
       "   {'transaction-id': 3778, 'amount': 2884},\n",
       "   {'transaction-id': 3903, 'amount': 3129},\n",
       "   {'transaction-id': 4166, 'amount': 2944},\n",
       "   {'transaction-id': 5484, 'amount': 2881},\n",
       "   {'transaction-id': 5855, 'amount': 3123},\n",
       "   {'transaction-id': 6325, 'amount': 2946},\n",
       "   {'transaction-id': 6367, 'amount': 2963},\n",
       "   {'transaction-id': 7533, 'amount': 2869},\n",
       "   {'transaction-id': 7832, 'amount': 2698},\n",
       "   {'transaction-id': 7863, 'amount': 2924},\n",
       "   {'transaction-id': 8105, 'amount': 3126},\n",
       "   {'transaction-id': 8212, 'amount': 2968},\n",
       "   {'transaction-id': 8247, 'amount': 2793},\n",
       "   {'transaction-id': 8831, 'amount': 3193},\n",
       "   {'transaction-id': 9583, 'amount': 3081}]},\n",
       " {'id': 122,\n",
       "  'name': 'Alice',\n",
       "  'transactions': [{'transaction-id': 59, 'amount': 36},\n",
       "   {'transaction-id': 684, 'amount': 49},\n",
       "   {'transaction-id': 730, 'amount': 37},\n",
       "   {'transaction-id': 2532, 'amount': 38},\n",
       "   {'transaction-id': 4193, 'amount': 43},\n",
       "   {'transaction-id': 6156, 'amount': 45},\n",
       "   {'transaction-id': 6870, 'amount': 40},\n",
       "   {'transaction-id': 7041, 'amount': 45},\n",
       "   {'transaction-id': 7491, 'amount': 35},\n",
       "   {'transaction-id': 8564, 'amount': 39},\n",
       "   {'transaction-id': 9874, 'amount': 31}]},\n",
       " {'id': 134,\n",
       "  'name': 'Alice',\n",
       "  'transactions': [{'transaction-id': 663, 'amount': -720},\n",
       "   {'transaction-id': 1040, 'amount': -533},\n",
       "   {'transaction-id': 1240, 'amount': -555},\n",
       "   {'transaction-id': 1540, 'amount': -454},\n",
       "   {'transaction-id': 1720, 'amount': -443},\n",
       "   {'transaction-id': 2584, 'amount': -811},\n",
       "   {'transaction-id': 2855, 'amount': -776},\n",
       "   {'transaction-id': 2918, 'amount': -527},\n",
       "   {'transaction-id': 2951, 'amount': -406},\n",
       "   {'transaction-id': 3846, 'amount': -669},\n",
       "   {'transaction-id': 4902, 'amount': -536},\n",
       "   {'transaction-id': 4921, 'amount': -683},\n",
       "   {'transaction-id': 5966, 'amount': -277},\n",
       "   {'transaction-id': 6069, 'amount': -485},\n",
       "   {'transaction-id': 6497, 'amount': -644},\n",
       "   {'transaction-id': 6599, 'amount': -860},\n",
       "   {'transaction-id': 7020, 'amount': -1008},\n",
       "   {'transaction-id': 7200, 'amount': -1016},\n",
       "   {'transaction-id': 7840, 'amount': -489},\n",
       "   {'transaction-id': 8130, 'amount': -275},\n",
       "   {'transaction-id': 8553, 'amount': -792},\n",
       "   {'transaction-id': 9485, 'amount': -923},\n",
       "   {'transaction-id': 9604, 'amount': -666}]},\n",
       " {'id': 231,\n",
       "  'name': 'Alice',\n",
       "  'transactions': [{'transaction-id': 318, 'amount': 1377},\n",
       "   {'transaction-id': 811, 'amount': 1310},\n",
       "   {'transaction-id': 926, 'amount': 1440},\n",
       "   {'transaction-id': 1134, 'amount': 1362},\n",
       "   {'transaction-id': 1880, 'amount': 1463},\n",
       "   {'transaction-id': 1949, 'amount': 1302},\n",
       "   {'transaction-id': 2130, 'amount': 1354},\n",
       "   {'transaction-id': 2453, 'amount': 1408},\n",
       "   {'transaction-id': 2454, 'amount': 1417},\n",
       "   {'transaction-id': 3334, 'amount': 1352},\n",
       "   {'transaction-id': 3681, 'amount': 1473},\n",
       "   {'transaction-id': 4024, 'amount': 1379},\n",
       "   {'transaction-id': 5525, 'amount': 1394},\n",
       "   {'transaction-id': 5542, 'amount': 1375},\n",
       "   {'transaction-id': 9668, 'amount': 1334}]})"
      ]
     },
     "execution_count": 11,
     "metadata": {},
     "output_type": "execute_result"
    }
   ],
   "source": [
    "# filter: keep only some elements of the sequence\n",
    "js.filter(lambda record: record['name'] == 'Alice').take(5)"
   ]
  },
  {
   "cell_type": "code",
   "execution_count": 12,
   "metadata": {
    "execution": {
     "iopub.execute_input": "2021-07-20T15:06:35.163838Z",
     "iopub.status.busy": "2021-07-20T15:06:35.162357Z",
     "iopub.status.idle": "2021-07-20T15:06:35.185834Z",
     "shell.execute_reply": "2021-07-20T15:06:35.186240Z"
    }
   },
   "outputs": [
    {
     "data": {
      "text/plain": [
       "({'name': 'Alice', 'count': 16},\n",
       " {'name': 'Alice', 'count': 22},\n",
       " {'name': 'Alice', 'count': 11},\n",
       " {'name': 'Alice', 'count': 23},\n",
       " {'name': 'Alice', 'count': 15})"
      ]
     },
     "execution_count": 12,
     "metadata": {},
     "output_type": "execute_result"
    }
   ],
   "source": [
    "def count_transactions(d):\n",
    "    return {'name': d['name'], 'count': len(d['transactions'])}\n",
    "\n",
    "# map: apply a function to each element\n",
    "(js.filter(lambda record: record['name'] == 'Alice')\n",
    "   .map(count_transactions)\n",
    "   .take(5))"
   ]
  },
  {
   "cell_type": "code",
   "execution_count": 13,
   "metadata": {
    "execution": {
     "iopub.execute_input": "2021-07-20T15:06:35.191371Z",
     "iopub.status.busy": "2021-07-20T15:06:35.190891Z",
     "iopub.status.idle": "2021-07-20T15:06:35.223197Z",
     "shell.execute_reply": "2021-07-20T15:06:35.224018Z"
    }
   },
   "outputs": [
    {
     "data": {
      "text/plain": [
       "(16, 22, 11, 23, 15)"
      ]
     },
     "execution_count": 13,
     "metadata": {},
     "output_type": "execute_result"
    }
   ],
   "source": [
    "# pluck: select a field, as from a dictionary, element[field]\n",
    "(js.filter(lambda record: record['name'] == 'Alice')\n",
    "   .map(count_transactions)\n",
    "   .pluck('count')\n",
    "   .take(5))"
   ]
  },
  {
   "cell_type": "code",
   "execution_count": 14,
   "metadata": {
    "execution": {
     "iopub.execute_input": "2021-07-20T15:06:35.229605Z",
     "iopub.status.busy": "2021-07-20T15:06:35.228397Z",
     "iopub.status.idle": "2021-07-20T15:06:35.702293Z",
     "shell.execute_reply": "2021-07-20T15:06:35.701567Z"
    }
   },
   "outputs": [
    {
     "data": {
      "text/plain": [
       "17.85333333333333"
      ]
     },
     "execution_count": 14,
     "metadata": {},
     "output_type": "execute_result"
    }
   ],
   "source": [
    "# Average number of transactions for all of the Alice entries\n",
    "(js.filter(lambda record: record['name'] == 'Alice')\n",
    "   .map(count_transactions)\n",
    "   .pluck('count')\n",
    "   .mean()\n",
    "   .compute())"
   ]
  },
  {
   "cell_type": "markdown",
   "metadata": {},
   "source": [
    "### Use `flatten` to de-nest"
   ]
  },
  {
   "cell_type": "markdown",
   "metadata": {},
   "source": [
    "In the example below we see the use of `.flatten()` to flatten results.  We compute the average amount for all transactions for all Alices."
   ]
  },
  {
   "cell_type": "code",
   "execution_count": 15,
   "metadata": {
    "execution": {
     "iopub.execute_input": "2021-07-20T15:06:35.709051Z",
     "iopub.status.busy": "2021-07-20T15:06:35.705200Z",
     "iopub.status.idle": "2021-07-20T15:06:35.734950Z",
     "shell.execute_reply": "2021-07-20T15:06:35.734543Z"
    }
   },
   "outputs": [
    {
     "data": {
      "text/plain": [
       "([{'transaction-id': 1035, 'amount': 749},\n",
       "  {'transaction-id': 2797, 'amount': 726},\n",
       "  {'transaction-id': 2945, 'amount': 780},\n",
       "  {'transaction-id': 4270, 'amount': 854},\n",
       "  {'transaction-id': 4817, 'amount': 640},\n",
       "  {'transaction-id': 6011, 'amount': 697},\n",
       "  {'transaction-id': 6058, 'amount': 782},\n",
       "  {'transaction-id': 6314, 'amount': 827},\n",
       "  {'transaction-id': 6808, 'amount': 814},\n",
       "  {'transaction-id': 6912, 'amount': 776},\n",
       "  {'transaction-id': 7341, 'amount': 794},\n",
       "  {'transaction-id': 7356, 'amount': 736},\n",
       "  {'transaction-id': 7768, 'amount': 805},\n",
       "  {'transaction-id': 8076, 'amount': 728},\n",
       "  {'transaction-id': 8723, 'amount': 754},\n",
       "  {'transaction-id': 9058, 'amount': 790}],\n",
       " [{'transaction-id': 46, 'amount': 3127},\n",
       "  {'transaction-id': 163, 'amount': 2932},\n",
       "  {'transaction-id': 238, 'amount': 2943},\n",
       "  {'transaction-id': 403, 'amount': 3071},\n",
       "  {'transaction-id': 917, 'amount': 2922},\n",
       "  {'transaction-id': 2893, 'amount': 3139},\n",
       "  {'transaction-id': 3710, 'amount': 3093},\n",
       "  {'transaction-id': 3778, 'amount': 2884},\n",
       "  {'transaction-id': 3903, 'amount': 3129},\n",
       "  {'transaction-id': 4166, 'amount': 2944},\n",
       "  {'transaction-id': 5484, 'amount': 2881},\n",
       "  {'transaction-id': 5855, 'amount': 3123},\n",
       "  {'transaction-id': 6325, 'amount': 2946},\n",
       "  {'transaction-id': 6367, 'amount': 2963},\n",
       "  {'transaction-id': 7533, 'amount': 2869},\n",
       "  {'transaction-id': 7832, 'amount': 2698},\n",
       "  {'transaction-id': 7863, 'amount': 2924},\n",
       "  {'transaction-id': 8105, 'amount': 3126},\n",
       "  {'transaction-id': 8212, 'amount': 2968},\n",
       "  {'transaction-id': 8247, 'amount': 2793},\n",
       "  {'transaction-id': 8831, 'amount': 3193},\n",
       "  {'transaction-id': 9583, 'amount': 3081}],\n",
       " [{'transaction-id': 59, 'amount': 36},\n",
       "  {'transaction-id': 684, 'amount': 49},\n",
       "  {'transaction-id': 730, 'amount': 37},\n",
       "  {'transaction-id': 2532, 'amount': 38},\n",
       "  {'transaction-id': 4193, 'amount': 43},\n",
       "  {'transaction-id': 6156, 'amount': 45},\n",
       "  {'transaction-id': 6870, 'amount': 40},\n",
       "  {'transaction-id': 7041, 'amount': 45},\n",
       "  {'transaction-id': 7491, 'amount': 35},\n",
       "  {'transaction-id': 8564, 'amount': 39},\n",
       "  {'transaction-id': 9874, 'amount': 31}])"
      ]
     },
     "execution_count": 15,
     "metadata": {},
     "output_type": "execute_result"
    }
   ],
   "source": [
    "(js.filter(lambda record: record['name'] == 'Alice')\n",
    "   .pluck('transactions')\n",
    "   .take(3))"
   ]
  },
  {
   "cell_type": "code",
   "execution_count": 16,
   "metadata": {
    "execution": {
     "iopub.execute_input": "2021-07-20T15:06:35.742277Z",
     "iopub.status.busy": "2021-07-20T15:06:35.740221Z",
     "iopub.status.idle": "2021-07-20T15:06:35.758618Z",
     "shell.execute_reply": "2021-07-20T15:06:35.759672Z"
    }
   },
   "outputs": [
    {
     "data": {
      "text/plain": [
       "({'transaction-id': 1035, 'amount': 749},\n",
       " {'transaction-id': 2797, 'amount': 726},\n",
       " {'transaction-id': 2945, 'amount': 780})"
      ]
     },
     "execution_count": 16,
     "metadata": {},
     "output_type": "execute_result"
    }
   ],
   "source": [
    "(js.filter(lambda record: record['name'] == 'Alice')\n",
    "   .pluck('transactions')\n",
    "   .flatten()\n",
    "   .take(3))"
   ]
  },
  {
   "cell_type": "code",
   "execution_count": 17,
   "metadata": {
    "execution": {
     "iopub.execute_input": "2021-07-20T15:06:35.766498Z",
     "iopub.status.busy": "2021-07-20T15:06:35.765938Z",
     "iopub.status.idle": "2021-07-20T15:06:35.782612Z",
     "shell.execute_reply": "2021-07-20T15:06:35.783112Z"
    }
   },
   "outputs": [
    {
     "data": {
      "text/plain": [
       "(749, 726, 780)"
      ]
     },
     "execution_count": 17,
     "metadata": {},
     "output_type": "execute_result"
    }
   ],
   "source": [
    "(js.filter(lambda record: record['name'] == 'Alice')\n",
    "   .pluck('transactions')\n",
    "   .flatten()\n",
    "   .pluck('amount')\n",
    "   .take(3))"
   ]
  },
  {
   "cell_type": "code",
   "execution_count": 18,
   "metadata": {
    "execution": {
     "iopub.execute_input": "2021-07-20T15:06:35.802049Z",
     "iopub.status.busy": "2021-07-20T15:06:35.797608Z",
     "iopub.status.idle": "2021-07-20T15:06:36.274541Z",
     "shell.execute_reply": "2021-07-20T15:06:36.275291Z"
    }
   },
   "outputs": [
    {
     "data": {
      "text/plain": [
       "814.8780806572069"
      ]
     },
     "execution_count": 18,
     "metadata": {},
     "output_type": "execute_result"
    }
   ],
   "source": [
    "(js.filter(lambda record: record['name'] == 'Alice')\n",
    "   .pluck('transactions')\n",
    "   .flatten()\n",
    "   .pluck('amount')\n",
    "   .mean()\n",
    "   .compute())"
   ]
  },
  {
   "cell_type": "markdown",
   "metadata": {},
   "source": [
    "### Groupby and Foldby"
   ]
  },
  {
   "cell_type": "markdown",
   "metadata": {},
   "source": [
    "Often we want to group data by some function or key.  We can do this either with the `.groupby` method, which is straightforward but forces a full shuffle of the data (expensive) or with the harder-to-use but faster `.foldby` method, which does a streaming combined groupby and reduction.\n",
    "\n",
    "*  `groupby`:  Shuffles data so that all items with the same key are in the same key-value pair\n",
    "*  `foldby`:  Walks through the data accumulating a result per key\n",
    "\n",
    "*Note: the full groupby is particularly bad. In actual workloads you would do well to use `foldby` or switch to `DataFrame`s if possible.*"
   ]
  },
  {
   "cell_type": "markdown",
   "metadata": {},
   "source": [
    "### `groupby`"
   ]
  },
  {
   "cell_type": "markdown",
   "metadata": {},
   "source": [
    "Groupby collects items in your collection so that all items with the same value under some function are collected together into a key-value pair."
   ]
  },
  {
   "cell_type": "code",
   "execution_count": 19,
   "metadata": {
    "execution": {
     "iopub.execute_input": "2021-07-20T15:06:36.287794Z",
     "iopub.status.busy": "2021-07-20T15:06:36.285664Z",
     "iopub.status.idle": "2021-07-20T15:06:36.388530Z",
     "shell.execute_reply": "2021-07-20T15:06:36.387686Z"
    }
   },
   "outputs": [
    {
     "data": {
      "text/plain": [
       "[(7, ['Charlie']), (3, ['Bob', 'Dan']), (5, ['Alice', 'Edith', 'Frank'])]"
      ]
     },
     "execution_count": 19,
     "metadata": {},
     "output_type": "execute_result"
    }
   ],
   "source": [
    "b = db.from_sequence(['Alice', 'Bob', 'Charlie', 'Dan', 'Edith', 'Frank'])\n",
    "b.groupby(len).compute()  # names grouped by length"
   ]
  },
  {
   "cell_type": "code",
   "execution_count": 20,
   "metadata": {
    "execution": {
     "iopub.execute_input": "2021-07-20T15:06:36.404077Z",
     "iopub.status.busy": "2021-07-20T15:06:36.400538Z",
     "iopub.status.idle": "2021-07-20T15:06:36.589947Z",
     "shell.execute_reply": "2021-07-20T15:06:36.589265Z"
    }
   },
   "outputs": [
    {
     "data": {
      "text/plain": [
       "[(0, [0, 2, 4, 6, 8]), (1, [1, 3, 5, 7, 9])]"
      ]
     },
     "execution_count": 20,
     "metadata": {},
     "output_type": "execute_result"
    }
   ],
   "source": [
    "b = db.from_sequence(list(range(10)))\n",
    "b.groupby(lambda x: x % 2).compute()"
   ]
  },
  {
   "cell_type": "code",
   "execution_count": 21,
   "metadata": {
    "execution": {
     "iopub.execute_input": "2021-07-20T15:06:36.608495Z",
     "iopub.status.busy": "2021-07-20T15:06:36.607889Z",
     "iopub.status.idle": "2021-07-20T15:06:36.799817Z",
     "shell.execute_reply": "2021-07-20T15:06:36.800684Z"
    }
   },
   "outputs": [
    {
     "data": {
      "text/plain": [
       "[(0, 8), (1, 9)]"
      ]
     },
     "execution_count": 21,
     "metadata": {},
     "output_type": "execute_result"
    }
   ],
   "source": [
    "b.groupby(lambda x: x % 2).starmap(lambda k, v: (k, max(v))).compute()"
   ]
  },
  {
   "cell_type": "markdown",
   "metadata": {},
   "source": [
    "### `foldby`"
   ]
  },
  {
   "cell_type": "markdown",
   "metadata": {},
   "source": [
    "Foldby can be quite odd at first.  It is similar to the following functions from other libraries:\n",
    "\n",
    "*  [`toolz.reduceby`](http://toolz.readthedocs.io/en/latest/streaming-analytics.html#streaming-split-apply-combine)\n",
    "*  [`pyspark.RDD.combineByKey`](http://abshinn.github.io/python/apache-spark/2014/10/11/using-combinebykey-in-apache-spark/)\n",
    "\n",
    "When using `foldby` you provide \n",
    "\n",
    "1.  A key function on which to group elements\n",
    "2.  A binary operator such as you would pass to `reduce` that you use to perform reduction per each group\n",
    "3.  A combine binary operator that can combine the results of two `reduce` calls on different parts of your dataset.\n",
    "\n",
    "Your reduction must be associative.  It will happen in parallel in each of the partitions of your dataset.  Then all of these intermediate results will be combined by the `combine` binary operator."
   ]
  },
  {
   "cell_type": "code",
   "execution_count": 22,
   "metadata": {
    "execution": {
     "iopub.execute_input": "2021-07-20T15:06:36.807783Z",
     "iopub.status.busy": "2021-07-20T15:06:36.804303Z",
     "iopub.status.idle": "2021-07-20T15:06:36.872966Z",
     "shell.execute_reply": "2021-07-20T15:06:36.872279Z"
    }
   },
   "outputs": [
    {
     "data": {
      "text/plain": [
       "[(0, 8), (1, 9)]"
      ]
     },
     "execution_count": 22,
     "metadata": {},
     "output_type": "execute_result"
    }
   ],
   "source": [
    "b.foldby(lambda x: x % 2, binop=max, combine=max).compute()"
   ]
  },
  {
   "cell_type": "markdown",
   "metadata": {},
   "source": [
    "### Example with account data"
   ]
  },
  {
   "cell_type": "markdown",
   "metadata": {},
   "source": [
    "We find the number of people with the same name."
   ]
  },
  {
   "cell_type": "code",
   "execution_count": 23,
   "metadata": {
    "execution": {
     "iopub.execute_input": "2021-07-20T15:06:36.888422Z",
     "iopub.status.busy": "2021-07-20T15:06:36.876424Z",
     "iopub.status.idle": "2021-07-20T15:06:44.193367Z",
     "shell.execute_reply": "2021-07-20T15:06:44.194190Z"
    }
   },
   "outputs": [
    {
     "name": "stdout",
     "output_type": "stream",
     "text": [
      "[('Alice', 72), ('Alice', 72), ('Alice', 78), ('Alice', 78), ('Bob', 122), ('Bob', 123), ('Bob', 131), ('Bob', 134), ('Charlie', 107), ('Charlie', 108), ('Charlie', 117), ('Charlie', 117), ('Dan', 126), ('Dan', 132), ('Dan', 137), ('Dan', 140), ('Edith', 133), ('Edith', 135), ('Edith', 147), ('Edith', 148), ('Frank', 204), ('Frank', 204), ('Frank', 221), ('Frank', 221), ('George', 24), ('George', 24), ('George', 26), ('George', 26), ('Hannah', 80), ('Hannah', 82), ('Hannah', 87), ('Hannah', 91), ('Ingrid', 78), ('Ingrid', 80), ('Ingrid', 85), ('Ingrid', 90), ('Jerry', 132), ('Jerry', 132), ('Jerry', 142), ('Jerry', 143), ('Kevin', 70), ('Kevin', 71), ('Kevin', 76), ('Kevin', 77), ('Laura', 126), ('Laura', 127), ('Laura', 138), ('Laura', 139), ('Michael', 105), ('Michael', 107), ('Michael', 115), ('Michael', 116), ('Norbert', 220), ('Norbert', 220), ('Norbert', 236), ('Norbert', 237), ('Oliver', 144), ('Oliver', 144), ('Oliver', 156), ('Oliver', 156), ('Patricia', 72), ('Patricia', 78), ('Patricia', 150), ('Quinn', 119), ('Quinn', 120), ('Quinn', 129), ('Quinn', 130), ('Ray', 84), ('Ray', 84), ('Ray', 91), ('Ray', 91), ('Sarah', 132), ('Sarah', 132), ('Sarah', 143), ('Sarah', 143), ('Tim', 107), ('Tim', 107), ('Tim', 115), ('Tim', 117), ('Ursula', 115), ('Ursula', 118), ('Ursula', 125), ('Ursula', 126), ('Victor', 106), ('Victor', 107), ('Victor', 115), ('Victor', 117), ('Wendy', 95), ('Wendy', 96), ('Wendy', 104), ('Wendy', 104), ('Xavier', 105), ('Xavier', 108), ('Xavier', 115), ('Xavier', 116), ('Yvonne', 105), ('Yvonne', 106), ('Yvonne', 110), ('Yvonne', 111), ('Zelda', 132), ('Zelda', 132), ('Zelda', 143), ('Zelda', 143)]\n",
      "CPU times: user 1.48 s, sys: 75 ms, total: 1.56 s\n",
      "Wall time: 7.31 s\n"
     ]
    }
   ],
   "source": [
    "%%time\n",
    "# Warning, this one takes a while...\n",
    "result = js.groupby(lambda item: item['name']).starmap(lambda k, v: (k, len(v))).compute()\n",
    "print(sorted(result))"
   ]
  },
  {
   "cell_type": "code",
   "execution_count": 24,
   "metadata": {
    "execution": {
     "iopub.execute_input": "2021-07-20T15:06:44.213322Z",
     "iopub.status.busy": "2021-07-20T15:06:44.212802Z",
     "iopub.status.idle": "2021-07-20T15:06:44.746104Z",
     "shell.execute_reply": "2021-07-20T15:06:44.745631Z"
    }
   },
   "outputs": [
    {
     "name": "stdout",
     "output_type": "stream",
     "text": [
      "[('Alice', 300), ('Bob', 510), ('Charlie', 449), ('Dan', 535), ('Edith', 563), ('Frank', 850), ('George', 100), ('Hannah', 340), ('Ingrid', 333), ('Jerry', 549), ('Kevin', 294), ('Laura', 530), ('Michael', 443), ('Norbert', 913), ('Oliver', 600), ('Patricia', 300), ('Quinn', 498), ('Ray', 350), ('Sarah', 550), ('Tim', 446), ('Ursula', 484), ('Victor', 445), ('Wendy', 399), ('Xavier', 444), ('Yvonne', 432), ('Zelda', 550)]\n",
      "CPU times: user 134 ms, sys: 19.5 ms, total: 153 ms\n",
      "Wall time: 534 ms\n"
     ]
    }
   ],
   "source": [
    "%%time\n",
    "# This one is comparatively fast and produces the same result.\n",
    "from operator import add\n",
    "def incr(tot, _):\n",
    "    return tot + 1\n",
    "\n",
    "result = js.foldby(key='name', \n",
    "                   binop=incr, \n",
    "                   initial=0, \n",
    "                   combine=add, \n",
    "                   combine_initial=0).compute()\n",
    "print(sorted(result))"
   ]
  },
  {
   "cell_type": "markdown",
   "metadata": {},
   "source": [
    "### Exercise: compute total amount per name"
   ]
  },
  {
   "cell_type": "markdown",
   "metadata": {},
   "source": [
    "We want to groupby (or foldby) the `name` key, then add up the all of the amounts for each name.\n",
    "\n",
    "Steps\n",
    "\n",
    "1.  Create a small function that, given a dictionary like \n",
    "\n",
    "        {'name': 'Alice', 'transactions': [{'amount': 1, 'id': 123}, {'amount': 2, 'id': 456}]}\n",
    "        \n",
    "    produces the sum of the amounts, e.g. `3`\n",
    "    \n",
    "2.  Slightly change the binary operator of the `foldby` example above so that the binary operator doesn't count the number of entries, but instead accumulates the sum of the amounts."
   ]
  },
  {
   "cell_type": "code",
   "execution_count": 25,
   "metadata": {
    "execution": {
     "iopub.execute_input": "2021-07-20T15:06:44.750910Z",
     "iopub.status.busy": "2021-07-20T15:06:44.749900Z",
     "iopub.status.idle": "2021-07-20T15:06:44.753736Z",
     "shell.execute_reply": "2021-07-20T15:06:44.753298Z"
    }
   },
   "outputs": [],
   "source": [
    "# Your code here..."
   ]
  },
  {
   "cell_type": "markdown",
   "metadata": {},
   "source": [
    "## DataFrames"
   ]
  },
  {
   "cell_type": "markdown",
   "metadata": {},
   "source": [
    "For the same reasons that Pandas is often faster than pure Python, `dask.dataframe` can be faster than `dask.bag`.  We will work more with DataFrames later, but from the point of view of a Bag, it is frequently the end-point of the \"messy\" part of data ingestion—once the data can be made into a data-frame, then complex split-apply-combine logic will become much more straight-forward and efficient.\n",
    "\n",
    "You can transform a bag with a simple tuple or flat dictionary structure into a `dask.dataframe` with the `to_dataframe` method."
   ]
  },
  {
   "cell_type": "code",
   "execution_count": 26,
   "metadata": {
    "execution": {
     "iopub.execute_input": "2021-07-20T15:06:44.758068Z",
     "iopub.status.busy": "2021-07-20T15:06:44.757521Z",
     "iopub.status.idle": "2021-07-20T15:06:45.570743Z",
     "shell.execute_reply": "2021-07-20T15:06:45.570290Z"
    }
   },
   "outputs": [
    {
     "data": {
      "text/html": [
       "<div>\n",
       "<style scoped>\n",
       "    .dataframe tbody tr th:only-of-type {\n",
       "        vertical-align: middle;\n",
       "    }\n",
       "\n",
       "    .dataframe tbody tr th {\n",
       "        vertical-align: top;\n",
       "    }\n",
       "\n",
       "    .dataframe thead th {\n",
       "        text-align: right;\n",
       "    }\n",
       "</style>\n",
       "<table border=\"1\" class=\"dataframe\">\n",
       "  <thead>\n",
       "    <tr style=\"text-align: right;\">\n",
       "      <th></th>\n",
       "      <th>id</th>\n",
       "      <th>name</th>\n",
       "      <th>transactions</th>\n",
       "    </tr>\n",
       "  </thead>\n",
       "  <tbody>\n",
       "    <tr>\n",
       "      <th>0</th>\n",
       "      <td>0</td>\n",
       "      <td>Ingrid</td>\n",
       "      <td>[{'transaction-id': 41, 'amount': -248}, {'tra...</td>\n",
       "    </tr>\n",
       "    <tr>\n",
       "      <th>1</th>\n",
       "      <td>1</td>\n",
       "      <td>Dan</td>\n",
       "      <td>[{'transaction-id': 140, 'amount': 11236}, {'t...</td>\n",
       "    </tr>\n",
       "    <tr>\n",
       "      <th>2</th>\n",
       "      <td>2</td>\n",
       "      <td>Laura</td>\n",
       "      <td>[{'transaction-id': 484, 'amount': -1620}, {'t...</td>\n",
       "    </tr>\n",
       "    <tr>\n",
       "      <th>3</th>\n",
       "      <td>3</td>\n",
       "      <td>Frank</td>\n",
       "      <td>[{'transaction-id': 45, 'amount': 539}, {'tran...</td>\n",
       "    </tr>\n",
       "    <tr>\n",
       "      <th>4</th>\n",
       "      <td>4</td>\n",
       "      <td>Quinn</td>\n",
       "      <td>[{'transaction-id': 11, 'amount': 76}, {'trans...</td>\n",
       "    </tr>\n",
       "  </tbody>\n",
       "</table>\n",
       "</div>"
      ],
      "text/plain": [
       "   id    name                                       transactions\n",
       "0   0  Ingrid  [{'transaction-id': 41, 'amount': -248}, {'tra...\n",
       "1   1     Dan  [{'transaction-id': 140, 'amount': 11236}, {'t...\n",
       "2   2   Laura  [{'transaction-id': 484, 'amount': -1620}, {'t...\n",
       "3   3   Frank  [{'transaction-id': 45, 'amount': 539}, {'tran...\n",
       "4   4   Quinn  [{'transaction-id': 11, 'amount': 76}, {'trans..."
      ]
     },
     "execution_count": 26,
     "metadata": {},
     "output_type": "execute_result"
    }
   ],
   "source": [
    "df1 = js.to_dataframe()\n",
    "df1.head()"
   ]
  },
  {
   "cell_type": "markdown",
   "metadata": {},
   "source": [
    "This now looks like a well-defined DataFrame, and we can apply Pandas-like computations to it efficiently."
   ]
  },
  {
   "cell_type": "markdown",
   "metadata": {},
   "source": [
    "Using a Dask DataFrame, how long does it take to do our prior computation of numbers of people with the same name?  It turns out that `dask.dataframe.groupby()` beats `dask.bag.groupby()` by more than an order of magnitude; but it still cannot match `dask.bag.foldby()` for this case."
   ]
  },
  {
   "cell_type": "code",
   "execution_count": 27,
   "metadata": {
    "execution": {
     "iopub.execute_input": "2021-07-20T15:06:45.592812Z",
     "iopub.status.busy": "2021-07-20T15:06:45.573341Z",
     "iopub.status.idle": "2021-07-20T15:06:47.211574Z",
     "shell.execute_reply": "2021-07-20T15:06:47.211086Z"
    }
   },
   "outputs": [
    {
     "name": "stdout",
     "output_type": "stream",
     "text": [
      "CPU times: user 220 ms, sys: 6.56 ms, total: 226 ms\n",
      "Wall time: 1.62 s\n"
     ]
    },
    {
     "data": {
      "text/plain": [
       "name\n",
       "Alice      300\n",
       "Bob        510\n",
       "Charlie    449\n",
       "Dan        535\n",
       "Edith      563\n",
       "Name: id, dtype: int64"
      ]
     },
     "execution_count": 27,
     "metadata": {},
     "output_type": "execute_result"
    }
   ],
   "source": [
    "%time df1.groupby('name').id.count().compute().head()"
   ]
  },
  {
   "cell_type": "markdown",
   "metadata": {},
   "source": [
    "### Denormalization"
   ]
  },
  {
   "cell_type": "markdown",
   "metadata": {},
   "source": [
    "This DataFrame format is less-than-optimal because the `transactions` column is filled with nested data so Pandas has to revert to `object` dtype, which is quite slow in Pandas.  Ideally we want to transform to a dataframe only after we have flattened our data so that each record is a single `int`, `string`, `float`, etc.."
   ]
  },
  {
   "cell_type": "code",
   "execution_count": 28,
   "metadata": {
    "execution": {
     "iopub.execute_input": "2021-07-20T15:06:47.220939Z",
     "iopub.status.busy": "2021-07-20T15:06:47.216854Z",
     "iopub.status.idle": "2021-07-20T15:06:47.236990Z",
     "shell.execute_reply": "2021-07-20T15:06:47.237744Z"
    }
   },
   "outputs": [
    {
     "data": {
      "text/plain": [
       "({'id': 0, 'name': 'Ingrid', 'amount': -248, 'transaction-id': 41},\n",
       " {'id': 0, 'name': 'Ingrid', 'amount': -192, 'transaction-id': 91},\n",
       " {'id': 0, 'name': 'Ingrid', 'amount': -213, 'transaction-id': 156})"
      ]
     },
     "execution_count": 28,
     "metadata": {},
     "output_type": "execute_result"
    }
   ],
   "source": [
    "def denormalize(record):\n",
    "    # returns a list for each person, one item per transaction\n",
    "    return [{'id': record['id'], \n",
    "             'name': record['name'], \n",
    "             'amount': transaction['amount'], \n",
    "             'transaction-id': transaction['transaction-id']}\n",
    "            for transaction in record['transactions']]\n",
    "\n",
    "transactions = js.map(denormalize).flatten()\n",
    "transactions.take(3)"
   ]
  },
  {
   "cell_type": "code",
   "execution_count": 29,
   "metadata": {
    "execution": {
     "iopub.execute_input": "2021-07-20T15:06:47.242011Z",
     "iopub.status.busy": "2021-07-20T15:06:47.240941Z",
     "iopub.status.idle": "2021-07-20T15:06:47.332621Z",
     "shell.execute_reply": "2021-07-20T15:06:47.331801Z"
    }
   },
   "outputs": [
    {
     "data": {
      "text/html": [
       "<div>\n",
       "<style scoped>\n",
       "    .dataframe tbody tr th:only-of-type {\n",
       "        vertical-align: middle;\n",
       "    }\n",
       "\n",
       "    .dataframe tbody tr th {\n",
       "        vertical-align: top;\n",
       "    }\n",
       "\n",
       "    .dataframe thead th {\n",
       "        text-align: right;\n",
       "    }\n",
       "</style>\n",
       "<table border=\"1\" class=\"dataframe\">\n",
       "  <thead>\n",
       "    <tr style=\"text-align: right;\">\n",
       "      <th></th>\n",
       "      <th>id</th>\n",
       "      <th>name</th>\n",
       "      <th>amount</th>\n",
       "      <th>transaction-id</th>\n",
       "    </tr>\n",
       "  </thead>\n",
       "  <tbody>\n",
       "    <tr>\n",
       "      <th>0</th>\n",
       "      <td>0</td>\n",
       "      <td>Ingrid</td>\n",
       "      <td>-248</td>\n",
       "      <td>41</td>\n",
       "    </tr>\n",
       "    <tr>\n",
       "      <th>1</th>\n",
       "      <td>0</td>\n",
       "      <td>Ingrid</td>\n",
       "      <td>-192</td>\n",
       "      <td>91</td>\n",
       "    </tr>\n",
       "    <tr>\n",
       "      <th>2</th>\n",
       "      <td>0</td>\n",
       "      <td>Ingrid</td>\n",
       "      <td>-213</td>\n",
       "      <td>156</td>\n",
       "    </tr>\n",
       "    <tr>\n",
       "      <th>3</th>\n",
       "      <td>0</td>\n",
       "      <td>Ingrid</td>\n",
       "      <td>-10</td>\n",
       "      <td>209</td>\n",
       "    </tr>\n",
       "    <tr>\n",
       "      <th>4</th>\n",
       "      <td>0</td>\n",
       "      <td>Ingrid</td>\n",
       "      <td>-162</td>\n",
       "      <td>215</td>\n",
       "    </tr>\n",
       "  </tbody>\n",
       "</table>\n",
       "</div>"
      ],
      "text/plain": [
       "   id    name  amount  transaction-id\n",
       "0   0  Ingrid    -248              41\n",
       "1   0  Ingrid    -192              91\n",
       "2   0  Ingrid    -213             156\n",
       "3   0  Ingrid     -10             209\n",
       "4   0  Ingrid    -162             215"
      ]
     },
     "execution_count": 29,
     "metadata": {},
     "output_type": "execute_result"
    }
   ],
   "source": [
    "df = transactions.to_dataframe()\n",
    "df.head()"
   ]
  },
  {
   "cell_type": "code",
   "execution_count": 30,
   "metadata": {
    "execution": {
     "iopub.execute_input": "2021-07-20T15:06:47.350903Z",
     "iopub.status.busy": "2021-07-20T15:06:47.350393Z",
     "iopub.status.idle": "2021-07-20T15:06:48.499722Z",
     "shell.execute_reply": "2021-07-20T15:06:48.499236Z"
    }
   },
   "outputs": [
    {
     "name": "stdout",
     "output_type": "stream",
     "text": [
      "CPU times: user 182 ms, sys: 18 ms, total: 200 ms\n",
      "Wall time: 1.15 s\n"
     ]
    },
    {
     "data": {
      "text/plain": [
       "name\n",
       "Alice        5356\n",
       "Bob         22941\n",
       "Charlie     15892\n",
       "Dan         24139\n",
       "Edith       20209\n",
       "Frank       49660\n",
       "George       1377\n",
       "Hannah       9977\n",
       "Ingrid      25868\n",
       "Jerry       25664\n",
       "Kevin       12550\n",
       "Laura       33106\n",
       "Michael     19168\n",
       "Norbert     28744\n",
       "Oliver      23612\n",
       "Patricia    16151\n",
       "Quinn       15902\n",
       "Ray         16535\n",
       "Sarah       21983\n",
       "Tim         21316\n",
       "Ursula      25008\n",
       "Victor       8427\n",
       "Wendy       13973\n",
       "Xavier      16214\n",
       "Yvonne       7904\n",
       "Zelda       18324\n",
       "Name: transaction-id, dtype: int64"
      ]
     },
     "execution_count": 30,
     "metadata": {},
     "output_type": "execute_result"
    }
   ],
   "source": [
    "%%time\n",
    "# number of transactions per name\n",
    "# note that the time here includes the data load and ingestion\n",
    "df.groupby('name')['transaction-id'].count().compute()"
   ]
  },
  {
   "cell_type": "markdown",
   "metadata": {},
   "source": [
    "## Limitations"
   ]
  },
  {
   "cell_type": "markdown",
   "metadata": {},
   "source": [
    "Bags provide very general computation (any Python function.)  This generality\n",
    "comes at cost.  Bags have the following known limitations\n",
    "\n",
    "1.  Bag operations tend to be slower than array/dataframe computations in the\n",
    "    same way that Python tends to be slower than NumPy/Pandas\n",
    "2.  ``Bag.groupby`` is slow.  You should try to use ``Bag.foldby`` if possible.\n",
    "    Using ``Bag.foldby`` requires more thought. Even better, consider creating\n",
    "    a normalised dataframe."
   ]
  },
  {
   "cell_type": "markdown",
   "metadata": {},
   "source": [
    "## Learn More\n",
    "\n",
    "* [Bag documentation](https://docs.dask.org/en/latest/bag.html)\n",
    "* [Bag screencast](https://youtu.be/-qIiJ1XtSv0)\n",
    "* [Bag API](https://docs.dask.org/en/latest/bag-api.html)\n",
    "* [Bag examples](https://examples.dask.org/bag.html)"
   ]
  },
  {
   "cell_type": "markdown",
   "metadata": {},
   "source": [
    "## Shutdown"
   ]
  },
  {
   "cell_type": "code",
   "execution_count": 31,
   "metadata": {
    "execution": {
     "iopub.execute_input": "2021-07-20T15:06:48.504304Z",
     "iopub.status.busy": "2021-07-20T15:06:48.503588Z",
     "iopub.status.idle": "2021-07-20T15:06:49.981199Z",
     "shell.execute_reply": "2021-07-20T15:06:49.980657Z"
    }
   },
   "outputs": [],
   "source": [
    "client.shutdown()"
   ]
  }
 ],
 "metadata": {
  "anaconda-cloud": {},
  "kernelspec": {
   "display_name": "Python 3",
   "language": "python",
   "name": "python3"
  },
  "language_info": {
   "codemirror_mode": {
    "name": "ipython",
    "version": 3
   },
   "file_extension": ".py",
   "mimetype": "text/x-python",
   "name": "python",
   "nbconvert_exporter": "python",
   "pygments_lexer": "ipython3",
   "version": "3.8.10"
  }
 },
 "nbformat": 4,
 "nbformat_minor": 4
}
