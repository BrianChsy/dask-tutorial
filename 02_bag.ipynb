{
 "cells": [
  {
   "cell_type": "markdown",
   "metadata": {},
   "source": [
    "<img src=\"images/dask_horizontal.svg\" align=\"right\" width=\"30%\">"
   ]
  },
  {
   "cell_type": "markdown",
   "metadata": {},
   "source": [
    "# Bag: Parallel Lists for semi-structured data"
   ]
  },
  {
   "cell_type": "markdown",
   "metadata": {},
   "source": [
    "Dask-bag excels in processing data that can be represented as a sequence of arbitrary inputs. We'll refer to this as \"messy\" data, because it can contain complex nested structures, missing fields, mixtures of data types, etc. The *functional* programming style fits very nicely with standard Python iteration, such as can be found in the `itertools` module.\n",
    "\n",
    "Messy data is often encountered at the beginning of data processing pipelines when large volumes of raw data are first consumed. The initial set of data might be JSON, CSV, XML, or any other format that does not enforce strict structure and datatypes.\n",
    "For this reason, the initial data massaging and processing is often done with Python `list`s, `dict`s, and `set`s.\n",
    "\n",
    "These core data structures are optimized for general-purpose storage and processing.  Adding streaming computation with iterators/generator expressions or libraries like `itertools` or [`toolz`](https://toolz.readthedocs.io/en/latest/) let us process large volumes in a small space.  If we combine this with parallel processing then we can churn through a fair amount of data.\n",
    "\n",
    "Dask.bag is a high level Dask collection to automate common workloads of this form.  In a nutshell\n",
    "\n",
    "    dask.bag = map, filter, toolz + parallel execution\n",
    "    \n",
    "**Related Documentation**\n",
    "\n",
    "* [Bag documentation](https://docs.dask.org/en/latest/bag.html)\n",
    "* [Bag screencast](https://youtu.be/-qIiJ1XtSv0)\n",
    "* [Bag API](https://docs.dask.org/en/latest/bag-api.html)\n",
    "* [Bag examples](https://examples.dask.org/bag.html)"
   ]
  },
  {
   "cell_type": "markdown",
   "metadata": {},
   "source": [
    "## Create data"
   ]
  },
  {
   "cell_type": "code",
   "execution_count": 1,
   "metadata": {
    "execution": {
     "iopub.execute_input": "2021-10-14T15:57:34.510171Z",
     "iopub.status.busy": "2021-10-14T15:57:34.509764Z",
     "iopub.status.idle": "2021-10-14T15:57:35.098062Z",
     "shell.execute_reply": "2021-10-14T15:57:35.097505Z"
    }
   },
   "outputs": [],
   "source": [
    "%run prep.py -d accounts"
   ]
  },
  {
   "cell_type": "markdown",
   "metadata": {},
   "source": [
    "## Setup"
   ]
  },
  {
   "cell_type": "markdown",
   "metadata": {},
   "source": [
    "Again, we'll use the distributed scheduler. Schedulers will be explained in depth [later](05_distributed.ipynb)."
   ]
  },
  {
   "cell_type": "code",
   "execution_count": 2,
   "metadata": {
    "execution": {
     "iopub.execute_input": "2021-10-14T15:57:35.103307Z",
     "iopub.status.busy": "2021-10-14T15:57:35.101893Z",
     "iopub.status.idle": "2021-10-14T15:57:37.128293Z",
     "shell.execute_reply": "2021-10-14T15:57:37.127862Z"
    }
   },
   "outputs": [],
   "source": [
    "from dask.distributed import Client\n",
    "\n",
    "client = Client(n_workers=4)"
   ]
  },
  {
   "cell_type": "markdown",
   "metadata": {},
   "source": [
    "## Creation"
   ]
  },
  {
   "cell_type": "markdown",
   "metadata": {},
   "source": [
    "You can create a `Bag` from a Python sequence, from files, from data on S3, etc.\n",
    "We demonstrate using `.take()` to show elements of the data. (Doing `.take(1)` results in a tuple with one element)\n",
    "\n",
    "Note that the data are partitioned into blocks, and there are many items per block. In the first example, the two partitions contain five elements each, and in the following two, each file is partitioned into one or more bytes blocks."
   ]
  },
  {
   "cell_type": "code",
   "execution_count": 3,
   "metadata": {
    "execution": {
     "iopub.execute_input": "2021-10-14T15:57:37.135668Z",
     "iopub.status.busy": "2021-10-14T15:57:37.135004Z",
     "iopub.status.idle": "2021-10-14T15:57:37.383137Z",
     "shell.execute_reply": "2021-10-14T15:57:37.382749Z"
    }
   },
   "outputs": [
    {
     "data": {
      "text/plain": [
       "(1, 2, 3)"
      ]
     },
     "execution_count": 3,
     "metadata": {},
     "output_type": "execute_result"
    }
   ],
   "source": [
    "# each element is an integer\n",
    "import dask.bag as db\n",
    "b = db.from_sequence([1, 2, 3, 4, 5, 6, 7, 8, 9, 10], npartitions=2)\n",
    "b.take(3)"
   ]
  },
  {
   "cell_type": "code",
   "execution_count": 4,
   "metadata": {
    "execution": {
     "iopub.execute_input": "2021-10-14T15:57:37.386899Z",
     "iopub.status.busy": "2021-10-14T15:57:37.385180Z",
     "iopub.status.idle": "2021-10-14T15:57:37.462432Z",
     "shell.execute_reply": "2021-10-14T15:57:37.462037Z"
    }
   },
   "outputs": [
    {
     "data": {
      "text/plain": [
       "('{\"id\": 0, \"name\": \"Charlie\", \"transactions\": [{\"transaction-id\": 489, \"amount\": 27}, {\"transaction-id\": 555, \"amount\": 29}, {\"transaction-id\": 617, \"amount\": 28}, {\"transaction-id\": 953, \"amount\": 35}, {\"transaction-id\": 1934, \"amount\": 30}, {\"transaction-id\": 2064, \"amount\": 33}, {\"transaction-id\": 2188, \"amount\": 29}, {\"transaction-id\": 2274, \"amount\": 28}, {\"transaction-id\": 2279, \"amount\": 29}, {\"transaction-id\": 2403, \"amount\": 27}, {\"transaction-id\": 2405, \"amount\": 32}, {\"transaction-id\": 2414, \"amount\": 34}, {\"transaction-id\": 2464, \"amount\": 31}, {\"transaction-id\": 2466, \"amount\": 29}, {\"transaction-id\": 2572, \"amount\": 31}, {\"transaction-id\": 2701, \"amount\": 30}, {\"transaction-id\": 2898, \"amount\": 33}, {\"transaction-id\": 3010, \"amount\": 31}, {\"transaction-id\": 3199, \"amount\": 29}, {\"transaction-id\": 3290, \"amount\": 32}, {\"transaction-id\": 3398, \"amount\": 30}, {\"transaction-id\": 3590, \"amount\": 29}, {\"transaction-id\": 3603, \"amount\": 35}, {\"transaction-id\": 3687, \"amount\": 29}, {\"transaction-id\": 3792, \"amount\": 30}, {\"transaction-id\": 3893, \"amount\": 29}, {\"transaction-id\": 4018, \"amount\": 32}, {\"transaction-id\": 4326, \"amount\": 29}, {\"transaction-id\": 4745, \"amount\": 28}, {\"transaction-id\": 5168, \"amount\": 28}, {\"transaction-id\": 5462, \"amount\": 29}, {\"transaction-id\": 5746, \"amount\": 32}, {\"transaction-id\": 5920, \"amount\": 31}, {\"transaction-id\": 6124, \"amount\": 29}, {\"transaction-id\": 6172, \"amount\": 30}, {\"transaction-id\": 6625, \"amount\": 29}, {\"transaction-id\": 6704, \"amount\": 27}, {\"transaction-id\": 6745, \"amount\": 30}, {\"transaction-id\": 6859, \"amount\": 26}, {\"transaction-id\": 6933, \"amount\": 29}, {\"transaction-id\": 7021, \"amount\": 31}, {\"transaction-id\": 7880, \"amount\": 33}, {\"transaction-id\": 8032, \"amount\": 31}, {\"transaction-id\": 8132, \"amount\": 30}, {\"transaction-id\": 8311, \"amount\": 27}, {\"transaction-id\": 8333, \"amount\": 27}, {\"transaction-id\": 8570, \"amount\": 35}, {\"transaction-id\": 9084, \"amount\": 29}, {\"transaction-id\": 9358, \"amount\": 29}, {\"transaction-id\": 9412, \"amount\": 31}, {\"transaction-id\": 9507, \"amount\": 29}, {\"transaction-id\": 9673, \"amount\": 31}, {\"transaction-id\": 9744, \"amount\": 27}]}\\n',)"
      ]
     },
     "execution_count": 4,
     "metadata": {},
     "output_type": "execute_result"
    }
   ],
   "source": [
    "# each element is a text file, where each line is a JSON object\n",
    "# note that the compression is handled automatically\n",
    "import os\n",
    "b = db.read_text(os.path.join('data', 'accounts.*.json.gz'))\n",
    "b.take(1)"
   ]
  },
  {
   "cell_type": "code",
   "execution_count": 5,
   "metadata": {
    "execution": {
     "iopub.execute_input": "2021-10-14T15:57:37.466693Z",
     "iopub.status.busy": "2021-10-14T15:57:37.466228Z",
     "iopub.status.idle": "2021-10-14T15:57:37.468438Z",
     "shell.execute_reply": "2021-10-14T15:57:37.468784Z"
    }
   },
   "outputs": [
    {
     "data": {
      "text/plain": [
       "'s3://dask-data/nyc-taxi/2015/yellow_tripdata_2015-01.csv'"
      ]
     },
     "execution_count": 5,
     "metadata": {},
     "output_type": "execute_result"
    }
   ],
   "source": [
    "# Edit sources.py to configure source locations\n",
    "import sources\n",
    "sources.bag_url"
   ]
  },
  {
   "cell_type": "code",
   "execution_count": 6,
   "metadata": {
    "execution": {
     "iopub.execute_input": "2021-10-14T15:57:37.473195Z",
     "iopub.status.busy": "2021-10-14T15:57:37.472720Z",
     "iopub.status.idle": "2021-10-14T15:57:38.616450Z",
     "shell.execute_reply": "2021-10-14T15:57:38.616054Z"
    }
   },
   "outputs": [
    {
     "data": {
      "text/plain": [
       "('VendorID,tpep_pickup_datetime,tpep_dropoff_datetime,passenger_count,trip_distance,pickup_longitude,pickup_latitude,RateCodeID,store_and_fwd_flag,dropoff_longitude,dropoff_latitude,payment_type,fare_amount,extra,mta_tax,tip_amount,tolls_amount,improvement_surcharge,total_amount\\n',)"
      ]
     },
     "execution_count": 6,
     "metadata": {},
     "output_type": "execute_result"
    }
   ],
   "source": [
    "# Requires `s3fs` library\n",
    "# each partition is a remote CSV text file\n",
    "b = db.read_text(sources.bag_url,\n",
    "                 storage_options={'anon': True})\n",
    "b.take(1)"
   ]
  },
  {
   "cell_type": "markdown",
   "metadata": {},
   "source": [
    "## Manipulation"
   ]
  },
  {
   "cell_type": "markdown",
   "metadata": {},
   "source": [
    "`Bag` objects hold the standard functional API found in projects like the Python standard library, `toolz`, or `pyspark`, including `map`, `filter`, `groupby`, etc..\n",
    "\n",
    "Operations on `Bag` objects create new bags.  Call the `.compute()` method to trigger execution, as we saw for `Delayed` objects.  "
   ]
  },
  {
   "cell_type": "code",
   "execution_count": 7,
   "metadata": {
    "execution": {
     "iopub.execute_input": "2021-10-14T15:57:38.622768Z",
     "iopub.status.busy": "2021-10-14T15:57:38.618840Z",
     "iopub.status.idle": "2021-10-14T15:57:38.628017Z",
     "shell.execute_reply": "2021-10-14T15:57:38.627575Z"
    }
   },
   "outputs": [
    {
     "data": {
      "text/plain": [
       "dask.bag<lambda, npartitions=10>"
      ]
     },
     "execution_count": 7,
     "metadata": {},
     "output_type": "execute_result"
    }
   ],
   "source": [
    "def is_even(n):\n",
    "    return n % 2 == 0\n",
    "\n",
    "b = db.from_sequence([1, 2, 3, 4, 5, 6, 7, 8, 9, 10])\n",
    "c = b.filter(is_even).map(lambda x: x ** 2)\n",
    "c"
   ]
  },
  {
   "cell_type": "code",
   "execution_count": 8,
   "metadata": {
    "execution": {
     "iopub.execute_input": "2021-10-14T15:57:38.639884Z",
     "iopub.status.busy": "2021-10-14T15:57:38.638997Z",
     "iopub.status.idle": "2021-10-14T15:57:38.734123Z",
     "shell.execute_reply": "2021-10-14T15:57:38.733683Z"
    }
   },
   "outputs": [
    {
     "data": {
      "text/plain": [
       "[4, 16, 36, 64, 100]"
      ]
     },
     "execution_count": 8,
     "metadata": {},
     "output_type": "execute_result"
    }
   ],
   "source": [
    "# blocking form: wait for completion (which is very fast in this case)\n",
    "c.compute()"
   ]
  },
  {
   "cell_type": "markdown",
   "metadata": {},
   "source": [
    "### Example: Accounts JSON data"
   ]
  },
  {
   "cell_type": "markdown",
   "metadata": {},
   "source": [
    "We've created a fake dataset of gzipped JSON data in your data directory.  This is like the example used in the `DataFrame` example we will see later, except that it has bundled up all of the entries for each individual `id` into a single record.  This is similar to data that you might collect off of a document store database or a web API.\n",
    "\n",
    "Each line is a JSON encoded dictionary with the following keys\n",
    "\n",
    "*  id: Unique identifier of the customer\n",
    "*  name: Name of the customer\n",
    "*  transactions: List of `transaction-id`, `amount` pairs, one for each transaction for the customer in that file"
   ]
  },
  {
   "cell_type": "code",
   "execution_count": 9,
   "metadata": {
    "execution": {
     "iopub.execute_input": "2021-10-14T15:57:38.739748Z",
     "iopub.status.busy": "2021-10-14T15:57:38.739157Z",
     "iopub.status.idle": "2021-10-14T15:57:38.777219Z",
     "shell.execute_reply": "2021-10-14T15:57:38.776782Z"
    }
   },
   "outputs": [
    {
     "data": {
      "text/plain": [
       "('{\"id\": 0, \"name\": \"Charlie\", \"transactions\": [{\"transaction-id\": 489, \"amount\": 27}, {\"transaction-id\": 555, \"amount\": 29}, {\"transaction-id\": 617, \"amount\": 28}, {\"transaction-id\": 953, \"amount\": 35}, {\"transaction-id\": 1934, \"amount\": 30}, {\"transaction-id\": 2064, \"amount\": 33}, {\"transaction-id\": 2188, \"amount\": 29}, {\"transaction-id\": 2274, \"amount\": 28}, {\"transaction-id\": 2279, \"amount\": 29}, {\"transaction-id\": 2403, \"amount\": 27}, {\"transaction-id\": 2405, \"amount\": 32}, {\"transaction-id\": 2414, \"amount\": 34}, {\"transaction-id\": 2464, \"amount\": 31}, {\"transaction-id\": 2466, \"amount\": 29}, {\"transaction-id\": 2572, \"amount\": 31}, {\"transaction-id\": 2701, \"amount\": 30}, {\"transaction-id\": 2898, \"amount\": 33}, {\"transaction-id\": 3010, \"amount\": 31}, {\"transaction-id\": 3199, \"amount\": 29}, {\"transaction-id\": 3290, \"amount\": 32}, {\"transaction-id\": 3398, \"amount\": 30}, {\"transaction-id\": 3590, \"amount\": 29}, {\"transaction-id\": 3603, \"amount\": 35}, {\"transaction-id\": 3687, \"amount\": 29}, {\"transaction-id\": 3792, \"amount\": 30}, {\"transaction-id\": 3893, \"amount\": 29}, {\"transaction-id\": 4018, \"amount\": 32}, {\"transaction-id\": 4326, \"amount\": 29}, {\"transaction-id\": 4745, \"amount\": 28}, {\"transaction-id\": 5168, \"amount\": 28}, {\"transaction-id\": 5462, \"amount\": 29}, {\"transaction-id\": 5746, \"amount\": 32}, {\"transaction-id\": 5920, \"amount\": 31}, {\"transaction-id\": 6124, \"amount\": 29}, {\"transaction-id\": 6172, \"amount\": 30}, {\"transaction-id\": 6625, \"amount\": 29}, {\"transaction-id\": 6704, \"amount\": 27}, {\"transaction-id\": 6745, \"amount\": 30}, {\"transaction-id\": 6859, \"amount\": 26}, {\"transaction-id\": 6933, \"amount\": 29}, {\"transaction-id\": 7021, \"amount\": 31}, {\"transaction-id\": 7880, \"amount\": 33}, {\"transaction-id\": 8032, \"amount\": 31}, {\"transaction-id\": 8132, \"amount\": 30}, {\"transaction-id\": 8311, \"amount\": 27}, {\"transaction-id\": 8333, \"amount\": 27}, {\"transaction-id\": 8570, \"amount\": 35}, {\"transaction-id\": 9084, \"amount\": 29}, {\"transaction-id\": 9358, \"amount\": 29}, {\"transaction-id\": 9412, \"amount\": 31}, {\"transaction-id\": 9507, \"amount\": 29}, {\"transaction-id\": 9673, \"amount\": 31}, {\"transaction-id\": 9744, \"amount\": 27}]}\\n',\n",
       " '{\"id\": 1, \"name\": \"Ray\", \"transactions\": [{\"transaction-id\": 37, \"amount\": 1458}, {\"transaction-id\": 66, \"amount\": 1582}, {\"transaction-id\": 108, \"amount\": 1750}, {\"transaction-id\": 134, \"amount\": 1660}, {\"transaction-id\": 193, \"amount\": 1663}, {\"transaction-id\": 344, \"amount\": 1470}, {\"transaction-id\": 581, \"amount\": 1598}, {\"transaction-id\": 688, \"amount\": 1622}, {\"transaction-id\": 815, \"amount\": 1593}, {\"transaction-id\": 868, \"amount\": 1426}, {\"transaction-id\": 918, \"amount\": 1580}, {\"transaction-id\": 957, \"amount\": 1623}, {\"transaction-id\": 1140, \"amount\": 1495}, {\"transaction-id\": 1279, \"amount\": 1519}, {\"transaction-id\": 1347, \"amount\": 1472}, {\"transaction-id\": 1405, \"amount\": 1458}, {\"transaction-id\": 1553, \"amount\": 1571}, {\"transaction-id\": 1725, \"amount\": 1494}, {\"transaction-id\": 1726, \"amount\": 1550}, {\"transaction-id\": 1742, \"amount\": 1457}, {\"transaction-id\": 1791, \"amount\": 1580}, {\"transaction-id\": 1881, \"amount\": 1576}, {\"transaction-id\": 1925, \"amount\": 1589}, {\"transaction-id\": 1927, \"amount\": 1576}, {\"transaction-id\": 2147, \"amount\": 1504}, {\"transaction-id\": 2360, \"amount\": 1415}, {\"transaction-id\": 2465, \"amount\": 1549}, {\"transaction-id\": 2501, \"amount\": 1596}, {\"transaction-id\": 2521, \"amount\": 1461}, {\"transaction-id\": 2544, \"amount\": 1574}, {\"transaction-id\": 2674, \"amount\": 1604}, {\"transaction-id\": 2886, \"amount\": 1626}, {\"transaction-id\": 2983, \"amount\": 1590}, {\"transaction-id\": 2996, \"amount\": 1487}, {\"transaction-id\": 3002, \"amount\": 1627}, {\"transaction-id\": 3026, \"amount\": 1649}, {\"transaction-id\": 3067, \"amount\": 1318}, {\"transaction-id\": 3120, \"amount\": 1577}, {\"transaction-id\": 3339, \"amount\": 1566}, {\"transaction-id\": 3416, \"amount\": 1510}, {\"transaction-id\": 3422, \"amount\": 1368}, {\"transaction-id\": 3844, \"amount\": 1579}, {\"transaction-id\": 3978, \"amount\": 1455}, {\"transaction-id\": 4152, \"amount\": 1498}, {\"transaction-id\": 4174, \"amount\": 1507}, {\"transaction-id\": 4219, \"amount\": 1581}, {\"transaction-id\": 4371, \"amount\": 1513}, {\"transaction-id\": 4535, \"amount\": 1524}, {\"transaction-id\": 4643, \"amount\": 1543}, {\"transaction-id\": 4904, \"amount\": 1432}, {\"transaction-id\": 5019, \"amount\": 1498}, {\"transaction-id\": 5049, \"amount\": 1408}, {\"transaction-id\": 5122, \"amount\": 1464}, {\"transaction-id\": 5188, \"amount\": 1467}, {\"transaction-id\": 5199, \"amount\": 1473}, {\"transaction-id\": 5208, \"amount\": 1516}, {\"transaction-id\": 5253, \"amount\": 1431}, {\"transaction-id\": 5350, \"amount\": 1529}, {\"transaction-id\": 5476, \"amount\": 1425}, {\"transaction-id\": 5633, \"amount\": 1678}, {\"transaction-id\": 5757, \"amount\": 1626}, {\"transaction-id\": 5777, \"amount\": 1566}, {\"transaction-id\": 5788, \"amount\": 1499}, {\"transaction-id\": 5797, \"amount\": 1566}, {\"transaction-id\": 5799, \"amount\": 1634}, {\"transaction-id\": 5825, \"amount\": 1439}, {\"transaction-id\": 5926, \"amount\": 1571}, {\"transaction-id\": 6030, \"amount\": 1514}, {\"transaction-id\": 6188, \"amount\": 1691}, {\"transaction-id\": 6241, \"amount\": 1586}, {\"transaction-id\": 6261, \"amount\": 1531}, {\"transaction-id\": 6326, \"amount\": 1454}, {\"transaction-id\": 6390, \"amount\": 1514}, {\"transaction-id\": 6519, \"amount\": 1669}, {\"transaction-id\": 6713, \"amount\": 1440}, {\"transaction-id\": 6761, \"amount\": 1531}, {\"transaction-id\": 6921, \"amount\": 1507}, {\"transaction-id\": 6963, \"amount\": 1595}, {\"transaction-id\": 6999, \"amount\": 1563}, {\"transaction-id\": 7085, \"amount\": 1446}, {\"transaction-id\": 7184, \"amount\": 1594}, {\"transaction-id\": 7239, \"amount\": 1564}, {\"transaction-id\": 7256, \"amount\": 1529}, {\"transaction-id\": 7341, \"amount\": 1412}, {\"transaction-id\": 7465, \"amount\": 1479}, {\"transaction-id\": 7487, \"amount\": 1616}, {\"transaction-id\": 7691, \"amount\": 1404}, {\"transaction-id\": 7883, \"amount\": 1497}, {\"transaction-id\": 7889, \"amount\": 1400}, {\"transaction-id\": 8075, \"amount\": 1583}, {\"transaction-id\": 8157, \"amount\": 1444}, {\"transaction-id\": 8180, \"amount\": 1505}, {\"transaction-id\": 8199, \"amount\": 1479}, {\"transaction-id\": 8270, \"amount\": 1418}, {\"transaction-id\": 8281, \"amount\": 1679}, {\"transaction-id\": 8432, \"amount\": 1418}, {\"transaction-id\": 8483, \"amount\": 1528}, {\"transaction-id\": 8489, \"amount\": 1559}, {\"transaction-id\": 8625, \"amount\": 1602}, {\"transaction-id\": 8862, \"amount\": 1536}, {\"transaction-id\": 8880, \"amount\": 1370}, {\"transaction-id\": 9220, \"amount\": 1432}, {\"transaction-id\": 9345, \"amount\": 1565}, {\"transaction-id\": 9346, \"amount\": 1508}, {\"transaction-id\": 9381, \"amount\": 1450}, {\"transaction-id\": 9392, \"amount\": 1530}, {\"transaction-id\": 9492, \"amount\": 1635}, {\"transaction-id\": 9508, \"amount\": 1588}, {\"transaction-id\": 9572, \"amount\": 1478}, {\"transaction-id\": 9720, \"amount\": 1384}, {\"transaction-id\": 9741, \"amount\": 1598}, {\"transaction-id\": 9963, \"amount\": 1546}]}\\n',\n",
       " '{\"id\": 2, \"name\": \"Patricia\", \"transactions\": [{\"transaction-id\": 5, \"amount\": 49}, {\"transaction-id\": 63, \"amount\": 53}, {\"transaction-id\": 93, \"amount\": 51}, {\"transaction-id\": 122, \"amount\": 66}, {\"transaction-id\": 287, \"amount\": 56}, {\"transaction-id\": 356, \"amount\": 53}, {\"transaction-id\": 371, \"amount\": 47}, {\"transaction-id\": 447, \"amount\": 62}, {\"transaction-id\": 511, \"amount\": 46}, {\"transaction-id\": 547, \"amount\": 51}, {\"transaction-id\": 602, \"amount\": 55}, {\"transaction-id\": 662, \"amount\": 53}, {\"transaction-id\": 917, \"amount\": 53}, {\"transaction-id\": 920, \"amount\": 54}, {\"transaction-id\": 1259, \"amount\": 53}, {\"transaction-id\": 1331, \"amount\": 57}, {\"transaction-id\": 1340, \"amount\": 56}, {\"transaction-id\": 1369, \"amount\": 62}, {\"transaction-id\": 1473, \"amount\": 56}, {\"transaction-id\": 1488, \"amount\": 50}, {\"transaction-id\": 1656, \"amount\": 58}, {\"transaction-id\": 1886, \"amount\": 60}, {\"transaction-id\": 1961, \"amount\": 48}, {\"transaction-id\": 1978, \"amount\": 51}, {\"transaction-id\": 2104, \"amount\": 58}, {\"transaction-id\": 2320, \"amount\": 49}, {\"transaction-id\": 2344, \"amount\": 49}, {\"transaction-id\": 2442, \"amount\": 53}, {\"transaction-id\": 2444, \"amount\": 54}, {\"transaction-id\": 2583, \"amount\": 52}, {\"transaction-id\": 2621, \"amount\": 55}, {\"transaction-id\": 2639, \"amount\": 55}, {\"transaction-id\": 2648, \"amount\": 48}, {\"transaction-id\": 2719, \"amount\": 54}, {\"transaction-id\": 2804, \"amount\": 53}, {\"transaction-id\": 2830, \"amount\": 57}, {\"transaction-id\": 2833, \"amount\": 54}, {\"transaction-id\": 2913, \"amount\": 52}, {\"transaction-id\": 2916, \"amount\": 63}, {\"transaction-id\": 2962, \"amount\": 65}, {\"transaction-id\": 3161, \"amount\": 56}, {\"transaction-id\": 3178, \"amount\": 57}, {\"transaction-id\": 3263, \"amount\": 48}, {\"transaction-id\": 3316, \"amount\": 58}, {\"transaction-id\": 3417, \"amount\": 55}, {\"transaction-id\": 3522, \"amount\": 60}, {\"transaction-id\": 3654, \"amount\": 52}, {\"transaction-id\": 3723, \"amount\": 56}, {\"transaction-id\": 3955, \"amount\": 45}, {\"transaction-id\": 3985, \"amount\": 52}, {\"transaction-id\": 3998, \"amount\": 48}, {\"transaction-id\": 4325, \"amount\": 58}, {\"transaction-id\": 4441, \"amount\": 41}, {\"transaction-id\": 4494, \"amount\": 57}, {\"transaction-id\": 4760, \"amount\": 46}, {\"transaction-id\": 4862, \"amount\": 51}, {\"transaction-id\": 4984, \"amount\": 66}, {\"transaction-id\": 4993, \"amount\": 44}, {\"transaction-id\": 5057, \"amount\": 46}, {\"transaction-id\": 5068, \"amount\": 53}, {\"transaction-id\": 5123, \"amount\": 53}, {\"transaction-id\": 5144, \"amount\": 64}, {\"transaction-id\": 5367, \"amount\": 53}, {\"transaction-id\": 5433, \"amount\": 49}, {\"transaction-id\": 5460, \"amount\": 52}, {\"transaction-id\": 5554, \"amount\": 51}, {\"transaction-id\": 5692, \"amount\": 52}, {\"transaction-id\": 5719, \"amount\": 62}, {\"transaction-id\": 6025, \"amount\": 55}, {\"transaction-id\": 6098, \"amount\": 60}, {\"transaction-id\": 6101, \"amount\": 48}, {\"transaction-id\": 6118, \"amount\": 48}, {\"transaction-id\": 6146, \"amount\": 49}, {\"transaction-id\": 6197, \"amount\": 49}, {\"transaction-id\": 6212, \"amount\": 53}, {\"transaction-id\": 6218, \"amount\": 49}, {\"transaction-id\": 6220, \"amount\": 55}, {\"transaction-id\": 6259, \"amount\": 46}, {\"transaction-id\": 6262, \"amount\": 55}, {\"transaction-id\": 6321, \"amount\": 53}, {\"transaction-id\": 6328, \"amount\": 45}, {\"transaction-id\": 6334, \"amount\": 43}, {\"transaction-id\": 6573, \"amount\": 53}, {\"transaction-id\": 6607, \"amount\": 57}, {\"transaction-id\": 6700, \"amount\": 54}, {\"transaction-id\": 6813, \"amount\": 44}, {\"transaction-id\": 6847, \"amount\": 49}, {\"transaction-id\": 6876, \"amount\": 58}, {\"transaction-id\": 6975, \"amount\": 55}, {\"transaction-id\": 6996, \"amount\": 52}, {\"transaction-id\": 7016, \"amount\": 64}, {\"transaction-id\": 7086, \"amount\": 42}, {\"transaction-id\": 7109, \"amount\": 58}, {\"transaction-id\": 7229, \"amount\": 52}, {\"transaction-id\": 7233, \"amount\": 52}, {\"transaction-id\": 7394, \"amount\": 51}, {\"transaction-id\": 7430, \"amount\": 49}, {\"transaction-id\": 7444, \"amount\": 53}, {\"transaction-id\": 7514, \"amount\": 44}, {\"transaction-id\": 7537, \"amount\": 52}, {\"transaction-id\": 7607, \"amount\": 50}, {\"transaction-id\": 7785, \"amount\": 59}, {\"transaction-id\": 7845, \"amount\": 56}, {\"transaction-id\": 7858, \"amount\": 54}, {\"transaction-id\": 7870, \"amount\": 58}, {\"transaction-id\": 7896, \"amount\": 62}, {\"transaction-id\": 7922, \"amount\": 52}, {\"transaction-id\": 7959, \"amount\": 55}, {\"transaction-id\": 8102, \"amount\": 56}, {\"transaction-id\": 8203, \"amount\": 54}, {\"transaction-id\": 8230, \"amount\": 54}, {\"transaction-id\": 8234, \"amount\": 61}, {\"transaction-id\": 8555, \"amount\": 47}, {\"transaction-id\": 8600, \"amount\": 53}, {\"transaction-id\": 8651, \"amount\": 59}, {\"transaction-id\": 8723, \"amount\": 51}, {\"transaction-id\": 8736, \"amount\": 58}, {\"transaction-id\": 8740, \"amount\": 56}, {\"transaction-id\": 8852, \"amount\": 53}, {\"transaction-id\": 9022, \"amount\": 52}, {\"transaction-id\": 9024, \"amount\": 52}, {\"transaction-id\": 9115, \"amount\": 59}, {\"transaction-id\": 9213, \"amount\": 58}, {\"transaction-id\": 9312, \"amount\": 54}, {\"transaction-id\": 9355, \"amount\": 51}, {\"transaction-id\": 9365, \"amount\": 57}, {\"transaction-id\": 9391, \"amount\": 50}, {\"transaction-id\": 9569, \"amount\": 56}, {\"transaction-id\": 9684, \"amount\": 59}, {\"transaction-id\": 9721, \"amount\": 46}, {\"transaction-id\": 9992, \"amount\": 59}]}\\n')"
      ]
     },
     "execution_count": 9,
     "metadata": {},
     "output_type": "execute_result"
    }
   ],
   "source": [
    "filename = os.path.join('data', 'accounts.*.json.gz')\n",
    "lines = db.read_text(filename)\n",
    "lines.take(3)"
   ]
  },
  {
   "cell_type": "markdown",
   "metadata": {},
   "source": [
    "Our data comes out of the file as lines of text. Notice that file decompression happened automatically. We can make this data look more reasonable by mapping the `json.loads` function onto our bag."
   ]
  },
  {
   "cell_type": "code",
   "execution_count": 10,
   "metadata": {
    "execution": {
     "iopub.execute_input": "2021-10-14T15:57:38.780584Z",
     "iopub.status.busy": "2021-10-14T15:57:38.780112Z",
     "iopub.status.idle": "2021-10-14T15:57:38.823286Z",
     "shell.execute_reply": "2021-10-14T15:57:38.824155Z"
    }
   },
   "outputs": [
    {
     "data": {
      "text/plain": [
       "({'id': 0,\n",
       "  'name': 'Charlie',\n",
       "  'transactions': [{'transaction-id': 489, 'amount': 27},\n",
       "   {'transaction-id': 555, 'amount': 29},\n",
       "   {'transaction-id': 617, 'amount': 28},\n",
       "   {'transaction-id': 953, 'amount': 35},\n",
       "   {'transaction-id': 1934, 'amount': 30},\n",
       "   {'transaction-id': 2064, 'amount': 33},\n",
       "   {'transaction-id': 2188, 'amount': 29},\n",
       "   {'transaction-id': 2274, 'amount': 28},\n",
       "   {'transaction-id': 2279, 'amount': 29},\n",
       "   {'transaction-id': 2403, 'amount': 27},\n",
       "   {'transaction-id': 2405, 'amount': 32},\n",
       "   {'transaction-id': 2414, 'amount': 34},\n",
       "   {'transaction-id': 2464, 'amount': 31},\n",
       "   {'transaction-id': 2466, 'amount': 29},\n",
       "   {'transaction-id': 2572, 'amount': 31},\n",
       "   {'transaction-id': 2701, 'amount': 30},\n",
       "   {'transaction-id': 2898, 'amount': 33},\n",
       "   {'transaction-id': 3010, 'amount': 31},\n",
       "   {'transaction-id': 3199, 'amount': 29},\n",
       "   {'transaction-id': 3290, 'amount': 32},\n",
       "   {'transaction-id': 3398, 'amount': 30},\n",
       "   {'transaction-id': 3590, 'amount': 29},\n",
       "   {'transaction-id': 3603, 'amount': 35},\n",
       "   {'transaction-id': 3687, 'amount': 29},\n",
       "   {'transaction-id': 3792, 'amount': 30},\n",
       "   {'transaction-id': 3893, 'amount': 29},\n",
       "   {'transaction-id': 4018, 'amount': 32},\n",
       "   {'transaction-id': 4326, 'amount': 29},\n",
       "   {'transaction-id': 4745, 'amount': 28},\n",
       "   {'transaction-id': 5168, 'amount': 28},\n",
       "   {'transaction-id': 5462, 'amount': 29},\n",
       "   {'transaction-id': 5746, 'amount': 32},\n",
       "   {'transaction-id': 5920, 'amount': 31},\n",
       "   {'transaction-id': 6124, 'amount': 29},\n",
       "   {'transaction-id': 6172, 'amount': 30},\n",
       "   {'transaction-id': 6625, 'amount': 29},\n",
       "   {'transaction-id': 6704, 'amount': 27},\n",
       "   {'transaction-id': 6745, 'amount': 30},\n",
       "   {'transaction-id': 6859, 'amount': 26},\n",
       "   {'transaction-id': 6933, 'amount': 29},\n",
       "   {'transaction-id': 7021, 'amount': 31},\n",
       "   {'transaction-id': 7880, 'amount': 33},\n",
       "   {'transaction-id': 8032, 'amount': 31},\n",
       "   {'transaction-id': 8132, 'amount': 30},\n",
       "   {'transaction-id': 8311, 'amount': 27},\n",
       "   {'transaction-id': 8333, 'amount': 27},\n",
       "   {'transaction-id': 8570, 'amount': 35},\n",
       "   {'transaction-id': 9084, 'amount': 29},\n",
       "   {'transaction-id': 9358, 'amount': 29},\n",
       "   {'transaction-id': 9412, 'amount': 31},\n",
       "   {'transaction-id': 9507, 'amount': 29},\n",
       "   {'transaction-id': 9673, 'amount': 31},\n",
       "   {'transaction-id': 9744, 'amount': 27}]},\n",
       " {'id': 1,\n",
       "  'name': 'Ray',\n",
       "  'transactions': [{'transaction-id': 37, 'amount': 1458},\n",
       "   {'transaction-id': 66, 'amount': 1582},\n",
       "   {'transaction-id': 108, 'amount': 1750},\n",
       "   {'transaction-id': 134, 'amount': 1660},\n",
       "   {'transaction-id': 193, 'amount': 1663},\n",
       "   {'transaction-id': 344, 'amount': 1470},\n",
       "   {'transaction-id': 581, 'amount': 1598},\n",
       "   {'transaction-id': 688, 'amount': 1622},\n",
       "   {'transaction-id': 815, 'amount': 1593},\n",
       "   {'transaction-id': 868, 'amount': 1426},\n",
       "   {'transaction-id': 918, 'amount': 1580},\n",
       "   {'transaction-id': 957, 'amount': 1623},\n",
       "   {'transaction-id': 1140, 'amount': 1495},\n",
       "   {'transaction-id': 1279, 'amount': 1519},\n",
       "   {'transaction-id': 1347, 'amount': 1472},\n",
       "   {'transaction-id': 1405, 'amount': 1458},\n",
       "   {'transaction-id': 1553, 'amount': 1571},\n",
       "   {'transaction-id': 1725, 'amount': 1494},\n",
       "   {'transaction-id': 1726, 'amount': 1550},\n",
       "   {'transaction-id': 1742, 'amount': 1457},\n",
       "   {'transaction-id': 1791, 'amount': 1580},\n",
       "   {'transaction-id': 1881, 'amount': 1576},\n",
       "   {'transaction-id': 1925, 'amount': 1589},\n",
       "   {'transaction-id': 1927, 'amount': 1576},\n",
       "   {'transaction-id': 2147, 'amount': 1504},\n",
       "   {'transaction-id': 2360, 'amount': 1415},\n",
       "   {'transaction-id': 2465, 'amount': 1549},\n",
       "   {'transaction-id': 2501, 'amount': 1596},\n",
       "   {'transaction-id': 2521, 'amount': 1461},\n",
       "   {'transaction-id': 2544, 'amount': 1574},\n",
       "   {'transaction-id': 2674, 'amount': 1604},\n",
       "   {'transaction-id': 2886, 'amount': 1626},\n",
       "   {'transaction-id': 2983, 'amount': 1590},\n",
       "   {'transaction-id': 2996, 'amount': 1487},\n",
       "   {'transaction-id': 3002, 'amount': 1627},\n",
       "   {'transaction-id': 3026, 'amount': 1649},\n",
       "   {'transaction-id': 3067, 'amount': 1318},\n",
       "   {'transaction-id': 3120, 'amount': 1577},\n",
       "   {'transaction-id': 3339, 'amount': 1566},\n",
       "   {'transaction-id': 3416, 'amount': 1510},\n",
       "   {'transaction-id': 3422, 'amount': 1368},\n",
       "   {'transaction-id': 3844, 'amount': 1579},\n",
       "   {'transaction-id': 3978, 'amount': 1455},\n",
       "   {'transaction-id': 4152, 'amount': 1498},\n",
       "   {'transaction-id': 4174, 'amount': 1507},\n",
       "   {'transaction-id': 4219, 'amount': 1581},\n",
       "   {'transaction-id': 4371, 'amount': 1513},\n",
       "   {'transaction-id': 4535, 'amount': 1524},\n",
       "   {'transaction-id': 4643, 'amount': 1543},\n",
       "   {'transaction-id': 4904, 'amount': 1432},\n",
       "   {'transaction-id': 5019, 'amount': 1498},\n",
       "   {'transaction-id': 5049, 'amount': 1408},\n",
       "   {'transaction-id': 5122, 'amount': 1464},\n",
       "   {'transaction-id': 5188, 'amount': 1467},\n",
       "   {'transaction-id': 5199, 'amount': 1473},\n",
       "   {'transaction-id': 5208, 'amount': 1516},\n",
       "   {'transaction-id': 5253, 'amount': 1431},\n",
       "   {'transaction-id': 5350, 'amount': 1529},\n",
       "   {'transaction-id': 5476, 'amount': 1425},\n",
       "   {'transaction-id': 5633, 'amount': 1678},\n",
       "   {'transaction-id': 5757, 'amount': 1626},\n",
       "   {'transaction-id': 5777, 'amount': 1566},\n",
       "   {'transaction-id': 5788, 'amount': 1499},\n",
       "   {'transaction-id': 5797, 'amount': 1566},\n",
       "   {'transaction-id': 5799, 'amount': 1634},\n",
       "   {'transaction-id': 5825, 'amount': 1439},\n",
       "   {'transaction-id': 5926, 'amount': 1571},\n",
       "   {'transaction-id': 6030, 'amount': 1514},\n",
       "   {'transaction-id': 6188, 'amount': 1691},\n",
       "   {'transaction-id': 6241, 'amount': 1586},\n",
       "   {'transaction-id': 6261, 'amount': 1531},\n",
       "   {'transaction-id': 6326, 'amount': 1454},\n",
       "   {'transaction-id': 6390, 'amount': 1514},\n",
       "   {'transaction-id': 6519, 'amount': 1669},\n",
       "   {'transaction-id': 6713, 'amount': 1440},\n",
       "   {'transaction-id': 6761, 'amount': 1531},\n",
       "   {'transaction-id': 6921, 'amount': 1507},\n",
       "   {'transaction-id': 6963, 'amount': 1595},\n",
       "   {'transaction-id': 6999, 'amount': 1563},\n",
       "   {'transaction-id': 7085, 'amount': 1446},\n",
       "   {'transaction-id': 7184, 'amount': 1594},\n",
       "   {'transaction-id': 7239, 'amount': 1564},\n",
       "   {'transaction-id': 7256, 'amount': 1529},\n",
       "   {'transaction-id': 7341, 'amount': 1412},\n",
       "   {'transaction-id': 7465, 'amount': 1479},\n",
       "   {'transaction-id': 7487, 'amount': 1616},\n",
       "   {'transaction-id': 7691, 'amount': 1404},\n",
       "   {'transaction-id': 7883, 'amount': 1497},\n",
       "   {'transaction-id': 7889, 'amount': 1400},\n",
       "   {'transaction-id': 8075, 'amount': 1583},\n",
       "   {'transaction-id': 8157, 'amount': 1444},\n",
       "   {'transaction-id': 8180, 'amount': 1505},\n",
       "   {'transaction-id': 8199, 'amount': 1479},\n",
       "   {'transaction-id': 8270, 'amount': 1418},\n",
       "   {'transaction-id': 8281, 'amount': 1679},\n",
       "   {'transaction-id': 8432, 'amount': 1418},\n",
       "   {'transaction-id': 8483, 'amount': 1528},\n",
       "   {'transaction-id': 8489, 'amount': 1559},\n",
       "   {'transaction-id': 8625, 'amount': 1602},\n",
       "   {'transaction-id': 8862, 'amount': 1536},\n",
       "   {'transaction-id': 8880, 'amount': 1370},\n",
       "   {'transaction-id': 9220, 'amount': 1432},\n",
       "   {'transaction-id': 9345, 'amount': 1565},\n",
       "   {'transaction-id': 9346, 'amount': 1508},\n",
       "   {'transaction-id': 9381, 'amount': 1450},\n",
       "   {'transaction-id': 9392, 'amount': 1530},\n",
       "   {'transaction-id': 9492, 'amount': 1635},\n",
       "   {'transaction-id': 9508, 'amount': 1588},\n",
       "   {'transaction-id': 9572, 'amount': 1478},\n",
       "   {'transaction-id': 9720, 'amount': 1384},\n",
       "   {'transaction-id': 9741, 'amount': 1598},\n",
       "   {'transaction-id': 9963, 'amount': 1546}]},\n",
       " {'id': 2,\n",
       "  'name': 'Patricia',\n",
       "  'transactions': [{'transaction-id': 5, 'amount': 49},\n",
       "   {'transaction-id': 63, 'amount': 53},\n",
       "   {'transaction-id': 93, 'amount': 51},\n",
       "   {'transaction-id': 122, 'amount': 66},\n",
       "   {'transaction-id': 287, 'amount': 56},\n",
       "   {'transaction-id': 356, 'amount': 53},\n",
       "   {'transaction-id': 371, 'amount': 47},\n",
       "   {'transaction-id': 447, 'amount': 62},\n",
       "   {'transaction-id': 511, 'amount': 46},\n",
       "   {'transaction-id': 547, 'amount': 51},\n",
       "   {'transaction-id': 602, 'amount': 55},\n",
       "   {'transaction-id': 662, 'amount': 53},\n",
       "   {'transaction-id': 917, 'amount': 53},\n",
       "   {'transaction-id': 920, 'amount': 54},\n",
       "   {'transaction-id': 1259, 'amount': 53},\n",
       "   {'transaction-id': 1331, 'amount': 57},\n",
       "   {'transaction-id': 1340, 'amount': 56},\n",
       "   {'transaction-id': 1369, 'amount': 62},\n",
       "   {'transaction-id': 1473, 'amount': 56},\n",
       "   {'transaction-id': 1488, 'amount': 50},\n",
       "   {'transaction-id': 1656, 'amount': 58},\n",
       "   {'transaction-id': 1886, 'amount': 60},\n",
       "   {'transaction-id': 1961, 'amount': 48},\n",
       "   {'transaction-id': 1978, 'amount': 51},\n",
       "   {'transaction-id': 2104, 'amount': 58},\n",
       "   {'transaction-id': 2320, 'amount': 49},\n",
       "   {'transaction-id': 2344, 'amount': 49},\n",
       "   {'transaction-id': 2442, 'amount': 53},\n",
       "   {'transaction-id': 2444, 'amount': 54},\n",
       "   {'transaction-id': 2583, 'amount': 52},\n",
       "   {'transaction-id': 2621, 'amount': 55},\n",
       "   {'transaction-id': 2639, 'amount': 55},\n",
       "   {'transaction-id': 2648, 'amount': 48},\n",
       "   {'transaction-id': 2719, 'amount': 54},\n",
       "   {'transaction-id': 2804, 'amount': 53},\n",
       "   {'transaction-id': 2830, 'amount': 57},\n",
       "   {'transaction-id': 2833, 'amount': 54},\n",
       "   {'transaction-id': 2913, 'amount': 52},\n",
       "   {'transaction-id': 2916, 'amount': 63},\n",
       "   {'transaction-id': 2962, 'amount': 65},\n",
       "   {'transaction-id': 3161, 'amount': 56},\n",
       "   {'transaction-id': 3178, 'amount': 57},\n",
       "   {'transaction-id': 3263, 'amount': 48},\n",
       "   {'transaction-id': 3316, 'amount': 58},\n",
       "   {'transaction-id': 3417, 'amount': 55},\n",
       "   {'transaction-id': 3522, 'amount': 60},\n",
       "   {'transaction-id': 3654, 'amount': 52},\n",
       "   {'transaction-id': 3723, 'amount': 56},\n",
       "   {'transaction-id': 3955, 'amount': 45},\n",
       "   {'transaction-id': 3985, 'amount': 52},\n",
       "   {'transaction-id': 3998, 'amount': 48},\n",
       "   {'transaction-id': 4325, 'amount': 58},\n",
       "   {'transaction-id': 4441, 'amount': 41},\n",
       "   {'transaction-id': 4494, 'amount': 57},\n",
       "   {'transaction-id': 4760, 'amount': 46},\n",
       "   {'transaction-id': 4862, 'amount': 51},\n",
       "   {'transaction-id': 4984, 'amount': 66},\n",
       "   {'transaction-id': 4993, 'amount': 44},\n",
       "   {'transaction-id': 5057, 'amount': 46},\n",
       "   {'transaction-id': 5068, 'amount': 53},\n",
       "   {'transaction-id': 5123, 'amount': 53},\n",
       "   {'transaction-id': 5144, 'amount': 64},\n",
       "   {'transaction-id': 5367, 'amount': 53},\n",
       "   {'transaction-id': 5433, 'amount': 49},\n",
       "   {'transaction-id': 5460, 'amount': 52},\n",
       "   {'transaction-id': 5554, 'amount': 51},\n",
       "   {'transaction-id': 5692, 'amount': 52},\n",
       "   {'transaction-id': 5719, 'amount': 62},\n",
       "   {'transaction-id': 6025, 'amount': 55},\n",
       "   {'transaction-id': 6098, 'amount': 60},\n",
       "   {'transaction-id': 6101, 'amount': 48},\n",
       "   {'transaction-id': 6118, 'amount': 48},\n",
       "   {'transaction-id': 6146, 'amount': 49},\n",
       "   {'transaction-id': 6197, 'amount': 49},\n",
       "   {'transaction-id': 6212, 'amount': 53},\n",
       "   {'transaction-id': 6218, 'amount': 49},\n",
       "   {'transaction-id': 6220, 'amount': 55},\n",
       "   {'transaction-id': 6259, 'amount': 46},\n",
       "   {'transaction-id': 6262, 'amount': 55},\n",
       "   {'transaction-id': 6321, 'amount': 53},\n",
       "   {'transaction-id': 6328, 'amount': 45},\n",
       "   {'transaction-id': 6334, 'amount': 43},\n",
       "   {'transaction-id': 6573, 'amount': 53},\n",
       "   {'transaction-id': 6607, 'amount': 57},\n",
       "   {'transaction-id': 6700, 'amount': 54},\n",
       "   {'transaction-id': 6813, 'amount': 44},\n",
       "   {'transaction-id': 6847, 'amount': 49},\n",
       "   {'transaction-id': 6876, 'amount': 58},\n",
       "   {'transaction-id': 6975, 'amount': 55},\n",
       "   {'transaction-id': 6996, 'amount': 52},\n",
       "   {'transaction-id': 7016, 'amount': 64},\n",
       "   {'transaction-id': 7086, 'amount': 42},\n",
       "   {'transaction-id': 7109, 'amount': 58},\n",
       "   {'transaction-id': 7229, 'amount': 52},\n",
       "   {'transaction-id': 7233, 'amount': 52},\n",
       "   {'transaction-id': 7394, 'amount': 51},\n",
       "   {'transaction-id': 7430, 'amount': 49},\n",
       "   {'transaction-id': 7444, 'amount': 53},\n",
       "   {'transaction-id': 7514, 'amount': 44},\n",
       "   {'transaction-id': 7537, 'amount': 52},\n",
       "   {'transaction-id': 7607, 'amount': 50},\n",
       "   {'transaction-id': 7785, 'amount': 59},\n",
       "   {'transaction-id': 7845, 'amount': 56},\n",
       "   {'transaction-id': 7858, 'amount': 54},\n",
       "   {'transaction-id': 7870, 'amount': 58},\n",
       "   {'transaction-id': 7896, 'amount': 62},\n",
       "   {'transaction-id': 7922, 'amount': 52},\n",
       "   {'transaction-id': 7959, 'amount': 55},\n",
       "   {'transaction-id': 8102, 'amount': 56},\n",
       "   {'transaction-id': 8203, 'amount': 54},\n",
       "   {'transaction-id': 8230, 'amount': 54},\n",
       "   {'transaction-id': 8234, 'amount': 61},\n",
       "   {'transaction-id': 8555, 'amount': 47},\n",
       "   {'transaction-id': 8600, 'amount': 53},\n",
       "   {'transaction-id': 8651, 'amount': 59},\n",
       "   {'transaction-id': 8723, 'amount': 51},\n",
       "   {'transaction-id': 8736, 'amount': 58},\n",
       "   {'transaction-id': 8740, 'amount': 56},\n",
       "   {'transaction-id': 8852, 'amount': 53},\n",
       "   {'transaction-id': 9022, 'amount': 52},\n",
       "   {'transaction-id': 9024, 'amount': 52},\n",
       "   {'transaction-id': 9115, 'amount': 59},\n",
       "   {'transaction-id': 9213, 'amount': 58},\n",
       "   {'transaction-id': 9312, 'amount': 54},\n",
       "   {'transaction-id': 9355, 'amount': 51},\n",
       "   {'transaction-id': 9365, 'amount': 57},\n",
       "   {'transaction-id': 9391, 'amount': 50},\n",
       "   {'transaction-id': 9569, 'amount': 56},\n",
       "   {'transaction-id': 9684, 'amount': 59},\n",
       "   {'transaction-id': 9721, 'amount': 46},\n",
       "   {'transaction-id': 9992, 'amount': 59}]})"
      ]
     },
     "execution_count": 10,
     "metadata": {},
     "output_type": "execute_result"
    }
   ],
   "source": [
    "import json\n",
    "js = lines.map(json.loads)\n",
    "# take: inspect first few elements\n",
    "js.take(3)"
   ]
  },
  {
   "cell_type": "markdown",
   "metadata": {},
   "source": [
    "### Basic Queries"
   ]
  },
  {
   "cell_type": "markdown",
   "metadata": {},
   "source": [
    "Once we parse our JSON data into proper Python objects (`dict`s, `list`s, etc.) we can perform more interesting queries by creating small Python functions to run on our data."
   ]
  },
  {
   "cell_type": "code",
   "execution_count": 11,
   "metadata": {
    "execution": {
     "iopub.execute_input": "2021-10-14T15:57:38.829599Z",
     "iopub.status.busy": "2021-10-14T15:57:38.828475Z",
     "iopub.status.idle": "2021-10-14T15:57:38.877067Z",
     "shell.execute_reply": "2021-10-14T15:57:38.877432Z"
    }
   },
   "outputs": [
    {
     "data": {
      "text/plain": [
       "({'id': 113,\n",
       "  'name': 'Alice',\n",
       "  'transactions': [{'transaction-id': 197, 'amount': -265},\n",
       "   {'transaction-id': 524, 'amount': -289},\n",
       "   {'transaction-id': 610, 'amount': -277},\n",
       "   {'transaction-id': 615, 'amount': -283},\n",
       "   {'transaction-id': 820, 'amount': -271},\n",
       "   {'transaction-id': 823, 'amount': -249},\n",
       "   {'transaction-id': 1613, 'amount': -214},\n",
       "   {'transaction-id': 1660, 'amount': -230},\n",
       "   {'transaction-id': 2149, 'amount': -277},\n",
       "   {'transaction-id': 2436, 'amount': -284},\n",
       "   {'transaction-id': 2809, 'amount': -292},\n",
       "   {'transaction-id': 2931, 'amount': -239},\n",
       "   {'transaction-id': 3031, 'amount': -211},\n",
       "   {'transaction-id': 3214, 'amount': -255},\n",
       "   {'transaction-id': 3418, 'amount': -255},\n",
       "   {'transaction-id': 3714, 'amount': -307},\n",
       "   {'transaction-id': 4298, 'amount': -262},\n",
       "   {'transaction-id': 4801, 'amount': -301},\n",
       "   {'transaction-id': 5138, 'amount': -301},\n",
       "   {'transaction-id': 5166, 'amount': -348},\n",
       "   {'transaction-id': 5326, 'amount': -275},\n",
       "   {'transaction-id': 5495, 'amount': -260},\n",
       "   {'transaction-id': 5618, 'amount': -244},\n",
       "   {'transaction-id': 5906, 'amount': -277},\n",
       "   {'transaction-id': 5975, 'amount': -252},\n",
       "   {'transaction-id': 6012, 'amount': -350},\n",
       "   {'transaction-id': 6074, 'amount': -258},\n",
       "   {'transaction-id': 6376, 'amount': -245},\n",
       "   {'transaction-id': 6590, 'amount': -285},\n",
       "   {'transaction-id': 6830, 'amount': -264},\n",
       "   {'transaction-id': 6849, 'amount': -297},\n",
       "   {'transaction-id': 6869, 'amount': -319},\n",
       "   {'transaction-id': 7272, 'amount': -284},\n",
       "   {'transaction-id': 7541, 'amount': -284},\n",
       "   {'transaction-id': 7603, 'amount': -286},\n",
       "   {'transaction-id': 7764, 'amount': -270},\n",
       "   {'transaction-id': 7871, 'amount': -299},\n",
       "   {'transaction-id': 8138, 'amount': -264},\n",
       "   {'transaction-id': 8440, 'amount': -276},\n",
       "   {'transaction-id': 8868, 'amount': -246},\n",
       "   {'transaction-id': 8876, 'amount': -260},\n",
       "   {'transaction-id': 8935, 'amount': -163},\n",
       "   {'transaction-id': 9018, 'amount': -310},\n",
       "   {'transaction-id': 9079, 'amount': -328},\n",
       "   {'transaction-id': 9416, 'amount': -341},\n",
       "   {'transaction-id': 9428, 'amount': -217},\n",
       "   {'transaction-id': 9434, 'amount': -235},\n",
       "   {'transaction-id': 9697, 'amount': -277},\n",
       "   {'transaction-id': 9913, 'amount': -280}]},\n",
       " {'id': 156,\n",
       "  'name': 'Alice',\n",
       "  'transactions': [{'transaction-id': 15, 'amount': 11362},\n",
       "   {'transaction-id': 67, 'amount': 12176},\n",
       "   {'transaction-id': 421, 'amount': 11888},\n",
       "   {'transaction-id': 434, 'amount': 11608},\n",
       "   {'transaction-id': 599, 'amount': 11806},\n",
       "   {'transaction-id': 884, 'amount': 11799},\n",
       "   {'transaction-id': 1099, 'amount': 12025},\n",
       "   {'transaction-id': 1604, 'amount': 11757},\n",
       "   {'transaction-id': 1639, 'amount': 12432},\n",
       "   {'transaction-id': 1898, 'amount': 12552},\n",
       "   {'transaction-id': 2127, 'amount': 11644},\n",
       "   {'transaction-id': 2161, 'amount': 11891},\n",
       "   {'transaction-id': 2307, 'amount': 12082},\n",
       "   {'transaction-id': 2457, 'amount': 12172},\n",
       "   {'transaction-id': 2574, 'amount': 12723},\n",
       "   {'transaction-id': 2575, 'amount': 12074},\n",
       "   {'transaction-id': 2615, 'amount': 11611},\n",
       "   {'transaction-id': 2736, 'amount': 11241},\n",
       "   {'transaction-id': 2791, 'amount': 12052},\n",
       "   {'transaction-id': 2952, 'amount': 12053},\n",
       "   {'transaction-id': 3078, 'amount': 11989},\n",
       "   {'transaction-id': 3088, 'amount': 11987},\n",
       "   {'transaction-id': 3090, 'amount': 12011},\n",
       "   {'transaction-id': 3126, 'amount': 11584},\n",
       "   {'transaction-id': 3183, 'amount': 12327},\n",
       "   {'transaction-id': 3314, 'amount': 12155},\n",
       "   {'transaction-id': 3548, 'amount': 11754},\n",
       "   {'transaction-id': 3594, 'amount': 11644},\n",
       "   {'transaction-id': 3659, 'amount': 11692},\n",
       "   {'transaction-id': 3660, 'amount': 12304},\n",
       "   {'transaction-id': 3776, 'amount': 12547},\n",
       "   {'transaction-id': 4177, 'amount': 11810},\n",
       "   {'transaction-id': 4273, 'amount': 12298},\n",
       "   {'transaction-id': 4303, 'amount': 11725},\n",
       "   {'transaction-id': 4400, 'amount': 12009},\n",
       "   {'transaction-id': 4460, 'amount': 12340},\n",
       "   {'transaction-id': 4525, 'amount': 12336},\n",
       "   {'transaction-id': 4676, 'amount': 11553},\n",
       "   {'transaction-id': 4803, 'amount': 12067},\n",
       "   {'transaction-id': 5308, 'amount': 11934},\n",
       "   {'transaction-id': 5319, 'amount': 12605},\n",
       "   {'transaction-id': 5823, 'amount': 12069},\n",
       "   {'transaction-id': 6400, 'amount': 12588},\n",
       "   {'transaction-id': 6403, 'amount': 12143},\n",
       "   {'transaction-id': 6404, 'amount': 11962},\n",
       "   {'transaction-id': 6494, 'amount': 12542},\n",
       "   {'transaction-id': 6525, 'amount': 12781},\n",
       "   {'transaction-id': 6535, 'amount': 12053},\n",
       "   {'transaction-id': 6568, 'amount': 12162},\n",
       "   {'transaction-id': 6694, 'amount': 12998},\n",
       "   {'transaction-id': 6770, 'amount': 11174},\n",
       "   {'transaction-id': 6785, 'amount': 12058},\n",
       "   {'transaction-id': 6799, 'amount': 12052},\n",
       "   {'transaction-id': 6930, 'amount': 11796},\n",
       "   {'transaction-id': 6978, 'amount': 12488},\n",
       "   {'transaction-id': 7641, 'amount': 12256},\n",
       "   {'transaction-id': 7674, 'amount': 12715},\n",
       "   {'transaction-id': 7822, 'amount': 12210},\n",
       "   {'transaction-id': 7913, 'amount': 11945},\n",
       "   {'transaction-id': 8167, 'amount': 12403},\n",
       "   {'transaction-id': 8235, 'amount': 11587},\n",
       "   {'transaction-id': 8744, 'amount': 11813},\n",
       "   {'transaction-id': 8755, 'amount': 12147},\n",
       "   {'transaction-id': 8783, 'amount': 11529},\n",
       "   {'transaction-id': 8902, 'amount': 11401},\n",
       "   {'transaction-id': 8960, 'amount': 11811},\n",
       "   {'transaction-id': 9063, 'amount': 11690},\n",
       "   {'transaction-id': 9650, 'amount': 11582},\n",
       "   {'transaction-id': 9933, 'amount': 11598}]},\n",
       " {'id': 211,\n",
       "  'name': 'Alice',\n",
       "  'transactions': [{'transaction-id': 8, 'amount': 701},\n",
       "   {'transaction-id': 45, 'amount': 688},\n",
       "   {'transaction-id': 129, 'amount': 728},\n",
       "   {'transaction-id': 476, 'amount': 689},\n",
       "   {'transaction-id': 494, 'amount': 598},\n",
       "   {'transaction-id': 583, 'amount': 643},\n",
       "   {'transaction-id': 775, 'amount': 533},\n",
       "   {'transaction-id': 817, 'amount': 578},\n",
       "   {'transaction-id': 834, 'amount': 622},\n",
       "   {'transaction-id': 877, 'amount': 674},\n",
       "   {'transaction-id': 989, 'amount': 611},\n",
       "   {'transaction-id': 1172, 'amount': 552},\n",
       "   {'transaction-id': 1177, 'amount': 545},\n",
       "   {'transaction-id': 1270, 'amount': 540},\n",
       "   {'transaction-id': 1319, 'amount': 605},\n",
       "   {'transaction-id': 1668, 'amount': 532},\n",
       "   {'transaction-id': 1739, 'amount': 639},\n",
       "   {'transaction-id': 1777, 'amount': 779},\n",
       "   {'transaction-id': 1784, 'amount': 565},\n",
       "   {'transaction-id': 1920, 'amount': 699},\n",
       "   {'transaction-id': 2129, 'amount': 578},\n",
       "   {'transaction-id': 2230, 'amount': 594},\n",
       "   {'transaction-id': 2238, 'amount': 581},\n",
       "   {'transaction-id': 2273, 'amount': 662},\n",
       "   {'transaction-id': 2340, 'amount': 592},\n",
       "   {'transaction-id': 2409, 'amount': 535},\n",
       "   {'transaction-id': 2434, 'amount': 611},\n",
       "   {'transaction-id': 2681, 'amount': 703},\n",
       "   {'transaction-id': 2686, 'amount': 592},\n",
       "   {'transaction-id': 2827, 'amount': 591},\n",
       "   {'transaction-id': 2874, 'amount': 524},\n",
       "   {'transaction-id': 3354, 'amount': 687},\n",
       "   {'transaction-id': 3648, 'amount': 632},\n",
       "   {'transaction-id': 3754, 'amount': 555},\n",
       "   {'transaction-id': 3904, 'amount': 614},\n",
       "   {'transaction-id': 3911, 'amount': 674},\n",
       "   {'transaction-id': 3977, 'amount': 649},\n",
       "   {'transaction-id': 4006, 'amount': 563},\n",
       "   {'transaction-id': 4089, 'amount': 569},\n",
       "   {'transaction-id': 4110, 'amount': 631},\n",
       "   {'transaction-id': 4438, 'amount': 649},\n",
       "   {'transaction-id': 4614, 'amount': 573},\n",
       "   {'transaction-id': 4695, 'amount': 622},\n",
       "   {'transaction-id': 4771, 'amount': 619},\n",
       "   {'transaction-id': 4855, 'amount': 595},\n",
       "   {'transaction-id': 5161, 'amount': 625},\n",
       "   {'transaction-id': 5238, 'amount': 648},\n",
       "   {'transaction-id': 5428, 'amount': 629},\n",
       "   {'transaction-id': 5728, 'amount': 661},\n",
       "   {'transaction-id': 5769, 'amount': 583},\n",
       "   {'transaction-id': 5869, 'amount': 558},\n",
       "   {'transaction-id': 5922, 'amount': 675},\n",
       "   {'transaction-id': 5992, 'amount': 519},\n",
       "   {'transaction-id': 6001, 'amount': 549},\n",
       "   {'transaction-id': 6011, 'amount': 617},\n",
       "   {'transaction-id': 6110, 'amount': 628},\n",
       "   {'transaction-id': 6137, 'amount': 585},\n",
       "   {'transaction-id': 6145, 'amount': 688},\n",
       "   {'transaction-id': 6443, 'amount': 654},\n",
       "   {'transaction-id': 6789, 'amount': 604},\n",
       "   {'transaction-id': 6832, 'amount': 672},\n",
       "   {'transaction-id': 6908, 'amount': 698},\n",
       "   {'transaction-id': 7183, 'amount': 561},\n",
       "   {'transaction-id': 7372, 'amount': 583},\n",
       "   {'transaction-id': 7450, 'amount': 567},\n",
       "   {'transaction-id': 7642, 'amount': 631},\n",
       "   {'transaction-id': 7886, 'amount': 664},\n",
       "   {'transaction-id': 8117, 'amount': 597},\n",
       "   {'transaction-id': 8128, 'amount': 693},\n",
       "   {'transaction-id': 8285, 'amount': 570},\n",
       "   {'transaction-id': 8297, 'amount': 566},\n",
       "   {'transaction-id': 8502, 'amount': 526},\n",
       "   {'transaction-id': 8556, 'amount': 573},\n",
       "   {'transaction-id': 8696, 'amount': 631},\n",
       "   {'transaction-id': 8786, 'amount': 629},\n",
       "   {'transaction-id': 8947, 'amount': 695},\n",
       "   {'transaction-id': 9306, 'amount': 608},\n",
       "   {'transaction-id': 9586, 'amount': 609},\n",
       "   {'transaction-id': 9668, 'amount': 646},\n",
       "   {'transaction-id': 9705, 'amount': 730}]},\n",
       " {'id': 239,\n",
       "  'name': 'Alice',\n",
       "  'transactions': [{'transaction-id': 295, 'amount': 221},\n",
       "   {'transaction-id': 412, 'amount': 236},\n",
       "   {'transaction-id': 424, 'amount': 250},\n",
       "   {'transaction-id': 671, 'amount': 264},\n",
       "   {'transaction-id': 1141, 'amount': 213},\n",
       "   {'transaction-id': 1204, 'amount': 243},\n",
       "   {'transaction-id': 1263, 'amount': 216},\n",
       "   {'transaction-id': 1286, 'amount': 242},\n",
       "   {'transaction-id': 1409, 'amount': 243},\n",
       "   {'transaction-id': 1418, 'amount': 244},\n",
       "   {'transaction-id': 1474, 'amount': 197},\n",
       "   {'transaction-id': 1567, 'amount': 274},\n",
       "   {'transaction-id': 1610, 'amount': 212},\n",
       "   {'transaction-id': 2028, 'amount': 199},\n",
       "   {'transaction-id': 2226, 'amount': 327},\n",
       "   {'transaction-id': 2240, 'amount': 144},\n",
       "   {'transaction-id': 2263, 'amount': 170},\n",
       "   {'transaction-id': 2563, 'amount': 209},\n",
       "   {'transaction-id': 2751, 'amount': 285},\n",
       "   {'transaction-id': 2802, 'amount': 278},\n",
       "   {'transaction-id': 2814, 'amount': 298},\n",
       "   {'transaction-id': 2986, 'amount': 200},\n",
       "   {'transaction-id': 3215, 'amount': 241},\n",
       "   {'transaction-id': 3246, 'amount': 173},\n",
       "   {'transaction-id': 3303, 'amount': 108},\n",
       "   {'transaction-id': 3306, 'amount': 250},\n",
       "   {'transaction-id': 3748, 'amount': 270},\n",
       "   {'transaction-id': 3773, 'amount': 300},\n",
       "   {'transaction-id': 3784, 'amount': 197},\n",
       "   {'transaction-id': 3941, 'amount': 219},\n",
       "   {'transaction-id': 4054, 'amount': 239},\n",
       "   {'transaction-id': 4247, 'amount': 274},\n",
       "   {'transaction-id': 4324, 'amount': 162},\n",
       "   {'transaction-id': 4468, 'amount': 148},\n",
       "   {'transaction-id': 4554, 'amount': 257},\n",
       "   {'transaction-id': 4836, 'amount': 188},\n",
       "   {'transaction-id': 5044, 'amount': 202},\n",
       "   {'transaction-id': 5808, 'amount': 183},\n",
       "   {'transaction-id': 5890, 'amount': 252},\n",
       "   {'transaction-id': 5993, 'amount': 145},\n",
       "   {'transaction-id': 6002, 'amount': 140},\n",
       "   {'transaction-id': 6097, 'amount': 195},\n",
       "   {'transaction-id': 6223, 'amount': 145},\n",
       "   {'transaction-id': 6309, 'amount': 296},\n",
       "   {'transaction-id': 6344, 'amount': 226},\n",
       "   {'transaction-id': 6539, 'amount': 196},\n",
       "   {'transaction-id': 6562, 'amount': 269},\n",
       "   {'transaction-id': 6802, 'amount': 164},\n",
       "   {'transaction-id': 7204, 'amount': 185},\n",
       "   {'transaction-id': 7282, 'amount': 196},\n",
       "   {'transaction-id': 7294, 'amount': 224},\n",
       "   {'transaction-id': 7360, 'amount': 182},\n",
       "   {'transaction-id': 7411, 'amount': 359},\n",
       "   {'transaction-id': 7463, 'amount': 190},\n",
       "   {'transaction-id': 7498, 'amount': 144},\n",
       "   {'transaction-id': 7576, 'amount': 170},\n",
       "   {'transaction-id': 7834, 'amount': 284},\n",
       "   {'transaction-id': 8207, 'amount': 218},\n",
       "   {'transaction-id': 9013, 'amount': 181},\n",
       "   {'transaction-id': 9020, 'amount': 215},\n",
       "   {'transaction-id': 9060, 'amount': 184},\n",
       "   {'transaction-id': 9099, 'amount': 242},\n",
       "   {'transaction-id': 9113, 'amount': 137},\n",
       "   {'transaction-id': 9301, 'amount': 279},\n",
       "   {'transaction-id': 9387, 'amount': 187},\n",
       "   {'transaction-id': 9470, 'amount': 223},\n",
       "   {'transaction-id': 9490, 'amount': 244},\n",
       "   {'transaction-id': 9940, 'amount': 287}]})"
      ]
     },
     "execution_count": 11,
     "metadata": {},
     "output_type": "execute_result"
    }
   ],
   "source": [
    "# filter: keep only some elements of the sequence\n",
    "js.filter(lambda record: record['name'] == 'Alice').take(5)"
   ]
  },
  {
   "cell_type": "code",
   "execution_count": 12,
   "metadata": {
    "execution": {
     "iopub.execute_input": "2021-10-14T15:57:38.883626Z",
     "iopub.status.busy": "2021-10-14T15:57:38.883172Z",
     "iopub.status.idle": "2021-10-14T15:57:38.915247Z",
     "shell.execute_reply": "2021-10-14T15:57:38.915595Z"
    }
   },
   "outputs": [
    {
     "data": {
      "text/plain": [
       "({'name': 'Alice', 'count': 49},\n",
       " {'name': 'Alice', 'count': 69},\n",
       " {'name': 'Alice', 'count': 80},\n",
       " {'name': 'Alice', 'count': 68})"
      ]
     },
     "execution_count": 12,
     "metadata": {},
     "output_type": "execute_result"
    }
   ],
   "source": [
    "def count_transactions(d):\n",
    "    return {'name': d['name'], 'count': len(d['transactions'])}\n",
    "\n",
    "# map: apply a function to each element\n",
    "(js.filter(lambda record: record['name'] == 'Alice')\n",
    "   .map(count_transactions)\n",
    "   .take(5))"
   ]
  },
  {
   "cell_type": "code",
   "execution_count": 13,
   "metadata": {
    "execution": {
     "iopub.execute_input": "2021-10-14T15:57:38.921314Z",
     "iopub.status.busy": "2021-10-14T15:57:38.918256Z",
     "iopub.status.idle": "2021-10-14T15:57:38.951814Z",
     "shell.execute_reply": "2021-10-14T15:57:38.951418Z"
    }
   },
   "outputs": [
    {
     "data": {
      "text/plain": [
       "(49, 69, 80, 68)"
      ]
     },
     "execution_count": 13,
     "metadata": {},
     "output_type": "execute_result"
    }
   ],
   "source": [
    "# pluck: select a field, as from a dictionary, element[field]\n",
    "(js.filter(lambda record: record['name'] == 'Alice')\n",
    "   .map(count_transactions)\n",
    "   .pluck('count')\n",
    "   .take(5))"
   ]
  },
  {
   "cell_type": "code",
   "execution_count": 14,
   "metadata": {
    "execution": {
     "iopub.execute_input": "2021-10-14T15:57:38.962642Z",
     "iopub.status.busy": "2021-10-14T15:57:38.962128Z",
     "iopub.status.idle": "2021-10-14T15:57:39.381716Z",
     "shell.execute_reply": "2021-10-14T15:57:39.381306Z"
    }
   },
   "outputs": [
    {
     "data": {
      "text/plain": [
       "67.4"
      ]
     },
     "execution_count": 14,
     "metadata": {},
     "output_type": "execute_result"
    }
   ],
   "source": [
    "# Average number of transactions for all of the Alice entries\n",
    "(js.filter(lambda record: record['name'] == 'Alice')\n",
    "   .map(count_transactions)\n",
    "   .pluck('count')\n",
    "   .mean()\n",
    "   .compute())"
   ]
  },
  {
   "cell_type": "markdown",
   "metadata": {},
   "source": [
    "### Use `flatten` to de-nest"
   ]
  },
  {
   "cell_type": "markdown",
   "metadata": {},
   "source": [
    "In the example below we see the use of `.flatten()` to flatten results.  We compute the average amount for all transactions for all Alices."
   ]
  },
  {
   "cell_type": "code",
   "execution_count": 15,
   "metadata": {
    "execution": {
     "iopub.execute_input": "2021-10-14T15:57:39.392261Z",
     "iopub.status.busy": "2021-10-14T15:57:39.386856Z",
     "iopub.status.idle": "2021-10-14T15:57:39.428011Z",
     "shell.execute_reply": "2021-10-14T15:57:39.428365Z"
    }
   },
   "outputs": [
    {
     "data": {
      "text/plain": [
       "([{'transaction-id': 197, 'amount': -265},\n",
       "  {'transaction-id': 524, 'amount': -289},\n",
       "  {'transaction-id': 610, 'amount': -277},\n",
       "  {'transaction-id': 615, 'amount': -283},\n",
       "  {'transaction-id': 820, 'amount': -271},\n",
       "  {'transaction-id': 823, 'amount': -249},\n",
       "  {'transaction-id': 1613, 'amount': -214},\n",
       "  {'transaction-id': 1660, 'amount': -230},\n",
       "  {'transaction-id': 2149, 'amount': -277},\n",
       "  {'transaction-id': 2436, 'amount': -284},\n",
       "  {'transaction-id': 2809, 'amount': -292},\n",
       "  {'transaction-id': 2931, 'amount': -239},\n",
       "  {'transaction-id': 3031, 'amount': -211},\n",
       "  {'transaction-id': 3214, 'amount': -255},\n",
       "  {'transaction-id': 3418, 'amount': -255},\n",
       "  {'transaction-id': 3714, 'amount': -307},\n",
       "  {'transaction-id': 4298, 'amount': -262},\n",
       "  {'transaction-id': 4801, 'amount': -301},\n",
       "  {'transaction-id': 5138, 'amount': -301},\n",
       "  {'transaction-id': 5166, 'amount': -348},\n",
       "  {'transaction-id': 5326, 'amount': -275},\n",
       "  {'transaction-id': 5495, 'amount': -260},\n",
       "  {'transaction-id': 5618, 'amount': -244},\n",
       "  {'transaction-id': 5906, 'amount': -277},\n",
       "  {'transaction-id': 5975, 'amount': -252},\n",
       "  {'transaction-id': 6012, 'amount': -350},\n",
       "  {'transaction-id': 6074, 'amount': -258},\n",
       "  {'transaction-id': 6376, 'amount': -245},\n",
       "  {'transaction-id': 6590, 'amount': -285},\n",
       "  {'transaction-id': 6830, 'amount': -264},\n",
       "  {'transaction-id': 6849, 'amount': -297},\n",
       "  {'transaction-id': 6869, 'amount': -319},\n",
       "  {'transaction-id': 7272, 'amount': -284},\n",
       "  {'transaction-id': 7541, 'amount': -284},\n",
       "  {'transaction-id': 7603, 'amount': -286},\n",
       "  {'transaction-id': 7764, 'amount': -270},\n",
       "  {'transaction-id': 7871, 'amount': -299},\n",
       "  {'transaction-id': 8138, 'amount': -264},\n",
       "  {'transaction-id': 8440, 'amount': -276},\n",
       "  {'transaction-id': 8868, 'amount': -246},\n",
       "  {'transaction-id': 8876, 'amount': -260},\n",
       "  {'transaction-id': 8935, 'amount': -163},\n",
       "  {'transaction-id': 9018, 'amount': -310},\n",
       "  {'transaction-id': 9079, 'amount': -328},\n",
       "  {'transaction-id': 9416, 'amount': -341},\n",
       "  {'transaction-id': 9428, 'amount': -217},\n",
       "  {'transaction-id': 9434, 'amount': -235},\n",
       "  {'transaction-id': 9697, 'amount': -277},\n",
       "  {'transaction-id': 9913, 'amount': -280}],\n",
       " [{'transaction-id': 15, 'amount': 11362},\n",
       "  {'transaction-id': 67, 'amount': 12176},\n",
       "  {'transaction-id': 421, 'amount': 11888},\n",
       "  {'transaction-id': 434, 'amount': 11608},\n",
       "  {'transaction-id': 599, 'amount': 11806},\n",
       "  {'transaction-id': 884, 'amount': 11799},\n",
       "  {'transaction-id': 1099, 'amount': 12025},\n",
       "  {'transaction-id': 1604, 'amount': 11757},\n",
       "  {'transaction-id': 1639, 'amount': 12432},\n",
       "  {'transaction-id': 1898, 'amount': 12552},\n",
       "  {'transaction-id': 2127, 'amount': 11644},\n",
       "  {'transaction-id': 2161, 'amount': 11891},\n",
       "  {'transaction-id': 2307, 'amount': 12082},\n",
       "  {'transaction-id': 2457, 'amount': 12172},\n",
       "  {'transaction-id': 2574, 'amount': 12723},\n",
       "  {'transaction-id': 2575, 'amount': 12074},\n",
       "  {'transaction-id': 2615, 'amount': 11611},\n",
       "  {'transaction-id': 2736, 'amount': 11241},\n",
       "  {'transaction-id': 2791, 'amount': 12052},\n",
       "  {'transaction-id': 2952, 'amount': 12053},\n",
       "  {'transaction-id': 3078, 'amount': 11989},\n",
       "  {'transaction-id': 3088, 'amount': 11987},\n",
       "  {'transaction-id': 3090, 'amount': 12011},\n",
       "  {'transaction-id': 3126, 'amount': 11584},\n",
       "  {'transaction-id': 3183, 'amount': 12327},\n",
       "  {'transaction-id': 3314, 'amount': 12155},\n",
       "  {'transaction-id': 3548, 'amount': 11754},\n",
       "  {'transaction-id': 3594, 'amount': 11644},\n",
       "  {'transaction-id': 3659, 'amount': 11692},\n",
       "  {'transaction-id': 3660, 'amount': 12304},\n",
       "  {'transaction-id': 3776, 'amount': 12547},\n",
       "  {'transaction-id': 4177, 'amount': 11810},\n",
       "  {'transaction-id': 4273, 'amount': 12298},\n",
       "  {'transaction-id': 4303, 'amount': 11725},\n",
       "  {'transaction-id': 4400, 'amount': 12009},\n",
       "  {'transaction-id': 4460, 'amount': 12340},\n",
       "  {'transaction-id': 4525, 'amount': 12336},\n",
       "  {'transaction-id': 4676, 'amount': 11553},\n",
       "  {'transaction-id': 4803, 'amount': 12067},\n",
       "  {'transaction-id': 5308, 'amount': 11934},\n",
       "  {'transaction-id': 5319, 'amount': 12605},\n",
       "  {'transaction-id': 5823, 'amount': 12069},\n",
       "  {'transaction-id': 6400, 'amount': 12588},\n",
       "  {'transaction-id': 6403, 'amount': 12143},\n",
       "  {'transaction-id': 6404, 'amount': 11962},\n",
       "  {'transaction-id': 6494, 'amount': 12542},\n",
       "  {'transaction-id': 6525, 'amount': 12781},\n",
       "  {'transaction-id': 6535, 'amount': 12053},\n",
       "  {'transaction-id': 6568, 'amount': 12162},\n",
       "  {'transaction-id': 6694, 'amount': 12998},\n",
       "  {'transaction-id': 6770, 'amount': 11174},\n",
       "  {'transaction-id': 6785, 'amount': 12058},\n",
       "  {'transaction-id': 6799, 'amount': 12052},\n",
       "  {'transaction-id': 6930, 'amount': 11796},\n",
       "  {'transaction-id': 6978, 'amount': 12488},\n",
       "  {'transaction-id': 7641, 'amount': 12256},\n",
       "  {'transaction-id': 7674, 'amount': 12715},\n",
       "  {'transaction-id': 7822, 'amount': 12210},\n",
       "  {'transaction-id': 7913, 'amount': 11945},\n",
       "  {'transaction-id': 8167, 'amount': 12403},\n",
       "  {'transaction-id': 8235, 'amount': 11587},\n",
       "  {'transaction-id': 8744, 'amount': 11813},\n",
       "  {'transaction-id': 8755, 'amount': 12147},\n",
       "  {'transaction-id': 8783, 'amount': 11529},\n",
       "  {'transaction-id': 8902, 'amount': 11401},\n",
       "  {'transaction-id': 8960, 'amount': 11811},\n",
       "  {'transaction-id': 9063, 'amount': 11690},\n",
       "  {'transaction-id': 9650, 'amount': 11582},\n",
       "  {'transaction-id': 9933, 'amount': 11598}],\n",
       " [{'transaction-id': 8, 'amount': 701},\n",
       "  {'transaction-id': 45, 'amount': 688},\n",
       "  {'transaction-id': 129, 'amount': 728},\n",
       "  {'transaction-id': 476, 'amount': 689},\n",
       "  {'transaction-id': 494, 'amount': 598},\n",
       "  {'transaction-id': 583, 'amount': 643},\n",
       "  {'transaction-id': 775, 'amount': 533},\n",
       "  {'transaction-id': 817, 'amount': 578},\n",
       "  {'transaction-id': 834, 'amount': 622},\n",
       "  {'transaction-id': 877, 'amount': 674},\n",
       "  {'transaction-id': 989, 'amount': 611},\n",
       "  {'transaction-id': 1172, 'amount': 552},\n",
       "  {'transaction-id': 1177, 'amount': 545},\n",
       "  {'transaction-id': 1270, 'amount': 540},\n",
       "  {'transaction-id': 1319, 'amount': 605},\n",
       "  {'transaction-id': 1668, 'amount': 532},\n",
       "  {'transaction-id': 1739, 'amount': 639},\n",
       "  {'transaction-id': 1777, 'amount': 779},\n",
       "  {'transaction-id': 1784, 'amount': 565},\n",
       "  {'transaction-id': 1920, 'amount': 699},\n",
       "  {'transaction-id': 2129, 'amount': 578},\n",
       "  {'transaction-id': 2230, 'amount': 594},\n",
       "  {'transaction-id': 2238, 'amount': 581},\n",
       "  {'transaction-id': 2273, 'amount': 662},\n",
       "  {'transaction-id': 2340, 'amount': 592},\n",
       "  {'transaction-id': 2409, 'amount': 535},\n",
       "  {'transaction-id': 2434, 'amount': 611},\n",
       "  {'transaction-id': 2681, 'amount': 703},\n",
       "  {'transaction-id': 2686, 'amount': 592},\n",
       "  {'transaction-id': 2827, 'amount': 591},\n",
       "  {'transaction-id': 2874, 'amount': 524},\n",
       "  {'transaction-id': 3354, 'amount': 687},\n",
       "  {'transaction-id': 3648, 'amount': 632},\n",
       "  {'transaction-id': 3754, 'amount': 555},\n",
       "  {'transaction-id': 3904, 'amount': 614},\n",
       "  {'transaction-id': 3911, 'amount': 674},\n",
       "  {'transaction-id': 3977, 'amount': 649},\n",
       "  {'transaction-id': 4006, 'amount': 563},\n",
       "  {'transaction-id': 4089, 'amount': 569},\n",
       "  {'transaction-id': 4110, 'amount': 631},\n",
       "  {'transaction-id': 4438, 'amount': 649},\n",
       "  {'transaction-id': 4614, 'amount': 573},\n",
       "  {'transaction-id': 4695, 'amount': 622},\n",
       "  {'transaction-id': 4771, 'amount': 619},\n",
       "  {'transaction-id': 4855, 'amount': 595},\n",
       "  {'transaction-id': 5161, 'amount': 625},\n",
       "  {'transaction-id': 5238, 'amount': 648},\n",
       "  {'transaction-id': 5428, 'amount': 629},\n",
       "  {'transaction-id': 5728, 'amount': 661},\n",
       "  {'transaction-id': 5769, 'amount': 583},\n",
       "  {'transaction-id': 5869, 'amount': 558},\n",
       "  {'transaction-id': 5922, 'amount': 675},\n",
       "  {'transaction-id': 5992, 'amount': 519},\n",
       "  {'transaction-id': 6001, 'amount': 549},\n",
       "  {'transaction-id': 6011, 'amount': 617},\n",
       "  {'transaction-id': 6110, 'amount': 628},\n",
       "  {'transaction-id': 6137, 'amount': 585},\n",
       "  {'transaction-id': 6145, 'amount': 688},\n",
       "  {'transaction-id': 6443, 'amount': 654},\n",
       "  {'transaction-id': 6789, 'amount': 604},\n",
       "  {'transaction-id': 6832, 'amount': 672},\n",
       "  {'transaction-id': 6908, 'amount': 698},\n",
       "  {'transaction-id': 7183, 'amount': 561},\n",
       "  {'transaction-id': 7372, 'amount': 583},\n",
       "  {'transaction-id': 7450, 'amount': 567},\n",
       "  {'transaction-id': 7642, 'amount': 631},\n",
       "  {'transaction-id': 7886, 'amount': 664},\n",
       "  {'transaction-id': 8117, 'amount': 597},\n",
       "  {'transaction-id': 8128, 'amount': 693},\n",
       "  {'transaction-id': 8285, 'amount': 570},\n",
       "  {'transaction-id': 8297, 'amount': 566},\n",
       "  {'transaction-id': 8502, 'amount': 526},\n",
       "  {'transaction-id': 8556, 'amount': 573},\n",
       "  {'transaction-id': 8696, 'amount': 631},\n",
       "  {'transaction-id': 8786, 'amount': 629},\n",
       "  {'transaction-id': 8947, 'amount': 695},\n",
       "  {'transaction-id': 9306, 'amount': 608},\n",
       "  {'transaction-id': 9586, 'amount': 609},\n",
       "  {'transaction-id': 9668, 'amount': 646},\n",
       "  {'transaction-id': 9705, 'amount': 730}])"
      ]
     },
     "execution_count": 15,
     "metadata": {},
     "output_type": "execute_result"
    }
   ],
   "source": [
    "(js.filter(lambda record: record['name'] == 'Alice')\n",
    "   .pluck('transactions')\n",
    "   .take(3))"
   ]
  },
  {
   "cell_type": "code",
   "execution_count": 16,
   "metadata": {
    "execution": {
     "iopub.execute_input": "2021-10-14T15:57:39.442980Z",
     "iopub.status.busy": "2021-10-14T15:57:39.441094Z",
     "iopub.status.idle": "2021-10-14T15:57:39.460719Z",
     "shell.execute_reply": "2021-10-14T15:57:39.461132Z"
    }
   },
   "outputs": [
    {
     "data": {
      "text/plain": [
       "({'transaction-id': 197, 'amount': -265},\n",
       " {'transaction-id': 524, 'amount': -289},\n",
       " {'transaction-id': 610, 'amount': -277})"
      ]
     },
     "execution_count": 16,
     "metadata": {},
     "output_type": "execute_result"
    }
   ],
   "source": [
    "(js.filter(lambda record: record['name'] == 'Alice')\n",
    "   .pluck('transactions')\n",
    "   .flatten()\n",
    "   .take(3))"
   ]
  },
  {
   "cell_type": "code",
   "execution_count": 17,
   "metadata": {
    "execution": {
     "iopub.execute_input": "2021-10-14T15:57:39.473796Z",
     "iopub.status.busy": "2021-10-14T15:57:39.469867Z",
     "iopub.status.idle": "2021-10-14T15:57:39.490829Z",
     "shell.execute_reply": "2021-10-14T15:57:39.491203Z"
    }
   },
   "outputs": [
    {
     "data": {
      "text/plain": [
       "(-265, -289, -277)"
      ]
     },
     "execution_count": 17,
     "metadata": {},
     "output_type": "execute_result"
    }
   ],
   "source": [
    "(js.filter(lambda record: record['name'] == 'Alice')\n",
    "   .pluck('transactions')\n",
    "   .flatten()\n",
    "   .pluck('amount')\n",
    "   .take(3))"
   ]
  },
  {
   "cell_type": "code",
   "execution_count": 18,
   "metadata": {
    "execution": {
     "iopub.execute_input": "2021-10-14T15:57:39.501468Z",
     "iopub.status.busy": "2021-10-14T15:57:39.495836Z",
     "iopub.status.idle": "2021-10-14T15:57:39.882723Z",
     "shell.execute_reply": "2021-10-14T15:57:39.883061Z"
    }
   },
   "outputs": [
    {
     "data": {
      "text/plain": [
       "3204.248664688427"
      ]
     },
     "execution_count": 18,
     "metadata": {},
     "output_type": "execute_result"
    }
   ],
   "source": [
    "(js.filter(lambda record: record['name'] == 'Alice')\n",
    "   .pluck('transactions')\n",
    "   .flatten()\n",
    "   .pluck('amount')\n",
    "   .mean()\n",
    "   .compute())"
   ]
  },
  {
   "cell_type": "markdown",
   "metadata": {},
   "source": [
    "### Groupby and Foldby"
   ]
  },
  {
   "cell_type": "markdown",
   "metadata": {},
   "source": [
    "Often we want to group data by some function or key.  We can do this either with the `.groupby` method, which is straightforward but forces a full shuffle of the data (expensive) or with the harder-to-use but faster `.foldby` method, which does a streaming combined groupby and reduction.\n",
    "\n",
    "*  `groupby`:  Shuffles data so that all items with the same key are in the same key-value pair\n",
    "*  `foldby`:  Walks through the data accumulating a result per key\n",
    "\n",
    "*Note: the full groupby is particularly bad. In actual workloads you would do well to use `foldby` or switch to `DataFrame`s if possible.*"
   ]
  },
  {
   "cell_type": "markdown",
   "metadata": {},
   "source": [
    "### `groupby`"
   ]
  },
  {
   "cell_type": "markdown",
   "metadata": {},
   "source": [
    "Groupby collects items in your collection so that all items with the same value under some function are collected together into a key-value pair."
   ]
  },
  {
   "cell_type": "code",
   "execution_count": 19,
   "metadata": {
    "execution": {
     "iopub.execute_input": "2021-10-14T15:57:39.896856Z",
     "iopub.status.busy": "2021-10-14T15:57:39.891090Z",
     "iopub.status.idle": "2021-10-14T15:57:39.987611Z",
     "shell.execute_reply": "2021-10-14T15:57:39.987233Z"
    }
   },
   "outputs": [
    {
     "data": {
      "text/plain": [
       "[(7, ['Charlie']), (3, ['Bob', 'Dan']), (5, ['Alice', 'Edith', 'Frank'])]"
      ]
     },
     "execution_count": 19,
     "metadata": {},
     "output_type": "execute_result"
    }
   ],
   "source": [
    "b = db.from_sequence(['Alice', 'Bob', 'Charlie', 'Dan', 'Edith', 'Frank'])\n",
    "b.groupby(len).compute()  # names grouped by length"
   ]
  },
  {
   "cell_type": "code",
   "execution_count": 20,
   "metadata": {
    "execution": {
     "iopub.execute_input": "2021-10-14T15:57:39.997623Z",
     "iopub.status.busy": "2021-10-14T15:57:39.997156Z",
     "iopub.status.idle": "2021-10-14T15:57:40.136269Z",
     "shell.execute_reply": "2021-10-14T15:57:40.135860Z"
    }
   },
   "outputs": [
    {
     "data": {
      "text/plain": [
       "[(0, [0, 2, 4, 6, 8]), (1, [1, 3, 5, 7, 9])]"
      ]
     },
     "execution_count": 20,
     "metadata": {},
     "output_type": "execute_result"
    }
   ],
   "source": [
    "b = db.from_sequence(list(range(10)))\n",
    "b.groupby(lambda x: x % 2).compute()"
   ]
  },
  {
   "cell_type": "code",
   "execution_count": 21,
   "metadata": {
    "execution": {
     "iopub.execute_input": "2021-10-14T15:57:40.158998Z",
     "iopub.status.busy": "2021-10-14T15:57:40.145713Z",
     "iopub.status.idle": "2021-10-14T15:57:40.291826Z",
     "shell.execute_reply": "2021-10-14T15:57:40.291429Z"
    }
   },
   "outputs": [
    {
     "data": {
      "text/plain": [
       "[(0, 8), (1, 9)]"
      ]
     },
     "execution_count": 21,
     "metadata": {},
     "output_type": "execute_result"
    }
   ],
   "source": [
    "b.groupby(lambda x: x % 2).starmap(lambda k, v: (k, max(v))).compute()"
   ]
  },
  {
   "cell_type": "markdown",
   "metadata": {},
   "source": [
    "### `foldby`"
   ]
  },
  {
   "cell_type": "markdown",
   "metadata": {},
   "source": [
    "Foldby can be quite odd at first.  It is similar to the following functions from other libraries:\n",
    "\n",
    "*  [`toolz.reduceby`](http://toolz.readthedocs.io/en/latest/streaming-analytics.html#streaming-split-apply-combine)\n",
    "*  [`pyspark.RDD.combineByKey`](http://abshinn.github.io/python/apache-spark/2014/10/11/using-combinebykey-in-apache-spark/)\n",
    "\n",
    "When using `foldby` you provide \n",
    "\n",
    "1.  A key function on which to group elements\n",
    "2.  A binary operator such as you would pass to `reduce` that you use to perform reduction per each group\n",
    "3.  A combine binary operator that can combine the results of two `reduce` calls on different parts of your dataset.\n",
    "\n",
    "Your reduction must be associative.  It will happen in parallel in each of the partitions of your dataset.  Then all of these intermediate results will be combined by the `combine` binary operator."
   ]
  },
  {
   "cell_type": "code",
   "execution_count": 22,
   "metadata": {
    "execution": {
     "iopub.execute_input": "2021-10-14T15:57:40.301110Z",
     "iopub.status.busy": "2021-10-14T15:57:40.300604Z",
     "iopub.status.idle": "2021-10-14T15:57:40.349180Z",
     "shell.execute_reply": "2021-10-14T15:57:40.349519Z"
    }
   },
   "outputs": [
    {
     "data": {
      "text/plain": [
       "[(0, 8), (1, 9)]"
      ]
     },
     "execution_count": 22,
     "metadata": {},
     "output_type": "execute_result"
    }
   ],
   "source": [
    "b.foldby(lambda x: x % 2, binop=max, combine=max).compute()"
   ]
  },
  {
   "cell_type": "markdown",
   "metadata": {},
   "source": [
    "### Example with account data"
   ]
  },
  {
   "cell_type": "markdown",
   "metadata": {},
   "source": [
    "We find the number of people with the same name."
   ]
  },
  {
   "cell_type": "code",
   "execution_count": 23,
   "metadata": {
    "execution": {
     "iopub.execute_input": "2021-10-14T15:57:40.356285Z",
     "iopub.status.busy": "2021-10-14T15:57:40.355637Z",
     "iopub.status.idle": "2021-10-14T15:57:44.907822Z",
     "shell.execute_reply": "2021-10-14T15:57:44.907432Z"
    }
   },
   "outputs": [
    {
     "name": "stdout",
     "output_type": "stream",
     "text": [
      "[('Alice', 48), ('Alice', 48), ('Alice', 48), ('Alice', 56), ('Bob', 120), ('Bob', 120), ('Bob', 120), ('Bob', 140), ('Charlie', 156), ('Charlie', 156), ('Charlie', 156), ('Charlie', 182), ('Dan', 119), ('Dan', 120), ('Dan', 120), ('Dan', 139), ('Edith', 84), ('Edith', 84), ('Edith', 84), ('Edith', 98), ('Frank', 132), ('Frank', 132), ('Frank', 132), ('Frank', 154), ('George', 144), ('George', 144), ('George', 311), ('Hannah', 143), ('Hannah', 143), ('Hannah', 144), ('Hannah', 168), ('Ingrid', 72), ('Ingrid', 72), ('Ingrid', 72), ('Ingrid', 83), ('Jerry', 81), ('Jerry', 96), ('Jerry', 159), ('Kevin', 138), ('Kevin', 139), ('Kevin', 140), ('Kevin', 162), ('Laura', 96), ('Laura', 96), ('Laura', 96), ('Laura', 112), ('Michael', 124), ('Michael', 125), ('Michael', 129), ('Michael', 148), ('Norbert', 120), ('Norbert', 120), ('Norbert', 120), ('Norbert', 140), ('Oliver', 96), ('Oliver', 96), ('Oliver', 96), ('Oliver', 112), ('Patricia', 125), ('Patricia', 128), ('Patricia', 128), ('Patricia', 152), ('Quinn', 48), ('Quinn', 48), ('Quinn', 48), ('Quinn', 56), ('Ray', 142), ('Ray', 142), ('Ray', 142), ('Ray', 165), ('Sarah', 136), ('Sarah', 137), ('Sarah', 137), ('Sarah', 157), ('Tim', 83), ('Tim', 84), ('Tim', 84), ('Tim', 98), ('Ursula', 179), ('Ursula', 180), ('Ursula', 180), ('Ursula', 210), ('Victor', 132), ('Victor', 132), ('Victor', 132), ('Victor', 154), ('Wendy', 84), ('Wendy', 84), ('Wendy', 84), ('Wendy', 98), ('Xavier', 60), ('Xavier', 60), ('Xavier', 60), ('Xavier', 70), ('Yvonne', 120), ('Yvonne', 120), ('Yvonne', 120), ('Yvonne', 140), ('Zelda', 167), ('Zelda', 168), ('Zelda', 168), ('Zelda', 196)]\n",
      "CPU times: user 1.06 s, sys: 55.9 ms, total: 1.11 s\n",
      "Wall time: 4.55 s\n"
     ]
    }
   ],
   "source": [
    "%%time\n",
    "# Warning, this one takes a while...\n",
    "result = js.groupby(lambda item: item['name']).starmap(lambda k, v: (k, len(v))).compute()\n",
    "print(sorted(result))"
   ]
  },
  {
   "cell_type": "code",
   "execution_count": 24,
   "metadata": {
    "execution": {
     "iopub.execute_input": "2021-10-14T15:57:44.917869Z",
     "iopub.status.busy": "2021-10-14T15:57:44.917408Z",
     "iopub.status.idle": "2021-10-14T15:57:45.347807Z",
     "shell.execute_reply": "2021-10-14T15:57:45.347425Z"
    }
   },
   "outputs": [
    {
     "name": "stdout",
     "output_type": "stream",
     "text": [
      "[('Alice', 200), ('Bob', 500), ('Charlie', 650), ('Dan', 498), ('Edith', 350), ('Frank', 550), ('George', 599), ('Hannah', 598), ('Ingrid', 299), ('Jerry', 336), ('Kevin', 579), ('Laura', 400), ('Michael', 526), ('Norbert', 500), ('Oliver', 400), ('Patricia', 533), ('Quinn', 200), ('Ray', 591), ('Sarah', 567), ('Tim', 349), ('Ursula', 749), ('Victor', 550), ('Wendy', 350), ('Xavier', 250), ('Yvonne', 500), ('Zelda', 699)]\n",
      "CPU times: user 124 ms, sys: 5.43 ms, total: 130 ms\n",
      "Wall time: 433 ms\n"
     ]
    }
   ],
   "source": [
    "%%time\n",
    "# This one is comparatively fast and produces the same result.\n",
    "from operator import add\n",
    "def incr(tot, _):\n",
    "    return tot + 1\n",
    "\n",
    "result = js.foldby(key='name', \n",
    "                   binop=incr, \n",
    "                   initial=0, \n",
    "                   combine=add, \n",
    "                   combine_initial=0).compute()\n",
    "print(sorted(result))"
   ]
  },
  {
   "cell_type": "markdown",
   "metadata": {},
   "source": [
    "### Exercise: compute total amount per name"
   ]
  },
  {
   "cell_type": "markdown",
   "metadata": {},
   "source": [
    "We want to groupby (or foldby) the `name` key, then add up the all of the amounts for each name.\n",
    "\n",
    "Steps\n",
    "\n",
    "1.  Create a small function that, given a dictionary like \n",
    "\n",
    "        {'name': 'Alice', 'transactions': [{'amount': 1, 'id': 123}, {'amount': 2, 'id': 456}]}\n",
    "        \n",
    "    produces the sum of the amounts, e.g. `3`\n",
    "    \n",
    "2.  Slightly change the binary operator of the `foldby` example above so that the binary operator doesn't count the number of entries, but instead accumulates the sum of the amounts."
   ]
  },
  {
   "cell_type": "code",
   "execution_count": 25,
   "metadata": {
    "execution": {
     "iopub.execute_input": "2021-10-14T15:57:45.351468Z",
     "iopub.status.busy": "2021-10-14T15:57:45.351001Z",
     "iopub.status.idle": "2021-10-14T15:57:45.353218Z",
     "shell.execute_reply": "2021-10-14T15:57:45.352817Z"
    }
   },
   "outputs": [],
   "source": [
    "# Your code here..."
   ]
  },
  {
   "cell_type": "markdown",
   "metadata": {},
   "source": [
    "## DataFrames"
   ]
  },
  {
   "cell_type": "markdown",
   "metadata": {},
   "source": [
    "For the same reasons that Pandas is often faster than pure Python, `dask.dataframe` can be faster than `dask.bag`.  We will work more with DataFrames later, but from the point of view of a Bag, it is frequently the end-point of the \"messy\" part of data ingestion—once the data can be made into a data-frame, then complex split-apply-combine logic will become much more straight-forward and efficient.\n",
    "\n",
    "You can transform a bag with a simple tuple or flat dictionary structure into a `dask.dataframe` with the `to_dataframe` method."
   ]
  },
  {
   "cell_type": "code",
   "execution_count": 26,
   "metadata": {
    "execution": {
     "iopub.execute_input": "2021-10-14T15:57:45.356543Z",
     "iopub.status.busy": "2021-10-14T15:57:45.356022Z",
     "iopub.status.idle": "2021-10-14T15:57:45.938508Z",
     "shell.execute_reply": "2021-10-14T15:57:45.939556Z"
    }
   },
   "outputs": [
    {
     "data": {
      "text/html": [
       "<div>\n",
       "<style scoped>\n",
       "    .dataframe tbody tr th:only-of-type {\n",
       "        vertical-align: middle;\n",
       "    }\n",
       "\n",
       "    .dataframe tbody tr th {\n",
       "        vertical-align: top;\n",
       "    }\n",
       "\n",
       "    .dataframe thead th {\n",
       "        text-align: right;\n",
       "    }\n",
       "</style>\n",
       "<table border=\"1\" class=\"dataframe\">\n",
       "  <thead>\n",
       "    <tr style=\"text-align: right;\">\n",
       "      <th></th>\n",
       "      <th>id</th>\n",
       "      <th>name</th>\n",
       "      <th>transactions</th>\n",
       "    </tr>\n",
       "  </thead>\n",
       "  <tbody>\n",
       "    <tr>\n",
       "      <th>0</th>\n",
       "      <td>0</td>\n",
       "      <td>Charlie</td>\n",
       "      <td>[{'transaction-id': 489, 'amount': 27}, {'tran...</td>\n",
       "    </tr>\n",
       "    <tr>\n",
       "      <th>1</th>\n",
       "      <td>1</td>\n",
       "      <td>Ray</td>\n",
       "      <td>[{'transaction-id': 37, 'amount': 1458}, {'tra...</td>\n",
       "    </tr>\n",
       "    <tr>\n",
       "      <th>2</th>\n",
       "      <td>2</td>\n",
       "      <td>Patricia</td>\n",
       "      <td>[{'transaction-id': 5, 'amount': 49}, {'transa...</td>\n",
       "    </tr>\n",
       "    <tr>\n",
       "      <th>3</th>\n",
       "      <td>3</td>\n",
       "      <td>Yvonne</td>\n",
       "      <td>[{'transaction-id': 131, 'amount': 232}, {'tra...</td>\n",
       "    </tr>\n",
       "    <tr>\n",
       "      <th>4</th>\n",
       "      <td>4</td>\n",
       "      <td>Ursula</td>\n",
       "      <td>[{'transaction-id': 190, 'amount': 989}, {'tra...</td>\n",
       "    </tr>\n",
       "  </tbody>\n",
       "</table>\n",
       "</div>"
      ],
      "text/plain": [
       "   id      name                                       transactions\n",
       "0   0   Charlie  [{'transaction-id': 489, 'amount': 27}, {'tran...\n",
       "1   1       Ray  [{'transaction-id': 37, 'amount': 1458}, {'tra...\n",
       "2   2  Patricia  [{'transaction-id': 5, 'amount': 49}, {'transa...\n",
       "3   3    Yvonne  [{'transaction-id': 131, 'amount': 232}, {'tra...\n",
       "4   4    Ursula  [{'transaction-id': 190, 'amount': 989}, {'tra..."
      ]
     },
     "execution_count": 26,
     "metadata": {},
     "output_type": "execute_result"
    }
   ],
   "source": [
    "df1 = js.to_dataframe()\n",
    "df1.head()"
   ]
  },
  {
   "cell_type": "markdown",
   "metadata": {},
   "source": [
    "This now looks like a well-defined DataFrame, and we can apply Pandas-like computations to it efficiently."
   ]
  },
  {
   "cell_type": "markdown",
   "metadata": {},
   "source": [
    "Using a Dask DataFrame, how long does it take to do our prior computation of numbers of people with the same name?  It turns out that `dask.dataframe.groupby()` beats `dask.bag.groupby()` by more than an order of magnitude; but it still cannot match `dask.bag.foldby()` for this case."
   ]
  },
  {
   "cell_type": "code",
   "execution_count": 27,
   "metadata": {
    "execution": {
     "iopub.execute_input": "2021-10-14T15:57:45.947628Z",
     "iopub.status.busy": "2021-10-14T15:57:45.947194Z",
     "iopub.status.idle": "2021-10-14T15:57:47.275855Z",
     "shell.execute_reply": "2021-10-14T15:57:47.276216Z"
    }
   },
   "outputs": [
    {
     "name": "stdout",
     "output_type": "stream",
     "text": [
      "CPU times: user 236 ms, sys: 4.96 ms, total: 241 ms\n",
      "Wall time: 1.32 s\n"
     ]
    },
    {
     "data": {
      "text/plain": [
       "name\n",
       "Alice      200\n",
       "Bob        500\n",
       "Charlie    650\n",
       "Dan        498\n",
       "Edith      350\n",
       "Name: id, dtype: int64"
      ]
     },
     "execution_count": 27,
     "metadata": {},
     "output_type": "execute_result"
    }
   ],
   "source": [
    "%time df1.groupby('name').id.count().compute().head()"
   ]
  },
  {
   "cell_type": "markdown",
   "metadata": {},
   "source": [
    "### Denormalization"
   ]
  },
  {
   "cell_type": "markdown",
   "metadata": {},
   "source": [
    "This DataFrame format is less-than-optimal because the `transactions` column is filled with nested data so Pandas has to revert to `object` dtype, which is quite slow in Pandas.  Ideally we want to transform to a dataframe only after we have flattened our data so that each record is a single `int`, `string`, `float`, etc.."
   ]
  },
  {
   "cell_type": "code",
   "execution_count": 28,
   "metadata": {
    "execution": {
     "iopub.execute_input": "2021-10-14T15:57:47.282950Z",
     "iopub.status.busy": "2021-10-14T15:57:47.282068Z",
     "iopub.status.idle": "2021-10-14T15:57:47.307329Z",
     "shell.execute_reply": "2021-10-14T15:57:47.306959Z"
    }
   },
   "outputs": [
    {
     "data": {
      "text/plain": [
       "({'id': 0, 'name': 'Charlie', 'amount': 27, 'transaction-id': 489},\n",
       " {'id': 0, 'name': 'Charlie', 'amount': 29, 'transaction-id': 555},\n",
       " {'id': 0, 'name': 'Charlie', 'amount': 28, 'transaction-id': 617})"
      ]
     },
     "execution_count": 28,
     "metadata": {},
     "output_type": "execute_result"
    }
   ],
   "source": [
    "def denormalize(record):\n",
    "    # returns a list for each person, one item per transaction\n",
    "    return [{'id': record['id'], \n",
    "             'name': record['name'], \n",
    "             'amount': transaction['amount'], \n",
    "             'transaction-id': transaction['transaction-id']}\n",
    "            for transaction in record['transactions']]\n",
    "\n",
    "transactions = js.map(denormalize).flatten()\n",
    "transactions.take(3)"
   ]
  },
  {
   "cell_type": "code",
   "execution_count": 29,
   "metadata": {
    "execution": {
     "iopub.execute_input": "2021-10-14T15:57:47.311808Z",
     "iopub.status.busy": "2021-10-14T15:57:47.311135Z",
     "iopub.status.idle": "2021-10-14T15:57:47.389505Z",
     "shell.execute_reply": "2021-10-14T15:57:47.389868Z"
    }
   },
   "outputs": [
    {
     "data": {
      "text/html": [
       "<div>\n",
       "<style scoped>\n",
       "    .dataframe tbody tr th:only-of-type {\n",
       "        vertical-align: middle;\n",
       "    }\n",
       "\n",
       "    .dataframe tbody tr th {\n",
       "        vertical-align: top;\n",
       "    }\n",
       "\n",
       "    .dataframe thead th {\n",
       "        text-align: right;\n",
       "    }\n",
       "</style>\n",
       "<table border=\"1\" class=\"dataframe\">\n",
       "  <thead>\n",
       "    <tr style=\"text-align: right;\">\n",
       "      <th></th>\n",
       "      <th>id</th>\n",
       "      <th>name</th>\n",
       "      <th>amount</th>\n",
       "      <th>transaction-id</th>\n",
       "    </tr>\n",
       "  </thead>\n",
       "  <tbody>\n",
       "    <tr>\n",
       "      <th>0</th>\n",
       "      <td>0</td>\n",
       "      <td>Charlie</td>\n",
       "      <td>27</td>\n",
       "      <td>489</td>\n",
       "    </tr>\n",
       "    <tr>\n",
       "      <th>1</th>\n",
       "      <td>0</td>\n",
       "      <td>Charlie</td>\n",
       "      <td>29</td>\n",
       "      <td>555</td>\n",
       "    </tr>\n",
       "    <tr>\n",
       "      <th>2</th>\n",
       "      <td>0</td>\n",
       "      <td>Charlie</td>\n",
       "      <td>28</td>\n",
       "      <td>617</td>\n",
       "    </tr>\n",
       "    <tr>\n",
       "      <th>3</th>\n",
       "      <td>0</td>\n",
       "      <td>Charlie</td>\n",
       "      <td>35</td>\n",
       "      <td>953</td>\n",
       "    </tr>\n",
       "    <tr>\n",
       "      <th>4</th>\n",
       "      <td>0</td>\n",
       "      <td>Charlie</td>\n",
       "      <td>30</td>\n",
       "      <td>1934</td>\n",
       "    </tr>\n",
       "  </tbody>\n",
       "</table>\n",
       "</div>"
      ],
      "text/plain": [
       "   id     name  amount  transaction-id\n",
       "0   0  Charlie      27             489\n",
       "1   0  Charlie      29             555\n",
       "2   0  Charlie      28             617\n",
       "3   0  Charlie      35             953\n",
       "4   0  Charlie      30            1934"
      ]
     },
     "execution_count": 29,
     "metadata": {},
     "output_type": "execute_result"
    }
   ],
   "source": [
    "df = transactions.to_dataframe()\n",
    "df.head()"
   ]
  },
  {
   "cell_type": "code",
   "execution_count": 30,
   "metadata": {
    "execution": {
     "iopub.execute_input": "2021-10-14T15:57:47.397750Z",
     "iopub.status.busy": "2021-10-14T15:57:47.396670Z",
     "iopub.status.idle": "2021-10-14T15:57:48.392569Z",
     "shell.execute_reply": "2021-10-14T15:57:48.392114Z"
    }
   },
   "outputs": [
    {
     "name": "stdout",
     "output_type": "stream",
     "text": [
      "CPU times: user 182 ms, sys: 4.65 ms, total: 187 ms\n",
      "Wall time: 988 ms\n"
     ]
    },
    {
     "data": {
      "text/plain": [
       "name\n",
       "Alice       13480\n",
       "Bob         29303\n",
       "Charlie     25743\n",
       "Dan         15319\n",
       "Edith       16001\n",
       "Frank       23928\n",
       "George      22833\n",
       "Hannah      13884\n",
       "Ingrid       9536\n",
       "Jerry       19348\n",
       "Kevin       28553\n",
       "Laura       19271\n",
       "Michael      8039\n",
       "Norbert     19210\n",
       "Oliver      22281\n",
       "Patricia    20501\n",
       "Quinn        9923\n",
       "Ray         22279\n",
       "Sarah       28463\n",
       "Tim         17870\n",
       "Ursula      33428\n",
       "Victor      16719\n",
       "Wendy       10309\n",
       "Xavier      10507\n",
       "Yvonne      19227\n",
       "Zelda       24045\n",
       "Name: transaction-id, dtype: int64"
      ]
     },
     "execution_count": 30,
     "metadata": {},
     "output_type": "execute_result"
    }
   ],
   "source": [
    "%%time\n",
    "# number of transactions per name\n",
    "# note that the time here includes the data load and ingestion\n",
    "df.groupby('name')['transaction-id'].count().compute()"
   ]
  },
  {
   "cell_type": "markdown",
   "metadata": {},
   "source": [
    "## Limitations"
   ]
  },
  {
   "cell_type": "markdown",
   "metadata": {},
   "source": [
    "Bags provide very general computation (any Python function.)  This generality\n",
    "comes at cost.  Bags have the following known limitations\n",
    "\n",
    "1.  Bag operations tend to be slower than array/dataframe computations in the\n",
    "    same way that Python tends to be slower than NumPy/Pandas\n",
    "2.  ``Bag.groupby`` is slow.  You should try to use ``Bag.foldby`` if possible.\n",
    "    Using ``Bag.foldby`` requires more thought. Even better, consider creating\n",
    "    a normalised dataframe."
   ]
  },
  {
   "cell_type": "markdown",
   "metadata": {},
   "source": [
    "## Learn More\n",
    "\n",
    "* [Bag documentation](https://docs.dask.org/en/latest/bag.html)\n",
    "* [Bag screencast](https://youtu.be/-qIiJ1XtSv0)\n",
    "* [Bag API](https://docs.dask.org/en/latest/bag-api.html)\n",
    "* [Bag examples](https://examples.dask.org/bag.html)"
   ]
  },
  {
   "cell_type": "markdown",
   "metadata": {},
   "source": [
    "## Shutdown"
   ]
  },
  {
   "cell_type": "code",
   "execution_count": 31,
   "metadata": {
    "execution": {
     "iopub.execute_input": "2021-10-14T15:57:48.396377Z",
     "iopub.status.busy": "2021-10-14T15:57:48.394746Z",
     "iopub.status.idle": "2021-10-14T15:57:48.862577Z",
     "shell.execute_reply": "2021-10-14T15:57:48.862985Z"
    }
   },
   "outputs": [
    {
     "name": "stderr",
     "output_type": "stream",
     "text": [
      "/usr/share/miniconda3/envs/dask-tutorial/lib/python3.8/site-packages/dask/bag/core.py:2443: UserWarning: Insufficient elements for `take`. 5 elements requested, only 4 elements available. Try passing larger `npartitions` to `take`.\n",
      "  warnings.warn(\n",
      "/usr/share/miniconda3/envs/dask-tutorial/lib/python3.8/site-packages/dask/bag/core.py:2443: UserWarning: Insufficient elements for `take`. 5 elements requested, only 4 elements available. Try passing larger `npartitions` to `take`.\n",
      "  warnings.warn(\n"
     ]
    }
   ],
   "source": [
    "client.shutdown()"
   ]
  }
 ],
 "metadata": {
  "anaconda-cloud": {},
  "kernelspec": {
   "display_name": "Python 3",
   "language": "python",
   "name": "python3"
  },
  "language_info": {
   "codemirror_mode": {
    "name": "ipython",
    "version": 3
   },
   "file_extension": ".py",
   "mimetype": "text/x-python",
   "name": "python",
   "nbconvert_exporter": "python",
   "pygments_lexer": "ipython3",
   "version": "3.8.12"
  }
 },
 "nbformat": 4,
 "nbformat_minor": 4
}
