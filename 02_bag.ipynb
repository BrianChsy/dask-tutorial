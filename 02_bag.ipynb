{
 "cells": [
  {
   "cell_type": "markdown",
   "metadata": {},
   "source": [
    "<img src=\"images/dask_horizontal.svg\" align=\"right\" width=\"30%\">"
   ]
  },
  {
   "cell_type": "markdown",
   "metadata": {},
   "source": [
    "# Bag: Parallel Lists for semi-structured data"
   ]
  },
  {
   "cell_type": "markdown",
   "metadata": {},
   "source": [
    "Dask-bag excels in processing data that can be represented as a sequence of arbitrary inputs. We'll refer to this as \"messy\" data, because it can contain complex nested structures, missing fields, mixtures of data types, etc. The *functional* programming style fits very nicely with standard Python iteration, such as can be found in the `itertools` module.\n",
    "\n",
    "Messy data is often encountered at the beginning of data processing pipelines when large volumes of raw data are first consumed. The initial set of data might be JSON, CSV, XML, or any other format that does not enforce strict structure and datatypes.\n",
    "For this reason, the initial data massaging and processing is often done with Python `list`s, `dict`s, and `set`s.\n",
    "\n",
    "These core data structures are optimized for general-purpose storage and processing.  Adding streaming computation with iterators/generator expressions or libraries like `itertools` or [`toolz`](https://toolz.readthedocs.io/en/latest/) let us process large volumes in a small space.  If we combine this with parallel processing then we can churn through a fair amount of data.\n",
    "\n",
    "Dask.bag is a high-level Dask collection to automate common workloads of this form.  In a nutshell\n",
    "\n",
    "    dask.bag = map, filter, toolz + parallel execution\n",
    "    \n",
    "**Related Documentation**\n",
    "\n",
    "* [Bag documentation](https://docs.dask.org/en/latest/bag.html)\n",
    "* [Bag screencast](https://youtu.be/-qIiJ1XtSv0)\n",
    "* [Bag API](https://docs.dask.org/en/latest/bag-api.html)\n",
    "* [Bag examples](https://examples.dask.org/bag.html)"
   ]
  },
  {
   "cell_type": "markdown",
   "metadata": {},
   "source": [
    "## Create data"
   ]
  },
  {
   "cell_type": "code",
   "execution_count": 1,
   "metadata": {
    "execution": {
     "iopub.execute_input": "2022-05-11T14:39:41.328989Z",
     "iopub.status.busy": "2022-05-11T14:39:41.328677Z",
     "iopub.status.idle": "2022-05-11T14:39:42.006153Z",
     "shell.execute_reply": "2022-05-11T14:39:42.005354Z"
    }
   },
   "outputs": [],
   "source": [
    "%run prep.py -d accounts"
   ]
  },
  {
   "cell_type": "markdown",
   "metadata": {},
   "source": [
    "## Setup"
   ]
  },
  {
   "cell_type": "markdown",
   "metadata": {},
   "source": [
    "Again, we'll use the distributed scheduler. Schedulers will be explained in depth [later](05_distributed.ipynb)."
   ]
  },
  {
   "cell_type": "code",
   "execution_count": 2,
   "metadata": {
    "execution": {
     "iopub.execute_input": "2022-05-11T14:39:42.011227Z",
     "iopub.status.busy": "2022-05-11T14:39:42.010421Z",
     "iopub.status.idle": "2022-05-11T14:39:44.381370Z",
     "shell.execute_reply": "2022-05-11T14:39:44.379791Z"
    }
   },
   "outputs": [],
   "source": [
    "from dask.distributed import Client\n",
    "\n",
    "client = Client(n_workers=4)"
   ]
  },
  {
   "cell_type": "markdown",
   "metadata": {},
   "source": [
    "## Creation"
   ]
  },
  {
   "cell_type": "markdown",
   "metadata": {},
   "source": [
    "You can create a `Bag` from a Python sequence, from files, from data on S3, etc.\n",
    "We demonstrate using `.take()` to show elements of the data. (Doing `.take(1)` results in a tuple with one element)\n",
    "\n",
    "Note that the data are partitioned into blocks, and there are many items per block. In the first example, the two partitions contain five elements each, and in the following two, each file is partitioned into one or more bytes blocks."
   ]
  },
  {
   "cell_type": "code",
   "execution_count": 3,
   "metadata": {
    "execution": {
     "iopub.execute_input": "2022-05-11T14:39:44.385786Z",
     "iopub.status.busy": "2022-05-11T14:39:44.385425Z",
     "iopub.status.idle": "2022-05-11T14:39:44.728212Z",
     "shell.execute_reply": "2022-05-11T14:39:44.727582Z"
    }
   },
   "outputs": [
    {
     "data": {
      "text/plain": [
       "(1, 2, 3)"
      ]
     },
     "execution_count": 3,
     "metadata": {},
     "output_type": "execute_result"
    }
   ],
   "source": [
    "# each element is an integer\n",
    "import dask.bag as db\n",
    "b = db.from_sequence([1, 2, 3, 4, 5, 6, 7, 8, 9, 10], npartitions=2)\n",
    "b.take(3)"
   ]
  },
  {
   "cell_type": "code",
   "execution_count": 4,
   "metadata": {
    "execution": {
     "iopub.execute_input": "2022-05-11T14:39:44.731489Z",
     "iopub.status.busy": "2022-05-11T14:39:44.731020Z",
     "iopub.status.idle": "2022-05-11T14:39:44.840677Z",
     "shell.execute_reply": "2022-05-11T14:39:44.840012Z"
    }
   },
   "outputs": [
    {
     "data": {
      "text/plain": [
       "('{\"id\": 0, \"name\": \"Charlie\", \"transactions\": [{\"transaction-id\": 1237, \"amount\": 146}, {\"transaction-id\": 1441, \"amount\": 149}, {\"transaction-id\": 1552, \"amount\": 158}, {\"transaction-id\": 1807, \"amount\": 74}, {\"transaction-id\": 2033, \"amount\": 122}, {\"transaction-id\": 2385, \"amount\": 117}, {\"transaction-id\": 3218, \"amount\": 108}, {\"transaction-id\": 3245, \"amount\": 119}, {\"transaction-id\": 4202, \"amount\": 121}, {\"transaction-id\": 4377, \"amount\": 118}, {\"transaction-id\": 4463, \"amount\": 115}, {\"transaction-id\": 4685, \"amount\": 112}, {\"transaction-id\": 4734, \"amount\": 115}, {\"transaction-id\": 4905, \"amount\": 139}, {\"transaction-id\": 6882, \"amount\": 154}, {\"transaction-id\": 7970, \"amount\": 131}, {\"transaction-id\": 8646, \"amount\": 147}, {\"transaction-id\": 8715, \"amount\": 122}, {\"transaction-id\": 9010, \"amount\": 117}, {\"transaction-id\": 9241, \"amount\": 135}]}\\n',)"
      ]
     },
     "execution_count": 4,
     "metadata": {},
     "output_type": "execute_result"
    }
   ],
   "source": [
    "# each element is a text file, where each line is a JSON object\n",
    "# note that the compression is handled automatically\n",
    "import os\n",
    "b = db.read_text(os.path.join('data', 'accounts.*.json.gz'))\n",
    "b.take(1)"
   ]
  },
  {
   "cell_type": "code",
   "execution_count": 5,
   "metadata": {
    "execution": {
     "iopub.execute_input": "2022-05-11T14:39:44.844073Z",
     "iopub.status.busy": "2022-05-11T14:39:44.843794Z",
     "iopub.status.idle": "2022-05-11T14:39:44.848459Z",
     "shell.execute_reply": "2022-05-11T14:39:44.847906Z"
    }
   },
   "outputs": [
    {
     "data": {
      "text/plain": [
       "'s3://dask-data/nyc-taxi/2015/yellow_tripdata_2015-01.csv'"
      ]
     },
     "execution_count": 5,
     "metadata": {},
     "output_type": "execute_result"
    }
   ],
   "source": [
    "# Edit sources.py to configure source locations\n",
    "import sources\n",
    "sources.bag_url"
   ]
  },
  {
   "cell_type": "code",
   "execution_count": 6,
   "metadata": {
    "execution": {
     "iopub.execute_input": "2022-05-11T14:39:44.851507Z",
     "iopub.status.busy": "2022-05-11T14:39:44.850974Z",
     "iopub.status.idle": "2022-05-11T14:39:45.490127Z",
     "shell.execute_reply": "2022-05-11T14:39:45.489228Z"
    }
   },
   "outputs": [
    {
     "data": {
      "text/plain": [
       "('VendorID,tpep_pickup_datetime,tpep_dropoff_datetime,passenger_count,trip_distance,pickup_longitude,pickup_latitude,RateCodeID,store_and_fwd_flag,dropoff_longitude,dropoff_latitude,payment_type,fare_amount,extra,mta_tax,tip_amount,tolls_amount,improvement_surcharge,total_amount\\n',)"
      ]
     },
     "execution_count": 6,
     "metadata": {},
     "output_type": "execute_result"
    }
   ],
   "source": [
    "# Requires `s3fs` library\n",
    "# each partition is a remote CSV text file\n",
    "b = db.read_text(sources.bag_url,\n",
    "                 storage_options={'anon': True})\n",
    "b.take(1)"
   ]
  },
  {
   "cell_type": "markdown",
   "metadata": {},
   "source": [
    "## Manipulation"
   ]
  },
  {
   "cell_type": "markdown",
   "metadata": {},
   "source": [
    "`Bag` objects hold the standard functional API found in projects like the Python standard library, `toolz`, or `pyspark`, including `map`, `filter`, `groupby`, etc..\n",
    "\n",
    "Operations on `Bag` objects create new bags.  Call the `.compute()` method to trigger execution, as we saw for `Delayed` objects.  "
   ]
  },
  {
   "cell_type": "code",
   "execution_count": 7,
   "metadata": {
    "execution": {
     "iopub.execute_input": "2022-05-11T14:39:45.494281Z",
     "iopub.status.busy": "2022-05-11T14:39:45.493783Z",
     "iopub.status.idle": "2022-05-11T14:39:45.500710Z",
     "shell.execute_reply": "2022-05-11T14:39:45.500124Z"
    }
   },
   "outputs": [
    {
     "data": {
      "text/plain": [
       "dask.bag<lambda, npartitions=10>"
      ]
     },
     "execution_count": 7,
     "metadata": {},
     "output_type": "execute_result"
    }
   ],
   "source": [
    "def is_even(n):\n",
    "    return n % 2 == 0\n",
    "\n",
    "b = db.from_sequence([1, 2, 3, 4, 5, 6, 7, 8, 9, 10])\n",
    "c = b.filter(is_even).map(lambda x: x ** 2)\n",
    "c"
   ]
  },
  {
   "cell_type": "code",
   "execution_count": 8,
   "metadata": {
    "execution": {
     "iopub.execute_input": "2022-05-11T14:39:45.503944Z",
     "iopub.status.busy": "2022-05-11T14:39:45.503644Z",
     "iopub.status.idle": "2022-05-11T14:39:45.664431Z",
     "shell.execute_reply": "2022-05-11T14:39:45.663357Z"
    }
   },
   "outputs": [
    {
     "data": {
      "text/plain": [
       "[4, 16, 36, 64, 100]"
      ]
     },
     "execution_count": 8,
     "metadata": {},
     "output_type": "execute_result"
    }
   ],
   "source": [
    "# blocking form: wait for completion (which is very fast in this case)\n",
    "c.compute()"
   ]
  },
  {
   "cell_type": "markdown",
   "metadata": {},
   "source": [
    "### Example: Accounts JSON data"
   ]
  },
  {
   "cell_type": "markdown",
   "metadata": {},
   "source": [
    "We've created a fake dataset of gzipped JSON data in your data directory.  This is like the example used in the `DataFrame` example we will see later, except that it has bundled up all of the entries for each individual `id` into a single record.  This is similar to data that you might collect off of a document store database or a web API.\n",
    "\n",
    "Each line is a JSON encoded dictionary with the following keys\n",
    "\n",
    "*  id: Unique identifier of the customer\n",
    "*  name: Name of the customer\n",
    "*  transactions: List of `transaction-id`, `amount` pairs, one for each transaction for the customer in that file"
   ]
  },
  {
   "cell_type": "code",
   "execution_count": 9,
   "metadata": {
    "execution": {
     "iopub.execute_input": "2022-05-11T14:39:45.668721Z",
     "iopub.status.busy": "2022-05-11T14:39:45.667883Z",
     "iopub.status.idle": "2022-05-11T14:39:45.709767Z",
     "shell.execute_reply": "2022-05-11T14:39:45.708972Z"
    }
   },
   "outputs": [
    {
     "data": {
      "text/plain": [
       "('{\"id\": 0, \"name\": \"Charlie\", \"transactions\": [{\"transaction-id\": 1237, \"amount\": 146}, {\"transaction-id\": 1441, \"amount\": 149}, {\"transaction-id\": 1552, \"amount\": 158}, {\"transaction-id\": 1807, \"amount\": 74}, {\"transaction-id\": 2033, \"amount\": 122}, {\"transaction-id\": 2385, \"amount\": 117}, {\"transaction-id\": 3218, \"amount\": 108}, {\"transaction-id\": 3245, \"amount\": 119}, {\"transaction-id\": 4202, \"amount\": 121}, {\"transaction-id\": 4377, \"amount\": 118}, {\"transaction-id\": 4463, \"amount\": 115}, {\"transaction-id\": 4685, \"amount\": 112}, {\"transaction-id\": 4734, \"amount\": 115}, {\"transaction-id\": 4905, \"amount\": 139}, {\"transaction-id\": 6882, \"amount\": 154}, {\"transaction-id\": 7970, \"amount\": 131}, {\"transaction-id\": 8646, \"amount\": 147}, {\"transaction-id\": 8715, \"amount\": 122}, {\"transaction-id\": 9010, \"amount\": 117}, {\"transaction-id\": 9241, \"amount\": 135}]}\\n',\n",
       " '{\"id\": 2, \"name\": \"Quinn\", \"transactions\": [{\"transaction-id\": 436, \"amount\": 1588}, {\"transaction-id\": 980, \"amount\": 1613}, {\"transaction-id\": 1201, \"amount\": 1497}, {\"transaction-id\": 1408, \"amount\": 1374}, {\"transaction-id\": 1689, \"amount\": 1587}, {\"transaction-id\": 2071, \"amount\": 1474}, {\"transaction-id\": 2296, \"amount\": 1505}, {\"transaction-id\": 2988, \"amount\": 1591}, {\"transaction-id\": 3298, \"amount\": 1392}, {\"transaction-id\": 3512, \"amount\": 1571}, {\"transaction-id\": 3815, \"amount\": 1499}, {\"transaction-id\": 3947, \"amount\": 1594}, {\"transaction-id\": 3979, \"amount\": 1453}, {\"transaction-id\": 4102, \"amount\": 1270}, {\"transaction-id\": 4177, \"amount\": 1467}, {\"transaction-id\": 5078, \"amount\": 1498}, {\"transaction-id\": 5193, \"amount\": 1524}, {\"transaction-id\": 5571, \"amount\": 1447}, {\"transaction-id\": 6024, \"amount\": 1399}, {\"transaction-id\": 6461, \"amount\": 1280}, {\"transaction-id\": 6588, \"amount\": 1455}, {\"transaction-id\": 7132, \"amount\": 1415}, {\"transaction-id\": 7187, \"amount\": 1511}, {\"transaction-id\": 8040, \"amount\": 1458}, {\"transaction-id\": 8500, \"amount\": 1461}, {\"transaction-id\": 9247, \"amount\": 1423}]}\\n',\n",
       " '{\"id\": 3, \"name\": \"Jerry\", \"transactions\": [{\"transaction-id\": 49, \"amount\": 204}, {\"transaction-id\": 938, \"amount\": 193}, {\"transaction-id\": 1043, \"amount\": 190}, {\"transaction-id\": 1406, \"amount\": 202}, {\"transaction-id\": 1462, \"amount\": 214}, {\"transaction-id\": 2094, \"amount\": 204}, {\"transaction-id\": 2262, \"amount\": 181}, {\"transaction-id\": 2688, \"amount\": 183}, {\"transaction-id\": 2737, \"amount\": 174}, {\"transaction-id\": 3264, \"amount\": 171}, {\"transaction-id\": 3313, \"amount\": 181}, {\"transaction-id\": 3544, \"amount\": 212}, {\"transaction-id\": 3894, \"amount\": 207}, {\"transaction-id\": 4401, \"amount\": 210}, {\"transaction-id\": 4700, \"amount\": 202}, {\"transaction-id\": 4725, \"amount\": 224}, {\"transaction-id\": 4782, \"amount\": 191}, {\"transaction-id\": 5481, \"amount\": 180}, {\"transaction-id\": 5483, \"amount\": 209}, {\"transaction-id\": 5551, \"amount\": 212}, {\"transaction-id\": 5821, \"amount\": 208}, {\"transaction-id\": 6389, \"amount\": 189}, {\"transaction-id\": 6537, \"amount\": 163}, {\"transaction-id\": 6637, \"amount\": 159}, {\"transaction-id\": 6648, \"amount\": 208}, {\"transaction-id\": 6939, \"amount\": 228}, {\"transaction-id\": 7075, \"amount\": 200}, {\"transaction-id\": 8286, \"amount\": 165}, {\"transaction-id\": 8361, \"amount\": 189}, {\"transaction-id\": 9289, \"amount\": 191}]}\\n')"
      ]
     },
     "execution_count": 9,
     "metadata": {},
     "output_type": "execute_result"
    }
   ],
   "source": [
    "filename = os.path.join('data', 'accounts.*.json.gz')\n",
    "lines = db.read_text(filename)\n",
    "lines.take(3)"
   ]
  },
  {
   "cell_type": "markdown",
   "metadata": {},
   "source": [
    "Our data comes out of the file as lines of text. Notice that file decompression happened automatically. We can make this data look more reasonable by mapping the `json.loads` function onto our bag."
   ]
  },
  {
   "cell_type": "code",
   "execution_count": 10,
   "metadata": {
    "execution": {
     "iopub.execute_input": "2022-05-11T14:39:45.713198Z",
     "iopub.status.busy": "2022-05-11T14:39:45.712822Z",
     "iopub.status.idle": "2022-05-11T14:39:45.748003Z",
     "shell.execute_reply": "2022-05-11T14:39:45.747196Z"
    }
   },
   "outputs": [
    {
     "data": {
      "text/plain": [
       "({'id': 0,\n",
       "  'name': 'Charlie',\n",
       "  'transactions': [{'transaction-id': 1237, 'amount': 146},\n",
       "   {'transaction-id': 1441, 'amount': 149},\n",
       "   {'transaction-id': 1552, 'amount': 158},\n",
       "   {'transaction-id': 1807, 'amount': 74},\n",
       "   {'transaction-id': 2033, 'amount': 122},\n",
       "   {'transaction-id': 2385, 'amount': 117},\n",
       "   {'transaction-id': 3218, 'amount': 108},\n",
       "   {'transaction-id': 3245, 'amount': 119},\n",
       "   {'transaction-id': 4202, 'amount': 121},\n",
       "   {'transaction-id': 4377, 'amount': 118},\n",
       "   {'transaction-id': 4463, 'amount': 115},\n",
       "   {'transaction-id': 4685, 'amount': 112},\n",
       "   {'transaction-id': 4734, 'amount': 115},\n",
       "   {'transaction-id': 4905, 'amount': 139},\n",
       "   {'transaction-id': 6882, 'amount': 154},\n",
       "   {'transaction-id': 7970, 'amount': 131},\n",
       "   {'transaction-id': 8646, 'amount': 147},\n",
       "   {'transaction-id': 8715, 'amount': 122},\n",
       "   {'transaction-id': 9010, 'amount': 117},\n",
       "   {'transaction-id': 9241, 'amount': 135}]},\n",
       " {'id': 2,\n",
       "  'name': 'Quinn',\n",
       "  'transactions': [{'transaction-id': 436, 'amount': 1588},\n",
       "   {'transaction-id': 980, 'amount': 1613},\n",
       "   {'transaction-id': 1201, 'amount': 1497},\n",
       "   {'transaction-id': 1408, 'amount': 1374},\n",
       "   {'transaction-id': 1689, 'amount': 1587},\n",
       "   {'transaction-id': 2071, 'amount': 1474},\n",
       "   {'transaction-id': 2296, 'amount': 1505},\n",
       "   {'transaction-id': 2988, 'amount': 1591},\n",
       "   {'transaction-id': 3298, 'amount': 1392},\n",
       "   {'transaction-id': 3512, 'amount': 1571},\n",
       "   {'transaction-id': 3815, 'amount': 1499},\n",
       "   {'transaction-id': 3947, 'amount': 1594},\n",
       "   {'transaction-id': 3979, 'amount': 1453},\n",
       "   {'transaction-id': 4102, 'amount': 1270},\n",
       "   {'transaction-id': 4177, 'amount': 1467},\n",
       "   {'transaction-id': 5078, 'amount': 1498},\n",
       "   {'transaction-id': 5193, 'amount': 1524},\n",
       "   {'transaction-id': 5571, 'amount': 1447},\n",
       "   {'transaction-id': 6024, 'amount': 1399},\n",
       "   {'transaction-id': 6461, 'amount': 1280},\n",
       "   {'transaction-id': 6588, 'amount': 1455},\n",
       "   {'transaction-id': 7132, 'amount': 1415},\n",
       "   {'transaction-id': 7187, 'amount': 1511},\n",
       "   {'transaction-id': 8040, 'amount': 1458},\n",
       "   {'transaction-id': 8500, 'amount': 1461},\n",
       "   {'transaction-id': 9247, 'amount': 1423}]},\n",
       " {'id': 3,\n",
       "  'name': 'Jerry',\n",
       "  'transactions': [{'transaction-id': 49, 'amount': 204},\n",
       "   {'transaction-id': 938, 'amount': 193},\n",
       "   {'transaction-id': 1043, 'amount': 190},\n",
       "   {'transaction-id': 1406, 'amount': 202},\n",
       "   {'transaction-id': 1462, 'amount': 214},\n",
       "   {'transaction-id': 2094, 'amount': 204},\n",
       "   {'transaction-id': 2262, 'amount': 181},\n",
       "   {'transaction-id': 2688, 'amount': 183},\n",
       "   {'transaction-id': 2737, 'amount': 174},\n",
       "   {'transaction-id': 3264, 'amount': 171},\n",
       "   {'transaction-id': 3313, 'amount': 181},\n",
       "   {'transaction-id': 3544, 'amount': 212},\n",
       "   {'transaction-id': 3894, 'amount': 207},\n",
       "   {'transaction-id': 4401, 'amount': 210},\n",
       "   {'transaction-id': 4700, 'amount': 202},\n",
       "   {'transaction-id': 4725, 'amount': 224},\n",
       "   {'transaction-id': 4782, 'amount': 191},\n",
       "   {'transaction-id': 5481, 'amount': 180},\n",
       "   {'transaction-id': 5483, 'amount': 209},\n",
       "   {'transaction-id': 5551, 'amount': 212},\n",
       "   {'transaction-id': 5821, 'amount': 208},\n",
       "   {'transaction-id': 6389, 'amount': 189},\n",
       "   {'transaction-id': 6537, 'amount': 163},\n",
       "   {'transaction-id': 6637, 'amount': 159},\n",
       "   {'transaction-id': 6648, 'amount': 208},\n",
       "   {'transaction-id': 6939, 'amount': 228},\n",
       "   {'transaction-id': 7075, 'amount': 200},\n",
       "   {'transaction-id': 8286, 'amount': 165},\n",
       "   {'transaction-id': 8361, 'amount': 189},\n",
       "   {'transaction-id': 9289, 'amount': 191}]})"
      ]
     },
     "execution_count": 10,
     "metadata": {},
     "output_type": "execute_result"
    }
   ],
   "source": [
    "import json\n",
    "js = lines.map(json.loads)\n",
    "# take: inspect first few elements\n",
    "js.take(3)"
   ]
  },
  {
   "cell_type": "markdown",
   "metadata": {},
   "source": [
    "### Basic Queries"
   ]
  },
  {
   "cell_type": "markdown",
   "metadata": {},
   "source": [
    "Once we parse our JSON data into proper Python objects (`dict`s, `list`s, etc.) we can perform more interesting queries by creating small Python functions to run on our data."
   ]
  },
  {
   "cell_type": "code",
   "execution_count": 11,
   "metadata": {
    "execution": {
     "iopub.execute_input": "2022-05-11T14:39:45.751706Z",
     "iopub.status.busy": "2022-05-11T14:39:45.751398Z",
     "iopub.status.idle": "2022-05-11T14:39:45.884984Z",
     "shell.execute_reply": "2022-05-11T14:39:45.884276Z"
    }
   },
   "outputs": [
    {
     "data": {
      "text/plain": [
       "({'id': 34,\n",
       "  'name': 'Alice',\n",
       "  'transactions': [{'transaction-id': 2101, 'amount': 216},\n",
       "   {'transaction-id': 2644, 'amount': 162},\n",
       "   {'transaction-id': 2869, 'amount': 147},\n",
       "   {'transaction-id': 5241, 'amount': 133},\n",
       "   {'transaction-id': 8324, 'amount': 152}]},\n",
       " {'id': 93,\n",
       "  'name': 'Alice',\n",
       "  'transactions': [{'transaction-id': 650, 'amount': -815},\n",
       "   {'transaction-id': 1378, 'amount': -995},\n",
       "   {'transaction-id': 1831, 'amount': -988},\n",
       "   {'transaction-id': 2706, 'amount': -835},\n",
       "   {'transaction-id': 3073, 'amount': -624},\n",
       "   {'transaction-id': 3243, 'amount': -1216},\n",
       "   {'transaction-id': 4532, 'amount': -1072},\n",
       "   {'transaction-id': 4741, 'amount': -638},\n",
       "   {'transaction-id': 5048, 'amount': -1077},\n",
       "   {'transaction-id': 5333, 'amount': -625},\n",
       "   {'transaction-id': 5720, 'amount': -340},\n",
       "   {'transaction-id': 6552, 'amount': -1056},\n",
       "   {'transaction-id': 8713, 'amount': -790},\n",
       "   {'transaction-id': 8891, 'amount': -599},\n",
       "   {'transaction-id': 9198, 'amount': -717},\n",
       "   {'transaction-id': 9376, 'amount': -870},\n",
       "   {'transaction-id': 9835, 'amount': -1125},\n",
       "   {'transaction-id': 9982, 'amount': -1030}]})"
      ]
     },
     "execution_count": 11,
     "metadata": {},
     "output_type": "execute_result"
    }
   ],
   "source": [
    "# filter: keep only some elements of the sequence\n",
    "js.filter(lambda record: record['name'] == 'Alice').take(5)"
   ]
  },
  {
   "cell_type": "code",
   "execution_count": 12,
   "metadata": {
    "execution": {
     "iopub.execute_input": "2022-05-11T14:39:45.889042Z",
     "iopub.status.busy": "2022-05-11T14:39:45.888631Z",
     "iopub.status.idle": "2022-05-11T14:39:45.927989Z",
     "shell.execute_reply": "2022-05-11T14:39:45.927093Z"
    }
   },
   "outputs": [
    {
     "data": {
      "text/plain": [
       "({'name': 'Alice', 'count': 5}, {'name': 'Alice', 'count': 18})"
      ]
     },
     "execution_count": 12,
     "metadata": {},
     "output_type": "execute_result"
    }
   ],
   "source": [
    "def count_transactions(d):\n",
    "    return {'name': d['name'], 'count': len(d['transactions'])}\n",
    "\n",
    "# map: apply a function to each element\n",
    "(js.filter(lambda record: record['name'] == 'Alice')\n",
    "   .map(count_transactions)\n",
    "   .take(5))"
   ]
  },
  {
   "cell_type": "code",
   "execution_count": 13,
   "metadata": {
    "execution": {
     "iopub.execute_input": "2022-05-11T14:39:45.931796Z",
     "iopub.status.busy": "2022-05-11T14:39:45.931303Z",
     "iopub.status.idle": "2022-05-11T14:39:45.964086Z",
     "shell.execute_reply": "2022-05-11T14:39:45.963335Z"
    }
   },
   "outputs": [
    {
     "data": {
      "text/plain": [
       "(5, 18)"
      ]
     },
     "execution_count": 13,
     "metadata": {},
     "output_type": "execute_result"
    }
   ],
   "source": [
    "# pluck: select a field, as from a dictionary, element[field]\n",
    "(js.filter(lambda record: record['name'] == 'Alice')\n",
    "   .map(count_transactions)\n",
    "   .pluck('count')\n",
    "   .take(5))"
   ]
  },
  {
   "cell_type": "code",
   "execution_count": 14,
   "metadata": {
    "execution": {
     "iopub.execute_input": "2022-05-11T14:39:45.968588Z",
     "iopub.status.busy": "2022-05-11T14:39:45.966840Z",
     "iopub.status.idle": "2022-05-11T14:39:46.431714Z",
     "shell.execute_reply": "2022-05-11T14:39:46.430949Z"
    }
   },
   "outputs": [
    {
     "data": {
      "text/plain": [
       "11.8989898989899"
      ]
     },
     "execution_count": 14,
     "metadata": {},
     "output_type": "execute_result"
    }
   ],
   "source": [
    "# Average number of transactions for all of the Alice entries\n",
    "(js.filter(lambda record: record['name'] == 'Alice')\n",
    "   .map(count_transactions)\n",
    "   .pluck('count')\n",
    "   .mean()\n",
    "   .compute())"
   ]
  },
  {
   "cell_type": "markdown",
   "metadata": {},
   "source": [
    "### Use `flatten` to de-nest"
   ]
  },
  {
   "cell_type": "markdown",
   "metadata": {},
   "source": [
    "In the example below we see the use of `.flatten()` to flatten results.  We compute the average amount for all transactions for all Alices."
   ]
  },
  {
   "cell_type": "code",
   "execution_count": 15,
   "metadata": {
    "execution": {
     "iopub.execute_input": "2022-05-11T14:39:46.435304Z",
     "iopub.status.busy": "2022-05-11T14:39:46.435046Z",
     "iopub.status.idle": "2022-05-11T14:39:46.471500Z",
     "shell.execute_reply": "2022-05-11T14:39:46.470556Z"
    }
   },
   "outputs": [
    {
     "data": {
      "text/plain": [
       "([{'transaction-id': 2101, 'amount': 216},\n",
       "  {'transaction-id': 2644, 'amount': 162},\n",
       "  {'transaction-id': 2869, 'amount': 147},\n",
       "  {'transaction-id': 5241, 'amount': 133},\n",
       "  {'transaction-id': 8324, 'amount': 152}],\n",
       " [{'transaction-id': 650, 'amount': -815},\n",
       "  {'transaction-id': 1378, 'amount': -995},\n",
       "  {'transaction-id': 1831, 'amount': -988},\n",
       "  {'transaction-id': 2706, 'amount': -835},\n",
       "  {'transaction-id': 3073, 'amount': -624},\n",
       "  {'transaction-id': 3243, 'amount': -1216},\n",
       "  {'transaction-id': 4532, 'amount': -1072},\n",
       "  {'transaction-id': 4741, 'amount': -638},\n",
       "  {'transaction-id': 5048, 'amount': -1077},\n",
       "  {'transaction-id': 5333, 'amount': -625},\n",
       "  {'transaction-id': 5720, 'amount': -340},\n",
       "  {'transaction-id': 6552, 'amount': -1056},\n",
       "  {'transaction-id': 8713, 'amount': -790},\n",
       "  {'transaction-id': 8891, 'amount': -599},\n",
       "  {'transaction-id': 9198, 'amount': -717},\n",
       "  {'transaction-id': 9376, 'amount': -870},\n",
       "  {'transaction-id': 9835, 'amount': -1125},\n",
       "  {'transaction-id': 9982, 'amount': -1030}])"
      ]
     },
     "execution_count": 15,
     "metadata": {},
     "output_type": "execute_result"
    }
   ],
   "source": [
    "(js.filter(lambda record: record['name'] == 'Alice')\n",
    "   .pluck('transactions')\n",
    "   .take(3))"
   ]
  },
  {
   "cell_type": "code",
   "execution_count": 16,
   "metadata": {
    "execution": {
     "iopub.execute_input": "2022-05-11T14:39:46.474736Z",
     "iopub.status.busy": "2022-05-11T14:39:46.474429Z",
     "iopub.status.idle": "2022-05-11T14:39:46.500142Z",
     "shell.execute_reply": "2022-05-11T14:39:46.499483Z"
    }
   },
   "outputs": [
    {
     "data": {
      "text/plain": [
       "({'transaction-id': 2101, 'amount': 216},\n",
       " {'transaction-id': 2644, 'amount': 162},\n",
       " {'transaction-id': 2869, 'amount': 147})"
      ]
     },
     "execution_count": 16,
     "metadata": {},
     "output_type": "execute_result"
    }
   ],
   "source": [
    "(js.filter(lambda record: record['name'] == 'Alice')\n",
    "   .pluck('transactions')\n",
    "   .flatten()\n",
    "   .take(3))"
   ]
  },
  {
   "cell_type": "code",
   "execution_count": 17,
   "metadata": {
    "execution": {
     "iopub.execute_input": "2022-05-11T14:39:46.503112Z",
     "iopub.status.busy": "2022-05-11T14:39:46.502849Z",
     "iopub.status.idle": "2022-05-11T14:39:46.528484Z",
     "shell.execute_reply": "2022-05-11T14:39:46.527741Z"
    }
   },
   "outputs": [
    {
     "data": {
      "text/plain": [
       "(216, 162, 147)"
      ]
     },
     "execution_count": 17,
     "metadata": {},
     "output_type": "execute_result"
    }
   ],
   "source": [
    "(js.filter(lambda record: record['name'] == 'Alice')\n",
    "   .pluck('transactions')\n",
    "   .flatten()\n",
    "   .pluck('amount')\n",
    "   .take(3))"
   ]
  },
  {
   "cell_type": "code",
   "execution_count": 18,
   "metadata": {
    "execution": {
     "iopub.execute_input": "2022-05-11T14:39:46.530917Z",
     "iopub.status.busy": "2022-05-11T14:39:46.530701Z",
     "iopub.status.idle": "2022-05-11T14:39:46.933326Z",
     "shell.execute_reply": "2022-05-11T14:39:46.932563Z"
    }
   },
   "outputs": [
    {
     "data": {
      "text/plain": [
       "-658.0874363327674"
      ]
     },
     "execution_count": 18,
     "metadata": {},
     "output_type": "execute_result"
    }
   ],
   "source": [
    "(js.filter(lambda record: record['name'] == 'Alice')\n",
    "   .pluck('transactions')\n",
    "   .flatten()\n",
    "   .pluck('amount')\n",
    "   .mean()\n",
    "   .compute())"
   ]
  },
  {
   "cell_type": "markdown",
   "metadata": {},
   "source": [
    "### Groupby and Foldby"
   ]
  },
  {
   "cell_type": "markdown",
   "metadata": {},
   "source": [
    "Often we want to group data by some function or key.  We can do this either with the `.groupby` method, which is straightforward but forces a full shuffle of the data (expensive) or with the harder-to-use but faster `.foldby` method, which does a streaming combined groupby and reduction.\n",
    "\n",
    "*  `groupby`:  Shuffles data so that all items with the same key are in the same key-value pair\n",
    "*  `foldby`:  Walks through the data accumulating a result per key\n",
    "\n",
    "*Note: the full groupby is particularly bad. In actual workloads you would do well to use `foldby` or switch to `DataFrame`s if possible.*"
   ]
  },
  {
   "cell_type": "markdown",
   "metadata": {},
   "source": [
    "### `groupby`"
   ]
  },
  {
   "cell_type": "markdown",
   "metadata": {},
   "source": [
    "Groupby collects items in your collection so that all items with the same value under some function are collected together into a key-value pair."
   ]
  },
  {
   "cell_type": "code",
   "execution_count": 19,
   "metadata": {
    "execution": {
     "iopub.execute_input": "2022-05-11T14:39:46.937041Z",
     "iopub.status.busy": "2022-05-11T14:39:46.936588Z",
     "iopub.status.idle": "2022-05-11T14:39:47.042284Z",
     "shell.execute_reply": "2022-05-11T14:39:47.041409Z"
    }
   },
   "outputs": [
    {
     "data": {
      "text/plain": [
       "[(7, ['Charlie']), (3, ['Bob', 'Dan']), (5, ['Alice', 'Edith', 'Frank'])]"
      ]
     },
     "execution_count": 19,
     "metadata": {},
     "output_type": "execute_result"
    }
   ],
   "source": [
    "b = db.from_sequence(['Alice', 'Bob', 'Charlie', 'Dan', 'Edith', 'Frank'])\n",
    "b.groupby(len).compute()  # names grouped by length"
   ]
  },
  {
   "cell_type": "code",
   "execution_count": 20,
   "metadata": {
    "execution": {
     "iopub.execute_input": "2022-05-11T14:39:47.045396Z",
     "iopub.status.busy": "2022-05-11T14:39:47.044942Z",
     "iopub.status.idle": "2022-05-11T14:39:47.203049Z",
     "shell.execute_reply": "2022-05-11T14:39:47.202388Z"
    }
   },
   "outputs": [
    {
     "data": {
      "text/plain": [
       "[(0, [0, 2, 4, 6, 8]), (1, [1, 3, 5, 7, 9])]"
      ]
     },
     "execution_count": 20,
     "metadata": {},
     "output_type": "execute_result"
    }
   ],
   "source": [
    "b = db.from_sequence(list(range(10)))\n",
    "b.groupby(lambda x: x % 2).compute()"
   ]
  },
  {
   "cell_type": "code",
   "execution_count": 21,
   "metadata": {
    "execution": {
     "iopub.execute_input": "2022-05-11T14:39:47.206255Z",
     "iopub.status.busy": "2022-05-11T14:39:47.205898Z",
     "iopub.status.idle": "2022-05-11T14:39:47.371038Z",
     "shell.execute_reply": "2022-05-11T14:39:47.370059Z"
    }
   },
   "outputs": [
    {
     "data": {
      "text/plain": [
       "[(0, 8), (1, 9)]"
      ]
     },
     "execution_count": 21,
     "metadata": {},
     "output_type": "execute_result"
    }
   ],
   "source": [
    "b.groupby(lambda x: x % 2).starmap(lambda k, v: (k, max(v))).compute()"
   ]
  },
  {
   "cell_type": "markdown",
   "metadata": {},
   "source": [
    "### `foldby`"
   ]
  },
  {
   "cell_type": "markdown",
   "metadata": {},
   "source": [
    "Foldby can be quite odd at first.  It is similar to the following functions from other libraries:\n",
    "\n",
    "*  [`toolz.reduceby`](http://toolz.readthedocs.io/en/latest/streaming-analytics.html#streaming-split-apply-combine)\n",
    "*  [`pyspark.RDD.combineByKey`](http://abshinn.github.io/python/apache-spark/2014/10/11/using-combinebykey-in-apache-spark/)\n",
    "\n",
    "When using `foldby` you provide \n",
    "\n",
    "1.  A key function on which to group elements\n",
    "2.  A binary operator such as you would pass to `reduce` that you use to perform reduction per each group\n",
    "3.  A combine binary operator that can combine the results of two `reduce` calls on different parts of your dataset.\n",
    "\n",
    "Your reduction must be associative.  It will happen in parallel in each of the partitions of your dataset.  Then all of these intermediate results will be combined by the `combine` binary operator."
   ]
  },
  {
   "cell_type": "code",
   "execution_count": 22,
   "metadata": {
    "execution": {
     "iopub.execute_input": "2022-05-11T14:39:47.375047Z",
     "iopub.status.busy": "2022-05-11T14:39:47.373602Z",
     "iopub.status.idle": "2022-05-11T14:39:47.424628Z",
     "shell.execute_reply": "2022-05-11T14:39:47.423681Z"
    }
   },
   "outputs": [
    {
     "data": {
      "text/plain": [
       "[(0, 8), (1, 9)]"
      ]
     },
     "execution_count": 22,
     "metadata": {},
     "output_type": "execute_result"
    }
   ],
   "source": [
    "b.foldby(lambda x: x % 2, binop=max, combine=max).compute()"
   ]
  },
  {
   "cell_type": "markdown",
   "metadata": {},
   "source": [
    "### Example with account data"
   ]
  },
  {
   "cell_type": "markdown",
   "metadata": {},
   "source": [
    "We find the number of people with the same name."
   ]
  },
  {
   "cell_type": "code",
   "execution_count": 23,
   "metadata": {
    "execution": {
     "iopub.execute_input": "2022-05-11T14:39:47.427750Z",
     "iopub.status.busy": "2022-05-11T14:39:47.427532Z",
     "iopub.status.idle": "2022-05-11T14:39:51.174264Z",
     "shell.execute_reply": "2022-05-11T14:39:51.173518Z"
    }
   },
   "outputs": [
    {
     "name": "stdout",
     "output_type": "stream",
     "text": [
      "[('Alice', 24), ('Alice', 24), ('Alice', 24), ('Alice', 27), ('Bob', 130), ('Bob', 130), ('Bob', 131), ('Bob', 151), ('Charlie', 144), ('Charlie', 145), ('Charlie', 147), ('Charlie', 170), ('Dan', 149), ('Dan', 150), ('Dan', 151), ('Dan', 177), ('Edith', 113), ('Edith', 114), ('Edith', 114), ('Edith', 133), ('Frank', 152), ('Frank', 154), ('Frank', 154), ('Frank', 180), ('George', 145), ('George', 146), ('George', 147), ('George', 168), ('Hannah', 96), ('Hannah', 96), ('Hannah', 96), ('Hannah', 112), ('Ingrid', 120), ('Ingrid', 120), ('Ingrid', 120), ('Ingrid', 140), ('Jerry', 120), ('Jerry', 140), ('Jerry', 240), ('Kevin', 124), ('Kevin', 125), ('Kevin', 130), ('Kevin', 151), ('Laura', 84), ('Laura', 84), ('Laura', 84), ('Laura', 98), ('Michael', 108), ('Michael', 108), ('Michael', 108), ('Michael', 126), ('Norbert', 108), ('Norbert', 108), ('Norbert', 108), ('Norbert', 126), ('Oliver', 96), ('Oliver', 96), ('Oliver', 96), ('Oliver', 112), ('Patricia', 72), ('Patricia', 72), ('Patricia', 156), ('Quinn', 139), ('Quinn', 140), ('Quinn', 141), ('Quinn', 160), ('Ray', 72), ('Ray', 72), ('Ray', 72), ('Ray', 84), ('Sarah', 168), ('Sarah', 168), ('Sarah', 168), ('Sarah', 196), ('Tim', 59), ('Tim', 60), ('Tim', 60), ('Tim', 69), ('Ursula', 132), ('Ursula', 132), ('Ursula', 132), ('Ursula', 154), ('Victor', 156), ('Victor', 156), ('Victor', 156), ('Victor', 182), ('Wendy', 60), ('Wendy', 60), ('Wendy', 60), ('Wendy', 70), ('Xavier', 119), ('Xavier', 120), ('Xavier', 120), ('Xavier', 140), ('Yvonne', 126), ('Yvonne', 129), ('Yvonne', 129), ('Yvonne', 153), ('Zelda', 112), ('Zelda', 113), ('Zelda', 116), ('Zelda', 136)]\n",
      "CPU times: user 925 ms, sys: 58.8 ms, total: 984 ms\n",
      "Wall time: 3.74 s\n"
     ]
    }
   ],
   "source": [
    "%%time\n",
    "# Warning, this one takes a while...\n",
    "result = js.groupby(lambda item: item['name']).starmap(lambda k, v: (k, len(v))).compute()\n",
    "print(sorted(result))"
   ]
  },
  {
   "cell_type": "code",
   "execution_count": 24,
   "metadata": {
    "execution": {
     "iopub.execute_input": "2022-05-11T14:39:51.177877Z",
     "iopub.status.busy": "2022-05-11T14:39:51.177497Z",
     "iopub.status.idle": "2022-05-11T14:39:51.746228Z",
     "shell.execute_reply": "2022-05-11T14:39:51.745485Z"
    }
   },
   "outputs": [
    {
     "name": "stdout",
     "output_type": "stream",
     "text": [
      "[('Alice', 99), ('Bob', 542), ('Charlie', 606), ('Dan', 627), ('Edith', 474), ('Frank', 640), ('George', 606), ('Hannah', 400), ('Ingrid', 500), ('Jerry', 500), ('Kevin', 530), ('Laura', 350), ('Michael', 450), ('Norbert', 450), ('Oliver', 400), ('Patricia', 300), ('Quinn', 580), ('Ray', 300), ('Sarah', 700), ('Tim', 248), ('Ursula', 550), ('Victor', 650), ('Wendy', 250), ('Xavier', 499), ('Yvonne', 537), ('Zelda', 477)]\n",
      "CPU times: user 240 ms, sys: 422 µs, total: 240 ms\n",
      "Wall time: 563 ms\n"
     ]
    }
   ],
   "source": [
    "%%time\n",
    "# This one is comparatively fast and produces the same result.\n",
    "from operator import add\n",
    "def incr(tot, _):\n",
    "    return tot + 1\n",
    "\n",
    "result = js.foldby(key='name', \n",
    "                   binop=incr, \n",
    "                   initial=0, \n",
    "                   combine=add, \n",
    "                   combine_initial=0).compute()\n",
    "print(sorted(result))"
   ]
  },
  {
   "cell_type": "markdown",
   "metadata": {},
   "source": [
    "### Exercise: compute total amount per name"
   ]
  },
  {
   "cell_type": "markdown",
   "metadata": {},
   "source": [
    "We want to groupby (or foldby) the `name` key, then add up the all of the amounts for each name.\n",
    "\n",
    "Steps\n",
    "\n",
    "1.  Create a small function that, given a dictionary like \n",
    "\n",
    "        {'name': 'Alice', 'transactions': [{'amount': 1, 'id': 123}, {'amount': 2, 'id': 456}]}\n",
    "        \n",
    "    produces the sum of the amounts, e.g. `3`\n",
    "    \n",
    "2.  Slightly change the binary operator of the `foldby` example above so that the binary operator doesn't count the number of entries, but instead accumulates the sum of the amounts."
   ]
  },
  {
   "cell_type": "code",
   "execution_count": 25,
   "metadata": {
    "execution": {
     "iopub.execute_input": "2022-05-11T14:39:51.751446Z",
     "iopub.status.busy": "2022-05-11T14:39:51.751159Z",
     "iopub.status.idle": "2022-05-11T14:39:51.754772Z",
     "shell.execute_reply": "2022-05-11T14:39:51.754166Z"
    }
   },
   "outputs": [],
   "source": [
    "# Your code here..."
   ]
  },
  {
   "cell_type": "markdown",
   "metadata": {},
   "source": [
    "## DataFrames"
   ]
  },
  {
   "cell_type": "markdown",
   "metadata": {},
   "source": [
    "For the same reasons that Pandas is often faster than pure Python, `dask.dataframe` can be faster than `dask.bag`.  We will work more with DataFrames later, but from the point of view of a Bag, it is frequently the end-point of the \"messy\" part of data ingestion—once the data can be made into a data-frame, then complex split-apply-combine logic will become much more straight-forward and efficient.\n",
    "\n",
    "You can transform a bag with a simple tuple or flat dictionary structure into a `dask.dataframe` with the `to_dataframe` method."
   ]
  },
  {
   "cell_type": "code",
   "execution_count": 26,
   "metadata": {
    "execution": {
     "iopub.execute_input": "2022-05-11T14:39:51.758091Z",
     "iopub.status.busy": "2022-05-11T14:39:51.757808Z",
     "iopub.status.idle": "2022-05-11T14:39:52.306061Z",
     "shell.execute_reply": "2022-05-11T14:39:52.305298Z"
    }
   },
   "outputs": [
    {
     "name": "stderr",
     "output_type": "stream",
     "text": [
      "/usr/share/miniconda3/envs/dask-tutorial/lib/python3.8/site-packages/dask/dataframe/backends.py:187: FutureWarning: pandas.Int64Index is deprecated and will be removed from pandas in a future version. Use pandas.Index with the appropriate dtype instead.\n",
      "  _numeric_index_types = (pd.Int64Index, pd.Float64Index, pd.UInt64Index)\n",
      "/usr/share/miniconda3/envs/dask-tutorial/lib/python3.8/site-packages/dask/dataframe/backends.py:187: FutureWarning: pandas.Float64Index is deprecated and will be removed from pandas in a future version. Use pandas.Index with the appropriate dtype instead.\n",
      "  _numeric_index_types = (pd.Int64Index, pd.Float64Index, pd.UInt64Index)\n",
      "/usr/share/miniconda3/envs/dask-tutorial/lib/python3.8/site-packages/dask/dataframe/backends.py:187: FutureWarning: pandas.UInt64Index is deprecated and will be removed from pandas in a future version. Use pandas.Index with the appropriate dtype instead.\n",
      "  _numeric_index_types = (pd.Int64Index, pd.Float64Index, pd.UInt64Index)\n"
     ]
    },
    {
     "data": {
      "text/html": [
       "<div>\n",
       "<style scoped>\n",
       "    .dataframe tbody tr th:only-of-type {\n",
       "        vertical-align: middle;\n",
       "    }\n",
       "\n",
       "    .dataframe tbody tr th {\n",
       "        vertical-align: top;\n",
       "    }\n",
       "\n",
       "    .dataframe thead th {\n",
       "        text-align: right;\n",
       "    }\n",
       "</style>\n",
       "<table border=\"1\" class=\"dataframe\">\n",
       "  <thead>\n",
       "    <tr style=\"text-align: right;\">\n",
       "      <th></th>\n",
       "      <th>id</th>\n",
       "      <th>name</th>\n",
       "      <th>transactions</th>\n",
       "    </tr>\n",
       "  </thead>\n",
       "  <tbody>\n",
       "    <tr>\n",
       "      <th>0</th>\n",
       "      <td>0</td>\n",
       "      <td>Charlie</td>\n",
       "      <td>[{'transaction-id': 1237, 'amount': 146}, {'tr...</td>\n",
       "    </tr>\n",
       "    <tr>\n",
       "      <th>1</th>\n",
       "      <td>2</td>\n",
       "      <td>Quinn</td>\n",
       "      <td>[{'transaction-id': 436, 'amount': 1588}, {'tr...</td>\n",
       "    </tr>\n",
       "    <tr>\n",
       "      <th>2</th>\n",
       "      <td>3</td>\n",
       "      <td>Jerry</td>\n",
       "      <td>[{'transaction-id': 49, 'amount': 204}, {'tran...</td>\n",
       "    </tr>\n",
       "    <tr>\n",
       "      <th>3</th>\n",
       "      <td>4</td>\n",
       "      <td>Edith</td>\n",
       "      <td>[{'transaction-id': 18, 'amount': 112}, {'tran...</td>\n",
       "    </tr>\n",
       "    <tr>\n",
       "      <th>4</th>\n",
       "      <td>5</td>\n",
       "      <td>Quinn</td>\n",
       "      <td>[{'transaction-id': 477, 'amount': 2115}, {'tr...</td>\n",
       "    </tr>\n",
       "  </tbody>\n",
       "</table>\n",
       "</div>"
      ],
      "text/plain": [
       "   id     name                                       transactions\n",
       "0   0  Charlie  [{'transaction-id': 1237, 'amount': 146}, {'tr...\n",
       "1   2    Quinn  [{'transaction-id': 436, 'amount': 1588}, {'tr...\n",
       "2   3    Jerry  [{'transaction-id': 49, 'amount': 204}, {'tran...\n",
       "3   4    Edith  [{'transaction-id': 18, 'amount': 112}, {'tran...\n",
       "4   5    Quinn  [{'transaction-id': 477, 'amount': 2115}, {'tr..."
      ]
     },
     "execution_count": 26,
     "metadata": {},
     "output_type": "execute_result"
    }
   ],
   "source": [
    "df1 = js.to_dataframe()\n",
    "df1.head()"
   ]
  },
  {
   "cell_type": "markdown",
   "metadata": {},
   "source": [
    "This now looks like a well-defined DataFrame, and we can apply Pandas-like computations to it efficiently."
   ]
  },
  {
   "cell_type": "markdown",
   "metadata": {},
   "source": [
    "Using a Dask DataFrame, how long does it take to do our prior computation of numbers of people with the same name?  It turns out that `dask.dataframe.groupby()` beats `dask.bag.groupby()` by more than an order of magnitude; but it still cannot match `dask.bag.foldby()` for this case."
   ]
  },
  {
   "cell_type": "code",
   "execution_count": 27,
   "metadata": {
    "execution": {
     "iopub.execute_input": "2022-05-11T14:39:52.309956Z",
     "iopub.status.busy": "2022-05-11T14:39:52.309508Z",
     "iopub.status.idle": "2022-05-11T14:39:53.673020Z",
     "shell.execute_reply": "2022-05-11T14:39:53.672340Z"
    }
   },
   "outputs": [
    {
     "name": "stdout",
     "output_type": "stream",
     "text": [
      "CPU times: user 227 ms, sys: 23.5 ms, total: 251 ms\n",
      "Wall time: 1.35 s\n"
     ]
    },
    {
     "data": {
      "text/plain": [
       "name\n",
       "Alice       99\n",
       "Bob        542\n",
       "Charlie    606\n",
       "Dan        627\n",
       "Edith      474\n",
       "Name: id, dtype: int64"
      ]
     },
     "execution_count": 27,
     "metadata": {},
     "output_type": "execute_result"
    }
   ],
   "source": [
    "%time df1.groupby('name').id.count().compute().head()"
   ]
  },
  {
   "cell_type": "markdown",
   "metadata": {},
   "source": [
    "### Denormalization"
   ]
  },
  {
   "cell_type": "markdown",
   "metadata": {},
   "source": [
    "This DataFrame format is less-than-optimal because the `transactions` column is filled with nested data so Pandas has to revert to `object` dtype, which is quite slow in Pandas.  Ideally we want to transform to a dataframe only after we have flattened our data so that each record is a single `int`, `string`, `float`, etc.."
   ]
  },
  {
   "cell_type": "code",
   "execution_count": 28,
   "metadata": {
    "execution": {
     "iopub.execute_input": "2022-05-11T14:39:53.676333Z",
     "iopub.status.busy": "2022-05-11T14:39:53.675709Z",
     "iopub.status.idle": "2022-05-11T14:39:53.706061Z",
     "shell.execute_reply": "2022-05-11T14:39:53.705128Z"
    }
   },
   "outputs": [
    {
     "data": {
      "text/plain": [
       "({'id': 0, 'name': 'Charlie', 'amount': 146, 'transaction-id': 1237},\n",
       " {'id': 0, 'name': 'Charlie', 'amount': 149, 'transaction-id': 1441},\n",
       " {'id': 0, 'name': 'Charlie', 'amount': 158, 'transaction-id': 1552})"
      ]
     },
     "execution_count": 28,
     "metadata": {},
     "output_type": "execute_result"
    }
   ],
   "source": [
    "def denormalize(record):\n",
    "    # returns a list for each person, one item per transaction\n",
    "    return [{'id': record['id'], \n",
    "             'name': record['name'], \n",
    "             'amount': transaction['amount'], \n",
    "             'transaction-id': transaction['transaction-id']}\n",
    "            for transaction in record['transactions']]\n",
    "\n",
    "transactions = js.map(denormalize).flatten()\n",
    "transactions.take(3)"
   ]
  },
  {
   "cell_type": "code",
   "execution_count": 29,
   "metadata": {
    "execution": {
     "iopub.execute_input": "2022-05-11T14:39:53.710006Z",
     "iopub.status.busy": "2022-05-11T14:39:53.709651Z",
     "iopub.status.idle": "2022-05-11T14:39:53.790945Z",
     "shell.execute_reply": "2022-05-11T14:39:53.790256Z"
    }
   },
   "outputs": [
    {
     "data": {
      "text/html": [
       "<div>\n",
       "<style scoped>\n",
       "    .dataframe tbody tr th:only-of-type {\n",
       "        vertical-align: middle;\n",
       "    }\n",
       "\n",
       "    .dataframe tbody tr th {\n",
       "        vertical-align: top;\n",
       "    }\n",
       "\n",
       "    .dataframe thead th {\n",
       "        text-align: right;\n",
       "    }\n",
       "</style>\n",
       "<table border=\"1\" class=\"dataframe\">\n",
       "  <thead>\n",
       "    <tr style=\"text-align: right;\">\n",
       "      <th></th>\n",
       "      <th>id</th>\n",
       "      <th>name</th>\n",
       "      <th>amount</th>\n",
       "      <th>transaction-id</th>\n",
       "    </tr>\n",
       "  </thead>\n",
       "  <tbody>\n",
       "    <tr>\n",
       "      <th>0</th>\n",
       "      <td>0</td>\n",
       "      <td>Charlie</td>\n",
       "      <td>146</td>\n",
       "      <td>1237</td>\n",
       "    </tr>\n",
       "    <tr>\n",
       "      <th>1</th>\n",
       "      <td>0</td>\n",
       "      <td>Charlie</td>\n",
       "      <td>149</td>\n",
       "      <td>1441</td>\n",
       "    </tr>\n",
       "    <tr>\n",
       "      <th>2</th>\n",
       "      <td>0</td>\n",
       "      <td>Charlie</td>\n",
       "      <td>158</td>\n",
       "      <td>1552</td>\n",
       "    </tr>\n",
       "    <tr>\n",
       "      <th>3</th>\n",
       "      <td>0</td>\n",
       "      <td>Charlie</td>\n",
       "      <td>74</td>\n",
       "      <td>1807</td>\n",
       "    </tr>\n",
       "    <tr>\n",
       "      <th>4</th>\n",
       "      <td>0</td>\n",
       "      <td>Charlie</td>\n",
       "      <td>122</td>\n",
       "      <td>2033</td>\n",
       "    </tr>\n",
       "  </tbody>\n",
       "</table>\n",
       "</div>"
      ],
      "text/plain": [
       "   id     name  amount  transaction-id\n",
       "0   0  Charlie     146            1237\n",
       "1   0  Charlie     149            1441\n",
       "2   0  Charlie     158            1552\n",
       "3   0  Charlie      74            1807\n",
       "4   0  Charlie     122            2033"
      ]
     },
     "execution_count": 29,
     "metadata": {},
     "output_type": "execute_result"
    }
   ],
   "source": [
    "df = transactions.to_dataframe()\n",
    "df.head()"
   ]
  },
  {
   "cell_type": "code",
   "execution_count": 30,
   "metadata": {
    "execution": {
     "iopub.execute_input": "2022-05-11T14:39:53.794038Z",
     "iopub.status.busy": "2022-05-11T14:39:53.793692Z",
     "iopub.status.idle": "2022-05-11T14:39:54.857119Z",
     "shell.execute_reply": "2022-05-11T14:39:54.853836Z"
    }
   },
   "outputs": [
    {
     "name": "stdout",
     "output_type": "stream",
     "text": [
      "CPU times: user 182 ms, sys: 18 ms, total: 200 ms\n",
      "Wall time: 1.05 s\n"
     ]
    },
    {
     "data": {
      "text/plain": [
       "name\n",
       "Alice        1178\n",
       "Bob         22735\n",
       "Charlie     15397\n",
       "Dan         24520\n",
       "Edith       28264\n",
       "Frank       22556\n",
       "George      26056\n",
       "Hannah      14088\n",
       "Ingrid      17632\n",
       "Jerry       14528\n",
       "Kevin       33514\n",
       "Laura       23944\n",
       "Michael     18873\n",
       "Norbert     20064\n",
       "Oliver      14799\n",
       "Patricia     8288\n",
       "Quinn       14918\n",
       "Ray         10808\n",
       "Sarah       34374\n",
       "Tim         10035\n",
       "Ursula      19171\n",
       "Victor      34675\n",
       "Wendy        6508\n",
       "Xavier      25908\n",
       "Yvonne      17827\n",
       "Zelda       19340\n",
       "Name: transaction-id, dtype: int64"
      ]
     },
     "execution_count": 30,
     "metadata": {},
     "output_type": "execute_result"
    }
   ],
   "source": [
    "%%time\n",
    "# number of transactions per name\n",
    "# note that the time here includes the data load and ingestion\n",
    "df.groupby('name')['transaction-id'].count().compute()"
   ]
  },
  {
   "cell_type": "markdown",
   "metadata": {},
   "source": [
    "## Limitations"
   ]
  },
  {
   "cell_type": "markdown",
   "metadata": {},
   "source": [
    "Bags provide very general computation (any Python function.)  This generality\n",
    "comes at cost.  Bags have the following known limitations\n",
    "\n",
    "1.  Bag operations tend to be slower than array/dataframe computations in the\n",
    "    same way that Python tends to be slower than NumPy/Pandas\n",
    "2.  ``Bag.groupby`` is slow.  You should try to use ``Bag.foldby`` if possible.\n",
    "    Using ``Bag.foldby`` requires more thought. Even better, consider creating\n",
    "    a normalised dataframe."
   ]
  },
  {
   "cell_type": "markdown",
   "metadata": {},
   "source": [
    "## Learn More\n",
    "\n",
    "* [Bag documentation](https://docs.dask.org/en/latest/bag.html)\n",
    "* [Bag screencast](https://youtu.be/-qIiJ1XtSv0)\n",
    "* [Bag API](https://docs.dask.org/en/latest/bag-api.html)\n",
    "* [Bag examples](https://examples.dask.org/bag.html)"
   ]
  },
  {
   "cell_type": "markdown",
   "metadata": {},
   "source": [
    "## Shutdown"
   ]
  },
  {
   "cell_type": "code",
   "execution_count": 31,
   "metadata": {
    "execution": {
     "iopub.execute_input": "2022-05-11T14:39:54.861529Z",
     "iopub.status.busy": "2022-05-11T14:39:54.861184Z",
     "iopub.status.idle": "2022-05-11T14:39:55.436997Z",
     "shell.execute_reply": "2022-05-11T14:39:55.436203Z"
    }
   },
   "outputs": [
    {
     "name": "stderr",
     "output_type": "stream",
     "text": [
      "/usr/share/miniconda3/envs/dask-tutorial/lib/python3.8/site-packages/dask/bag/core.py:2443: UserWarning: Insufficient elements for `take`. 5 elements requested, only 2 elements available. Try passing larger `npartitions` to `take`.\n",
      "  warnings.warn(\n",
      "/usr/share/miniconda3/envs/dask-tutorial/lib/python3.8/site-packages/dask/dataframe/backends.py:187: FutureWarning: pandas.Int64Index is deprecated and will be removed from pandas in a future version. Use pandas.Index with the appropriate dtype instead.\n",
      "  _numeric_index_types = (pd.Int64Index, pd.Float64Index, pd.UInt64Index)\n",
      "/usr/share/miniconda3/envs/dask-tutorial/lib/python3.8/site-packages/dask/dataframe/backends.py:187: FutureWarning: pandas.Float64Index is deprecated and will be removed from pandas in a future version. Use pandas.Index with the appropriate dtype instead.\n",
      "  _numeric_index_types = (pd.Int64Index, pd.Float64Index, pd.UInt64Index)\n",
      "/usr/share/miniconda3/envs/dask-tutorial/lib/python3.8/site-packages/dask/dataframe/backends.py:187: FutureWarning: pandas.UInt64Index is deprecated and will be removed from pandas in a future version. Use pandas.Index with the appropriate dtype instead.\n",
      "  _numeric_index_types = (pd.Int64Index, pd.Float64Index, pd.UInt64Index)\n",
      "/usr/share/miniconda3/envs/dask-tutorial/lib/python3.8/site-packages/dask/bag/core.py:2443: UserWarning: Insufficient elements for `take`. 5 elements requested, only 2 elements available. Try passing larger `npartitions` to `take`.\n",
      "  warnings.warn(\n",
      "/usr/share/miniconda3/envs/dask-tutorial/lib/python3.8/site-packages/dask/dataframe/backends.py:187: FutureWarning: pandas.Int64Index is deprecated and will be removed from pandas in a future version. Use pandas.Index with the appropriate dtype instead.\n",
      "  _numeric_index_types = (pd.Int64Index, pd.Float64Index, pd.UInt64Index)\n",
      "/usr/share/miniconda3/envs/dask-tutorial/lib/python3.8/site-packages/dask/dataframe/backends.py:187: FutureWarning: pandas.Float64Index is deprecated and will be removed from pandas in a future version. Use pandas.Index with the appropriate dtype instead.\n",
      "  _numeric_index_types = (pd.Int64Index, pd.Float64Index, pd.UInt64Index)\n",
      "/usr/share/miniconda3/envs/dask-tutorial/lib/python3.8/site-packages/dask/dataframe/backends.py:187: FutureWarning: pandas.UInt64Index is deprecated and will be removed from pandas in a future version. Use pandas.Index with the appropriate dtype instead.\n",
      "  _numeric_index_types = (pd.Int64Index, pd.Float64Index, pd.UInt64Index)\n",
      "/usr/share/miniconda3/envs/dask-tutorial/lib/python3.8/site-packages/dask/dataframe/backends.py:187: FutureWarning: pandas.Int64Index is deprecated and will be removed from pandas in a future version. Use pandas.Index with the appropriate dtype instead.\n",
      "  _numeric_index_types = (pd.Int64Index, pd.Float64Index, pd.UInt64Index)\n",
      "/usr/share/miniconda3/envs/dask-tutorial/lib/python3.8/site-packages/dask/dataframe/backends.py:187: FutureWarning: pandas.Float64Index is deprecated and will be removed from pandas in a future version. Use pandas.Index with the appropriate dtype instead.\n",
      "  _numeric_index_types = (pd.Int64Index, pd.Float64Index, pd.UInt64Index)\n",
      "/usr/share/miniconda3/envs/dask-tutorial/lib/python3.8/site-packages/dask/dataframe/backends.py:187: FutureWarning: pandas.UInt64Index is deprecated and will be removed from pandas in a future version. Use pandas.Index with the appropriate dtype instead.\n",
      "  _numeric_index_types = (pd.Int64Index, pd.Float64Index, pd.UInt64Index)\n",
      "/usr/share/miniconda3/envs/dask-tutorial/lib/python3.8/site-packages/dask/bag/core.py:2443: UserWarning: Insufficient elements for `take`. 3 elements requested, only 2 elements available. Try passing larger `npartitions` to `take`.\n",
      "  warnings.warn(\n",
      "/usr/share/miniconda3/envs/dask-tutorial/lib/python3.8/site-packages/dask/dataframe/backends.py:187: FutureWarning: pandas.Int64Index is deprecated and will be removed from pandas in a future version. Use pandas.Index with the appropriate dtype instead.\n",
      "  _numeric_index_types = (pd.Int64Index, pd.Float64Index, pd.UInt64Index)\n",
      "/usr/share/miniconda3/envs/dask-tutorial/lib/python3.8/site-packages/dask/dataframe/backends.py:187: FutureWarning: pandas.Float64Index is deprecated and will be removed from pandas in a future version. Use pandas.Index with the appropriate dtype instead.\n",
      "  _numeric_index_types = (pd.Int64Index, pd.Float64Index, pd.UInt64Index)\n",
      "/usr/share/miniconda3/envs/dask-tutorial/lib/python3.8/site-packages/dask/dataframe/backends.py:187: FutureWarning: pandas.UInt64Index is deprecated and will be removed from pandas in a future version. Use pandas.Index with the appropriate dtype instead.\n",
      "  _numeric_index_types = (pd.Int64Index, pd.Float64Index, pd.UInt64Index)\n"
     ]
    }
   ],
   "source": [
    "client.shutdown()"
   ]
  }
 ],
 "metadata": {
  "anaconda-cloud": {},
  "kernelspec": {
   "display_name": "Python 3",
   "language": "python",
   "name": "python3"
  },
  "language_info": {
   "codemirror_mode": {
    "name": "ipython",
    "version": 3
   },
   "file_extension": ".py",
   "mimetype": "text/x-python",
   "name": "python",
   "nbconvert_exporter": "python",
   "pygments_lexer": "ipython3",
   "version": "3.8.13"
  }
 },
 "nbformat": 4,
 "nbformat_minor": 4
}
