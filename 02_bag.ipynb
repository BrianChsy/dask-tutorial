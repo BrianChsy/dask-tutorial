{
 "cells": [
  {
   "cell_type": "markdown",
   "metadata": {},
   "source": [
    "<img src=\"images/dask_horizontal.svg\" align=\"right\" width=\"30%\">"
   ]
  },
  {
   "cell_type": "markdown",
   "metadata": {},
   "source": [
    "# Bag: Parallel Lists for semi-structured data"
   ]
  },
  {
   "cell_type": "markdown",
   "metadata": {},
   "source": [
    "Dask-bag excels in processing data that can be represented as a sequence of arbitrary inputs. We'll refer to this as \"messy\" data, because it can contain complex nested structures, missing fields, mixtures of data types, etc. The *functional* programming style fits very nicely with standard Python iteration, such as can be found in the `itertools` module.\n",
    "\n",
    "Messy data is often encountered at the beginning of data processing pipelines when large volumes of raw data are first consumed. The initial set of data might be JSON, CSV, XML, or any other format that does not enforce strict structure and datatypes.\n",
    "For this reason, the initial data massaging and processing is often done with Python `list`s, `dict`s, and `set`s.\n",
    "\n",
    "These core data structures are optimized for general-purpose storage and processing.  Adding streaming computation with iterators/generator expressions or libraries like `itertools` or [`toolz`](https://toolz.readthedocs.io/en/latest/) let us process large volumes in a small space.  If we combine this with parallel processing then we can churn through a fair amount of data.\n",
    "\n",
    "Dask.bag is a high-level Dask collection to automate common workloads of this form.  In a nutshell\n",
    "\n",
    "    dask.bag = map, filter, toolz + parallel execution\n",
    "    \n",
    "**Related Documentation**\n",
    "\n",
    "* [Bag documentation](https://docs.dask.org/en/latest/bag.html)\n",
    "* [Bag screencast](https://youtu.be/-qIiJ1XtSv0)\n",
    "* [Bag API](https://docs.dask.org/en/latest/bag-api.html)\n",
    "* [Bag examples](https://examples.dask.org/bag.html)"
   ]
  },
  {
   "cell_type": "markdown",
   "metadata": {},
   "source": [
    "## Create data"
   ]
  },
  {
   "cell_type": "code",
   "execution_count": 1,
   "metadata": {
    "execution": {
     "iopub.execute_input": "2022-05-11T14:35:41.667947Z",
     "iopub.status.busy": "2022-05-11T14:35:41.667628Z",
     "iopub.status.idle": "2022-05-11T14:35:42.215631Z",
     "shell.execute_reply": "2022-05-11T14:35:42.215099Z"
    }
   },
   "outputs": [],
   "source": [
    "%run prep.py -d accounts"
   ]
  },
  {
   "cell_type": "markdown",
   "metadata": {},
   "source": [
    "## Setup"
   ]
  },
  {
   "cell_type": "markdown",
   "metadata": {},
   "source": [
    "Again, we'll use the distributed scheduler. Schedulers will be explained in depth [later](05_distributed.ipynb)."
   ]
  },
  {
   "cell_type": "code",
   "execution_count": 2,
   "metadata": {
    "execution": {
     "iopub.execute_input": "2022-05-11T14:35:42.218777Z",
     "iopub.status.busy": "2022-05-11T14:35:42.218205Z",
     "iopub.status.idle": "2022-05-11T14:35:44.205286Z",
     "shell.execute_reply": "2022-05-11T14:35:44.204431Z"
    }
   },
   "outputs": [],
   "source": [
    "from dask.distributed import Client\n",
    "\n",
    "client = Client(n_workers=4)"
   ]
  },
  {
   "cell_type": "markdown",
   "metadata": {},
   "source": [
    "## Creation"
   ]
  },
  {
   "cell_type": "markdown",
   "metadata": {},
   "source": [
    "You can create a `Bag` from a Python sequence, from files, from data on S3, etc.\n",
    "We demonstrate using `.take()` to show elements of the data. (Doing `.take(1)` results in a tuple with one element)\n",
    "\n",
    "Note that the data are partitioned into blocks, and there are many items per block. In the first example, the two partitions contain five elements each, and in the following two, each file is partitioned into one or more bytes blocks."
   ]
  },
  {
   "cell_type": "code",
   "execution_count": 3,
   "metadata": {
    "execution": {
     "iopub.execute_input": "2022-05-11T14:35:44.209203Z",
     "iopub.status.busy": "2022-05-11T14:35:44.208677Z",
     "iopub.status.idle": "2022-05-11T14:35:44.488021Z",
     "shell.execute_reply": "2022-05-11T14:35:44.487479Z"
    }
   },
   "outputs": [
    {
     "data": {
      "text/plain": [
       "(1, 2, 3)"
      ]
     },
     "execution_count": 3,
     "metadata": {},
     "output_type": "execute_result"
    }
   ],
   "source": [
    "# each element is an integer\n",
    "import dask.bag as db\n",
    "b = db.from_sequence([1, 2, 3, 4, 5, 6, 7, 8, 9, 10], npartitions=2)\n",
    "b.take(3)"
   ]
  },
  {
   "cell_type": "code",
   "execution_count": 4,
   "metadata": {
    "execution": {
     "iopub.execute_input": "2022-05-11T14:35:44.491183Z",
     "iopub.status.busy": "2022-05-11T14:35:44.490940Z",
     "iopub.status.idle": "2022-05-11T14:35:44.577007Z",
     "shell.execute_reply": "2022-05-11T14:35:44.576511Z"
    }
   },
   "outputs": [
    {
     "data": {
      "text/plain": [
       "('{\"id\": 0, \"name\": \"Ingrid\", \"transactions\": [{\"transaction-id\": 381, \"amount\": 950}, {\"transaction-id\": 471, \"amount\": 940}, {\"transaction-id\": 2194, \"amount\": 865}, {\"transaction-id\": 2306, \"amount\": 916}, {\"transaction-id\": 2361, \"amount\": 880}, {\"transaction-id\": 2863, \"amount\": 873}, {\"transaction-id\": 3356, \"amount\": 866}, {\"transaction-id\": 3711, \"amount\": 952}, {\"transaction-id\": 4372, \"amount\": 923}, {\"transaction-id\": 4375, \"amount\": 858}, {\"transaction-id\": 4650, \"amount\": 940}, {\"transaction-id\": 5597, \"amount\": 897}, {\"transaction-id\": 5697, \"amount\": 922}, {\"transaction-id\": 8245, \"amount\": 921}, {\"transaction-id\": 8332, \"amount\": 883}]}\\n',)"
      ]
     },
     "execution_count": 4,
     "metadata": {},
     "output_type": "execute_result"
    }
   ],
   "source": [
    "# each element is a text file, where each line is a JSON object\n",
    "# note that the compression is handled automatically\n",
    "import os\n",
    "b = db.read_text(os.path.join('data', 'accounts.*.json.gz'))\n",
    "b.take(1)"
   ]
  },
  {
   "cell_type": "code",
   "execution_count": 5,
   "metadata": {
    "execution": {
     "iopub.execute_input": "2022-05-11T14:35:44.580082Z",
     "iopub.status.busy": "2022-05-11T14:35:44.579813Z",
     "iopub.status.idle": "2022-05-11T14:35:44.584565Z",
     "shell.execute_reply": "2022-05-11T14:35:44.583923Z"
    }
   },
   "outputs": [
    {
     "data": {
      "text/plain": [
       "'s3://dask-data/nyc-taxi/2015/yellow_tripdata_2015-01.csv'"
      ]
     },
     "execution_count": 5,
     "metadata": {},
     "output_type": "execute_result"
    }
   ],
   "source": [
    "# Edit sources.py to configure source locations\n",
    "import sources\n",
    "sources.bag_url"
   ]
  },
  {
   "cell_type": "code",
   "execution_count": 6,
   "metadata": {
    "execution": {
     "iopub.execute_input": "2022-05-11T14:35:44.587310Z",
     "iopub.status.busy": "2022-05-11T14:35:44.586583Z",
     "iopub.status.idle": "2022-05-11T14:35:45.358014Z",
     "shell.execute_reply": "2022-05-11T14:35:45.357384Z"
    }
   },
   "outputs": [
    {
     "data": {
      "text/plain": [
       "('VendorID,tpep_pickup_datetime,tpep_dropoff_datetime,passenger_count,trip_distance,pickup_longitude,pickup_latitude,RateCodeID,store_and_fwd_flag,dropoff_longitude,dropoff_latitude,payment_type,fare_amount,extra,mta_tax,tip_amount,tolls_amount,improvement_surcharge,total_amount\\n',)"
      ]
     },
     "execution_count": 6,
     "metadata": {},
     "output_type": "execute_result"
    }
   ],
   "source": [
    "# Requires `s3fs` library\n",
    "# each partition is a remote CSV text file\n",
    "b = db.read_text(sources.bag_url,\n",
    "                 storage_options={'anon': True})\n",
    "b.take(1)"
   ]
  },
  {
   "cell_type": "markdown",
   "metadata": {},
   "source": [
    "## Manipulation"
   ]
  },
  {
   "cell_type": "markdown",
   "metadata": {},
   "source": [
    "`Bag` objects hold the standard functional API found in projects like the Python standard library, `toolz`, or `pyspark`, including `map`, `filter`, `groupby`, etc..\n",
    "\n",
    "Operations on `Bag` objects create new bags.  Call the `.compute()` method to trigger execution, as we saw for `Delayed` objects.  "
   ]
  },
  {
   "cell_type": "code",
   "execution_count": 7,
   "metadata": {
    "execution": {
     "iopub.execute_input": "2022-05-11T14:35:45.361358Z",
     "iopub.status.busy": "2022-05-11T14:35:45.361001Z",
     "iopub.status.idle": "2022-05-11T14:35:45.368515Z",
     "shell.execute_reply": "2022-05-11T14:35:45.368018Z"
    }
   },
   "outputs": [
    {
     "data": {
      "text/plain": [
       "dask.bag<lambda, npartitions=10>"
      ]
     },
     "execution_count": 7,
     "metadata": {},
     "output_type": "execute_result"
    }
   ],
   "source": [
    "def is_even(n):\n",
    "    return n % 2 == 0\n",
    "\n",
    "b = db.from_sequence([1, 2, 3, 4, 5, 6, 7, 8, 9, 10])\n",
    "c = b.filter(is_even).map(lambda x: x ** 2)\n",
    "c"
   ]
  },
  {
   "cell_type": "code",
   "execution_count": 8,
   "metadata": {
    "execution": {
     "iopub.execute_input": "2022-05-11T14:35:45.371126Z",
     "iopub.status.busy": "2022-05-11T14:35:45.370802Z",
     "iopub.status.idle": "2022-05-11T14:35:45.481703Z",
     "shell.execute_reply": "2022-05-11T14:35:45.481114Z"
    }
   },
   "outputs": [
    {
     "data": {
      "text/plain": [
       "[4, 16, 36, 64, 100]"
      ]
     },
     "execution_count": 8,
     "metadata": {},
     "output_type": "execute_result"
    }
   ],
   "source": [
    "# blocking form: wait for completion (which is very fast in this case)\n",
    "c.compute()"
   ]
  },
  {
   "cell_type": "markdown",
   "metadata": {},
   "source": [
    "### Example: Accounts JSON data"
   ]
  },
  {
   "cell_type": "markdown",
   "metadata": {},
   "source": [
    "We've created a fake dataset of gzipped JSON data in your data directory.  This is like the example used in the `DataFrame` example we will see later, except that it has bundled up all of the entries for each individual `id` into a single record.  This is similar to data that you might collect off of a document store database or a web API.\n",
    "\n",
    "Each line is a JSON encoded dictionary with the following keys\n",
    "\n",
    "*  id: Unique identifier of the customer\n",
    "*  name: Name of the customer\n",
    "*  transactions: List of `transaction-id`, `amount` pairs, one for each transaction for the customer in that file"
   ]
  },
  {
   "cell_type": "code",
   "execution_count": 9,
   "metadata": {
    "execution": {
     "iopub.execute_input": "2022-05-11T14:35:45.484618Z",
     "iopub.status.busy": "2022-05-11T14:35:45.484270Z",
     "iopub.status.idle": "2022-05-11T14:35:45.515101Z",
     "shell.execute_reply": "2022-05-11T14:35:45.514599Z"
    }
   },
   "outputs": [
    {
     "data": {
      "text/plain": [
       "('{\"id\": 0, \"name\": \"Ingrid\", \"transactions\": [{\"transaction-id\": 381, \"amount\": 950}, {\"transaction-id\": 471, \"amount\": 940}, {\"transaction-id\": 2194, \"amount\": 865}, {\"transaction-id\": 2306, \"amount\": 916}, {\"transaction-id\": 2361, \"amount\": 880}, {\"transaction-id\": 2863, \"amount\": 873}, {\"transaction-id\": 3356, \"amount\": 866}, {\"transaction-id\": 3711, \"amount\": 952}, {\"transaction-id\": 4372, \"amount\": 923}, {\"transaction-id\": 4375, \"amount\": 858}, {\"transaction-id\": 4650, \"amount\": 940}, {\"transaction-id\": 5597, \"amount\": 897}, {\"transaction-id\": 5697, \"amount\": 922}, {\"transaction-id\": 8245, \"amount\": 921}, {\"transaction-id\": 8332, \"amount\": 883}]}\\n',\n",
       " '{\"id\": 1, \"name\": \"Sarah\", \"transactions\": [{\"transaction-id\": 201, \"amount\": 1619}, {\"transaction-id\": 625, \"amount\": 1138}, {\"transaction-id\": 1118, \"amount\": 1023}, {\"transaction-id\": 1180, \"amount\": 1100}, {\"transaction-id\": 1369, \"amount\": 1153}, {\"transaction-id\": 1551, \"amount\": 1331}, {\"transaction-id\": 1580, \"amount\": 1018}, {\"transaction-id\": 1787, \"amount\": 1598}, {\"transaction-id\": 1917, \"amount\": 1292}, {\"transaction-id\": 2292, \"amount\": 1237}, {\"transaction-id\": 2465, \"amount\": 1175}, {\"transaction-id\": 2648, \"amount\": 1130}, {\"transaction-id\": 3074, \"amount\": 1430}, {\"transaction-id\": 3688, \"amount\": 1085}, {\"transaction-id\": 3690, \"amount\": 1280}, {\"transaction-id\": 3907, \"amount\": 1424}, {\"transaction-id\": 4068, \"amount\": 1209}, {\"transaction-id\": 4072, \"amount\": 1139}, {\"transaction-id\": 4143, \"amount\": 1193}, {\"transaction-id\": 4425, \"amount\": 1572}, {\"transaction-id\": 4778, \"amount\": 1113}, {\"transaction-id\": 4781, \"amount\": 1243}, {\"transaction-id\": 4788, \"amount\": 1323}, {\"transaction-id\": 4840, \"amount\": 1384}, {\"transaction-id\": 5137, \"amount\": 1275}, {\"transaction-id\": 5438, \"amount\": 1236}, {\"transaction-id\": 5569, \"amount\": 1125}, {\"transaction-id\": 5941, \"amount\": 966}, {\"transaction-id\": 6041, \"amount\": 1053}, {\"transaction-id\": 6245, \"amount\": 1079}, {\"transaction-id\": 6396, \"amount\": 1115}, {\"transaction-id\": 6496, \"amount\": 1136}, {\"transaction-id\": 6522, \"amount\": 1164}, {\"transaction-id\": 6537, \"amount\": 1468}, {\"transaction-id\": 6957, \"amount\": 1521}, {\"transaction-id\": 7299, \"amount\": 902}, {\"transaction-id\": 7328, \"amount\": 863}, {\"transaction-id\": 7356, \"amount\": 1360}, {\"transaction-id\": 7452, \"amount\": 1202}, {\"transaction-id\": 7857, \"amount\": 1328}, {\"transaction-id\": 8741, \"amount\": 975}, {\"transaction-id\": 9306, \"amount\": 1121}, {\"transaction-id\": 9661, \"amount\": 1127}, {\"transaction-id\": 9931, \"amount\": 1018}]}\\n',\n",
       " '{\"id\": 2, \"name\": \"Victor\", \"transactions\": [{\"transaction-id\": 49, \"amount\": 1295}, {\"transaction-id\": 147, \"amount\": 1189}, {\"transaction-id\": 218, \"amount\": 1020}, {\"transaction-id\": 276, \"amount\": 1151}, {\"transaction-id\": 278, \"amount\": 1175}, {\"transaction-id\": 297, \"amount\": 1156}, {\"transaction-id\": 399, \"amount\": 1281}, {\"transaction-id\": 428, \"amount\": 1329}, {\"transaction-id\": 719, \"amount\": 1276}, {\"transaction-id\": 810, \"amount\": 1052}, {\"transaction-id\": 849, \"amount\": 1206}, {\"transaction-id\": 866, \"amount\": 1182}, {\"transaction-id\": 940, \"amount\": 1295}, {\"transaction-id\": 1039, \"amount\": 1229}, {\"transaction-id\": 1535, \"amount\": 1091}, {\"transaction-id\": 1701, \"amount\": 1222}, {\"transaction-id\": 2159, \"amount\": 1143}, {\"transaction-id\": 2175, \"amount\": 1223}, {\"transaction-id\": 2184, \"amount\": 1402}, {\"transaction-id\": 2409, \"amount\": 1179}, {\"transaction-id\": 2430, \"amount\": 1204}, {\"transaction-id\": 2625, \"amount\": 1304}, {\"transaction-id\": 2885, \"amount\": 1203}, {\"transaction-id\": 2962, \"amount\": 1160}, {\"transaction-id\": 2984, \"amount\": 1169}, {\"transaction-id\": 2992, \"amount\": 1306}, {\"transaction-id\": 3131, \"amount\": 1359}, {\"transaction-id\": 3249, \"amount\": 1068}, {\"transaction-id\": 3338, \"amount\": 1271}, {\"transaction-id\": 3424, \"amount\": 1113}, {\"transaction-id\": 3490, \"amount\": 1312}, {\"transaction-id\": 3707, \"amount\": 1188}, {\"transaction-id\": 3825, \"amount\": 1201}, {\"transaction-id\": 3970, \"amount\": 1287}, {\"transaction-id\": 4028, \"amount\": 1072}, {\"transaction-id\": 4144, \"amount\": 1074}, {\"transaction-id\": 4210, \"amount\": 1131}, {\"transaction-id\": 4401, \"amount\": 1146}, {\"transaction-id\": 4512, \"amount\": 1096}, {\"transaction-id\": 4690, \"amount\": 1248}, {\"transaction-id\": 4830, \"amount\": 1248}, {\"transaction-id\": 5086, \"amount\": 1218}, {\"transaction-id\": 5158, \"amount\": 1331}, {\"transaction-id\": 5266, \"amount\": 1270}, {\"transaction-id\": 5359, \"amount\": 1171}, {\"transaction-id\": 5526, \"amount\": 1126}, {\"transaction-id\": 5590, \"amount\": 1302}, {\"transaction-id\": 5646, \"amount\": 1041}, {\"transaction-id\": 5713, \"amount\": 1240}, {\"transaction-id\": 5952, \"amount\": 1267}, {\"transaction-id\": 5969, \"amount\": 1329}, {\"transaction-id\": 6450, \"amount\": 1317}, {\"transaction-id\": 6694, \"amount\": 1123}, {\"transaction-id\": 6814, \"amount\": 1158}, {\"transaction-id\": 6959, \"amount\": 1086}, {\"transaction-id\": 6999, \"amount\": 1254}, {\"transaction-id\": 7001, \"amount\": 1267}, {\"transaction-id\": 7282, \"amount\": 1180}, {\"transaction-id\": 7341, \"amount\": 1085}, {\"transaction-id\": 7517, \"amount\": 1200}, {\"transaction-id\": 7623, \"amount\": 1179}, {\"transaction-id\": 7754, \"amount\": 1195}, {\"transaction-id\": 7987, \"amount\": 1073}, {\"transaction-id\": 8025, \"amount\": 1061}, {\"transaction-id\": 8426, \"amount\": 1347}, {\"transaction-id\": 8450, \"amount\": 1162}, {\"transaction-id\": 8507, \"amount\": 1111}, {\"transaction-id\": 8687, \"amount\": 1300}, {\"transaction-id\": 8691, \"amount\": 1333}, {\"transaction-id\": 8749, \"amount\": 1126}, {\"transaction-id\": 8798, \"amount\": 1177}, {\"transaction-id\": 8867, \"amount\": 937}, {\"transaction-id\": 8889, \"amount\": 1390}, {\"transaction-id\": 9332, \"amount\": 1212}, {\"transaction-id\": 9350, \"amount\": 1253}, {\"transaction-id\": 9636, \"amount\": 1078}, {\"transaction-id\": 9858, \"amount\": 1289}, {\"transaction-id\": 9941, \"amount\": 1194}]}\\n')"
      ]
     },
     "execution_count": 9,
     "metadata": {},
     "output_type": "execute_result"
    }
   ],
   "source": [
    "filename = os.path.join('data', 'accounts.*.json.gz')\n",
    "lines = db.read_text(filename)\n",
    "lines.take(3)"
   ]
  },
  {
   "cell_type": "markdown",
   "metadata": {},
   "source": [
    "Our data comes out of the file as lines of text. Notice that file decompression happened automatically. We can make this data look more reasonable by mapping the `json.loads` function onto our bag."
   ]
  },
  {
   "cell_type": "code",
   "execution_count": 10,
   "metadata": {
    "execution": {
     "iopub.execute_input": "2022-05-11T14:35:45.518063Z",
     "iopub.status.busy": "2022-05-11T14:35:45.517562Z",
     "iopub.status.idle": "2022-05-11T14:35:45.548090Z",
     "shell.execute_reply": "2022-05-11T14:35:45.547590Z"
    }
   },
   "outputs": [
    {
     "data": {
      "text/plain": [
       "({'id': 0,\n",
       "  'name': 'Ingrid',\n",
       "  'transactions': [{'transaction-id': 381, 'amount': 950},\n",
       "   {'transaction-id': 471, 'amount': 940},\n",
       "   {'transaction-id': 2194, 'amount': 865},\n",
       "   {'transaction-id': 2306, 'amount': 916},\n",
       "   {'transaction-id': 2361, 'amount': 880},\n",
       "   {'transaction-id': 2863, 'amount': 873},\n",
       "   {'transaction-id': 3356, 'amount': 866},\n",
       "   {'transaction-id': 3711, 'amount': 952},\n",
       "   {'transaction-id': 4372, 'amount': 923},\n",
       "   {'transaction-id': 4375, 'amount': 858},\n",
       "   {'transaction-id': 4650, 'amount': 940},\n",
       "   {'transaction-id': 5597, 'amount': 897},\n",
       "   {'transaction-id': 5697, 'amount': 922},\n",
       "   {'transaction-id': 8245, 'amount': 921},\n",
       "   {'transaction-id': 8332, 'amount': 883}]},\n",
       " {'id': 1,\n",
       "  'name': 'Sarah',\n",
       "  'transactions': [{'transaction-id': 201, 'amount': 1619},\n",
       "   {'transaction-id': 625, 'amount': 1138},\n",
       "   {'transaction-id': 1118, 'amount': 1023},\n",
       "   {'transaction-id': 1180, 'amount': 1100},\n",
       "   {'transaction-id': 1369, 'amount': 1153},\n",
       "   {'transaction-id': 1551, 'amount': 1331},\n",
       "   {'transaction-id': 1580, 'amount': 1018},\n",
       "   {'transaction-id': 1787, 'amount': 1598},\n",
       "   {'transaction-id': 1917, 'amount': 1292},\n",
       "   {'transaction-id': 2292, 'amount': 1237},\n",
       "   {'transaction-id': 2465, 'amount': 1175},\n",
       "   {'transaction-id': 2648, 'amount': 1130},\n",
       "   {'transaction-id': 3074, 'amount': 1430},\n",
       "   {'transaction-id': 3688, 'amount': 1085},\n",
       "   {'transaction-id': 3690, 'amount': 1280},\n",
       "   {'transaction-id': 3907, 'amount': 1424},\n",
       "   {'transaction-id': 4068, 'amount': 1209},\n",
       "   {'transaction-id': 4072, 'amount': 1139},\n",
       "   {'transaction-id': 4143, 'amount': 1193},\n",
       "   {'transaction-id': 4425, 'amount': 1572},\n",
       "   {'transaction-id': 4778, 'amount': 1113},\n",
       "   {'transaction-id': 4781, 'amount': 1243},\n",
       "   {'transaction-id': 4788, 'amount': 1323},\n",
       "   {'transaction-id': 4840, 'amount': 1384},\n",
       "   {'transaction-id': 5137, 'amount': 1275},\n",
       "   {'transaction-id': 5438, 'amount': 1236},\n",
       "   {'transaction-id': 5569, 'amount': 1125},\n",
       "   {'transaction-id': 5941, 'amount': 966},\n",
       "   {'transaction-id': 6041, 'amount': 1053},\n",
       "   {'transaction-id': 6245, 'amount': 1079},\n",
       "   {'transaction-id': 6396, 'amount': 1115},\n",
       "   {'transaction-id': 6496, 'amount': 1136},\n",
       "   {'transaction-id': 6522, 'amount': 1164},\n",
       "   {'transaction-id': 6537, 'amount': 1468},\n",
       "   {'transaction-id': 6957, 'amount': 1521},\n",
       "   {'transaction-id': 7299, 'amount': 902},\n",
       "   {'transaction-id': 7328, 'amount': 863},\n",
       "   {'transaction-id': 7356, 'amount': 1360},\n",
       "   {'transaction-id': 7452, 'amount': 1202},\n",
       "   {'transaction-id': 7857, 'amount': 1328},\n",
       "   {'transaction-id': 8741, 'amount': 975},\n",
       "   {'transaction-id': 9306, 'amount': 1121},\n",
       "   {'transaction-id': 9661, 'amount': 1127},\n",
       "   {'transaction-id': 9931, 'amount': 1018}]},\n",
       " {'id': 2,\n",
       "  'name': 'Victor',\n",
       "  'transactions': [{'transaction-id': 49, 'amount': 1295},\n",
       "   {'transaction-id': 147, 'amount': 1189},\n",
       "   {'transaction-id': 218, 'amount': 1020},\n",
       "   {'transaction-id': 276, 'amount': 1151},\n",
       "   {'transaction-id': 278, 'amount': 1175},\n",
       "   {'transaction-id': 297, 'amount': 1156},\n",
       "   {'transaction-id': 399, 'amount': 1281},\n",
       "   {'transaction-id': 428, 'amount': 1329},\n",
       "   {'transaction-id': 719, 'amount': 1276},\n",
       "   {'transaction-id': 810, 'amount': 1052},\n",
       "   {'transaction-id': 849, 'amount': 1206},\n",
       "   {'transaction-id': 866, 'amount': 1182},\n",
       "   {'transaction-id': 940, 'amount': 1295},\n",
       "   {'transaction-id': 1039, 'amount': 1229},\n",
       "   {'transaction-id': 1535, 'amount': 1091},\n",
       "   {'transaction-id': 1701, 'amount': 1222},\n",
       "   {'transaction-id': 2159, 'amount': 1143},\n",
       "   {'transaction-id': 2175, 'amount': 1223},\n",
       "   {'transaction-id': 2184, 'amount': 1402},\n",
       "   {'transaction-id': 2409, 'amount': 1179},\n",
       "   {'transaction-id': 2430, 'amount': 1204},\n",
       "   {'transaction-id': 2625, 'amount': 1304},\n",
       "   {'transaction-id': 2885, 'amount': 1203},\n",
       "   {'transaction-id': 2962, 'amount': 1160},\n",
       "   {'transaction-id': 2984, 'amount': 1169},\n",
       "   {'transaction-id': 2992, 'amount': 1306},\n",
       "   {'transaction-id': 3131, 'amount': 1359},\n",
       "   {'transaction-id': 3249, 'amount': 1068},\n",
       "   {'transaction-id': 3338, 'amount': 1271},\n",
       "   {'transaction-id': 3424, 'amount': 1113},\n",
       "   {'transaction-id': 3490, 'amount': 1312},\n",
       "   {'transaction-id': 3707, 'amount': 1188},\n",
       "   {'transaction-id': 3825, 'amount': 1201},\n",
       "   {'transaction-id': 3970, 'amount': 1287},\n",
       "   {'transaction-id': 4028, 'amount': 1072},\n",
       "   {'transaction-id': 4144, 'amount': 1074},\n",
       "   {'transaction-id': 4210, 'amount': 1131},\n",
       "   {'transaction-id': 4401, 'amount': 1146},\n",
       "   {'transaction-id': 4512, 'amount': 1096},\n",
       "   {'transaction-id': 4690, 'amount': 1248},\n",
       "   {'transaction-id': 4830, 'amount': 1248},\n",
       "   {'transaction-id': 5086, 'amount': 1218},\n",
       "   {'transaction-id': 5158, 'amount': 1331},\n",
       "   {'transaction-id': 5266, 'amount': 1270},\n",
       "   {'transaction-id': 5359, 'amount': 1171},\n",
       "   {'transaction-id': 5526, 'amount': 1126},\n",
       "   {'transaction-id': 5590, 'amount': 1302},\n",
       "   {'transaction-id': 5646, 'amount': 1041},\n",
       "   {'transaction-id': 5713, 'amount': 1240},\n",
       "   {'transaction-id': 5952, 'amount': 1267},\n",
       "   {'transaction-id': 5969, 'amount': 1329},\n",
       "   {'transaction-id': 6450, 'amount': 1317},\n",
       "   {'transaction-id': 6694, 'amount': 1123},\n",
       "   {'transaction-id': 6814, 'amount': 1158},\n",
       "   {'transaction-id': 6959, 'amount': 1086},\n",
       "   {'transaction-id': 6999, 'amount': 1254},\n",
       "   {'transaction-id': 7001, 'amount': 1267},\n",
       "   {'transaction-id': 7282, 'amount': 1180},\n",
       "   {'transaction-id': 7341, 'amount': 1085},\n",
       "   {'transaction-id': 7517, 'amount': 1200},\n",
       "   {'transaction-id': 7623, 'amount': 1179},\n",
       "   {'transaction-id': 7754, 'amount': 1195},\n",
       "   {'transaction-id': 7987, 'amount': 1073},\n",
       "   {'transaction-id': 8025, 'amount': 1061},\n",
       "   {'transaction-id': 8426, 'amount': 1347},\n",
       "   {'transaction-id': 8450, 'amount': 1162},\n",
       "   {'transaction-id': 8507, 'amount': 1111},\n",
       "   {'transaction-id': 8687, 'amount': 1300},\n",
       "   {'transaction-id': 8691, 'amount': 1333},\n",
       "   {'transaction-id': 8749, 'amount': 1126},\n",
       "   {'transaction-id': 8798, 'amount': 1177},\n",
       "   {'transaction-id': 8867, 'amount': 937},\n",
       "   {'transaction-id': 8889, 'amount': 1390},\n",
       "   {'transaction-id': 9332, 'amount': 1212},\n",
       "   {'transaction-id': 9350, 'amount': 1253},\n",
       "   {'transaction-id': 9636, 'amount': 1078},\n",
       "   {'transaction-id': 9858, 'amount': 1289},\n",
       "   {'transaction-id': 9941, 'amount': 1194}]})"
      ]
     },
     "execution_count": 10,
     "metadata": {},
     "output_type": "execute_result"
    }
   ],
   "source": [
    "import json\n",
    "js = lines.map(json.loads)\n",
    "# take: inspect first few elements\n",
    "js.take(3)"
   ]
  },
  {
   "cell_type": "markdown",
   "metadata": {},
   "source": [
    "### Basic Queries"
   ]
  },
  {
   "cell_type": "markdown",
   "metadata": {},
   "source": [
    "Once we parse our JSON data into proper Python objects (`dict`s, `list`s, etc.) we can perform more interesting queries by creating small Python functions to run on our data."
   ]
  },
  {
   "cell_type": "code",
   "execution_count": 11,
   "metadata": {
    "execution": {
     "iopub.execute_input": "2022-05-11T14:35:45.550751Z",
     "iopub.status.busy": "2022-05-11T14:35:45.550535Z",
     "iopub.status.idle": "2022-05-11T14:35:45.660142Z",
     "shell.execute_reply": "2022-05-11T14:35:45.659606Z"
    }
   },
   "outputs": [
    {
     "data": {
      "text/plain": [
       "({'id': 3,\n",
       "  'name': 'Alice',\n",
       "  'transactions': [{'transaction-id': 383, 'amount': 620},\n",
       "   {'transaction-id': 1626, 'amount': 413},\n",
       "   {'transaction-id': 1791, 'amount': 539},\n",
       "   {'transaction-id': 2054, 'amount': 498},\n",
       "   {'transaction-id': 2686, 'amount': 598},\n",
       "   {'transaction-id': 2938, 'amount': 542},\n",
       "   {'transaction-id': 3339, 'amount': 572},\n",
       "   {'transaction-id': 4668, 'amount': 581},\n",
       "   {'transaction-id': 6776, 'amount': 495},\n",
       "   {'transaction-id': 7182, 'amount': 516},\n",
       "   {'transaction-id': 7588, 'amount': 648},\n",
       "   {'transaction-id': 8900, 'amount': 534},\n",
       "   {'transaction-id': 9340, 'amount': 557}]},\n",
       " {'id': 26,\n",
       "  'name': 'Alice',\n",
       "  'transactions': [{'transaction-id': 133, 'amount': 6},\n",
       "   {'transaction-id': 483, 'amount': 6},\n",
       "   {'transaction-id': 640, 'amount': 4},\n",
       "   {'transaction-id': 1399, 'amount': 5},\n",
       "   {'transaction-id': 1966, 'amount': 7},\n",
       "   {'transaction-id': 2511, 'amount': 5},\n",
       "   {'transaction-id': 2935, 'amount': 7},\n",
       "   {'transaction-id': 3514, 'amount': 9},\n",
       "   {'transaction-id': 3544, 'amount': 7},\n",
       "   {'transaction-id': 4245, 'amount': 6},\n",
       "   {'transaction-id': 4354, 'amount': 7},\n",
       "   {'transaction-id': 4521, 'amount': 7},\n",
       "   {'transaction-id': 5134, 'amount': 8},\n",
       "   {'transaction-id': 5505, 'amount': 8},\n",
       "   {'transaction-id': 6164, 'amount': 6},\n",
       "   {'transaction-id': 7053, 'amount': 7},\n",
       "   {'transaction-id': 7072, 'amount': 6},\n",
       "   {'transaction-id': 7817, 'amount': 6},\n",
       "   {'transaction-id': 8127, 'amount': 4},\n",
       "   {'transaction-id': 8463, 'amount': 6},\n",
       "   {'transaction-id': 8653, 'amount': 5},\n",
       "   {'transaction-id': 9573, 'amount': 7},\n",
       "   {'transaction-id': 9780, 'amount': 7},\n",
       "   {'transaction-id': 9818, 'amount': 6}]},\n",
       " {'id': 69,\n",
       "  'name': 'Alice',\n",
       "  'transactions': [{'transaction-id': 199, 'amount': 999},\n",
       "   {'transaction-id': 3250, 'amount': 976},\n",
       "   {'transaction-id': 5138, 'amount': 1034},\n",
       "   {'transaction-id': 7940, 'amount': 976},\n",
       "   {'transaction-id': 9612, 'amount': 1032}]},\n",
       " {'id': 91,\n",
       "  'name': 'Alice',\n",
       "  'transactions': [{'transaction-id': 116, 'amount': 469},\n",
       "   {'transaction-id': 219, 'amount': 445},\n",
       "   {'transaction-id': 1792, 'amount': 484},\n",
       "   {'transaction-id': 5700, 'amount': 467}]},\n",
       " {'id': 139,\n",
       "  'name': 'Alice',\n",
       "  'transactions': [{'transaction-id': 92, 'amount': 1612},\n",
       "   {'transaction-id': 204, 'amount': 1506},\n",
       "   {'transaction-id': 305, 'amount': 1531},\n",
       "   {'transaction-id': 368, 'amount': 1416},\n",
       "   {'transaction-id': 528, 'amount': 1550},\n",
       "   {'transaction-id': 544, 'amount': 1549},\n",
       "   {'transaction-id': 549, 'amount': 1497},\n",
       "   {'transaction-id': 623, 'amount': 1553},\n",
       "   {'transaction-id': 664, 'amount': 1480},\n",
       "   {'transaction-id': 812, 'amount': 1449},\n",
       "   {'transaction-id': 926, 'amount': 1576},\n",
       "   {'transaction-id': 1192, 'amount': 1567},\n",
       "   {'transaction-id': 1193, 'amount': 1552},\n",
       "   {'transaction-id': 1279, 'amount': 1447},\n",
       "   {'transaction-id': 1312, 'amount': 1557},\n",
       "   {'transaction-id': 1353, 'amount': 1573},\n",
       "   {'transaction-id': 1506, 'amount': 1411},\n",
       "   {'transaction-id': 1643, 'amount': 1499},\n",
       "   {'transaction-id': 1735, 'amount': 1545},\n",
       "   {'transaction-id': 1749, 'amount': 1542},\n",
       "   {'transaction-id': 1951, 'amount': 1449},\n",
       "   {'transaction-id': 1958, 'amount': 1555},\n",
       "   {'transaction-id': 1971, 'amount': 1496},\n",
       "   {'transaction-id': 1994, 'amount': 1477},\n",
       "   {'transaction-id': 2210, 'amount': 1542},\n",
       "   {'transaction-id': 2243, 'amount': 1551},\n",
       "   {'transaction-id': 2334, 'amount': 1506},\n",
       "   {'transaction-id': 2396, 'amount': 1569},\n",
       "   {'transaction-id': 2456, 'amount': 1493},\n",
       "   {'transaction-id': 2476, 'amount': 1397},\n",
       "   {'transaction-id': 2564, 'amount': 1596},\n",
       "   {'transaction-id': 2657, 'amount': 1525},\n",
       "   {'transaction-id': 2748, 'amount': 1494},\n",
       "   {'transaction-id': 2750, 'amount': 1510},\n",
       "   {'transaction-id': 2843, 'amount': 1444},\n",
       "   {'transaction-id': 2881, 'amount': 1411},\n",
       "   {'transaction-id': 2886, 'amount': 1511},\n",
       "   {'transaction-id': 2918, 'amount': 1453},\n",
       "   {'transaction-id': 3169, 'amount': 1403},\n",
       "   {'transaction-id': 3171, 'amount': 1531},\n",
       "   {'transaction-id': 3213, 'amount': 1529},\n",
       "   {'transaction-id': 3347, 'amount': 1359},\n",
       "   {'transaction-id': 3358, 'amount': 1507},\n",
       "   {'transaction-id': 3630, 'amount': 1619},\n",
       "   {'transaction-id': 3657, 'amount': 1496},\n",
       "   {'transaction-id': 3826, 'amount': 1645},\n",
       "   {'transaction-id': 3831, 'amount': 1562},\n",
       "   {'transaction-id': 3976, 'amount': 1466},\n",
       "   {'transaction-id': 3982, 'amount': 1609},\n",
       "   {'transaction-id': 4204, 'amount': 1372},\n",
       "   {'transaction-id': 4230, 'amount': 1522},\n",
       "   {'transaction-id': 4238, 'amount': 1482},\n",
       "   {'transaction-id': 4323, 'amount': 1386},\n",
       "   {'transaction-id': 4377, 'amount': 1587},\n",
       "   {'transaction-id': 4384, 'amount': 1587},\n",
       "   {'transaction-id': 4439, 'amount': 1458},\n",
       "   {'transaction-id': 4564, 'amount': 1468},\n",
       "   {'transaction-id': 4596, 'amount': 1405},\n",
       "   {'transaction-id': 4688, 'amount': 1382},\n",
       "   {'transaction-id': 4746, 'amount': 1493},\n",
       "   {'transaction-id': 4750, 'amount': 1520},\n",
       "   {'transaction-id': 4769, 'amount': 1441},\n",
       "   {'transaction-id': 4876, 'amount': 1411},\n",
       "   {'transaction-id': 5139, 'amount': 1469},\n",
       "   {'transaction-id': 5184, 'amount': 1423},\n",
       "   {'transaction-id': 5372, 'amount': 1661},\n",
       "   {'transaction-id': 5482, 'amount': 1506},\n",
       "   {'transaction-id': 5496, 'amount': 1537},\n",
       "   {'transaction-id': 5525, 'amount': 1561},\n",
       "   {'transaction-id': 5678, 'amount': 1541},\n",
       "   {'transaction-id': 5753, 'amount': 1523},\n",
       "   {'transaction-id': 5797, 'amount': 1496},\n",
       "   {'transaction-id': 5847, 'amount': 1486},\n",
       "   {'transaction-id': 5860, 'amount': 1543},\n",
       "   {'transaction-id': 6162, 'amount': 1509},\n",
       "   {'transaction-id': 6183, 'amount': 1520},\n",
       "   {'transaction-id': 6451, 'amount': 1555},\n",
       "   {'transaction-id': 6584, 'amount': 1492},\n",
       "   {'transaction-id': 6618, 'amount': 1499},\n",
       "   {'transaction-id': 6895, 'amount': 1463},\n",
       "   {'transaction-id': 6897, 'amount': 1590},\n",
       "   {'transaction-id': 6915, 'amount': 1645},\n",
       "   {'transaction-id': 7157, 'amount': 1636},\n",
       "   {'transaction-id': 7261, 'amount': 1362},\n",
       "   {'transaction-id': 7467, 'amount': 1619},\n",
       "   {'transaction-id': 7638, 'amount': 1531},\n",
       "   {'transaction-id': 7661, 'amount': 1480},\n",
       "   {'transaction-id': 7692, 'amount': 1545},\n",
       "   {'transaction-id': 7699, 'amount': 1453},\n",
       "   {'transaction-id': 7791, 'amount': 1348},\n",
       "   {'transaction-id': 7793, 'amount': 1387},\n",
       "   {'transaction-id': 7856, 'amount': 1347},\n",
       "   {'transaction-id': 8119, 'amount': 1690},\n",
       "   {'transaction-id': 8159, 'amount': 1462},\n",
       "   {'transaction-id': 8162, 'amount': 1599},\n",
       "   {'transaction-id': 8265, 'amount': 1557},\n",
       "   {'transaction-id': 8350, 'amount': 1380},\n",
       "   {'transaction-id': 8421, 'amount': 1486},\n",
       "   {'transaction-id': 8439, 'amount': 1369},\n",
       "   {'transaction-id': 8489, 'amount': 1407},\n",
       "   {'transaction-id': 8642, 'amount': 1520},\n",
       "   {'transaction-id': 8650, 'amount': 1488},\n",
       "   {'transaction-id': 8660, 'amount': 1401},\n",
       "   {'transaction-id': 8682, 'amount': 1627},\n",
       "   {'transaction-id': 8693, 'amount': 1534},\n",
       "   {'transaction-id': 8695, 'amount': 1543},\n",
       "   {'transaction-id': 8738, 'amount': 1483},\n",
       "   {'transaction-id': 8784, 'amount': 1448},\n",
       "   {'transaction-id': 9107, 'amount': 1306},\n",
       "   {'transaction-id': 9133, 'amount': 1552},\n",
       "   {'transaction-id': 9170, 'amount': 1510},\n",
       "   {'transaction-id': 9216, 'amount': 1521},\n",
       "   {'transaction-id': 9253, 'amount': 1476},\n",
       "   {'transaction-id': 9484, 'amount': 1507},\n",
       "   {'transaction-id': 9565, 'amount': 1534},\n",
       "   {'transaction-id': 9619, 'amount': 1648},\n",
       "   {'transaction-id': 9652, 'amount': 1460},\n",
       "   {'transaction-id': 9783, 'amount': 1601},\n",
       "   {'transaction-id': 9804, 'amount': 1484},\n",
       "   {'transaction-id': 9824, 'amount': 1543},\n",
       "   {'transaction-id': 9889, 'amount': 1499},\n",
       "   {'transaction-id': 9956, 'amount': 1446},\n",
       "   {'transaction-id': 9966, 'amount': 1468},\n",
       "   {'transaction-id': 9984, 'amount': 1411}]})"
      ]
     },
     "execution_count": 11,
     "metadata": {},
     "output_type": "execute_result"
    }
   ],
   "source": [
    "# filter: keep only some elements of the sequence\n",
    "js.filter(lambda record: record['name'] == 'Alice').take(5)"
   ]
  },
  {
   "cell_type": "code",
   "execution_count": 12,
   "metadata": {
    "execution": {
     "iopub.execute_input": "2022-05-11T14:35:45.662954Z",
     "iopub.status.busy": "2022-05-11T14:35:45.662476Z",
     "iopub.status.idle": "2022-05-11T14:35:45.690603Z",
     "shell.execute_reply": "2022-05-11T14:35:45.690016Z"
    }
   },
   "outputs": [
    {
     "data": {
      "text/plain": [
       "({'name': 'Alice', 'count': 13},\n",
       " {'name': 'Alice', 'count': 24},\n",
       " {'name': 'Alice', 'count': 5},\n",
       " {'name': 'Alice', 'count': 4},\n",
       " {'name': 'Alice', 'count': 124})"
      ]
     },
     "execution_count": 12,
     "metadata": {},
     "output_type": "execute_result"
    }
   ],
   "source": [
    "def count_transactions(d):\n",
    "    return {'name': d['name'], 'count': len(d['transactions'])}\n",
    "\n",
    "# map: apply a function to each element\n",
    "(js.filter(lambda record: record['name'] == 'Alice')\n",
    "   .map(count_transactions)\n",
    "   .take(5))"
   ]
  },
  {
   "cell_type": "code",
   "execution_count": 13,
   "metadata": {
    "execution": {
     "iopub.execute_input": "2022-05-11T14:35:45.693129Z",
     "iopub.status.busy": "2022-05-11T14:35:45.692809Z",
     "iopub.status.idle": "2022-05-11T14:35:45.717767Z",
     "shell.execute_reply": "2022-05-11T14:35:45.717264Z"
    }
   },
   "outputs": [
    {
     "data": {
      "text/plain": [
       "(13, 24, 5, 4, 124)"
      ]
     },
     "execution_count": 13,
     "metadata": {},
     "output_type": "execute_result"
    }
   ],
   "source": [
    "# pluck: select a field, as from a dictionary, element[field]\n",
    "(js.filter(lambda record: record['name'] == 'Alice')\n",
    "   .map(count_transactions)\n",
    "   .pluck('count')\n",
    "   .take(5))"
   ]
  },
  {
   "cell_type": "code",
   "execution_count": 14,
   "metadata": {
    "execution": {
     "iopub.execute_input": "2022-05-11T14:35:45.720814Z",
     "iopub.status.busy": "2022-05-11T14:35:45.720386Z",
     "iopub.status.idle": "2022-05-11T14:35:46.107566Z",
     "shell.execute_reply": "2022-05-11T14:35:46.107062Z"
    }
   },
   "outputs": [
    {
     "data": {
      "text/plain": [
       "25.304621848739497"
      ]
     },
     "execution_count": 14,
     "metadata": {},
     "output_type": "execute_result"
    }
   ],
   "source": [
    "# Average number of transactions for all of the Alice entries\n",
    "(js.filter(lambda record: record['name'] == 'Alice')\n",
    "   .map(count_transactions)\n",
    "   .pluck('count')\n",
    "   .mean()\n",
    "   .compute())"
   ]
  },
  {
   "cell_type": "markdown",
   "metadata": {},
   "source": [
    "### Use `flatten` to de-nest"
   ]
  },
  {
   "cell_type": "markdown",
   "metadata": {},
   "source": [
    "In the example below we see the use of `.flatten()` to flatten results.  We compute the average amount for all transactions for all Alices."
   ]
  },
  {
   "cell_type": "code",
   "execution_count": 15,
   "metadata": {
    "execution": {
     "iopub.execute_input": "2022-05-11T14:35:46.110477Z",
     "iopub.status.busy": "2022-05-11T14:35:46.109968Z",
     "iopub.status.idle": "2022-05-11T14:35:46.135070Z",
     "shell.execute_reply": "2022-05-11T14:35:46.134076Z"
    }
   },
   "outputs": [
    {
     "data": {
      "text/plain": [
       "([{'transaction-id': 383, 'amount': 620},\n",
       "  {'transaction-id': 1626, 'amount': 413},\n",
       "  {'transaction-id': 1791, 'amount': 539},\n",
       "  {'transaction-id': 2054, 'amount': 498},\n",
       "  {'transaction-id': 2686, 'amount': 598},\n",
       "  {'transaction-id': 2938, 'amount': 542},\n",
       "  {'transaction-id': 3339, 'amount': 572},\n",
       "  {'transaction-id': 4668, 'amount': 581},\n",
       "  {'transaction-id': 6776, 'amount': 495},\n",
       "  {'transaction-id': 7182, 'amount': 516},\n",
       "  {'transaction-id': 7588, 'amount': 648},\n",
       "  {'transaction-id': 8900, 'amount': 534},\n",
       "  {'transaction-id': 9340, 'amount': 557}],\n",
       " [{'transaction-id': 133, 'amount': 6},\n",
       "  {'transaction-id': 483, 'amount': 6},\n",
       "  {'transaction-id': 640, 'amount': 4},\n",
       "  {'transaction-id': 1399, 'amount': 5},\n",
       "  {'transaction-id': 1966, 'amount': 7},\n",
       "  {'transaction-id': 2511, 'amount': 5},\n",
       "  {'transaction-id': 2935, 'amount': 7},\n",
       "  {'transaction-id': 3514, 'amount': 9},\n",
       "  {'transaction-id': 3544, 'amount': 7},\n",
       "  {'transaction-id': 4245, 'amount': 6},\n",
       "  {'transaction-id': 4354, 'amount': 7},\n",
       "  {'transaction-id': 4521, 'amount': 7},\n",
       "  {'transaction-id': 5134, 'amount': 8},\n",
       "  {'transaction-id': 5505, 'amount': 8},\n",
       "  {'transaction-id': 6164, 'amount': 6},\n",
       "  {'transaction-id': 7053, 'amount': 7},\n",
       "  {'transaction-id': 7072, 'amount': 6},\n",
       "  {'transaction-id': 7817, 'amount': 6},\n",
       "  {'transaction-id': 8127, 'amount': 4},\n",
       "  {'transaction-id': 8463, 'amount': 6},\n",
       "  {'transaction-id': 8653, 'amount': 5},\n",
       "  {'transaction-id': 9573, 'amount': 7},\n",
       "  {'transaction-id': 9780, 'amount': 7},\n",
       "  {'transaction-id': 9818, 'amount': 6}],\n",
       " [{'transaction-id': 199, 'amount': 999},\n",
       "  {'transaction-id': 3250, 'amount': 976},\n",
       "  {'transaction-id': 5138, 'amount': 1034},\n",
       "  {'transaction-id': 7940, 'amount': 976},\n",
       "  {'transaction-id': 9612, 'amount': 1032}])"
      ]
     },
     "execution_count": 15,
     "metadata": {},
     "output_type": "execute_result"
    }
   ],
   "source": [
    "(js.filter(lambda record: record['name'] == 'Alice')\n",
    "   .pluck('transactions')\n",
    "   .take(3))"
   ]
  },
  {
   "cell_type": "code",
   "execution_count": 16,
   "metadata": {
    "execution": {
     "iopub.execute_input": "2022-05-11T14:35:46.138245Z",
     "iopub.status.busy": "2022-05-11T14:35:46.137777Z",
     "iopub.status.idle": "2022-05-11T14:35:46.164902Z",
     "shell.execute_reply": "2022-05-11T14:35:46.164427Z"
    }
   },
   "outputs": [
    {
     "data": {
      "text/plain": [
       "({'transaction-id': 383, 'amount': 620},\n",
       " {'transaction-id': 1626, 'amount': 413},\n",
       " {'transaction-id': 1791, 'amount': 539})"
      ]
     },
     "execution_count": 16,
     "metadata": {},
     "output_type": "execute_result"
    }
   ],
   "source": [
    "(js.filter(lambda record: record['name'] == 'Alice')\n",
    "   .pluck('transactions')\n",
    "   .flatten()\n",
    "   .take(3))"
   ]
  },
  {
   "cell_type": "code",
   "execution_count": 17,
   "metadata": {
    "execution": {
     "iopub.execute_input": "2022-05-11T14:35:46.167392Z",
     "iopub.status.busy": "2022-05-11T14:35:46.166868Z",
     "iopub.status.idle": "2022-05-11T14:35:46.189225Z",
     "shell.execute_reply": "2022-05-11T14:35:46.188740Z"
    }
   },
   "outputs": [
    {
     "data": {
      "text/plain": [
       "(620, 413, 539)"
      ]
     },
     "execution_count": 17,
     "metadata": {},
     "output_type": "execute_result"
    }
   ],
   "source": [
    "(js.filter(lambda record: record['name'] == 'Alice')\n",
    "   .pluck('transactions')\n",
    "   .flatten()\n",
    "   .pluck('amount')\n",
    "   .take(3))"
   ]
  },
  {
   "cell_type": "code",
   "execution_count": 18,
   "metadata": {
    "execution": {
     "iopub.execute_input": "2022-05-11T14:35:46.192022Z",
     "iopub.status.busy": "2022-05-11T14:35:46.191672Z",
     "iopub.status.idle": "2022-05-11T14:35:46.557483Z",
     "shell.execute_reply": "2022-05-11T14:35:46.557038Z"
    }
   },
   "outputs": [
    {
     "data": {
      "text/plain": [
       "858.082191780822"
      ]
     },
     "execution_count": 18,
     "metadata": {},
     "output_type": "execute_result"
    }
   ],
   "source": [
    "(js.filter(lambda record: record['name'] == 'Alice')\n",
    "   .pluck('transactions')\n",
    "   .flatten()\n",
    "   .pluck('amount')\n",
    "   .mean()\n",
    "   .compute())"
   ]
  },
  {
   "cell_type": "markdown",
   "metadata": {},
   "source": [
    "### Groupby and Foldby"
   ]
  },
  {
   "cell_type": "markdown",
   "metadata": {},
   "source": [
    "Often we want to group data by some function or key.  We can do this either with the `.groupby` method, which is straightforward but forces a full shuffle of the data (expensive) or with the harder-to-use but faster `.foldby` method, which does a streaming combined groupby and reduction.\n",
    "\n",
    "*  `groupby`:  Shuffles data so that all items with the same key are in the same key-value pair\n",
    "*  `foldby`:  Walks through the data accumulating a result per key\n",
    "\n",
    "*Note: the full groupby is particularly bad. In actual workloads you would do well to use `foldby` or switch to `DataFrame`s if possible.*"
   ]
  },
  {
   "cell_type": "markdown",
   "metadata": {},
   "source": [
    "### `groupby`"
   ]
  },
  {
   "cell_type": "markdown",
   "metadata": {},
   "source": [
    "Groupby collects items in your collection so that all items with the same value under some function are collected together into a key-value pair."
   ]
  },
  {
   "cell_type": "code",
   "execution_count": 19,
   "metadata": {
    "execution": {
     "iopub.execute_input": "2022-05-11T14:35:46.560863Z",
     "iopub.status.busy": "2022-05-11T14:35:46.560376Z",
     "iopub.status.idle": "2022-05-11T14:35:46.643168Z",
     "shell.execute_reply": "2022-05-11T14:35:46.642616Z"
    }
   },
   "outputs": [
    {
     "data": {
      "text/plain": [
       "[(7, ['Charlie']), (3, ['Bob', 'Dan']), (5, ['Alice', 'Edith', 'Frank'])]"
      ]
     },
     "execution_count": 19,
     "metadata": {},
     "output_type": "execute_result"
    }
   ],
   "source": [
    "b = db.from_sequence(['Alice', 'Bob', 'Charlie', 'Dan', 'Edith', 'Frank'])\n",
    "b.groupby(len).compute()  # names grouped by length"
   ]
  },
  {
   "cell_type": "code",
   "execution_count": 20,
   "metadata": {
    "execution": {
     "iopub.execute_input": "2022-05-11T14:35:46.646116Z",
     "iopub.status.busy": "2022-05-11T14:35:46.645666Z",
     "iopub.status.idle": "2022-05-11T14:35:46.771635Z",
     "shell.execute_reply": "2022-05-11T14:35:46.770736Z"
    }
   },
   "outputs": [
    {
     "data": {
      "text/plain": [
       "[(0, [0, 2, 4, 6, 8]), (1, [1, 3, 5, 7, 9])]"
      ]
     },
     "execution_count": 20,
     "metadata": {},
     "output_type": "execute_result"
    }
   ],
   "source": [
    "b = db.from_sequence(list(range(10)))\n",
    "b.groupby(lambda x: x % 2).compute()"
   ]
  },
  {
   "cell_type": "code",
   "execution_count": 21,
   "metadata": {
    "execution": {
     "iopub.execute_input": "2022-05-11T14:35:46.774708Z",
     "iopub.status.busy": "2022-05-11T14:35:46.774153Z",
     "iopub.status.idle": "2022-05-11T14:35:46.915340Z",
     "shell.execute_reply": "2022-05-11T14:35:46.914855Z"
    }
   },
   "outputs": [
    {
     "data": {
      "text/plain": [
       "[(0, 8), (1, 9)]"
      ]
     },
     "execution_count": 21,
     "metadata": {},
     "output_type": "execute_result"
    }
   ],
   "source": [
    "b.groupby(lambda x: x % 2).starmap(lambda k, v: (k, max(v))).compute()"
   ]
  },
  {
   "cell_type": "markdown",
   "metadata": {},
   "source": [
    "### `foldby`"
   ]
  },
  {
   "cell_type": "markdown",
   "metadata": {},
   "source": [
    "Foldby can be quite odd at first.  It is similar to the following functions from other libraries:\n",
    "\n",
    "*  [`toolz.reduceby`](http://toolz.readthedocs.io/en/latest/streaming-analytics.html#streaming-split-apply-combine)\n",
    "*  [`pyspark.RDD.combineByKey`](http://abshinn.github.io/python/apache-spark/2014/10/11/using-combinebykey-in-apache-spark/)\n",
    "\n",
    "When using `foldby` you provide \n",
    "\n",
    "1.  A key function on which to group elements\n",
    "2.  A binary operator such as you would pass to `reduce` that you use to perform reduction per each group\n",
    "3.  A combine binary operator that can combine the results of two `reduce` calls on different parts of your dataset.\n",
    "\n",
    "Your reduction must be associative.  It will happen in parallel in each of the partitions of your dataset.  Then all of these intermediate results will be combined by the `combine` binary operator."
   ]
  },
  {
   "cell_type": "code",
   "execution_count": 22,
   "metadata": {
    "execution": {
     "iopub.execute_input": "2022-05-11T14:35:46.917914Z",
     "iopub.status.busy": "2022-05-11T14:35:46.917680Z",
     "iopub.status.idle": "2022-05-11T14:35:46.964667Z",
     "shell.execute_reply": "2022-05-11T14:35:46.964074Z"
    }
   },
   "outputs": [
    {
     "data": {
      "text/plain": [
       "[(0, 8), (1, 9)]"
      ]
     },
     "execution_count": 22,
     "metadata": {},
     "output_type": "execute_result"
    }
   ],
   "source": [
    "b.foldby(lambda x: x % 2, binop=max, combine=max).compute()"
   ]
  },
  {
   "cell_type": "markdown",
   "metadata": {},
   "source": [
    "### Example with account data"
   ]
  },
  {
   "cell_type": "markdown",
   "metadata": {},
   "source": [
    "We find the number of people with the same name."
   ]
  },
  {
   "cell_type": "code",
   "execution_count": 23,
   "metadata": {
    "execution": {
     "iopub.execute_input": "2022-05-11T14:35:46.967278Z",
     "iopub.status.busy": "2022-05-11T14:35:46.967057Z",
     "iopub.status.idle": "2022-05-11T14:35:50.271397Z",
     "shell.execute_reply": "2022-05-11T14:35:50.270653Z"
    }
   },
   "outputs": [
    {
     "name": "stdout",
     "output_type": "stream",
     "text": [
      "[('Alice', 112), ('Alice', 114), ('Alice', 115), ('Alice', 135), ('Bob', 119), ('Bob', 119), ('Bob', 120), ('Bob', 140), ('Charlie', 139), ('Charlie', 141), ('Charlie', 142), ('Charlie', 163), ('Dan', 60), ('Dan', 60), ('Dan', 60), ('Dan', 70), ('Edith', 116), ('Edith', 117), ('Edith', 117), ('Edith', 137), ('Frank', 36), ('Frank', 36), ('Frank', 36), ('Frank', 42), ('George', 117), ('George', 120), ('George', 120), ('George', 138), ('Hannah', 79), ('Hannah', 82), ('Hannah', 83), ('Hannah', 96), ('Ingrid', 154), ('Ingrid', 155), ('Ingrid', 156), ('Ingrid', 181), ('Jerry', 92), ('Jerry', 92), ('Jerry', 93), ('Jerry', 111), ('Kevin', 84), ('Kevin', 84), ('Kevin', 84), ('Kevin', 98), ('Laura', 139), ('Laura', 139), ('Laura', 140), ('Laura', 161), ('Michael', 111), ('Michael', 112), ('Michael', 112), ('Michael', 133), ('Norbert', 168), ('Norbert', 168), ('Norbert', 168), ('Norbert', 196), ('Oliver', 87), ('Oliver', 88), ('Oliver', 92), ('Oliver', 99), ('Patricia', 118), ('Patricia', 118), ('Patricia', 118), ('Patricia', 138), ('Quinn', 100), ('Quinn', 103), ('Quinn', 105), ('Quinn', 119), ('Ray', 75), ('Ray', 75), ('Ray', 75), ('Ray', 87), ('Sarah', 191), ('Sarah', 193), ('Sarah', 194), ('Sarah', 227), ('Tim', 96), ('Tim', 96), ('Tim', 96), ('Tim', 112), ('Ursula', 70), ('Ursula', 70), ('Ursula', 72), ('Ursula', 83), ('Victor', 180), ('Victor', 180), ('Victor', 180), ('Victor', 210), ('Wendy', 119), ('Wendy', 119), ('Wendy', 119), ('Wendy', 138), ('Xavier', 127), ('Xavier', 129), ('Xavier', 131), ('Xavier', 151), ('Yvonne', 120), ('Yvonne', 120), ('Yvonne', 120), ('Yvonne', 140), ('Zelda', 84), ('Zelda', 84), ('Zelda', 84), ('Zelda', 97)]\n",
      "CPU times: user 754 ms, sys: 68 ms, total: 822 ms\n",
      "Wall time: 3.3 s\n"
     ]
    }
   ],
   "source": [
    "%%time\n",
    "# Warning, this one takes a while...\n",
    "result = js.groupby(lambda item: item['name']).starmap(lambda k, v: (k, len(v))).compute()\n",
    "print(sorted(result))"
   ]
  },
  {
   "cell_type": "code",
   "execution_count": 24,
   "metadata": {
    "execution": {
     "iopub.execute_input": "2022-05-11T14:35:50.274077Z",
     "iopub.status.busy": "2022-05-11T14:35:50.273574Z",
     "iopub.status.idle": "2022-05-11T14:35:50.660126Z",
     "shell.execute_reply": "2022-05-11T14:35:50.659403Z"
    }
   },
   "outputs": [
    {
     "name": "stdout",
     "output_type": "stream",
     "text": [
      "[('Alice', 476), ('Bob', 498), ('Charlie', 585), ('Dan', 250), ('Edith', 487), ('Frank', 150), ('George', 495), ('Hannah', 340), ('Ingrid', 646), ('Jerry', 388), ('Kevin', 350), ('Laura', 579), ('Michael', 468), ('Norbert', 700), ('Oliver', 366), ('Patricia', 492), ('Quinn', 427), ('Ray', 312), ('Sarah', 805), ('Tim', 400), ('Ursula', 295), ('Victor', 750), ('Wendy', 495), ('Xavier', 538), ('Yvonne', 500), ('Zelda', 349)]\n",
      "CPU times: user 102 ms, sys: 5.45 ms, total: 107 ms\n",
      "Wall time: 379 ms\n"
     ]
    }
   ],
   "source": [
    "%%time\n",
    "# This one is comparatively fast and produces the same result.\n",
    "from operator import add\n",
    "def incr(tot, _):\n",
    "    return tot + 1\n",
    "\n",
    "result = js.foldby(key='name', \n",
    "                   binop=incr, \n",
    "                   initial=0, \n",
    "                   combine=add, \n",
    "                   combine_initial=0).compute()\n",
    "print(sorted(result))"
   ]
  },
  {
   "cell_type": "markdown",
   "metadata": {},
   "source": [
    "### Exercise: compute total amount per name"
   ]
  },
  {
   "cell_type": "markdown",
   "metadata": {},
   "source": [
    "We want to groupby (or foldby) the `name` key, then add up the all of the amounts for each name.\n",
    "\n",
    "Steps\n",
    "\n",
    "1.  Create a small function that, given a dictionary like \n",
    "\n",
    "        {'name': 'Alice', 'transactions': [{'amount': 1, 'id': 123}, {'amount': 2, 'id': 456}]}\n",
    "        \n",
    "    produces the sum of the amounts, e.g. `3`\n",
    "    \n",
    "2.  Slightly change the binary operator of the `foldby` example above so that the binary operator doesn't count the number of entries, but instead accumulates the sum of the amounts."
   ]
  },
  {
   "cell_type": "code",
   "execution_count": 25,
   "metadata": {
    "execution": {
     "iopub.execute_input": "2022-05-11T14:35:50.663109Z",
     "iopub.status.busy": "2022-05-11T14:35:50.662693Z",
     "iopub.status.idle": "2022-05-11T14:35:50.665574Z",
     "shell.execute_reply": "2022-05-11T14:35:50.665067Z"
    }
   },
   "outputs": [],
   "source": [
    "# Your code here..."
   ]
  },
  {
   "cell_type": "markdown",
   "metadata": {},
   "source": [
    "## DataFrames"
   ]
  },
  {
   "cell_type": "markdown",
   "metadata": {},
   "source": [
    "For the same reasons that Pandas is often faster than pure Python, `dask.dataframe` can be faster than `dask.bag`.  We will work more with DataFrames later, but from the point of view of a Bag, it is frequently the end-point of the \"messy\" part of data ingestion—once the data can be made into a data-frame, then complex split-apply-combine logic will become much more straight-forward and efficient.\n",
    "\n",
    "You can transform a bag with a simple tuple or flat dictionary structure into a `dask.dataframe` with the `to_dataframe` method."
   ]
  },
  {
   "cell_type": "code",
   "execution_count": 26,
   "metadata": {
    "execution": {
     "iopub.execute_input": "2022-05-11T14:35:50.668404Z",
     "iopub.status.busy": "2022-05-11T14:35:50.667960Z",
     "iopub.status.idle": "2022-05-11T14:35:51.104955Z",
     "shell.execute_reply": "2022-05-11T14:35:51.104388Z"
    }
   },
   "outputs": [
    {
     "name": "stderr",
     "output_type": "stream",
     "text": [
      "/usr/share/miniconda3/envs/dask-tutorial/lib/python3.8/site-packages/dask/dataframe/backends.py:187: FutureWarning: pandas.Int64Index is deprecated and will be removed from pandas in a future version. Use pandas.Index with the appropriate dtype instead.\n",
      "  _numeric_index_types = (pd.Int64Index, pd.Float64Index, pd.UInt64Index)\n",
      "/usr/share/miniconda3/envs/dask-tutorial/lib/python3.8/site-packages/dask/dataframe/backends.py:187: FutureWarning: pandas.Float64Index is deprecated and will be removed from pandas in a future version. Use pandas.Index with the appropriate dtype instead.\n",
      "  _numeric_index_types = (pd.Int64Index, pd.Float64Index, pd.UInt64Index)\n",
      "/usr/share/miniconda3/envs/dask-tutorial/lib/python3.8/site-packages/dask/dataframe/backends.py:187: FutureWarning: pandas.UInt64Index is deprecated and will be removed from pandas in a future version. Use pandas.Index with the appropriate dtype instead.\n",
      "  _numeric_index_types = (pd.Int64Index, pd.Float64Index, pd.UInt64Index)\n"
     ]
    },
    {
     "data": {
      "text/html": [
       "<div>\n",
       "<style scoped>\n",
       "    .dataframe tbody tr th:only-of-type {\n",
       "        vertical-align: middle;\n",
       "    }\n",
       "\n",
       "    .dataframe tbody tr th {\n",
       "        vertical-align: top;\n",
       "    }\n",
       "\n",
       "    .dataframe thead th {\n",
       "        text-align: right;\n",
       "    }\n",
       "</style>\n",
       "<table border=\"1\" class=\"dataframe\">\n",
       "  <thead>\n",
       "    <tr style=\"text-align: right;\">\n",
       "      <th></th>\n",
       "      <th>id</th>\n",
       "      <th>name</th>\n",
       "      <th>transactions</th>\n",
       "    </tr>\n",
       "  </thead>\n",
       "  <tbody>\n",
       "    <tr>\n",
       "      <th>0</th>\n",
       "      <td>0</td>\n",
       "      <td>Ingrid</td>\n",
       "      <td>[{'transaction-id': 381, 'amount': 950}, {'tra...</td>\n",
       "    </tr>\n",
       "    <tr>\n",
       "      <th>1</th>\n",
       "      <td>1</td>\n",
       "      <td>Sarah</td>\n",
       "      <td>[{'transaction-id': 201, 'amount': 1619}, {'tr...</td>\n",
       "    </tr>\n",
       "    <tr>\n",
       "      <th>2</th>\n",
       "      <td>2</td>\n",
       "      <td>Victor</td>\n",
       "      <td>[{'transaction-id': 49, 'amount': 1295}, {'tra...</td>\n",
       "    </tr>\n",
       "    <tr>\n",
       "      <th>3</th>\n",
       "      <td>3</td>\n",
       "      <td>Alice</td>\n",
       "      <td>[{'transaction-id': 383, 'amount': 620}, {'tra...</td>\n",
       "    </tr>\n",
       "    <tr>\n",
       "      <th>4</th>\n",
       "      <td>4</td>\n",
       "      <td>Charlie</td>\n",
       "      <td>[{'transaction-id': 216, 'amount': 4603}, {'tr...</td>\n",
       "    </tr>\n",
       "  </tbody>\n",
       "</table>\n",
       "</div>"
      ],
      "text/plain": [
       "   id     name                                       transactions\n",
       "0   0   Ingrid  [{'transaction-id': 381, 'amount': 950}, {'tra...\n",
       "1   1    Sarah  [{'transaction-id': 201, 'amount': 1619}, {'tr...\n",
       "2   2   Victor  [{'transaction-id': 49, 'amount': 1295}, {'tra...\n",
       "3   3    Alice  [{'transaction-id': 383, 'amount': 620}, {'tra...\n",
       "4   4  Charlie  [{'transaction-id': 216, 'amount': 4603}, {'tr..."
      ]
     },
     "execution_count": 26,
     "metadata": {},
     "output_type": "execute_result"
    }
   ],
   "source": [
    "df1 = js.to_dataframe()\n",
    "df1.head()"
   ]
  },
  {
   "cell_type": "markdown",
   "metadata": {},
   "source": [
    "This now looks like a well-defined DataFrame, and we can apply Pandas-like computations to it efficiently."
   ]
  },
  {
   "cell_type": "markdown",
   "metadata": {},
   "source": [
    "Using a Dask DataFrame, how long does it take to do our prior computation of numbers of people with the same name?  It turns out that `dask.dataframe.groupby()` beats `dask.bag.groupby()` by more than an order of magnitude; but it still cannot match `dask.bag.foldby()` for this case."
   ]
  },
  {
   "cell_type": "code",
   "execution_count": 27,
   "metadata": {
    "execution": {
     "iopub.execute_input": "2022-05-11T14:35:51.108072Z",
     "iopub.status.busy": "2022-05-11T14:35:51.107628Z",
     "iopub.status.idle": "2022-05-11T14:35:52.248779Z",
     "shell.execute_reply": "2022-05-11T14:35:52.248233Z"
    }
   },
   "outputs": [
    {
     "name": "stdout",
     "output_type": "stream",
     "text": [
      "CPU times: user 183 ms, sys: 8.26 ms, total: 191 ms\n",
      "Wall time: 1.13 s\n"
     ]
    },
    {
     "data": {
      "text/plain": [
       "name\n",
       "Alice      476\n",
       "Bob        498\n",
       "Charlie    585\n",
       "Dan        250\n",
       "Edith      487\n",
       "Name: id, dtype: int64"
      ]
     },
     "execution_count": 27,
     "metadata": {},
     "output_type": "execute_result"
    }
   ],
   "source": [
    "%time df1.groupby('name').id.count().compute().head()"
   ]
  },
  {
   "cell_type": "markdown",
   "metadata": {},
   "source": [
    "### Denormalization"
   ]
  },
  {
   "cell_type": "markdown",
   "metadata": {},
   "source": [
    "This DataFrame format is less-than-optimal because the `transactions` column is filled with nested data so Pandas has to revert to `object` dtype, which is quite slow in Pandas.  Ideally we want to transform to a dataframe only after we have flattened our data so that each record is a single `int`, `string`, `float`, etc.."
   ]
  },
  {
   "cell_type": "code",
   "execution_count": 28,
   "metadata": {
    "execution": {
     "iopub.execute_input": "2022-05-11T14:35:52.251772Z",
     "iopub.status.busy": "2022-05-11T14:35:52.251336Z",
     "iopub.status.idle": "2022-05-11T14:35:52.274425Z",
     "shell.execute_reply": "2022-05-11T14:35:52.273922Z"
    }
   },
   "outputs": [
    {
     "data": {
      "text/plain": [
       "({'id': 0, 'name': 'Ingrid', 'amount': 950, 'transaction-id': 381},\n",
       " {'id': 0, 'name': 'Ingrid', 'amount': 940, 'transaction-id': 471},\n",
       " {'id': 0, 'name': 'Ingrid', 'amount': 865, 'transaction-id': 2194})"
      ]
     },
     "execution_count": 28,
     "metadata": {},
     "output_type": "execute_result"
    }
   ],
   "source": [
    "def denormalize(record):\n",
    "    # returns a list for each person, one item per transaction\n",
    "    return [{'id': record['id'], \n",
    "             'name': record['name'], \n",
    "             'amount': transaction['amount'], \n",
    "             'transaction-id': transaction['transaction-id']}\n",
    "            for transaction in record['transactions']]\n",
    "\n",
    "transactions = js.map(denormalize).flatten()\n",
    "transactions.take(3)"
   ]
  },
  {
   "cell_type": "code",
   "execution_count": 29,
   "metadata": {
    "execution": {
     "iopub.execute_input": "2022-05-11T14:35:52.277156Z",
     "iopub.status.busy": "2022-05-11T14:35:52.276930Z",
     "iopub.status.idle": "2022-05-11T14:35:52.354954Z",
     "shell.execute_reply": "2022-05-11T14:35:52.354452Z"
    }
   },
   "outputs": [
    {
     "data": {
      "text/html": [
       "<div>\n",
       "<style scoped>\n",
       "    .dataframe tbody tr th:only-of-type {\n",
       "        vertical-align: middle;\n",
       "    }\n",
       "\n",
       "    .dataframe tbody tr th {\n",
       "        vertical-align: top;\n",
       "    }\n",
       "\n",
       "    .dataframe thead th {\n",
       "        text-align: right;\n",
       "    }\n",
       "</style>\n",
       "<table border=\"1\" class=\"dataframe\">\n",
       "  <thead>\n",
       "    <tr style=\"text-align: right;\">\n",
       "      <th></th>\n",
       "      <th>id</th>\n",
       "      <th>name</th>\n",
       "      <th>amount</th>\n",
       "      <th>transaction-id</th>\n",
       "    </tr>\n",
       "  </thead>\n",
       "  <tbody>\n",
       "    <tr>\n",
       "      <th>0</th>\n",
       "      <td>0</td>\n",
       "      <td>Ingrid</td>\n",
       "      <td>950</td>\n",
       "      <td>381</td>\n",
       "    </tr>\n",
       "    <tr>\n",
       "      <th>1</th>\n",
       "      <td>0</td>\n",
       "      <td>Ingrid</td>\n",
       "      <td>940</td>\n",
       "      <td>471</td>\n",
       "    </tr>\n",
       "    <tr>\n",
       "      <th>2</th>\n",
       "      <td>0</td>\n",
       "      <td>Ingrid</td>\n",
       "      <td>865</td>\n",
       "      <td>2194</td>\n",
       "    </tr>\n",
       "    <tr>\n",
       "      <th>3</th>\n",
       "      <td>0</td>\n",
       "      <td>Ingrid</td>\n",
       "      <td>916</td>\n",
       "      <td>2306</td>\n",
       "    </tr>\n",
       "    <tr>\n",
       "      <th>4</th>\n",
       "      <td>0</td>\n",
       "      <td>Ingrid</td>\n",
       "      <td>880</td>\n",
       "      <td>2361</td>\n",
       "    </tr>\n",
       "  </tbody>\n",
       "</table>\n",
       "</div>"
      ],
      "text/plain": [
       "   id    name  amount  transaction-id\n",
       "0   0  Ingrid     950             381\n",
       "1   0  Ingrid     940             471\n",
       "2   0  Ingrid     865            2194\n",
       "3   0  Ingrid     916            2306\n",
       "4   0  Ingrid     880            2361"
      ]
     },
     "execution_count": 29,
     "metadata": {},
     "output_type": "execute_result"
    }
   ],
   "source": [
    "df = transactions.to_dataframe()\n",
    "df.head()"
   ]
  },
  {
   "cell_type": "code",
   "execution_count": 30,
   "metadata": {
    "execution": {
     "iopub.execute_input": "2022-05-11T14:35:52.358097Z",
     "iopub.status.busy": "2022-05-11T14:35:52.357625Z",
     "iopub.status.idle": "2022-05-11T14:35:53.231570Z",
     "shell.execute_reply": "2022-05-11T14:35:53.230941Z"
    }
   },
   "outputs": [
    {
     "name": "stdout",
     "output_type": "stream",
     "text": [
      "CPU times: user 143 ms, sys: 9.14 ms, total: 152 ms\n",
      "Wall time: 864 ms\n"
     ]
    },
    {
     "data": {
      "text/plain": [
       "name\n",
       "Alice       12045\n",
       "Bob         16331\n",
       "Charlie     17014\n",
       "Dan         14266\n",
       "Edith       40049\n",
       "Frank        3196\n",
       "George      21248\n",
       "Hannah       5762\n",
       "Ingrid      22674\n",
       "Jerry       16726\n",
       "Kevin       16654\n",
       "Laura       16890\n",
       "Michael     10128\n",
       "Norbert     40832\n",
       "Oliver       8800\n",
       "Patricia    12730\n",
       "Quinn       12704\n",
       "Ray         24044\n",
       "Sarah       30366\n",
       "Tim         27746\n",
       "Ursula       6587\n",
       "Victor      44581\n",
       "Wendy       11029\n",
       "Xavier      24432\n",
       "Yvonne      25396\n",
       "Zelda       17770\n",
       "Name: transaction-id, dtype: int64"
      ]
     },
     "execution_count": 30,
     "metadata": {},
     "output_type": "execute_result"
    }
   ],
   "source": [
    "%%time\n",
    "# number of transactions per name\n",
    "# note that the time here includes the data load and ingestion\n",
    "df.groupby('name')['transaction-id'].count().compute()"
   ]
  },
  {
   "cell_type": "markdown",
   "metadata": {},
   "source": [
    "## Limitations"
   ]
  },
  {
   "cell_type": "markdown",
   "metadata": {},
   "source": [
    "Bags provide very general computation (any Python function.)  This generality\n",
    "comes at cost.  Bags have the following known limitations\n",
    "\n",
    "1.  Bag operations tend to be slower than array/dataframe computations in the\n",
    "    same way that Python tends to be slower than NumPy/Pandas\n",
    "2.  ``Bag.groupby`` is slow.  You should try to use ``Bag.foldby`` if possible.\n",
    "    Using ``Bag.foldby`` requires more thought. Even better, consider creating\n",
    "    a normalised dataframe."
   ]
  },
  {
   "cell_type": "markdown",
   "metadata": {},
   "source": [
    "## Learn More\n",
    "\n",
    "* [Bag documentation](https://docs.dask.org/en/latest/bag.html)\n",
    "* [Bag screencast](https://youtu.be/-qIiJ1XtSv0)\n",
    "* [Bag API](https://docs.dask.org/en/latest/bag-api.html)\n",
    "* [Bag examples](https://examples.dask.org/bag.html)"
   ]
  },
  {
   "cell_type": "markdown",
   "metadata": {},
   "source": [
    "## Shutdown"
   ]
  },
  {
   "cell_type": "code",
   "execution_count": 31,
   "metadata": {
    "execution": {
     "iopub.execute_input": "2022-05-11T14:35:53.234628Z",
     "iopub.status.busy": "2022-05-11T14:35:53.234220Z",
     "iopub.status.idle": "2022-05-11T14:35:53.599771Z",
     "shell.execute_reply": "2022-05-11T14:35:53.599207Z"
    }
   },
   "outputs": [
    {
     "name": "stderr",
     "output_type": "stream",
     "text": [
      "/usr/share/miniconda3/envs/dask-tutorial/lib/python3.8/site-packages/dask/dataframe/backends.py:187: FutureWarning: pandas.Int64Index is deprecated and will be removed from pandas in a future version. Use pandas.Index with the appropriate dtype instead.\n",
      "  _numeric_index_types = (pd.Int64Index, pd.Float64Index, pd.UInt64Index)\n",
      "/usr/share/miniconda3/envs/dask-tutorial/lib/python3.8/site-packages/dask/dataframe/backends.py:187: FutureWarning: pandas.Float64Index is deprecated and will be removed from pandas in a future version. Use pandas.Index with the appropriate dtype instead.\n",
      "  _numeric_index_types = (pd.Int64Index, pd.Float64Index, pd.UInt64Index)\n",
      "/usr/share/miniconda3/envs/dask-tutorial/lib/python3.8/site-packages/dask/dataframe/backends.py:187: FutureWarning: pandas.UInt64Index is deprecated and will be removed from pandas in a future version. Use pandas.Index with the appropriate dtype instead.\n",
      "  _numeric_index_types = (pd.Int64Index, pd.Float64Index, pd.UInt64Index)\n",
      "/usr/share/miniconda3/envs/dask-tutorial/lib/python3.8/site-packages/dask/dataframe/backends.py:187: FutureWarning: pandas.Int64Index is deprecated and will be removed from pandas in a future version. Use pandas.Index with the appropriate dtype instead.\n",
      "  _numeric_index_types = (pd.Int64Index, pd.Float64Index, pd.UInt64Index)\n",
      "/usr/share/miniconda3/envs/dask-tutorial/lib/python3.8/site-packages/dask/dataframe/backends.py:187: FutureWarning: pandas.Float64Index is deprecated and will be removed from pandas in a future version. Use pandas.Index with the appropriate dtype instead.\n",
      "  _numeric_index_types = (pd.Int64Index, pd.Float64Index, pd.UInt64Index)\n",
      "/usr/share/miniconda3/envs/dask-tutorial/lib/python3.8/site-packages/dask/dataframe/backends.py:187: FutureWarning: pandas.UInt64Index is deprecated and will be removed from pandas in a future version. Use pandas.Index with the appropriate dtype instead.\n",
      "  _numeric_index_types = (pd.Int64Index, pd.Float64Index, pd.UInt64Index)\n",
      "/usr/share/miniconda3/envs/dask-tutorial/lib/python3.8/site-packages/dask/dataframe/backends.py:187: FutureWarning: pandas.Int64Index is deprecated and will be removed from pandas in a future version. Use pandas.Index with the appropriate dtype instead.\n",
      "  _numeric_index_types = (pd.Int64Index, pd.Float64Index, pd.UInt64Index)\n",
      "/usr/share/miniconda3/envs/dask-tutorial/lib/python3.8/site-packages/dask/dataframe/backends.py:187: FutureWarning: pandas.Float64Index is deprecated and will be removed from pandas in a future version. Use pandas.Index with the appropriate dtype instead.\n",
      "  _numeric_index_types = (pd.Int64Index, pd.Float64Index, pd.UInt64Index)\n",
      "/usr/share/miniconda3/envs/dask-tutorial/lib/python3.8/site-packages/dask/dataframe/backends.py:187: FutureWarning: pandas.UInt64Index is deprecated and will be removed from pandas in a future version. Use pandas.Index with the appropriate dtype instead.\n",
      "  _numeric_index_types = (pd.Int64Index, pd.Float64Index, pd.UInt64Index)\n",
      "/usr/share/miniconda3/envs/dask-tutorial/lib/python3.8/site-packages/dask/dataframe/backends.py:187: FutureWarning: pandas.Int64Index is deprecated and will be removed from pandas in a future version. Use pandas.Index with the appropriate dtype instead.\n",
      "  _numeric_index_types = (pd.Int64Index, pd.Float64Index, pd.UInt64Index)\n",
      "/usr/share/miniconda3/envs/dask-tutorial/lib/python3.8/site-packages/dask/dataframe/backends.py:187: FutureWarning: pandas.Float64Index is deprecated and will be removed from pandas in a future version. Use pandas.Index with the appropriate dtype instead.\n",
      "  _numeric_index_types = (pd.Int64Index, pd.Float64Index, pd.UInt64Index)\n",
      "/usr/share/miniconda3/envs/dask-tutorial/lib/python3.8/site-packages/dask/dataframe/backends.py:187: FutureWarning: pandas.UInt64Index is deprecated and will be removed from pandas in a future version. Use pandas.Index with the appropriate dtype instead.\n",
      "  _numeric_index_types = (pd.Int64Index, pd.Float64Index, pd.UInt64Index)\n"
     ]
    }
   ],
   "source": [
    "client.shutdown()"
   ]
  }
 ],
 "metadata": {
  "anaconda-cloud": {},
  "kernelspec": {
   "display_name": "Python 3",
   "language": "python",
   "name": "python3"
  },
  "language_info": {
   "codemirror_mode": {
    "name": "ipython",
    "version": 3
   },
   "file_extension": ".py",
   "mimetype": "text/x-python",
   "name": "python",
   "nbconvert_exporter": "python",
   "pygments_lexer": "ipython3",
   "version": "3.8.13"
  }
 },
 "nbformat": 4,
 "nbformat_minor": 4
}
