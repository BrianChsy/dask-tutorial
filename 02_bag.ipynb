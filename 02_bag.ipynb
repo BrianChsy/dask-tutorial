{
 "cells": [
  {
   "cell_type": "markdown",
   "metadata": {},
   "source": [
    "<img src=\"images/dask_horizontal.svg\" align=\"right\" width=\"30%\">"
   ]
  },
  {
   "cell_type": "markdown",
   "metadata": {},
   "source": [
    "# Bag: Parallel Lists for semi-structured data"
   ]
  },
  {
   "cell_type": "markdown",
   "metadata": {},
   "source": [
    "Dask-bag excels in processing data that can be represented as a sequence of arbitrary inputs. We'll refer to this as \"messy\" data, because it can contain complex nested structures, missing fields, mixtures of data types, etc. The *functional* programming style fits very nicely with standard Python iteration, such as can be found in the `itertools` module.\n",
    "\n",
    "Messy data is often encountered at the beginning of data processing pipelines when large volumes of raw data are first consumed. The initial set of data might be JSON, CSV, XML, or any other format that does not enforce strict structure and datatypes.\n",
    "For this reason, the initial data massaging and processing is often done with Python `list`s, `dict`s, and `set`s.\n",
    "\n",
    "These core data structures are optimized for general-purpose storage and processing.  Adding streaming computation with iterators/generator expressions or libraries like `itertools` or [`toolz`](https://toolz.readthedocs.io/en/latest/) let us process large volumes in a small space.  If we combine this with parallel processing then we can churn through a fair amount of data.\n",
    "\n",
    "Dask.bag is a high-level Dask collection to automate common workloads of this form.  In a nutshell\n",
    "\n",
    "    dask.bag = map, filter, toolz + parallel execution\n",
    "    \n",
    "**Related Documentation**\n",
    "\n",
    "* [Bag documentation](https://docs.dask.org/en/latest/bag.html)\n",
    "* [Bag screencast](https://youtu.be/-qIiJ1XtSv0)\n",
    "* [Bag API](https://docs.dask.org/en/latest/bag-api.html)\n",
    "* [Bag examples](https://examples.dask.org/bag.html)"
   ]
  },
  {
   "cell_type": "markdown",
   "metadata": {},
   "source": [
    "## Create data"
   ]
  },
  {
   "cell_type": "code",
   "execution_count": 1,
   "metadata": {
    "execution": {
     "iopub.execute_input": "2022-05-11T14:49:42.597062Z",
     "iopub.status.busy": "2022-05-11T14:49:42.596522Z",
     "iopub.status.idle": "2022-05-11T14:49:43.168806Z",
     "shell.execute_reply": "2022-05-11T14:49:43.167833Z"
    }
   },
   "outputs": [],
   "source": [
    "%run prep.py -d accounts"
   ]
  },
  {
   "cell_type": "markdown",
   "metadata": {},
   "source": [
    "## Setup"
   ]
  },
  {
   "cell_type": "markdown",
   "metadata": {},
   "source": [
    "Again, we'll use the distributed scheduler. Schedulers will be explained in depth [later](05_distributed.ipynb)."
   ]
  },
  {
   "cell_type": "code",
   "execution_count": 2,
   "metadata": {
    "execution": {
     "iopub.execute_input": "2022-05-11T14:49:43.172398Z",
     "iopub.status.busy": "2022-05-11T14:49:43.172048Z",
     "iopub.status.idle": "2022-05-11T14:49:45.136473Z",
     "shell.execute_reply": "2022-05-11T14:49:45.135501Z"
    }
   },
   "outputs": [],
   "source": [
    "from dask.distributed import Client\n",
    "\n",
    "client = Client(n_workers=4)"
   ]
  },
  {
   "cell_type": "markdown",
   "metadata": {},
   "source": [
    "## Creation"
   ]
  },
  {
   "cell_type": "markdown",
   "metadata": {},
   "source": [
    "You can create a `Bag` from a Python sequence, from files, from data on S3, etc.\n",
    "We demonstrate using `.take()` to show elements of the data. (Doing `.take(1)` results in a tuple with one element)\n",
    "\n",
    "Note that the data are partitioned into blocks, and there are many items per block. In the first example, the two partitions contain five elements each, and in the following two, each file is partitioned into one or more bytes blocks."
   ]
  },
  {
   "cell_type": "code",
   "execution_count": 3,
   "metadata": {
    "execution": {
     "iopub.execute_input": "2022-05-11T14:49:45.140636Z",
     "iopub.status.busy": "2022-05-11T14:49:45.140383Z",
     "iopub.status.idle": "2022-05-11T14:49:45.420154Z",
     "shell.execute_reply": "2022-05-11T14:49:45.419424Z"
    }
   },
   "outputs": [
    {
     "data": {
      "text/plain": [
       "(1, 2, 3)"
      ]
     },
     "execution_count": 3,
     "metadata": {},
     "output_type": "execute_result"
    }
   ],
   "source": [
    "# each element is an integer\n",
    "import dask.bag as db\n",
    "b = db.from_sequence([1, 2, 3, 4, 5, 6, 7, 8, 9, 10], npartitions=2)\n",
    "b.take(3)"
   ]
  },
  {
   "cell_type": "code",
   "execution_count": 4,
   "metadata": {
    "execution": {
     "iopub.execute_input": "2022-05-11T14:49:45.423065Z",
     "iopub.status.busy": "2022-05-11T14:49:45.422839Z",
     "iopub.status.idle": "2022-05-11T14:49:45.522731Z",
     "shell.execute_reply": "2022-05-11T14:49:45.521695Z"
    }
   },
   "outputs": [
    {
     "data": {
      "text/plain": [
       "('{\"id\": 0, \"name\": \"Tim\", \"transactions\": [{\"transaction-id\": 208, \"amount\": 282}, {\"transaction-id\": 367, \"amount\": 436}, {\"transaction-id\": 1290, \"amount\": 349}, {\"transaction-id\": 1954, \"amount\": 362}, {\"transaction-id\": 3742, \"amount\": 315}, {\"transaction-id\": 3776, \"amount\": 424}, {\"transaction-id\": 4771, \"amount\": 358}, {\"transaction-id\": 5087, \"amount\": 413}, {\"transaction-id\": 5765, \"amount\": 361}, {\"transaction-id\": 5966, \"amount\": 422}, {\"transaction-id\": 6024, \"amount\": 447}, {\"transaction-id\": 6115, \"amount\": 334}, {\"transaction-id\": 6402, \"amount\": 370}, {\"transaction-id\": 6442, \"amount\": 375}, {\"transaction-id\": 6602, \"amount\": 366}, {\"transaction-id\": 6627, \"amount\": 449}, {\"transaction-id\": 7471, \"amount\": 381}, {\"transaction-id\": 8077, \"amount\": 338}, {\"transaction-id\": 8580, \"amount\": 399}, {\"transaction-id\": 9027, \"amount\": 428}]}\\n',)"
      ]
     },
     "execution_count": 4,
     "metadata": {},
     "output_type": "execute_result"
    }
   ],
   "source": [
    "# each element is a text file, where each line is a JSON object\n",
    "# note that the compression is handled automatically\n",
    "import os\n",
    "b = db.read_text(os.path.join('data', 'accounts.*.json.gz'))\n",
    "b.take(1)"
   ]
  },
  {
   "cell_type": "code",
   "execution_count": 5,
   "metadata": {
    "execution": {
     "iopub.execute_input": "2022-05-11T14:49:45.525843Z",
     "iopub.status.busy": "2022-05-11T14:49:45.525423Z",
     "iopub.status.idle": "2022-05-11T14:49:45.530139Z",
     "shell.execute_reply": "2022-05-11T14:49:45.529540Z"
    }
   },
   "outputs": [
    {
     "data": {
      "text/plain": [
       "'s3://dask-data/nyc-taxi/2015/yellow_tripdata_2015-01.csv'"
      ]
     },
     "execution_count": 5,
     "metadata": {},
     "output_type": "execute_result"
    }
   ],
   "source": [
    "# Edit sources.py to configure source locations\n",
    "import sources\n",
    "sources.bag_url"
   ]
  },
  {
   "cell_type": "code",
   "execution_count": 6,
   "metadata": {
    "execution": {
     "iopub.execute_input": "2022-05-11T14:49:45.532805Z",
     "iopub.status.busy": "2022-05-11T14:49:45.532356Z",
     "iopub.status.idle": "2022-05-11T14:49:46.232986Z",
     "shell.execute_reply": "2022-05-11T14:49:46.232524Z"
    }
   },
   "outputs": [
    {
     "data": {
      "text/plain": [
       "('VendorID,tpep_pickup_datetime,tpep_dropoff_datetime,passenger_count,trip_distance,pickup_longitude,pickup_latitude,RateCodeID,store_and_fwd_flag,dropoff_longitude,dropoff_latitude,payment_type,fare_amount,extra,mta_tax,tip_amount,tolls_amount,improvement_surcharge,total_amount\\n',)"
      ]
     },
     "execution_count": 6,
     "metadata": {},
     "output_type": "execute_result"
    }
   ],
   "source": [
    "# Requires `s3fs` library\n",
    "# each partition is a remote CSV text file\n",
    "b = db.read_text(sources.bag_url,\n",
    "                 storage_options={'anon': True})\n",
    "b.take(1)"
   ]
  },
  {
   "cell_type": "markdown",
   "metadata": {},
   "source": [
    "## Manipulation"
   ]
  },
  {
   "cell_type": "markdown",
   "metadata": {},
   "source": [
    "`Bag` objects hold the standard functional API found in projects like the Python standard library, `toolz`, or `pyspark`, including `map`, `filter`, `groupby`, etc..\n",
    "\n",
    "Operations on `Bag` objects create new bags.  Call the `.compute()` method to trigger execution, as we saw for `Delayed` objects.  "
   ]
  },
  {
   "cell_type": "code",
   "execution_count": 7,
   "metadata": {
    "execution": {
     "iopub.execute_input": "2022-05-11T14:49:46.236699Z",
     "iopub.status.busy": "2022-05-11T14:49:46.235903Z",
     "iopub.status.idle": "2022-05-11T14:49:46.243064Z",
     "shell.execute_reply": "2022-05-11T14:49:46.242529Z"
    }
   },
   "outputs": [
    {
     "data": {
      "text/plain": [
       "dask.bag<lambda, npartitions=10>"
      ]
     },
     "execution_count": 7,
     "metadata": {},
     "output_type": "execute_result"
    }
   ],
   "source": [
    "def is_even(n):\n",
    "    return n % 2 == 0\n",
    "\n",
    "b = db.from_sequence([1, 2, 3, 4, 5, 6, 7, 8, 9, 10])\n",
    "c = b.filter(is_even).map(lambda x: x ** 2)\n",
    "c"
   ]
  },
  {
   "cell_type": "code",
   "execution_count": 8,
   "metadata": {
    "execution": {
     "iopub.execute_input": "2022-05-11T14:49:46.245708Z",
     "iopub.status.busy": "2022-05-11T14:49:46.245148Z",
     "iopub.status.idle": "2022-05-11T14:49:46.381949Z",
     "shell.execute_reply": "2022-05-11T14:49:46.381444Z"
    }
   },
   "outputs": [
    {
     "data": {
      "text/plain": [
       "[4, 16, 36, 64, 100]"
      ]
     },
     "execution_count": 8,
     "metadata": {},
     "output_type": "execute_result"
    }
   ],
   "source": [
    "# blocking form: wait for completion (which is very fast in this case)\n",
    "c.compute()"
   ]
  },
  {
   "cell_type": "markdown",
   "metadata": {},
   "source": [
    "### Example: Accounts JSON data"
   ]
  },
  {
   "cell_type": "markdown",
   "metadata": {},
   "source": [
    "We've created a fake dataset of gzipped JSON data in your data directory.  This is like the example used in the `DataFrame` example we will see later, except that it has bundled up all of the entries for each individual `id` into a single record.  This is similar to data that you might collect off of a document store database or a web API.\n",
    "\n",
    "Each line is a JSON encoded dictionary with the following keys\n",
    "\n",
    "*  id: Unique identifier of the customer\n",
    "*  name: Name of the customer\n",
    "*  transactions: List of `transaction-id`, `amount` pairs, one for each transaction for the customer in that file"
   ]
  },
  {
   "cell_type": "code",
   "execution_count": 9,
   "metadata": {
    "execution": {
     "iopub.execute_input": "2022-05-11T14:49:46.384637Z",
     "iopub.status.busy": "2022-05-11T14:49:46.384287Z",
     "iopub.status.idle": "2022-05-11T14:49:46.420576Z",
     "shell.execute_reply": "2022-05-11T14:49:46.419622Z"
    }
   },
   "outputs": [
    {
     "data": {
      "text/plain": [
       "('{\"id\": 0, \"name\": \"Tim\", \"transactions\": [{\"transaction-id\": 208, \"amount\": 282}, {\"transaction-id\": 367, \"amount\": 436}, {\"transaction-id\": 1290, \"amount\": 349}, {\"transaction-id\": 1954, \"amount\": 362}, {\"transaction-id\": 3742, \"amount\": 315}, {\"transaction-id\": 3776, \"amount\": 424}, {\"transaction-id\": 4771, \"amount\": 358}, {\"transaction-id\": 5087, \"amount\": 413}, {\"transaction-id\": 5765, \"amount\": 361}, {\"transaction-id\": 5966, \"amount\": 422}, {\"transaction-id\": 6024, \"amount\": 447}, {\"transaction-id\": 6115, \"amount\": 334}, {\"transaction-id\": 6402, \"amount\": 370}, {\"transaction-id\": 6442, \"amount\": 375}, {\"transaction-id\": 6602, \"amount\": 366}, {\"transaction-id\": 6627, \"amount\": 449}, {\"transaction-id\": 7471, \"amount\": 381}, {\"transaction-id\": 8077, \"amount\": 338}, {\"transaction-id\": 8580, \"amount\": 399}, {\"transaction-id\": 9027, \"amount\": 428}]}\\n',\n",
       " '{\"id\": 4, \"name\": \"George\", \"transactions\": [{\"transaction-id\": 0, \"amount\": 69}, {\"transaction-id\": 290, \"amount\": 72}, {\"transaction-id\": 323, \"amount\": 70}, {\"transaction-id\": 594, \"amount\": 66}, {\"transaction-id\": 672, \"amount\": 69}, {\"transaction-id\": 727, \"amount\": 69}, {\"transaction-id\": 942, \"amount\": 57}, {\"transaction-id\": 958, \"amount\": 68}, {\"transaction-id\": 992, \"amount\": 64}, {\"transaction-id\": 1020, \"amount\": 70}, {\"transaction-id\": 1049, \"amount\": 60}, {\"transaction-id\": 1143, \"amount\": 71}, {\"transaction-id\": 1486, \"amount\": 61}, {\"transaction-id\": 2084, \"amount\": 68}, {\"transaction-id\": 2502, \"amount\": 61}, {\"transaction-id\": 2787, \"amount\": 66}, {\"transaction-id\": 2935, \"amount\": 82}, {\"transaction-id\": 2998, \"amount\": 60}, {\"transaction-id\": 3016, \"amount\": 67}, {\"transaction-id\": 3768, \"amount\": 63}, {\"transaction-id\": 4067, \"amount\": 75}, {\"transaction-id\": 4393, \"amount\": 67}, {\"transaction-id\": 4646, \"amount\": 67}, {\"transaction-id\": 4684, \"amount\": 64}, {\"transaction-id\": 5186, \"amount\": 68}, {\"transaction-id\": 5435, \"amount\": 58}, {\"transaction-id\": 5496, \"amount\": 71}, {\"transaction-id\": 5531, \"amount\": 57}, {\"transaction-id\": 6114, \"amount\": 71}, {\"transaction-id\": 6262, \"amount\": 66}, {\"transaction-id\": 6845, \"amount\": 67}, {\"transaction-id\": 6886, \"amount\": 67}, {\"transaction-id\": 7228, \"amount\": 70}, {\"transaction-id\": 7239, \"amount\": 56}, {\"transaction-id\": 7307, \"amount\": 73}, {\"transaction-id\": 7686, \"amount\": 71}, {\"transaction-id\": 7806, \"amount\": 65}, {\"transaction-id\": 8233, \"amount\": 67}, {\"transaction-id\": 8428, \"amount\": 76}, {\"transaction-id\": 8636, \"amount\": 69}, {\"transaction-id\": 9410, \"amount\": 68}, {\"transaction-id\": 9924, \"amount\": 59}]}\\n',\n",
       " '{\"id\": 5, \"name\": \"Edith\", \"transactions\": [{\"transaction-id\": 100, \"amount\": -144}, {\"transaction-id\": 463, \"amount\": -110}, {\"transaction-id\": 542, \"amount\": -179}, {\"transaction-id\": 697, \"amount\": -310}, {\"transaction-id\": 920, \"amount\": -217}, {\"transaction-id\": 1818, \"amount\": 6}, {\"transaction-id\": 2243, \"amount\": -142}, {\"transaction-id\": 2894, \"amount\": -227}, {\"transaction-id\": 3075, \"amount\": -156}, {\"transaction-id\": 3140, \"amount\": -187}, {\"transaction-id\": 3609, \"amount\": -156}, {\"transaction-id\": 3679, \"amount\": -310}, {\"transaction-id\": 4290, \"amount\": -167}, {\"transaction-id\": 4967, \"amount\": -146}, {\"transaction-id\": 5032, \"amount\": -155}, {\"transaction-id\": 6206, \"amount\": -195}, {\"transaction-id\": 6324, \"amount\": -196}, {\"transaction-id\": 6618, \"amount\": -70}, {\"transaction-id\": 6651, \"amount\": -149}, {\"transaction-id\": 7103, \"amount\": -205}, {\"transaction-id\": 7517, \"amount\": -174}, {\"transaction-id\": 7562, \"amount\": -197}, {\"transaction-id\": 7628, \"amount\": -205}, {\"transaction-id\": 7943, \"amount\": -297}, {\"transaction-id\": 9399, \"amount\": -110}]}\\n')"
      ]
     },
     "execution_count": 9,
     "metadata": {},
     "output_type": "execute_result"
    }
   ],
   "source": [
    "filename = os.path.join('data', 'accounts.*.json.gz')\n",
    "lines = db.read_text(filename)\n",
    "lines.take(3)"
   ]
  },
  {
   "cell_type": "markdown",
   "metadata": {},
   "source": [
    "Our data comes out of the file as lines of text. Notice that file decompression happened automatically. We can make this data look more reasonable by mapping the `json.loads` function onto our bag."
   ]
  },
  {
   "cell_type": "code",
   "execution_count": 10,
   "metadata": {
    "execution": {
     "iopub.execute_input": "2022-05-11T14:49:46.423435Z",
     "iopub.status.busy": "2022-05-11T14:49:46.422960Z",
     "iopub.status.idle": "2022-05-11T14:49:46.453128Z",
     "shell.execute_reply": "2022-05-11T14:49:46.452608Z"
    }
   },
   "outputs": [
    {
     "data": {
      "text/plain": [
       "({'id': 0,\n",
       "  'name': 'Tim',\n",
       "  'transactions': [{'transaction-id': 208, 'amount': 282},\n",
       "   {'transaction-id': 367, 'amount': 436},\n",
       "   {'transaction-id': 1290, 'amount': 349},\n",
       "   {'transaction-id': 1954, 'amount': 362},\n",
       "   {'transaction-id': 3742, 'amount': 315},\n",
       "   {'transaction-id': 3776, 'amount': 424},\n",
       "   {'transaction-id': 4771, 'amount': 358},\n",
       "   {'transaction-id': 5087, 'amount': 413},\n",
       "   {'transaction-id': 5765, 'amount': 361},\n",
       "   {'transaction-id': 5966, 'amount': 422},\n",
       "   {'transaction-id': 6024, 'amount': 447},\n",
       "   {'transaction-id': 6115, 'amount': 334},\n",
       "   {'transaction-id': 6402, 'amount': 370},\n",
       "   {'transaction-id': 6442, 'amount': 375},\n",
       "   {'transaction-id': 6602, 'amount': 366},\n",
       "   {'transaction-id': 6627, 'amount': 449},\n",
       "   {'transaction-id': 7471, 'amount': 381},\n",
       "   {'transaction-id': 8077, 'amount': 338},\n",
       "   {'transaction-id': 8580, 'amount': 399},\n",
       "   {'transaction-id': 9027, 'amount': 428}]},\n",
       " {'id': 4,\n",
       "  'name': 'George',\n",
       "  'transactions': [{'transaction-id': 0, 'amount': 69},\n",
       "   {'transaction-id': 290, 'amount': 72},\n",
       "   {'transaction-id': 323, 'amount': 70},\n",
       "   {'transaction-id': 594, 'amount': 66},\n",
       "   {'transaction-id': 672, 'amount': 69},\n",
       "   {'transaction-id': 727, 'amount': 69},\n",
       "   {'transaction-id': 942, 'amount': 57},\n",
       "   {'transaction-id': 958, 'amount': 68},\n",
       "   {'transaction-id': 992, 'amount': 64},\n",
       "   {'transaction-id': 1020, 'amount': 70},\n",
       "   {'transaction-id': 1049, 'amount': 60},\n",
       "   {'transaction-id': 1143, 'amount': 71},\n",
       "   {'transaction-id': 1486, 'amount': 61},\n",
       "   {'transaction-id': 2084, 'amount': 68},\n",
       "   {'transaction-id': 2502, 'amount': 61},\n",
       "   {'transaction-id': 2787, 'amount': 66},\n",
       "   {'transaction-id': 2935, 'amount': 82},\n",
       "   {'transaction-id': 2998, 'amount': 60},\n",
       "   {'transaction-id': 3016, 'amount': 67},\n",
       "   {'transaction-id': 3768, 'amount': 63},\n",
       "   {'transaction-id': 4067, 'amount': 75},\n",
       "   {'transaction-id': 4393, 'amount': 67},\n",
       "   {'transaction-id': 4646, 'amount': 67},\n",
       "   {'transaction-id': 4684, 'amount': 64},\n",
       "   {'transaction-id': 5186, 'amount': 68},\n",
       "   {'transaction-id': 5435, 'amount': 58},\n",
       "   {'transaction-id': 5496, 'amount': 71},\n",
       "   {'transaction-id': 5531, 'amount': 57},\n",
       "   {'transaction-id': 6114, 'amount': 71},\n",
       "   {'transaction-id': 6262, 'amount': 66},\n",
       "   {'transaction-id': 6845, 'amount': 67},\n",
       "   {'transaction-id': 6886, 'amount': 67},\n",
       "   {'transaction-id': 7228, 'amount': 70},\n",
       "   {'transaction-id': 7239, 'amount': 56},\n",
       "   {'transaction-id': 7307, 'amount': 73},\n",
       "   {'transaction-id': 7686, 'amount': 71},\n",
       "   {'transaction-id': 7806, 'amount': 65},\n",
       "   {'transaction-id': 8233, 'amount': 67},\n",
       "   {'transaction-id': 8428, 'amount': 76},\n",
       "   {'transaction-id': 8636, 'amount': 69},\n",
       "   {'transaction-id': 9410, 'amount': 68},\n",
       "   {'transaction-id': 9924, 'amount': 59}]},\n",
       " {'id': 5,\n",
       "  'name': 'Edith',\n",
       "  'transactions': [{'transaction-id': 100, 'amount': -144},\n",
       "   {'transaction-id': 463, 'amount': -110},\n",
       "   {'transaction-id': 542, 'amount': -179},\n",
       "   {'transaction-id': 697, 'amount': -310},\n",
       "   {'transaction-id': 920, 'amount': -217},\n",
       "   {'transaction-id': 1818, 'amount': 6},\n",
       "   {'transaction-id': 2243, 'amount': -142},\n",
       "   {'transaction-id': 2894, 'amount': -227},\n",
       "   {'transaction-id': 3075, 'amount': -156},\n",
       "   {'transaction-id': 3140, 'amount': -187},\n",
       "   {'transaction-id': 3609, 'amount': -156},\n",
       "   {'transaction-id': 3679, 'amount': -310},\n",
       "   {'transaction-id': 4290, 'amount': -167},\n",
       "   {'transaction-id': 4967, 'amount': -146},\n",
       "   {'transaction-id': 5032, 'amount': -155},\n",
       "   {'transaction-id': 6206, 'amount': -195},\n",
       "   {'transaction-id': 6324, 'amount': -196},\n",
       "   {'transaction-id': 6618, 'amount': -70},\n",
       "   {'transaction-id': 6651, 'amount': -149},\n",
       "   {'transaction-id': 7103, 'amount': -205},\n",
       "   {'transaction-id': 7517, 'amount': -174},\n",
       "   {'transaction-id': 7562, 'amount': -197},\n",
       "   {'transaction-id': 7628, 'amount': -205},\n",
       "   {'transaction-id': 7943, 'amount': -297},\n",
       "   {'transaction-id': 9399, 'amount': -110}]})"
      ]
     },
     "execution_count": 10,
     "metadata": {},
     "output_type": "execute_result"
    }
   ],
   "source": [
    "import json\n",
    "js = lines.map(json.loads)\n",
    "# take: inspect first few elements\n",
    "js.take(3)"
   ]
  },
  {
   "cell_type": "markdown",
   "metadata": {},
   "source": [
    "### Basic Queries"
   ]
  },
  {
   "cell_type": "markdown",
   "metadata": {},
   "source": [
    "Once we parse our JSON data into proper Python objects (`dict`s, `list`s, etc.) we can perform more interesting queries by creating small Python functions to run on our data."
   ]
  },
  {
   "cell_type": "code",
   "execution_count": 11,
   "metadata": {
    "execution": {
     "iopub.execute_input": "2022-05-11T14:49:46.456207Z",
     "iopub.status.busy": "2022-05-11T14:49:46.455629Z",
     "iopub.status.idle": "2022-05-11T14:49:46.621899Z",
     "shell.execute_reply": "2022-05-11T14:49:46.621348Z"
    }
   },
   "outputs": [
    {
     "data": {
      "text/plain": [
       "({'id': 16,\n",
       "  'name': 'Alice',\n",
       "  'transactions': [{'transaction-id': 91, 'amount': 1210},\n",
       "   {'transaction-id': 331, 'amount': 1131},\n",
       "   {'transaction-id': 712, 'amount': 1156},\n",
       "   {'transaction-id': 921, 'amount': 1139},\n",
       "   {'transaction-id': 934, 'amount': 1228},\n",
       "   {'transaction-id': 1236, 'amount': 1169},\n",
       "   {'transaction-id': 1260, 'amount': 1152},\n",
       "   {'transaction-id': 1468, 'amount': 1124},\n",
       "   {'transaction-id': 1730, 'amount': 1213},\n",
       "   {'transaction-id': 2050, 'amount': 1181},\n",
       "   {'transaction-id': 2532, 'amount': 1266},\n",
       "   {'transaction-id': 2799, 'amount': 1013},\n",
       "   {'transaction-id': 3224, 'amount': 1270},\n",
       "   {'transaction-id': 3499, 'amount': 1211},\n",
       "   {'transaction-id': 3827, 'amount': 1199},\n",
       "   {'transaction-id': 3920, 'amount': 1152},\n",
       "   {'transaction-id': 4324, 'amount': 1212},\n",
       "   {'transaction-id': 4350, 'amount': 1175},\n",
       "   {'transaction-id': 4438, 'amount': 1159},\n",
       "   {'transaction-id': 4705, 'amount': 1203},\n",
       "   {'transaction-id': 4746, 'amount': 1255},\n",
       "   {'transaction-id': 4816, 'amount': 1234},\n",
       "   {'transaction-id': 4869, 'amount': 1200},\n",
       "   {'transaction-id': 4958, 'amount': 1219},\n",
       "   {'transaction-id': 5670, 'amount': 1230},\n",
       "   {'transaction-id': 5682, 'amount': 1236},\n",
       "   {'transaction-id': 5900, 'amount': 1183},\n",
       "   {'transaction-id': 6162, 'amount': 1209},\n",
       "   {'transaction-id': 6182, 'amount': 1179},\n",
       "   {'transaction-id': 6674, 'amount': 1201},\n",
       "   {'transaction-id': 6776, 'amount': 1234},\n",
       "   {'transaction-id': 7416, 'amount': 1244},\n",
       "   {'transaction-id': 7484, 'amount': 1176},\n",
       "   {'transaction-id': 7676, 'amount': 1252},\n",
       "   {'transaction-id': 8162, 'amount': 1240},\n",
       "   {'transaction-id': 8836, 'amount': 1221},\n",
       "   {'transaction-id': 8990, 'amount': 1251},\n",
       "   {'transaction-id': 9006, 'amount': 1154},\n",
       "   {'transaction-id': 9178, 'amount': 1188},\n",
       "   {'transaction-id': 9256, 'amount': 1138},\n",
       "   {'transaction-id': 9750, 'amount': 1154},\n",
       "   {'transaction-id': 9764, 'amount': 1216}]},\n",
       " {'id': 26,\n",
       "  'name': 'Alice',\n",
       "  'transactions': [{'transaction-id': 952, 'amount': 58},\n",
       "   {'transaction-id': 1614, 'amount': 60},\n",
       "   {'transaction-id': 1650, 'amount': 58},\n",
       "   {'transaction-id': 1858, 'amount': 50},\n",
       "   {'transaction-id': 3378, 'amount': 57},\n",
       "   {'transaction-id': 4264, 'amount': 56},\n",
       "   {'transaction-id': 5284, 'amount': 65},\n",
       "   {'transaction-id': 5647, 'amount': 70},\n",
       "   {'transaction-id': 6594, 'amount': 59},\n",
       "   {'transaction-id': 8110, 'amount': 55},\n",
       "   {'transaction-id': 8347, 'amount': 55},\n",
       "   {'transaction-id': 8631, 'amount': 60},\n",
       "   {'transaction-id': 8800, 'amount': 63},\n",
       "   {'transaction-id': 9693, 'amount': 59}]},\n",
       " {'id': 37,\n",
       "  'name': 'Alice',\n",
       "  'transactions': [{'transaction-id': 507, 'amount': 301},\n",
       "   {'transaction-id': 866, 'amount': 279},\n",
       "   {'transaction-id': 5864, 'amount': 215},\n",
       "   {'transaction-id': 7014, 'amount': 272},\n",
       "   {'transaction-id': 8305, 'amount': 244},\n",
       "   {'transaction-id': 9554, 'amount': 194}]},\n",
       " {'id': 45,\n",
       "  'name': 'Alice',\n",
       "  'transactions': [{'transaction-id': 11, 'amount': 3559},\n",
       "   {'transaction-id': 213, 'amount': 3461},\n",
       "   {'transaction-id': 272, 'amount': 3628},\n",
       "   {'transaction-id': 708, 'amount': 3525},\n",
       "   {'transaction-id': 786, 'amount': 3622},\n",
       "   {'transaction-id': 826, 'amount': 3614},\n",
       "   {'transaction-id': 853, 'amount': 3563},\n",
       "   {'transaction-id': 884, 'amount': 3703},\n",
       "   {'transaction-id': 901, 'amount': 3495},\n",
       "   {'transaction-id': 1006, 'amount': 3842},\n",
       "   {'transaction-id': 1067, 'amount': 3896},\n",
       "   {'transaction-id': 1094, 'amount': 3513},\n",
       "   {'transaction-id': 1191, 'amount': 3495},\n",
       "   {'transaction-id': 1234, 'amount': 3507},\n",
       "   {'transaction-id': 1405, 'amount': 3742},\n",
       "   {'transaction-id': 1599, 'amount': 3452},\n",
       "   {'transaction-id': 1634, 'amount': 3558},\n",
       "   {'transaction-id': 1695, 'amount': 3539},\n",
       "   {'transaction-id': 1702, 'amount': 3654},\n",
       "   {'transaction-id': 1811, 'amount': 3648},\n",
       "   {'transaction-id': 1852, 'amount': 3586},\n",
       "   {'transaction-id': 1875, 'amount': 3490},\n",
       "   {'transaction-id': 2005, 'amount': 3458},\n",
       "   {'transaction-id': 2043, 'amount': 3523},\n",
       "   {'transaction-id': 2054, 'amount': 3581},\n",
       "   {'transaction-id': 2089, 'amount': 3471},\n",
       "   {'transaction-id': 2090, 'amount': 3453},\n",
       "   {'transaction-id': 2172, 'amount': 3557},\n",
       "   {'transaction-id': 2269, 'amount': 3522},\n",
       "   {'transaction-id': 2276, 'amount': 3654},\n",
       "   {'transaction-id': 2413, 'amount': 3531},\n",
       "   {'transaction-id': 2439, 'amount': 3521},\n",
       "   {'transaction-id': 2453, 'amount': 3637},\n",
       "   {'transaction-id': 2458, 'amount': 3450},\n",
       "   {'transaction-id': 2652, 'amount': 3664},\n",
       "   {'transaction-id': 2662, 'amount': 3558},\n",
       "   {'transaction-id': 2702, 'amount': 3515},\n",
       "   {'transaction-id': 2804, 'amount': 3680},\n",
       "   {'transaction-id': 2874, 'amount': 3589},\n",
       "   {'transaction-id': 3131, 'amount': 3448},\n",
       "   {'transaction-id': 3177, 'amount': 3639},\n",
       "   {'transaction-id': 3222, 'amount': 3355},\n",
       "   {'transaction-id': 3533, 'amount': 3474},\n",
       "   {'transaction-id': 3557, 'amount': 3539},\n",
       "   {'transaction-id': 3568, 'amount': 3434},\n",
       "   {'transaction-id': 3631, 'amount': 3580},\n",
       "   {'transaction-id': 3682, 'amount': 3475},\n",
       "   {'transaction-id': 3708, 'amount': 3617},\n",
       "   {'transaction-id': 3799, 'amount': 3569},\n",
       "   {'transaction-id': 3895, 'amount': 3637},\n",
       "   {'transaction-id': 4037, 'amount': 3671},\n",
       "   {'transaction-id': 4105, 'amount': 3665},\n",
       "   {'transaction-id': 4158, 'amount': 3675},\n",
       "   {'transaction-id': 4225, 'amount': 3711},\n",
       "   {'transaction-id': 4248, 'amount': 3536},\n",
       "   {'transaction-id': 4294, 'amount': 3536},\n",
       "   {'transaction-id': 4363, 'amount': 3702},\n",
       "   {'transaction-id': 4531, 'amount': 3587},\n",
       "   {'transaction-id': 4562, 'amount': 3609},\n",
       "   {'transaction-id': 4583, 'amount': 3541},\n",
       "   {'transaction-id': 4613, 'amount': 3633},\n",
       "   {'transaction-id': 4802, 'amount': 3664},\n",
       "   {'transaction-id': 4916, 'amount': 3526},\n",
       "   {'transaction-id': 4947, 'amount': 3632},\n",
       "   {'transaction-id': 4954, 'amount': 3481},\n",
       "   {'transaction-id': 5079, 'amount': 3642},\n",
       "   {'transaction-id': 5114, 'amount': 3712},\n",
       "   {'transaction-id': 5218, 'amount': 3563},\n",
       "   {'transaction-id': 5545, 'amount': 3578},\n",
       "   {'transaction-id': 5625, 'amount': 3546},\n",
       "   {'transaction-id': 5671, 'amount': 3639},\n",
       "   {'transaction-id': 5731, 'amount': 3450},\n",
       "   {'transaction-id': 5832, 'amount': 3520},\n",
       "   {'transaction-id': 5950, 'amount': 3697},\n",
       "   {'transaction-id': 5954, 'amount': 3541},\n",
       "   {'transaction-id': 6107, 'amount': 3498},\n",
       "   {'transaction-id': 6133, 'amount': 3605},\n",
       "   {'transaction-id': 6204, 'amount': 3642},\n",
       "   {'transaction-id': 6339, 'amount': 3566},\n",
       "   {'transaction-id': 6363, 'amount': 3477},\n",
       "   {'transaction-id': 6422, 'amount': 3655},\n",
       "   {'transaction-id': 6450, 'amount': 3551},\n",
       "   {'transaction-id': 6467, 'amount': 3554},\n",
       "   {'transaction-id': 6493, 'amount': 3565},\n",
       "   {'transaction-id': 6552, 'amount': 3551},\n",
       "   {'transaction-id': 6572, 'amount': 3567},\n",
       "   {'transaction-id': 6612, 'amount': 3505},\n",
       "   {'transaction-id': 6620, 'amount': 3554},\n",
       "   {'transaction-id': 6782, 'amount': 3576},\n",
       "   {'transaction-id': 6785, 'amount': 3463},\n",
       "   {'transaction-id': 6794, 'amount': 3644},\n",
       "   {'transaction-id': 6798, 'amount': 3687},\n",
       "   {'transaction-id': 6813, 'amount': 3438},\n",
       "   {'transaction-id': 6871, 'amount': 3466},\n",
       "   {'transaction-id': 6947, 'amount': 3636},\n",
       "   {'transaction-id': 6958, 'amount': 3594},\n",
       "   {'transaction-id': 6977, 'amount': 3682},\n",
       "   {'transaction-id': 6996, 'amount': 3620},\n",
       "   {'transaction-id': 7062, 'amount': 3540},\n",
       "   {'transaction-id': 7167, 'amount': 3471},\n",
       "   {'transaction-id': 7251, 'amount': 3498},\n",
       "   {'transaction-id': 7396, 'amount': 3641},\n",
       "   {'transaction-id': 7541, 'amount': 3468},\n",
       "   {'transaction-id': 7546, 'amount': 3691},\n",
       "   {'transaction-id': 7631, 'amount': 3583},\n",
       "   {'transaction-id': 7665, 'amount': 3651},\n",
       "   {'transaction-id': 7983, 'amount': 3618},\n",
       "   {'transaction-id': 7985, 'amount': 3624},\n",
       "   {'transaction-id': 8071, 'amount': 3622},\n",
       "   {'transaction-id': 8179, 'amount': 3675},\n",
       "   {'transaction-id': 8203, 'amount': 3485},\n",
       "   {'transaction-id': 8212, 'amount': 3536},\n",
       "   {'transaction-id': 8413, 'amount': 3590},\n",
       "   {'transaction-id': 8499, 'amount': 3610},\n",
       "   {'transaction-id': 8623, 'amount': 3506},\n",
       "   {'transaction-id': 8713, 'amount': 3590},\n",
       "   {'transaction-id': 8779, 'amount': 3617},\n",
       "   {'transaction-id': 8928, 'amount': 3671},\n",
       "   {'transaction-id': 8972, 'amount': 3648},\n",
       "   {'transaction-id': 9042, 'amount': 3534},\n",
       "   {'transaction-id': 9050, 'amount': 3588},\n",
       "   {'transaction-id': 9075, 'amount': 3488},\n",
       "   {'transaction-id': 9160, 'amount': 3486},\n",
       "   {'transaction-id': 9224, 'amount': 3628},\n",
       "   {'transaction-id': 9379, 'amount': 3582},\n",
       "   {'transaction-id': 9417, 'amount': 3639},\n",
       "   {'transaction-id': 9476, 'amount': 3338},\n",
       "   {'transaction-id': 9704, 'amount': 3516},\n",
       "   {'transaction-id': 9890, 'amount': 3597}]},\n",
       " {'id': 80,\n",
       "  'name': 'Alice',\n",
       "  'transactions': [{'transaction-id': 262, 'amount': 382},\n",
       "   {'transaction-id': 849, 'amount': 259},\n",
       "   {'transaction-id': 980, 'amount': 438},\n",
       "   {'transaction-id': 1128, 'amount': 366},\n",
       "   {'transaction-id': 1233, 'amount': 539},\n",
       "   {'transaction-id': 1792, 'amount': 503},\n",
       "   {'transaction-id': 1887, 'amount': 573},\n",
       "   {'transaction-id': 1957, 'amount': 306},\n",
       "   {'transaction-id': 2369, 'amount': 472},\n",
       "   {'transaction-id': 2446, 'amount': 525},\n",
       "   {'transaction-id': 2515, 'amount': 403},\n",
       "   {'transaction-id': 2717, 'amount': 291},\n",
       "   {'transaction-id': 2733, 'amount': 503},\n",
       "   {'transaction-id': 3217, 'amount': 564},\n",
       "   {'transaction-id': 3667, 'amount': 380},\n",
       "   {'transaction-id': 4050, 'amount': 493},\n",
       "   {'transaction-id': 4384, 'amount': 411},\n",
       "   {'transaction-id': 4570, 'amount': 365},\n",
       "   {'transaction-id': 4634, 'amount': 374},\n",
       "   {'transaction-id': 4959, 'amount': 329},\n",
       "   {'transaction-id': 4964, 'amount': 541},\n",
       "   {'transaction-id': 5092, 'amount': 620},\n",
       "   {'transaction-id': 5674, 'amount': 457},\n",
       "   {'transaction-id': 5676, 'amount': 439},\n",
       "   {'transaction-id': 6147, 'amount': 285},\n",
       "   {'transaction-id': 6227, 'amount': 431},\n",
       "   {'transaction-id': 6235, 'amount': 387},\n",
       "   {'transaction-id': 6761, 'amount': 437},\n",
       "   {'transaction-id': 7325, 'amount': 471},\n",
       "   {'transaction-id': 7452, 'amount': 551},\n",
       "   {'transaction-id': 7875, 'amount': 370},\n",
       "   {'transaction-id': 7881, 'amount': 432},\n",
       "   {'transaction-id': 8034, 'amount': 500},\n",
       "   {'transaction-id': 8078, 'amount': 459},\n",
       "   {'transaction-id': 8348, 'amount': 499},\n",
       "   {'transaction-id': 8485, 'amount': 434},\n",
       "   {'transaction-id': 8571, 'amount': 439},\n",
       "   {'transaction-id': 8763, 'amount': 534},\n",
       "   {'transaction-id': 8901, 'amount': 324},\n",
       "   {'transaction-id': 9303, 'amount': 635},\n",
       "   {'transaction-id': 9785, 'amount': 397},\n",
       "   {'transaction-id': 9811, 'amount': 481}]})"
      ]
     },
     "execution_count": 11,
     "metadata": {},
     "output_type": "execute_result"
    }
   ],
   "source": [
    "# filter: keep only some elements of the sequence\n",
    "js.filter(lambda record: record['name'] == 'Alice').take(5)"
   ]
  },
  {
   "cell_type": "code",
   "execution_count": 12,
   "metadata": {
    "execution": {
     "iopub.execute_input": "2022-05-11T14:49:46.624887Z",
     "iopub.status.busy": "2022-05-11T14:49:46.624543Z",
     "iopub.status.idle": "2022-05-11T14:49:46.653927Z",
     "shell.execute_reply": "2022-05-11T14:49:46.653426Z"
    }
   },
   "outputs": [
    {
     "data": {
      "text/plain": [
       "({'name': 'Alice', 'count': 42},\n",
       " {'name': 'Alice', 'count': 14},\n",
       " {'name': 'Alice', 'count': 6},\n",
       " {'name': 'Alice', 'count': 129},\n",
       " {'name': 'Alice', 'count': 42})"
      ]
     },
     "execution_count": 12,
     "metadata": {},
     "output_type": "execute_result"
    }
   ],
   "source": [
    "def count_transactions(d):\n",
    "    return {'name': d['name'], 'count': len(d['transactions'])}\n",
    "\n",
    "# map: apply a function to each element\n",
    "(js.filter(lambda record: record['name'] == 'Alice')\n",
    "   .map(count_transactions)\n",
    "   .take(5))"
   ]
  },
  {
   "cell_type": "code",
   "execution_count": 13,
   "metadata": {
    "execution": {
     "iopub.execute_input": "2022-05-11T14:49:46.656519Z",
     "iopub.status.busy": "2022-05-11T14:49:46.656117Z",
     "iopub.status.idle": "2022-05-11T14:49:46.681571Z",
     "shell.execute_reply": "2022-05-11T14:49:46.680859Z"
    }
   },
   "outputs": [
    {
     "data": {
      "text/plain": [
       "(42, 14, 6, 129, 42)"
      ]
     },
     "execution_count": 13,
     "metadata": {},
     "output_type": "execute_result"
    }
   ],
   "source": [
    "# pluck: select a field, as from a dictionary, element[field]\n",
    "(js.filter(lambda record: record['name'] == 'Alice')\n",
    "   .map(count_transactions)\n",
    "   .pluck('count')\n",
    "   .take(5))"
   ]
  },
  {
   "cell_type": "code",
   "execution_count": 14,
   "metadata": {
    "execution": {
     "iopub.execute_input": "2022-05-11T14:49:46.684250Z",
     "iopub.status.busy": "2022-05-11T14:49:46.683902Z",
     "iopub.status.idle": "2022-05-11T14:49:47.066486Z",
     "shell.execute_reply": "2022-05-11T14:49:47.065468Z"
    }
   },
   "outputs": [
    {
     "data": {
      "text/plain": [
       "45.18"
      ]
     },
     "execution_count": 14,
     "metadata": {},
     "output_type": "execute_result"
    }
   ],
   "source": [
    "# Average number of transactions for all of the Alice entries\n",
    "(js.filter(lambda record: record['name'] == 'Alice')\n",
    "   .map(count_transactions)\n",
    "   .pluck('count')\n",
    "   .mean()\n",
    "   .compute())"
   ]
  },
  {
   "cell_type": "markdown",
   "metadata": {},
   "source": [
    "### Use `flatten` to de-nest"
   ]
  },
  {
   "cell_type": "markdown",
   "metadata": {},
   "source": [
    "In the example below we see the use of `.flatten()` to flatten results.  We compute the average amount for all transactions for all Alices."
   ]
  },
  {
   "cell_type": "code",
   "execution_count": 15,
   "metadata": {
    "execution": {
     "iopub.execute_input": "2022-05-11T14:49:47.070199Z",
     "iopub.status.busy": "2022-05-11T14:49:47.069941Z",
     "iopub.status.idle": "2022-05-11T14:49:47.100639Z",
     "shell.execute_reply": "2022-05-11T14:49:47.099820Z"
    }
   },
   "outputs": [
    {
     "data": {
      "text/plain": [
       "([{'transaction-id': 91, 'amount': 1210},\n",
       "  {'transaction-id': 331, 'amount': 1131},\n",
       "  {'transaction-id': 712, 'amount': 1156},\n",
       "  {'transaction-id': 921, 'amount': 1139},\n",
       "  {'transaction-id': 934, 'amount': 1228},\n",
       "  {'transaction-id': 1236, 'amount': 1169},\n",
       "  {'transaction-id': 1260, 'amount': 1152},\n",
       "  {'transaction-id': 1468, 'amount': 1124},\n",
       "  {'transaction-id': 1730, 'amount': 1213},\n",
       "  {'transaction-id': 2050, 'amount': 1181},\n",
       "  {'transaction-id': 2532, 'amount': 1266},\n",
       "  {'transaction-id': 2799, 'amount': 1013},\n",
       "  {'transaction-id': 3224, 'amount': 1270},\n",
       "  {'transaction-id': 3499, 'amount': 1211},\n",
       "  {'transaction-id': 3827, 'amount': 1199},\n",
       "  {'transaction-id': 3920, 'amount': 1152},\n",
       "  {'transaction-id': 4324, 'amount': 1212},\n",
       "  {'transaction-id': 4350, 'amount': 1175},\n",
       "  {'transaction-id': 4438, 'amount': 1159},\n",
       "  {'transaction-id': 4705, 'amount': 1203},\n",
       "  {'transaction-id': 4746, 'amount': 1255},\n",
       "  {'transaction-id': 4816, 'amount': 1234},\n",
       "  {'transaction-id': 4869, 'amount': 1200},\n",
       "  {'transaction-id': 4958, 'amount': 1219},\n",
       "  {'transaction-id': 5670, 'amount': 1230},\n",
       "  {'transaction-id': 5682, 'amount': 1236},\n",
       "  {'transaction-id': 5900, 'amount': 1183},\n",
       "  {'transaction-id': 6162, 'amount': 1209},\n",
       "  {'transaction-id': 6182, 'amount': 1179},\n",
       "  {'transaction-id': 6674, 'amount': 1201},\n",
       "  {'transaction-id': 6776, 'amount': 1234},\n",
       "  {'transaction-id': 7416, 'amount': 1244},\n",
       "  {'transaction-id': 7484, 'amount': 1176},\n",
       "  {'transaction-id': 7676, 'amount': 1252},\n",
       "  {'transaction-id': 8162, 'amount': 1240},\n",
       "  {'transaction-id': 8836, 'amount': 1221},\n",
       "  {'transaction-id': 8990, 'amount': 1251},\n",
       "  {'transaction-id': 9006, 'amount': 1154},\n",
       "  {'transaction-id': 9178, 'amount': 1188},\n",
       "  {'transaction-id': 9256, 'amount': 1138},\n",
       "  {'transaction-id': 9750, 'amount': 1154},\n",
       "  {'transaction-id': 9764, 'amount': 1216}],\n",
       " [{'transaction-id': 952, 'amount': 58},\n",
       "  {'transaction-id': 1614, 'amount': 60},\n",
       "  {'transaction-id': 1650, 'amount': 58},\n",
       "  {'transaction-id': 1858, 'amount': 50},\n",
       "  {'transaction-id': 3378, 'amount': 57},\n",
       "  {'transaction-id': 4264, 'amount': 56},\n",
       "  {'transaction-id': 5284, 'amount': 65},\n",
       "  {'transaction-id': 5647, 'amount': 70},\n",
       "  {'transaction-id': 6594, 'amount': 59},\n",
       "  {'transaction-id': 8110, 'amount': 55},\n",
       "  {'transaction-id': 8347, 'amount': 55},\n",
       "  {'transaction-id': 8631, 'amount': 60},\n",
       "  {'transaction-id': 8800, 'amount': 63},\n",
       "  {'transaction-id': 9693, 'amount': 59}],\n",
       " [{'transaction-id': 507, 'amount': 301},\n",
       "  {'transaction-id': 866, 'amount': 279},\n",
       "  {'transaction-id': 5864, 'amount': 215},\n",
       "  {'transaction-id': 7014, 'amount': 272},\n",
       "  {'transaction-id': 8305, 'amount': 244},\n",
       "  {'transaction-id': 9554, 'amount': 194}])"
      ]
     },
     "execution_count": 15,
     "metadata": {},
     "output_type": "execute_result"
    }
   ],
   "source": [
    "(js.filter(lambda record: record['name'] == 'Alice')\n",
    "   .pluck('transactions')\n",
    "   .take(3))"
   ]
  },
  {
   "cell_type": "code",
   "execution_count": 16,
   "metadata": {
    "execution": {
     "iopub.execute_input": "2022-05-11T14:49:47.104558Z",
     "iopub.status.busy": "2022-05-11T14:49:47.102987Z",
     "iopub.status.idle": "2022-05-11T14:49:47.131053Z",
     "shell.execute_reply": "2022-05-11T14:49:47.130481Z"
    }
   },
   "outputs": [
    {
     "data": {
      "text/plain": [
       "({'transaction-id': 91, 'amount': 1210},\n",
       " {'transaction-id': 331, 'amount': 1131},\n",
       " {'transaction-id': 712, 'amount': 1156})"
      ]
     },
     "execution_count": 16,
     "metadata": {},
     "output_type": "execute_result"
    }
   ],
   "source": [
    "(js.filter(lambda record: record['name'] == 'Alice')\n",
    "   .pluck('transactions')\n",
    "   .flatten()\n",
    "   .take(3))"
   ]
  },
  {
   "cell_type": "code",
   "execution_count": 17,
   "metadata": {
    "execution": {
     "iopub.execute_input": "2022-05-11T14:49:47.135331Z",
     "iopub.status.busy": "2022-05-11T14:49:47.134167Z",
     "iopub.status.idle": "2022-05-11T14:49:47.158944Z",
     "shell.execute_reply": "2022-05-11T14:49:47.158369Z"
    }
   },
   "outputs": [
    {
     "data": {
      "text/plain": [
       "(1210, 1131, 1156)"
      ]
     },
     "execution_count": 17,
     "metadata": {},
     "output_type": "execute_result"
    }
   ],
   "source": [
    "(js.filter(lambda record: record['name'] == 'Alice')\n",
    "   .pluck('transactions')\n",
    "   .flatten()\n",
    "   .pluck('amount')\n",
    "   .take(3))"
   ]
  },
  {
   "cell_type": "code",
   "execution_count": 18,
   "metadata": {
    "execution": {
     "iopub.execute_input": "2022-05-11T14:49:47.161754Z",
     "iopub.status.busy": "2022-05-11T14:49:47.161524Z",
     "iopub.status.idle": "2022-05-11T14:49:47.536694Z",
     "shell.execute_reply": "2022-05-11T14:49:47.536209Z"
    }
   },
   "outputs": [
    {
     "data": {
      "text/plain": [
       "1326.5704293935369"
      ]
     },
     "execution_count": 18,
     "metadata": {},
     "output_type": "execute_result"
    }
   ],
   "source": [
    "(js.filter(lambda record: record['name'] == 'Alice')\n",
    "   .pluck('transactions')\n",
    "   .flatten()\n",
    "   .pluck('amount')\n",
    "   .mean()\n",
    "   .compute())"
   ]
  },
  {
   "cell_type": "markdown",
   "metadata": {},
   "source": [
    "### Groupby and Foldby"
   ]
  },
  {
   "cell_type": "markdown",
   "metadata": {},
   "source": [
    "Often we want to group data by some function or key.  We can do this either with the `.groupby` method, which is straightforward but forces a full shuffle of the data (expensive) or with the harder-to-use but faster `.foldby` method, which does a streaming combined groupby and reduction.\n",
    "\n",
    "*  `groupby`:  Shuffles data so that all items with the same key are in the same key-value pair\n",
    "*  `foldby`:  Walks through the data accumulating a result per key\n",
    "\n",
    "*Note: the full groupby is particularly bad. In actual workloads you would do well to use `foldby` or switch to `DataFrame`s if possible.*"
   ]
  },
  {
   "cell_type": "markdown",
   "metadata": {},
   "source": [
    "### `groupby`"
   ]
  },
  {
   "cell_type": "markdown",
   "metadata": {},
   "source": [
    "Groupby collects items in your collection so that all items with the same value under some function are collected together into a key-value pair."
   ]
  },
  {
   "cell_type": "code",
   "execution_count": 19,
   "metadata": {
    "execution": {
     "iopub.execute_input": "2022-05-11T14:49:47.539670Z",
     "iopub.status.busy": "2022-05-11T14:49:47.539297Z",
     "iopub.status.idle": "2022-05-11T14:49:47.635599Z",
     "shell.execute_reply": "2022-05-11T14:49:47.635036Z"
    }
   },
   "outputs": [
    {
     "data": {
      "text/plain": [
       "[(7, ['Charlie']), (3, ['Bob', 'Dan']), (5, ['Alice', 'Edith', 'Frank'])]"
      ]
     },
     "execution_count": 19,
     "metadata": {},
     "output_type": "execute_result"
    }
   ],
   "source": [
    "b = db.from_sequence(['Alice', 'Bob', 'Charlie', 'Dan', 'Edith', 'Frank'])\n",
    "b.groupby(len).compute()  # names grouped by length"
   ]
  },
  {
   "cell_type": "code",
   "execution_count": 20,
   "metadata": {
    "execution": {
     "iopub.execute_input": "2022-05-11T14:49:47.638825Z",
     "iopub.status.busy": "2022-05-11T14:49:47.638389Z",
     "iopub.status.idle": "2022-05-11T14:49:47.766764Z",
     "shell.execute_reply": "2022-05-11T14:49:47.766254Z"
    }
   },
   "outputs": [
    {
     "data": {
      "text/plain": [
       "[(0, [0, 2, 4, 6, 8]), (1, [1, 3, 5, 7, 9])]"
      ]
     },
     "execution_count": 20,
     "metadata": {},
     "output_type": "execute_result"
    }
   ],
   "source": [
    "b = db.from_sequence(list(range(10)))\n",
    "b.groupby(lambda x: x % 2).compute()"
   ]
  },
  {
   "cell_type": "code",
   "execution_count": 21,
   "metadata": {
    "execution": {
     "iopub.execute_input": "2022-05-11T14:49:47.770507Z",
     "iopub.status.busy": "2022-05-11T14:49:47.770186Z",
     "iopub.status.idle": "2022-05-11T14:49:47.912609Z",
     "shell.execute_reply": "2022-05-11T14:49:47.911904Z"
    }
   },
   "outputs": [
    {
     "data": {
      "text/plain": [
       "[(0, 8), (1, 9)]"
      ]
     },
     "execution_count": 21,
     "metadata": {},
     "output_type": "execute_result"
    }
   ],
   "source": [
    "b.groupby(lambda x: x % 2).starmap(lambda k, v: (k, max(v))).compute()"
   ]
  },
  {
   "cell_type": "markdown",
   "metadata": {},
   "source": [
    "### `foldby`"
   ]
  },
  {
   "cell_type": "markdown",
   "metadata": {},
   "source": [
    "Foldby can be quite odd at first.  It is similar to the following functions from other libraries:\n",
    "\n",
    "*  [`toolz.reduceby`](http://toolz.readthedocs.io/en/latest/streaming-analytics.html#streaming-split-apply-combine)\n",
    "*  [`pyspark.RDD.combineByKey`](http://abshinn.github.io/python/apache-spark/2014/10/11/using-combinebykey-in-apache-spark/)\n",
    "\n",
    "When using `foldby` you provide \n",
    "\n",
    "1.  A key function on which to group elements\n",
    "2.  A binary operator such as you would pass to `reduce` that you use to perform reduction per each group\n",
    "3.  A combine binary operator that can combine the results of two `reduce` calls on different parts of your dataset.\n",
    "\n",
    "Your reduction must be associative.  It will happen in parallel in each of the partitions of your dataset.  Then all of these intermediate results will be combined by the `combine` binary operator."
   ]
  },
  {
   "cell_type": "code",
   "execution_count": 22,
   "metadata": {
    "execution": {
     "iopub.execute_input": "2022-05-11T14:49:47.915855Z",
     "iopub.status.busy": "2022-05-11T14:49:47.915255Z",
     "iopub.status.idle": "2022-05-11T14:49:47.967719Z",
     "shell.execute_reply": "2022-05-11T14:49:47.966550Z"
    }
   },
   "outputs": [
    {
     "data": {
      "text/plain": [
       "[(0, 8), (1, 9)]"
      ]
     },
     "execution_count": 22,
     "metadata": {},
     "output_type": "execute_result"
    }
   ],
   "source": [
    "b.foldby(lambda x: x % 2, binop=max, combine=max).compute()"
   ]
  },
  {
   "cell_type": "markdown",
   "metadata": {},
   "source": [
    "### Example with account data"
   ]
  },
  {
   "cell_type": "markdown",
   "metadata": {},
   "source": [
    "We find the number of people with the same name."
   ]
  },
  {
   "cell_type": "code",
   "execution_count": 23,
   "metadata": {
    "execution": {
     "iopub.execute_input": "2022-05-11T14:49:47.970865Z",
     "iopub.status.busy": "2022-05-11T14:49:47.970381Z",
     "iopub.status.idle": "2022-05-11T14:49:51.227991Z",
     "shell.execute_reply": "2022-05-11T14:49:51.227449Z"
    }
   },
   "outputs": [
    {
     "name": "stdout",
     "output_type": "stream",
     "text": [
      "[('Alice', 120), ('Alice', 120), ('Alice', 120), ('Alice', 140), ('Bob', 108), ('Bob', 108), ('Bob', 108), ('Bob', 126), ('Charlie', 108), ('Charlie', 108), ('Charlie', 108), ('Charlie', 126), ('Dan', 149), ('Dan', 151), ('Dan', 151), ('Dan', 177), ('Edith', 48), ('Edith', 48), ('Edith', 48), ('Edith', 56), ('Frank', 135), ('Frank', 135), ('Frank', 139), ('Frank', 158), ('George', 72), ('George', 72), ('George', 72), ('George', 84), ('Hannah', 96), ('Hannah', 96), ('Hannah', 96), ('Hannah', 112), ('Ingrid', 96), ('Ingrid', 96), ('Ingrid', 96), ('Ingrid', 112), ('Jerry', 96), ('Jerry', 96), ('Jerry', 96), ('Jerry', 112), ('Kevin', 71), ('Kevin', 72), ('Kevin', 72), ('Kevin', 84), ('Laura', 121), ('Laura', 124), ('Laura', 126), ('Laura', 146), ('Michael', 70), ('Michael', 71), ('Michael', 72), ('Michael', 83), ('Norbert', 59), ('Norbert', 60), ('Norbert', 60), ('Norbert', 70), ('Oliver', 160), ('Oliver', 163), ('Oliver', 350), ('Patricia', 96), ('Patricia', 96), ('Patricia', 96), ('Patricia', 112), ('Quinn', 120), ('Quinn', 120), ('Quinn', 120), ('Quinn', 140), ('Ray', 100), ('Ray', 103), ('Ray', 105), ('Ray', 121), ('Sarah', 199), ('Sarah', 200), ('Sarah', 202), ('Sarah', 236), ('Tim', 133), ('Tim', 137), ('Tim', 139), ('Tim', 158), ('Ursula', 208), ('Ursula', 209), ('Ursula', 210), ('Ursula', 243), ('Victor', 152), ('Victor', 152), ('Victor', 154), ('Victor', 178), ('Wendy', 176), ('Wendy', 176), ('Wendy', 177), ('Wendy', 208), ('Xavier', 56), ('Xavier', 57), ('Xavier', 58), ('Xavier', 66), ('Yvonne', 83), ('Yvonne', 84), ('Yvonne', 84), ('Yvonne', 98), ('Zelda', 84), ('Zelda', 84), ('Zelda', 84), ('Zelda', 98)]\n",
      "CPU times: user 851 ms, sys: 58.2 ms, total: 910 ms\n",
      "Wall time: 3.25 s\n"
     ]
    }
   ],
   "source": [
    "%%time\n",
    "# Warning, this one takes a while...\n",
    "result = js.groupby(lambda item: item['name']).starmap(lambda k, v: (k, len(v))).compute()\n",
    "print(sorted(result))"
   ]
  },
  {
   "cell_type": "code",
   "execution_count": 24,
   "metadata": {
    "execution": {
     "iopub.execute_input": "2022-05-11T14:49:51.231109Z",
     "iopub.status.busy": "2022-05-11T14:49:51.230667Z",
     "iopub.status.idle": "2022-05-11T14:49:51.633081Z",
     "shell.execute_reply": "2022-05-11T14:49:51.630679Z"
    }
   },
   "outputs": [
    {
     "name": "stdout",
     "output_type": "stream",
     "text": [
      "[('Alice', 500), ('Bob', 450), ('Charlie', 450), ('Dan', 628), ('Edith', 200), ('Frank', 567), ('George', 300), ('Hannah', 400), ('Ingrid', 400), ('Jerry', 400), ('Kevin', 299), ('Laura', 517), ('Michael', 296), ('Norbert', 249), ('Oliver', 673), ('Patricia', 400), ('Quinn', 500), ('Ray', 429), ('Sarah', 837), ('Tim', 567), ('Ursula', 870), ('Victor', 636), ('Wendy', 737), ('Xavier', 237), ('Yvonne', 349), ('Zelda', 350)]\n",
      "CPU times: user 109 ms, sys: 8.73 ms, total: 118 ms\n",
      "Wall time: 396 ms\n"
     ]
    }
   ],
   "source": [
    "%%time\n",
    "# This one is comparatively fast and produces the same result.\n",
    "from operator import add\n",
    "def incr(tot, _):\n",
    "    return tot + 1\n",
    "\n",
    "result = js.foldby(key='name', \n",
    "                   binop=incr, \n",
    "                   initial=0, \n",
    "                   combine=add, \n",
    "                   combine_initial=0).compute()\n",
    "print(sorted(result))"
   ]
  },
  {
   "cell_type": "markdown",
   "metadata": {},
   "source": [
    "### Exercise: compute total amount per name"
   ]
  },
  {
   "cell_type": "markdown",
   "metadata": {},
   "source": [
    "We want to groupby (or foldby) the `name` key, then add up the all of the amounts for each name.\n",
    "\n",
    "Steps\n",
    "\n",
    "1.  Create a small function that, given a dictionary like \n",
    "\n",
    "        {'name': 'Alice', 'transactions': [{'amount': 1, 'id': 123}, {'amount': 2, 'id': 456}]}\n",
    "        \n",
    "    produces the sum of the amounts, e.g. `3`\n",
    "    \n",
    "2.  Slightly change the binary operator of the `foldby` example above so that the binary operator doesn't count the number of entries, but instead accumulates the sum of the amounts."
   ]
  },
  {
   "cell_type": "code",
   "execution_count": 25,
   "metadata": {
    "execution": {
     "iopub.execute_input": "2022-05-11T14:49:51.636857Z",
     "iopub.status.busy": "2022-05-11T14:49:51.636214Z",
     "iopub.status.idle": "2022-05-11T14:49:51.639258Z",
     "shell.execute_reply": "2022-05-11T14:49:51.638673Z"
    }
   },
   "outputs": [],
   "source": [
    "# Your code here..."
   ]
  },
  {
   "cell_type": "markdown",
   "metadata": {},
   "source": [
    "## DataFrames"
   ]
  },
  {
   "cell_type": "markdown",
   "metadata": {},
   "source": [
    "For the same reasons that Pandas is often faster than pure Python, `dask.dataframe` can be faster than `dask.bag`.  We will work more with DataFrames later, but from the point of view of a Bag, it is frequently the end-point of the \"messy\" part of data ingestion—once the data can be made into a data-frame, then complex split-apply-combine logic will become much more straight-forward and efficient.\n",
    "\n",
    "You can transform a bag with a simple tuple or flat dictionary structure into a `dask.dataframe` with the `to_dataframe` method."
   ]
  },
  {
   "cell_type": "code",
   "execution_count": 26,
   "metadata": {
    "execution": {
     "iopub.execute_input": "2022-05-11T14:49:51.641783Z",
     "iopub.status.busy": "2022-05-11T14:49:51.641376Z",
     "iopub.status.idle": "2022-05-11T14:49:52.078328Z",
     "shell.execute_reply": "2022-05-11T14:49:52.077374Z"
    }
   },
   "outputs": [
    {
     "name": "stderr",
     "output_type": "stream",
     "text": [
      "/usr/share/miniconda3/envs/dask-tutorial/lib/python3.8/site-packages/dask/dataframe/backends.py:187: FutureWarning: pandas.Int64Index is deprecated and will be removed from pandas in a future version. Use pandas.Index with the appropriate dtype instead.\n",
      "  _numeric_index_types = (pd.Int64Index, pd.Float64Index, pd.UInt64Index)\n",
      "/usr/share/miniconda3/envs/dask-tutorial/lib/python3.8/site-packages/dask/dataframe/backends.py:187: FutureWarning: pandas.Float64Index is deprecated and will be removed from pandas in a future version. Use pandas.Index with the appropriate dtype instead.\n",
      "  _numeric_index_types = (pd.Int64Index, pd.Float64Index, pd.UInt64Index)\n",
      "/usr/share/miniconda3/envs/dask-tutorial/lib/python3.8/site-packages/dask/dataframe/backends.py:187: FutureWarning: pandas.UInt64Index is deprecated and will be removed from pandas in a future version. Use pandas.Index with the appropriate dtype instead.\n",
      "  _numeric_index_types = (pd.Int64Index, pd.Float64Index, pd.UInt64Index)\n"
     ]
    },
    {
     "data": {
      "text/html": [
       "<div>\n",
       "<style scoped>\n",
       "    .dataframe tbody tr th:only-of-type {\n",
       "        vertical-align: middle;\n",
       "    }\n",
       "\n",
       "    .dataframe tbody tr th {\n",
       "        vertical-align: top;\n",
       "    }\n",
       "\n",
       "    .dataframe thead th {\n",
       "        text-align: right;\n",
       "    }\n",
       "</style>\n",
       "<table border=\"1\" class=\"dataframe\">\n",
       "  <thead>\n",
       "    <tr style=\"text-align: right;\">\n",
       "      <th></th>\n",
       "      <th>id</th>\n",
       "      <th>name</th>\n",
       "      <th>transactions</th>\n",
       "    </tr>\n",
       "  </thead>\n",
       "  <tbody>\n",
       "    <tr>\n",
       "      <th>0</th>\n",
       "      <td>0</td>\n",
       "      <td>Tim</td>\n",
       "      <td>[{'transaction-id': 208, 'amount': 282}, {'tra...</td>\n",
       "    </tr>\n",
       "    <tr>\n",
       "      <th>1</th>\n",
       "      <td>4</td>\n",
       "      <td>George</td>\n",
       "      <td>[{'transaction-id': 0, 'amount': 69}, {'transa...</td>\n",
       "    </tr>\n",
       "    <tr>\n",
       "      <th>2</th>\n",
       "      <td>5</td>\n",
       "      <td>Edith</td>\n",
       "      <td>[{'transaction-id': 100, 'amount': -144}, {'tr...</td>\n",
       "    </tr>\n",
       "    <tr>\n",
       "      <th>3</th>\n",
       "      <td>6</td>\n",
       "      <td>Quinn</td>\n",
       "      <td>[{'transaction-id': 757, 'amount': 2024}, {'tr...</td>\n",
       "    </tr>\n",
       "    <tr>\n",
       "      <th>4</th>\n",
       "      <td>7</td>\n",
       "      <td>Ingrid</td>\n",
       "      <td>[{'transaction-id': 310, 'amount': 465}, {'tra...</td>\n",
       "    </tr>\n",
       "  </tbody>\n",
       "</table>\n",
       "</div>"
      ],
      "text/plain": [
       "   id    name                                       transactions\n",
       "0   0     Tim  [{'transaction-id': 208, 'amount': 282}, {'tra...\n",
       "1   4  George  [{'transaction-id': 0, 'amount': 69}, {'transa...\n",
       "2   5   Edith  [{'transaction-id': 100, 'amount': -144}, {'tr...\n",
       "3   6   Quinn  [{'transaction-id': 757, 'amount': 2024}, {'tr...\n",
       "4   7  Ingrid  [{'transaction-id': 310, 'amount': 465}, {'tra..."
      ]
     },
     "execution_count": 26,
     "metadata": {},
     "output_type": "execute_result"
    }
   ],
   "source": [
    "df1 = js.to_dataframe()\n",
    "df1.head()"
   ]
  },
  {
   "cell_type": "markdown",
   "metadata": {},
   "source": [
    "This now looks like a well-defined DataFrame, and we can apply Pandas-like computations to it efficiently."
   ]
  },
  {
   "cell_type": "markdown",
   "metadata": {},
   "source": [
    "Using a Dask DataFrame, how long does it take to do our prior computation of numbers of people with the same name?  It turns out that `dask.dataframe.groupby()` beats `dask.bag.groupby()` by more than an order of magnitude; but it still cannot match `dask.bag.foldby()` for this case."
   ]
  },
  {
   "cell_type": "code",
   "execution_count": 27,
   "metadata": {
    "execution": {
     "iopub.execute_input": "2022-05-11T14:49:52.081203Z",
     "iopub.status.busy": "2022-05-11T14:49:52.080865Z",
     "iopub.status.idle": "2022-05-11T14:49:53.310165Z",
     "shell.execute_reply": "2022-05-11T14:49:53.309566Z"
    }
   },
   "outputs": [
    {
     "name": "stdout",
     "output_type": "stream",
     "text": [
      "CPU times: user 203 ms, sys: 11.3 ms, total: 214 ms\n",
      "Wall time: 1.22 s\n"
     ]
    },
    {
     "data": {
      "text/plain": [
       "name\n",
       "Alice      500\n",
       "Bob        450\n",
       "Charlie    450\n",
       "Dan        628\n",
       "Edith      200\n",
       "Name: id, dtype: int64"
      ]
     },
     "execution_count": 27,
     "metadata": {},
     "output_type": "execute_result"
    }
   ],
   "source": [
    "%time df1.groupby('name').id.count().compute().head()"
   ]
  },
  {
   "cell_type": "markdown",
   "metadata": {},
   "source": [
    "### Denormalization"
   ]
  },
  {
   "cell_type": "markdown",
   "metadata": {},
   "source": [
    "This DataFrame format is less-than-optimal because the `transactions` column is filled with nested data so Pandas has to revert to `object` dtype, which is quite slow in Pandas.  Ideally we want to transform to a dataframe only after we have flattened our data so that each record is a single `int`, `string`, `float`, etc.."
   ]
  },
  {
   "cell_type": "code",
   "execution_count": 28,
   "metadata": {
    "execution": {
     "iopub.execute_input": "2022-05-11T14:49:53.312978Z",
     "iopub.status.busy": "2022-05-11T14:49:53.312597Z",
     "iopub.status.idle": "2022-05-11T14:49:53.339660Z",
     "shell.execute_reply": "2022-05-11T14:49:53.338955Z"
    }
   },
   "outputs": [
    {
     "data": {
      "text/plain": [
       "({'id': 0, 'name': 'Tim', 'amount': 282, 'transaction-id': 208},\n",
       " {'id': 0, 'name': 'Tim', 'amount': 436, 'transaction-id': 367},\n",
       " {'id': 0, 'name': 'Tim', 'amount': 349, 'transaction-id': 1290})"
      ]
     },
     "execution_count": 28,
     "metadata": {},
     "output_type": "execute_result"
    }
   ],
   "source": [
    "def denormalize(record):\n",
    "    # returns a list for each person, one item per transaction\n",
    "    return [{'id': record['id'], \n",
    "             'name': record['name'], \n",
    "             'amount': transaction['amount'], \n",
    "             'transaction-id': transaction['transaction-id']}\n",
    "            for transaction in record['transactions']]\n",
    "\n",
    "transactions = js.map(denormalize).flatten()\n",
    "transactions.take(3)"
   ]
  },
  {
   "cell_type": "code",
   "execution_count": 29,
   "metadata": {
    "execution": {
     "iopub.execute_input": "2022-05-11T14:49:53.342852Z",
     "iopub.status.busy": "2022-05-11T14:49:53.342242Z",
     "iopub.status.idle": "2022-05-11T14:49:53.418764Z",
     "shell.execute_reply": "2022-05-11T14:49:53.418103Z"
    }
   },
   "outputs": [
    {
     "data": {
      "text/html": [
       "<div>\n",
       "<style scoped>\n",
       "    .dataframe tbody tr th:only-of-type {\n",
       "        vertical-align: middle;\n",
       "    }\n",
       "\n",
       "    .dataframe tbody tr th {\n",
       "        vertical-align: top;\n",
       "    }\n",
       "\n",
       "    .dataframe thead th {\n",
       "        text-align: right;\n",
       "    }\n",
       "</style>\n",
       "<table border=\"1\" class=\"dataframe\">\n",
       "  <thead>\n",
       "    <tr style=\"text-align: right;\">\n",
       "      <th></th>\n",
       "      <th>id</th>\n",
       "      <th>name</th>\n",
       "      <th>amount</th>\n",
       "      <th>transaction-id</th>\n",
       "    </tr>\n",
       "  </thead>\n",
       "  <tbody>\n",
       "    <tr>\n",
       "      <th>0</th>\n",
       "      <td>0</td>\n",
       "      <td>Tim</td>\n",
       "      <td>282</td>\n",
       "      <td>208</td>\n",
       "    </tr>\n",
       "    <tr>\n",
       "      <th>1</th>\n",
       "      <td>0</td>\n",
       "      <td>Tim</td>\n",
       "      <td>436</td>\n",
       "      <td>367</td>\n",
       "    </tr>\n",
       "    <tr>\n",
       "      <th>2</th>\n",
       "      <td>0</td>\n",
       "      <td>Tim</td>\n",
       "      <td>349</td>\n",
       "      <td>1290</td>\n",
       "    </tr>\n",
       "    <tr>\n",
       "      <th>3</th>\n",
       "      <td>0</td>\n",
       "      <td>Tim</td>\n",
       "      <td>362</td>\n",
       "      <td>1954</td>\n",
       "    </tr>\n",
       "    <tr>\n",
       "      <th>4</th>\n",
       "      <td>0</td>\n",
       "      <td>Tim</td>\n",
       "      <td>315</td>\n",
       "      <td>3742</td>\n",
       "    </tr>\n",
       "  </tbody>\n",
       "</table>\n",
       "</div>"
      ],
      "text/plain": [
       "   id name  amount  transaction-id\n",
       "0   0  Tim     282             208\n",
       "1   0  Tim     436             367\n",
       "2   0  Tim     349            1290\n",
       "3   0  Tim     362            1954\n",
       "4   0  Tim     315            3742"
      ]
     },
     "execution_count": 29,
     "metadata": {},
     "output_type": "execute_result"
    }
   ],
   "source": [
    "df = transactions.to_dataframe()\n",
    "df.head()"
   ]
  },
  {
   "cell_type": "code",
   "execution_count": 30,
   "metadata": {
    "execution": {
     "iopub.execute_input": "2022-05-11T14:49:53.421767Z",
     "iopub.status.busy": "2022-05-11T14:49:53.421401Z",
     "iopub.status.idle": "2022-05-11T14:49:54.344218Z",
     "shell.execute_reply": "2022-05-11T14:49:54.343742Z"
    }
   },
   "outputs": [
    {
     "name": "stdout",
     "output_type": "stream",
     "text": [
      "CPU times: user 146 ms, sys: 16.8 ms, total: 163 ms\n",
      "Wall time: 914 ms\n"
     ]
    },
    {
     "data": {
      "text/plain": [
       "name\n",
       "Alice       22590\n",
       "Bob         20984\n",
       "Charlie     18704\n",
       "Dan         38276\n",
       "Edith        6772\n",
       "Frank       28175\n",
       "George      18177\n",
       "Hannah      17218\n",
       "Ingrid      10003\n",
       "Jerry       26967\n",
       "Kevin       11048\n",
       "Laura       20597\n",
       "Michael     12796\n",
       "Norbert     13834\n",
       "Oliver      18535\n",
       "Patricia    15083\n",
       "Quinn       25400\n",
       "Ray         20406\n",
       "Sarah       25753\n",
       "Tim         17133\n",
       "Ursula      32097\n",
       "Victor      21691\n",
       "Wendy       23401\n",
       "Xavier       9069\n",
       "Yvonne      11073\n",
       "Zelda       14218\n",
       "Name: transaction-id, dtype: int64"
      ]
     },
     "execution_count": 30,
     "metadata": {},
     "output_type": "execute_result"
    }
   ],
   "source": [
    "%%time\n",
    "# number of transactions per name\n",
    "# note that the time here includes the data load and ingestion\n",
    "df.groupby('name')['transaction-id'].count().compute()"
   ]
  },
  {
   "cell_type": "markdown",
   "metadata": {},
   "source": [
    "## Limitations"
   ]
  },
  {
   "cell_type": "markdown",
   "metadata": {},
   "source": [
    "Bags provide very general computation (any Python function.)  This generality\n",
    "comes at cost.  Bags have the following known limitations\n",
    "\n",
    "1.  Bag operations tend to be slower than array/dataframe computations in the\n",
    "    same way that Python tends to be slower than NumPy/Pandas\n",
    "2.  ``Bag.groupby`` is slow.  You should try to use ``Bag.foldby`` if possible.\n",
    "    Using ``Bag.foldby`` requires more thought. Even better, consider creating\n",
    "    a normalised dataframe."
   ]
  },
  {
   "cell_type": "markdown",
   "metadata": {},
   "source": [
    "## Learn More\n",
    "\n",
    "* [Bag documentation](https://docs.dask.org/en/latest/bag.html)\n",
    "* [Bag screencast](https://youtu.be/-qIiJ1XtSv0)\n",
    "* [Bag API](https://docs.dask.org/en/latest/bag-api.html)\n",
    "* [Bag examples](https://examples.dask.org/bag.html)"
   ]
  },
  {
   "cell_type": "markdown",
   "metadata": {},
   "source": [
    "## Shutdown"
   ]
  },
  {
   "cell_type": "code",
   "execution_count": 31,
   "metadata": {
    "execution": {
     "iopub.execute_input": "2022-05-11T14:49:54.347160Z",
     "iopub.status.busy": "2022-05-11T14:49:54.346720Z",
     "iopub.status.idle": "2022-05-11T14:49:54.867887Z",
     "shell.execute_reply": "2022-05-11T14:49:54.866851Z"
    }
   },
   "outputs": [
    {
     "name": "stderr",
     "output_type": "stream",
     "text": [
      "/usr/share/miniconda3/envs/dask-tutorial/lib/python3.8/site-packages/dask/dataframe/backends.py:187: FutureWarning: pandas.Int64Index is deprecated and will be removed from pandas in a future version. Use pandas.Index with the appropriate dtype instead.\n",
      "  _numeric_index_types = (pd.Int64Index, pd.Float64Index, pd.UInt64Index)\n",
      "/usr/share/miniconda3/envs/dask-tutorial/lib/python3.8/site-packages/dask/dataframe/backends.py:187: FutureWarning: pandas.Float64Index is deprecated and will be removed from pandas in a future version. Use pandas.Index with the appropriate dtype instead.\n",
      "  _numeric_index_types = (pd.Int64Index, pd.Float64Index, pd.UInt64Index)\n",
      "/usr/share/miniconda3/envs/dask-tutorial/lib/python3.8/site-packages/dask/dataframe/backends.py:187: FutureWarning: pandas.UInt64Index is deprecated and will be removed from pandas in a future version. Use pandas.Index with the appropriate dtype instead.\n",
      "  _numeric_index_types = (pd.Int64Index, pd.Float64Index, pd.UInt64Index)\n",
      "/usr/share/miniconda3/envs/dask-tutorial/lib/python3.8/site-packages/dask/dataframe/backends.py:187: FutureWarning: pandas.Int64Index is deprecated and will be removed from pandas in a future version. Use pandas.Index with the appropriate dtype instead.\n",
      "  _numeric_index_types = (pd.Int64Index, pd.Float64Index, pd.UInt64Index)\n",
      "/usr/share/miniconda3/envs/dask-tutorial/lib/python3.8/site-packages/dask/dataframe/backends.py:187: FutureWarning: pandas.Float64Index is deprecated and will be removed from pandas in a future version. Use pandas.Index with the appropriate dtype instead.\n",
      "  _numeric_index_types = (pd.Int64Index, pd.Float64Index, pd.UInt64Index)\n",
      "/usr/share/miniconda3/envs/dask-tutorial/lib/python3.8/site-packages/dask/dataframe/backends.py:187: FutureWarning: pandas.UInt64Index is deprecated and will be removed from pandas in a future version. Use pandas.Index with the appropriate dtype instead.\n",
      "  _numeric_index_types = (pd.Int64Index, pd.Float64Index, pd.UInt64Index)\n",
      "/usr/share/miniconda3/envs/dask-tutorial/lib/python3.8/site-packages/dask/dataframe/backends.py:187: FutureWarning: pandas.Int64Index is deprecated and will be removed from pandas in a future version. Use pandas.Index with the appropriate dtype instead.\n",
      "  _numeric_index_types = (pd.Int64Index, pd.Float64Index, pd.UInt64Index)\n",
      "/usr/share/miniconda3/envs/dask-tutorial/lib/python3.8/site-packages/dask/dataframe/backends.py:187: FutureWarning: pandas.Float64Index is deprecated and will be removed from pandas in a future version. Use pandas.Index with the appropriate dtype instead.\n",
      "  _numeric_index_types = (pd.Int64Index, pd.Float64Index, pd.UInt64Index)\n",
      "/usr/share/miniconda3/envs/dask-tutorial/lib/python3.8/site-packages/dask/dataframe/backends.py:187: FutureWarning: pandas.UInt64Index is deprecated and will be removed from pandas in a future version. Use pandas.Index with the appropriate dtype instead.\n",
      "  _numeric_index_types = (pd.Int64Index, pd.Float64Index, pd.UInt64Index)\n",
      "/usr/share/miniconda3/envs/dask-tutorial/lib/python3.8/site-packages/dask/dataframe/backends.py:187: FutureWarning: pandas.Int64Index is deprecated and will be removed from pandas in a future version. Use pandas.Index with the appropriate dtype instead.\n",
      "  _numeric_index_types = (pd.Int64Index, pd.Float64Index, pd.UInt64Index)\n",
      "/usr/share/miniconda3/envs/dask-tutorial/lib/python3.8/site-packages/dask/dataframe/backends.py:187: FutureWarning: pandas.Float64Index is deprecated and will be removed from pandas in a future version. Use pandas.Index with the appropriate dtype instead.\n",
      "  _numeric_index_types = (pd.Int64Index, pd.Float64Index, pd.UInt64Index)\n",
      "/usr/share/miniconda3/envs/dask-tutorial/lib/python3.8/site-packages/dask/dataframe/backends.py:187: FutureWarning: pandas.UInt64Index is deprecated and will be removed from pandas in a future version. Use pandas.Index with the appropriate dtype instead.\n",
      "  _numeric_index_types = (pd.Int64Index, pd.Float64Index, pd.UInt64Index)\n"
     ]
    }
   ],
   "source": [
    "client.shutdown()"
   ]
  }
 ],
 "metadata": {
  "anaconda-cloud": {},
  "kernelspec": {
   "display_name": "Python 3",
   "language": "python",
   "name": "python3"
  },
  "language_info": {
   "codemirror_mode": {
    "name": "ipython",
    "version": 3
   },
   "file_extension": ".py",
   "mimetype": "text/x-python",
   "name": "python",
   "nbconvert_exporter": "python",
   "pygments_lexer": "ipython3",
   "version": "3.8.13"
  }
 },
 "nbformat": 4,
 "nbformat_minor": 4
}
