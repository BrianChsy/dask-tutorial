{
 "cells": [
  {
   "cell_type": "markdown",
   "metadata": {},
   "source": [
    "<img src=\"images/dask_horizontal.svg\" align=\"right\" width=\"30%\">"
   ]
  },
  {
   "cell_type": "markdown",
   "metadata": {},
   "source": [
    "# Bag: Parallel Lists for semi-structured data"
   ]
  },
  {
   "cell_type": "markdown",
   "metadata": {},
   "source": [
    "Dask-bag excels in processing data that can be represented as a sequence of arbitrary inputs. We'll refer to this as \"messy\" data, because it can contain complex nested structures, missing fields, mixtures of data types, etc. The *functional* programming style fits very nicely with standard Python iteration, such as can be found in the `itertools` module.\n",
    "\n",
    "Messy data is often encountered at the beginning of data processing pipelines when large volumes of raw data are first consumed. The initial set of data might be JSON, CSV, XML, or any other format that does not enforce strict structure and datatypes.\n",
    "For this reason, the initial data massaging and processing is often done with Python `list`s, `dict`s, and `set`s.\n",
    "\n",
    "These core data structures are optimized for general-purpose storage and processing.  Adding streaming computation with iterators/generator expressions or libraries like `itertools` or [`toolz`](https://toolz.readthedocs.io/en/latest/) let us process large volumes in a small space.  If we combine this with parallel processing then we can churn through a fair amount of data.\n",
    "\n",
    "Dask.bag is a high level Dask collection to automate common workloads of this form.  In a nutshell\n",
    "\n",
    "    dask.bag = map, filter, toolz + parallel execution\n",
    "    \n",
    "**Related Documentation**\n",
    "\n",
    "* [Bag documentation](https://docs.dask.org/en/latest/bag.html)\n",
    "* [Bag screencast](https://youtu.be/-qIiJ1XtSv0)\n",
    "* [Bag API](https://docs.dask.org/en/latest/bag-api.html)\n",
    "* [Bag examples](https://examples.dask.org/bag.html)"
   ]
  },
  {
   "cell_type": "markdown",
   "metadata": {},
   "source": [
    "## Create data"
   ]
  },
  {
   "cell_type": "code",
   "execution_count": 1,
   "metadata": {
    "execution": {
     "iopub.execute_input": "2022-01-14T17:54:14.575324Z",
     "iopub.status.busy": "2022-01-14T17:54:14.574889Z",
     "iopub.status.idle": "2022-01-14T17:54:15.157057Z",
     "shell.execute_reply": "2022-01-14T17:54:15.156518Z"
    }
   },
   "outputs": [],
   "source": [
    "%run prep.py -d accounts"
   ]
  },
  {
   "cell_type": "markdown",
   "metadata": {},
   "source": [
    "## Setup"
   ]
  },
  {
   "cell_type": "markdown",
   "metadata": {},
   "source": [
    "Again, we'll use the distributed scheduler. Schedulers will be explained in depth [later](05_distributed.ipynb)."
   ]
  },
  {
   "cell_type": "code",
   "execution_count": 2,
   "metadata": {
    "execution": {
     "iopub.execute_input": "2022-01-14T17:54:15.161370Z",
     "iopub.status.busy": "2022-01-14T17:54:15.160382Z",
     "iopub.status.idle": "2022-01-14T17:54:17.226932Z",
     "shell.execute_reply": "2022-01-14T17:54:17.226521Z"
    }
   },
   "outputs": [],
   "source": [
    "from dask.distributed import Client\n",
    "\n",
    "client = Client(n_workers=4)"
   ]
  },
  {
   "cell_type": "markdown",
   "metadata": {},
   "source": [
    "## Creation"
   ]
  },
  {
   "cell_type": "markdown",
   "metadata": {},
   "source": [
    "You can create a `Bag` from a Python sequence, from files, from data on S3, etc.\n",
    "We demonstrate using `.take()` to show elements of the data. (Doing `.take(1)` results in a tuple with one element)\n",
    "\n",
    "Note that the data are partitioned into blocks, and there are many items per block. In the first example, the two partitions contain five elements each, and in the following two, each file is partitioned into one or more bytes blocks."
   ]
  },
  {
   "cell_type": "code",
   "execution_count": 3,
   "metadata": {
    "execution": {
     "iopub.execute_input": "2022-01-14T17:54:17.231550Z",
     "iopub.status.busy": "2022-01-14T17:54:17.231146Z",
     "iopub.status.idle": "2022-01-14T17:54:17.487739Z",
     "shell.execute_reply": "2022-01-14T17:54:17.487394Z"
    }
   },
   "outputs": [
    {
     "data": {
      "text/plain": [
       "(1, 2, 3)"
      ]
     },
     "execution_count": 3,
     "metadata": {},
     "output_type": "execute_result"
    }
   ],
   "source": [
    "# each element is an integer\n",
    "import dask.bag as db\n",
    "b = db.from_sequence([1, 2, 3, 4, 5, 6, 7, 8, 9, 10], npartitions=2)\n",
    "b.take(3)"
   ]
  },
  {
   "cell_type": "code",
   "execution_count": 4,
   "metadata": {
    "execution": {
     "iopub.execute_input": "2022-01-14T17:54:17.491552Z",
     "iopub.status.busy": "2022-01-14T17:54:17.491171Z",
     "iopub.status.idle": "2022-01-14T17:54:17.582119Z",
     "shell.execute_reply": "2022-01-14T17:54:17.581180Z"
    }
   },
   "outputs": [
    {
     "data": {
      "text/plain": [
       "('{\"id\": 0, \"name\": \"Jerry\", \"transactions\": [{\"transaction-id\": 25, \"amount\": -373}, {\"transaction-id\": 99, \"amount\": -367}, {\"transaction-id\": 1620, \"amount\": -182}, {\"transaction-id\": 1952, \"amount\": -276}, {\"transaction-id\": 3180, \"amount\": -299}, {\"transaction-id\": 3448, \"amount\": -645}, {\"transaction-id\": 3540, \"amount\": -445}, {\"transaction-id\": 5229, \"amount\": -347}, {\"transaction-id\": 5501, \"amount\": -298}, {\"transaction-id\": 5568, \"amount\": -309}, {\"transaction-id\": 5659, \"amount\": -355}, {\"transaction-id\": 5904, \"amount\": -351}, {\"transaction-id\": 6997, \"amount\": -299}, {\"transaction-id\": 7239, \"amount\": -395}, {\"transaction-id\": 7331, \"amount\": -441}, {\"transaction-id\": 7558, \"amount\": -461}, {\"transaction-id\": 7821, \"amount\": -358}, {\"transaction-id\": 8487, \"amount\": -315}, {\"transaction-id\": 9069, \"amount\": -344}, {\"transaction-id\": 9257, \"amount\": -490}]}\\n',)"
      ]
     },
     "execution_count": 4,
     "metadata": {},
     "output_type": "execute_result"
    }
   ],
   "source": [
    "# each element is a text file, where each line is a JSON object\n",
    "# note that the compression is handled automatically\n",
    "import os\n",
    "b = db.read_text(os.path.join('data', 'accounts.*.json.gz'))\n",
    "b.take(1)"
   ]
  },
  {
   "cell_type": "code",
   "execution_count": 5,
   "metadata": {
    "execution": {
     "iopub.execute_input": "2022-01-14T17:54:17.586360Z",
     "iopub.status.busy": "2022-01-14T17:54:17.585910Z",
     "iopub.status.idle": "2022-01-14T17:54:17.588084Z",
     "shell.execute_reply": "2022-01-14T17:54:17.588429Z"
    }
   },
   "outputs": [
    {
     "data": {
      "text/plain": [
       "'s3://dask-data/nyc-taxi/2015/yellow_tripdata_2015-01.csv'"
      ]
     },
     "execution_count": 5,
     "metadata": {},
     "output_type": "execute_result"
    }
   ],
   "source": [
    "# Edit sources.py to configure source locations\n",
    "import sources\n",
    "sources.bag_url"
   ]
  },
  {
   "cell_type": "code",
   "execution_count": 6,
   "metadata": {
    "execution": {
     "iopub.execute_input": "2022-01-14T17:54:17.591175Z",
     "iopub.status.busy": "2022-01-14T17:54:17.590428Z",
     "iopub.status.idle": "2022-01-14T17:54:18.804187Z",
     "shell.execute_reply": "2022-01-14T17:54:18.803464Z"
    }
   },
   "outputs": [
    {
     "data": {
      "text/plain": [
       "('VendorID,tpep_pickup_datetime,tpep_dropoff_datetime,passenger_count,trip_distance,pickup_longitude,pickup_latitude,RateCodeID,store_and_fwd_flag,dropoff_longitude,dropoff_latitude,payment_type,fare_amount,extra,mta_tax,tip_amount,tolls_amount,improvement_surcharge,total_amount\\n',)"
      ]
     },
     "execution_count": 6,
     "metadata": {},
     "output_type": "execute_result"
    }
   ],
   "source": [
    "# Requires `s3fs` library\n",
    "# each partition is a remote CSV text file\n",
    "b = db.read_text(sources.bag_url,\n",
    "                 storage_options={'anon': True})\n",
    "b.take(1)"
   ]
  },
  {
   "cell_type": "markdown",
   "metadata": {},
   "source": [
    "## Manipulation"
   ]
  },
  {
   "cell_type": "markdown",
   "metadata": {},
   "source": [
    "`Bag` objects hold the standard functional API found in projects like the Python standard library, `toolz`, or `pyspark`, including `map`, `filter`, `groupby`, etc..\n",
    "\n",
    "Operations on `Bag` objects create new bags.  Call the `.compute()` method to trigger execution, as we saw for `Delayed` objects.  "
   ]
  },
  {
   "cell_type": "code",
   "execution_count": 7,
   "metadata": {
    "execution": {
     "iopub.execute_input": "2022-01-14T17:54:18.810303Z",
     "iopub.status.busy": "2022-01-14T17:54:18.809889Z",
     "iopub.status.idle": "2022-01-14T17:54:18.814370Z",
     "shell.execute_reply": "2022-01-14T17:54:18.814014Z"
    }
   },
   "outputs": [
    {
     "data": {
      "text/plain": [
       "dask.bag<lambda, npartitions=10>"
      ]
     },
     "execution_count": 7,
     "metadata": {},
     "output_type": "execute_result"
    }
   ],
   "source": [
    "def is_even(n):\n",
    "    return n % 2 == 0\n",
    "\n",
    "b = db.from_sequence([1, 2, 3, 4, 5, 6, 7, 8, 9, 10])\n",
    "c = b.filter(is_even).map(lambda x: x ** 2)\n",
    "c"
   ]
  },
  {
   "cell_type": "code",
   "execution_count": 8,
   "metadata": {
    "execution": {
     "iopub.execute_input": "2022-01-14T17:54:18.821632Z",
     "iopub.status.busy": "2022-01-14T17:54:18.818092Z",
     "iopub.status.idle": "2022-01-14T17:54:18.941304Z",
     "shell.execute_reply": "2022-01-14T17:54:18.940746Z"
    }
   },
   "outputs": [
    {
     "data": {
      "text/plain": [
       "[4, 16, 36, 64, 100]"
      ]
     },
     "execution_count": 8,
     "metadata": {},
     "output_type": "execute_result"
    }
   ],
   "source": [
    "# blocking form: wait for completion (which is very fast in this case)\n",
    "c.compute()"
   ]
  },
  {
   "cell_type": "markdown",
   "metadata": {},
   "source": [
    "### Example: Accounts JSON data"
   ]
  },
  {
   "cell_type": "markdown",
   "metadata": {},
   "source": [
    "We've created a fake dataset of gzipped JSON data in your data directory.  This is like the example used in the `DataFrame` example we will see later, except that it has bundled up all of the entries for each individual `id` into a single record.  This is similar to data that you might collect off of a document store database or a web API.\n",
    "\n",
    "Each line is a JSON encoded dictionary with the following keys\n",
    "\n",
    "*  id: Unique identifier of the customer\n",
    "*  name: Name of the customer\n",
    "*  transactions: List of `transaction-id`, `amount` pairs, one for each transaction for the customer in that file"
   ]
  },
  {
   "cell_type": "code",
   "execution_count": 9,
   "metadata": {
    "execution": {
     "iopub.execute_input": "2022-01-14T17:54:18.946185Z",
     "iopub.status.busy": "2022-01-14T17:54:18.945304Z",
     "iopub.status.idle": "2022-01-14T17:54:18.976338Z",
     "shell.execute_reply": "2022-01-14T17:54:18.976006Z"
    }
   },
   "outputs": [
    {
     "data": {
      "text/plain": [
       "('{\"id\": 0, \"name\": \"Jerry\", \"transactions\": [{\"transaction-id\": 25, \"amount\": -373}, {\"transaction-id\": 99, \"amount\": -367}, {\"transaction-id\": 1620, \"amount\": -182}, {\"transaction-id\": 1952, \"amount\": -276}, {\"transaction-id\": 3180, \"amount\": -299}, {\"transaction-id\": 3448, \"amount\": -645}, {\"transaction-id\": 3540, \"amount\": -445}, {\"transaction-id\": 5229, \"amount\": -347}, {\"transaction-id\": 5501, \"amount\": -298}, {\"transaction-id\": 5568, \"amount\": -309}, {\"transaction-id\": 5659, \"amount\": -355}, {\"transaction-id\": 5904, \"amount\": -351}, {\"transaction-id\": 6997, \"amount\": -299}, {\"transaction-id\": 7239, \"amount\": -395}, {\"transaction-id\": 7331, \"amount\": -441}, {\"transaction-id\": 7558, \"amount\": -461}, {\"transaction-id\": 7821, \"amount\": -358}, {\"transaction-id\": 8487, \"amount\": -315}, {\"transaction-id\": 9069, \"amount\": -344}, {\"transaction-id\": 9257, \"amount\": -490}]}\\n',\n",
       " '{\"id\": 1, \"name\": \"Ingrid\", \"transactions\": [{\"transaction-id\": 1330, \"amount\": 311}, {\"transaction-id\": 5855, \"amount\": 307}, {\"transaction-id\": 5856, \"amount\": 326}, {\"transaction-id\": 8354, \"amount\": 278}, {\"transaction-id\": 9175, \"amount\": 322}, {\"transaction-id\": 9508, \"amount\": 307}]}\\n',\n",
       " '{\"id\": 2, \"name\": \"Patricia\", \"transactions\": [{\"transaction-id\": 265, \"amount\": -410}, {\"transaction-id\": 361, \"amount\": -383}, {\"transaction-id\": 572, \"amount\": -233}, {\"transaction-id\": 705, \"amount\": -177}, {\"transaction-id\": 774, \"amount\": -335}, {\"transaction-id\": 819, \"amount\": -187}, {\"transaction-id\": 903, \"amount\": -398}, {\"transaction-id\": 947, \"amount\": -265}, {\"transaction-id\": 986, \"amount\": -377}, {\"transaction-id\": 991, \"amount\": -322}, {\"transaction-id\": 1143, \"amount\": -181}, {\"transaction-id\": 1156, \"amount\": -281}, {\"transaction-id\": 1283, \"amount\": -237}, {\"transaction-id\": 1332, \"amount\": -466}, {\"transaction-id\": 1377, \"amount\": -333}, {\"transaction-id\": 1388, \"amount\": -199}, {\"transaction-id\": 1491, \"amount\": -254}, {\"transaction-id\": 1580, \"amount\": -309}, {\"transaction-id\": 1663, \"amount\": -276}, {\"transaction-id\": 1792, \"amount\": -62}, {\"transaction-id\": 1800, \"amount\": -389}, {\"transaction-id\": 1803, \"amount\": -250}, {\"transaction-id\": 1856, \"amount\": -272}, {\"transaction-id\": 1872, \"amount\": -309}, {\"transaction-id\": 2288, \"amount\": -199}, {\"transaction-id\": 2445, \"amount\": -477}, {\"transaction-id\": 2569, \"amount\": -270}, {\"transaction-id\": 2648, \"amount\": -259}, {\"transaction-id\": 2666, \"amount\": -318}, {\"transaction-id\": 2695, \"amount\": -324}, {\"transaction-id\": 2853, \"amount\": -632}, {\"transaction-id\": 3307, \"amount\": -289}, {\"transaction-id\": 3414, \"amount\": -378}, {\"transaction-id\": 3579, \"amount\": -242}, {\"transaction-id\": 3819, \"amount\": -341}, {\"transaction-id\": 3893, \"amount\": -204}, {\"transaction-id\": 4019, \"amount\": -162}, {\"transaction-id\": 4079, \"amount\": -303}, {\"transaction-id\": 4283, \"amount\": -230}, {\"transaction-id\": 4330, \"amount\": -414}, {\"transaction-id\": 4344, \"amount\": -122}, {\"transaction-id\": 4359, \"amount\": -462}, {\"transaction-id\": 4508, \"amount\": -147}, {\"transaction-id\": 4529, \"amount\": -319}, {\"transaction-id\": 4563, \"amount\": -355}, {\"transaction-id\": 4587, \"amount\": -351}, {\"transaction-id\": 4780, \"amount\": -329}, {\"transaction-id\": 4859, \"amount\": -234}, {\"transaction-id\": 4993, \"amount\": -325}, {\"transaction-id\": 5034, \"amount\": -348}, {\"transaction-id\": 5077, \"amount\": -141}, {\"transaction-id\": 5097, \"amount\": -372}, {\"transaction-id\": 5099, \"amount\": -189}, {\"transaction-id\": 5259, \"amount\": -325}, {\"transaction-id\": 5371, \"amount\": -407}, {\"transaction-id\": 5436, \"amount\": -185}, {\"transaction-id\": 5487, \"amount\": -306}, {\"transaction-id\": 5495, \"amount\": -385}, {\"transaction-id\": 5533, \"amount\": -267}, {\"transaction-id\": 5572, \"amount\": -464}, {\"transaction-id\": 5674, \"amount\": -209}, {\"transaction-id\": 5687, \"amount\": -379}, {\"transaction-id\": 5885, \"amount\": -233}, {\"transaction-id\": 5961, \"amount\": -329}, {\"transaction-id\": 6258, \"amount\": -283}, {\"transaction-id\": 6270, \"amount\": -193}, {\"transaction-id\": 6297, \"amount\": -326}, {\"transaction-id\": 6426, \"amount\": -397}, {\"transaction-id\": 6481, \"amount\": -544}, {\"transaction-id\": 6482, \"amount\": -178}, {\"transaction-id\": 6655, \"amount\": -279}, {\"transaction-id\": 6672, \"amount\": -237}, {\"transaction-id\": 6685, \"amount\": -355}, {\"transaction-id\": 6867, \"amount\": -246}, {\"transaction-id\": 6928, \"amount\": -301}, {\"transaction-id\": 6938, \"amount\": -124}, {\"transaction-id\": 7021, \"amount\": -313}, {\"transaction-id\": 7026, \"amount\": -420}, {\"transaction-id\": 7132, \"amount\": -315}, {\"transaction-id\": 7194, \"amount\": -261}, {\"transaction-id\": 7228, \"amount\": -424}, {\"transaction-id\": 7635, \"amount\": -544}, {\"transaction-id\": 7811, \"amount\": -276}, {\"transaction-id\": 7872, \"amount\": -176}, {\"transaction-id\": 8002, \"amount\": -394}, {\"transaction-id\": 8097, \"amount\": -337}, {\"transaction-id\": 8533, \"amount\": -260}, {\"transaction-id\": 8571, \"amount\": -31}, {\"transaction-id\": 8574, \"amount\": -310}, {\"transaction-id\": 8592, \"amount\": -337}, {\"transaction-id\": 8649, \"amount\": -294}, {\"transaction-id\": 8665, \"amount\": -208}, {\"transaction-id\": 8870, \"amount\": -409}, {\"transaction-id\": 9031, \"amount\": -308}, {\"transaction-id\": 9295, \"amount\": -277}, {\"transaction-id\": 9423, \"amount\": -215}]}\\n')"
      ]
     },
     "execution_count": 9,
     "metadata": {},
     "output_type": "execute_result"
    }
   ],
   "source": [
    "filename = os.path.join('data', 'accounts.*.json.gz')\n",
    "lines = db.read_text(filename)\n",
    "lines.take(3)"
   ]
  },
  {
   "cell_type": "markdown",
   "metadata": {},
   "source": [
    "Our data comes out of the file as lines of text. Notice that file decompression happened automatically. We can make this data look more reasonable by mapping the `json.loads` function onto our bag."
   ]
  },
  {
   "cell_type": "code",
   "execution_count": 10,
   "metadata": {
    "execution": {
     "iopub.execute_input": "2022-01-14T17:54:18.978729Z",
     "iopub.status.busy": "2022-01-14T17:54:18.978348Z",
     "iopub.status.idle": "2022-01-14T17:54:19.008549Z",
     "shell.execute_reply": "2022-01-14T17:54:19.008894Z"
    }
   },
   "outputs": [
    {
     "data": {
      "text/plain": [
       "({'id': 0,\n",
       "  'name': 'Jerry',\n",
       "  'transactions': [{'transaction-id': 25, 'amount': -373},\n",
       "   {'transaction-id': 99, 'amount': -367},\n",
       "   {'transaction-id': 1620, 'amount': -182},\n",
       "   {'transaction-id': 1952, 'amount': -276},\n",
       "   {'transaction-id': 3180, 'amount': -299},\n",
       "   {'transaction-id': 3448, 'amount': -645},\n",
       "   {'transaction-id': 3540, 'amount': -445},\n",
       "   {'transaction-id': 5229, 'amount': -347},\n",
       "   {'transaction-id': 5501, 'amount': -298},\n",
       "   {'transaction-id': 5568, 'amount': -309},\n",
       "   {'transaction-id': 5659, 'amount': -355},\n",
       "   {'transaction-id': 5904, 'amount': -351},\n",
       "   {'transaction-id': 6997, 'amount': -299},\n",
       "   {'transaction-id': 7239, 'amount': -395},\n",
       "   {'transaction-id': 7331, 'amount': -441},\n",
       "   {'transaction-id': 7558, 'amount': -461},\n",
       "   {'transaction-id': 7821, 'amount': -358},\n",
       "   {'transaction-id': 8487, 'amount': -315},\n",
       "   {'transaction-id': 9069, 'amount': -344},\n",
       "   {'transaction-id': 9257, 'amount': -490}]},\n",
       " {'id': 1,\n",
       "  'name': 'Ingrid',\n",
       "  'transactions': [{'transaction-id': 1330, 'amount': 311},\n",
       "   {'transaction-id': 5855, 'amount': 307},\n",
       "   {'transaction-id': 5856, 'amount': 326},\n",
       "   {'transaction-id': 8354, 'amount': 278},\n",
       "   {'transaction-id': 9175, 'amount': 322},\n",
       "   {'transaction-id': 9508, 'amount': 307}]},\n",
       " {'id': 2,\n",
       "  'name': 'Patricia',\n",
       "  'transactions': [{'transaction-id': 265, 'amount': -410},\n",
       "   {'transaction-id': 361, 'amount': -383},\n",
       "   {'transaction-id': 572, 'amount': -233},\n",
       "   {'transaction-id': 705, 'amount': -177},\n",
       "   {'transaction-id': 774, 'amount': -335},\n",
       "   {'transaction-id': 819, 'amount': -187},\n",
       "   {'transaction-id': 903, 'amount': -398},\n",
       "   {'transaction-id': 947, 'amount': -265},\n",
       "   {'transaction-id': 986, 'amount': -377},\n",
       "   {'transaction-id': 991, 'amount': -322},\n",
       "   {'transaction-id': 1143, 'amount': -181},\n",
       "   {'transaction-id': 1156, 'amount': -281},\n",
       "   {'transaction-id': 1283, 'amount': -237},\n",
       "   {'transaction-id': 1332, 'amount': -466},\n",
       "   {'transaction-id': 1377, 'amount': -333},\n",
       "   {'transaction-id': 1388, 'amount': -199},\n",
       "   {'transaction-id': 1491, 'amount': -254},\n",
       "   {'transaction-id': 1580, 'amount': -309},\n",
       "   {'transaction-id': 1663, 'amount': -276},\n",
       "   {'transaction-id': 1792, 'amount': -62},\n",
       "   {'transaction-id': 1800, 'amount': -389},\n",
       "   {'transaction-id': 1803, 'amount': -250},\n",
       "   {'transaction-id': 1856, 'amount': -272},\n",
       "   {'transaction-id': 1872, 'amount': -309},\n",
       "   {'transaction-id': 2288, 'amount': -199},\n",
       "   {'transaction-id': 2445, 'amount': -477},\n",
       "   {'transaction-id': 2569, 'amount': -270},\n",
       "   {'transaction-id': 2648, 'amount': -259},\n",
       "   {'transaction-id': 2666, 'amount': -318},\n",
       "   {'transaction-id': 2695, 'amount': -324},\n",
       "   {'transaction-id': 2853, 'amount': -632},\n",
       "   {'transaction-id': 3307, 'amount': -289},\n",
       "   {'transaction-id': 3414, 'amount': -378},\n",
       "   {'transaction-id': 3579, 'amount': -242},\n",
       "   {'transaction-id': 3819, 'amount': -341},\n",
       "   {'transaction-id': 3893, 'amount': -204},\n",
       "   {'transaction-id': 4019, 'amount': -162},\n",
       "   {'transaction-id': 4079, 'amount': -303},\n",
       "   {'transaction-id': 4283, 'amount': -230},\n",
       "   {'transaction-id': 4330, 'amount': -414},\n",
       "   {'transaction-id': 4344, 'amount': -122},\n",
       "   {'transaction-id': 4359, 'amount': -462},\n",
       "   {'transaction-id': 4508, 'amount': -147},\n",
       "   {'transaction-id': 4529, 'amount': -319},\n",
       "   {'transaction-id': 4563, 'amount': -355},\n",
       "   {'transaction-id': 4587, 'amount': -351},\n",
       "   {'transaction-id': 4780, 'amount': -329},\n",
       "   {'transaction-id': 4859, 'amount': -234},\n",
       "   {'transaction-id': 4993, 'amount': -325},\n",
       "   {'transaction-id': 5034, 'amount': -348},\n",
       "   {'transaction-id': 5077, 'amount': -141},\n",
       "   {'transaction-id': 5097, 'amount': -372},\n",
       "   {'transaction-id': 5099, 'amount': -189},\n",
       "   {'transaction-id': 5259, 'amount': -325},\n",
       "   {'transaction-id': 5371, 'amount': -407},\n",
       "   {'transaction-id': 5436, 'amount': -185},\n",
       "   {'transaction-id': 5487, 'amount': -306},\n",
       "   {'transaction-id': 5495, 'amount': -385},\n",
       "   {'transaction-id': 5533, 'amount': -267},\n",
       "   {'transaction-id': 5572, 'amount': -464},\n",
       "   {'transaction-id': 5674, 'amount': -209},\n",
       "   {'transaction-id': 5687, 'amount': -379},\n",
       "   {'transaction-id': 5885, 'amount': -233},\n",
       "   {'transaction-id': 5961, 'amount': -329},\n",
       "   {'transaction-id': 6258, 'amount': -283},\n",
       "   {'transaction-id': 6270, 'amount': -193},\n",
       "   {'transaction-id': 6297, 'amount': -326},\n",
       "   {'transaction-id': 6426, 'amount': -397},\n",
       "   {'transaction-id': 6481, 'amount': -544},\n",
       "   {'transaction-id': 6482, 'amount': -178},\n",
       "   {'transaction-id': 6655, 'amount': -279},\n",
       "   {'transaction-id': 6672, 'amount': -237},\n",
       "   {'transaction-id': 6685, 'amount': -355},\n",
       "   {'transaction-id': 6867, 'amount': -246},\n",
       "   {'transaction-id': 6928, 'amount': -301},\n",
       "   {'transaction-id': 6938, 'amount': -124},\n",
       "   {'transaction-id': 7021, 'amount': -313},\n",
       "   {'transaction-id': 7026, 'amount': -420},\n",
       "   {'transaction-id': 7132, 'amount': -315},\n",
       "   {'transaction-id': 7194, 'amount': -261},\n",
       "   {'transaction-id': 7228, 'amount': -424},\n",
       "   {'transaction-id': 7635, 'amount': -544},\n",
       "   {'transaction-id': 7811, 'amount': -276},\n",
       "   {'transaction-id': 7872, 'amount': -176},\n",
       "   {'transaction-id': 8002, 'amount': -394},\n",
       "   {'transaction-id': 8097, 'amount': -337},\n",
       "   {'transaction-id': 8533, 'amount': -260},\n",
       "   {'transaction-id': 8571, 'amount': -31},\n",
       "   {'transaction-id': 8574, 'amount': -310},\n",
       "   {'transaction-id': 8592, 'amount': -337},\n",
       "   {'transaction-id': 8649, 'amount': -294},\n",
       "   {'transaction-id': 8665, 'amount': -208},\n",
       "   {'transaction-id': 8870, 'amount': -409},\n",
       "   {'transaction-id': 9031, 'amount': -308},\n",
       "   {'transaction-id': 9295, 'amount': -277},\n",
       "   {'transaction-id': 9423, 'amount': -215}]})"
      ]
     },
     "execution_count": 10,
     "metadata": {},
     "output_type": "execute_result"
    }
   ],
   "source": [
    "import json\n",
    "js = lines.map(json.loads)\n",
    "# take: inspect first few elements\n",
    "js.take(3)"
   ]
  },
  {
   "cell_type": "markdown",
   "metadata": {},
   "source": [
    "### Basic Queries"
   ]
  },
  {
   "cell_type": "markdown",
   "metadata": {},
   "source": [
    "Once we parse our JSON data into proper Python objects (`dict`s, `list`s, etc.) we can perform more interesting queries by creating small Python functions to run on our data."
   ]
  },
  {
   "cell_type": "code",
   "execution_count": 11,
   "metadata": {
    "execution": {
     "iopub.execute_input": "2022-01-14T17:54:19.013334Z",
     "iopub.status.busy": "2022-01-14T17:54:19.011154Z",
     "iopub.status.idle": "2022-01-14T17:54:19.045271Z",
     "shell.execute_reply": "2022-01-14T17:54:19.045651Z"
    }
   },
   "outputs": [
    {
     "data": {
      "text/plain": [
       "({'id': 9,\n",
       "  'name': 'Alice',\n",
       "  'transactions': [{'transaction-id': 10, 'amount': 974},\n",
       "   {'transaction-id': 181, 'amount': 1041},\n",
       "   {'transaction-id': 390, 'amount': 1056},\n",
       "   {'transaction-id': 449, 'amount': 1106},\n",
       "   {'transaction-id': 495, 'amount': 1078},\n",
       "   {'transaction-id': 590, 'amount': 882},\n",
       "   {'transaction-id': 610, 'amount': 891},\n",
       "   {'transaction-id': 632, 'amount': 997},\n",
       "   {'transaction-id': 922, 'amount': 947},\n",
       "   {'transaction-id': 1071, 'amount': 869},\n",
       "   {'transaction-id': 1190, 'amount': 1055},\n",
       "   {'transaction-id': 1666, 'amount': 1037},\n",
       "   {'transaction-id': 1820, 'amount': 914},\n",
       "   {'transaction-id': 2066, 'amount': 1047},\n",
       "   {'transaction-id': 2208, 'amount': 945},\n",
       "   {'transaction-id': 2599, 'amount': 1047},\n",
       "   {'transaction-id': 2910, 'amount': 990},\n",
       "   {'transaction-id': 2926, 'amount': 1096},\n",
       "   {'transaction-id': 3050, 'amount': 943},\n",
       "   {'transaction-id': 3105, 'amount': 1007},\n",
       "   {'transaction-id': 3137, 'amount': 1030},\n",
       "   {'transaction-id': 3145, 'amount': 1151},\n",
       "   {'transaction-id': 3176, 'amount': 1005},\n",
       "   {'transaction-id': 3225, 'amount': 928},\n",
       "   {'transaction-id': 3258, 'amount': 1061},\n",
       "   {'transaction-id': 3513, 'amount': 906},\n",
       "   {'transaction-id': 3664, 'amount': 1037},\n",
       "   {'transaction-id': 3830, 'amount': 1038},\n",
       "   {'transaction-id': 4413, 'amount': 944},\n",
       "   {'transaction-id': 4667, 'amount': 922},\n",
       "   {'transaction-id': 4713, 'amount': 953},\n",
       "   {'transaction-id': 4823, 'amount': 1107},\n",
       "   {'transaction-id': 4888, 'amount': 1144},\n",
       "   {'transaction-id': 5208, 'amount': 972},\n",
       "   {'transaction-id': 5264, 'amount': 1033},\n",
       "   {'transaction-id': 5377, 'amount': 1158},\n",
       "   {'transaction-id': 5528, 'amount': 1094},\n",
       "   {'transaction-id': 5550, 'amount': 1065},\n",
       "   {'transaction-id': 5673, 'amount': 1023},\n",
       "   {'transaction-id': 6186, 'amount': 975},\n",
       "   {'transaction-id': 6411, 'amount': 1156},\n",
       "   {'transaction-id': 6538, 'amount': 955},\n",
       "   {'transaction-id': 6780, 'amount': 939},\n",
       "   {'transaction-id': 7385, 'amount': 1002},\n",
       "   {'transaction-id': 7759, 'amount': 1022},\n",
       "   {'transaction-id': 7922, 'amount': 1017},\n",
       "   {'transaction-id': 8319, 'amount': 1054},\n",
       "   {'transaction-id': 8357, 'amount': 963},\n",
       "   {'transaction-id': 8506, 'amount': 957},\n",
       "   {'transaction-id': 8641, 'amount': 1069},\n",
       "   {'transaction-id': 8653, 'amount': 1058},\n",
       "   {'transaction-id': 9012, 'amount': 1022},\n",
       "   {'transaction-id': 9180, 'amount': 913},\n",
       "   {'transaction-id': 9308, 'amount': 999},\n",
       "   {'transaction-id': 9435, 'amount': 918},\n",
       "   {'transaction-id': 9567, 'amount': 1023},\n",
       "   {'transaction-id': 9910, 'amount': 1030}]},\n",
       " {'id': 58,\n",
       "  'name': 'Alice',\n",
       "  'transactions': [{'transaction-id': 29, 'amount': 468},\n",
       "   {'transaction-id': 58, 'amount': 433},\n",
       "   {'transaction-id': 343, 'amount': 406},\n",
       "   {'transaction-id': 521, 'amount': 456},\n",
       "   {'transaction-id': 763, 'amount': 434},\n",
       "   {'transaction-id': 950, 'amount': 385},\n",
       "   {'transaction-id': 1530, 'amount': 428},\n",
       "   {'transaction-id': 1551, 'amount': 432},\n",
       "   {'transaction-id': 1574, 'amount': 421},\n",
       "   {'transaction-id': 1586, 'amount': 413},\n",
       "   {'transaction-id': 1865, 'amount': 446},\n",
       "   {'transaction-id': 1907, 'amount': 438},\n",
       "   {'transaction-id': 1915, 'amount': 482},\n",
       "   {'transaction-id': 2331, 'amount': 454},\n",
       "   {'transaction-id': 2708, 'amount': 442},\n",
       "   {'transaction-id': 2827, 'amount': 440},\n",
       "   {'transaction-id': 3012, 'amount': 437},\n",
       "   {'transaction-id': 3117, 'amount': 430},\n",
       "   {'transaction-id': 3163, 'amount': 469},\n",
       "   {'transaction-id': 3229, 'amount': 431},\n",
       "   {'transaction-id': 3302, 'amount': 458},\n",
       "   {'transaction-id': 3411, 'amount': 461},\n",
       "   {'transaction-id': 3514, 'amount': 437},\n",
       "   {'transaction-id': 3623, 'amount': 476},\n",
       "   {'transaction-id': 3717, 'amount': 449},\n",
       "   {'transaction-id': 3800, 'amount': 450},\n",
       "   {'transaction-id': 4519, 'amount': 388},\n",
       "   {'transaction-id': 4855, 'amount': 387},\n",
       "   {'transaction-id': 4879, 'amount': 427},\n",
       "   {'transaction-id': 4900, 'amount': 405},\n",
       "   {'transaction-id': 4914, 'amount': 436},\n",
       "   {'transaction-id': 5014, 'amount': 453},\n",
       "   {'transaction-id': 5263, 'amount': 433},\n",
       "   {'transaction-id': 5297, 'amount': 467},\n",
       "   {'transaction-id': 5388, 'amount': 446},\n",
       "   {'transaction-id': 5518, 'amount': 450},\n",
       "   {'transaction-id': 5614, 'amount': 473},\n",
       "   {'transaction-id': 5616, 'amount': 406},\n",
       "   {'transaction-id': 5636, 'amount': 452},\n",
       "   {'transaction-id': 5651, 'amount': 447},\n",
       "   {'transaction-id': 5713, 'amount': 398},\n",
       "   {'transaction-id': 5943, 'amount': 434},\n",
       "   {'transaction-id': 6003, 'amount': 408},\n",
       "   {'transaction-id': 6078, 'amount': 456},\n",
       "   {'transaction-id': 6135, 'amount': 462},\n",
       "   {'transaction-id': 6314, 'amount': 472},\n",
       "   {'transaction-id': 6451, 'amount': 449},\n",
       "   {'transaction-id': 6461, 'amount': 420},\n",
       "   {'transaction-id': 6624, 'amount': 396},\n",
       "   {'transaction-id': 6653, 'amount': 443},\n",
       "   {'transaction-id': 6734, 'amount': 453},\n",
       "   {'transaction-id': 6842, 'amount': 441},\n",
       "   {'transaction-id': 7060, 'amount': 379},\n",
       "   {'transaction-id': 7309, 'amount': 465},\n",
       "   {'transaction-id': 7535, 'amount': 459},\n",
       "   {'transaction-id': 7900, 'amount': 384},\n",
       "   {'transaction-id': 8037, 'amount': 427},\n",
       "   {'transaction-id': 8053, 'amount': 441},\n",
       "   {'transaction-id': 8117, 'amount': 437},\n",
       "   {'transaction-id': 8217, 'amount': 444},\n",
       "   {'transaction-id': 8305, 'amount': 457},\n",
       "   {'transaction-id': 8461, 'amount': 451},\n",
       "   {'transaction-id': 8507, 'amount': 398},\n",
       "   {'transaction-id': 8578, 'amount': 409},\n",
       "   {'transaction-id': 8909, 'amount': 409},\n",
       "   {'transaction-id': 8987, 'amount': 422},\n",
       "   {'transaction-id': 9072, 'amount': 442},\n",
       "   {'transaction-id': 9699, 'amount': 422},\n",
       "   {'transaction-id': 9736, 'amount': 459}]},\n",
       " {'id': 102,\n",
       "  'name': 'Alice',\n",
       "  'transactions': [{'transaction-id': 1229, 'amount': 1126},\n",
       "   {'transaction-id': 8597, 'amount': 1175}]},\n",
       " {'id': 113,\n",
       "  'name': 'Alice',\n",
       "  'transactions': [{'transaction-id': 3703, 'amount': 1439},\n",
       "   {'transaction-id': 5066, 'amount': 1527}]},\n",
       " {'id': 140,\n",
       "  'name': 'Alice',\n",
       "  'transactions': [{'transaction-id': 186, 'amount': 535},\n",
       "   {'transaction-id': 1831, 'amount': 454},\n",
       "   {'transaction-id': 3922, 'amount': 448},\n",
       "   {'transaction-id': 4726, 'amount': 500},\n",
       "   {'transaction-id': 5661, 'amount': 549},\n",
       "   {'transaction-id': 7466, 'amount': 466},\n",
       "   {'transaction-id': 8787, 'amount': 553},\n",
       "   {'transaction-id': 9372, 'amount': 577},\n",
       "   {'transaction-id': 9413, 'amount': 583},\n",
       "   {'transaction-id': 9853, 'amount': 496}]})"
      ]
     },
     "execution_count": 11,
     "metadata": {},
     "output_type": "execute_result"
    }
   ],
   "source": [
    "# filter: keep only some elements of the sequence\n",
    "js.filter(lambda record: record['name'] == 'Alice').take(5)"
   ]
  },
  {
   "cell_type": "code",
   "execution_count": 12,
   "metadata": {
    "execution": {
     "iopub.execute_input": "2022-01-14T17:54:19.056657Z",
     "iopub.status.busy": "2022-01-14T17:54:19.055154Z",
     "iopub.status.idle": "2022-01-14T17:54:19.075708Z",
     "shell.execute_reply": "2022-01-14T17:54:19.075359Z"
    }
   },
   "outputs": [
    {
     "data": {
      "text/plain": [
       "({'name': 'Alice', 'count': 57},\n",
       " {'name': 'Alice', 'count': 69},\n",
       " {'name': 'Alice', 'count': 2},\n",
       " {'name': 'Alice', 'count': 2},\n",
       " {'name': 'Alice', 'count': 10})"
      ]
     },
     "execution_count": 12,
     "metadata": {},
     "output_type": "execute_result"
    }
   ],
   "source": [
    "def count_transactions(d):\n",
    "    return {'name': d['name'], 'count': len(d['transactions'])}\n",
    "\n",
    "# map: apply a function to each element\n",
    "(js.filter(lambda record: record['name'] == 'Alice')\n",
    "   .map(count_transactions)\n",
    "   .take(5))"
   ]
  },
  {
   "cell_type": "code",
   "execution_count": 13,
   "metadata": {
    "execution": {
     "iopub.execute_input": "2022-01-14T17:54:19.084886Z",
     "iopub.status.busy": "2022-01-14T17:54:19.079104Z",
     "iopub.status.idle": "2022-01-14T17:54:19.101994Z",
     "shell.execute_reply": "2022-01-14T17:54:19.102323Z"
    }
   },
   "outputs": [
    {
     "data": {
      "text/plain": [
       "(57, 69, 2, 2, 10)"
      ]
     },
     "execution_count": 13,
     "metadata": {},
     "output_type": "execute_result"
    }
   ],
   "source": [
    "# pluck: select a field, as from a dictionary, element[field]\n",
    "(js.filter(lambda record: record['name'] == 'Alice')\n",
    "   .map(count_transactions)\n",
    "   .pluck('count')\n",
    "   .take(5))"
   ]
  },
  {
   "cell_type": "code",
   "execution_count": 14,
   "metadata": {
    "execution": {
     "iopub.execute_input": "2022-01-14T17:54:19.115290Z",
     "iopub.status.busy": "2022-01-14T17:54:19.107233Z",
     "iopub.status.idle": "2022-01-14T17:54:19.564380Z",
     "shell.execute_reply": "2022-01-14T17:54:19.563639Z"
    }
   },
   "outputs": [
    {
     "data": {
      "text/plain": [
       "25.06756756756757"
      ]
     },
     "execution_count": 14,
     "metadata": {},
     "output_type": "execute_result"
    }
   ],
   "source": [
    "# Average number of transactions for all of the Alice entries\n",
    "(js.filter(lambda record: record['name'] == 'Alice')\n",
    "   .map(count_transactions)\n",
    "   .pluck('count')\n",
    "   .mean()\n",
    "   .compute())"
   ]
  },
  {
   "cell_type": "markdown",
   "metadata": {},
   "source": [
    "### Use `flatten` to de-nest"
   ]
  },
  {
   "cell_type": "markdown",
   "metadata": {},
   "source": [
    "In the example below we see the use of `.flatten()` to flatten results.  We compute the average amount for all transactions for all Alices."
   ]
  },
  {
   "cell_type": "code",
   "execution_count": 15,
   "metadata": {
    "execution": {
     "iopub.execute_input": "2022-01-14T17:54:19.568509Z",
     "iopub.status.busy": "2022-01-14T17:54:19.567753Z",
     "iopub.status.idle": "2022-01-14T17:54:19.596772Z",
     "shell.execute_reply": "2022-01-14T17:54:19.597110Z"
    }
   },
   "outputs": [
    {
     "data": {
      "text/plain": [
       "([{'transaction-id': 10, 'amount': 974},\n",
       "  {'transaction-id': 181, 'amount': 1041},\n",
       "  {'transaction-id': 390, 'amount': 1056},\n",
       "  {'transaction-id': 449, 'amount': 1106},\n",
       "  {'transaction-id': 495, 'amount': 1078},\n",
       "  {'transaction-id': 590, 'amount': 882},\n",
       "  {'transaction-id': 610, 'amount': 891},\n",
       "  {'transaction-id': 632, 'amount': 997},\n",
       "  {'transaction-id': 922, 'amount': 947},\n",
       "  {'transaction-id': 1071, 'amount': 869},\n",
       "  {'transaction-id': 1190, 'amount': 1055},\n",
       "  {'transaction-id': 1666, 'amount': 1037},\n",
       "  {'transaction-id': 1820, 'amount': 914},\n",
       "  {'transaction-id': 2066, 'amount': 1047},\n",
       "  {'transaction-id': 2208, 'amount': 945},\n",
       "  {'transaction-id': 2599, 'amount': 1047},\n",
       "  {'transaction-id': 2910, 'amount': 990},\n",
       "  {'transaction-id': 2926, 'amount': 1096},\n",
       "  {'transaction-id': 3050, 'amount': 943},\n",
       "  {'transaction-id': 3105, 'amount': 1007},\n",
       "  {'transaction-id': 3137, 'amount': 1030},\n",
       "  {'transaction-id': 3145, 'amount': 1151},\n",
       "  {'transaction-id': 3176, 'amount': 1005},\n",
       "  {'transaction-id': 3225, 'amount': 928},\n",
       "  {'transaction-id': 3258, 'amount': 1061},\n",
       "  {'transaction-id': 3513, 'amount': 906},\n",
       "  {'transaction-id': 3664, 'amount': 1037},\n",
       "  {'transaction-id': 3830, 'amount': 1038},\n",
       "  {'transaction-id': 4413, 'amount': 944},\n",
       "  {'transaction-id': 4667, 'amount': 922},\n",
       "  {'transaction-id': 4713, 'amount': 953},\n",
       "  {'transaction-id': 4823, 'amount': 1107},\n",
       "  {'transaction-id': 4888, 'amount': 1144},\n",
       "  {'transaction-id': 5208, 'amount': 972},\n",
       "  {'transaction-id': 5264, 'amount': 1033},\n",
       "  {'transaction-id': 5377, 'amount': 1158},\n",
       "  {'transaction-id': 5528, 'amount': 1094},\n",
       "  {'transaction-id': 5550, 'amount': 1065},\n",
       "  {'transaction-id': 5673, 'amount': 1023},\n",
       "  {'transaction-id': 6186, 'amount': 975},\n",
       "  {'transaction-id': 6411, 'amount': 1156},\n",
       "  {'transaction-id': 6538, 'amount': 955},\n",
       "  {'transaction-id': 6780, 'amount': 939},\n",
       "  {'transaction-id': 7385, 'amount': 1002},\n",
       "  {'transaction-id': 7759, 'amount': 1022},\n",
       "  {'transaction-id': 7922, 'amount': 1017},\n",
       "  {'transaction-id': 8319, 'amount': 1054},\n",
       "  {'transaction-id': 8357, 'amount': 963},\n",
       "  {'transaction-id': 8506, 'amount': 957},\n",
       "  {'transaction-id': 8641, 'amount': 1069},\n",
       "  {'transaction-id': 8653, 'amount': 1058},\n",
       "  {'transaction-id': 9012, 'amount': 1022},\n",
       "  {'transaction-id': 9180, 'amount': 913},\n",
       "  {'transaction-id': 9308, 'amount': 999},\n",
       "  {'transaction-id': 9435, 'amount': 918},\n",
       "  {'transaction-id': 9567, 'amount': 1023},\n",
       "  {'transaction-id': 9910, 'amount': 1030}],\n",
       " [{'transaction-id': 29, 'amount': 468},\n",
       "  {'transaction-id': 58, 'amount': 433},\n",
       "  {'transaction-id': 343, 'amount': 406},\n",
       "  {'transaction-id': 521, 'amount': 456},\n",
       "  {'transaction-id': 763, 'amount': 434},\n",
       "  {'transaction-id': 950, 'amount': 385},\n",
       "  {'transaction-id': 1530, 'amount': 428},\n",
       "  {'transaction-id': 1551, 'amount': 432},\n",
       "  {'transaction-id': 1574, 'amount': 421},\n",
       "  {'transaction-id': 1586, 'amount': 413},\n",
       "  {'transaction-id': 1865, 'amount': 446},\n",
       "  {'transaction-id': 1907, 'amount': 438},\n",
       "  {'transaction-id': 1915, 'amount': 482},\n",
       "  {'transaction-id': 2331, 'amount': 454},\n",
       "  {'transaction-id': 2708, 'amount': 442},\n",
       "  {'transaction-id': 2827, 'amount': 440},\n",
       "  {'transaction-id': 3012, 'amount': 437},\n",
       "  {'transaction-id': 3117, 'amount': 430},\n",
       "  {'transaction-id': 3163, 'amount': 469},\n",
       "  {'transaction-id': 3229, 'amount': 431},\n",
       "  {'transaction-id': 3302, 'amount': 458},\n",
       "  {'transaction-id': 3411, 'amount': 461},\n",
       "  {'transaction-id': 3514, 'amount': 437},\n",
       "  {'transaction-id': 3623, 'amount': 476},\n",
       "  {'transaction-id': 3717, 'amount': 449},\n",
       "  {'transaction-id': 3800, 'amount': 450},\n",
       "  {'transaction-id': 4519, 'amount': 388},\n",
       "  {'transaction-id': 4855, 'amount': 387},\n",
       "  {'transaction-id': 4879, 'amount': 427},\n",
       "  {'transaction-id': 4900, 'amount': 405},\n",
       "  {'transaction-id': 4914, 'amount': 436},\n",
       "  {'transaction-id': 5014, 'amount': 453},\n",
       "  {'transaction-id': 5263, 'amount': 433},\n",
       "  {'transaction-id': 5297, 'amount': 467},\n",
       "  {'transaction-id': 5388, 'amount': 446},\n",
       "  {'transaction-id': 5518, 'amount': 450},\n",
       "  {'transaction-id': 5614, 'amount': 473},\n",
       "  {'transaction-id': 5616, 'amount': 406},\n",
       "  {'transaction-id': 5636, 'amount': 452},\n",
       "  {'transaction-id': 5651, 'amount': 447},\n",
       "  {'transaction-id': 5713, 'amount': 398},\n",
       "  {'transaction-id': 5943, 'amount': 434},\n",
       "  {'transaction-id': 6003, 'amount': 408},\n",
       "  {'transaction-id': 6078, 'amount': 456},\n",
       "  {'transaction-id': 6135, 'amount': 462},\n",
       "  {'transaction-id': 6314, 'amount': 472},\n",
       "  {'transaction-id': 6451, 'amount': 449},\n",
       "  {'transaction-id': 6461, 'amount': 420},\n",
       "  {'transaction-id': 6624, 'amount': 396},\n",
       "  {'transaction-id': 6653, 'amount': 443},\n",
       "  {'transaction-id': 6734, 'amount': 453},\n",
       "  {'transaction-id': 6842, 'amount': 441},\n",
       "  {'transaction-id': 7060, 'amount': 379},\n",
       "  {'transaction-id': 7309, 'amount': 465},\n",
       "  {'transaction-id': 7535, 'amount': 459},\n",
       "  {'transaction-id': 7900, 'amount': 384},\n",
       "  {'transaction-id': 8037, 'amount': 427},\n",
       "  {'transaction-id': 8053, 'amount': 441},\n",
       "  {'transaction-id': 8117, 'amount': 437},\n",
       "  {'transaction-id': 8217, 'amount': 444},\n",
       "  {'transaction-id': 8305, 'amount': 457},\n",
       "  {'transaction-id': 8461, 'amount': 451},\n",
       "  {'transaction-id': 8507, 'amount': 398},\n",
       "  {'transaction-id': 8578, 'amount': 409},\n",
       "  {'transaction-id': 8909, 'amount': 409},\n",
       "  {'transaction-id': 8987, 'amount': 422},\n",
       "  {'transaction-id': 9072, 'amount': 442},\n",
       "  {'transaction-id': 9699, 'amount': 422},\n",
       "  {'transaction-id': 9736, 'amount': 459}],\n",
       " [{'transaction-id': 1229, 'amount': 1126},\n",
       "  {'transaction-id': 8597, 'amount': 1175}])"
      ]
     },
     "execution_count": 15,
     "metadata": {},
     "output_type": "execute_result"
    }
   ],
   "source": [
    "(js.filter(lambda record: record['name'] == 'Alice')\n",
    "   .pluck('transactions')\n",
    "   .take(3))"
   ]
  },
  {
   "cell_type": "code",
   "execution_count": 16,
   "metadata": {
    "execution": {
     "iopub.execute_input": "2022-01-14T17:54:19.607833Z",
     "iopub.status.busy": "2022-01-14T17:54:19.606987Z",
     "iopub.status.idle": "2022-01-14T17:54:19.624471Z",
     "shell.execute_reply": "2022-01-14T17:54:19.624110Z"
    }
   },
   "outputs": [
    {
     "data": {
      "text/plain": [
       "({'transaction-id': 10, 'amount': 974},\n",
       " {'transaction-id': 181, 'amount': 1041},\n",
       " {'transaction-id': 390, 'amount': 1056})"
      ]
     },
     "execution_count": 16,
     "metadata": {},
     "output_type": "execute_result"
    }
   ],
   "source": [
    "(js.filter(lambda record: record['name'] == 'Alice')\n",
    "   .pluck('transactions')\n",
    "   .flatten()\n",
    "   .take(3))"
   ]
  },
  {
   "cell_type": "code",
   "execution_count": 17,
   "metadata": {
    "execution": {
     "iopub.execute_input": "2022-01-14T17:54:19.634345Z",
     "iopub.status.busy": "2022-01-14T17:54:19.628110Z",
     "iopub.status.idle": "2022-01-14T17:54:19.650488Z",
     "shell.execute_reply": "2022-01-14T17:54:19.649835Z"
    }
   },
   "outputs": [
    {
     "data": {
      "text/plain": [
       "(974, 1041, 1056)"
      ]
     },
     "execution_count": 17,
     "metadata": {},
     "output_type": "execute_result"
    }
   ],
   "source": [
    "(js.filter(lambda record: record['name'] == 'Alice')\n",
    "   .pluck('transactions')\n",
    "   .flatten()\n",
    "   .pluck('amount')\n",
    "   .take(3))"
   ]
  },
  {
   "cell_type": "code",
   "execution_count": 18,
   "metadata": {
    "execution": {
     "iopub.execute_input": "2022-01-14T17:54:19.664006Z",
     "iopub.status.busy": "2022-01-14T17:54:19.660166Z",
     "iopub.status.idle": "2022-01-14T17:54:20.014870Z",
     "shell.execute_reply": "2022-01-14T17:54:20.014324Z"
    }
   },
   "outputs": [
    {
     "data": {
      "text/plain": [
       "714.6587601078168"
      ]
     },
     "execution_count": 18,
     "metadata": {},
     "output_type": "execute_result"
    }
   ],
   "source": [
    "(js.filter(lambda record: record['name'] == 'Alice')\n",
    "   .pluck('transactions')\n",
    "   .flatten()\n",
    "   .pluck('amount')\n",
    "   .mean()\n",
    "   .compute())"
   ]
  },
  {
   "cell_type": "markdown",
   "metadata": {},
   "source": [
    "### Groupby and Foldby"
   ]
  },
  {
   "cell_type": "markdown",
   "metadata": {},
   "source": [
    "Often we want to group data by some function or key.  We can do this either with the `.groupby` method, which is straightforward but forces a full shuffle of the data (expensive) or with the harder-to-use but faster `.foldby` method, which does a streaming combined groupby and reduction.\n",
    "\n",
    "*  `groupby`:  Shuffles data so that all items with the same key are in the same key-value pair\n",
    "*  `foldby`:  Walks through the data accumulating a result per key\n",
    "\n",
    "*Note: the full groupby is particularly bad. In actual workloads you would do well to use `foldby` or switch to `DataFrame`s if possible.*"
   ]
  },
  {
   "cell_type": "markdown",
   "metadata": {},
   "source": [
    "### `groupby`"
   ]
  },
  {
   "cell_type": "markdown",
   "metadata": {},
   "source": [
    "Groupby collects items in your collection so that all items with the same value under some function are collected together into a key-value pair."
   ]
  },
  {
   "cell_type": "code",
   "execution_count": 19,
   "metadata": {
    "execution": {
     "iopub.execute_input": "2022-01-14T17:54:20.018803Z",
     "iopub.status.busy": "2022-01-14T17:54:20.018425Z",
     "iopub.status.idle": "2022-01-14T17:54:20.108594Z",
     "shell.execute_reply": "2022-01-14T17:54:20.108187Z"
    }
   },
   "outputs": [
    {
     "data": {
      "text/plain": [
       "[(7, ['Charlie']), (3, ['Bob', 'Dan']), (5, ['Alice', 'Edith', 'Frank'])]"
      ]
     },
     "execution_count": 19,
     "metadata": {},
     "output_type": "execute_result"
    }
   ],
   "source": [
    "b = db.from_sequence(['Alice', 'Bob', 'Charlie', 'Dan', 'Edith', 'Frank'])\n",
    "b.groupby(len).compute()  # names grouped by length"
   ]
  },
  {
   "cell_type": "code",
   "execution_count": 20,
   "metadata": {
    "execution": {
     "iopub.execute_input": "2022-01-14T17:54:20.113077Z",
     "iopub.status.busy": "2022-01-14T17:54:20.112460Z",
     "iopub.status.idle": "2022-01-14T17:54:20.241944Z",
     "shell.execute_reply": "2022-01-14T17:54:20.242279Z"
    }
   },
   "outputs": [
    {
     "data": {
      "text/plain": [
       "[(0, [0, 2, 4, 6, 8]), (1, [1, 3, 5, 7, 9])]"
      ]
     },
     "execution_count": 20,
     "metadata": {},
     "output_type": "execute_result"
    }
   ],
   "source": [
    "b = db.from_sequence(list(range(10)))\n",
    "b.groupby(lambda x: x % 2).compute()"
   ]
  },
  {
   "cell_type": "code",
   "execution_count": 21,
   "metadata": {
    "execution": {
     "iopub.execute_input": "2022-01-14T17:54:20.258026Z",
     "iopub.status.busy": "2022-01-14T17:54:20.251906Z",
     "iopub.status.idle": "2022-01-14T17:54:20.388206Z",
     "shell.execute_reply": "2022-01-14T17:54:20.387072Z"
    }
   },
   "outputs": [
    {
     "data": {
      "text/plain": [
       "[(0, 8), (1, 9)]"
      ]
     },
     "execution_count": 21,
     "metadata": {},
     "output_type": "execute_result"
    }
   ],
   "source": [
    "b.groupby(lambda x: x % 2).starmap(lambda k, v: (k, max(v))).compute()"
   ]
  },
  {
   "cell_type": "markdown",
   "metadata": {},
   "source": [
    "### `foldby`"
   ]
  },
  {
   "cell_type": "markdown",
   "metadata": {},
   "source": [
    "Foldby can be quite odd at first.  It is similar to the following functions from other libraries:\n",
    "\n",
    "*  [`toolz.reduceby`](http://toolz.readthedocs.io/en/latest/streaming-analytics.html#streaming-split-apply-combine)\n",
    "*  [`pyspark.RDD.combineByKey`](http://abshinn.github.io/python/apache-spark/2014/10/11/using-combinebykey-in-apache-spark/)\n",
    "\n",
    "When using `foldby` you provide \n",
    "\n",
    "1.  A key function on which to group elements\n",
    "2.  A binary operator such as you would pass to `reduce` that you use to perform reduction per each group\n",
    "3.  A combine binary operator that can combine the results of two `reduce` calls on different parts of your dataset.\n",
    "\n",
    "Your reduction must be associative.  It will happen in parallel in each of the partitions of your dataset.  Then all of these intermediate results will be combined by the `combine` binary operator."
   ]
  },
  {
   "cell_type": "code",
   "execution_count": 22,
   "metadata": {
    "execution": {
     "iopub.execute_input": "2022-01-14T17:54:20.393375Z",
     "iopub.status.busy": "2022-01-14T17:54:20.391586Z",
     "iopub.status.idle": "2022-01-14T17:54:20.437138Z",
     "shell.execute_reply": "2022-01-14T17:54:20.437486Z"
    }
   },
   "outputs": [
    {
     "data": {
      "text/plain": [
       "[(0, 8), (1, 9)]"
      ]
     },
     "execution_count": 22,
     "metadata": {},
     "output_type": "execute_result"
    }
   ],
   "source": [
    "b.foldby(lambda x: x % 2, binop=max, combine=max).compute()"
   ]
  },
  {
   "cell_type": "markdown",
   "metadata": {},
   "source": [
    "### Example with account data"
   ]
  },
  {
   "cell_type": "markdown",
   "metadata": {},
   "source": [
    "We find the number of people with the same name."
   ]
  },
  {
   "cell_type": "code",
   "execution_count": 23,
   "metadata": {
    "execution": {
     "iopub.execute_input": "2022-01-14T17:54:20.450242Z",
     "iopub.status.busy": "2022-01-14T17:54:20.449789Z",
     "iopub.status.idle": "2022-01-14T17:54:24.348264Z",
     "shell.execute_reply": "2022-01-14T17:54:24.347595Z"
    }
   },
   "outputs": [
    {
     "name": "stdout",
     "output_type": "stream",
     "text": [
      "[('Alice', 89), ('Alice', 89), ('Alice', 89), ('Alice', 103), ('Bob', 141), ('Bob', 143), ('Bob', 144), ('Bob', 164), ('Charlie', 78), ('Charlie', 78), ('Charlie', 79), ('Charlie', 94), ('Dan', 156), ('Dan', 157), ('Dan', 159), ('Dan', 185), ('Edith', 72), ('Edith', 72), ('Edith', 72), ('Edith', 84), ('Frank', 109), ('Frank', 112), ('Frank', 116), ('Frank', 134), ('George', 106), ('George', 107), ('George', 108), ('George', 126), ('Hannah', 144), ('Hannah', 144), ('Hannah', 144), ('Hannah', 168), ('Ingrid', 107), ('Ingrid', 108), ('Ingrid', 108), ('Ingrid', 126), ('Jerry', 119), ('Jerry', 120), ('Jerry', 120), ('Jerry', 140), ('Kevin', 176), ('Kevin', 177), ('Kevin', 180), ('Kevin', 209), ('Laura', 85), ('Laura', 85), ('Laura', 86), ('Laura', 99), ('Michael', 62), ('Michael', 64), ('Michael', 65), ('Michael', 77), ('Norbert', 47), ('Norbert', 48), ('Norbert', 48), ('Norbert', 55), ('Oliver', 132), ('Oliver', 132), ('Oliver', 132), ('Oliver', 154), ('Patricia', 96), ('Patricia', 96), ('Patricia', 96), ('Patricia', 112), ('Quinn', 87), ('Quinn', 87), ('Quinn', 89), ('Quinn', 103), ('Ray', 84), ('Ray', 84), ('Ray', 84), ('Ray', 98), ('Sarah', 180), ('Sarah', 210), ('Sarah', 360), ('Tim', 96), ('Tim', 96), ('Tim', 96), ('Tim', 112), ('Ursula', 192), ('Ursula', 192), ('Ursula', 192), ('Ursula', 224), ('Victor', 144), ('Victor', 144), ('Victor', 144), ('Victor', 167), ('Wendy', 109), ('Wendy', 109), ('Wendy', 110), ('Wendy', 131), ('Xavier', 144), ('Xavier', 144), ('Xavier', 144), ('Xavier', 168), ('Yvonne', 83), ('Yvonne', 83), ('Yvonne', 84), ('Yvonne', 98), ('Zelda', 66), ('Zelda', 67), ('Zelda', 68), ('Zelda', 80)]\n",
      "CPU times: user 793 ms, sys: 84.6 ms, total: 878 ms\n",
      "Wall time: 3.9 s\n"
     ]
    }
   ],
   "source": [
    "%%time\n",
    "# Warning, this one takes a while...\n",
    "result = js.groupby(lambda item: item['name']).starmap(lambda k, v: (k, len(v))).compute()\n",
    "print(sorted(result))"
   ]
  },
  {
   "cell_type": "code",
   "execution_count": 24,
   "metadata": {
    "execution": {
     "iopub.execute_input": "2022-01-14T17:54:24.352807Z",
     "iopub.status.busy": "2022-01-14T17:54:24.352422Z",
     "iopub.status.idle": "2022-01-14T17:54:24.763490Z",
     "shell.execute_reply": "2022-01-14T17:54:24.764095Z"
    }
   },
   "outputs": [
    {
     "name": "stdout",
     "output_type": "stream",
     "text": [
      "[('Alice', 370), ('Bob', 592), ('Charlie', 329), ('Dan', 657), ('Edith', 300), ('Frank', 471), ('George', 447), ('Hannah', 600), ('Ingrid', 449), ('Jerry', 499), ('Kevin', 742), ('Laura', 355), ('Michael', 268), ('Norbert', 198), ('Oliver', 550), ('Patricia', 400), ('Quinn', 366), ('Ray', 350), ('Sarah', 750), ('Tim', 400), ('Ursula', 800), ('Victor', 599), ('Wendy', 459), ('Xavier', 600), ('Yvonne', 348), ('Zelda', 281)]\n",
      "CPU times: user 182 ms, sys: 8.27 ms, total: 190 ms\n",
      "Wall time: 408 ms\n"
     ]
    }
   ],
   "source": [
    "%%time\n",
    "# This one is comparatively fast and produces the same result.\n",
    "from operator import add\n",
    "def incr(tot, _):\n",
    "    return tot + 1\n",
    "\n",
    "result = js.foldby(key='name', \n",
    "                   binop=incr, \n",
    "                   initial=0, \n",
    "                   combine=add, \n",
    "                   combine_initial=0).compute()\n",
    "print(sorted(result))"
   ]
  },
  {
   "cell_type": "markdown",
   "metadata": {},
   "source": [
    "### Exercise: compute total amount per name"
   ]
  },
  {
   "cell_type": "markdown",
   "metadata": {},
   "source": [
    "We want to groupby (or foldby) the `name` key, then add up the all of the amounts for each name.\n",
    "\n",
    "Steps\n",
    "\n",
    "1.  Create a small function that, given a dictionary like \n",
    "\n",
    "        {'name': 'Alice', 'transactions': [{'amount': 1, 'id': 123}, {'amount': 2, 'id': 456}]}\n",
    "        \n",
    "    produces the sum of the amounts, e.g. `3`\n",
    "    \n",
    "2.  Slightly change the binary operator of the `foldby` example above so that the binary operator doesn't count the number of entries, but instead accumulates the sum of the amounts."
   ]
  },
  {
   "cell_type": "code",
   "execution_count": 25,
   "metadata": {
    "execution": {
     "iopub.execute_input": "2022-01-14T17:54:24.767428Z",
     "iopub.status.busy": "2022-01-14T17:54:24.767011Z",
     "iopub.status.idle": "2022-01-14T17:54:24.768807Z",
     "shell.execute_reply": "2022-01-14T17:54:24.768441Z"
    }
   },
   "outputs": [],
   "source": [
    "# Your code here..."
   ]
  },
  {
   "cell_type": "markdown",
   "metadata": {},
   "source": [
    "## DataFrames"
   ]
  },
  {
   "cell_type": "markdown",
   "metadata": {},
   "source": [
    "For the same reasons that Pandas is often faster than pure Python, `dask.dataframe` can be faster than `dask.bag`.  We will work more with DataFrames later, but from the point of view of a Bag, it is frequently the end-point of the \"messy\" part of data ingestion—once the data can be made into a data-frame, then complex split-apply-combine logic will become much more straight-forward and efficient.\n",
    "\n",
    "You can transform a bag with a simple tuple or flat dictionary structure into a `dask.dataframe` with the `to_dataframe` method."
   ]
  },
  {
   "cell_type": "code",
   "execution_count": 26,
   "metadata": {
    "execution": {
     "iopub.execute_input": "2022-01-14T17:54:24.772087Z",
     "iopub.status.busy": "2022-01-14T17:54:24.771669Z",
     "iopub.status.idle": "2022-01-14T17:54:25.198858Z",
     "shell.execute_reply": "2022-01-14T17:54:25.199192Z"
    }
   },
   "outputs": [
    {
     "data": {
      "text/html": [
       "<div>\n",
       "<style scoped>\n",
       "    .dataframe tbody tr th:only-of-type {\n",
       "        vertical-align: middle;\n",
       "    }\n",
       "\n",
       "    .dataframe tbody tr th {\n",
       "        vertical-align: top;\n",
       "    }\n",
       "\n",
       "    .dataframe thead th {\n",
       "        text-align: right;\n",
       "    }\n",
       "</style>\n",
       "<table border=\"1\" class=\"dataframe\">\n",
       "  <thead>\n",
       "    <tr style=\"text-align: right;\">\n",
       "      <th></th>\n",
       "      <th>id</th>\n",
       "      <th>name</th>\n",
       "      <th>transactions</th>\n",
       "    </tr>\n",
       "  </thead>\n",
       "  <tbody>\n",
       "    <tr>\n",
       "      <th>0</th>\n",
       "      <td>0</td>\n",
       "      <td>Jerry</td>\n",
       "      <td>[{'transaction-id': 25, 'amount': -373}, {'tra...</td>\n",
       "    </tr>\n",
       "    <tr>\n",
       "      <th>1</th>\n",
       "      <td>1</td>\n",
       "      <td>Ingrid</td>\n",
       "      <td>[{'transaction-id': 1330, 'amount': 311}, {'tr...</td>\n",
       "    </tr>\n",
       "    <tr>\n",
       "      <th>2</th>\n",
       "      <td>2</td>\n",
       "      <td>Patricia</td>\n",
       "      <td>[{'transaction-id': 265, 'amount': -410}, {'tr...</td>\n",
       "    </tr>\n",
       "    <tr>\n",
       "      <th>3</th>\n",
       "      <td>3</td>\n",
       "      <td>Hannah</td>\n",
       "      <td>[{'transaction-id': 1177, 'amount': 1168}, {'t...</td>\n",
       "    </tr>\n",
       "    <tr>\n",
       "      <th>4</th>\n",
       "      <td>4</td>\n",
       "      <td>Xavier</td>\n",
       "      <td>[{'transaction-id': 213, 'amount': 2851}, {'tr...</td>\n",
       "    </tr>\n",
       "  </tbody>\n",
       "</table>\n",
       "</div>"
      ],
      "text/plain": [
       "   id      name                                       transactions\n",
       "0   0     Jerry  [{'transaction-id': 25, 'amount': -373}, {'tra...\n",
       "1   1    Ingrid  [{'transaction-id': 1330, 'amount': 311}, {'tr...\n",
       "2   2  Patricia  [{'transaction-id': 265, 'amount': -410}, {'tr...\n",
       "3   3    Hannah  [{'transaction-id': 1177, 'amount': 1168}, {'t...\n",
       "4   4    Xavier  [{'transaction-id': 213, 'amount': 2851}, {'tr..."
      ]
     },
     "execution_count": 26,
     "metadata": {},
     "output_type": "execute_result"
    }
   ],
   "source": [
    "df1 = js.to_dataframe()\n",
    "df1.head()"
   ]
  },
  {
   "cell_type": "markdown",
   "metadata": {},
   "source": [
    "This now looks like a well-defined DataFrame, and we can apply Pandas-like computations to it efficiently."
   ]
  },
  {
   "cell_type": "markdown",
   "metadata": {},
   "source": [
    "Using a Dask DataFrame, how long does it take to do our prior computation of numbers of people with the same name?  It turns out that `dask.dataframe.groupby()` beats `dask.bag.groupby()` by more than an order of magnitude; but it still cannot match `dask.bag.foldby()` for this case."
   ]
  },
  {
   "cell_type": "code",
   "execution_count": 27,
   "metadata": {
    "execution": {
     "iopub.execute_input": "2022-01-14T17:54:25.217962Z",
     "iopub.status.busy": "2022-01-14T17:54:25.216975Z",
     "iopub.status.idle": "2022-01-14T17:54:26.530346Z",
     "shell.execute_reply": "2022-01-14T17:54:26.529728Z"
    }
   },
   "outputs": [
    {
     "name": "stdout",
     "output_type": "stream",
     "text": [
      "CPU times: user 215 ms, sys: 13.1 ms, total: 228 ms\n",
      "Wall time: 1.32 s\n"
     ]
    },
    {
     "data": {
      "text/plain": [
       "name\n",
       "Alice      370\n",
       "Bob        592\n",
       "Charlie    329\n",
       "Dan        657\n",
       "Edith      300\n",
       "Name: id, dtype: int64"
      ]
     },
     "execution_count": 27,
     "metadata": {},
     "output_type": "execute_result"
    }
   ],
   "source": [
    "%time df1.groupby('name').id.count().compute().head()"
   ]
  },
  {
   "cell_type": "markdown",
   "metadata": {},
   "source": [
    "### Denormalization"
   ]
  },
  {
   "cell_type": "markdown",
   "metadata": {},
   "source": [
    "This DataFrame format is less-than-optimal because the `transactions` column is filled with nested data so Pandas has to revert to `object` dtype, which is quite slow in Pandas.  Ideally we want to transform to a dataframe only after we have flattened our data so that each record is a single `int`, `string`, `float`, etc.."
   ]
  },
  {
   "cell_type": "code",
   "execution_count": 28,
   "metadata": {
    "execution": {
     "iopub.execute_input": "2022-01-14T17:54:26.541553Z",
     "iopub.status.busy": "2022-01-14T17:54:26.535090Z",
     "iopub.status.idle": "2022-01-14T17:54:26.559925Z",
     "shell.execute_reply": "2022-01-14T17:54:26.559495Z"
    }
   },
   "outputs": [
    {
     "data": {
      "text/plain": [
       "({'id': 0, 'name': 'Jerry', 'amount': -373, 'transaction-id': 25},\n",
       " {'id': 0, 'name': 'Jerry', 'amount': -367, 'transaction-id': 99},\n",
       " {'id': 0, 'name': 'Jerry', 'amount': -182, 'transaction-id': 1620})"
      ]
     },
     "execution_count": 28,
     "metadata": {},
     "output_type": "execute_result"
    }
   ],
   "source": [
    "def denormalize(record):\n",
    "    # returns a list for each person, one item per transaction\n",
    "    return [{'id': record['id'], \n",
    "             'name': record['name'], \n",
    "             'amount': transaction['amount'], \n",
    "             'transaction-id': transaction['transaction-id']}\n",
    "            for transaction in record['transactions']]\n",
    "\n",
    "transactions = js.map(denormalize).flatten()\n",
    "transactions.take(3)"
   ]
  },
  {
   "cell_type": "code",
   "execution_count": 29,
   "metadata": {
    "execution": {
     "iopub.execute_input": "2022-01-14T17:54:26.563394Z",
     "iopub.status.busy": "2022-01-14T17:54:26.562957Z",
     "iopub.status.idle": "2022-01-14T17:54:26.641483Z",
     "shell.execute_reply": "2022-01-14T17:54:26.641890Z"
    }
   },
   "outputs": [
    {
     "data": {
      "text/html": [
       "<div>\n",
       "<style scoped>\n",
       "    .dataframe tbody tr th:only-of-type {\n",
       "        vertical-align: middle;\n",
       "    }\n",
       "\n",
       "    .dataframe tbody tr th {\n",
       "        vertical-align: top;\n",
       "    }\n",
       "\n",
       "    .dataframe thead th {\n",
       "        text-align: right;\n",
       "    }\n",
       "</style>\n",
       "<table border=\"1\" class=\"dataframe\">\n",
       "  <thead>\n",
       "    <tr style=\"text-align: right;\">\n",
       "      <th></th>\n",
       "      <th>id</th>\n",
       "      <th>name</th>\n",
       "      <th>amount</th>\n",
       "      <th>transaction-id</th>\n",
       "    </tr>\n",
       "  </thead>\n",
       "  <tbody>\n",
       "    <tr>\n",
       "      <th>0</th>\n",
       "      <td>0</td>\n",
       "      <td>Jerry</td>\n",
       "      <td>-373</td>\n",
       "      <td>25</td>\n",
       "    </tr>\n",
       "    <tr>\n",
       "      <th>1</th>\n",
       "      <td>0</td>\n",
       "      <td>Jerry</td>\n",
       "      <td>-367</td>\n",
       "      <td>99</td>\n",
       "    </tr>\n",
       "    <tr>\n",
       "      <th>2</th>\n",
       "      <td>0</td>\n",
       "      <td>Jerry</td>\n",
       "      <td>-182</td>\n",
       "      <td>1620</td>\n",
       "    </tr>\n",
       "    <tr>\n",
       "      <th>3</th>\n",
       "      <td>0</td>\n",
       "      <td>Jerry</td>\n",
       "      <td>-276</td>\n",
       "      <td>1952</td>\n",
       "    </tr>\n",
       "    <tr>\n",
       "      <th>4</th>\n",
       "      <td>0</td>\n",
       "      <td>Jerry</td>\n",
       "      <td>-299</td>\n",
       "      <td>3180</td>\n",
       "    </tr>\n",
       "  </tbody>\n",
       "</table>\n",
       "</div>"
      ],
      "text/plain": [
       "   id   name  amount  transaction-id\n",
       "0   0  Jerry    -373              25\n",
       "1   0  Jerry    -367              99\n",
       "2   0  Jerry    -182            1620\n",
       "3   0  Jerry    -276            1952\n",
       "4   0  Jerry    -299            3180"
      ]
     },
     "execution_count": 29,
     "metadata": {},
     "output_type": "execute_result"
    }
   ],
   "source": [
    "df = transactions.to_dataframe()\n",
    "df.head()"
   ]
  },
  {
   "cell_type": "code",
   "execution_count": 30,
   "metadata": {
    "execution": {
     "iopub.execute_input": "2022-01-14T17:54:26.647761Z",
     "iopub.status.busy": "2022-01-14T17:54:26.647323Z",
     "iopub.status.idle": "2022-01-14T17:54:27.576774Z",
     "shell.execute_reply": "2022-01-14T17:54:27.576374Z"
    }
   },
   "outputs": [
    {
     "name": "stdout",
     "output_type": "stream",
     "text": [
      "CPU times: user 151 ms, sys: 22.2 ms, total: 174 ms\n",
      "Wall time: 922 ms\n"
     ]
    },
    {
     "data": {
      "text/plain": [
       "name\n",
       "Alice        9275\n",
       "Bob         17363\n",
       "Charlie     19192\n",
       "Dan         39126\n",
       "Edith        7998\n",
       "Frank       28606\n",
       "George      15753\n",
       "Hannah      32068\n",
       "Ingrid      20294\n",
       "Jerry       20477\n",
       "Kevin       24301\n",
       "Laura       14996\n",
       "Michael     14954\n",
       "Norbert      4154\n",
       "Oliver      32428\n",
       "Patricia    18461\n",
       "Quinn       10808\n",
       "Ray         13796\n",
       "Sarah       26571\n",
       "Tim         11709\n",
       "Ursula      34969\n",
       "Victor      20645\n",
       "Wendy       18012\n",
       "Xavier      29203\n",
       "Yvonne      11839\n",
       "Zelda        3002\n",
       "Name: transaction-id, dtype: int64"
      ]
     },
     "execution_count": 30,
     "metadata": {},
     "output_type": "execute_result"
    }
   ],
   "source": [
    "%%time\n",
    "# number of transactions per name\n",
    "# note that the time here includes the data load and ingestion\n",
    "df.groupby('name')['transaction-id'].count().compute()"
   ]
  },
  {
   "cell_type": "markdown",
   "metadata": {},
   "source": [
    "## Limitations"
   ]
  },
  {
   "cell_type": "markdown",
   "metadata": {},
   "source": [
    "Bags provide very general computation (any Python function.)  This generality\n",
    "comes at cost.  Bags have the following known limitations\n",
    "\n",
    "1.  Bag operations tend to be slower than array/dataframe computations in the\n",
    "    same way that Python tends to be slower than NumPy/Pandas\n",
    "2.  ``Bag.groupby`` is slow.  You should try to use ``Bag.foldby`` if possible.\n",
    "    Using ``Bag.foldby`` requires more thought. Even better, consider creating\n",
    "    a normalised dataframe."
   ]
  },
  {
   "cell_type": "markdown",
   "metadata": {},
   "source": [
    "## Learn More\n",
    "\n",
    "* [Bag documentation](https://docs.dask.org/en/latest/bag.html)\n",
    "* [Bag screencast](https://youtu.be/-qIiJ1XtSv0)\n",
    "* [Bag API](https://docs.dask.org/en/latest/bag-api.html)\n",
    "* [Bag examples](https://examples.dask.org/bag.html)"
   ]
  },
  {
   "cell_type": "markdown",
   "metadata": {},
   "source": [
    "## Shutdown"
   ]
  },
  {
   "cell_type": "code",
   "execution_count": 31,
   "metadata": {
    "execution": {
     "iopub.execute_input": "2022-01-14T17:54:27.581253Z",
     "iopub.status.busy": "2022-01-14T17:54:27.579013Z",
     "iopub.status.idle": "2022-01-14T17:54:28.045926Z",
     "shell.execute_reply": "2022-01-14T17:54:28.046446Z"
    }
   },
   "outputs": [],
   "source": [
    "client.shutdown()"
   ]
  }
 ],
 "metadata": {
  "anaconda-cloud": {},
  "kernelspec": {
   "display_name": "Python 3",
   "language": "python",
   "name": "python3"
  },
  "language_info": {
   "codemirror_mode": {
    "name": "ipython",
    "version": 3
   },
   "file_extension": ".py",
   "mimetype": "text/x-python",
   "name": "python",
   "nbconvert_exporter": "python",
   "pygments_lexer": "ipython3",
   "version": "3.8.12"
  }
 },
 "nbformat": 4,
 "nbformat_minor": 4
}
