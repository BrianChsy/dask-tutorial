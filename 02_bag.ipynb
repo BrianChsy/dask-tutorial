{
 "cells": [
  {
   "cell_type": "markdown",
   "metadata": {},
   "source": [
    "<img src=\"images/dask_horizontal.svg\" align=\"right\" width=\"30%\">"
   ]
  },
  {
   "cell_type": "markdown",
   "metadata": {},
   "source": [
    "# Bag: Parallel Lists for semi-structured data"
   ]
  },
  {
   "cell_type": "markdown",
   "metadata": {},
   "source": [
    "Dask-bag excels in processing data that can be represented as a sequence of arbitrary inputs. We'll refer to this as \"messy\" data, because it can contain complex nested structures, missing fields, mixtures of data types, etc. The *functional* programming style fits very nicely with standard Python iteration, such as can be found in the `itertools` module.\n",
    "\n",
    "Messy data is often encountered at the beginning of data processing pipelines when large volumes of raw data are first consumed. The initial set of data might be JSON, CSV, XML, or any other format that does not enforce strict structure and datatypes.\n",
    "For this reason, the initial data massaging and processing is often done with Python `list`s, `dict`s, and `set`s.\n",
    "\n",
    "These core data structures are optimized for general-purpose storage and processing.  Adding streaming computation with iterators/generator expressions or libraries like `itertools` or [`toolz`](https://toolz.readthedocs.io/en/latest/) let us process large volumes in a small space.  If we combine this with parallel processing then we can churn through a fair amount of data.\n",
    "\n",
    "Dask.bag is a high level Dask collection to automate common workloads of this form.  In a nutshell\n",
    "\n",
    "    dask.bag = map, filter, toolz + parallel execution\n",
    "    \n",
    "**Related Documentation**\n",
    "\n",
    "* [Bag documentation](https://docs.dask.org/en/latest/bag.html)\n",
    "* [Bag screencast](https://youtu.be/-qIiJ1XtSv0)\n",
    "* [Bag API](https://docs.dask.org/en/latest/bag-api.html)\n",
    "* [Bag examples](https://examples.dask.org/bag.html)"
   ]
  },
  {
   "cell_type": "markdown",
   "metadata": {},
   "source": [
    "## Create data"
   ]
  },
  {
   "cell_type": "code",
   "execution_count": 1,
   "metadata": {
    "execution": {
     "iopub.execute_input": "2022-05-11T14:39:12.701346Z",
     "iopub.status.busy": "2022-05-11T14:39:12.700793Z",
     "iopub.status.idle": "2022-05-11T14:39:13.462324Z",
     "shell.execute_reply": "2022-05-11T14:39:13.461479Z"
    }
   },
   "outputs": [],
   "source": [
    "%run prep.py -d accounts"
   ]
  },
  {
   "cell_type": "markdown",
   "metadata": {},
   "source": [
    "## Setup"
   ]
  },
  {
   "cell_type": "markdown",
   "metadata": {},
   "source": [
    "Again, we'll use the distributed scheduler. Schedulers will be explained in depth [later](05_distributed.ipynb)."
   ]
  },
  {
   "cell_type": "code",
   "execution_count": 2,
   "metadata": {
    "execution": {
     "iopub.execute_input": "2022-05-11T14:39:13.466838Z",
     "iopub.status.busy": "2022-05-11T14:39:13.466450Z",
     "iopub.status.idle": "2022-05-11T14:39:16.163828Z",
     "shell.execute_reply": "2022-05-11T14:39:16.162578Z"
    }
   },
   "outputs": [],
   "source": [
    "from dask.distributed import Client\n",
    "\n",
    "client = Client(n_workers=4)"
   ]
  },
  {
   "cell_type": "markdown",
   "metadata": {},
   "source": [
    "## Creation"
   ]
  },
  {
   "cell_type": "markdown",
   "metadata": {},
   "source": [
    "You can create a `Bag` from a Python sequence, from files, from data on S3, etc.\n",
    "We demonstrate using `.take()` to show elements of the data. (Doing `.take(1)` results in a tuple with one element)\n",
    "\n",
    "Note that the data are partitioned into blocks, and there are many items per block. In the first example, the two partitions contain five elements each, and in the following two, each file is partitioned into one or more bytes blocks."
   ]
  },
  {
   "cell_type": "code",
   "execution_count": 3,
   "metadata": {
    "execution": {
     "iopub.execute_input": "2022-05-11T14:39:16.168937Z",
     "iopub.status.busy": "2022-05-11T14:39:16.168406Z",
     "iopub.status.idle": "2022-05-11T14:39:16.554339Z",
     "shell.execute_reply": "2022-05-11T14:39:16.553441Z"
    }
   },
   "outputs": [
    {
     "data": {
      "text/plain": [
       "(1, 2, 3)"
      ]
     },
     "execution_count": 3,
     "metadata": {},
     "output_type": "execute_result"
    }
   ],
   "source": [
    "# each element is an integer\n",
    "import dask.bag as db\n",
    "b = db.from_sequence([1, 2, 3, 4, 5, 6, 7, 8, 9, 10], npartitions=2)\n",
    "b.take(3)"
   ]
  },
  {
   "cell_type": "code",
   "execution_count": 4,
   "metadata": {
    "execution": {
     "iopub.execute_input": "2022-05-11T14:39:16.557881Z",
     "iopub.status.busy": "2022-05-11T14:39:16.557594Z",
     "iopub.status.idle": "2022-05-11T14:39:16.676777Z",
     "shell.execute_reply": "2022-05-11T14:39:16.675970Z"
    }
   },
   "outputs": [
    {
     "data": {
      "text/plain": [
       "('{\"id\": 0, \"name\": \"Ray\", \"transactions\": [{\"transaction-id\": 374, \"amount\": 130}, {\"transaction-id\": 5144, \"amount\": 131}, {\"transaction-id\": 5939, \"amount\": 151}, {\"transaction-id\": 9153, \"amount\": 124}, {\"transaction-id\": 9209, \"amount\": 135}]}\\n',)"
      ]
     },
     "execution_count": 4,
     "metadata": {},
     "output_type": "execute_result"
    }
   ],
   "source": [
    "# each element is a text file, where each line is a JSON object\n",
    "# note that the compression is handled automatically\n",
    "import os\n",
    "b = db.read_text(os.path.join('data', 'accounts.*.json.gz'))\n",
    "b.take(1)"
   ]
  },
  {
   "cell_type": "code",
   "execution_count": 5,
   "metadata": {
    "execution": {
     "iopub.execute_input": "2022-05-11T14:39:16.680898Z",
     "iopub.status.busy": "2022-05-11T14:39:16.680438Z",
     "iopub.status.idle": "2022-05-11T14:39:16.686139Z",
     "shell.execute_reply": "2022-05-11T14:39:16.685350Z"
    }
   },
   "outputs": [
    {
     "data": {
      "text/plain": [
       "'s3://dask-data/nyc-taxi/2015/yellow_tripdata_2015-01.csv'"
      ]
     },
     "execution_count": 5,
     "metadata": {},
     "output_type": "execute_result"
    }
   ],
   "source": [
    "# Edit sources.py to configure source locations\n",
    "import sources\n",
    "sources.bag_url"
   ]
  },
  {
   "cell_type": "code",
   "execution_count": 6,
   "metadata": {
    "execution": {
     "iopub.execute_input": "2022-05-11T14:39:16.689687Z",
     "iopub.status.busy": "2022-05-11T14:39:16.689315Z",
     "iopub.status.idle": "2022-05-11T14:39:17.568993Z",
     "shell.execute_reply": "2022-05-11T14:39:17.568181Z"
    }
   },
   "outputs": [
    {
     "data": {
      "text/plain": [
       "('VendorID,tpep_pickup_datetime,tpep_dropoff_datetime,passenger_count,trip_distance,pickup_longitude,pickup_latitude,RateCodeID,store_and_fwd_flag,dropoff_longitude,dropoff_latitude,payment_type,fare_amount,extra,mta_tax,tip_amount,tolls_amount,improvement_surcharge,total_amount\\n',)"
      ]
     },
     "execution_count": 6,
     "metadata": {},
     "output_type": "execute_result"
    }
   ],
   "source": [
    "# Requires `s3fs` library\n",
    "# each partition is a remote CSV text file\n",
    "b = db.read_text(sources.bag_url,\n",
    "                 storage_options={'anon': True})\n",
    "b.take(1)"
   ]
  },
  {
   "cell_type": "markdown",
   "metadata": {},
   "source": [
    "## Manipulation"
   ]
  },
  {
   "cell_type": "markdown",
   "metadata": {},
   "source": [
    "`Bag` objects hold the standard functional API found in projects like the Python standard library, `toolz`, or `pyspark`, including `map`, `filter`, `groupby`, etc..\n",
    "\n",
    "Operations on `Bag` objects create new bags.  Call the `.compute()` method to trigger execution, as we saw for `Delayed` objects.  "
   ]
  },
  {
   "cell_type": "code",
   "execution_count": 7,
   "metadata": {
    "execution": {
     "iopub.execute_input": "2022-05-11T14:39:17.573433Z",
     "iopub.status.busy": "2022-05-11T14:39:17.572775Z",
     "iopub.status.idle": "2022-05-11T14:39:17.584739Z",
     "shell.execute_reply": "2022-05-11T14:39:17.583767Z"
    }
   },
   "outputs": [
    {
     "data": {
      "text/plain": [
       "dask.bag<lambda, npartitions=10>"
      ]
     },
     "execution_count": 7,
     "metadata": {},
     "output_type": "execute_result"
    }
   ],
   "source": [
    "def is_even(n):\n",
    "    return n % 2 == 0\n",
    "\n",
    "b = db.from_sequence([1, 2, 3, 4, 5, 6, 7, 8, 9, 10])\n",
    "c = b.filter(is_even).map(lambda x: x ** 2)\n",
    "c"
   ]
  },
  {
   "cell_type": "code",
   "execution_count": 8,
   "metadata": {
    "execution": {
     "iopub.execute_input": "2022-05-11T14:39:17.588049Z",
     "iopub.status.busy": "2022-05-11T14:39:17.587761Z",
     "iopub.status.idle": "2022-05-11T14:39:17.768934Z",
     "shell.execute_reply": "2022-05-11T14:39:17.767359Z"
    }
   },
   "outputs": [
    {
     "data": {
      "text/plain": [
       "[4, 16, 36, 64, 100]"
      ]
     },
     "execution_count": 8,
     "metadata": {},
     "output_type": "execute_result"
    }
   ],
   "source": [
    "# blocking form: wait for completion (which is very fast in this case)\n",
    "c.compute()"
   ]
  },
  {
   "cell_type": "markdown",
   "metadata": {},
   "source": [
    "### Example: Accounts JSON data"
   ]
  },
  {
   "cell_type": "markdown",
   "metadata": {},
   "source": [
    "We've created a fake dataset of gzipped JSON data in your data directory.  This is like the example used in the `DataFrame` example we will see later, except that it has bundled up all of the entries for each individual `id` into a single record.  This is similar to data that you might collect off of a document store database or a web API.\n",
    "\n",
    "Each line is a JSON encoded dictionary with the following keys\n",
    "\n",
    "*  id: Unique identifier of the customer\n",
    "*  name: Name of the customer\n",
    "*  transactions: List of `transaction-id`, `amount` pairs, one for each transaction for the customer in that file"
   ]
  },
  {
   "cell_type": "code",
   "execution_count": 9,
   "metadata": {
    "execution": {
     "iopub.execute_input": "2022-05-11T14:39:17.773723Z",
     "iopub.status.busy": "2022-05-11T14:39:17.772358Z",
     "iopub.status.idle": "2022-05-11T14:39:17.819737Z",
     "shell.execute_reply": "2022-05-11T14:39:17.818924Z"
    }
   },
   "outputs": [
    {
     "data": {
      "text/plain": [
       "('{\"id\": 0, \"name\": \"Ray\", \"transactions\": [{\"transaction-id\": 374, \"amount\": 130}, {\"transaction-id\": 5144, \"amount\": 131}, {\"transaction-id\": 5939, \"amount\": 151}, {\"transaction-id\": 9153, \"amount\": 124}, {\"transaction-id\": 9209, \"amount\": 135}]}\\n',\n",
       " '{\"id\": 1, \"name\": \"Ray\", \"transactions\": [{\"transaction-id\": 258, \"amount\": 56}, {\"transaction-id\": 1680, \"amount\": -72}, {\"transaction-id\": 2189, \"amount\": -290}, {\"transaction-id\": 2886, \"amount\": -67}, {\"transaction-id\": 3162, \"amount\": -107}, {\"transaction-id\": 3270, \"amount\": -152}, {\"transaction-id\": 3588, \"amount\": -59}, {\"transaction-id\": 4106, \"amount\": -61}, {\"transaction-id\": 4282, \"amount\": -4}, {\"transaction-id\": 4524, \"amount\": -146}, {\"transaction-id\": 4537, \"amount\": -63}, {\"transaction-id\": 4601, \"amount\": 25}, {\"transaction-id\": 4679, \"amount\": 85}, {\"transaction-id\": 4781, \"amount\": -59}, {\"transaction-id\": 4804, \"amount\": -137}, {\"transaction-id\": 5591, \"amount\": 32}, {\"transaction-id\": 5728, \"amount\": 41}, {\"transaction-id\": 6975, \"amount\": 11}, {\"transaction-id\": 7063, \"amount\": -85}, {\"transaction-id\": 7137, \"amount\": -145}, {\"transaction-id\": 7203, \"amount\": -29}, {\"transaction-id\": 7269, \"amount\": -67}, {\"transaction-id\": 8360, \"amount\": -108}, {\"transaction-id\": 8563, \"amount\": -104}, {\"transaction-id\": 8984, \"amount\": -120}, {\"transaction-id\": 9322, \"amount\": -240}, {\"transaction-id\": 9876, \"amount\": -223}, {\"transaction-id\": 9913, \"amount\": -125}]}\\n',\n",
       " '{\"id\": 2, \"name\": \"Oliver\", \"transactions\": [{\"transaction-id\": 267, \"amount\": 284}, {\"transaction-id\": 977, \"amount\": 430}, {\"transaction-id\": 1057, \"amount\": 322}, {\"transaction-id\": 1133, \"amount\": 354}, {\"transaction-id\": 1136, \"amount\": 286}, {\"transaction-id\": 1475, \"amount\": 437}, {\"transaction-id\": 1797, \"amount\": 325}, {\"transaction-id\": 1843, \"amount\": 348}, {\"transaction-id\": 2557, \"amount\": 346}, {\"transaction-id\": 2819, \"amount\": 336}, {\"transaction-id\": 3114, \"amount\": 364}, {\"transaction-id\": 3490, \"amount\": 405}, {\"transaction-id\": 4069, \"amount\": 347}, {\"transaction-id\": 4191, \"amount\": 380}, {\"transaction-id\": 4558, \"amount\": 371}, {\"transaction-id\": 4998, \"amount\": 303}, {\"transaction-id\": 5120, \"amount\": 402}, {\"transaction-id\": 5746, \"amount\": 383}, {\"transaction-id\": 7155, \"amount\": 349}, {\"transaction-id\": 7200, \"amount\": 309}, {\"transaction-id\": 8415, \"amount\": 315}, {\"transaction-id\": 8510, \"amount\": 385}, {\"transaction-id\": 8828, \"amount\": 288}, {\"transaction-id\": 9087, \"amount\": 290}, {\"transaction-id\": 9560, \"amount\": 361}, {\"transaction-id\": 9615, \"amount\": 263}, {\"transaction-id\": 9947, \"amount\": 327}]}\\n')"
      ]
     },
     "execution_count": 9,
     "metadata": {},
     "output_type": "execute_result"
    }
   ],
   "source": [
    "filename = os.path.join('data', 'accounts.*.json.gz')\n",
    "lines = db.read_text(filename)\n",
    "lines.take(3)"
   ]
  },
  {
   "cell_type": "markdown",
   "metadata": {},
   "source": [
    "Our data comes out of the file as lines of text. Notice that file decompression happened automatically. We can make this data look more reasonable by mapping the `json.loads` function onto our bag."
   ]
  },
  {
   "cell_type": "code",
   "execution_count": 10,
   "metadata": {
    "execution": {
     "iopub.execute_input": "2022-05-11T14:39:17.823179Z",
     "iopub.status.busy": "2022-05-11T14:39:17.822761Z",
     "iopub.status.idle": "2022-05-11T14:39:17.858137Z",
     "shell.execute_reply": "2022-05-11T14:39:17.857303Z"
    }
   },
   "outputs": [
    {
     "data": {
      "text/plain": [
       "({'id': 0,\n",
       "  'name': 'Ray',\n",
       "  'transactions': [{'transaction-id': 374, 'amount': 130},\n",
       "   {'transaction-id': 5144, 'amount': 131},\n",
       "   {'transaction-id': 5939, 'amount': 151},\n",
       "   {'transaction-id': 9153, 'amount': 124},\n",
       "   {'transaction-id': 9209, 'amount': 135}]},\n",
       " {'id': 1,\n",
       "  'name': 'Ray',\n",
       "  'transactions': [{'transaction-id': 258, 'amount': 56},\n",
       "   {'transaction-id': 1680, 'amount': -72},\n",
       "   {'transaction-id': 2189, 'amount': -290},\n",
       "   {'transaction-id': 2886, 'amount': -67},\n",
       "   {'transaction-id': 3162, 'amount': -107},\n",
       "   {'transaction-id': 3270, 'amount': -152},\n",
       "   {'transaction-id': 3588, 'amount': -59},\n",
       "   {'transaction-id': 4106, 'amount': -61},\n",
       "   {'transaction-id': 4282, 'amount': -4},\n",
       "   {'transaction-id': 4524, 'amount': -146},\n",
       "   {'transaction-id': 4537, 'amount': -63},\n",
       "   {'transaction-id': 4601, 'amount': 25},\n",
       "   {'transaction-id': 4679, 'amount': 85},\n",
       "   {'transaction-id': 4781, 'amount': -59},\n",
       "   {'transaction-id': 4804, 'amount': -137},\n",
       "   {'transaction-id': 5591, 'amount': 32},\n",
       "   {'transaction-id': 5728, 'amount': 41},\n",
       "   {'transaction-id': 6975, 'amount': 11},\n",
       "   {'transaction-id': 7063, 'amount': -85},\n",
       "   {'transaction-id': 7137, 'amount': -145},\n",
       "   {'transaction-id': 7203, 'amount': -29},\n",
       "   {'transaction-id': 7269, 'amount': -67},\n",
       "   {'transaction-id': 8360, 'amount': -108},\n",
       "   {'transaction-id': 8563, 'amount': -104},\n",
       "   {'transaction-id': 8984, 'amount': -120},\n",
       "   {'transaction-id': 9322, 'amount': -240},\n",
       "   {'transaction-id': 9876, 'amount': -223},\n",
       "   {'transaction-id': 9913, 'amount': -125}]},\n",
       " {'id': 2,\n",
       "  'name': 'Oliver',\n",
       "  'transactions': [{'transaction-id': 267, 'amount': 284},\n",
       "   {'transaction-id': 977, 'amount': 430},\n",
       "   {'transaction-id': 1057, 'amount': 322},\n",
       "   {'transaction-id': 1133, 'amount': 354},\n",
       "   {'transaction-id': 1136, 'amount': 286},\n",
       "   {'transaction-id': 1475, 'amount': 437},\n",
       "   {'transaction-id': 1797, 'amount': 325},\n",
       "   {'transaction-id': 1843, 'amount': 348},\n",
       "   {'transaction-id': 2557, 'amount': 346},\n",
       "   {'transaction-id': 2819, 'amount': 336},\n",
       "   {'transaction-id': 3114, 'amount': 364},\n",
       "   {'transaction-id': 3490, 'amount': 405},\n",
       "   {'transaction-id': 4069, 'amount': 347},\n",
       "   {'transaction-id': 4191, 'amount': 380},\n",
       "   {'transaction-id': 4558, 'amount': 371},\n",
       "   {'transaction-id': 4998, 'amount': 303},\n",
       "   {'transaction-id': 5120, 'amount': 402},\n",
       "   {'transaction-id': 5746, 'amount': 383},\n",
       "   {'transaction-id': 7155, 'amount': 349},\n",
       "   {'transaction-id': 7200, 'amount': 309},\n",
       "   {'transaction-id': 8415, 'amount': 315},\n",
       "   {'transaction-id': 8510, 'amount': 385},\n",
       "   {'transaction-id': 8828, 'amount': 288},\n",
       "   {'transaction-id': 9087, 'amount': 290},\n",
       "   {'transaction-id': 9560, 'amount': 361},\n",
       "   {'transaction-id': 9615, 'amount': 263},\n",
       "   {'transaction-id': 9947, 'amount': 327}]})"
      ]
     },
     "execution_count": 10,
     "metadata": {},
     "output_type": "execute_result"
    }
   ],
   "source": [
    "import json\n",
    "js = lines.map(json.loads)\n",
    "# take: inspect first few elements\n",
    "js.take(3)"
   ]
  },
  {
   "cell_type": "markdown",
   "metadata": {},
   "source": [
    "### Basic Queries"
   ]
  },
  {
   "cell_type": "markdown",
   "metadata": {},
   "source": [
    "Once we parse our JSON data into proper Python objects (`dict`s, `list`s, etc.) we can perform more interesting queries by creating small Python functions to run on our data."
   ]
  },
  {
   "cell_type": "code",
   "execution_count": 11,
   "metadata": {
    "execution": {
     "iopub.execute_input": "2022-05-11T14:39:17.861831Z",
     "iopub.status.busy": "2022-05-11T14:39:17.861515Z",
     "iopub.status.idle": "2022-05-11T14:39:18.023440Z",
     "shell.execute_reply": "2022-05-11T14:39:18.022799Z"
    }
   },
   "outputs": [
    {
     "data": {
      "text/plain": [
       "({'id': 17,\n",
       "  'name': 'Alice',\n",
       "  'transactions': [{'transaction-id': 150, 'amount': 8},\n",
       "   {'transaction-id': 1091, 'amount': -4},\n",
       "   {'transaction-id': 1441, 'amount': -1},\n",
       "   {'transaction-id': 3167, 'amount': -2},\n",
       "   {'transaction-id': 3517, 'amount': 9},\n",
       "   {'transaction-id': 6115, 'amount': 9},\n",
       "   {'transaction-id': 6151, 'amount': 2},\n",
       "   {'transaction-id': 7101, 'amount': -3},\n",
       "   {'transaction-id': 8080, 'amount': 5},\n",
       "   {'transaction-id': 8253, 'amount': 0},\n",
       "   {'transaction-id': 8838, 'amount': 2},\n",
       "   {'transaction-id': 9361, 'amount': 1}]},\n",
       " {'id': 25,\n",
       "  'name': 'Alice',\n",
       "  'transactions': [{'transaction-id': 136, 'amount': 4126},\n",
       "   {'transaction-id': 320, 'amount': 4062},\n",
       "   {'transaction-id': 394, 'amount': 4617},\n",
       "   {'transaction-id': 813, 'amount': 3581},\n",
       "   {'transaction-id': 1300, 'amount': 4024},\n",
       "   {'transaction-id': 1344, 'amount': 4151},\n",
       "   {'transaction-id': 1545, 'amount': 3822},\n",
       "   {'transaction-id': 1685, 'amount': 3657},\n",
       "   {'transaction-id': 2166, 'amount': 3670},\n",
       "   {'transaction-id': 2212, 'amount': 3971},\n",
       "   {'transaction-id': 2398, 'amount': 4004},\n",
       "   {'transaction-id': 2472, 'amount': 3500},\n",
       "   {'transaction-id': 2496, 'amount': 3834},\n",
       "   {'transaction-id': 2840, 'amount': 3623},\n",
       "   {'transaction-id': 2945, 'amount': 4064},\n",
       "   {'transaction-id': 3028, 'amount': 4211},\n",
       "   {'transaction-id': 3305, 'amount': 4365},\n",
       "   {'transaction-id': 3548, 'amount': 4042},\n",
       "   {'transaction-id': 3626, 'amount': 4315},\n",
       "   {'transaction-id': 3806, 'amount': 4308},\n",
       "   {'transaction-id': 3883, 'amount': 3946},\n",
       "   {'transaction-id': 3991, 'amount': 3504},\n",
       "   {'transaction-id': 4049, 'amount': 3575},\n",
       "   {'transaction-id': 4078, 'amount': 3706},\n",
       "   {'transaction-id': 4187, 'amount': 4324},\n",
       "   {'transaction-id': 4360, 'amount': 4047},\n",
       "   {'transaction-id': 4450, 'amount': 4334},\n",
       "   {'transaction-id': 4500, 'amount': 4129},\n",
       "   {'transaction-id': 4522, 'amount': 4017},\n",
       "   {'transaction-id': 4531, 'amount': 3750},\n",
       "   {'transaction-id': 4825, 'amount': 4448},\n",
       "   {'transaction-id': 4844, 'amount': 4493},\n",
       "   {'transaction-id': 4857, 'amount': 3796},\n",
       "   {'transaction-id': 5194, 'amount': 4232},\n",
       "   {'transaction-id': 5287, 'amount': 3793},\n",
       "   {'transaction-id': 5736, 'amount': 3682},\n",
       "   {'transaction-id': 5764, 'amount': 4040},\n",
       "   {'transaction-id': 5790, 'amount': 4128},\n",
       "   {'transaction-id': 5860, 'amount': 4507},\n",
       "   {'transaction-id': 6232, 'amount': 4735},\n",
       "   {'transaction-id': 6498, 'amount': 3995},\n",
       "   {'transaction-id': 6858, 'amount': 4148},\n",
       "   {'transaction-id': 6962, 'amount': 3834},\n",
       "   {'transaction-id': 7250, 'amount': 4041},\n",
       "   {'transaction-id': 7275, 'amount': 3622},\n",
       "   {'transaction-id': 7405, 'amount': 3944},\n",
       "   {'transaction-id': 7480, 'amount': 4081},\n",
       "   {'transaction-id': 7540, 'amount': 3999},\n",
       "   {'transaction-id': 7759, 'amount': 4173},\n",
       "   {'transaction-id': 7809, 'amount': 4344},\n",
       "   {'transaction-id': 7854, 'amount': 3788},\n",
       "   {'transaction-id': 8126, 'amount': 4131},\n",
       "   {'transaction-id': 8208, 'amount': 3750},\n",
       "   {'transaction-id': 8757, 'amount': 3654},\n",
       "   {'transaction-id': 9166, 'amount': 3314},\n",
       "   {'transaction-id': 9618, 'amount': 3525},\n",
       "   {'transaction-id': 9697, 'amount': 3891},\n",
       "   {'transaction-id': 9792, 'amount': 4069},\n",
       "   {'transaction-id': 9814, 'amount': 4182}]},\n",
       " {'id': 75,\n",
       "  'name': 'Alice',\n",
       "  'transactions': [{'transaction-id': 88, 'amount': 2419},\n",
       "   {'transaction-id': 173, 'amount': 1708},\n",
       "   {'transaction-id': 259, 'amount': 2093},\n",
       "   {'transaction-id': 1040, 'amount': 2515},\n",
       "   {'transaction-id': 1499, 'amount': 2437},\n",
       "   {'transaction-id': 1725, 'amount': 2069},\n",
       "   {'transaction-id': 1941, 'amount': 1874},\n",
       "   {'transaction-id': 2215, 'amount': 2177},\n",
       "   {'transaction-id': 2401, 'amount': 1999},\n",
       "   {'transaction-id': 2490, 'amount': 1821},\n",
       "   {'transaction-id': 2553, 'amount': 1898},\n",
       "   {'transaction-id': 3091, 'amount': 2054},\n",
       "   {'transaction-id': 4167, 'amount': 2152},\n",
       "   {'transaction-id': 4225, 'amount': 2320},\n",
       "   {'transaction-id': 4302, 'amount': 1973},\n",
       "   {'transaction-id': 4388, 'amount': 2256},\n",
       "   {'transaction-id': 4538, 'amount': 2126},\n",
       "   {'transaction-id': 4592, 'amount': 1906},\n",
       "   {'transaction-id': 4842, 'amount': 2009},\n",
       "   {'transaction-id': 4992, 'amount': 2438},\n",
       "   {'transaction-id': 5077, 'amount': 2073},\n",
       "   {'transaction-id': 5117, 'amount': 1986},\n",
       "   {'transaction-id': 5199, 'amount': 2396},\n",
       "   {'transaction-id': 5203, 'amount': 2137},\n",
       "   {'transaction-id': 5387, 'amount': 2153},\n",
       "   {'transaction-id': 5505, 'amount': 2202},\n",
       "   {'transaction-id': 5548, 'amount': 2300},\n",
       "   {'transaction-id': 5575, 'amount': 2019},\n",
       "   {'transaction-id': 5680, 'amount': 1857},\n",
       "   {'transaction-id': 5849, 'amount': 1939},\n",
       "   {'transaction-id': 6083, 'amount': 2382},\n",
       "   {'transaction-id': 6113, 'amount': 1977},\n",
       "   {'transaction-id': 6116, 'amount': 2183},\n",
       "   {'transaction-id': 6141, 'amount': 1744},\n",
       "   {'transaction-id': 6461, 'amount': 2261},\n",
       "   {'transaction-id': 6609, 'amount': 1789},\n",
       "   {'transaction-id': 6982, 'amount': 2143},\n",
       "   {'transaction-id': 7391, 'amount': 2174},\n",
       "   {'transaction-id': 7731, 'amount': 2012},\n",
       "   {'transaction-id': 8259, 'amount': 2059},\n",
       "   {'transaction-id': 8607, 'amount': 2129},\n",
       "   {'transaction-id': 8672, 'amount': 1998},\n",
       "   {'transaction-id': 9044, 'amount': 2022},\n",
       "   {'transaction-id': 9071, 'amount': 1574},\n",
       "   {'transaction-id': 9074, 'amount': 1939},\n",
       "   {'transaction-id': 9089, 'amount': 2162},\n",
       "   {'transaction-id': 9406, 'amount': 2124},\n",
       "   {'transaction-id': 9463, 'amount': 2023},\n",
       "   {'transaction-id': 9745, 'amount': 2173},\n",
       "   {'transaction-id': 9808, 'amount': 2093},\n",
       "   {'transaction-id': 9988, 'amount': 2183}]},\n",
       " {'id': 109,\n",
       "  'name': 'Alice',\n",
       "  'transactions': [{'transaction-id': 179, 'amount': -193},\n",
       "   {'transaction-id': 274, 'amount': -225},\n",
       "   {'transaction-id': 372, 'amount': -244},\n",
       "   {'transaction-id': 577, 'amount': -181},\n",
       "   {'transaction-id': 805, 'amount': -288},\n",
       "   {'transaction-id': 979, 'amount': -173},\n",
       "   {'transaction-id': 1348, 'amount': -57},\n",
       "   {'transaction-id': 1490, 'amount': -218},\n",
       "   {'transaction-id': 2159, 'amount': 1},\n",
       "   {'transaction-id': 2749, 'amount': -200},\n",
       "   {'transaction-id': 2954, 'amount': -160},\n",
       "   {'transaction-id': 3020, 'amount': -107},\n",
       "   {'transaction-id': 3122, 'amount': -165},\n",
       "   {'transaction-id': 3136, 'amount': -361},\n",
       "   {'transaction-id': 3173, 'amount': -148},\n",
       "   {'transaction-id': 3263, 'amount': -97},\n",
       "   {'transaction-id': 3323, 'amount': -190},\n",
       "   {'transaction-id': 3519, 'amount': -205},\n",
       "   {'transaction-id': 3540, 'amount': -292},\n",
       "   {'transaction-id': 3790, 'amount': -194},\n",
       "   {'transaction-id': 3795, 'amount': -149},\n",
       "   {'transaction-id': 3987, 'amount': -109},\n",
       "   {'transaction-id': 4403, 'amount': -140},\n",
       "   {'transaction-id': 4455, 'amount': -272},\n",
       "   {'transaction-id': 4758, 'amount': -68},\n",
       "   {'transaction-id': 5061, 'amount': -190},\n",
       "   {'transaction-id': 5076, 'amount': -99},\n",
       "   {'transaction-id': 5183, 'amount': -203},\n",
       "   {'transaction-id': 5517, 'amount': -252},\n",
       "   {'transaction-id': 5574, 'amount': -143},\n",
       "   {'transaction-id': 5632, 'amount': -105},\n",
       "   {'transaction-id': 5667, 'amount': -189},\n",
       "   {'transaction-id': 5692, 'amount': -89},\n",
       "   {'transaction-id': 5703, 'amount': -168},\n",
       "   {'transaction-id': 5896, 'amount': -243},\n",
       "   {'transaction-id': 6123, 'amount': -116},\n",
       "   {'transaction-id': 6223, 'amount': -323},\n",
       "   {'transaction-id': 6335, 'amount': -205},\n",
       "   {'transaction-id': 6510, 'amount': -191},\n",
       "   {'transaction-id': 6665, 'amount': -123},\n",
       "   {'transaction-id': 6683, 'amount': -85},\n",
       "   {'transaction-id': 7081, 'amount': -140},\n",
       "   {'transaction-id': 7098, 'amount': -194},\n",
       "   {'transaction-id': 7112, 'amount': -305},\n",
       "   {'transaction-id': 7209, 'amount': -55},\n",
       "   {'transaction-id': 7246, 'amount': -250},\n",
       "   {'transaction-id': 7385, 'amount': -118},\n",
       "   {'transaction-id': 7437, 'amount': -121},\n",
       "   {'transaction-id': 7463, 'amount': -95},\n",
       "   {'transaction-id': 7681, 'amount': -117},\n",
       "   {'transaction-id': 7726, 'amount': -21},\n",
       "   {'transaction-id': 7760, 'amount': -131},\n",
       "   {'transaction-id': 7776, 'amount': -132},\n",
       "   {'transaction-id': 8097, 'amount': -105},\n",
       "   {'transaction-id': 8780, 'amount': 49},\n",
       "   {'transaction-id': 9196, 'amount': -170},\n",
       "   {'transaction-id': 9416, 'amount': 16},\n",
       "   {'transaction-id': 9442, 'amount': -290},\n",
       "   {'transaction-id': 9564, 'amount': -229},\n",
       "   {'transaction-id': 9701, 'amount': -238}]},\n",
       " {'id': 120,\n",
       "  'name': 'Alice',\n",
       "  'transactions': [{'transaction-id': 60, 'amount': 1227},\n",
       "   {'transaction-id': 201, 'amount': 1326},\n",
       "   {'transaction-id': 299, 'amount': 1445},\n",
       "   {'transaction-id': 692, 'amount': 804},\n",
       "   {'transaction-id': 731, 'amount': 1290},\n",
       "   {'transaction-id': 1037, 'amount': 1365},\n",
       "   {'transaction-id': 1043, 'amount': 1005},\n",
       "   {'transaction-id': 1408, 'amount': 1044},\n",
       "   {'transaction-id': 1535, 'amount': 1291},\n",
       "   {'transaction-id': 1686, 'amount': 940},\n",
       "   {'transaction-id': 1697, 'amount': 1085},\n",
       "   {'transaction-id': 1973, 'amount': 975},\n",
       "   {'transaction-id': 2020, 'amount': 1094},\n",
       "   {'transaction-id': 2094, 'amount': 1210},\n",
       "   {'transaction-id': 2172, 'amount': 1087},\n",
       "   {'transaction-id': 2334, 'amount': 1302},\n",
       "   {'transaction-id': 2365, 'amount': 1223},\n",
       "   {'transaction-id': 2761, 'amount': 1138},\n",
       "   {'transaction-id': 2798, 'amount': 1182},\n",
       "   {'transaction-id': 2841, 'amount': 1217},\n",
       "   {'transaction-id': 2970, 'amount': 1131},\n",
       "   {'transaction-id': 3058, 'amount': 896},\n",
       "   {'transaction-id': 3095, 'amount': 1301},\n",
       "   {'transaction-id': 3231, 'amount': 987},\n",
       "   {'transaction-id': 3269, 'amount': 967},\n",
       "   {'transaction-id': 3565, 'amount': 1170},\n",
       "   {'transaction-id': 3567, 'amount': 1133},\n",
       "   {'transaction-id': 3584, 'amount': 1207},\n",
       "   {'transaction-id': 3625, 'amount': 1078},\n",
       "   {'transaction-id': 3799, 'amount': 1297},\n",
       "   {'transaction-id': 3871, 'amount': 1372},\n",
       "   {'transaction-id': 4516, 'amount': 1207},\n",
       "   {'transaction-id': 4521, 'amount': 915},\n",
       "   {'transaction-id': 4630, 'amount': 1036},\n",
       "   {'transaction-id': 4946, 'amount': 1070},\n",
       "   {'transaction-id': 4964, 'amount': 1233},\n",
       "   {'transaction-id': 5406, 'amount': 656},\n",
       "   {'transaction-id': 5445, 'amount': 1070},\n",
       "   {'transaction-id': 5506, 'amount': 867},\n",
       "   {'transaction-id': 5538, 'amount': 1200},\n",
       "   {'transaction-id': 5547, 'amount': 1182},\n",
       "   {'transaction-id': 5642, 'amount': 972},\n",
       "   {'transaction-id': 5850, 'amount': 985},\n",
       "   {'transaction-id': 5901, 'amount': 1072},\n",
       "   {'transaction-id': 5932, 'amount': 1052},\n",
       "   {'transaction-id': 6041, 'amount': 1012},\n",
       "   {'transaction-id': 6086, 'amount': 1043},\n",
       "   {'transaction-id': 6336, 'amount': 1045},\n",
       "   {'transaction-id': 6772, 'amount': 1030},\n",
       "   {'transaction-id': 6882, 'amount': 1035},\n",
       "   {'transaction-id': 7073, 'amount': 967},\n",
       "   {'transaction-id': 7307, 'amount': 1235},\n",
       "   {'transaction-id': 7363, 'amount': 1037},\n",
       "   {'transaction-id': 7392, 'amount': 1035},\n",
       "   {'transaction-id': 7442, 'amount': 1089},\n",
       "   {'transaction-id': 7481, 'amount': 1113},\n",
       "   {'transaction-id': 7563, 'amount': 1124},\n",
       "   {'transaction-id': 7711, 'amount': 1103},\n",
       "   {'transaction-id': 8042, 'amount': 1140},\n",
       "   {'transaction-id': 8190, 'amount': 1174},\n",
       "   {'transaction-id': 8274, 'amount': 1220},\n",
       "   {'transaction-id': 8390, 'amount': 1081},\n",
       "   {'transaction-id': 8478, 'amount': 1202},\n",
       "   {'transaction-id': 8595, 'amount': 1102},\n",
       "   {'transaction-id': 8668, 'amount': 1023},\n",
       "   {'transaction-id': 8678, 'amount': 862},\n",
       "   {'transaction-id': 8690, 'amount': 835},\n",
       "   {'transaction-id': 8806, 'amount': 917},\n",
       "   {'transaction-id': 9005, 'amount': 1323},\n",
       "   {'transaction-id': 9268, 'amount': 1203},\n",
       "   {'transaction-id': 9351, 'amount': 765},\n",
       "   {'transaction-id': 9556, 'amount': 1159},\n",
       "   {'transaction-id': 9557, 'amount': 1084},\n",
       "   {'transaction-id': 9689, 'amount': 941},\n",
       "   {'transaction-id': 9773, 'amount': 1237},\n",
       "   {'transaction-id': 9783, 'amount': 764}]})"
      ]
     },
     "execution_count": 11,
     "metadata": {},
     "output_type": "execute_result"
    }
   ],
   "source": [
    "# filter: keep only some elements of the sequence\n",
    "js.filter(lambda record: record['name'] == 'Alice').take(5)"
   ]
  },
  {
   "cell_type": "code",
   "execution_count": 12,
   "metadata": {
    "execution": {
     "iopub.execute_input": "2022-05-11T14:39:18.026994Z",
     "iopub.status.busy": "2022-05-11T14:39:18.026379Z",
     "iopub.status.idle": "2022-05-11T14:39:18.064276Z",
     "shell.execute_reply": "2022-05-11T14:39:18.063156Z"
    }
   },
   "outputs": [
    {
     "data": {
      "text/plain": [
       "({'name': 'Alice', 'count': 12},\n",
       " {'name': 'Alice', 'count': 59},\n",
       " {'name': 'Alice', 'count': 51},\n",
       " {'name': 'Alice', 'count': 60},\n",
       " {'name': 'Alice', 'count': 76})"
      ]
     },
     "execution_count": 12,
     "metadata": {},
     "output_type": "execute_result"
    }
   ],
   "source": [
    "def count_transactions(d):\n",
    "    return {'name': d['name'], 'count': len(d['transactions'])}\n",
    "\n",
    "# map: apply a function to each element\n",
    "(js.filter(lambda record: record['name'] == 'Alice')\n",
    "   .map(count_transactions)\n",
    "   .take(5))"
   ]
  },
  {
   "cell_type": "code",
   "execution_count": 13,
   "metadata": {
    "execution": {
     "iopub.execute_input": "2022-05-11T14:39:18.068060Z",
     "iopub.status.busy": "2022-05-11T14:39:18.067544Z",
     "iopub.status.idle": "2022-05-11T14:39:18.103300Z",
     "shell.execute_reply": "2022-05-11T14:39:18.102224Z"
    }
   },
   "outputs": [
    {
     "data": {
      "text/plain": [
       "(12, 59, 51, 60, 76)"
      ]
     },
     "execution_count": 13,
     "metadata": {},
     "output_type": "execute_result"
    }
   ],
   "source": [
    "# pluck: select a field, as from a dictionary, element[field]\n",
    "(js.filter(lambda record: record['name'] == 'Alice')\n",
    "   .map(count_transactions)\n",
    "   .pluck('count')\n",
    "   .take(5))"
   ]
  },
  {
   "cell_type": "code",
   "execution_count": 14,
   "metadata": {
    "execution": {
     "iopub.execute_input": "2022-05-11T14:39:18.107142Z",
     "iopub.status.busy": "2022-05-11T14:39:18.106735Z",
     "iopub.status.idle": "2022-05-11T14:39:18.622711Z",
     "shell.execute_reply": "2022-05-11T14:39:18.621914Z"
    }
   },
   "outputs": [
    {
     "data": {
      "text/plain": [
       "45.32018561484919"
      ]
     },
     "execution_count": 14,
     "metadata": {},
     "output_type": "execute_result"
    }
   ],
   "source": [
    "# Average number of transactions for all of the Alice entries\n",
    "(js.filter(lambda record: record['name'] == 'Alice')\n",
    "   .map(count_transactions)\n",
    "   .pluck('count')\n",
    "   .mean()\n",
    "   .compute())"
   ]
  },
  {
   "cell_type": "markdown",
   "metadata": {},
   "source": [
    "### Use `flatten` to de-nest"
   ]
  },
  {
   "cell_type": "markdown",
   "metadata": {},
   "source": [
    "In the example below we see the use of `.flatten()` to flatten results.  We compute the average amount for all transactions for all Alices."
   ]
  },
  {
   "cell_type": "code",
   "execution_count": 15,
   "metadata": {
    "execution": {
     "iopub.execute_input": "2022-05-11T14:39:18.627074Z",
     "iopub.status.busy": "2022-05-11T14:39:18.626375Z",
     "iopub.status.idle": "2022-05-11T14:39:18.666631Z",
     "shell.execute_reply": "2022-05-11T14:39:18.665705Z"
    }
   },
   "outputs": [
    {
     "data": {
      "text/plain": [
       "([{'transaction-id': 150, 'amount': 8},\n",
       "  {'transaction-id': 1091, 'amount': -4},\n",
       "  {'transaction-id': 1441, 'amount': -1},\n",
       "  {'transaction-id': 3167, 'amount': -2},\n",
       "  {'transaction-id': 3517, 'amount': 9},\n",
       "  {'transaction-id': 6115, 'amount': 9},\n",
       "  {'transaction-id': 6151, 'amount': 2},\n",
       "  {'transaction-id': 7101, 'amount': -3},\n",
       "  {'transaction-id': 8080, 'amount': 5},\n",
       "  {'transaction-id': 8253, 'amount': 0},\n",
       "  {'transaction-id': 8838, 'amount': 2},\n",
       "  {'transaction-id': 9361, 'amount': 1}],\n",
       " [{'transaction-id': 136, 'amount': 4126},\n",
       "  {'transaction-id': 320, 'amount': 4062},\n",
       "  {'transaction-id': 394, 'amount': 4617},\n",
       "  {'transaction-id': 813, 'amount': 3581},\n",
       "  {'transaction-id': 1300, 'amount': 4024},\n",
       "  {'transaction-id': 1344, 'amount': 4151},\n",
       "  {'transaction-id': 1545, 'amount': 3822},\n",
       "  {'transaction-id': 1685, 'amount': 3657},\n",
       "  {'transaction-id': 2166, 'amount': 3670},\n",
       "  {'transaction-id': 2212, 'amount': 3971},\n",
       "  {'transaction-id': 2398, 'amount': 4004},\n",
       "  {'transaction-id': 2472, 'amount': 3500},\n",
       "  {'transaction-id': 2496, 'amount': 3834},\n",
       "  {'transaction-id': 2840, 'amount': 3623},\n",
       "  {'transaction-id': 2945, 'amount': 4064},\n",
       "  {'transaction-id': 3028, 'amount': 4211},\n",
       "  {'transaction-id': 3305, 'amount': 4365},\n",
       "  {'transaction-id': 3548, 'amount': 4042},\n",
       "  {'transaction-id': 3626, 'amount': 4315},\n",
       "  {'transaction-id': 3806, 'amount': 4308},\n",
       "  {'transaction-id': 3883, 'amount': 3946},\n",
       "  {'transaction-id': 3991, 'amount': 3504},\n",
       "  {'transaction-id': 4049, 'amount': 3575},\n",
       "  {'transaction-id': 4078, 'amount': 3706},\n",
       "  {'transaction-id': 4187, 'amount': 4324},\n",
       "  {'transaction-id': 4360, 'amount': 4047},\n",
       "  {'transaction-id': 4450, 'amount': 4334},\n",
       "  {'transaction-id': 4500, 'amount': 4129},\n",
       "  {'transaction-id': 4522, 'amount': 4017},\n",
       "  {'transaction-id': 4531, 'amount': 3750},\n",
       "  {'transaction-id': 4825, 'amount': 4448},\n",
       "  {'transaction-id': 4844, 'amount': 4493},\n",
       "  {'transaction-id': 4857, 'amount': 3796},\n",
       "  {'transaction-id': 5194, 'amount': 4232},\n",
       "  {'transaction-id': 5287, 'amount': 3793},\n",
       "  {'transaction-id': 5736, 'amount': 3682},\n",
       "  {'transaction-id': 5764, 'amount': 4040},\n",
       "  {'transaction-id': 5790, 'amount': 4128},\n",
       "  {'transaction-id': 5860, 'amount': 4507},\n",
       "  {'transaction-id': 6232, 'amount': 4735},\n",
       "  {'transaction-id': 6498, 'amount': 3995},\n",
       "  {'transaction-id': 6858, 'amount': 4148},\n",
       "  {'transaction-id': 6962, 'amount': 3834},\n",
       "  {'transaction-id': 7250, 'amount': 4041},\n",
       "  {'transaction-id': 7275, 'amount': 3622},\n",
       "  {'transaction-id': 7405, 'amount': 3944},\n",
       "  {'transaction-id': 7480, 'amount': 4081},\n",
       "  {'transaction-id': 7540, 'amount': 3999},\n",
       "  {'transaction-id': 7759, 'amount': 4173},\n",
       "  {'transaction-id': 7809, 'amount': 4344},\n",
       "  {'transaction-id': 7854, 'amount': 3788},\n",
       "  {'transaction-id': 8126, 'amount': 4131},\n",
       "  {'transaction-id': 8208, 'amount': 3750},\n",
       "  {'transaction-id': 8757, 'amount': 3654},\n",
       "  {'transaction-id': 9166, 'amount': 3314},\n",
       "  {'transaction-id': 9618, 'amount': 3525},\n",
       "  {'transaction-id': 9697, 'amount': 3891},\n",
       "  {'transaction-id': 9792, 'amount': 4069},\n",
       "  {'transaction-id': 9814, 'amount': 4182}],\n",
       " [{'transaction-id': 88, 'amount': 2419},\n",
       "  {'transaction-id': 173, 'amount': 1708},\n",
       "  {'transaction-id': 259, 'amount': 2093},\n",
       "  {'transaction-id': 1040, 'amount': 2515},\n",
       "  {'transaction-id': 1499, 'amount': 2437},\n",
       "  {'transaction-id': 1725, 'amount': 2069},\n",
       "  {'transaction-id': 1941, 'amount': 1874},\n",
       "  {'transaction-id': 2215, 'amount': 2177},\n",
       "  {'transaction-id': 2401, 'amount': 1999},\n",
       "  {'transaction-id': 2490, 'amount': 1821},\n",
       "  {'transaction-id': 2553, 'amount': 1898},\n",
       "  {'transaction-id': 3091, 'amount': 2054},\n",
       "  {'transaction-id': 4167, 'amount': 2152},\n",
       "  {'transaction-id': 4225, 'amount': 2320},\n",
       "  {'transaction-id': 4302, 'amount': 1973},\n",
       "  {'transaction-id': 4388, 'amount': 2256},\n",
       "  {'transaction-id': 4538, 'amount': 2126},\n",
       "  {'transaction-id': 4592, 'amount': 1906},\n",
       "  {'transaction-id': 4842, 'amount': 2009},\n",
       "  {'transaction-id': 4992, 'amount': 2438},\n",
       "  {'transaction-id': 5077, 'amount': 2073},\n",
       "  {'transaction-id': 5117, 'amount': 1986},\n",
       "  {'transaction-id': 5199, 'amount': 2396},\n",
       "  {'transaction-id': 5203, 'amount': 2137},\n",
       "  {'transaction-id': 5387, 'amount': 2153},\n",
       "  {'transaction-id': 5505, 'amount': 2202},\n",
       "  {'transaction-id': 5548, 'amount': 2300},\n",
       "  {'transaction-id': 5575, 'amount': 2019},\n",
       "  {'transaction-id': 5680, 'amount': 1857},\n",
       "  {'transaction-id': 5849, 'amount': 1939},\n",
       "  {'transaction-id': 6083, 'amount': 2382},\n",
       "  {'transaction-id': 6113, 'amount': 1977},\n",
       "  {'transaction-id': 6116, 'amount': 2183},\n",
       "  {'transaction-id': 6141, 'amount': 1744},\n",
       "  {'transaction-id': 6461, 'amount': 2261},\n",
       "  {'transaction-id': 6609, 'amount': 1789},\n",
       "  {'transaction-id': 6982, 'amount': 2143},\n",
       "  {'transaction-id': 7391, 'amount': 2174},\n",
       "  {'transaction-id': 7731, 'amount': 2012},\n",
       "  {'transaction-id': 8259, 'amount': 2059},\n",
       "  {'transaction-id': 8607, 'amount': 2129},\n",
       "  {'transaction-id': 8672, 'amount': 1998},\n",
       "  {'transaction-id': 9044, 'amount': 2022},\n",
       "  {'transaction-id': 9071, 'amount': 1574},\n",
       "  {'transaction-id': 9074, 'amount': 1939},\n",
       "  {'transaction-id': 9089, 'amount': 2162},\n",
       "  {'transaction-id': 9406, 'amount': 2124},\n",
       "  {'transaction-id': 9463, 'amount': 2023},\n",
       "  {'transaction-id': 9745, 'amount': 2173},\n",
       "  {'transaction-id': 9808, 'amount': 2093},\n",
       "  {'transaction-id': 9988, 'amount': 2183}])"
      ]
     },
     "execution_count": 15,
     "metadata": {},
     "output_type": "execute_result"
    }
   ],
   "source": [
    "(js.filter(lambda record: record['name'] == 'Alice')\n",
    "   .pluck('transactions')\n",
    "   .take(3))"
   ]
  },
  {
   "cell_type": "code",
   "execution_count": 16,
   "metadata": {
    "execution": {
     "iopub.execute_input": "2022-05-11T14:39:18.671141Z",
     "iopub.status.busy": "2022-05-11T14:39:18.669817Z",
     "iopub.status.idle": "2022-05-11T14:39:18.699334Z",
     "shell.execute_reply": "2022-05-11T14:39:18.698563Z"
    }
   },
   "outputs": [
    {
     "data": {
      "text/plain": [
       "({'transaction-id': 150, 'amount': 8},\n",
       " {'transaction-id': 1091, 'amount': -4},\n",
       " {'transaction-id': 1441, 'amount': -1})"
      ]
     },
     "execution_count": 16,
     "metadata": {},
     "output_type": "execute_result"
    }
   ],
   "source": [
    "(js.filter(lambda record: record['name'] == 'Alice')\n",
    "   .pluck('transactions')\n",
    "   .flatten()\n",
    "   .take(3))"
   ]
  },
  {
   "cell_type": "code",
   "execution_count": 17,
   "metadata": {
    "execution": {
     "iopub.execute_input": "2022-05-11T14:39:18.704229Z",
     "iopub.status.busy": "2022-05-11T14:39:18.703709Z",
     "iopub.status.idle": "2022-05-11T14:39:18.732320Z",
     "shell.execute_reply": "2022-05-11T14:39:18.731424Z"
    }
   },
   "outputs": [
    {
     "data": {
      "text/plain": [
       "(8, -4, -1)"
      ]
     },
     "execution_count": 17,
     "metadata": {},
     "output_type": "execute_result"
    }
   ],
   "source": [
    "(js.filter(lambda record: record['name'] == 'Alice')\n",
    "   .pluck('transactions')\n",
    "   .flatten()\n",
    "   .pluck('amount')\n",
    "   .take(3))"
   ]
  },
  {
   "cell_type": "code",
   "execution_count": 18,
   "metadata": {
    "execution": {
     "iopub.execute_input": "2022-05-11T14:39:18.735840Z",
     "iopub.status.busy": "2022-05-11T14:39:18.735448Z",
     "iopub.status.idle": "2022-05-11T14:39:19.261606Z",
     "shell.execute_reply": "2022-05-11T14:39:19.260853Z"
    }
   },
   "outputs": [
    {
     "data": {
      "text/plain": [
       "1345.0290277991091"
      ]
     },
     "execution_count": 18,
     "metadata": {},
     "output_type": "execute_result"
    }
   ],
   "source": [
    "(js.filter(lambda record: record['name'] == 'Alice')\n",
    "   .pluck('transactions')\n",
    "   .flatten()\n",
    "   .pluck('amount')\n",
    "   .mean()\n",
    "   .compute())"
   ]
  },
  {
   "cell_type": "markdown",
   "metadata": {},
   "source": [
    "### Groupby and Foldby"
   ]
  },
  {
   "cell_type": "markdown",
   "metadata": {},
   "source": [
    "Often we want to group data by some function or key.  We can do this either with the `.groupby` method, which is straightforward but forces a full shuffle of the data (expensive) or with the harder-to-use but faster `.foldby` method, which does a streaming combined groupby and reduction.\n",
    "\n",
    "*  `groupby`:  Shuffles data so that all items with the same key are in the same key-value pair\n",
    "*  `foldby`:  Walks through the data accumulating a result per key\n",
    "\n",
    "*Note: the full groupby is particularly bad. In actual workloads you would do well to use `foldby` or switch to `DataFrame`s if possible.*"
   ]
  },
  {
   "cell_type": "markdown",
   "metadata": {},
   "source": [
    "### `groupby`"
   ]
  },
  {
   "cell_type": "markdown",
   "metadata": {},
   "source": [
    "Groupby collects items in your collection so that all items with the same value under some function are collected together into a key-value pair."
   ]
  },
  {
   "cell_type": "code",
   "execution_count": 19,
   "metadata": {
    "execution": {
     "iopub.execute_input": "2022-05-11T14:39:19.265673Z",
     "iopub.status.busy": "2022-05-11T14:39:19.265364Z",
     "iopub.status.idle": "2022-05-11T14:39:19.384541Z",
     "shell.execute_reply": "2022-05-11T14:39:19.383685Z"
    }
   },
   "outputs": [
    {
     "data": {
      "text/plain": [
       "[(7, ['Charlie']), (3, ['Bob', 'Dan']), (5, ['Alice', 'Edith', 'Frank'])]"
      ]
     },
     "execution_count": 19,
     "metadata": {},
     "output_type": "execute_result"
    }
   ],
   "source": [
    "b = db.from_sequence(['Alice', 'Bob', 'Charlie', 'Dan', 'Edith', 'Frank'])\n",
    "b.groupby(len).compute()  # names grouped by length"
   ]
  },
  {
   "cell_type": "code",
   "execution_count": 20,
   "metadata": {
    "execution": {
     "iopub.execute_input": "2022-05-11T14:39:19.388440Z",
     "iopub.status.busy": "2022-05-11T14:39:19.387952Z",
     "iopub.status.idle": "2022-05-11T14:39:19.581265Z",
     "shell.execute_reply": "2022-05-11T14:39:19.580642Z"
    }
   },
   "outputs": [
    {
     "data": {
      "text/plain": [
       "[(0, [0, 2, 4, 6, 8]), (1, [1, 3, 5, 7, 9])]"
      ]
     },
     "execution_count": 20,
     "metadata": {},
     "output_type": "execute_result"
    }
   ],
   "source": [
    "b = db.from_sequence(list(range(10)))\n",
    "b.groupby(lambda x: x % 2).compute()"
   ]
  },
  {
   "cell_type": "code",
   "execution_count": 21,
   "metadata": {
    "execution": {
     "iopub.execute_input": "2022-05-11T14:39:19.585380Z",
     "iopub.status.busy": "2022-05-11T14:39:19.584693Z",
     "iopub.status.idle": "2022-05-11T14:39:19.790695Z",
     "shell.execute_reply": "2022-05-11T14:39:19.789627Z"
    }
   },
   "outputs": [
    {
     "data": {
      "text/plain": [
       "[(0, 8), (1, 9)]"
      ]
     },
     "execution_count": 21,
     "metadata": {},
     "output_type": "execute_result"
    }
   ],
   "source": [
    "b.groupby(lambda x: x % 2).starmap(lambda k, v: (k, max(v))).compute()"
   ]
  },
  {
   "cell_type": "markdown",
   "metadata": {},
   "source": [
    "### `foldby`"
   ]
  },
  {
   "cell_type": "markdown",
   "metadata": {},
   "source": [
    "Foldby can be quite odd at first.  It is similar to the following functions from other libraries:\n",
    "\n",
    "*  [`toolz.reduceby`](http://toolz.readthedocs.io/en/latest/streaming-analytics.html#streaming-split-apply-combine)\n",
    "*  [`pyspark.RDD.combineByKey`](http://abshinn.github.io/python/apache-spark/2014/10/11/using-combinebykey-in-apache-spark/)\n",
    "\n",
    "When using `foldby` you provide \n",
    "\n",
    "1.  A key function on which to group elements\n",
    "2.  A binary operator such as you would pass to `reduce` that you use to perform reduction per each group\n",
    "3.  A combine binary operator that can combine the results of two `reduce` calls on different parts of your dataset.\n",
    "\n",
    "Your reduction must be associative.  It will happen in parallel in each of the partitions of your dataset.  Then all of these intermediate results will be combined by the `combine` binary operator."
   ]
  },
  {
   "cell_type": "code",
   "execution_count": 22,
   "metadata": {
    "execution": {
     "iopub.execute_input": "2022-05-11T14:39:19.795813Z",
     "iopub.status.busy": "2022-05-11T14:39:19.794119Z",
     "iopub.status.idle": "2022-05-11T14:39:19.856781Z",
     "shell.execute_reply": "2022-05-11T14:39:19.856026Z"
    }
   },
   "outputs": [
    {
     "data": {
      "text/plain": [
       "[(0, 8), (1, 9)]"
      ]
     },
     "execution_count": 22,
     "metadata": {},
     "output_type": "execute_result"
    }
   ],
   "source": [
    "b.foldby(lambda x: x % 2, binop=max, combine=max).compute()"
   ]
  },
  {
   "cell_type": "markdown",
   "metadata": {},
   "source": [
    "### Example with account data"
   ]
  },
  {
   "cell_type": "markdown",
   "metadata": {},
   "source": [
    "We find the number of people with the same name."
   ]
  },
  {
   "cell_type": "code",
   "execution_count": 23,
   "metadata": {
    "execution": {
     "iopub.execute_input": "2022-05-11T14:39:19.860948Z",
     "iopub.status.busy": "2022-05-11T14:39:19.860635Z",
     "iopub.status.idle": "2022-05-11T14:39:24.260082Z",
     "shell.execute_reply": "2022-05-11T14:39:24.258029Z"
    }
   },
   "outputs": [
    {
     "name": "stdout",
     "output_type": "stream",
     "text": [
      "[('Alice', 103), ('Alice', 103), ('Alice', 103), ('Alice', 122), ('Bob', 94), ('Bob', 95), ('Bob', 96), ('Bob', 112), ('Charlie', 96), ('Charlie', 96), ('Charlie', 96), ('Charlie', 112), ('Dan', 75), ('Dan', 78), ('Dan', 78), ('Dan', 91), ('Edith', 91), ('Edith', 91), ('Edith', 92), ('Edith', 110), ('Frank', 116), ('Frank', 117), ('Frank', 120), ('Frank', 135), ('George', 164), ('George', 186), ('George', 321), ('Hannah', 156), ('Hannah', 156), ('Hannah', 156), ('Hannah', 182), ('Ingrid', 74), ('Ingrid', 74), ('Ingrid', 75), ('Ingrid', 88), ('Jerry', 156), ('Jerry', 156), ('Jerry', 156), ('Jerry', 182), ('Kevin', 103), ('Kevin', 104), ('Kevin', 106), ('Kevin', 123), ('Laura', 118), ('Laura', 120), ('Laura', 120), ('Laura', 139), ('Michael', 166), ('Michael', 167), ('Michael', 168), ('Michael', 195), ('Norbert', 107), ('Norbert', 107), ('Norbert', 108), ('Norbert', 126), ('Oliver', 96), ('Oliver', 98), ('Oliver', 101), ('Oliver', 119), ('Patricia', 132), ('Patricia', 134), ('Patricia', 135), ('Patricia', 156), ('Quinn', 144), ('Quinn', 144), ('Quinn', 144), ('Quinn', 168), ('Ray', 138), ('Ray', 138), ('Ray', 141), ('Ray', 165), ('Sarah', 118), ('Sarah', 119), ('Sarah', 119), ('Sarah', 137), ('Tim', 84), ('Tim', 84), ('Tim', 84), ('Tim', 98), ('Ursula', 60), ('Ursula', 60), ('Ursula', 60), ('Ursula', 70), ('Victor', 124), ('Victor', 125), ('Victor', 127), ('Victor', 148), ('Wendy', 166), ('Wendy', 167), ('Wendy', 168), ('Wendy', 191), ('Xavier', 86), ('Xavier', 89), ('Xavier', 90), ('Xavier', 100), ('Yvonne', 72), ('Yvonne', 72), ('Yvonne', 72), ('Yvonne', 84), ('Zelda', 60), ('Zelda', 60), ('Zelda', 130)]\n",
      "CPU times: user 1.16 s, sys: 63.9 ms, total: 1.22 s\n",
      "Wall time: 4.39 s\n"
     ]
    }
   ],
   "source": [
    "%%time\n",
    "# Warning, this one takes a while...\n",
    "result = js.groupby(lambda item: item['name']).starmap(lambda k, v: (k, len(v))).compute()\n",
    "print(sorted(result))"
   ]
  },
  {
   "cell_type": "code",
   "execution_count": 24,
   "metadata": {
    "execution": {
     "iopub.execute_input": "2022-05-11T14:39:24.285986Z",
     "iopub.status.busy": "2022-05-11T14:39:24.285565Z",
     "iopub.status.idle": "2022-05-11T14:39:24.819456Z",
     "shell.execute_reply": "2022-05-11T14:39:24.818751Z"
    }
   },
   "outputs": [
    {
     "name": "stdout",
     "output_type": "stream",
     "text": [
      "[('Alice', 431), ('Bob', 397), ('Charlie', 400), ('Dan', 322), ('Edith', 384), ('Frank', 488), ('George', 671), ('Hannah', 650), ('Ingrid', 311), ('Jerry', 650), ('Kevin', 436), ('Laura', 497), ('Michael', 696), ('Norbert', 448), ('Oliver', 414), ('Patricia', 557), ('Quinn', 600), ('Ray', 582), ('Sarah', 493), ('Tim', 350), ('Ursula', 250), ('Victor', 524), ('Wendy', 692), ('Xavier', 365), ('Yvonne', 300), ('Zelda', 250)]\n",
      "CPU times: user 136 ms, sys: 17.9 ms, total: 154 ms\n",
      "Wall time: 529 ms\n"
     ]
    }
   ],
   "source": [
    "%%time\n",
    "# This one is comparatively fast and produces the same result.\n",
    "from operator import add\n",
    "def incr(tot, _):\n",
    "    return tot + 1\n",
    "\n",
    "result = js.foldby(key='name', \n",
    "                   binop=incr, \n",
    "                   initial=0, \n",
    "                   combine=add, \n",
    "                   combine_initial=0).compute()\n",
    "print(sorted(result))"
   ]
  },
  {
   "cell_type": "markdown",
   "metadata": {},
   "source": [
    "### Exercise: compute total amount per name"
   ]
  },
  {
   "cell_type": "markdown",
   "metadata": {},
   "source": [
    "We want to groupby (or foldby) the `name` key, then add up the all of the amounts for each name.\n",
    "\n",
    "Steps\n",
    "\n",
    "1.  Create a small function that, given a dictionary like \n",
    "\n",
    "        {'name': 'Alice', 'transactions': [{'amount': 1, 'id': 123}, {'amount': 2, 'id': 456}]}\n",
    "        \n",
    "    produces the sum of the amounts, e.g. `3`\n",
    "    \n",
    "2.  Slightly change the binary operator of the `foldby` example above so that the binary operator doesn't count the number of entries, but instead accumulates the sum of the amounts."
   ]
  },
  {
   "cell_type": "code",
   "execution_count": 25,
   "metadata": {
    "execution": {
     "iopub.execute_input": "2022-05-11T14:39:24.823167Z",
     "iopub.status.busy": "2022-05-11T14:39:24.822492Z",
     "iopub.status.idle": "2022-05-11T14:39:24.828224Z",
     "shell.execute_reply": "2022-05-11T14:39:24.827456Z"
    }
   },
   "outputs": [],
   "source": [
    "# Your code here..."
   ]
  },
  {
   "cell_type": "markdown",
   "metadata": {},
   "source": [
    "## DataFrames"
   ]
  },
  {
   "cell_type": "markdown",
   "metadata": {},
   "source": [
    "For the same reasons that Pandas is often faster than pure Python, `dask.dataframe` can be faster than `dask.bag`.  We will work more with DataFrames later, but from the point of view of a Bag, it is frequently the end-point of the \"messy\" part of data ingestion—once the data can be made into a data-frame, then complex split-apply-combine logic will become much more straight-forward and efficient.\n",
    "\n",
    "You can transform a bag with a simple tuple or flat dictionary structure into a `dask.dataframe` with the `to_dataframe` method."
   ]
  },
  {
   "cell_type": "code",
   "execution_count": 26,
   "metadata": {
    "execution": {
     "iopub.execute_input": "2022-05-11T14:39:24.832068Z",
     "iopub.status.busy": "2022-05-11T14:39:24.831806Z",
     "iopub.status.idle": "2022-05-11T14:39:25.411360Z",
     "shell.execute_reply": "2022-05-11T14:39:25.410545Z"
    }
   },
   "outputs": [
    {
     "name": "stderr",
     "output_type": "stream",
     "text": [
      "/usr/share/miniconda3/envs/dask-tutorial/lib/python3.8/site-packages/dask/dataframe/backends.py:187: FutureWarning: pandas.Int64Index is deprecated and will be removed from pandas in a future version. Use pandas.Index with the appropriate dtype instead.\n",
      "  _numeric_index_types = (pd.Int64Index, pd.Float64Index, pd.UInt64Index)\n",
      "/usr/share/miniconda3/envs/dask-tutorial/lib/python3.8/site-packages/dask/dataframe/backends.py:187: FutureWarning: pandas.Float64Index is deprecated and will be removed from pandas in a future version. Use pandas.Index with the appropriate dtype instead.\n",
      "  _numeric_index_types = (pd.Int64Index, pd.Float64Index, pd.UInt64Index)\n",
      "/usr/share/miniconda3/envs/dask-tutorial/lib/python3.8/site-packages/dask/dataframe/backends.py:187: FutureWarning: pandas.UInt64Index is deprecated and will be removed from pandas in a future version. Use pandas.Index with the appropriate dtype instead.\n",
      "  _numeric_index_types = (pd.Int64Index, pd.Float64Index, pd.UInt64Index)\n"
     ]
    },
    {
     "data": {
      "text/html": [
       "<div>\n",
       "<style scoped>\n",
       "    .dataframe tbody tr th:only-of-type {\n",
       "        vertical-align: middle;\n",
       "    }\n",
       "\n",
       "    .dataframe tbody tr th {\n",
       "        vertical-align: top;\n",
       "    }\n",
       "\n",
       "    .dataframe thead th {\n",
       "        text-align: right;\n",
       "    }\n",
       "</style>\n",
       "<table border=\"1\" class=\"dataframe\">\n",
       "  <thead>\n",
       "    <tr style=\"text-align: right;\">\n",
       "      <th></th>\n",
       "      <th>id</th>\n",
       "      <th>name</th>\n",
       "      <th>transactions</th>\n",
       "    </tr>\n",
       "  </thead>\n",
       "  <tbody>\n",
       "    <tr>\n",
       "      <th>0</th>\n",
       "      <td>0</td>\n",
       "      <td>Ray</td>\n",
       "      <td>[{'transaction-id': 374, 'amount': 130}, {'tra...</td>\n",
       "    </tr>\n",
       "    <tr>\n",
       "      <th>1</th>\n",
       "      <td>1</td>\n",
       "      <td>Ray</td>\n",
       "      <td>[{'transaction-id': 258, 'amount': 56}, {'tran...</td>\n",
       "    </tr>\n",
       "    <tr>\n",
       "      <th>2</th>\n",
       "      <td>2</td>\n",
       "      <td>Oliver</td>\n",
       "      <td>[{'transaction-id': 267, 'amount': 284}, {'tra...</td>\n",
       "    </tr>\n",
       "    <tr>\n",
       "      <th>3</th>\n",
       "      <td>3</td>\n",
       "      <td>Wendy</td>\n",
       "      <td>[{'transaction-id': 2347, 'amount': 692}, {'tr...</td>\n",
       "    </tr>\n",
       "    <tr>\n",
       "      <th>4</th>\n",
       "      <td>4</td>\n",
       "      <td>Ingrid</td>\n",
       "      <td>[{'transaction-id': 694, 'amount': 1862}, {'tr...</td>\n",
       "    </tr>\n",
       "  </tbody>\n",
       "</table>\n",
       "</div>"
      ],
      "text/plain": [
       "   id    name                                       transactions\n",
       "0   0     Ray  [{'transaction-id': 374, 'amount': 130}, {'tra...\n",
       "1   1     Ray  [{'transaction-id': 258, 'amount': 56}, {'tran...\n",
       "2   2  Oliver  [{'transaction-id': 267, 'amount': 284}, {'tra...\n",
       "3   3   Wendy  [{'transaction-id': 2347, 'amount': 692}, {'tr...\n",
       "4   4  Ingrid  [{'transaction-id': 694, 'amount': 1862}, {'tr..."
      ]
     },
     "execution_count": 26,
     "metadata": {},
     "output_type": "execute_result"
    }
   ],
   "source": [
    "df1 = js.to_dataframe()\n",
    "df1.head()"
   ]
  },
  {
   "cell_type": "markdown",
   "metadata": {},
   "source": [
    "This now looks like a well-defined DataFrame, and we can apply Pandas-like computations to it efficiently."
   ]
  },
  {
   "cell_type": "markdown",
   "metadata": {},
   "source": [
    "Using a Dask DataFrame, how long does it take to do our prior computation of numbers of people with the same name?  It turns out that `dask.dataframe.groupby()` beats `dask.bag.groupby()` by more than an order of magnitude; but it still cannot match `dask.bag.foldby()` for this case."
   ]
  },
  {
   "cell_type": "code",
   "execution_count": 27,
   "metadata": {
    "execution": {
     "iopub.execute_input": "2022-05-11T14:39:25.415061Z",
     "iopub.status.busy": "2022-05-11T14:39:25.414783Z",
     "iopub.status.idle": "2022-05-11T14:39:27.051178Z",
     "shell.execute_reply": "2022-05-11T14:39:27.050384Z"
    }
   },
   "outputs": [
    {
     "name": "stdout",
     "output_type": "stream",
     "text": [
      "CPU times: user 295 ms, sys: 15.5 ms, total: 311 ms\n",
      "Wall time: 1.63 s\n"
     ]
    },
    {
     "data": {
      "text/plain": [
       "name\n",
       "Alice      431\n",
       "Bob        397\n",
       "Charlie    400\n",
       "Dan        322\n",
       "Edith      384\n",
       "Name: id, dtype: int64"
      ]
     },
     "execution_count": 27,
     "metadata": {},
     "output_type": "execute_result"
    }
   ],
   "source": [
    "%time df1.groupby('name').id.count().compute().head()"
   ]
  },
  {
   "cell_type": "markdown",
   "metadata": {},
   "source": [
    "### Denormalization"
   ]
  },
  {
   "cell_type": "markdown",
   "metadata": {},
   "source": [
    "This DataFrame format is less-than-optimal because the `transactions` column is filled with nested data so Pandas has to revert to `object` dtype, which is quite slow in Pandas.  Ideally we want to transform to a dataframe only after we have flattened our data so that each record is a single `int`, `string`, `float`, etc.."
   ]
  },
  {
   "cell_type": "code",
   "execution_count": 28,
   "metadata": {
    "execution": {
     "iopub.execute_input": "2022-05-11T14:39:27.055037Z",
     "iopub.status.busy": "2022-05-11T14:39:27.054539Z",
     "iopub.status.idle": "2022-05-11T14:39:27.090084Z",
     "shell.execute_reply": "2022-05-11T14:39:27.089180Z"
    }
   },
   "outputs": [
    {
     "data": {
      "text/plain": [
       "({'id': 0, 'name': 'Ray', 'amount': 130, 'transaction-id': 374},\n",
       " {'id': 0, 'name': 'Ray', 'amount': 131, 'transaction-id': 5144},\n",
       " {'id': 0, 'name': 'Ray', 'amount': 151, 'transaction-id': 5939})"
      ]
     },
     "execution_count": 28,
     "metadata": {},
     "output_type": "execute_result"
    }
   ],
   "source": [
    "def denormalize(record):\n",
    "    # returns a list for each person, one item per transaction\n",
    "    return [{'id': record['id'], \n",
    "             'name': record['name'], \n",
    "             'amount': transaction['amount'], \n",
    "             'transaction-id': transaction['transaction-id']}\n",
    "            for transaction in record['transactions']]\n",
    "\n",
    "transactions = js.map(denormalize).flatten()\n",
    "transactions.take(3)"
   ]
  },
  {
   "cell_type": "code",
   "execution_count": 29,
   "metadata": {
    "execution": {
     "iopub.execute_input": "2022-05-11T14:39:27.093720Z",
     "iopub.status.busy": "2022-05-11T14:39:27.093307Z",
     "iopub.status.idle": "2022-05-11T14:39:27.195042Z",
     "shell.execute_reply": "2022-05-11T14:39:27.194417Z"
    }
   },
   "outputs": [
    {
     "data": {
      "text/html": [
       "<div>\n",
       "<style scoped>\n",
       "    .dataframe tbody tr th:only-of-type {\n",
       "        vertical-align: middle;\n",
       "    }\n",
       "\n",
       "    .dataframe tbody tr th {\n",
       "        vertical-align: top;\n",
       "    }\n",
       "\n",
       "    .dataframe thead th {\n",
       "        text-align: right;\n",
       "    }\n",
       "</style>\n",
       "<table border=\"1\" class=\"dataframe\">\n",
       "  <thead>\n",
       "    <tr style=\"text-align: right;\">\n",
       "      <th></th>\n",
       "      <th>id</th>\n",
       "      <th>name</th>\n",
       "      <th>amount</th>\n",
       "      <th>transaction-id</th>\n",
       "    </tr>\n",
       "  </thead>\n",
       "  <tbody>\n",
       "    <tr>\n",
       "      <th>0</th>\n",
       "      <td>0</td>\n",
       "      <td>Ray</td>\n",
       "      <td>130</td>\n",
       "      <td>374</td>\n",
       "    </tr>\n",
       "    <tr>\n",
       "      <th>1</th>\n",
       "      <td>0</td>\n",
       "      <td>Ray</td>\n",
       "      <td>131</td>\n",
       "      <td>5144</td>\n",
       "    </tr>\n",
       "    <tr>\n",
       "      <th>2</th>\n",
       "      <td>0</td>\n",
       "      <td>Ray</td>\n",
       "      <td>151</td>\n",
       "      <td>5939</td>\n",
       "    </tr>\n",
       "    <tr>\n",
       "      <th>3</th>\n",
       "      <td>0</td>\n",
       "      <td>Ray</td>\n",
       "      <td>124</td>\n",
       "      <td>9153</td>\n",
       "    </tr>\n",
       "    <tr>\n",
       "      <th>4</th>\n",
       "      <td>0</td>\n",
       "      <td>Ray</td>\n",
       "      <td>135</td>\n",
       "      <td>9209</td>\n",
       "    </tr>\n",
       "  </tbody>\n",
       "</table>\n",
       "</div>"
      ],
      "text/plain": [
       "   id name  amount  transaction-id\n",
       "0   0  Ray     130             374\n",
       "1   0  Ray     131            5144\n",
       "2   0  Ray     151            5939\n",
       "3   0  Ray     124            9153\n",
       "4   0  Ray     135            9209"
      ]
     },
     "execution_count": 29,
     "metadata": {},
     "output_type": "execute_result"
    }
   ],
   "source": [
    "df = transactions.to_dataframe()\n",
    "df.head()"
   ]
  },
  {
   "cell_type": "code",
   "execution_count": 30,
   "metadata": {
    "execution": {
     "iopub.execute_input": "2022-05-11T14:39:27.199163Z",
     "iopub.status.busy": "2022-05-11T14:39:27.198489Z",
     "iopub.status.idle": "2022-05-11T14:39:28.539699Z",
     "shell.execute_reply": "2022-05-11T14:39:28.535594Z"
    }
   },
   "outputs": [
    {
     "name": "stdout",
     "output_type": "stream",
     "text": [
      "CPU times: user 257 ms, sys: 12.3 ms, total: 270 ms\n",
      "Wall time: 1.32 s\n"
     ]
    },
    {
     "data": {
      "text/plain": [
       "name\n",
       "Alice       19533\n",
       "Bob         23854\n",
       "Charlie     15151\n",
       "Dan          8408\n",
       "Edith        9568\n",
       "Frank       22382\n",
       "George      15804\n",
       "Hannah      26480\n",
       "Ingrid      10599\n",
       "Jerry       25936\n",
       "Kevin       12301\n",
       "Laura       27917\n",
       "Michael     20912\n",
       "Norbert     16155\n",
       "Oliver      11346\n",
       "Patricia    37304\n",
       "Quinn       20615\n",
       "Ray         24429\n",
       "Sarah       23245\n",
       "Tim         24409\n",
       "Ursula      23085\n",
       "Victor      17100\n",
       "Wendy       26238\n",
       "Xavier      10814\n",
       "Yvonne      15895\n",
       "Zelda       10520\n",
       "Name: transaction-id, dtype: int64"
      ]
     },
     "execution_count": 30,
     "metadata": {},
     "output_type": "execute_result"
    }
   ],
   "source": [
    "%%time\n",
    "# number of transactions per name\n",
    "# note that the time here includes the data load and ingestion\n",
    "df.groupby('name')['transaction-id'].count().compute()"
   ]
  },
  {
   "cell_type": "markdown",
   "metadata": {},
   "source": [
    "## Limitations"
   ]
  },
  {
   "cell_type": "markdown",
   "metadata": {},
   "source": [
    "Bags provide very general computation (any Python function.)  This generality\n",
    "comes at cost.  Bags have the following known limitations\n",
    "\n",
    "1.  Bag operations tend to be slower than array/dataframe computations in the\n",
    "    same way that Python tends to be slower than NumPy/Pandas\n",
    "2.  ``Bag.groupby`` is slow.  You should try to use ``Bag.foldby`` if possible.\n",
    "    Using ``Bag.foldby`` requires more thought. Even better, consider creating\n",
    "    a normalised dataframe."
   ]
  },
  {
   "cell_type": "markdown",
   "metadata": {},
   "source": [
    "## Learn More\n",
    "\n",
    "* [Bag documentation](https://docs.dask.org/en/latest/bag.html)\n",
    "* [Bag screencast](https://youtu.be/-qIiJ1XtSv0)\n",
    "* [Bag API](https://docs.dask.org/en/latest/bag-api.html)\n",
    "* [Bag examples](https://examples.dask.org/bag.html)"
   ]
  },
  {
   "cell_type": "markdown",
   "metadata": {},
   "source": [
    "## Shutdown"
   ]
  },
  {
   "cell_type": "code",
   "execution_count": 31,
   "metadata": {
    "execution": {
     "iopub.execute_input": "2022-05-11T14:39:28.545080Z",
     "iopub.status.busy": "2022-05-11T14:39:28.544091Z",
     "iopub.status.idle": "2022-05-11T14:39:29.122603Z",
     "shell.execute_reply": "2022-05-11T14:39:29.121618Z"
    }
   },
   "outputs": [
    {
     "name": "stderr",
     "output_type": "stream",
     "text": [
      "/usr/share/miniconda3/envs/dask-tutorial/lib/python3.8/site-packages/dask/dataframe/backends.py:187: FutureWarning: pandas.Int64Index is deprecated and will be removed from pandas in a future version. Use pandas.Index with the appropriate dtype instead.\n",
      "  _numeric_index_types = (pd.Int64Index, pd.Float64Index, pd.UInt64Index)\n",
      "/usr/share/miniconda3/envs/dask-tutorial/lib/python3.8/site-packages/dask/dataframe/backends.py:187: FutureWarning: pandas.Float64Index is deprecated and will be removed from pandas in a future version. Use pandas.Index with the appropriate dtype instead.\n",
      "  _numeric_index_types = (pd.Int64Index, pd.Float64Index, pd.UInt64Index)\n",
      "/usr/share/miniconda3/envs/dask-tutorial/lib/python3.8/site-packages/dask/dataframe/backends.py:187: FutureWarning: pandas.UInt64Index is deprecated and will be removed from pandas in a future version. Use pandas.Index with the appropriate dtype instead.\n",
      "  _numeric_index_types = (pd.Int64Index, pd.Float64Index, pd.UInt64Index)\n",
      "/usr/share/miniconda3/envs/dask-tutorial/lib/python3.8/site-packages/dask/dataframe/backends.py:187: FutureWarning: pandas.Int64Index is deprecated and will be removed from pandas in a future version. Use pandas.Index with the appropriate dtype instead.\n",
      "  _numeric_index_types = (pd.Int64Index, pd.Float64Index, pd.UInt64Index)\n",
      "/usr/share/miniconda3/envs/dask-tutorial/lib/python3.8/site-packages/dask/dataframe/backends.py:187: FutureWarning: pandas.Float64Index is deprecated and will be removed from pandas in a future version. Use pandas.Index with the appropriate dtype instead.\n",
      "  _numeric_index_types = (pd.Int64Index, pd.Float64Index, pd.UInt64Index)\n",
      "/usr/share/miniconda3/envs/dask-tutorial/lib/python3.8/site-packages/dask/dataframe/backends.py:187: FutureWarning: pandas.UInt64Index is deprecated and will be removed from pandas in a future version. Use pandas.Index with the appropriate dtype instead.\n",
      "  _numeric_index_types = (pd.Int64Index, pd.Float64Index, pd.UInt64Index)\n",
      "/usr/share/miniconda3/envs/dask-tutorial/lib/python3.8/site-packages/dask/dataframe/backends.py:187: FutureWarning: pandas.Int64Index is deprecated and will be removed from pandas in a future version. Use pandas.Index with the appropriate dtype instead.\n",
      "  _numeric_index_types = (pd.Int64Index, pd.Float64Index, pd.UInt64Index)\n",
      "/usr/share/miniconda3/envs/dask-tutorial/lib/python3.8/site-packages/dask/dataframe/backends.py:187: FutureWarning: pandas.Float64Index is deprecated and will be removed from pandas in a future version. Use pandas.Index with the appropriate dtype instead.\n",
      "  _numeric_index_types = (pd.Int64Index, pd.Float64Index, pd.UInt64Index)\n",
      "/usr/share/miniconda3/envs/dask-tutorial/lib/python3.8/site-packages/dask/dataframe/backends.py:187: FutureWarning: pandas.UInt64Index is deprecated and will be removed from pandas in a future version. Use pandas.Index with the appropriate dtype instead.\n",
      "  _numeric_index_types = (pd.Int64Index, pd.Float64Index, pd.UInt64Index)\n",
      "/usr/share/miniconda3/envs/dask-tutorial/lib/python3.8/site-packages/dask/dataframe/backends.py:187: FutureWarning: pandas.Int64Index is deprecated and will be removed from pandas in a future version. Use pandas.Index with the appropriate dtype instead.\n",
      "  _numeric_index_types = (pd.Int64Index, pd.Float64Index, pd.UInt64Index)\n",
      "/usr/share/miniconda3/envs/dask-tutorial/lib/python3.8/site-packages/dask/dataframe/backends.py:187: FutureWarning: pandas.Float64Index is deprecated and will be removed from pandas in a future version. Use pandas.Index with the appropriate dtype instead.\n",
      "  _numeric_index_types = (pd.Int64Index, pd.Float64Index, pd.UInt64Index)\n",
      "/usr/share/miniconda3/envs/dask-tutorial/lib/python3.8/site-packages/dask/dataframe/backends.py:187: FutureWarning: pandas.UInt64Index is deprecated and will be removed from pandas in a future version. Use pandas.Index with the appropriate dtype instead.\n",
      "  _numeric_index_types = (pd.Int64Index, pd.Float64Index, pd.UInt64Index)\n"
     ]
    }
   ],
   "source": [
    "client.shutdown()"
   ]
  }
 ],
 "metadata": {
  "anaconda-cloud": {},
  "kernelspec": {
   "display_name": "Python 3",
   "language": "python",
   "name": "python3"
  },
  "language_info": {
   "codemirror_mode": {
    "name": "ipython",
    "version": 3
   },
   "file_extension": ".py",
   "mimetype": "text/x-python",
   "name": "python",
   "nbconvert_exporter": "python",
   "pygments_lexer": "ipython3",
   "version": "3.8.13"
  }
 },
 "nbformat": 4,
 "nbformat_minor": 4
}
