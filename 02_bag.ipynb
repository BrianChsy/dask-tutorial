{
 "cells": [
  {
   "cell_type": "markdown",
   "metadata": {},
   "source": [
    "<img src=\"images/dask_horizontal.svg\" align=\"right\" width=\"30%\">"
   ]
  },
  {
   "cell_type": "markdown",
   "metadata": {},
   "source": [
    "# Bag: Parallel Lists for semi-structured data"
   ]
  },
  {
   "cell_type": "markdown",
   "metadata": {},
   "source": [
    "Dask-bag excels in processing data that can be represented as a sequence of arbitrary inputs. We'll refer to this as \"messy\" data, because it can contain complex nested structures, missing fields, mixtures of data types, etc. The *functional* programming style fits very nicely with standard Python iteration, such as can be found in the `itertools` module.\n",
    "\n",
    "Messy data is often encountered at the beginning of data processing pipelines when large volumes of raw data are first consumed. The initial set of data might be JSON, CSV, XML, or any other format that does not enforce strict structure and datatypes.\n",
    "For this reason, the initial data massaging and processing is often done with Python `list`s, `dict`s, and `set`s.\n",
    "\n",
    "These core data structures are optimized for general-purpose storage and processing.  Adding streaming computation with iterators/generator expressions or libraries like `itertools` or [`toolz`](https://toolz.readthedocs.io/en/latest/) let us process large volumes in a small space.  If we combine this with parallel processing then we can churn through a fair amount of data.\n",
    "\n",
    "Dask.bag is a high level Dask collection to automate common workloads of this form.  In a nutshell\n",
    "\n",
    "    dask.bag = map, filter, toolz + parallel execution\n",
    "    \n",
    "**Related Documentation**\n",
    "\n",
    "* [Bag documentation](https://docs.dask.org/en/latest/bag.html)\n",
    "* [Bag screencast](https://youtu.be/-qIiJ1XtSv0)\n",
    "* [Bag API](https://docs.dask.org/en/latest/bag-api.html)\n",
    "* [Bag examples](https://examples.dask.org/bag.html)"
   ]
  },
  {
   "cell_type": "markdown",
   "metadata": {},
   "source": [
    "## Create data"
   ]
  },
  {
   "cell_type": "code",
   "execution_count": 1,
   "metadata": {
    "execution": {
     "iopub.execute_input": "2021-11-30T00:42:36.851325Z",
     "iopub.status.busy": "2021-11-30T00:42:36.850831Z",
     "iopub.status.idle": "2021-11-30T00:42:37.555926Z",
     "shell.execute_reply": "2021-11-30T00:42:37.554925Z"
    }
   },
   "outputs": [],
   "source": [
    "%run prep.py -d accounts"
   ]
  },
  {
   "cell_type": "markdown",
   "metadata": {},
   "source": [
    "## Setup"
   ]
  },
  {
   "cell_type": "markdown",
   "metadata": {},
   "source": [
    "Again, we'll use the distributed scheduler. Schedulers will be explained in depth [later](05_distributed.ipynb)."
   ]
  },
  {
   "cell_type": "code",
   "execution_count": 2,
   "metadata": {
    "execution": {
     "iopub.execute_input": "2021-11-30T00:42:37.561559Z",
     "iopub.status.busy": "2021-11-30T00:42:37.561062Z",
     "iopub.status.idle": "2021-11-30T00:42:39.997607Z",
     "shell.execute_reply": "2021-11-30T00:42:39.998242Z"
    }
   },
   "outputs": [],
   "source": [
    "from dask.distributed import Client\n",
    "\n",
    "client = Client(n_workers=4)"
   ]
  },
  {
   "cell_type": "markdown",
   "metadata": {},
   "source": [
    "## Creation"
   ]
  },
  {
   "cell_type": "markdown",
   "metadata": {},
   "source": [
    "You can create a `Bag` from a Python sequence, from files, from data on S3, etc.\n",
    "We demonstrate using `.take()` to show elements of the data. (Doing `.take(1)` results in a tuple with one element)\n",
    "\n",
    "Note that the data are partitioned into blocks, and there are many items per block. In the first example, the two partitions contain five elements each, and in the following two, each file is partitioned into one or more bytes blocks."
   ]
  },
  {
   "cell_type": "code",
   "execution_count": 3,
   "metadata": {
    "execution": {
     "iopub.execute_input": "2021-11-30T00:42:40.004626Z",
     "iopub.status.busy": "2021-11-30T00:42:40.001473Z",
     "iopub.status.idle": "2021-11-30T00:42:40.327671Z",
     "shell.execute_reply": "2021-11-30T00:42:40.325889Z"
    }
   },
   "outputs": [
    {
     "data": {
      "text/plain": [
       "(1, 2, 3)"
      ]
     },
     "execution_count": 3,
     "metadata": {},
     "output_type": "execute_result"
    }
   ],
   "source": [
    "# each element is an integer\n",
    "import dask.bag as db\n",
    "b = db.from_sequence([1, 2, 3, 4, 5, 6, 7, 8, 9, 10], npartitions=2)\n",
    "b.take(3)"
   ]
  },
  {
   "cell_type": "code",
   "execution_count": 4,
   "metadata": {
    "execution": {
     "iopub.execute_input": "2021-11-30T00:42:40.332524Z",
     "iopub.status.busy": "2021-11-30T00:42:40.330393Z",
     "iopub.status.idle": "2021-11-30T00:42:40.428614Z",
     "shell.execute_reply": "2021-11-30T00:42:40.429065Z"
    }
   },
   "outputs": [
    {
     "data": {
      "text/plain": [
       "('{\"id\": 0, \"name\": \"Xavier\", \"transactions\": [{\"transaction-id\": 837, \"amount\": 161}, {\"transaction-id\": 1599, \"amount\": 612}, {\"transaction-id\": 3013, \"amount\": 308}, {\"transaction-id\": 3107, \"amount\": 266}, {\"transaction-id\": 3632, \"amount\": 216}, {\"transaction-id\": 3980, \"amount\": 272}, {\"transaction-id\": 4633, \"amount\": 265}, {\"transaction-id\": 4974, \"amount\": -124}, {\"transaction-id\": 5590, \"amount\": 14}, {\"transaction-id\": 6305, \"amount\": 128}, {\"transaction-id\": 8113, \"amount\": 335}, {\"transaction-id\": 8860, \"amount\": -111}, {\"transaction-id\": 8981, \"amount\": 76}, {\"transaction-id\": 9318, \"amount\": 154}, {\"transaction-id\": 9530, \"amount\": 59}, {\"transaction-id\": 9791, \"amount\": 402}]}\\n',)"
      ]
     },
     "execution_count": 4,
     "metadata": {},
     "output_type": "execute_result"
    }
   ],
   "source": [
    "# each element is a text file, where each line is a JSON object\n",
    "# note that the compression is handled automatically\n",
    "import os\n",
    "b = db.read_text(os.path.join('data', 'accounts.*.json.gz'))\n",
    "b.take(1)"
   ]
  },
  {
   "cell_type": "code",
   "execution_count": 5,
   "metadata": {
    "execution": {
     "iopub.execute_input": "2021-11-30T00:42:40.433930Z",
     "iopub.status.busy": "2021-11-30T00:42:40.433368Z",
     "iopub.status.idle": "2021-11-30T00:42:40.438678Z",
     "shell.execute_reply": "2021-11-30T00:42:40.439562Z"
    }
   },
   "outputs": [
    {
     "data": {
      "text/plain": [
       "'s3://dask-data/nyc-taxi/2015/yellow_tripdata_2015-01.csv'"
      ]
     },
     "execution_count": 5,
     "metadata": {},
     "output_type": "execute_result"
    }
   ],
   "source": [
    "# Edit sources.py to configure source locations\n",
    "import sources\n",
    "sources.bag_url"
   ]
  },
  {
   "cell_type": "code",
   "execution_count": 6,
   "metadata": {
    "execution": {
     "iopub.execute_input": "2021-11-30T00:42:40.444865Z",
     "iopub.status.busy": "2021-11-30T00:42:40.444265Z",
     "iopub.status.idle": "2021-11-30T00:42:41.287237Z",
     "shell.execute_reply": "2021-11-30T00:42:41.286717Z"
    }
   },
   "outputs": [
    {
     "data": {
      "text/plain": [
       "('VendorID,tpep_pickup_datetime,tpep_dropoff_datetime,passenger_count,trip_distance,pickup_longitude,pickup_latitude,RateCodeID,store_and_fwd_flag,dropoff_longitude,dropoff_latitude,payment_type,fare_amount,extra,mta_tax,tip_amount,tolls_amount,improvement_surcharge,total_amount\\n',)"
      ]
     },
     "execution_count": 6,
     "metadata": {},
     "output_type": "execute_result"
    }
   ],
   "source": [
    "# Requires `s3fs` library\n",
    "# each partition is a remote CSV text file\n",
    "b = db.read_text(sources.bag_url,\n",
    "                 storage_options={'anon': True})\n",
    "b.take(1)"
   ]
  },
  {
   "cell_type": "markdown",
   "metadata": {},
   "source": [
    "## Manipulation"
   ]
  },
  {
   "cell_type": "markdown",
   "metadata": {},
   "source": [
    "`Bag` objects hold the standard functional API found in projects like the Python standard library, `toolz`, or `pyspark`, including `map`, `filter`, `groupby`, etc..\n",
    "\n",
    "Operations on `Bag` objects create new bags.  Call the `.compute()` method to trigger execution, as we saw for `Delayed` objects.  "
   ]
  },
  {
   "cell_type": "code",
   "execution_count": 7,
   "metadata": {
    "execution": {
     "iopub.execute_input": "2021-11-30T00:42:41.295750Z",
     "iopub.status.busy": "2021-11-30T00:42:41.295076Z",
     "iopub.status.idle": "2021-11-30T00:42:41.301665Z",
     "shell.execute_reply": "2021-11-30T00:42:41.302616Z"
    }
   },
   "outputs": [
    {
     "data": {
      "text/plain": [
       "dask.bag<lambda, npartitions=10>"
      ]
     },
     "execution_count": 7,
     "metadata": {},
     "output_type": "execute_result"
    }
   ],
   "source": [
    "def is_even(n):\n",
    "    return n % 2 == 0\n",
    "\n",
    "b = db.from_sequence([1, 2, 3, 4, 5, 6, 7, 8, 9, 10])\n",
    "c = b.filter(is_even).map(lambda x: x ** 2)\n",
    "c"
   ]
  },
  {
   "cell_type": "code",
   "execution_count": 8,
   "metadata": {
    "execution": {
     "iopub.execute_input": "2021-11-30T00:42:41.321238Z",
     "iopub.status.busy": "2021-11-30T00:42:41.317911Z",
     "iopub.status.idle": "2021-11-30T00:42:41.442613Z",
     "shell.execute_reply": "2021-11-30T00:42:41.443758Z"
    }
   },
   "outputs": [
    {
     "data": {
      "text/plain": [
       "[4, 16, 36, 64, 100]"
      ]
     },
     "execution_count": 8,
     "metadata": {},
     "output_type": "execute_result"
    }
   ],
   "source": [
    "# blocking form: wait for completion (which is very fast in this case)\n",
    "c.compute()"
   ]
  },
  {
   "cell_type": "markdown",
   "metadata": {},
   "source": [
    "### Example: Accounts JSON data"
   ]
  },
  {
   "cell_type": "markdown",
   "metadata": {},
   "source": [
    "We've created a fake dataset of gzipped JSON data in your data directory.  This is like the example used in the `DataFrame` example we will see later, except that it has bundled up all of the entries for each individual `id` into a single record.  This is similar to data that you might collect off of a document store database or a web API.\n",
    "\n",
    "Each line is a JSON encoded dictionary with the following keys\n",
    "\n",
    "*  id: Unique identifier of the customer\n",
    "*  name: Name of the customer\n",
    "*  transactions: List of `transaction-id`, `amount` pairs, one for each transaction for the customer in that file"
   ]
  },
  {
   "cell_type": "code",
   "execution_count": 9,
   "metadata": {
    "execution": {
     "iopub.execute_input": "2021-11-30T00:42:41.447819Z",
     "iopub.status.busy": "2021-11-30T00:42:41.447153Z",
     "iopub.status.idle": "2021-11-30T00:42:41.485563Z",
     "shell.execute_reply": "2021-11-30T00:42:41.486417Z"
    }
   },
   "outputs": [
    {
     "data": {
      "text/plain": [
       "('{\"id\": 0, \"name\": \"Xavier\", \"transactions\": [{\"transaction-id\": 837, \"amount\": 161}, {\"transaction-id\": 1599, \"amount\": 612}, {\"transaction-id\": 3013, \"amount\": 308}, {\"transaction-id\": 3107, \"amount\": 266}, {\"transaction-id\": 3632, \"amount\": 216}, {\"transaction-id\": 3980, \"amount\": 272}, {\"transaction-id\": 4633, \"amount\": 265}, {\"transaction-id\": 4974, \"amount\": -124}, {\"transaction-id\": 5590, \"amount\": 14}, {\"transaction-id\": 6305, \"amount\": 128}, {\"transaction-id\": 8113, \"amount\": 335}, {\"transaction-id\": 8860, \"amount\": -111}, {\"transaction-id\": 8981, \"amount\": 76}, {\"transaction-id\": 9318, \"amount\": 154}, {\"transaction-id\": 9530, \"amount\": 59}, {\"transaction-id\": 9791, \"amount\": 402}]}\\n',\n",
       " '{\"id\": 1, \"name\": \"Oliver\", \"transactions\": [{\"transaction-id\": 143, \"amount\": 1452}, {\"transaction-id\": 206, \"amount\": 1359}, {\"transaction-id\": 378, \"amount\": 1355}, {\"transaction-id\": 493, \"amount\": 1363}, {\"transaction-id\": 579, \"amount\": 1274}, {\"transaction-id\": 595, \"amount\": 1400}, {\"transaction-id\": 806, \"amount\": 1435}, {\"transaction-id\": 825, \"amount\": 1424}, {\"transaction-id\": 839, \"amount\": 1292}, {\"transaction-id\": 886, \"amount\": 1356}, {\"transaction-id\": 983, \"amount\": 1434}, {\"transaction-id\": 1036, \"amount\": 1285}, {\"transaction-id\": 1212, \"amount\": 1443}, {\"transaction-id\": 1711, \"amount\": 1458}, {\"transaction-id\": 1748, \"amount\": 1482}, {\"transaction-id\": 1873, \"amount\": 1420}, {\"transaction-id\": 2231, \"amount\": 1301}, {\"transaction-id\": 2245, \"amount\": 1394}, {\"transaction-id\": 2306, \"amount\": 1383}, {\"transaction-id\": 2339, \"amount\": 1391}, {\"transaction-id\": 2366, \"amount\": 1391}, {\"transaction-id\": 2478, \"amount\": 1350}, {\"transaction-id\": 2534, \"amount\": 1402}, {\"transaction-id\": 2689, \"amount\": 1232}, {\"transaction-id\": 2727, \"amount\": 1383}, {\"transaction-id\": 2856, \"amount\": 1343}, {\"transaction-id\": 2874, \"amount\": 1377}, {\"transaction-id\": 2943, \"amount\": 1444}, {\"transaction-id\": 3131, \"amount\": 1387}, {\"transaction-id\": 3181, \"amount\": 1337}, {\"transaction-id\": 3304, \"amount\": 1492}, {\"transaction-id\": 3321, \"amount\": 1407}, {\"transaction-id\": 3442, \"amount\": 1365}, {\"transaction-id\": 3489, \"amount\": 1353}, {\"transaction-id\": 3600, \"amount\": 1378}, {\"transaction-id\": 3869, \"amount\": 1337}, {\"transaction-id\": 4001, \"amount\": 1390}, {\"transaction-id\": 4108, \"amount\": 1418}, {\"transaction-id\": 4251, \"amount\": 1338}, {\"transaction-id\": 4358, \"amount\": 1392}, {\"transaction-id\": 4379, \"amount\": 1428}, {\"transaction-id\": 4398, \"amount\": 1355}, {\"transaction-id\": 4509, \"amount\": 1348}, {\"transaction-id\": 4557, \"amount\": 1340}, {\"transaction-id\": 4770, \"amount\": 1335}, {\"transaction-id\": 4835, \"amount\": 1289}, {\"transaction-id\": 4913, \"amount\": 1482}, {\"transaction-id\": 4963, \"amount\": 1445}, {\"transaction-id\": 5024, \"amount\": 1351}, {\"transaction-id\": 5180, \"amount\": 1319}, {\"transaction-id\": 5238, \"amount\": 1331}, {\"transaction-id\": 5548, \"amount\": 1507}, {\"transaction-id\": 5559, \"amount\": 1440}, {\"transaction-id\": 5642, \"amount\": 1419}, {\"transaction-id\": 5692, \"amount\": 1370}, {\"transaction-id\": 5816, \"amount\": 1275}, {\"transaction-id\": 5826, \"amount\": 1476}, {\"transaction-id\": 5962, \"amount\": 1419}, {\"transaction-id\": 5967, \"amount\": 1374}, {\"transaction-id\": 6074, \"amount\": 1435}, {\"transaction-id\": 6201, \"amount\": 1275}, {\"transaction-id\": 6495, \"amount\": 1391}, {\"transaction-id\": 6631, \"amount\": 1505}, {\"transaction-id\": 6675, \"amount\": 1398}, {\"transaction-id\": 6764, \"amount\": 1403}, {\"transaction-id\": 6816, \"amount\": 1370}, {\"transaction-id\": 6887, \"amount\": 1380}, {\"transaction-id\": 6903, \"amount\": 1427}, {\"transaction-id\": 6927, \"amount\": 1294}, {\"transaction-id\": 6988, \"amount\": 1362}, {\"transaction-id\": 7131, \"amount\": 1363}, {\"transaction-id\": 7193, \"amount\": 1384}, {\"transaction-id\": 7268, \"amount\": 1438}, {\"transaction-id\": 7400, \"amount\": 1504}, {\"transaction-id\": 7452, \"amount\": 1348}, {\"transaction-id\": 7487, \"amount\": 1460}, {\"transaction-id\": 7641, \"amount\": 1357}, {\"transaction-id\": 7787, \"amount\": 1403}, {\"transaction-id\": 7844, \"amount\": 1412}, {\"transaction-id\": 7994, \"amount\": 1438}, {\"transaction-id\": 8174, \"amount\": 1432}, {\"transaction-id\": 8227, \"amount\": 1402}, {\"transaction-id\": 8278, \"amount\": 1326}, {\"transaction-id\": 8370, \"amount\": 1395}, {\"transaction-id\": 8461, \"amount\": 1420}, {\"transaction-id\": 9116, \"amount\": 1339}, {\"transaction-id\": 9157, \"amount\": 1373}, {\"transaction-id\": 9172, \"amount\": 1435}, {\"transaction-id\": 9187, \"amount\": 1384}, {\"transaction-id\": 9270, \"amount\": 1478}, {\"transaction-id\": 9275, \"amount\": 1440}, {\"transaction-id\": 9655, \"amount\": 1481}, {\"transaction-id\": 9831, \"amount\": 1455}, {\"transaction-id\": 9833, \"amount\": 1432}, {\"transaction-id\": 9898, \"amount\": 1353}, {\"transaction-id\": 9913, \"amount\": 1330}, {\"transaction-id\": 9947, \"amount\": 1329}]}\\n',\n",
       " '{\"id\": 2, \"name\": \"Patricia\", \"transactions\": [{\"transaction-id\": 228, \"amount\": 200}, {\"transaction-id\": 788, \"amount\": 279}, {\"transaction-id\": 1019, \"amount\": 206}, {\"transaction-id\": 1227, \"amount\": 245}, {\"transaction-id\": 1424, \"amount\": 186}, {\"transaction-id\": 1490, \"amount\": 178}, {\"transaction-id\": 1625, \"amount\": 206}, {\"transaction-id\": 1655, \"amount\": 271}, {\"transaction-id\": 1664, \"amount\": 262}, {\"transaction-id\": 1940, \"amount\": 163}, {\"transaction-id\": 1973, \"amount\": 237}, {\"transaction-id\": 2127, \"amount\": 203}, {\"transaction-id\": 2431, \"amount\": 205}, {\"transaction-id\": 2457, \"amount\": 227}, {\"transaction-id\": 2678, \"amount\": 179}, {\"transaction-id\": 2737, \"amount\": 199}, {\"transaction-id\": 2809, \"amount\": 249}, {\"transaction-id\": 2812, \"amount\": 269}, {\"transaction-id\": 2965, \"amount\": 191}, {\"transaction-id\": 2971, \"amount\": 272}, {\"transaction-id\": 3011, \"amount\": 190}, {\"transaction-id\": 3305, \"amount\": 171}, {\"transaction-id\": 3529, \"amount\": 178}, {\"transaction-id\": 3843, \"amount\": 189}, {\"transaction-id\": 4620, \"amount\": 192}, {\"transaction-id\": 4697, \"amount\": 251}, {\"transaction-id\": 4932, \"amount\": 286}, {\"transaction-id\": 4977, \"amount\": 191}, {\"transaction-id\": 5535, \"amount\": 232}, {\"transaction-id\": 5549, \"amount\": 222}, {\"transaction-id\": 5738, \"amount\": 204}, {\"transaction-id\": 5769, \"amount\": 349}, {\"transaction-id\": 5899, \"amount\": 239}, {\"transaction-id\": 6042, \"amount\": 242}, {\"transaction-id\": 6589, \"amount\": 276}, {\"transaction-id\": 7121, \"amount\": 312}, {\"transaction-id\": 7260, \"amount\": 293}, {\"transaction-id\": 7393, \"amount\": 259}, {\"transaction-id\": 7595, \"amount\": 197}, {\"transaction-id\": 7598, \"amount\": 168}, {\"transaction-id\": 8191, \"amount\": 276}, {\"transaction-id\": 8559, \"amount\": 206}, {\"transaction-id\": 8711, \"amount\": 292}, {\"transaction-id\": 9027, \"amount\": 251}, {\"transaction-id\": 9155, \"amount\": 161}, {\"transaction-id\": 9214, \"amount\": 237}, {\"transaction-id\": 9221, \"amount\": 203}, {\"transaction-id\": 9261, \"amount\": 251}, {\"transaction-id\": 9852, \"amount\": 254}, {\"transaction-id\": 9867, \"amount\": 227}, {\"transaction-id\": 9930, \"amount\": 241}]}\\n')"
      ]
     },
     "execution_count": 9,
     "metadata": {},
     "output_type": "execute_result"
    }
   ],
   "source": [
    "filename = os.path.join('data', 'accounts.*.json.gz')\n",
    "lines = db.read_text(filename)\n",
    "lines.take(3)"
   ]
  },
  {
   "cell_type": "markdown",
   "metadata": {},
   "source": [
    "Our data comes out of the file as lines of text. Notice that file decompression happened automatically. We can make this data look more reasonable by mapping the `json.loads` function onto our bag."
   ]
  },
  {
   "cell_type": "code",
   "execution_count": 10,
   "metadata": {
    "execution": {
     "iopub.execute_input": "2021-11-30T00:42:41.492996Z",
     "iopub.status.busy": "2021-11-30T00:42:41.492267Z",
     "iopub.status.idle": "2021-11-30T00:42:41.524818Z",
     "shell.execute_reply": "2021-11-30T00:42:41.524261Z"
    }
   },
   "outputs": [
    {
     "data": {
      "text/plain": [
       "({'id': 0,\n",
       "  'name': 'Xavier',\n",
       "  'transactions': [{'transaction-id': 837, 'amount': 161},\n",
       "   {'transaction-id': 1599, 'amount': 612},\n",
       "   {'transaction-id': 3013, 'amount': 308},\n",
       "   {'transaction-id': 3107, 'amount': 266},\n",
       "   {'transaction-id': 3632, 'amount': 216},\n",
       "   {'transaction-id': 3980, 'amount': 272},\n",
       "   {'transaction-id': 4633, 'amount': 265},\n",
       "   {'transaction-id': 4974, 'amount': -124},\n",
       "   {'transaction-id': 5590, 'amount': 14},\n",
       "   {'transaction-id': 6305, 'amount': 128},\n",
       "   {'transaction-id': 8113, 'amount': 335},\n",
       "   {'transaction-id': 8860, 'amount': -111},\n",
       "   {'transaction-id': 8981, 'amount': 76},\n",
       "   {'transaction-id': 9318, 'amount': 154},\n",
       "   {'transaction-id': 9530, 'amount': 59},\n",
       "   {'transaction-id': 9791, 'amount': 402}]},\n",
       " {'id': 1,\n",
       "  'name': 'Oliver',\n",
       "  'transactions': [{'transaction-id': 143, 'amount': 1452},\n",
       "   {'transaction-id': 206, 'amount': 1359},\n",
       "   {'transaction-id': 378, 'amount': 1355},\n",
       "   {'transaction-id': 493, 'amount': 1363},\n",
       "   {'transaction-id': 579, 'amount': 1274},\n",
       "   {'transaction-id': 595, 'amount': 1400},\n",
       "   {'transaction-id': 806, 'amount': 1435},\n",
       "   {'transaction-id': 825, 'amount': 1424},\n",
       "   {'transaction-id': 839, 'amount': 1292},\n",
       "   {'transaction-id': 886, 'amount': 1356},\n",
       "   {'transaction-id': 983, 'amount': 1434},\n",
       "   {'transaction-id': 1036, 'amount': 1285},\n",
       "   {'transaction-id': 1212, 'amount': 1443},\n",
       "   {'transaction-id': 1711, 'amount': 1458},\n",
       "   {'transaction-id': 1748, 'amount': 1482},\n",
       "   {'transaction-id': 1873, 'amount': 1420},\n",
       "   {'transaction-id': 2231, 'amount': 1301},\n",
       "   {'transaction-id': 2245, 'amount': 1394},\n",
       "   {'transaction-id': 2306, 'amount': 1383},\n",
       "   {'transaction-id': 2339, 'amount': 1391},\n",
       "   {'transaction-id': 2366, 'amount': 1391},\n",
       "   {'transaction-id': 2478, 'amount': 1350},\n",
       "   {'transaction-id': 2534, 'amount': 1402},\n",
       "   {'transaction-id': 2689, 'amount': 1232},\n",
       "   {'transaction-id': 2727, 'amount': 1383},\n",
       "   {'transaction-id': 2856, 'amount': 1343},\n",
       "   {'transaction-id': 2874, 'amount': 1377},\n",
       "   {'transaction-id': 2943, 'amount': 1444},\n",
       "   {'transaction-id': 3131, 'amount': 1387},\n",
       "   {'transaction-id': 3181, 'amount': 1337},\n",
       "   {'transaction-id': 3304, 'amount': 1492},\n",
       "   {'transaction-id': 3321, 'amount': 1407},\n",
       "   {'transaction-id': 3442, 'amount': 1365},\n",
       "   {'transaction-id': 3489, 'amount': 1353},\n",
       "   {'transaction-id': 3600, 'amount': 1378},\n",
       "   {'transaction-id': 3869, 'amount': 1337},\n",
       "   {'transaction-id': 4001, 'amount': 1390},\n",
       "   {'transaction-id': 4108, 'amount': 1418},\n",
       "   {'transaction-id': 4251, 'amount': 1338},\n",
       "   {'transaction-id': 4358, 'amount': 1392},\n",
       "   {'transaction-id': 4379, 'amount': 1428},\n",
       "   {'transaction-id': 4398, 'amount': 1355},\n",
       "   {'transaction-id': 4509, 'amount': 1348},\n",
       "   {'transaction-id': 4557, 'amount': 1340},\n",
       "   {'transaction-id': 4770, 'amount': 1335},\n",
       "   {'transaction-id': 4835, 'amount': 1289},\n",
       "   {'transaction-id': 4913, 'amount': 1482},\n",
       "   {'transaction-id': 4963, 'amount': 1445},\n",
       "   {'transaction-id': 5024, 'amount': 1351},\n",
       "   {'transaction-id': 5180, 'amount': 1319},\n",
       "   {'transaction-id': 5238, 'amount': 1331},\n",
       "   {'transaction-id': 5548, 'amount': 1507},\n",
       "   {'transaction-id': 5559, 'amount': 1440},\n",
       "   {'transaction-id': 5642, 'amount': 1419},\n",
       "   {'transaction-id': 5692, 'amount': 1370},\n",
       "   {'transaction-id': 5816, 'amount': 1275},\n",
       "   {'transaction-id': 5826, 'amount': 1476},\n",
       "   {'transaction-id': 5962, 'amount': 1419},\n",
       "   {'transaction-id': 5967, 'amount': 1374},\n",
       "   {'transaction-id': 6074, 'amount': 1435},\n",
       "   {'transaction-id': 6201, 'amount': 1275},\n",
       "   {'transaction-id': 6495, 'amount': 1391},\n",
       "   {'transaction-id': 6631, 'amount': 1505},\n",
       "   {'transaction-id': 6675, 'amount': 1398},\n",
       "   {'transaction-id': 6764, 'amount': 1403},\n",
       "   {'transaction-id': 6816, 'amount': 1370},\n",
       "   {'transaction-id': 6887, 'amount': 1380},\n",
       "   {'transaction-id': 6903, 'amount': 1427},\n",
       "   {'transaction-id': 6927, 'amount': 1294},\n",
       "   {'transaction-id': 6988, 'amount': 1362},\n",
       "   {'transaction-id': 7131, 'amount': 1363},\n",
       "   {'transaction-id': 7193, 'amount': 1384},\n",
       "   {'transaction-id': 7268, 'amount': 1438},\n",
       "   {'transaction-id': 7400, 'amount': 1504},\n",
       "   {'transaction-id': 7452, 'amount': 1348},\n",
       "   {'transaction-id': 7487, 'amount': 1460},\n",
       "   {'transaction-id': 7641, 'amount': 1357},\n",
       "   {'transaction-id': 7787, 'amount': 1403},\n",
       "   {'transaction-id': 7844, 'amount': 1412},\n",
       "   {'transaction-id': 7994, 'amount': 1438},\n",
       "   {'transaction-id': 8174, 'amount': 1432},\n",
       "   {'transaction-id': 8227, 'amount': 1402},\n",
       "   {'transaction-id': 8278, 'amount': 1326},\n",
       "   {'transaction-id': 8370, 'amount': 1395},\n",
       "   {'transaction-id': 8461, 'amount': 1420},\n",
       "   {'transaction-id': 9116, 'amount': 1339},\n",
       "   {'transaction-id': 9157, 'amount': 1373},\n",
       "   {'transaction-id': 9172, 'amount': 1435},\n",
       "   {'transaction-id': 9187, 'amount': 1384},\n",
       "   {'transaction-id': 9270, 'amount': 1478},\n",
       "   {'transaction-id': 9275, 'amount': 1440},\n",
       "   {'transaction-id': 9655, 'amount': 1481},\n",
       "   {'transaction-id': 9831, 'amount': 1455},\n",
       "   {'transaction-id': 9833, 'amount': 1432},\n",
       "   {'transaction-id': 9898, 'amount': 1353},\n",
       "   {'transaction-id': 9913, 'amount': 1330},\n",
       "   {'transaction-id': 9947, 'amount': 1329}]},\n",
       " {'id': 2,\n",
       "  'name': 'Patricia',\n",
       "  'transactions': [{'transaction-id': 228, 'amount': 200},\n",
       "   {'transaction-id': 788, 'amount': 279},\n",
       "   {'transaction-id': 1019, 'amount': 206},\n",
       "   {'transaction-id': 1227, 'amount': 245},\n",
       "   {'transaction-id': 1424, 'amount': 186},\n",
       "   {'transaction-id': 1490, 'amount': 178},\n",
       "   {'transaction-id': 1625, 'amount': 206},\n",
       "   {'transaction-id': 1655, 'amount': 271},\n",
       "   {'transaction-id': 1664, 'amount': 262},\n",
       "   {'transaction-id': 1940, 'amount': 163},\n",
       "   {'transaction-id': 1973, 'amount': 237},\n",
       "   {'transaction-id': 2127, 'amount': 203},\n",
       "   {'transaction-id': 2431, 'amount': 205},\n",
       "   {'transaction-id': 2457, 'amount': 227},\n",
       "   {'transaction-id': 2678, 'amount': 179},\n",
       "   {'transaction-id': 2737, 'amount': 199},\n",
       "   {'transaction-id': 2809, 'amount': 249},\n",
       "   {'transaction-id': 2812, 'amount': 269},\n",
       "   {'transaction-id': 2965, 'amount': 191},\n",
       "   {'transaction-id': 2971, 'amount': 272},\n",
       "   {'transaction-id': 3011, 'amount': 190},\n",
       "   {'transaction-id': 3305, 'amount': 171},\n",
       "   {'transaction-id': 3529, 'amount': 178},\n",
       "   {'transaction-id': 3843, 'amount': 189},\n",
       "   {'transaction-id': 4620, 'amount': 192},\n",
       "   {'transaction-id': 4697, 'amount': 251},\n",
       "   {'transaction-id': 4932, 'amount': 286},\n",
       "   {'transaction-id': 4977, 'amount': 191},\n",
       "   {'transaction-id': 5535, 'amount': 232},\n",
       "   {'transaction-id': 5549, 'amount': 222},\n",
       "   {'transaction-id': 5738, 'amount': 204},\n",
       "   {'transaction-id': 5769, 'amount': 349},\n",
       "   {'transaction-id': 5899, 'amount': 239},\n",
       "   {'transaction-id': 6042, 'amount': 242},\n",
       "   {'transaction-id': 6589, 'amount': 276},\n",
       "   {'transaction-id': 7121, 'amount': 312},\n",
       "   {'transaction-id': 7260, 'amount': 293},\n",
       "   {'transaction-id': 7393, 'amount': 259},\n",
       "   {'transaction-id': 7595, 'amount': 197},\n",
       "   {'transaction-id': 7598, 'amount': 168},\n",
       "   {'transaction-id': 8191, 'amount': 276},\n",
       "   {'transaction-id': 8559, 'amount': 206},\n",
       "   {'transaction-id': 8711, 'amount': 292},\n",
       "   {'transaction-id': 9027, 'amount': 251},\n",
       "   {'transaction-id': 9155, 'amount': 161},\n",
       "   {'transaction-id': 9214, 'amount': 237},\n",
       "   {'transaction-id': 9221, 'amount': 203},\n",
       "   {'transaction-id': 9261, 'amount': 251},\n",
       "   {'transaction-id': 9852, 'amount': 254},\n",
       "   {'transaction-id': 9867, 'amount': 227},\n",
       "   {'transaction-id': 9930, 'amount': 241}]})"
      ]
     },
     "execution_count": 10,
     "metadata": {},
     "output_type": "execute_result"
    }
   ],
   "source": [
    "import json\n",
    "js = lines.map(json.loads)\n",
    "# take: inspect first few elements\n",
    "js.take(3)"
   ]
  },
  {
   "cell_type": "markdown",
   "metadata": {},
   "source": [
    "### Basic Queries"
   ]
  },
  {
   "cell_type": "markdown",
   "metadata": {},
   "source": [
    "Once we parse our JSON data into proper Python objects (`dict`s, `list`s, etc.) we can perform more interesting queries by creating small Python functions to run on our data."
   ]
  },
  {
   "cell_type": "code",
   "execution_count": 11,
   "metadata": {
    "execution": {
     "iopub.execute_input": "2021-11-30T00:42:41.541359Z",
     "iopub.status.busy": "2021-11-30T00:42:41.540295Z",
     "iopub.status.idle": "2021-11-30T00:42:41.577082Z",
     "shell.execute_reply": "2021-11-30T00:42:41.576662Z"
    }
   },
   "outputs": [
    {
     "data": {
      "text/plain": [
       "({'id': 51,\n",
       "  'name': 'Alice',\n",
       "  'transactions': [{'transaction-id': 781, 'amount': 697},\n",
       "   {'transaction-id': 1399, 'amount': 721},\n",
       "   {'transaction-id': 1441, 'amount': 753},\n",
       "   {'transaction-id': 1875, 'amount': 659},\n",
       "   {'transaction-id': 1930, 'amount': 703},\n",
       "   {'transaction-id': 2491, 'amount': 635},\n",
       "   {'transaction-id': 2555, 'amount': 664},\n",
       "   {'transaction-id': 2610, 'amount': 719},\n",
       "   {'transaction-id': 2814, 'amount': 706},\n",
       "   {'transaction-id': 3067, 'amount': 762},\n",
       "   {'transaction-id': 3257, 'amount': 659},\n",
       "   {'transaction-id': 3276, 'amount': 740},\n",
       "   {'transaction-id': 3723, 'amount': 658},\n",
       "   {'transaction-id': 3844, 'amount': 658},\n",
       "   {'transaction-id': 3973, 'amount': 805},\n",
       "   {'transaction-id': 4204, 'amount': 745},\n",
       "   {'transaction-id': 4534, 'amount': 755},\n",
       "   {'transaction-id': 4589, 'amount': 713},\n",
       "   {'transaction-id': 4942, 'amount': 728},\n",
       "   {'transaction-id': 5083, 'amount': 710},\n",
       "   {'transaction-id': 5290, 'amount': 777},\n",
       "   {'transaction-id': 5298, 'amount': 714},\n",
       "   {'transaction-id': 5809, 'amount': 695},\n",
       "   {'transaction-id': 6136, 'amount': 762},\n",
       "   {'transaction-id': 6211, 'amount': 681},\n",
       "   {'transaction-id': 6534, 'amount': 710},\n",
       "   {'transaction-id': 6582, 'amount': 751},\n",
       "   {'transaction-id': 6994, 'amount': 812},\n",
       "   {'transaction-id': 7055, 'amount': 696},\n",
       "   {'transaction-id': 7224, 'amount': 751},\n",
       "   {'transaction-id': 7309, 'amount': 758},\n",
       "   {'transaction-id': 7526, 'amount': 733},\n",
       "   {'transaction-id': 7776, 'amount': 661},\n",
       "   {'transaction-id': 8088, 'amount': 694},\n",
       "   {'transaction-id': 8147, 'amount': 671},\n",
       "   {'transaction-id': 8255, 'amount': 775},\n",
       "   {'transaction-id': 9423, 'amount': 686},\n",
       "   {'transaction-id': 9839, 'amount': 638}]},\n",
       " {'id': 105,\n",
       "  'name': 'Alice',\n",
       "  'transactions': [{'transaction-id': 319, 'amount': 0},\n",
       "   {'transaction-id': 838, 'amount': 0},\n",
       "   {'transaction-id': 1539, 'amount': 5},\n",
       "   {'transaction-id': 1818, 'amount': 5},\n",
       "   {'transaction-id': 1834, 'amount': 2},\n",
       "   {'transaction-id': 1844, 'amount': 8},\n",
       "   {'transaction-id': 2105, 'amount': 9},\n",
       "   {'transaction-id': 2788, 'amount': 3},\n",
       "   {'transaction-id': 2839, 'amount': 6},\n",
       "   {'transaction-id': 2847, 'amount': 9},\n",
       "   {'transaction-id': 2929, 'amount': 6},\n",
       "   {'transaction-id': 3026, 'amount': 10},\n",
       "   {'transaction-id': 3126, 'amount': 8},\n",
       "   {'transaction-id': 3159, 'amount': 3},\n",
       "   {'transaction-id': 3570, 'amount': 3},\n",
       "   {'transaction-id': 3718, 'amount': 5},\n",
       "   {'transaction-id': 5061, 'amount': 10},\n",
       "   {'transaction-id': 5599, 'amount': 6},\n",
       "   {'transaction-id': 6111, 'amount': 4},\n",
       "   {'transaction-id': 7446, 'amount': 4},\n",
       "   {'transaction-id': 7594, 'amount': 2},\n",
       "   {'transaction-id': 7783, 'amount': 9},\n",
       "   {'transaction-id': 7800, 'amount': 5},\n",
       "   {'transaction-id': 7861, 'amount': 0},\n",
       "   {'transaction-id': 8248, 'amount': 3},\n",
       "   {'transaction-id': 9173, 'amount': 9},\n",
       "   {'transaction-id': 9233, 'amount': 8}]},\n",
       " {'id': 106,\n",
       "  'name': 'Alice',\n",
       "  'transactions': [{'transaction-id': 7308, 'amount': -543}]},\n",
       " {'id': 152,\n",
       "  'name': 'Alice',\n",
       "  'transactions': [{'transaction-id': 40, 'amount': 164},\n",
       "   {'transaction-id': 526, 'amount': 167},\n",
       "   {'transaction-id': 693, 'amount': 161},\n",
       "   {'transaction-id': 829, 'amount': 189},\n",
       "   {'transaction-id': 1022, 'amount': 154},\n",
       "   {'transaction-id': 1096, 'amount': 168},\n",
       "   {'transaction-id': 1254, 'amount': 152},\n",
       "   {'transaction-id': 1496, 'amount': 174},\n",
       "   {'transaction-id': 1550, 'amount': 180},\n",
       "   {'transaction-id': 2668, 'amount': 149},\n",
       "   {'transaction-id': 3264, 'amount': 163},\n",
       "   {'transaction-id': 3335, 'amount': 186},\n",
       "   {'transaction-id': 3432, 'amount': 176},\n",
       "   {'transaction-id': 3499, 'amount': 157},\n",
       "   {'transaction-id': 3661, 'amount': 184},\n",
       "   {'transaction-id': 3699, 'amount': 172},\n",
       "   {'transaction-id': 3736, 'amount': 158},\n",
       "   {'transaction-id': 3838, 'amount': 186},\n",
       "   {'transaction-id': 4115, 'amount': 174},\n",
       "   {'transaction-id': 4154, 'amount': 168},\n",
       "   {'transaction-id': 4690, 'amount': 175},\n",
       "   {'transaction-id': 4907, 'amount': 165},\n",
       "   {'transaction-id': 4918, 'amount': 177},\n",
       "   {'transaction-id': 5283, 'amount': 171},\n",
       "   {'transaction-id': 5318, 'amount': 146},\n",
       "   {'transaction-id': 5542, 'amount': 167},\n",
       "   {'transaction-id': 6437, 'amount': 157},\n",
       "   {'transaction-id': 6838, 'amount': 173},\n",
       "   {'transaction-id': 6897, 'amount': 190},\n",
       "   {'transaction-id': 7132, 'amount': 168},\n",
       "   {'transaction-id': 7242, 'amount': 168},\n",
       "   {'transaction-id': 7780, 'amount': 171},\n",
       "   {'transaction-id': 7913, 'amount': 151},\n",
       "   {'transaction-id': 8061, 'amount': 169},\n",
       "   {'transaction-id': 8087, 'amount': 168},\n",
       "   {'transaction-id': 8296, 'amount': 165},\n",
       "   {'transaction-id': 8366, 'amount': 168},\n",
       "   {'transaction-id': 8400, 'amount': 190},\n",
       "   {'transaction-id': 8767, 'amount': 162},\n",
       "   {'transaction-id': 8779, 'amount': 160},\n",
       "   {'transaction-id': 9126, 'amount': 183},\n",
       "   {'transaction-id': 9476, 'amount': 168},\n",
       "   {'transaction-id': 9543, 'amount': 186},\n",
       "   {'transaction-id': 9701, 'amount': 186}]},\n",
       " {'id': 160,\n",
       "  'name': 'Alice',\n",
       "  'transactions': [{'transaction-id': 1692, 'amount': 655},\n",
       "   {'transaction-id': 3670, 'amount': 472},\n",
       "   {'transaction-id': 5516, 'amount': 489},\n",
       "   {'transaction-id': 6891, 'amount': 494}]})"
      ]
     },
     "execution_count": 11,
     "metadata": {},
     "output_type": "execute_result"
    }
   ],
   "source": [
    "# filter: keep only some elements of the sequence\n",
    "js.filter(lambda record: record['name'] == 'Alice').take(5)"
   ]
  },
  {
   "cell_type": "code",
   "execution_count": 12,
   "metadata": {
    "execution": {
     "iopub.execute_input": "2021-11-30T00:42:41.588896Z",
     "iopub.status.busy": "2021-11-30T00:42:41.588168Z",
     "iopub.status.idle": "2021-11-30T00:42:41.612086Z",
     "shell.execute_reply": "2021-11-30T00:42:41.612865Z"
    }
   },
   "outputs": [
    {
     "data": {
      "text/plain": [
       "({'name': 'Alice', 'count': 38},\n",
       " {'name': 'Alice', 'count': 27},\n",
       " {'name': 'Alice', 'count': 1},\n",
       " {'name': 'Alice', 'count': 44},\n",
       " {'name': 'Alice', 'count': 4})"
      ]
     },
     "execution_count": 12,
     "metadata": {},
     "output_type": "execute_result"
    }
   ],
   "source": [
    "def count_transactions(d):\n",
    "    return {'name': d['name'], 'count': len(d['transactions'])}\n",
    "\n",
    "# map: apply a function to each element\n",
    "(js.filter(lambda record: record['name'] == 'Alice')\n",
    "   .map(count_transactions)\n",
    "   .take(5))"
   ]
  },
  {
   "cell_type": "code",
   "execution_count": 13,
   "metadata": {
    "execution": {
     "iopub.execute_input": "2021-11-30T00:42:41.623079Z",
     "iopub.status.busy": "2021-11-30T00:42:41.622490Z",
     "iopub.status.idle": "2021-11-30T00:42:41.644961Z",
     "shell.execute_reply": "2021-11-30T00:42:41.645528Z"
    }
   },
   "outputs": [
    {
     "data": {
      "text/plain": [
       "(38, 27, 1, 44, 4)"
      ]
     },
     "execution_count": 13,
     "metadata": {},
     "output_type": "execute_result"
    }
   ],
   "source": [
    "# pluck: select a field, as from a dictionary, element[field]\n",
    "(js.filter(lambda record: record['name'] == 'Alice')\n",
    "   .map(count_transactions)\n",
    "   .pluck('count')\n",
    "   .take(5))"
   ]
  },
  {
   "cell_type": "code",
   "execution_count": 14,
   "metadata": {
    "execution": {
     "iopub.execute_input": "2021-11-30T00:42:41.667861Z",
     "iopub.status.busy": "2021-11-30T00:42:41.667246Z",
     "iopub.status.idle": "2021-11-30T00:42:42.148057Z",
     "shell.execute_reply": "2021-11-30T00:42:42.148525Z"
    }
   },
   "outputs": [
    {
     "data": {
      "text/plain": [
       "32.425891181988746"
      ]
     },
     "execution_count": 14,
     "metadata": {},
     "output_type": "execute_result"
    }
   ],
   "source": [
    "# Average number of transactions for all of the Alice entries\n",
    "(js.filter(lambda record: record['name'] == 'Alice')\n",
    "   .map(count_transactions)\n",
    "   .pluck('count')\n",
    "   .mean()\n",
    "   .compute())"
   ]
  },
  {
   "cell_type": "markdown",
   "metadata": {},
   "source": [
    "### Use `flatten` to de-nest"
   ]
  },
  {
   "cell_type": "markdown",
   "metadata": {},
   "source": [
    "In the example below we see the use of `.flatten()` to flatten results.  We compute the average amount for all transactions for all Alices."
   ]
  },
  {
   "cell_type": "code",
   "execution_count": 15,
   "metadata": {
    "execution": {
     "iopub.execute_input": "2021-11-30T00:42:42.162476Z",
     "iopub.status.busy": "2021-11-30T00:42:42.154329Z",
     "iopub.status.idle": "2021-11-30T00:42:42.187337Z",
     "shell.execute_reply": "2021-11-30T00:42:42.186915Z"
    }
   },
   "outputs": [
    {
     "data": {
      "text/plain": [
       "([{'transaction-id': 781, 'amount': 697},\n",
       "  {'transaction-id': 1399, 'amount': 721},\n",
       "  {'transaction-id': 1441, 'amount': 753},\n",
       "  {'transaction-id': 1875, 'amount': 659},\n",
       "  {'transaction-id': 1930, 'amount': 703},\n",
       "  {'transaction-id': 2491, 'amount': 635},\n",
       "  {'transaction-id': 2555, 'amount': 664},\n",
       "  {'transaction-id': 2610, 'amount': 719},\n",
       "  {'transaction-id': 2814, 'amount': 706},\n",
       "  {'transaction-id': 3067, 'amount': 762},\n",
       "  {'transaction-id': 3257, 'amount': 659},\n",
       "  {'transaction-id': 3276, 'amount': 740},\n",
       "  {'transaction-id': 3723, 'amount': 658},\n",
       "  {'transaction-id': 3844, 'amount': 658},\n",
       "  {'transaction-id': 3973, 'amount': 805},\n",
       "  {'transaction-id': 4204, 'amount': 745},\n",
       "  {'transaction-id': 4534, 'amount': 755},\n",
       "  {'transaction-id': 4589, 'amount': 713},\n",
       "  {'transaction-id': 4942, 'amount': 728},\n",
       "  {'transaction-id': 5083, 'amount': 710},\n",
       "  {'transaction-id': 5290, 'amount': 777},\n",
       "  {'transaction-id': 5298, 'amount': 714},\n",
       "  {'transaction-id': 5809, 'amount': 695},\n",
       "  {'transaction-id': 6136, 'amount': 762},\n",
       "  {'transaction-id': 6211, 'amount': 681},\n",
       "  {'transaction-id': 6534, 'amount': 710},\n",
       "  {'transaction-id': 6582, 'amount': 751},\n",
       "  {'transaction-id': 6994, 'amount': 812},\n",
       "  {'transaction-id': 7055, 'amount': 696},\n",
       "  {'transaction-id': 7224, 'amount': 751},\n",
       "  {'transaction-id': 7309, 'amount': 758},\n",
       "  {'transaction-id': 7526, 'amount': 733},\n",
       "  {'transaction-id': 7776, 'amount': 661},\n",
       "  {'transaction-id': 8088, 'amount': 694},\n",
       "  {'transaction-id': 8147, 'amount': 671},\n",
       "  {'transaction-id': 8255, 'amount': 775},\n",
       "  {'transaction-id': 9423, 'amount': 686},\n",
       "  {'transaction-id': 9839, 'amount': 638}],\n",
       " [{'transaction-id': 319, 'amount': 0},\n",
       "  {'transaction-id': 838, 'amount': 0},\n",
       "  {'transaction-id': 1539, 'amount': 5},\n",
       "  {'transaction-id': 1818, 'amount': 5},\n",
       "  {'transaction-id': 1834, 'amount': 2},\n",
       "  {'transaction-id': 1844, 'amount': 8},\n",
       "  {'transaction-id': 2105, 'amount': 9},\n",
       "  {'transaction-id': 2788, 'amount': 3},\n",
       "  {'transaction-id': 2839, 'amount': 6},\n",
       "  {'transaction-id': 2847, 'amount': 9},\n",
       "  {'transaction-id': 2929, 'amount': 6},\n",
       "  {'transaction-id': 3026, 'amount': 10},\n",
       "  {'transaction-id': 3126, 'amount': 8},\n",
       "  {'transaction-id': 3159, 'amount': 3},\n",
       "  {'transaction-id': 3570, 'amount': 3},\n",
       "  {'transaction-id': 3718, 'amount': 5},\n",
       "  {'transaction-id': 5061, 'amount': 10},\n",
       "  {'transaction-id': 5599, 'amount': 6},\n",
       "  {'transaction-id': 6111, 'amount': 4},\n",
       "  {'transaction-id': 7446, 'amount': 4},\n",
       "  {'transaction-id': 7594, 'amount': 2},\n",
       "  {'transaction-id': 7783, 'amount': 9},\n",
       "  {'transaction-id': 7800, 'amount': 5},\n",
       "  {'transaction-id': 7861, 'amount': 0},\n",
       "  {'transaction-id': 8248, 'amount': 3},\n",
       "  {'transaction-id': 9173, 'amount': 9},\n",
       "  {'transaction-id': 9233, 'amount': 8}],\n",
       " [{'transaction-id': 7308, 'amount': -543}])"
      ]
     },
     "execution_count": 15,
     "metadata": {},
     "output_type": "execute_result"
    }
   ],
   "source": [
    "(js.filter(lambda record: record['name'] == 'Alice')\n",
    "   .pluck('transactions')\n",
    "   .take(3))"
   ]
  },
  {
   "cell_type": "code",
   "execution_count": 16,
   "metadata": {
    "execution": {
     "iopub.execute_input": "2021-11-30T00:42:42.192214Z",
     "iopub.status.busy": "2021-11-30T00:42:42.191713Z",
     "iopub.status.idle": "2021-11-30T00:42:42.214094Z",
     "shell.execute_reply": "2021-11-30T00:42:42.213654Z"
    }
   },
   "outputs": [
    {
     "data": {
      "text/plain": [
       "({'transaction-id': 781, 'amount': 697},\n",
       " {'transaction-id': 1399, 'amount': 721},\n",
       " {'transaction-id': 1441, 'amount': 753})"
      ]
     },
     "execution_count": 16,
     "metadata": {},
     "output_type": "execute_result"
    }
   ],
   "source": [
    "(js.filter(lambda record: record['name'] == 'Alice')\n",
    "   .pluck('transactions')\n",
    "   .flatten()\n",
    "   .take(3))"
   ]
  },
  {
   "cell_type": "code",
   "execution_count": 17,
   "metadata": {
    "execution": {
     "iopub.execute_input": "2021-11-30T00:42:42.224738Z",
     "iopub.status.busy": "2021-11-30T00:42:42.219341Z",
     "iopub.status.idle": "2021-11-30T00:42:42.243371Z",
     "shell.execute_reply": "2021-11-30T00:42:42.243926Z"
    }
   },
   "outputs": [
    {
     "data": {
      "text/plain": [
       "(697, 721, 753)"
      ]
     },
     "execution_count": 17,
     "metadata": {},
     "output_type": "execute_result"
    }
   ],
   "source": [
    "(js.filter(lambda record: record['name'] == 'Alice')\n",
    "   .pluck('transactions')\n",
    "   .flatten()\n",
    "   .pluck('amount')\n",
    "   .take(3))"
   ]
  },
  {
   "cell_type": "code",
   "execution_count": 18,
   "metadata": {
    "execution": {
     "iopub.execute_input": "2021-11-30T00:42:42.260834Z",
     "iopub.status.busy": "2021-11-30T00:42:42.254665Z",
     "iopub.status.idle": "2021-11-30T00:42:42.742450Z",
     "shell.execute_reply": "2021-11-30T00:42:42.743202Z"
    }
   },
   "outputs": [
    {
     "data": {
      "text/plain": [
       "1091.2389631429728"
      ]
     },
     "execution_count": 18,
     "metadata": {},
     "output_type": "execute_result"
    }
   ],
   "source": [
    "(js.filter(lambda record: record['name'] == 'Alice')\n",
    "   .pluck('transactions')\n",
    "   .flatten()\n",
    "   .pluck('amount')\n",
    "   .mean()\n",
    "   .compute())"
   ]
  },
  {
   "cell_type": "markdown",
   "metadata": {},
   "source": [
    "### Groupby and Foldby"
   ]
  },
  {
   "cell_type": "markdown",
   "metadata": {},
   "source": [
    "Often we want to group data by some function or key.  We can do this either with the `.groupby` method, which is straightforward but forces a full shuffle of the data (expensive) or with the harder-to-use but faster `.foldby` method, which does a streaming combined groupby and reduction.\n",
    "\n",
    "*  `groupby`:  Shuffles data so that all items with the same key are in the same key-value pair\n",
    "*  `foldby`:  Walks through the data accumulating a result per key\n",
    "\n",
    "*Note: the full groupby is particularly bad. In actual workloads you would do well to use `foldby` or switch to `DataFrame`s if possible.*"
   ]
  },
  {
   "cell_type": "markdown",
   "metadata": {},
   "source": [
    "### `groupby`"
   ]
  },
  {
   "cell_type": "markdown",
   "metadata": {},
   "source": [
    "Groupby collects items in your collection so that all items with the same value under some function are collected together into a key-value pair."
   ]
  },
  {
   "cell_type": "code",
   "execution_count": 19,
   "metadata": {
    "execution": {
     "iopub.execute_input": "2021-11-30T00:42:42.763877Z",
     "iopub.status.busy": "2021-11-30T00:42:42.763311Z",
     "iopub.status.idle": "2021-11-30T00:42:42.877718Z",
     "shell.execute_reply": "2021-11-30T00:42:42.876693Z"
    }
   },
   "outputs": [
    {
     "data": {
      "text/plain": [
       "[(7, ['Charlie']), (3, ['Bob', 'Dan']), (5, ['Alice', 'Edith', 'Frank'])]"
      ]
     },
     "execution_count": 19,
     "metadata": {},
     "output_type": "execute_result"
    }
   ],
   "source": [
    "b = db.from_sequence(['Alice', 'Bob', 'Charlie', 'Dan', 'Edith', 'Frank'])\n",
    "b.groupby(len).compute()  # names grouped by length"
   ]
  },
  {
   "cell_type": "code",
   "execution_count": 20,
   "metadata": {
    "execution": {
     "iopub.execute_input": "2021-11-30T00:42:42.894173Z",
     "iopub.status.busy": "2021-11-30T00:42:42.880537Z",
     "iopub.status.idle": "2021-11-30T00:42:43.072111Z",
     "shell.execute_reply": "2021-11-30T00:42:43.072520Z"
    }
   },
   "outputs": [
    {
     "data": {
      "text/plain": [
       "[(0, [0, 2, 4, 6, 8]), (1, [1, 3, 5, 7, 9])]"
      ]
     },
     "execution_count": 20,
     "metadata": {},
     "output_type": "execute_result"
    }
   ],
   "source": [
    "b = db.from_sequence(list(range(10)))\n",
    "b.groupby(lambda x: x % 2).compute()"
   ]
  },
  {
   "cell_type": "code",
   "execution_count": 21,
   "metadata": {
    "execution": {
     "iopub.execute_input": "2021-11-30T00:42:43.168821Z",
     "iopub.status.busy": "2021-11-30T00:42:43.168241Z",
     "iopub.status.idle": "2021-11-30T00:42:43.369556Z",
     "shell.execute_reply": "2021-11-30T00:42:43.370147Z"
    }
   },
   "outputs": [
    {
     "data": {
      "text/plain": [
       "[(0, 8), (1, 9)]"
      ]
     },
     "execution_count": 21,
     "metadata": {},
     "output_type": "execute_result"
    }
   ],
   "source": [
    "b.groupby(lambda x: x % 2).starmap(lambda k, v: (k, max(v))).compute()"
   ]
  },
  {
   "cell_type": "markdown",
   "metadata": {},
   "source": [
    "### `foldby`"
   ]
  },
  {
   "cell_type": "markdown",
   "metadata": {},
   "source": [
    "Foldby can be quite odd at first.  It is similar to the following functions from other libraries:\n",
    "\n",
    "*  [`toolz.reduceby`](http://toolz.readthedocs.io/en/latest/streaming-analytics.html#streaming-split-apply-combine)\n",
    "*  [`pyspark.RDD.combineByKey`](http://abshinn.github.io/python/apache-spark/2014/10/11/using-combinebykey-in-apache-spark/)\n",
    "\n",
    "When using `foldby` you provide \n",
    "\n",
    "1.  A key function on which to group elements\n",
    "2.  A binary operator such as you would pass to `reduce` that you use to perform reduction per each group\n",
    "3.  A combine binary operator that can combine the results of two `reduce` calls on different parts of your dataset.\n",
    "\n",
    "Your reduction must be associative.  It will happen in parallel in each of the partitions of your dataset.  Then all of these intermediate results will be combined by the `combine` binary operator."
   ]
  },
  {
   "cell_type": "code",
   "execution_count": 22,
   "metadata": {
    "execution": {
     "iopub.execute_input": "2021-11-30T00:42:43.381878Z",
     "iopub.status.busy": "2021-11-30T00:42:43.379162Z",
     "iopub.status.idle": "2021-11-30T00:42:43.430496Z",
     "shell.execute_reply": "2021-11-30T00:42:43.429641Z"
    }
   },
   "outputs": [
    {
     "data": {
      "text/plain": [
       "[(0, 8), (1, 9)]"
      ]
     },
     "execution_count": 22,
     "metadata": {},
     "output_type": "execute_result"
    }
   ],
   "source": [
    "b.foldby(lambda x: x % 2, binop=max, combine=max).compute()"
   ]
  },
  {
   "cell_type": "markdown",
   "metadata": {},
   "source": [
    "### Example with account data"
   ]
  },
  {
   "cell_type": "markdown",
   "metadata": {},
   "source": [
    "We find the number of people with the same name."
   ]
  },
  {
   "cell_type": "code",
   "execution_count": 23,
   "metadata": {
    "execution": {
     "iopub.execute_input": "2021-11-30T00:42:43.438975Z",
     "iopub.status.busy": "2021-11-30T00:42:43.433069Z",
     "iopub.status.idle": "2021-11-30T00:42:49.026139Z",
     "shell.execute_reply": "2021-11-30T00:42:49.025658Z"
    }
   },
   "outputs": [
    {
     "name": "stdout",
     "output_type": "stream",
     "text": [
      "[('Alice', 127), ('Alice', 128), ('Alice', 129), ('Alice', 149), ('Bob', 156), ('Bob', 156), ('Bob', 156), ('Bob', 182), ('Charlie', 72), ('Charlie', 72), ('Charlie', 72), ('Charlie', 83), ('Dan', 108), ('Dan', 108), ('Dan', 108), ('Dan', 126), ('Edith', 60), ('Edith', 60), ('Edith', 60), ('Edith', 70), ('Frank', 144), ('Frank', 144), ('Frank', 144), ('Frank', 168), ('George', 132), ('George', 132), ('George', 132), ('George', 154), ('Hannah', 100), ('Hannah', 101), ('Hannah', 104), ('Hannah', 116), ('Ingrid', 107), ('Ingrid', 108), ('Ingrid', 108), ('Ingrid', 126), ('Jerry', 101), ('Jerry', 104), ('Jerry', 105), ('Jerry', 119), ('Kevin', 177), ('Kevin', 177), ('Kevin', 177), ('Kevin', 209), ('Laura', 60), ('Laura', 60), ('Laura', 60), ('Laura', 70), ('Michael', 48), ('Michael', 48), ('Michael', 48), ('Michael', 56), ('Norbert', 84), ('Norbert', 84), ('Norbert', 84), ('Norbert', 98), ('Oliver', 167), ('Oliver', 167), ('Oliver', 168), ('Oliver', 196), ('Patricia', 139), ('Patricia', 140), ('Patricia', 142), ('Patricia', 166), ('Quinn', 175), ('Quinn', 178), ('Quinn', 178), ('Quinn', 204), ('Ray', 130), ('Ray', 131), ('Ray', 132), ('Ray', 154), ('Sarah', 129), ('Sarah', 133), ('Sarah', 138), ('Sarah', 154), ('Tim', 96), ('Tim', 96), ('Tim', 96), ('Tim', 112), ('Ursula', 84), ('Ursula', 84), ('Ursula', 84), ('Ursula', 98), ('Victor', 65), ('Victor', 67), ('Victor', 68), ('Victor', 77), ('Wendy', 72), ('Wendy', 72), ('Wendy', 72), ('Wendy', 84), ('Xavier', 148), ('Xavier', 150), ('Xavier', 151), ('Xavier', 174), ('Yvonne', 108), ('Yvonne', 108), ('Yvonne', 108), ('Yvonne', 126), ('Zelda', 137), ('Zelda', 138), ('Zelda', 138), ('Zelda', 161)]\n",
      "CPU times: user 1.18 s, sys: 94.7 ms, total: 1.27 s\n",
      "Wall time: 5.58 s\n"
     ]
    }
   ],
   "source": [
    "%%time\n",
    "# Warning, this one takes a while...\n",
    "result = js.groupby(lambda item: item['name']).starmap(lambda k, v: (k, len(v))).compute()\n",
    "print(sorted(result))"
   ]
  },
  {
   "cell_type": "code",
   "execution_count": 24,
   "metadata": {
    "execution": {
     "iopub.execute_input": "2021-11-30T00:42:49.054523Z",
     "iopub.status.busy": "2021-11-30T00:42:49.047282Z",
     "iopub.status.idle": "2021-11-30T00:42:49.551300Z",
     "shell.execute_reply": "2021-11-30T00:42:49.550303Z"
    }
   },
   "outputs": [
    {
     "name": "stdout",
     "output_type": "stream",
     "text": [
      "[('Alice', 533), ('Bob', 650), ('Charlie', 299), ('Dan', 450), ('Edith', 250), ('Frank', 600), ('George', 550), ('Hannah', 421), ('Ingrid', 449), ('Jerry', 429), ('Kevin', 740), ('Laura', 250), ('Michael', 200), ('Norbert', 350), ('Oliver', 698), ('Patricia', 587), ('Quinn', 735), ('Ray', 547), ('Sarah', 554), ('Tim', 400), ('Ursula', 350), ('Victor', 277), ('Wendy', 300), ('Xavier', 623), ('Yvonne', 450), ('Zelda', 574)]\n",
      "CPU times: user 125 ms, sys: 28.3 ms, total: 153 ms\n",
      "Wall time: 506 ms\n"
     ]
    }
   ],
   "source": [
    "%%time\n",
    "# This one is comparatively fast and produces the same result.\n",
    "from operator import add\n",
    "def incr(tot, _):\n",
    "    return tot + 1\n",
    "\n",
    "result = js.foldby(key='name', \n",
    "                   binop=incr, \n",
    "                   initial=0, \n",
    "                   combine=add, \n",
    "                   combine_initial=0).compute()\n",
    "print(sorted(result))"
   ]
  },
  {
   "cell_type": "markdown",
   "metadata": {},
   "source": [
    "### Exercise: compute total amount per name"
   ]
  },
  {
   "cell_type": "markdown",
   "metadata": {},
   "source": [
    "We want to groupby (or foldby) the `name` key, then add up the all of the amounts for each name.\n",
    "\n",
    "Steps\n",
    "\n",
    "1.  Create a small function that, given a dictionary like \n",
    "\n",
    "        {'name': 'Alice', 'transactions': [{'amount': 1, 'id': 123}, {'amount': 2, 'id': 456}]}\n",
    "        \n",
    "    produces the sum of the amounts, e.g. `3`\n",
    "    \n",
    "2.  Slightly change the binary operator of the `foldby` example above so that the binary operator doesn't count the number of entries, but instead accumulates the sum of the amounts."
   ]
  },
  {
   "cell_type": "code",
   "execution_count": 25,
   "metadata": {
    "execution": {
     "iopub.execute_input": "2021-11-30T00:42:49.556130Z",
     "iopub.status.busy": "2021-11-30T00:42:49.555132Z",
     "iopub.status.idle": "2021-11-30T00:42:49.558360Z",
     "shell.execute_reply": "2021-11-30T00:42:49.558976Z"
    }
   },
   "outputs": [],
   "source": [
    "# Your code here..."
   ]
  },
  {
   "cell_type": "markdown",
   "metadata": {},
   "source": [
    "## DataFrames"
   ]
  },
  {
   "cell_type": "markdown",
   "metadata": {},
   "source": [
    "For the same reasons that Pandas is often faster than pure Python, `dask.dataframe` can be faster than `dask.bag`.  We will work more with DataFrames later, but from the point of view of a Bag, it is frequently the end-point of the \"messy\" part of data ingestion—once the data can be made into a data-frame, then complex split-apply-combine logic will become much more straight-forward and efficient.\n",
    "\n",
    "You can transform a bag with a simple tuple or flat dictionary structure into a `dask.dataframe` with the `to_dataframe` method."
   ]
  },
  {
   "cell_type": "code",
   "execution_count": 26,
   "metadata": {
    "execution": {
     "iopub.execute_input": "2021-11-30T00:42:49.563663Z",
     "iopub.status.busy": "2021-11-30T00:42:49.562061Z",
     "iopub.status.idle": "2021-11-30T00:42:50.245132Z",
     "shell.execute_reply": "2021-11-30T00:42:50.244615Z"
    }
   },
   "outputs": [
    {
     "data": {
      "text/html": [
       "<div>\n",
       "<style scoped>\n",
       "    .dataframe tbody tr th:only-of-type {\n",
       "        vertical-align: middle;\n",
       "    }\n",
       "\n",
       "    .dataframe tbody tr th {\n",
       "        vertical-align: top;\n",
       "    }\n",
       "\n",
       "    .dataframe thead th {\n",
       "        text-align: right;\n",
       "    }\n",
       "</style>\n",
       "<table border=\"1\" class=\"dataframe\">\n",
       "  <thead>\n",
       "    <tr style=\"text-align: right;\">\n",
       "      <th></th>\n",
       "      <th>id</th>\n",
       "      <th>name</th>\n",
       "      <th>transactions</th>\n",
       "    </tr>\n",
       "  </thead>\n",
       "  <tbody>\n",
       "    <tr>\n",
       "      <th>0</th>\n",
       "      <td>0</td>\n",
       "      <td>Xavier</td>\n",
       "      <td>[{'transaction-id': 837, 'amount': 161}, {'tra...</td>\n",
       "    </tr>\n",
       "    <tr>\n",
       "      <th>1</th>\n",
       "      <td>1</td>\n",
       "      <td>Oliver</td>\n",
       "      <td>[{'transaction-id': 143, 'amount': 1452}, {'tr...</td>\n",
       "    </tr>\n",
       "    <tr>\n",
       "      <th>2</th>\n",
       "      <td>2</td>\n",
       "      <td>Patricia</td>\n",
       "      <td>[{'transaction-id': 228, 'amount': 200}, {'tra...</td>\n",
       "    </tr>\n",
       "    <tr>\n",
       "      <th>3</th>\n",
       "      <td>4</td>\n",
       "      <td>Xavier</td>\n",
       "      <td>[{'transaction-id': 210, 'amount': 160}, {'tra...</td>\n",
       "    </tr>\n",
       "    <tr>\n",
       "      <th>4</th>\n",
       "      <td>5</td>\n",
       "      <td>Michael</td>\n",
       "      <td>[{'transaction-id': 33, 'amount': 663}, {'tran...</td>\n",
       "    </tr>\n",
       "  </tbody>\n",
       "</table>\n",
       "</div>"
      ],
      "text/plain": [
       "   id      name                                       transactions\n",
       "0   0    Xavier  [{'transaction-id': 837, 'amount': 161}, {'tra...\n",
       "1   1    Oliver  [{'transaction-id': 143, 'amount': 1452}, {'tr...\n",
       "2   2  Patricia  [{'transaction-id': 228, 'amount': 200}, {'tra...\n",
       "3   4    Xavier  [{'transaction-id': 210, 'amount': 160}, {'tra...\n",
       "4   5   Michael  [{'transaction-id': 33, 'amount': 663}, {'tran..."
      ]
     },
     "execution_count": 26,
     "metadata": {},
     "output_type": "execute_result"
    }
   ],
   "source": [
    "df1 = js.to_dataframe()\n",
    "df1.head()"
   ]
  },
  {
   "cell_type": "markdown",
   "metadata": {},
   "source": [
    "This now looks like a well-defined DataFrame, and we can apply Pandas-like computations to it efficiently."
   ]
  },
  {
   "cell_type": "markdown",
   "metadata": {},
   "source": [
    "Using a Dask DataFrame, how long does it take to do our prior computation of numbers of people with the same name?  It turns out that `dask.dataframe.groupby()` beats `dask.bag.groupby()` by more than an order of magnitude; but it still cannot match `dask.bag.foldby()` for this case."
   ]
  },
  {
   "cell_type": "code",
   "execution_count": 27,
   "metadata": {
    "execution": {
     "iopub.execute_input": "2021-11-30T00:42:50.251743Z",
     "iopub.status.busy": "2021-11-30T00:42:50.251260Z",
     "iopub.status.idle": "2021-11-30T00:42:51.863355Z",
     "shell.execute_reply": "2021-11-30T00:42:51.862669Z"
    }
   },
   "outputs": [
    {
     "name": "stdout",
     "output_type": "stream",
     "text": [
      "CPU times: user 269 ms, sys: 11.7 ms, total: 280 ms\n",
      "Wall time: 1.6 s\n"
     ]
    },
    {
     "data": {
      "text/plain": [
       "name\n",
       "Alice      533\n",
       "Bob        650\n",
       "Charlie    299\n",
       "Dan        450\n",
       "Edith      250\n",
       "Name: id, dtype: int64"
      ]
     },
     "execution_count": 27,
     "metadata": {},
     "output_type": "execute_result"
    }
   ],
   "source": [
    "%time df1.groupby('name').id.count().compute().head()"
   ]
  },
  {
   "cell_type": "markdown",
   "metadata": {},
   "source": [
    "### Denormalization"
   ]
  },
  {
   "cell_type": "markdown",
   "metadata": {},
   "source": [
    "This DataFrame format is less-than-optimal because the `transactions` column is filled with nested data so Pandas has to revert to `object` dtype, which is quite slow in Pandas.  Ideally we want to transform to a dataframe only after we have flattened our data so that each record is a single `int`, `string`, `float`, etc.."
   ]
  },
  {
   "cell_type": "code",
   "execution_count": 28,
   "metadata": {
    "execution": {
     "iopub.execute_input": "2021-11-30T00:42:51.879128Z",
     "iopub.status.busy": "2021-11-30T00:42:51.877294Z",
     "iopub.status.idle": "2021-11-30T00:42:51.897301Z",
     "shell.execute_reply": "2021-11-30T00:42:51.898112Z"
    }
   },
   "outputs": [
    {
     "data": {
      "text/plain": [
       "({'id': 0, 'name': 'Xavier', 'amount': 161, 'transaction-id': 837},\n",
       " {'id': 0, 'name': 'Xavier', 'amount': 612, 'transaction-id': 1599},\n",
       " {'id': 0, 'name': 'Xavier', 'amount': 308, 'transaction-id': 3013})"
      ]
     },
     "execution_count": 28,
     "metadata": {},
     "output_type": "execute_result"
    }
   ],
   "source": [
    "def denormalize(record):\n",
    "    # returns a list for each person, one item per transaction\n",
    "    return [{'id': record['id'], \n",
    "             'name': record['name'], \n",
    "             'amount': transaction['amount'], \n",
    "             'transaction-id': transaction['transaction-id']}\n",
    "            for transaction in record['transactions']]\n",
    "\n",
    "transactions = js.map(denormalize).flatten()\n",
    "transactions.take(3)"
   ]
  },
  {
   "cell_type": "code",
   "execution_count": 29,
   "metadata": {
    "execution": {
     "iopub.execute_input": "2021-11-30T00:42:51.910682Z",
     "iopub.status.busy": "2021-11-30T00:42:51.908360Z",
     "iopub.status.idle": "2021-11-30T00:42:51.993764Z",
     "shell.execute_reply": "2021-11-30T00:42:51.994665Z"
    }
   },
   "outputs": [
    {
     "data": {
      "text/html": [
       "<div>\n",
       "<style scoped>\n",
       "    .dataframe tbody tr th:only-of-type {\n",
       "        vertical-align: middle;\n",
       "    }\n",
       "\n",
       "    .dataframe tbody tr th {\n",
       "        vertical-align: top;\n",
       "    }\n",
       "\n",
       "    .dataframe thead th {\n",
       "        text-align: right;\n",
       "    }\n",
       "</style>\n",
       "<table border=\"1\" class=\"dataframe\">\n",
       "  <thead>\n",
       "    <tr style=\"text-align: right;\">\n",
       "      <th></th>\n",
       "      <th>id</th>\n",
       "      <th>name</th>\n",
       "      <th>amount</th>\n",
       "      <th>transaction-id</th>\n",
       "    </tr>\n",
       "  </thead>\n",
       "  <tbody>\n",
       "    <tr>\n",
       "      <th>0</th>\n",
       "      <td>0</td>\n",
       "      <td>Xavier</td>\n",
       "      <td>161</td>\n",
       "      <td>837</td>\n",
       "    </tr>\n",
       "    <tr>\n",
       "      <th>1</th>\n",
       "      <td>0</td>\n",
       "      <td>Xavier</td>\n",
       "      <td>612</td>\n",
       "      <td>1599</td>\n",
       "    </tr>\n",
       "    <tr>\n",
       "      <th>2</th>\n",
       "      <td>0</td>\n",
       "      <td>Xavier</td>\n",
       "      <td>308</td>\n",
       "      <td>3013</td>\n",
       "    </tr>\n",
       "    <tr>\n",
       "      <th>3</th>\n",
       "      <td>0</td>\n",
       "      <td>Xavier</td>\n",
       "      <td>266</td>\n",
       "      <td>3107</td>\n",
       "    </tr>\n",
       "    <tr>\n",
       "      <th>4</th>\n",
       "      <td>0</td>\n",
       "      <td>Xavier</td>\n",
       "      <td>216</td>\n",
       "      <td>3632</td>\n",
       "    </tr>\n",
       "  </tbody>\n",
       "</table>\n",
       "</div>"
      ],
      "text/plain": [
       "   id    name  amount  transaction-id\n",
       "0   0  Xavier     161             837\n",
       "1   0  Xavier     612            1599\n",
       "2   0  Xavier     308            3013\n",
       "3   0  Xavier     266            3107\n",
       "4   0  Xavier     216            3632"
      ]
     },
     "execution_count": 29,
     "metadata": {},
     "output_type": "execute_result"
    }
   ],
   "source": [
    "df = transactions.to_dataframe()\n",
    "df.head()"
   ]
  },
  {
   "cell_type": "code",
   "execution_count": 30,
   "metadata": {
    "execution": {
     "iopub.execute_input": "2021-11-30T00:42:52.010074Z",
     "iopub.status.busy": "2021-11-30T00:42:51.997581Z",
     "iopub.status.idle": "2021-11-30T00:42:53.185213Z",
     "shell.execute_reply": "2021-11-30T00:42:53.184619Z"
    }
   },
   "outputs": [
    {
     "name": "stdout",
     "output_type": "stream",
     "text": [
      "CPU times: user 204 ms, sys: 24.6 ms, total: 229 ms\n",
      "Wall time: 1.17 s\n"
     ]
    },
    {
     "data": {
      "text/plain": [
       "name\n",
       "Alice       17283\n",
       "Bob         25285\n",
       "Charlie     10175\n",
       "Dan         21706\n",
       "Edith       17028\n",
       "Frank       28714\n",
       "George      23715\n",
       "Hannah      15609\n",
       "Ingrid       9727\n",
       "Jerry       15783\n",
       "Kevin       17540\n",
       "Laura        7142\n",
       "Michael      7074\n",
       "Norbert     14168\n",
       "Oliver      42339\n",
       "Patricia    27288\n",
       "Quinn       36969\n",
       "Ray         21281\n",
       "Sarah       19094\n",
       "Tim         18391\n",
       "Ursula      14880\n",
       "Victor       5382\n",
       "Wendy        6633\n",
       "Xavier      29321\n",
       "Yvonne      27335\n",
       "Zelda       20138\n",
       "Name: transaction-id, dtype: int64"
      ]
     },
     "execution_count": 30,
     "metadata": {},
     "output_type": "execute_result"
    }
   ],
   "source": [
    "%%time\n",
    "# number of transactions per name\n",
    "# note that the time here includes the data load and ingestion\n",
    "df.groupby('name')['transaction-id'].count().compute()"
   ]
  },
  {
   "cell_type": "markdown",
   "metadata": {},
   "source": [
    "## Limitations"
   ]
  },
  {
   "cell_type": "markdown",
   "metadata": {},
   "source": [
    "Bags provide very general computation (any Python function.)  This generality\n",
    "comes at cost.  Bags have the following known limitations\n",
    "\n",
    "1.  Bag operations tend to be slower than array/dataframe computations in the\n",
    "    same way that Python tends to be slower than NumPy/Pandas\n",
    "2.  ``Bag.groupby`` is slow.  You should try to use ``Bag.foldby`` if possible.\n",
    "    Using ``Bag.foldby`` requires more thought. Even better, consider creating\n",
    "    a normalised dataframe."
   ]
  },
  {
   "cell_type": "markdown",
   "metadata": {},
   "source": [
    "## Learn More\n",
    "\n",
    "* [Bag documentation](https://docs.dask.org/en/latest/bag.html)\n",
    "* [Bag screencast](https://youtu.be/-qIiJ1XtSv0)\n",
    "* [Bag API](https://docs.dask.org/en/latest/bag-api.html)\n",
    "* [Bag examples](https://examples.dask.org/bag.html)"
   ]
  },
  {
   "cell_type": "markdown",
   "metadata": {},
   "source": [
    "## Shutdown"
   ]
  },
  {
   "cell_type": "code",
   "execution_count": 31,
   "metadata": {
    "execution": {
     "iopub.execute_input": "2021-11-30T00:42:53.190433Z",
     "iopub.status.busy": "2021-11-30T00:42:53.189750Z",
     "iopub.status.idle": "2021-11-30T00:42:53.715275Z",
     "shell.execute_reply": "2021-11-30T00:42:53.715837Z"
    }
   },
   "outputs": [],
   "source": [
    "client.shutdown()"
   ]
  }
 ],
 "metadata": {
  "anaconda-cloud": {},
  "kernelspec": {
   "display_name": "Python 3",
   "language": "python",
   "name": "python3"
  },
  "language_info": {
   "codemirror_mode": {
    "name": "ipython",
    "version": 3
   },
   "file_extension": ".py",
   "mimetype": "text/x-python",
   "name": "python",
   "nbconvert_exporter": "python",
   "pygments_lexer": "ipython3",
   "version": "3.8.12"
  }
 },
 "nbformat": 4,
 "nbformat_minor": 4
}
