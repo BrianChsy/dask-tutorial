{
 "cells": [
  {
   "cell_type": "markdown",
   "metadata": {},
   "source": [
    "<img src=\"https://docs.dask.org/en/latest/_images/dask_horizontal.svg\" align=\"right\" width=\"30%\" alt=\"Dask logo\">"
   ]
  },
  {
   "cell_type": "markdown",
   "metadata": {},
   "source": [
    "# Bag: Parallel Lists for semi-structured data"
   ]
  },
  {
   "cell_type": "markdown",
   "metadata": {},
   "source": [
    "Dask-bag excels in processing data that can be represented as a sequence of arbitrary inputs. We'll refer to this as \"messy\" data, because it can contain complex nested structures, missing fields, mixtures of data types, etc. The *functional* programming style fits very nicely with standard Python iteration, such as can be found in the `itertools` module.\n",
    "\n",
    "Messy data is often encountered at the beginning of data processing pipelines when large volumes of raw data are first consumed. The initial set of data might be JSON, CSV, XML, or any other format that does not enforce strict structure and datatypes.\n",
    "For this reason, the initial data massaging and processing is often done with Python `list`s, `dict`s, and `set`s.\n",
    "\n",
    "These core data structures are optimized for general-purpose storage and processing.  Adding streaming computation with iterators/generator expressions or libraries like `itertools` or [`toolz`](https://toolz.readthedocs.io/en/latest/) let us process large volumes in a small space.  If we combine this with parallel processing then we can churn through a fair amount of data.\n",
    "\n",
    "Dask.bag is a high-level Dask collection to automate common workloads of this form.  In a nutshell\n",
    "\n",
    "    dask.bag = map, filter, toolz + parallel execution\n",
    "    \n",
    "**Related Documentation**\n",
    "\n",
    "* [Bag documentation](https://docs.dask.org/en/latest/bag.html)\n",
    "* [Bag screencast](https://youtu.be/-qIiJ1XtSv0)\n",
    "* [Bag API](https://docs.dask.org/en/latest/bag-api.html)\n",
    "* [Bag examples](https://examples.dask.org/bag.html)"
   ]
  },
  {
   "cell_type": "markdown",
   "metadata": {},
   "source": [
    "## Create data"
   ]
  },
  {
   "cell_type": "code",
   "execution_count": 1,
   "metadata": {
    "execution": {
     "iopub.execute_input": "2022-06-08T22:19:26.457195Z",
     "iopub.status.busy": "2022-06-08T22:19:26.456823Z",
     "iopub.status.idle": "2022-06-08T22:19:27.030613Z",
     "shell.execute_reply": "2022-06-08T22:19:27.029862Z"
    }
   },
   "outputs": [],
   "source": [
    "%run prep.py -d accounts"
   ]
  },
  {
   "cell_type": "markdown",
   "metadata": {},
   "source": [
    "## Setup"
   ]
  },
  {
   "cell_type": "markdown",
   "metadata": {},
   "source": [
    "Again, we'll use the distributed scheduler. Schedulers will be explained in depth [later](05_distributed.ipynb)."
   ]
  },
  {
   "cell_type": "code",
   "execution_count": 2,
   "metadata": {
    "execution": {
     "iopub.execute_input": "2022-06-08T22:19:27.034388Z",
     "iopub.status.busy": "2022-06-08T22:19:27.033867Z",
     "iopub.status.idle": "2022-06-08T22:19:29.154341Z",
     "shell.execute_reply": "2022-06-08T22:19:29.153299Z"
    }
   },
   "outputs": [],
   "source": [
    "from dask.distributed import Client\n",
    "\n",
    "client = Client(n_workers=4)"
   ]
  },
  {
   "cell_type": "markdown",
   "metadata": {},
   "source": [
    "## Creation"
   ]
  },
  {
   "cell_type": "markdown",
   "metadata": {},
   "source": [
    "You can create a `Bag` from a Python sequence, from files, from data on S3, etc.\n",
    "We demonstrate using `.take()` to show elements of the data. (Doing `.take(1)` results in a tuple with one element)\n",
    "\n",
    "Note that the data are partitioned into blocks, and there are many items per block. In the first example, the two partitions contain five elements each, and in the following two, each file is partitioned into one or more bytes blocks."
   ]
  },
  {
   "cell_type": "code",
   "execution_count": 3,
   "metadata": {
    "execution": {
     "iopub.execute_input": "2022-06-08T22:19:29.158715Z",
     "iopub.status.busy": "2022-06-08T22:19:29.158010Z",
     "iopub.status.idle": "2022-06-08T22:19:29.451829Z",
     "shell.execute_reply": "2022-06-08T22:19:29.451267Z"
    }
   },
   "outputs": [
    {
     "data": {
      "text/plain": [
       "(1, 2, 3)"
      ]
     },
     "execution_count": 3,
     "metadata": {},
     "output_type": "execute_result"
    }
   ],
   "source": [
    "# each element is an integer\n",
    "import dask.bag as db\n",
    "b = db.from_sequence([1, 2, 3, 4, 5, 6, 7, 8, 9, 10], npartitions=2)\n",
    "b.take(3)"
   ]
  },
  {
   "cell_type": "code",
   "execution_count": 4,
   "metadata": {
    "execution": {
     "iopub.execute_input": "2022-06-08T22:19:29.459321Z",
     "iopub.status.busy": "2022-06-08T22:19:29.458736Z",
     "iopub.status.idle": "2022-06-08T22:19:29.549275Z",
     "shell.execute_reply": "2022-06-08T22:19:29.548638Z"
    }
   },
   "outputs": [
    {
     "data": {
      "text/plain": [
       "('{\"id\": 0, \"name\": \"Dan\", \"transactions\": [{\"transaction-id\": 152, \"amount\": -22}, {\"transaction-id\": 190, \"amount\": -9}, {\"transaction-id\": 248, \"amount\": -18}, {\"transaction-id\": 389, \"amount\": -32}, {\"transaction-id\": 425, \"amount\": -31}, {\"transaction-id\": 521, \"amount\": 15}, {\"transaction-id\": 1060, \"amount\": -24}, {\"transaction-id\": 1157, \"amount\": -30}, {\"transaction-id\": 1165, \"amount\": -40}, {\"transaction-id\": 1329, \"amount\": -50}, {\"transaction-id\": 1810, \"amount\": -21}, {\"transaction-id\": 2036, \"amount\": -19}, {\"transaction-id\": 2108, \"amount\": -62}, {\"transaction-id\": 2121, \"amount\": -3}, {\"transaction-id\": 2290, \"amount\": -10}, {\"transaction-id\": 2439, \"amount\": -13}, {\"transaction-id\": 2471, \"amount\": -14}, {\"transaction-id\": 2647, \"amount\": -56}, {\"transaction-id\": 2672, \"amount\": -47}, {\"transaction-id\": 3509, \"amount\": -32}, {\"transaction-id\": 3520, \"amount\": 3}, {\"transaction-id\": 3794, \"amount\": -16}, {\"transaction-id\": 4259, \"amount\": 34}, {\"transaction-id\": 4422, \"amount\": -40}, {\"transaction-id\": 4424, \"amount\": -71}, {\"transaction-id\": 4561, \"amount\": 5}, {\"transaction-id\": 4697, \"amount\": 11}, {\"transaction-id\": 4702, \"amount\": -4}, {\"transaction-id\": 4954, \"amount\": -37}, {\"transaction-id\": 4970, \"amount\": -79}, {\"transaction-id\": 5072, \"amount\": -36}, {\"transaction-id\": 5382, \"amount\": -22}, {\"transaction-id\": 5571, \"amount\": -17}, {\"transaction-id\": 5793, \"amount\": -48}, {\"transaction-id\": 5804, \"amount\": -56}, {\"transaction-id\": 5859, \"amount\": -9}, {\"transaction-id\": 5911, \"amount\": -37}, {\"transaction-id\": 6155, \"amount\": -5}, {\"transaction-id\": 6197, \"amount\": -26}, {\"transaction-id\": 6346, \"amount\": 16}, {\"transaction-id\": 6416, \"amount\": -66}, {\"transaction-id\": 6562, \"amount\": -6}, {\"transaction-id\": 6592, \"amount\": 10}, {\"transaction-id\": 7175, \"amount\": -73}, {\"transaction-id\": 7382, \"amount\": 69}, {\"transaction-id\": 7649, \"amount\": 17}, {\"transaction-id\": 7674, \"amount\": -12}, {\"transaction-id\": 7780, \"amount\": -16}, {\"transaction-id\": 7795, \"amount\": 7}, {\"transaction-id\": 7803, \"amount\": -31}, {\"transaction-id\": 7959, \"amount\": 12}, {\"transaction-id\": 8087, \"amount\": 20}, {\"transaction-id\": 8134, \"amount\": 41}, {\"transaction-id\": 8509, \"amount\": -24}, {\"transaction-id\": 8732, \"amount\": 40}, {\"transaction-id\": 8974, \"amount\": -10}, {\"transaction-id\": 9077, \"amount\": 15}, {\"transaction-id\": 9119, \"amount\": 28}, {\"transaction-id\": 9145, \"amount\": -50}, {\"transaction-id\": 9162, \"amount\": -13}, {\"transaction-id\": 9263, \"amount\": -57}, {\"transaction-id\": 9934, \"amount\": 0}]}\\n',)"
      ]
     },
     "execution_count": 4,
     "metadata": {},
     "output_type": "execute_result"
    }
   ],
   "source": [
    "# each element is a text file, where each line is a JSON object\n",
    "# note that the compression is handled automatically\n",
    "import os\n",
    "b = db.read_text(os.path.join('data', 'accounts.*.json.gz'))\n",
    "b.take(1)"
   ]
  },
  {
   "cell_type": "code",
   "execution_count": 5,
   "metadata": {
    "execution": {
     "iopub.execute_input": "2022-06-08T22:19:29.552333Z",
     "iopub.status.busy": "2022-06-08T22:19:29.551978Z",
     "iopub.status.idle": "2022-06-08T22:19:29.556219Z",
     "shell.execute_reply": "2022-06-08T22:19:29.555765Z"
    }
   },
   "outputs": [
    {
     "data": {
      "text/plain": [
       "'s3://dask-data/nyc-taxi/2015/yellow_tripdata_2015-01.csv'"
      ]
     },
     "execution_count": 5,
     "metadata": {},
     "output_type": "execute_result"
    }
   ],
   "source": [
    "# Edit sources.py to configure source locations\n",
    "import sources\n",
    "sources.bag_url"
   ]
  },
  {
   "cell_type": "code",
   "execution_count": 6,
   "metadata": {
    "execution": {
     "iopub.execute_input": "2022-06-08T22:19:29.559150Z",
     "iopub.status.busy": "2022-06-08T22:19:29.558764Z",
     "iopub.status.idle": "2022-06-08T22:19:30.918178Z",
     "shell.execute_reply": "2022-06-08T22:19:30.917634Z"
    }
   },
   "outputs": [
    {
     "data": {
      "text/plain": [
       "('VendorID,tpep_pickup_datetime,tpep_dropoff_datetime,passenger_count,trip_distance,pickup_longitude,pickup_latitude,RateCodeID,store_and_fwd_flag,dropoff_longitude,dropoff_latitude,payment_type,fare_amount,extra,mta_tax,tip_amount,tolls_amount,improvement_surcharge,total_amount\\n',)"
      ]
     },
     "execution_count": 6,
     "metadata": {},
     "output_type": "execute_result"
    }
   ],
   "source": [
    "# Requires `s3fs` library\n",
    "# each partition is a remote CSV text file\n",
    "b = db.read_text(sources.bag_url,\n",
    "                 storage_options={'anon': True})\n",
    "b.take(1)"
   ]
  },
  {
   "cell_type": "markdown",
   "metadata": {},
   "source": [
    "## Manipulation"
   ]
  },
  {
   "cell_type": "markdown",
   "metadata": {},
   "source": [
    "`Bag` objects hold the standard functional API found in projects like the Python standard library, `toolz`, or `pyspark`, including `map`, `filter`, `groupby`, etc..\n",
    "\n",
    "Operations on `Bag` objects create new bags.  Call the `.compute()` method to trigger execution, as we saw for `Delayed` objects.  "
   ]
  },
  {
   "cell_type": "code",
   "execution_count": 7,
   "metadata": {
    "execution": {
     "iopub.execute_input": "2022-06-08T22:19:30.921545Z",
     "iopub.status.busy": "2022-06-08T22:19:30.921180Z",
     "iopub.status.idle": "2022-06-08T22:19:30.929769Z",
     "shell.execute_reply": "2022-06-08T22:19:30.929204Z"
    }
   },
   "outputs": [
    {
     "data": {
      "text/plain": [
       "dask.bag<lambda, npartitions=10>"
      ]
     },
     "execution_count": 7,
     "metadata": {},
     "output_type": "execute_result"
    }
   ],
   "source": [
    "def is_even(n):\n",
    "    return n % 2 == 0\n",
    "\n",
    "b = db.from_sequence([1, 2, 3, 4, 5, 6, 7, 8, 9, 10])\n",
    "c = b.filter(is_even).map(lambda x: x ** 2)\n",
    "c"
   ]
  },
  {
   "cell_type": "code",
   "execution_count": 8,
   "metadata": {
    "execution": {
     "iopub.execute_input": "2022-06-08T22:19:30.932794Z",
     "iopub.status.busy": "2022-06-08T22:19:30.932299Z",
     "iopub.status.idle": "2022-06-08T22:19:31.150484Z",
     "shell.execute_reply": "2022-06-08T22:19:31.149812Z"
    }
   },
   "outputs": [
    {
     "data": {
      "text/plain": [
       "[4, 16, 36, 64, 100]"
      ]
     },
     "execution_count": 8,
     "metadata": {},
     "output_type": "execute_result"
    }
   ],
   "source": [
    "# blocking form: wait for completion (which is very fast in this case)\n",
    "c.compute()"
   ]
  },
  {
   "cell_type": "markdown",
   "metadata": {},
   "source": [
    "### Example: Accounts JSON data"
   ]
  },
  {
   "cell_type": "markdown",
   "metadata": {},
   "source": [
    "We've created a fake dataset of gzipped JSON data in your data directory.  This is like the example used in the `DataFrame` example we will see later, except that it has bundled up all of the entries for each individual `id` into a single record.  This is similar to data that you might collect off of a document store database or a web API.\n",
    "\n",
    "Each line is a JSON encoded dictionary with the following keys\n",
    "\n",
    "*  id: Unique identifier of the customer\n",
    "*  name: Name of the customer\n",
    "*  transactions: List of `transaction-id`, `amount` pairs, one for each transaction for the customer in that file"
   ]
  },
  {
   "cell_type": "code",
   "execution_count": 9,
   "metadata": {
    "execution": {
     "iopub.execute_input": "2022-06-08T22:19:31.153771Z",
     "iopub.status.busy": "2022-06-08T22:19:31.153326Z",
     "iopub.status.idle": "2022-06-08T22:19:31.186160Z",
     "shell.execute_reply": "2022-06-08T22:19:31.185555Z"
    }
   },
   "outputs": [
    {
     "data": {
      "text/plain": [
       "('{\"id\": 0, \"name\": \"Dan\", \"transactions\": [{\"transaction-id\": 152, \"amount\": -22}, {\"transaction-id\": 190, \"amount\": -9}, {\"transaction-id\": 248, \"amount\": -18}, {\"transaction-id\": 389, \"amount\": -32}, {\"transaction-id\": 425, \"amount\": -31}, {\"transaction-id\": 521, \"amount\": 15}, {\"transaction-id\": 1060, \"amount\": -24}, {\"transaction-id\": 1157, \"amount\": -30}, {\"transaction-id\": 1165, \"amount\": -40}, {\"transaction-id\": 1329, \"amount\": -50}, {\"transaction-id\": 1810, \"amount\": -21}, {\"transaction-id\": 2036, \"amount\": -19}, {\"transaction-id\": 2108, \"amount\": -62}, {\"transaction-id\": 2121, \"amount\": -3}, {\"transaction-id\": 2290, \"amount\": -10}, {\"transaction-id\": 2439, \"amount\": -13}, {\"transaction-id\": 2471, \"amount\": -14}, {\"transaction-id\": 2647, \"amount\": -56}, {\"transaction-id\": 2672, \"amount\": -47}, {\"transaction-id\": 3509, \"amount\": -32}, {\"transaction-id\": 3520, \"amount\": 3}, {\"transaction-id\": 3794, \"amount\": -16}, {\"transaction-id\": 4259, \"amount\": 34}, {\"transaction-id\": 4422, \"amount\": -40}, {\"transaction-id\": 4424, \"amount\": -71}, {\"transaction-id\": 4561, \"amount\": 5}, {\"transaction-id\": 4697, \"amount\": 11}, {\"transaction-id\": 4702, \"amount\": -4}, {\"transaction-id\": 4954, \"amount\": -37}, {\"transaction-id\": 4970, \"amount\": -79}, {\"transaction-id\": 5072, \"amount\": -36}, {\"transaction-id\": 5382, \"amount\": -22}, {\"transaction-id\": 5571, \"amount\": -17}, {\"transaction-id\": 5793, \"amount\": -48}, {\"transaction-id\": 5804, \"amount\": -56}, {\"transaction-id\": 5859, \"amount\": -9}, {\"transaction-id\": 5911, \"amount\": -37}, {\"transaction-id\": 6155, \"amount\": -5}, {\"transaction-id\": 6197, \"amount\": -26}, {\"transaction-id\": 6346, \"amount\": 16}, {\"transaction-id\": 6416, \"amount\": -66}, {\"transaction-id\": 6562, \"amount\": -6}, {\"transaction-id\": 6592, \"amount\": 10}, {\"transaction-id\": 7175, \"amount\": -73}, {\"transaction-id\": 7382, \"amount\": 69}, {\"transaction-id\": 7649, \"amount\": 17}, {\"transaction-id\": 7674, \"amount\": -12}, {\"transaction-id\": 7780, \"amount\": -16}, {\"transaction-id\": 7795, \"amount\": 7}, {\"transaction-id\": 7803, \"amount\": -31}, {\"transaction-id\": 7959, \"amount\": 12}, {\"transaction-id\": 8087, \"amount\": 20}, {\"transaction-id\": 8134, \"amount\": 41}, {\"transaction-id\": 8509, \"amount\": -24}, {\"transaction-id\": 8732, \"amount\": 40}, {\"transaction-id\": 8974, \"amount\": -10}, {\"transaction-id\": 9077, \"amount\": 15}, {\"transaction-id\": 9119, \"amount\": 28}, {\"transaction-id\": 9145, \"amount\": -50}, {\"transaction-id\": 9162, \"amount\": -13}, {\"transaction-id\": 9263, \"amount\": -57}, {\"transaction-id\": 9934, \"amount\": 0}]}\\n',\n",
       " '{\"id\": 1, \"name\": \"Sarah\", \"transactions\": [{\"transaction-id\": 172, \"amount\": 267}, {\"transaction-id\": 259, \"amount\": 308}, {\"transaction-id\": 290, \"amount\": 418}, {\"transaction-id\": 1163, \"amount\": 102}, {\"transaction-id\": 1167, \"amount\": 174}, {\"transaction-id\": 1262, \"amount\": 154}, {\"transaction-id\": 1294, \"amount\": 271}, {\"transaction-id\": 1623, \"amount\": 188}, {\"transaction-id\": 1877, \"amount\": 193}, {\"transaction-id\": 2481, \"amount\": 186}, {\"transaction-id\": 2605, \"amount\": 330}, {\"transaction-id\": 2708, \"amount\": 227}, {\"transaction-id\": 2965, \"amount\": 88}, {\"transaction-id\": 3202, \"amount\": 232}, {\"transaction-id\": 3549, \"amount\": 224}, {\"transaction-id\": 4386, \"amount\": 59}, {\"transaction-id\": 4601, \"amount\": 145}, {\"transaction-id\": 5034, \"amount\": 180}, {\"transaction-id\": 6418, \"amount\": 378}, {\"transaction-id\": 6843, \"amount\": 125}, {\"transaction-id\": 7061, \"amount\": 197}, {\"transaction-id\": 7300, \"amount\": 253}, {\"transaction-id\": 7446, \"amount\": 390}, {\"transaction-id\": 7606, \"amount\": 228}, {\"transaction-id\": 7672, \"amount\": 262}, {\"transaction-id\": 7945, \"amount\": 393}, {\"transaction-id\": 8193, \"amount\": 182}, {\"transaction-id\": 9197, \"amount\": 271}, {\"transaction-id\": 9476, \"amount\": 231}, {\"transaction-id\": 9798, \"amount\": 199}]}\\n',\n",
       " '{\"id\": 2, \"name\": \"Edith\", \"transactions\": [{\"transaction-id\": 4, \"amount\": 197}, {\"transaction-id\": 308, \"amount\": 203}, {\"transaction-id\": 542, \"amount\": 254}, {\"transaction-id\": 805, \"amount\": 162}, {\"transaction-id\": 810, \"amount\": 194}, {\"transaction-id\": 905, \"amount\": 255}, {\"transaction-id\": 942, \"amount\": 137}, {\"transaction-id\": 982, \"amount\": 146}, {\"transaction-id\": 1159, \"amount\": 284}, {\"transaction-id\": 1804, \"amount\": 181}, {\"transaction-id\": 2373, \"amount\": 170}, {\"transaction-id\": 2538, \"amount\": 246}, {\"transaction-id\": 2839, \"amount\": 210}, {\"transaction-id\": 2987, \"amount\": 157}, {\"transaction-id\": 3087, \"amount\": 180}, {\"transaction-id\": 3225, \"amount\": 169}, {\"transaction-id\": 3733, \"amount\": 231}, {\"transaction-id\": 3806, \"amount\": 170}, {\"transaction-id\": 3963, \"amount\": 180}, {\"transaction-id\": 4169, \"amount\": 117}, {\"transaction-id\": 4335, \"amount\": 237}, {\"transaction-id\": 4374, \"amount\": 174}, {\"transaction-id\": 4595, \"amount\": 235}, {\"transaction-id\": 5132, \"amount\": 207}, {\"transaction-id\": 5227, \"amount\": 205}, {\"transaction-id\": 5320, \"amount\": 193}, {\"transaction-id\": 6126, \"amount\": 228}, {\"transaction-id\": 6283, \"amount\": 205}, {\"transaction-id\": 6446, \"amount\": 244}, {\"transaction-id\": 7549, \"amount\": 202}, {\"transaction-id\": 7614, \"amount\": 165}, {\"transaction-id\": 7673, \"amount\": 253}, {\"transaction-id\": 8009, \"amount\": 135}, {\"transaction-id\": 8213, \"amount\": 244}, {\"transaction-id\": 8541, \"amount\": 188}, {\"transaction-id\": 8848, \"amount\": 186}, {\"transaction-id\": 8990, \"amount\": 206}, {\"transaction-id\": 9262, \"amount\": 162}, {\"transaction-id\": 9374, \"amount\": 185}, {\"transaction-id\": 9995, \"amount\": 191}]}\\n')"
      ]
     },
     "execution_count": 9,
     "metadata": {},
     "output_type": "execute_result"
    }
   ],
   "source": [
    "filename = os.path.join('data', 'accounts.*.json.gz')\n",
    "lines = db.read_text(filename)\n",
    "lines.take(3)"
   ]
  },
  {
   "cell_type": "markdown",
   "metadata": {},
   "source": [
    "Our data comes out of the file as lines of text. Notice that file decompression happened automatically. We can make this data look more reasonable by mapping the `json.loads` function onto our bag."
   ]
  },
  {
   "cell_type": "code",
   "execution_count": 10,
   "metadata": {
    "execution": {
     "iopub.execute_input": "2022-06-08T22:19:31.189817Z",
     "iopub.status.busy": "2022-06-08T22:19:31.189570Z",
     "iopub.status.idle": "2022-06-08T22:19:31.222226Z",
     "shell.execute_reply": "2022-06-08T22:19:31.221169Z"
    }
   },
   "outputs": [
    {
     "data": {
      "text/plain": [
       "({'id': 0,\n",
       "  'name': 'Dan',\n",
       "  'transactions': [{'transaction-id': 152, 'amount': -22},\n",
       "   {'transaction-id': 190, 'amount': -9},\n",
       "   {'transaction-id': 248, 'amount': -18},\n",
       "   {'transaction-id': 389, 'amount': -32},\n",
       "   {'transaction-id': 425, 'amount': -31},\n",
       "   {'transaction-id': 521, 'amount': 15},\n",
       "   {'transaction-id': 1060, 'amount': -24},\n",
       "   {'transaction-id': 1157, 'amount': -30},\n",
       "   {'transaction-id': 1165, 'amount': -40},\n",
       "   {'transaction-id': 1329, 'amount': -50},\n",
       "   {'transaction-id': 1810, 'amount': -21},\n",
       "   {'transaction-id': 2036, 'amount': -19},\n",
       "   {'transaction-id': 2108, 'amount': -62},\n",
       "   {'transaction-id': 2121, 'amount': -3},\n",
       "   {'transaction-id': 2290, 'amount': -10},\n",
       "   {'transaction-id': 2439, 'amount': -13},\n",
       "   {'transaction-id': 2471, 'amount': -14},\n",
       "   {'transaction-id': 2647, 'amount': -56},\n",
       "   {'transaction-id': 2672, 'amount': -47},\n",
       "   {'transaction-id': 3509, 'amount': -32},\n",
       "   {'transaction-id': 3520, 'amount': 3},\n",
       "   {'transaction-id': 3794, 'amount': -16},\n",
       "   {'transaction-id': 4259, 'amount': 34},\n",
       "   {'transaction-id': 4422, 'amount': -40},\n",
       "   {'transaction-id': 4424, 'amount': -71},\n",
       "   {'transaction-id': 4561, 'amount': 5},\n",
       "   {'transaction-id': 4697, 'amount': 11},\n",
       "   {'transaction-id': 4702, 'amount': -4},\n",
       "   {'transaction-id': 4954, 'amount': -37},\n",
       "   {'transaction-id': 4970, 'amount': -79},\n",
       "   {'transaction-id': 5072, 'amount': -36},\n",
       "   {'transaction-id': 5382, 'amount': -22},\n",
       "   {'transaction-id': 5571, 'amount': -17},\n",
       "   {'transaction-id': 5793, 'amount': -48},\n",
       "   {'transaction-id': 5804, 'amount': -56},\n",
       "   {'transaction-id': 5859, 'amount': -9},\n",
       "   {'transaction-id': 5911, 'amount': -37},\n",
       "   {'transaction-id': 6155, 'amount': -5},\n",
       "   {'transaction-id': 6197, 'amount': -26},\n",
       "   {'transaction-id': 6346, 'amount': 16},\n",
       "   {'transaction-id': 6416, 'amount': -66},\n",
       "   {'transaction-id': 6562, 'amount': -6},\n",
       "   {'transaction-id': 6592, 'amount': 10},\n",
       "   {'transaction-id': 7175, 'amount': -73},\n",
       "   {'transaction-id': 7382, 'amount': 69},\n",
       "   {'transaction-id': 7649, 'amount': 17},\n",
       "   {'transaction-id': 7674, 'amount': -12},\n",
       "   {'transaction-id': 7780, 'amount': -16},\n",
       "   {'transaction-id': 7795, 'amount': 7},\n",
       "   {'transaction-id': 7803, 'amount': -31},\n",
       "   {'transaction-id': 7959, 'amount': 12},\n",
       "   {'transaction-id': 8087, 'amount': 20},\n",
       "   {'transaction-id': 8134, 'amount': 41},\n",
       "   {'transaction-id': 8509, 'amount': -24},\n",
       "   {'transaction-id': 8732, 'amount': 40},\n",
       "   {'transaction-id': 8974, 'amount': -10},\n",
       "   {'transaction-id': 9077, 'amount': 15},\n",
       "   {'transaction-id': 9119, 'amount': 28},\n",
       "   {'transaction-id': 9145, 'amount': -50},\n",
       "   {'transaction-id': 9162, 'amount': -13},\n",
       "   {'transaction-id': 9263, 'amount': -57},\n",
       "   {'transaction-id': 9934, 'amount': 0}]},\n",
       " {'id': 1,\n",
       "  'name': 'Sarah',\n",
       "  'transactions': [{'transaction-id': 172, 'amount': 267},\n",
       "   {'transaction-id': 259, 'amount': 308},\n",
       "   {'transaction-id': 290, 'amount': 418},\n",
       "   {'transaction-id': 1163, 'amount': 102},\n",
       "   {'transaction-id': 1167, 'amount': 174},\n",
       "   {'transaction-id': 1262, 'amount': 154},\n",
       "   {'transaction-id': 1294, 'amount': 271},\n",
       "   {'transaction-id': 1623, 'amount': 188},\n",
       "   {'transaction-id': 1877, 'amount': 193},\n",
       "   {'transaction-id': 2481, 'amount': 186},\n",
       "   {'transaction-id': 2605, 'amount': 330},\n",
       "   {'transaction-id': 2708, 'amount': 227},\n",
       "   {'transaction-id': 2965, 'amount': 88},\n",
       "   {'transaction-id': 3202, 'amount': 232},\n",
       "   {'transaction-id': 3549, 'amount': 224},\n",
       "   {'transaction-id': 4386, 'amount': 59},\n",
       "   {'transaction-id': 4601, 'amount': 145},\n",
       "   {'transaction-id': 5034, 'amount': 180},\n",
       "   {'transaction-id': 6418, 'amount': 378},\n",
       "   {'transaction-id': 6843, 'amount': 125},\n",
       "   {'transaction-id': 7061, 'amount': 197},\n",
       "   {'transaction-id': 7300, 'amount': 253},\n",
       "   {'transaction-id': 7446, 'amount': 390},\n",
       "   {'transaction-id': 7606, 'amount': 228},\n",
       "   {'transaction-id': 7672, 'amount': 262},\n",
       "   {'transaction-id': 7945, 'amount': 393},\n",
       "   {'transaction-id': 8193, 'amount': 182},\n",
       "   {'transaction-id': 9197, 'amount': 271},\n",
       "   {'transaction-id': 9476, 'amount': 231},\n",
       "   {'transaction-id': 9798, 'amount': 199}]},\n",
       " {'id': 2,\n",
       "  'name': 'Edith',\n",
       "  'transactions': [{'transaction-id': 4, 'amount': 197},\n",
       "   {'transaction-id': 308, 'amount': 203},\n",
       "   {'transaction-id': 542, 'amount': 254},\n",
       "   {'transaction-id': 805, 'amount': 162},\n",
       "   {'transaction-id': 810, 'amount': 194},\n",
       "   {'transaction-id': 905, 'amount': 255},\n",
       "   {'transaction-id': 942, 'amount': 137},\n",
       "   {'transaction-id': 982, 'amount': 146},\n",
       "   {'transaction-id': 1159, 'amount': 284},\n",
       "   {'transaction-id': 1804, 'amount': 181},\n",
       "   {'transaction-id': 2373, 'amount': 170},\n",
       "   {'transaction-id': 2538, 'amount': 246},\n",
       "   {'transaction-id': 2839, 'amount': 210},\n",
       "   {'transaction-id': 2987, 'amount': 157},\n",
       "   {'transaction-id': 3087, 'amount': 180},\n",
       "   {'transaction-id': 3225, 'amount': 169},\n",
       "   {'transaction-id': 3733, 'amount': 231},\n",
       "   {'transaction-id': 3806, 'amount': 170},\n",
       "   {'transaction-id': 3963, 'amount': 180},\n",
       "   {'transaction-id': 4169, 'amount': 117},\n",
       "   {'transaction-id': 4335, 'amount': 237},\n",
       "   {'transaction-id': 4374, 'amount': 174},\n",
       "   {'transaction-id': 4595, 'amount': 235},\n",
       "   {'transaction-id': 5132, 'amount': 207},\n",
       "   {'transaction-id': 5227, 'amount': 205},\n",
       "   {'transaction-id': 5320, 'amount': 193},\n",
       "   {'transaction-id': 6126, 'amount': 228},\n",
       "   {'transaction-id': 6283, 'amount': 205},\n",
       "   {'transaction-id': 6446, 'amount': 244},\n",
       "   {'transaction-id': 7549, 'amount': 202},\n",
       "   {'transaction-id': 7614, 'amount': 165},\n",
       "   {'transaction-id': 7673, 'amount': 253},\n",
       "   {'transaction-id': 8009, 'amount': 135},\n",
       "   {'transaction-id': 8213, 'amount': 244},\n",
       "   {'transaction-id': 8541, 'amount': 188},\n",
       "   {'transaction-id': 8848, 'amount': 186},\n",
       "   {'transaction-id': 8990, 'amount': 206},\n",
       "   {'transaction-id': 9262, 'amount': 162},\n",
       "   {'transaction-id': 9374, 'amount': 185},\n",
       "   {'transaction-id': 9995, 'amount': 191}]})"
      ]
     },
     "execution_count": 10,
     "metadata": {},
     "output_type": "execute_result"
    }
   ],
   "source": [
    "import json\n",
    "js = lines.map(json.loads)\n",
    "# take: inspect first few elements\n",
    "js.take(3)"
   ]
  },
  {
   "cell_type": "markdown",
   "metadata": {},
   "source": [
    "### Basic Queries"
   ]
  },
  {
   "cell_type": "markdown",
   "metadata": {},
   "source": [
    "Once we parse our JSON data into proper Python objects (`dict`s, `list`s, etc.) we can perform more interesting queries by creating small Python functions to run on our data."
   ]
  },
  {
   "cell_type": "code",
   "execution_count": 11,
   "metadata": {
    "execution": {
     "iopub.execute_input": "2022-06-08T22:19:31.225732Z",
     "iopub.status.busy": "2022-06-08T22:19:31.225302Z",
     "iopub.status.idle": "2022-06-08T22:19:31.265747Z",
     "shell.execute_reply": "2022-06-08T22:19:31.265048Z"
    }
   },
   "outputs": [
    {
     "data": {
      "text/plain": [
       "({'id': 8,\n",
       "  'name': 'Alice',\n",
       "  'transactions': [{'transaction-id': 1472, 'amount': 680},\n",
       "   {'transaction-id': 1665, 'amount': 550},\n",
       "   {'transaction-id': 2446, 'amount': 631},\n",
       "   {'transaction-id': 4409, 'amount': 558},\n",
       "   {'transaction-id': 4487, 'amount': 645},\n",
       "   {'transaction-id': 7225, 'amount': 621},\n",
       "   {'transaction-id': 8266, 'amount': 726},\n",
       "   {'transaction-id': 8795, 'amount': 639},\n",
       "   {'transaction-id': 8877, 'amount': 503}]},\n",
       " {'id': 13,\n",
       "  'name': 'Alice',\n",
       "  'transactions': [{'transaction-id': 1185, 'amount': 4683},\n",
       "   {'transaction-id': 1855, 'amount': 4367},\n",
       "   {'transaction-id': 1896, 'amount': 4142},\n",
       "   {'transaction-id': 2872, 'amount': 4490},\n",
       "   {'transaction-id': 4269, 'amount': 4303},\n",
       "   {'transaction-id': 4320, 'amount': 4696},\n",
       "   {'transaction-id': 4619, 'amount': 3919},\n",
       "   {'transaction-id': 4928, 'amount': 4355},\n",
       "   {'transaction-id': 5628, 'amount': 4389},\n",
       "   {'transaction-id': 5666, 'amount': 4454},\n",
       "   {'transaction-id': 6342, 'amount': 5026},\n",
       "   {'transaction-id': 8900, 'amount': 4856},\n",
       "   {'transaction-id': 9048, 'amount': 4428},\n",
       "   {'transaction-id': 9061, 'amount': 4649}]},\n",
       " {'id': 38,\n",
       "  'name': 'Alice',\n",
       "  'transactions': [{'transaction-id': 381, 'amount': 904},\n",
       "   {'transaction-id': 529, 'amount': 959},\n",
       "   {'transaction-id': 568, 'amount': 876},\n",
       "   {'transaction-id': 1762, 'amount': 1091},\n",
       "   {'transaction-id': 2058, 'amount': 947},\n",
       "   {'transaction-id': 2225, 'amount': 988},\n",
       "   {'transaction-id': 2256, 'amount': 989},\n",
       "   {'transaction-id': 2347, 'amount': 781},\n",
       "   {'transaction-id': 2499, 'amount': 842},\n",
       "   {'transaction-id': 2690, 'amount': 692},\n",
       "   {'transaction-id': 2828, 'amount': 910},\n",
       "   {'transaction-id': 2899, 'amount': 896},\n",
       "   {'transaction-id': 2943, 'amount': 624},\n",
       "   {'transaction-id': 3093, 'amount': 774},\n",
       "   {'transaction-id': 3339, 'amount': 908},\n",
       "   {'transaction-id': 3465, 'amount': 778},\n",
       "   {'transaction-id': 3570, 'amount': 729},\n",
       "   {'transaction-id': 3702, 'amount': 776},\n",
       "   {'transaction-id': 3729, 'amount': 661},\n",
       "   {'transaction-id': 3805, 'amount': 882},\n",
       "   {'transaction-id': 4141, 'amount': 710},\n",
       "   {'transaction-id': 4224, 'amount': 756},\n",
       "   {'transaction-id': 4560, 'amount': 1217},\n",
       "   {'transaction-id': 4906, 'amount': 876},\n",
       "   {'transaction-id': 5020, 'amount': 808},\n",
       "   {'transaction-id': 5076, 'amount': 905},\n",
       "   {'transaction-id': 5306, 'amount': 1066},\n",
       "   {'transaction-id': 5389, 'amount': 791},\n",
       "   {'transaction-id': 5501, 'amount': 1018},\n",
       "   {'transaction-id': 5617, 'amount': 939},\n",
       "   {'transaction-id': 6206, 'amount': 936},\n",
       "   {'transaction-id': 6802, 'amount': 843},\n",
       "   {'transaction-id': 7074, 'amount': 785},\n",
       "   {'transaction-id': 7106, 'amount': 756},\n",
       "   {'transaction-id': 7327, 'amount': 812},\n",
       "   {'transaction-id': 7363, 'amount': 650},\n",
       "   {'transaction-id': 7398, 'amount': 462},\n",
       "   {'transaction-id': 7545, 'amount': 588},\n",
       "   {'transaction-id': 7582, 'amount': 828},\n",
       "   {'transaction-id': 7591, 'amount': 931},\n",
       "   {'transaction-id': 7835, 'amount': 627},\n",
       "   {'transaction-id': 7843, 'amount': 807},\n",
       "   {'transaction-id': 7894, 'amount': 544},\n",
       "   {'transaction-id': 7950, 'amount': 866},\n",
       "   {'transaction-id': 7958, 'amount': 911},\n",
       "   {'transaction-id': 7972, 'amount': 744},\n",
       "   {'transaction-id': 7992, 'amount': 1042},\n",
       "   {'transaction-id': 8165, 'amount': 958},\n",
       "   {'transaction-id': 8282, 'amount': 982},\n",
       "   {'transaction-id': 8506, 'amount': 790},\n",
       "   {'transaction-id': 8608, 'amount': 562},\n",
       "   {'transaction-id': 8723, 'amount': 857},\n",
       "   {'transaction-id': 8874, 'amount': 624},\n",
       "   {'transaction-id': 8991, 'amount': 763},\n",
       "   {'transaction-id': 9086, 'amount': 883},\n",
       "   {'transaction-id': 9272, 'amount': 915},\n",
       "   {'transaction-id': 9379, 'amount': 986},\n",
       "   {'transaction-id': 9531, 'amount': 752},\n",
       "   {'transaction-id': 9547, 'amount': 543},\n",
       "   {'transaction-id': 9561, 'amount': 781},\n",
       "   {'transaction-id': 9725, 'amount': 736},\n",
       "   {'transaction-id': 9873, 'amount': 892}]},\n",
       " {'id': 170,\n",
       "  'name': 'Alice',\n",
       "  'transactions': [{'transaction-id': 1678, 'amount': 240},\n",
       "   {'transaction-id': 3853, 'amount': 295},\n",
       "   {'transaction-id': 4322, 'amount': 333},\n",
       "   {'transaction-id': 6102, 'amount': 275},\n",
       "   {'transaction-id': 6189, 'amount': 280},\n",
       "   {'transaction-id': 6605, 'amount': 299},\n",
       "   {'transaction-id': 8133, 'amount': 334},\n",
       "   {'transaction-id': 8521, 'amount': 282},\n",
       "   {'transaction-id': 8525, 'amount': 301},\n",
       "   {'transaction-id': 8907, 'amount': 298},\n",
       "   {'transaction-id': 9497, 'amount': 302}]},\n",
       " {'id': 174,\n",
       "  'name': 'Alice',\n",
       "  'transactions': [{'transaction-id': 148, 'amount': 739},\n",
       "   {'transaction-id': 235, 'amount': 725},\n",
       "   {'transaction-id': 240, 'amount': 585},\n",
       "   {'transaction-id': 272, 'amount': 554},\n",
       "   {'transaction-id': 395, 'amount': 680},\n",
       "   {'transaction-id': 614, 'amount': 569},\n",
       "   {'transaction-id': 671, 'amount': 554},\n",
       "   {'transaction-id': 697, 'amount': 634},\n",
       "   {'transaction-id': 720, 'amount': 698},\n",
       "   {'transaction-id': 794, 'amount': 612},\n",
       "   {'transaction-id': 996, 'amount': 581},\n",
       "   {'transaction-id': 1086, 'amount': 637},\n",
       "   {'transaction-id': 1295, 'amount': 583},\n",
       "   {'transaction-id': 1303, 'amount': 615},\n",
       "   {'transaction-id': 2037, 'amount': 694},\n",
       "   {'transaction-id': 2042, 'amount': 603},\n",
       "   {'transaction-id': 2140, 'amount': 696},\n",
       "   {'transaction-id': 2176, 'amount': 659},\n",
       "   {'transaction-id': 2182, 'amount': 654},\n",
       "   {'transaction-id': 2255, 'amount': 679},\n",
       "   {'transaction-id': 2264, 'amount': 586},\n",
       "   {'transaction-id': 2312, 'amount': 586},\n",
       "   {'transaction-id': 2476, 'amount': 550},\n",
       "   {'transaction-id': 2529, 'amount': 651},\n",
       "   {'transaction-id': 2563, 'amount': 754},\n",
       "   {'transaction-id': 2636, 'amount': 722},\n",
       "   {'transaction-id': 2803, 'amount': 708},\n",
       "   {'transaction-id': 2919, 'amount': 680},\n",
       "   {'transaction-id': 3099, 'amount': 784},\n",
       "   {'transaction-id': 3102, 'amount': 678},\n",
       "   {'transaction-id': 3128, 'amount': 661},\n",
       "   {'transaction-id': 3159, 'amount': 597},\n",
       "   {'transaction-id': 3164, 'amount': 584},\n",
       "   {'transaction-id': 3275, 'amount': 654},\n",
       "   {'transaction-id': 3443, 'amount': 552},\n",
       "   {'transaction-id': 3467, 'amount': 618},\n",
       "   {'transaction-id': 3651, 'amount': 640},\n",
       "   {'transaction-id': 3693, 'amount': 628},\n",
       "   {'transaction-id': 4150, 'amount': 707},\n",
       "   {'transaction-id': 4250, 'amount': 622},\n",
       "   {'transaction-id': 4338, 'amount': 673},\n",
       "   {'transaction-id': 4659, 'amount': 573},\n",
       "   {'transaction-id': 4734, 'amount': 627},\n",
       "   {'transaction-id': 4816, 'amount': 546},\n",
       "   {'transaction-id': 4964, 'amount': 687},\n",
       "   {'transaction-id': 4980, 'amount': 636},\n",
       "   {'transaction-id': 5117, 'amount': 680},\n",
       "   {'transaction-id': 5151, 'amount': 676},\n",
       "   {'transaction-id': 5245, 'amount': 758},\n",
       "   {'transaction-id': 5281, 'amount': 659},\n",
       "   {'transaction-id': 5357, 'amount': 568},\n",
       "   {'transaction-id': 5435, 'amount': 545},\n",
       "   {'transaction-id': 5445, 'amount': 712},\n",
       "   {'transaction-id': 5500, 'amount': 762},\n",
       "   {'transaction-id': 5696, 'amount': 648},\n",
       "   {'transaction-id': 5726, 'amount': 734},\n",
       "   {'transaction-id': 6145, 'amount': 734},\n",
       "   {'transaction-id': 6392, 'amount': 674},\n",
       "   {'transaction-id': 6403, 'amount': 642},\n",
       "   {'transaction-id': 6668, 'amount': 531},\n",
       "   {'transaction-id': 6670, 'amount': 687},\n",
       "   {'transaction-id': 6779, 'amount': 586},\n",
       "   {'transaction-id': 6834, 'amount': 714},\n",
       "   {'transaction-id': 6988, 'amount': 662},\n",
       "   {'transaction-id': 7010, 'amount': 700},\n",
       "   {'transaction-id': 7210, 'amount': 597},\n",
       "   {'transaction-id': 7214, 'amount': 749},\n",
       "   {'transaction-id': 7790, 'amount': 587},\n",
       "   {'transaction-id': 7819, 'amount': 644},\n",
       "   {'transaction-id': 7864, 'amount': 720},\n",
       "   {'transaction-id': 7913, 'amount': 656},\n",
       "   {'transaction-id': 8083, 'amount': 680},\n",
       "   {'transaction-id': 8370, 'amount': 550},\n",
       "   {'transaction-id': 8373, 'amount': 705},\n",
       "   {'transaction-id': 8453, 'amount': 658},\n",
       "   {'transaction-id': 8459, 'amount': 628},\n",
       "   {'transaction-id': 8527, 'amount': 680},\n",
       "   {'transaction-id': 8696, 'amount': 660},\n",
       "   {'transaction-id': 8787, 'amount': 635},\n",
       "   {'transaction-id': 8816, 'amount': 538},\n",
       "   {'transaction-id': 8994, 'amount': 731},\n",
       "   {'transaction-id': 9156, 'amount': 760},\n",
       "   {'transaction-id': 9168, 'amount': 819},\n",
       "   {'transaction-id': 9231, 'amount': 551},\n",
       "   {'transaction-id': 9302, 'amount': 657},\n",
       "   {'transaction-id': 9331, 'amount': 732},\n",
       "   {'transaction-id': 9349, 'amount': 722},\n",
       "   {'transaction-id': 9395, 'amount': 642},\n",
       "   {'transaction-id': 9422, 'amount': 707},\n",
       "   {'transaction-id': 9551, 'amount': 691},\n",
       "   {'transaction-id': 9608, 'amount': 642},\n",
       "   {'transaction-id': 9645, 'amount': 582},\n",
       "   {'transaction-id': 9777, 'amount': 692},\n",
       "   {'transaction-id': 9942, 'amount': 731},\n",
       "   {'transaction-id': 9981, 'amount': 664}]})"
      ]
     },
     "execution_count": 11,
     "metadata": {},
     "output_type": "execute_result"
    }
   ],
   "source": [
    "# filter: keep only some elements of the sequence\n",
    "js.filter(lambda record: record['name'] == 'Alice').take(5)"
   ]
  },
  {
   "cell_type": "code",
   "execution_count": 12,
   "metadata": {
    "execution": {
     "iopub.execute_input": "2022-06-08T22:19:31.269981Z",
     "iopub.status.busy": "2022-06-08T22:19:31.269426Z",
     "iopub.status.idle": "2022-06-08T22:19:31.304140Z",
     "shell.execute_reply": "2022-06-08T22:19:31.303214Z"
    }
   },
   "outputs": [
    {
     "data": {
      "text/plain": [
       "({'name': 'Alice', 'count': 9},\n",
       " {'name': 'Alice', 'count': 14},\n",
       " {'name': 'Alice', 'count': 62},\n",
       " {'name': 'Alice', 'count': 11},\n",
       " {'name': 'Alice', 'count': 95})"
      ]
     },
     "execution_count": 12,
     "metadata": {},
     "output_type": "execute_result"
    }
   ],
   "source": [
    "def count_transactions(d):\n",
    "    return {'name': d['name'], 'count': len(d['transactions'])}\n",
    "\n",
    "# map: apply a function to each element\n",
    "(js.filter(lambda record: record['name'] == 'Alice')\n",
    "   .map(count_transactions)\n",
    "   .take(5))"
   ]
  },
  {
   "cell_type": "code",
   "execution_count": 13,
   "metadata": {
    "execution": {
     "iopub.execute_input": "2022-06-08T22:19:31.308127Z",
     "iopub.status.busy": "2022-06-08T22:19:31.307737Z",
     "iopub.status.idle": "2022-06-08T22:19:31.341831Z",
     "shell.execute_reply": "2022-06-08T22:19:31.341027Z"
    }
   },
   "outputs": [
    {
     "data": {
      "text/plain": [
       "(9, 14, 62, 11, 95)"
      ]
     },
     "execution_count": 13,
     "metadata": {},
     "output_type": "execute_result"
    }
   ],
   "source": [
    "# pluck: select a field, as from a dictionary, element[field]\n",
    "(js.filter(lambda record: record['name'] == 'Alice')\n",
    "   .map(count_transactions)\n",
    "   .pluck('count')\n",
    "   .take(5))"
   ]
  },
  {
   "cell_type": "code",
   "execution_count": 14,
   "metadata": {
    "execution": {
     "iopub.execute_input": "2022-06-08T22:19:31.344910Z",
     "iopub.status.busy": "2022-06-08T22:19:31.344528Z",
     "iopub.status.idle": "2022-06-08T22:19:31.729192Z",
     "shell.execute_reply": "2022-06-08T22:19:31.728660Z"
    }
   },
   "outputs": [
    {
     "data": {
      "text/plain": [
       "51.04843304843305"
      ]
     },
     "execution_count": 14,
     "metadata": {},
     "output_type": "execute_result"
    }
   ],
   "source": [
    "# Average number of transactions for all of the Alice entries\n",
    "(js.filter(lambda record: record['name'] == 'Alice')\n",
    "   .map(count_transactions)\n",
    "   .pluck('count')\n",
    "   .mean()\n",
    "   .compute())"
   ]
  },
  {
   "cell_type": "markdown",
   "metadata": {},
   "source": [
    "### Use `flatten` to de-nest"
   ]
  },
  {
   "cell_type": "markdown",
   "metadata": {},
   "source": [
    "In the example below we see the use of `.flatten()` to flatten results.  We compute the average amount for all transactions for all Alices."
   ]
  },
  {
   "cell_type": "code",
   "execution_count": 15,
   "metadata": {
    "execution": {
     "iopub.execute_input": "2022-06-08T22:19:31.732624Z",
     "iopub.status.busy": "2022-06-08T22:19:31.732130Z",
     "iopub.status.idle": "2022-06-08T22:19:31.759029Z",
     "shell.execute_reply": "2022-06-08T22:19:31.758450Z"
    }
   },
   "outputs": [
    {
     "data": {
      "text/plain": [
       "([{'transaction-id': 1472, 'amount': 680},\n",
       "  {'transaction-id': 1665, 'amount': 550},\n",
       "  {'transaction-id': 2446, 'amount': 631},\n",
       "  {'transaction-id': 4409, 'amount': 558},\n",
       "  {'transaction-id': 4487, 'amount': 645},\n",
       "  {'transaction-id': 7225, 'amount': 621},\n",
       "  {'transaction-id': 8266, 'amount': 726},\n",
       "  {'transaction-id': 8795, 'amount': 639},\n",
       "  {'transaction-id': 8877, 'amount': 503}],\n",
       " [{'transaction-id': 1185, 'amount': 4683},\n",
       "  {'transaction-id': 1855, 'amount': 4367},\n",
       "  {'transaction-id': 1896, 'amount': 4142},\n",
       "  {'transaction-id': 2872, 'amount': 4490},\n",
       "  {'transaction-id': 4269, 'amount': 4303},\n",
       "  {'transaction-id': 4320, 'amount': 4696},\n",
       "  {'transaction-id': 4619, 'amount': 3919},\n",
       "  {'transaction-id': 4928, 'amount': 4355},\n",
       "  {'transaction-id': 5628, 'amount': 4389},\n",
       "  {'transaction-id': 5666, 'amount': 4454},\n",
       "  {'transaction-id': 6342, 'amount': 5026},\n",
       "  {'transaction-id': 8900, 'amount': 4856},\n",
       "  {'transaction-id': 9048, 'amount': 4428},\n",
       "  {'transaction-id': 9061, 'amount': 4649}],\n",
       " [{'transaction-id': 381, 'amount': 904},\n",
       "  {'transaction-id': 529, 'amount': 959},\n",
       "  {'transaction-id': 568, 'amount': 876},\n",
       "  {'transaction-id': 1762, 'amount': 1091},\n",
       "  {'transaction-id': 2058, 'amount': 947},\n",
       "  {'transaction-id': 2225, 'amount': 988},\n",
       "  {'transaction-id': 2256, 'amount': 989},\n",
       "  {'transaction-id': 2347, 'amount': 781},\n",
       "  {'transaction-id': 2499, 'amount': 842},\n",
       "  {'transaction-id': 2690, 'amount': 692},\n",
       "  {'transaction-id': 2828, 'amount': 910},\n",
       "  {'transaction-id': 2899, 'amount': 896},\n",
       "  {'transaction-id': 2943, 'amount': 624},\n",
       "  {'transaction-id': 3093, 'amount': 774},\n",
       "  {'transaction-id': 3339, 'amount': 908},\n",
       "  {'transaction-id': 3465, 'amount': 778},\n",
       "  {'transaction-id': 3570, 'amount': 729},\n",
       "  {'transaction-id': 3702, 'amount': 776},\n",
       "  {'transaction-id': 3729, 'amount': 661},\n",
       "  {'transaction-id': 3805, 'amount': 882},\n",
       "  {'transaction-id': 4141, 'amount': 710},\n",
       "  {'transaction-id': 4224, 'amount': 756},\n",
       "  {'transaction-id': 4560, 'amount': 1217},\n",
       "  {'transaction-id': 4906, 'amount': 876},\n",
       "  {'transaction-id': 5020, 'amount': 808},\n",
       "  {'transaction-id': 5076, 'amount': 905},\n",
       "  {'transaction-id': 5306, 'amount': 1066},\n",
       "  {'transaction-id': 5389, 'amount': 791},\n",
       "  {'transaction-id': 5501, 'amount': 1018},\n",
       "  {'transaction-id': 5617, 'amount': 939},\n",
       "  {'transaction-id': 6206, 'amount': 936},\n",
       "  {'transaction-id': 6802, 'amount': 843},\n",
       "  {'transaction-id': 7074, 'amount': 785},\n",
       "  {'transaction-id': 7106, 'amount': 756},\n",
       "  {'transaction-id': 7327, 'amount': 812},\n",
       "  {'transaction-id': 7363, 'amount': 650},\n",
       "  {'transaction-id': 7398, 'amount': 462},\n",
       "  {'transaction-id': 7545, 'amount': 588},\n",
       "  {'transaction-id': 7582, 'amount': 828},\n",
       "  {'transaction-id': 7591, 'amount': 931},\n",
       "  {'transaction-id': 7835, 'amount': 627},\n",
       "  {'transaction-id': 7843, 'amount': 807},\n",
       "  {'transaction-id': 7894, 'amount': 544},\n",
       "  {'transaction-id': 7950, 'amount': 866},\n",
       "  {'transaction-id': 7958, 'amount': 911},\n",
       "  {'transaction-id': 7972, 'amount': 744},\n",
       "  {'transaction-id': 7992, 'amount': 1042},\n",
       "  {'transaction-id': 8165, 'amount': 958},\n",
       "  {'transaction-id': 8282, 'amount': 982},\n",
       "  {'transaction-id': 8506, 'amount': 790},\n",
       "  {'transaction-id': 8608, 'amount': 562},\n",
       "  {'transaction-id': 8723, 'amount': 857},\n",
       "  {'transaction-id': 8874, 'amount': 624},\n",
       "  {'transaction-id': 8991, 'amount': 763},\n",
       "  {'transaction-id': 9086, 'amount': 883},\n",
       "  {'transaction-id': 9272, 'amount': 915},\n",
       "  {'transaction-id': 9379, 'amount': 986},\n",
       "  {'transaction-id': 9531, 'amount': 752},\n",
       "  {'transaction-id': 9547, 'amount': 543},\n",
       "  {'transaction-id': 9561, 'amount': 781},\n",
       "  {'transaction-id': 9725, 'amount': 736},\n",
       "  {'transaction-id': 9873, 'amount': 892}])"
      ]
     },
     "execution_count": 15,
     "metadata": {},
     "output_type": "execute_result"
    }
   ],
   "source": [
    "(js.filter(lambda record: record['name'] == 'Alice')\n",
    "   .pluck('transactions')\n",
    "   .take(3))"
   ]
  },
  {
   "cell_type": "code",
   "execution_count": 16,
   "metadata": {
    "execution": {
     "iopub.execute_input": "2022-06-08T22:19:31.762108Z",
     "iopub.status.busy": "2022-06-08T22:19:31.761536Z",
     "iopub.status.idle": "2022-06-08T22:19:31.786936Z",
     "shell.execute_reply": "2022-06-08T22:19:31.786345Z"
    }
   },
   "outputs": [
    {
     "data": {
      "text/plain": [
       "({'transaction-id': 1472, 'amount': 680},\n",
       " {'transaction-id': 1665, 'amount': 550},\n",
       " {'transaction-id': 2446, 'amount': 631})"
      ]
     },
     "execution_count": 16,
     "metadata": {},
     "output_type": "execute_result"
    }
   ],
   "source": [
    "(js.filter(lambda record: record['name'] == 'Alice')\n",
    "   .pluck('transactions')\n",
    "   .flatten()\n",
    "   .take(3))"
   ]
  },
  {
   "cell_type": "code",
   "execution_count": 17,
   "metadata": {
    "execution": {
     "iopub.execute_input": "2022-06-08T22:19:31.790509Z",
     "iopub.status.busy": "2022-06-08T22:19:31.789920Z",
     "iopub.status.idle": "2022-06-08T22:19:31.814894Z",
     "shell.execute_reply": "2022-06-08T22:19:31.814068Z"
    }
   },
   "outputs": [
    {
     "data": {
      "text/plain": [
       "(680, 550, 631)"
      ]
     },
     "execution_count": 17,
     "metadata": {},
     "output_type": "execute_result"
    }
   ],
   "source": [
    "(js.filter(lambda record: record['name'] == 'Alice')\n",
    "   .pluck('transactions')\n",
    "   .flatten()\n",
    "   .pluck('amount')\n",
    "   .take(3))"
   ]
  },
  {
   "cell_type": "code",
   "execution_count": 18,
   "metadata": {
    "execution": {
     "iopub.execute_input": "2022-06-08T22:19:31.817794Z",
     "iopub.status.busy": "2022-06-08T22:19:31.817369Z",
     "iopub.status.idle": "2022-06-08T22:19:32.217356Z",
     "shell.execute_reply": "2022-06-08T22:19:32.216644Z"
    }
   },
   "outputs": [
    {
     "data": {
      "text/plain": [
       "844.1454403393236"
      ]
     },
     "execution_count": 18,
     "metadata": {},
     "output_type": "execute_result"
    }
   ],
   "source": [
    "(js.filter(lambda record: record['name'] == 'Alice')\n",
    "   .pluck('transactions')\n",
    "   .flatten()\n",
    "   .pluck('amount')\n",
    "   .mean()\n",
    "   .compute())"
   ]
  },
  {
   "cell_type": "markdown",
   "metadata": {},
   "source": [
    "### Groupby and Foldby"
   ]
  },
  {
   "cell_type": "markdown",
   "metadata": {},
   "source": [
    "Often we want to group data by some function or key.  We can do this either with the `.groupby` method, which is straightforward but forces a full shuffle of the data (expensive) or with the harder-to-use but faster `.foldby` method, which does a streaming combined groupby and reduction.\n",
    "\n",
    "*  `groupby`:  Shuffles data so that all items with the same key are in the same key-value pair\n",
    "*  `foldby`:  Walks through the data accumulating a result per key\n",
    "\n",
    "*Note: the full groupby is particularly bad. In actual workloads you would do well to use `foldby` or switch to `DataFrame`s if possible.*"
   ]
  },
  {
   "cell_type": "markdown",
   "metadata": {},
   "source": [
    "### `groupby`"
   ]
  },
  {
   "cell_type": "markdown",
   "metadata": {},
   "source": [
    "Groupby collects items in your collection so that all items with the same value under some function are collected together into a key-value pair."
   ]
  },
  {
   "cell_type": "code",
   "execution_count": 19,
   "metadata": {
    "execution": {
     "iopub.execute_input": "2022-06-08T22:19:32.221171Z",
     "iopub.status.busy": "2022-06-08T22:19:32.220639Z",
     "iopub.status.idle": "2022-06-08T22:19:32.307253Z",
     "shell.execute_reply": "2022-06-08T22:19:32.306463Z"
    }
   },
   "outputs": [
    {
     "data": {
      "text/plain": [
       "[(7, ['Charlie']), (3, ['Bob', 'Dan']), (5, ['Alice', 'Edith', 'Frank'])]"
      ]
     },
     "execution_count": 19,
     "metadata": {},
     "output_type": "execute_result"
    }
   ],
   "source": [
    "b = db.from_sequence(['Alice', 'Bob', 'Charlie', 'Dan', 'Edith', 'Frank'])\n",
    "b.groupby(len).compute()  # names grouped by length"
   ]
  },
  {
   "cell_type": "code",
   "execution_count": 20,
   "metadata": {
    "execution": {
     "iopub.execute_input": "2022-06-08T22:19:32.311427Z",
     "iopub.status.busy": "2022-06-08T22:19:32.311190Z",
     "iopub.status.idle": "2022-06-08T22:19:32.462534Z",
     "shell.execute_reply": "2022-06-08T22:19:32.461801Z"
    }
   },
   "outputs": [
    {
     "data": {
      "text/plain": [
       "[(0, [0, 2, 4, 6, 8]), (1, [1, 3, 5, 7, 9])]"
      ]
     },
     "execution_count": 20,
     "metadata": {},
     "output_type": "execute_result"
    }
   ],
   "source": [
    "b = db.from_sequence(list(range(10)))\n",
    "b.groupby(lambda x: x % 2).compute()"
   ]
  },
  {
   "cell_type": "code",
   "execution_count": 21,
   "metadata": {
    "execution": {
     "iopub.execute_input": "2022-06-08T22:19:32.466082Z",
     "iopub.status.busy": "2022-06-08T22:19:32.465841Z",
     "iopub.status.idle": "2022-06-08T22:19:32.623496Z",
     "shell.execute_reply": "2022-06-08T22:19:32.622824Z"
    }
   },
   "outputs": [
    {
     "data": {
      "text/plain": [
       "[(0, 8), (1, 9)]"
      ]
     },
     "execution_count": 21,
     "metadata": {},
     "output_type": "execute_result"
    }
   ],
   "source": [
    "b.groupby(lambda x: x % 2).starmap(lambda k, v: (k, max(v))).compute()"
   ]
  },
  {
   "cell_type": "markdown",
   "metadata": {},
   "source": [
    "### `foldby`"
   ]
  },
  {
   "cell_type": "markdown",
   "metadata": {},
   "source": [
    "Foldby can be quite odd at first.  It is similar to the following functions from other libraries:\n",
    "\n",
    "*  [`toolz.reduceby`](http://toolz.readthedocs.io/en/latest/streaming-analytics.html#streaming-split-apply-combine)\n",
    "*  [`pyspark.RDD.combineByKey`](http://abshinn.github.io/python/apache-spark/2014/10/11/using-combinebykey-in-apache-spark/)\n",
    "\n",
    "When using `foldby` you provide \n",
    "\n",
    "1.  A key function on which to group elements\n",
    "2.  A binary operator such as you would pass to `reduce` that you use to perform reduction per each group\n",
    "3.  A combine binary operator that can combine the results of two `reduce` calls on different parts of your dataset.\n",
    "\n",
    "Your reduction must be associative.  It will happen in parallel in each of the partitions of your dataset.  Then all of these intermediate results will be combined by the `combine` binary operator."
   ]
  },
  {
   "cell_type": "code",
   "execution_count": 22,
   "metadata": {
    "execution": {
     "iopub.execute_input": "2022-06-08T22:19:32.627475Z",
     "iopub.status.busy": "2022-06-08T22:19:32.627084Z",
     "iopub.status.idle": "2022-06-08T22:19:32.677623Z",
     "shell.execute_reply": "2022-06-08T22:19:32.677043Z"
    }
   },
   "outputs": [
    {
     "data": {
      "text/plain": [
       "[(0, 8), (1, 9)]"
      ]
     },
     "execution_count": 22,
     "metadata": {},
     "output_type": "execute_result"
    }
   ],
   "source": [
    "b.foldby(lambda x: x % 2, binop=max, combine=max).compute()"
   ]
  },
  {
   "cell_type": "markdown",
   "metadata": {},
   "source": [
    "### Example with account data"
   ]
  },
  {
   "cell_type": "markdown",
   "metadata": {},
   "source": [
    "We find the number of people with the same name."
   ]
  },
  {
   "cell_type": "code",
   "execution_count": 23,
   "metadata": {
    "execution": {
     "iopub.execute_input": "2022-06-08T22:19:32.681246Z",
     "iopub.status.busy": "2022-06-08T22:19:32.680562Z",
     "iopub.status.idle": "2022-06-08T22:19:36.096357Z",
     "shell.execute_reply": "2022-06-08T22:19:36.095584Z"
    }
   },
   "outputs": [
    {
     "name": "stdout",
     "output_type": "stream",
     "text": [
      "[('Alice', 84), ('Alice', 84), ('Alice', 85), ('Alice', 98), ('Bob', 59), ('Bob', 60), ('Bob', 60), ('Bob', 69), ('Charlie', 98), ('Charlie', 101), ('Charlie', 101), ('Charlie', 118), ('Dan', 168), ('Dan', 168), ('Dan', 168), ('Dan', 196), ('Edith', 106), ('Edith', 108), ('Edith', 108), ('Edith', 126), ('Frank', 60), ('Frank', 60), ('Frank', 60), ('Frank', 70), ('George', 192), ('George', 192), ('George', 192), ('George', 224), ('Hannah', 102), ('Hannah', 103), ('Hannah', 104), ('Hannah', 123), ('Ingrid', 144), ('Ingrid', 144), ('Ingrid', 144), ('Ingrid', 168), ('Jerry', 144), ('Jerry', 144), ('Jerry', 144), ('Jerry', 168), ('Kevin', 139), ('Kevin', 140), ('Kevin', 141), ('Kevin', 161), ('Laura', 143), ('Laura', 144), ('Laura', 144), ('Laura', 168), ('Michael', 131), ('Michael', 131), ('Michael', 132), ('Michael', 151), ('Norbert', 151), ('Norbert', 154), ('Norbert', 154), ('Norbert', 179), ('Oliver', 96), ('Oliver', 96), ('Oliver', 96), ('Oliver', 112), ('Patricia', 120), ('Patricia', 120), ('Patricia', 120), ('Patricia', 140), ('Quinn', 139), ('Quinn', 141), ('Quinn', 142), ('Quinn', 162), ('Ray', 89), ('Ray', 91), ('Ray', 91), ('Ray', 108), ('Sarah', 96), ('Sarah', 96), ('Sarah', 96), ('Sarah', 112), ('Tim', 104), ('Tim', 105), ('Tim', 107), ('Tim', 125), ('Ursula', 85), ('Ursula', 85), ('Ursula', 88), ('Ursula', 98), ('Victor', 120), ('Victor', 120), ('Victor', 120), ('Victor', 140), ('Wendy', 97), ('Wendy', 98), ('Wendy', 101), ('Wendy', 115), ('Xavier', 84), ('Xavier', 84), ('Xavier', 84), ('Xavier', 98), ('Yvonne', 102), ('Yvonne', 103), ('Yvonne', 104), ('Yvonne', 122), ('Zelda', 48), ('Zelda', 48), ('Zelda', 48), ('Zelda', 56)]\n",
      "CPU times: user 812 ms, sys: 59.8 ms, total: 872 ms\n",
      "Wall time: 3.41 s\n"
     ]
    }
   ],
   "source": [
    "%%time\n",
    "# Warning, this one takes a while...\n",
    "result = js.groupby(lambda item: item['name']).starmap(lambda k, v: (k, len(v))).compute()\n",
    "print(sorted(result))"
   ]
  },
  {
   "cell_type": "code",
   "execution_count": 24,
   "metadata": {
    "execution": {
     "iopub.execute_input": "2022-06-08T22:19:36.110980Z",
     "iopub.status.busy": "2022-06-08T22:19:36.104227Z",
     "iopub.status.idle": "2022-06-08T22:19:36.507001Z",
     "shell.execute_reply": "2022-06-08T22:19:36.506033Z"
    }
   },
   "outputs": [
    {
     "name": "stdout",
     "output_type": "stream",
     "text": [
      "[('Alice', 351), ('Bob', 248), ('Charlie', 418), ('Dan', 700), ('Edith', 448), ('Frank', 250), ('George', 800), ('Hannah', 432), ('Ingrid', 600), ('Jerry', 600), ('Kevin', 581), ('Laura', 599), ('Michael', 545), ('Norbert', 638), ('Oliver', 400), ('Patricia', 500), ('Quinn', 584), ('Ray', 379), ('Sarah', 400), ('Tim', 441), ('Ursula', 356), ('Victor', 500), ('Wendy', 411), ('Xavier', 350), ('Yvonne', 431), ('Zelda', 200)]\n",
      "CPU times: user 98.1 ms, sys: 7.73 ms, total: 106 ms\n",
      "Wall time: 391 ms\n"
     ]
    }
   ],
   "source": [
    "%%time\n",
    "# This one is comparatively fast and produces the same result.\n",
    "from operator import add\n",
    "def incr(tot, _):\n",
    "    return tot + 1\n",
    "\n",
    "result = js.foldby(key='name', \n",
    "                   binop=incr, \n",
    "                   initial=0, \n",
    "                   combine=add, \n",
    "                   combine_initial=0).compute()\n",
    "print(sorted(result))"
   ]
  },
  {
   "cell_type": "markdown",
   "metadata": {},
   "source": [
    "### Exercise: compute total amount per name"
   ]
  },
  {
   "cell_type": "markdown",
   "metadata": {},
   "source": [
    "We want to groupby (or foldby) the `name` key, then add up the all of the amounts for each name.\n",
    "\n",
    "Steps\n",
    "\n",
    "1.  Create a small function that, given a dictionary like \n",
    "\n",
    "        {'name': 'Alice', 'transactions': [{'amount': 1, 'id': 123}, {'amount': 2, 'id': 456}]}\n",
    "        \n",
    "    produces the sum of the amounts, e.g. `3`\n",
    "    \n",
    "2.  Slightly change the binary operator of the `foldby` example above so that the binary operator doesn't count the number of entries, but instead accumulates the sum of the amounts."
   ]
  },
  {
   "cell_type": "code",
   "execution_count": 25,
   "metadata": {
    "execution": {
     "iopub.execute_input": "2022-06-08T22:19:36.511151Z",
     "iopub.status.busy": "2022-06-08T22:19:36.510725Z",
     "iopub.status.idle": "2022-06-08T22:19:36.513799Z",
     "shell.execute_reply": "2022-06-08T22:19:36.513128Z"
    }
   },
   "outputs": [],
   "source": [
    "# Your code here..."
   ]
  },
  {
   "cell_type": "markdown",
   "metadata": {},
   "source": [
    "## DataFrames"
   ]
  },
  {
   "cell_type": "markdown",
   "metadata": {},
   "source": [
    "For the same reasons that Pandas is often faster than pure Python, `dask.dataframe` can be faster than `dask.bag`.  We will work more with DataFrames later, but from the point of view of a Bag, it is frequently the end-point of the \"messy\" part of data ingestion—once the data can be made into a data-frame, then complex split-apply-combine logic will become much more straight-forward and efficient.\n",
    "\n",
    "You can transform a bag with a simple tuple or flat dictionary structure into a `dask.dataframe` with the `to_dataframe` method."
   ]
  },
  {
   "cell_type": "code",
   "execution_count": 26,
   "metadata": {
    "execution": {
     "iopub.execute_input": "2022-06-08T22:19:36.523353Z",
     "iopub.status.busy": "2022-06-08T22:19:36.522742Z",
     "iopub.status.idle": "2022-06-08T22:19:37.004169Z",
     "shell.execute_reply": "2022-06-08T22:19:37.003666Z"
    }
   },
   "outputs": [
    {
     "name": "stderr",
     "output_type": "stream",
     "text": [
      "/usr/share/miniconda3/envs/dask-tutorial/lib/python3.8/site-packages/dask/dataframe/backends.py:187: FutureWarning: pandas.Int64Index is deprecated and will be removed from pandas in a future version. Use pandas.Index with the appropriate dtype instead.\n",
      "  _numeric_index_types = (pd.Int64Index, pd.Float64Index, pd.UInt64Index)\n",
      "/usr/share/miniconda3/envs/dask-tutorial/lib/python3.8/site-packages/dask/dataframe/backends.py:187: FutureWarning: pandas.Float64Index is deprecated and will be removed from pandas in a future version. Use pandas.Index with the appropriate dtype instead.\n",
      "  _numeric_index_types = (pd.Int64Index, pd.Float64Index, pd.UInt64Index)\n",
      "/usr/share/miniconda3/envs/dask-tutorial/lib/python3.8/site-packages/dask/dataframe/backends.py:187: FutureWarning: pandas.UInt64Index is deprecated and will be removed from pandas in a future version. Use pandas.Index with the appropriate dtype instead.\n",
      "  _numeric_index_types = (pd.Int64Index, pd.Float64Index, pd.UInt64Index)\n"
     ]
    },
    {
     "data": {
      "text/html": [
       "<div>\n",
       "<style scoped>\n",
       "    .dataframe tbody tr th:only-of-type {\n",
       "        vertical-align: middle;\n",
       "    }\n",
       "\n",
       "    .dataframe tbody tr th {\n",
       "        vertical-align: top;\n",
       "    }\n",
       "\n",
       "    .dataframe thead th {\n",
       "        text-align: right;\n",
       "    }\n",
       "</style>\n",
       "<table border=\"1\" class=\"dataframe\">\n",
       "  <thead>\n",
       "    <tr style=\"text-align: right;\">\n",
       "      <th></th>\n",
       "      <th>id</th>\n",
       "      <th>name</th>\n",
       "      <th>transactions</th>\n",
       "    </tr>\n",
       "  </thead>\n",
       "  <tbody>\n",
       "    <tr>\n",
       "      <th>0</th>\n",
       "      <td>0</td>\n",
       "      <td>Dan</td>\n",
       "      <td>[{'transaction-id': 152, 'amount': -22}, {'tra...</td>\n",
       "    </tr>\n",
       "    <tr>\n",
       "      <th>1</th>\n",
       "      <td>1</td>\n",
       "      <td>Sarah</td>\n",
       "      <td>[{'transaction-id': 172, 'amount': 267}, {'tra...</td>\n",
       "    </tr>\n",
       "    <tr>\n",
       "      <th>2</th>\n",
       "      <td>2</td>\n",
       "      <td>Edith</td>\n",
       "      <td>[{'transaction-id': 4, 'amount': 197}, {'trans...</td>\n",
       "    </tr>\n",
       "    <tr>\n",
       "      <th>3</th>\n",
       "      <td>3</td>\n",
       "      <td>Laura</td>\n",
       "      <td>[{'transaction-id': 405, 'amount': 87}, {'tran...</td>\n",
       "    </tr>\n",
       "    <tr>\n",
       "      <th>4</th>\n",
       "      <td>4</td>\n",
       "      <td>Ray</td>\n",
       "      <td>[{'transaction-id': 502, 'amount': 345}, {'tra...</td>\n",
       "    </tr>\n",
       "  </tbody>\n",
       "</table>\n",
       "</div>"
      ],
      "text/plain": [
       "   id   name                                       transactions\n",
       "0   0    Dan  [{'transaction-id': 152, 'amount': -22}, {'tra...\n",
       "1   1  Sarah  [{'transaction-id': 172, 'amount': 267}, {'tra...\n",
       "2   2  Edith  [{'transaction-id': 4, 'amount': 197}, {'trans...\n",
       "3   3  Laura  [{'transaction-id': 405, 'amount': 87}, {'tran...\n",
       "4   4    Ray  [{'transaction-id': 502, 'amount': 345}, {'tra..."
      ]
     },
     "execution_count": 26,
     "metadata": {},
     "output_type": "execute_result"
    }
   ],
   "source": [
    "df1 = js.to_dataframe()\n",
    "df1.head()"
   ]
  },
  {
   "cell_type": "markdown",
   "metadata": {},
   "source": [
    "This now looks like a well-defined DataFrame, and we can apply Pandas-like computations to it efficiently."
   ]
  },
  {
   "cell_type": "markdown",
   "metadata": {},
   "source": [
    "Using a Dask DataFrame, how long does it take to do our prior computation of numbers of people with the same name?  It turns out that `dask.dataframe.groupby()` beats `dask.bag.groupby()` by more than an order of magnitude; but it still cannot match `dask.bag.foldby()` for this case."
   ]
  },
  {
   "cell_type": "code",
   "execution_count": 27,
   "metadata": {
    "execution": {
     "iopub.execute_input": "2022-06-08T22:19:37.007747Z",
     "iopub.status.busy": "2022-06-08T22:19:37.007203Z",
     "iopub.status.idle": "2022-06-08T22:19:38.246029Z",
     "shell.execute_reply": "2022-06-08T22:19:38.245384Z"
    }
   },
   "outputs": [
    {
     "name": "stdout",
     "output_type": "stream",
     "text": [
      "CPU times: user 197 ms, sys: 14.7 ms, total: 212 ms\n",
      "Wall time: 1.23 s\n"
     ]
    },
    {
     "data": {
      "text/plain": [
       "name\n",
       "Alice      351\n",
       "Bob        248\n",
       "Charlie    418\n",
       "Dan        700\n",
       "Edith      448\n",
       "Name: id, dtype: int64"
      ]
     },
     "execution_count": 27,
     "metadata": {},
     "output_type": "execute_result"
    }
   ],
   "source": [
    "%time df1.groupby('name').id.count().compute().head()"
   ]
  },
  {
   "cell_type": "markdown",
   "metadata": {},
   "source": [
    "### Denormalization"
   ]
  },
  {
   "cell_type": "markdown",
   "metadata": {},
   "source": [
    "This DataFrame format is less-than-optimal because the `transactions` column is filled with nested data so Pandas has to revert to `object` dtype, which is quite slow in Pandas.  Ideally we want to transform to a dataframe only after we have flattened our data so that each record is a single `int`, `string`, `float`, etc.."
   ]
  },
  {
   "cell_type": "code",
   "execution_count": 28,
   "metadata": {
    "execution": {
     "iopub.execute_input": "2022-06-08T22:19:38.249207Z",
     "iopub.status.busy": "2022-06-08T22:19:38.248773Z",
     "iopub.status.idle": "2022-06-08T22:19:38.275047Z",
     "shell.execute_reply": "2022-06-08T22:19:38.274323Z"
    }
   },
   "outputs": [
    {
     "data": {
      "text/plain": [
       "({'id': 0, 'name': 'Dan', 'amount': -22, 'transaction-id': 152},\n",
       " {'id': 0, 'name': 'Dan', 'amount': -9, 'transaction-id': 190},\n",
       " {'id': 0, 'name': 'Dan', 'amount': -18, 'transaction-id': 248})"
      ]
     },
     "execution_count": 28,
     "metadata": {},
     "output_type": "execute_result"
    }
   ],
   "source": [
    "def denormalize(record):\n",
    "    # returns a list for each person, one item per transaction\n",
    "    return [{'id': record['id'], \n",
    "             'name': record['name'], \n",
    "             'amount': transaction['amount'], \n",
    "             'transaction-id': transaction['transaction-id']}\n",
    "            for transaction in record['transactions']]\n",
    "\n",
    "transactions = js.map(denormalize).flatten()\n",
    "transactions.take(3)"
   ]
  },
  {
   "cell_type": "code",
   "execution_count": 29,
   "metadata": {
    "execution": {
     "iopub.execute_input": "2022-06-08T22:19:38.278021Z",
     "iopub.status.busy": "2022-06-08T22:19:38.277805Z",
     "iopub.status.idle": "2022-06-08T22:19:38.348932Z",
     "shell.execute_reply": "2022-06-08T22:19:38.348315Z"
    }
   },
   "outputs": [
    {
     "data": {
      "text/html": [
       "<div>\n",
       "<style scoped>\n",
       "    .dataframe tbody tr th:only-of-type {\n",
       "        vertical-align: middle;\n",
       "    }\n",
       "\n",
       "    .dataframe tbody tr th {\n",
       "        vertical-align: top;\n",
       "    }\n",
       "\n",
       "    .dataframe thead th {\n",
       "        text-align: right;\n",
       "    }\n",
       "</style>\n",
       "<table border=\"1\" class=\"dataframe\">\n",
       "  <thead>\n",
       "    <tr style=\"text-align: right;\">\n",
       "      <th></th>\n",
       "      <th>id</th>\n",
       "      <th>name</th>\n",
       "      <th>amount</th>\n",
       "      <th>transaction-id</th>\n",
       "    </tr>\n",
       "  </thead>\n",
       "  <tbody>\n",
       "    <tr>\n",
       "      <th>0</th>\n",
       "      <td>0</td>\n",
       "      <td>Dan</td>\n",
       "      <td>-22</td>\n",
       "      <td>152</td>\n",
       "    </tr>\n",
       "    <tr>\n",
       "      <th>1</th>\n",
       "      <td>0</td>\n",
       "      <td>Dan</td>\n",
       "      <td>-9</td>\n",
       "      <td>190</td>\n",
       "    </tr>\n",
       "    <tr>\n",
       "      <th>2</th>\n",
       "      <td>0</td>\n",
       "      <td>Dan</td>\n",
       "      <td>-18</td>\n",
       "      <td>248</td>\n",
       "    </tr>\n",
       "    <tr>\n",
       "      <th>3</th>\n",
       "      <td>0</td>\n",
       "      <td>Dan</td>\n",
       "      <td>-32</td>\n",
       "      <td>389</td>\n",
       "    </tr>\n",
       "    <tr>\n",
       "      <th>4</th>\n",
       "      <td>0</td>\n",
       "      <td>Dan</td>\n",
       "      <td>-31</td>\n",
       "      <td>425</td>\n",
       "    </tr>\n",
       "  </tbody>\n",
       "</table>\n",
       "</div>"
      ],
      "text/plain": [
       "   id name  amount  transaction-id\n",
       "0   0  Dan     -22             152\n",
       "1   0  Dan      -9             190\n",
       "2   0  Dan     -18             248\n",
       "3   0  Dan     -32             389\n",
       "4   0  Dan     -31             425"
      ]
     },
     "execution_count": 29,
     "metadata": {},
     "output_type": "execute_result"
    }
   ],
   "source": [
    "df = transactions.to_dataframe()\n",
    "df.head()"
   ]
  },
  {
   "cell_type": "code",
   "execution_count": 30,
   "metadata": {
    "execution": {
     "iopub.execute_input": "2022-06-08T22:19:38.353101Z",
     "iopub.status.busy": "2022-06-08T22:19:38.351924Z",
     "iopub.status.idle": "2022-06-08T22:19:39.297023Z",
     "shell.execute_reply": "2022-06-08T22:19:39.296306Z"
    }
   },
   "outputs": [
    {
     "name": "stdout",
     "output_type": "stream",
     "text": [
      "CPU times: user 168 ms, sys: 5.19 ms, total: 173 ms\n",
      "Wall time: 935 ms\n"
     ]
    },
    {
     "data": {
      "text/plain": [
       "name\n",
       "Alice       17918\n",
       "Bob          5883\n",
       "Charlie     19888\n",
       "Dan         38271\n",
       "Edith       12287\n",
       "Frank        5386\n",
       "George      34770\n",
       "Hannah      25239\n",
       "Ingrid      24981\n",
       "Jerry       19923\n",
       "Kevin       20980\n",
       "Laura       22642\n",
       "Michael     22779\n",
       "Norbert     22893\n",
       "Oliver      22360\n",
       "Patricia    26552\n",
       "Quinn       20134\n",
       "Ray         13842\n",
       "Sarah       15001\n",
       "Tim         11045\n",
       "Ursula      15402\n",
       "Victor      19962\n",
       "Wendy       21730\n",
       "Xavier      20751\n",
       "Yvonne      14060\n",
       "Zelda        5321\n",
       "Name: transaction-id, dtype: int64"
      ]
     },
     "execution_count": 30,
     "metadata": {},
     "output_type": "execute_result"
    }
   ],
   "source": [
    "%%time\n",
    "# number of transactions per name\n",
    "# note that the time here includes the data load and ingestion\n",
    "df.groupby('name')['transaction-id'].count().compute()"
   ]
  },
  {
   "cell_type": "markdown",
   "metadata": {},
   "source": [
    "## Limitations"
   ]
  },
  {
   "cell_type": "markdown",
   "metadata": {},
   "source": [
    "Bags provide very general computation (any Python function.)  This generality\n",
    "comes at cost.  Bags have the following known limitations\n",
    "\n",
    "1.  Bag operations tend to be slower than array/dataframe computations in the\n",
    "    same way that Python tends to be slower than NumPy/Pandas\n",
    "2.  ``Bag.groupby`` is slow.  You should try to use ``Bag.foldby`` if possible.\n",
    "    Using ``Bag.foldby`` requires more thought. Even better, consider creating\n",
    "    a normalised dataframe."
   ]
  },
  {
   "cell_type": "markdown",
   "metadata": {},
   "source": [
    "## Learn More\n",
    "\n",
    "* [Bag documentation](https://docs.dask.org/en/latest/bag.html)\n",
    "* [Bag screencast](https://youtu.be/-qIiJ1XtSv0)\n",
    "* [Bag API](https://docs.dask.org/en/latest/bag-api.html)\n",
    "* [Bag examples](https://examples.dask.org/bag.html)"
   ]
  },
  {
   "cell_type": "markdown",
   "metadata": {},
   "source": [
    "## Shutdown"
   ]
  },
  {
   "cell_type": "code",
   "execution_count": 31,
   "metadata": {
    "execution": {
     "iopub.execute_input": "2022-06-08T22:19:39.301671Z",
     "iopub.status.busy": "2022-06-08T22:19:39.300179Z",
     "iopub.status.idle": "2022-06-08T22:19:39.719155Z",
     "shell.execute_reply": "2022-06-08T22:19:39.717949Z"
    }
   },
   "outputs": [
    {
     "name": "stderr",
     "output_type": "stream",
     "text": [
      "/usr/share/miniconda3/envs/dask-tutorial/lib/python3.8/site-packages/dask/dataframe/backends.py:187: FutureWarning: pandas.Int64Index is deprecated and will be removed from pandas in a future version. Use pandas.Index with the appropriate dtype instead.\n",
      "  _numeric_index_types = (pd.Int64Index, pd.Float64Index, pd.UInt64Index)\n",
      "/usr/share/miniconda3/envs/dask-tutorial/lib/python3.8/site-packages/dask/dataframe/backends.py:187: FutureWarning: pandas.Float64Index is deprecated and will be removed from pandas in a future version. Use pandas.Index with the appropriate dtype instead.\n",
      "  _numeric_index_types = (pd.Int64Index, pd.Float64Index, pd.UInt64Index)\n",
      "/usr/share/miniconda3/envs/dask-tutorial/lib/python3.8/site-packages/dask/dataframe/backends.py:187: FutureWarning: pandas.UInt64Index is deprecated and will be removed from pandas in a future version. Use pandas.Index with the appropriate dtype instead.\n",
      "  _numeric_index_types = (pd.Int64Index, pd.Float64Index, pd.UInt64Index)\n",
      "/usr/share/miniconda3/envs/dask-tutorial/lib/python3.8/site-packages/dask/dataframe/backends.py:187: FutureWarning: pandas.Int64Index is deprecated and will be removed from pandas in a future version. Use pandas.Index with the appropriate dtype instead.\n",
      "  _numeric_index_types = (pd.Int64Index, pd.Float64Index, pd.UInt64Index)\n",
      "/usr/share/miniconda3/envs/dask-tutorial/lib/python3.8/site-packages/dask/dataframe/backends.py:187: FutureWarning: pandas.Float64Index is deprecated and will be removed from pandas in a future version. Use pandas.Index with the appropriate dtype instead.\n",
      "  _numeric_index_types = (pd.Int64Index, pd.Float64Index, pd.UInt64Index)\n",
      "/usr/share/miniconda3/envs/dask-tutorial/lib/python3.8/site-packages/dask/dataframe/backends.py:187: FutureWarning: pandas.UInt64Index is deprecated and will be removed from pandas in a future version. Use pandas.Index with the appropriate dtype instead.\n",
      "  _numeric_index_types = (pd.Int64Index, pd.Float64Index, pd.UInt64Index)\n",
      "/usr/share/miniconda3/envs/dask-tutorial/lib/python3.8/site-packages/dask/dataframe/backends.py:187: FutureWarning: pandas.Int64Index is deprecated and will be removed from pandas in a future version. Use pandas.Index with the appropriate dtype instead.\n",
      "  _numeric_index_types = (pd.Int64Index, pd.Float64Index, pd.UInt64Index)\n",
      "/usr/share/miniconda3/envs/dask-tutorial/lib/python3.8/site-packages/dask/dataframe/backends.py:187: FutureWarning: pandas.Float64Index is deprecated and will be removed from pandas in a future version. Use pandas.Index with the appropriate dtype instead.\n",
      "  _numeric_index_types = (pd.Int64Index, pd.Float64Index, pd.UInt64Index)\n",
      "/usr/share/miniconda3/envs/dask-tutorial/lib/python3.8/site-packages/dask/dataframe/backends.py:187: FutureWarning: pandas.UInt64Index is deprecated and will be removed from pandas in a future version. Use pandas.Index with the appropriate dtype instead.\n",
      "  _numeric_index_types = (pd.Int64Index, pd.Float64Index, pd.UInt64Index)\n",
      "/usr/share/miniconda3/envs/dask-tutorial/lib/python3.8/site-packages/dask/dataframe/backends.py:187: FutureWarning: pandas.Int64Index is deprecated and will be removed from pandas in a future version. Use pandas.Index with the appropriate dtype instead.\n",
      "  _numeric_index_types = (pd.Int64Index, pd.Float64Index, pd.UInt64Index)\n",
      "/usr/share/miniconda3/envs/dask-tutorial/lib/python3.8/site-packages/dask/dataframe/backends.py:187: FutureWarning: pandas.Float64Index is deprecated and will be removed from pandas in a future version. Use pandas.Index with the appropriate dtype instead.\n",
      "  _numeric_index_types = (pd.Int64Index, pd.Float64Index, pd.UInt64Index)\n",
      "/usr/share/miniconda3/envs/dask-tutorial/lib/python3.8/site-packages/dask/dataframe/backends.py:187: FutureWarning: pandas.UInt64Index is deprecated and will be removed from pandas in a future version. Use pandas.Index with the appropriate dtype instead.\n",
      "  _numeric_index_types = (pd.Int64Index, pd.Float64Index, pd.UInt64Index)\n"
     ]
    }
   ],
   "source": [
    "client.shutdown()"
   ]
  }
 ],
 "metadata": {
  "anaconda-cloud": {},
  "kernelspec": {
   "display_name": "Python 3",
   "language": "python",
   "name": "python3"
  },
  "language_info": {
   "codemirror_mode": {
    "name": "ipython",
    "version": 3
   },
   "file_extension": ".py",
   "mimetype": "text/x-python",
   "name": "python",
   "nbconvert_exporter": "python",
   "pygments_lexer": "ipython3",
   "version": "3.8.13"
  }
 },
 "nbformat": 4,
 "nbformat_minor": 4
}
