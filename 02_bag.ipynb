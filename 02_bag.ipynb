{
 "cells": [
  {
   "cell_type": "markdown",
   "metadata": {},
   "source": [
    "<img src=\"images/dask_horizontal.svg\" align=\"right\" width=\"30%\">"
   ]
  },
  {
   "cell_type": "markdown",
   "metadata": {},
   "source": [
    "# Bag: Parallel Lists for semi-structured data"
   ]
  },
  {
   "cell_type": "markdown",
   "metadata": {},
   "source": [
    "Dask-bag excels in processing data that can be represented as a sequence of arbitrary inputs. We'll refer to this as \"messy\" data, because it can contain complex nested structures, missing fields, mixtures of data types, etc. The *functional* programming style fits very nicely with standard Python iteration, such as can be found in the `itertools` module.\n",
    "\n",
    "Messy data is often encountered at the beginning of data processing pipelines when large volumes of raw data are first consumed. The initial set of data might be JSON, CSV, XML, or any other format that does not enforce strict structure and datatypes.\n",
    "For this reason, the initial data massaging and processing is often done with Python `list`s, `dict`s, and `set`s.\n",
    "\n",
    "These core data structures are optimized for general-purpose storage and processing.  Adding streaming computation with iterators/generator expressions or libraries like `itertools` or [`toolz`](https://toolz.readthedocs.io/en/latest/) let us process large volumes in a small space.  If we combine this with parallel processing then we can churn through a fair amount of data.\n",
    "\n",
    "Dask.bag is a high level Dask collection to automate common workloads of this form.  In a nutshell\n",
    "\n",
    "    dask.bag = map, filter, toolz + parallel execution\n",
    "    \n",
    "**Related Documentation**\n",
    "\n",
    "* [Bag documentation](https://docs.dask.org/en/latest/bag.html)\n",
    "* [Bag screencast](https://youtu.be/-qIiJ1XtSv0)\n",
    "* [Bag API](https://docs.dask.org/en/latest/bag-api.html)\n",
    "* [Bag examples](https://examples.dask.org/bag.html)"
   ]
  },
  {
   "cell_type": "markdown",
   "metadata": {},
   "source": [
    "## Create data"
   ]
  },
  {
   "cell_type": "code",
   "execution_count": 1,
   "metadata": {
    "execution": {
     "iopub.execute_input": "2021-12-10T21:45:28.772617Z",
     "iopub.status.busy": "2021-12-10T21:45:28.772189Z",
     "iopub.status.idle": "2021-12-10T21:45:29.263506Z",
     "shell.execute_reply": "2021-12-10T21:45:29.262939Z"
    }
   },
   "outputs": [],
   "source": [
    "%run prep.py -d accounts"
   ]
  },
  {
   "cell_type": "markdown",
   "metadata": {},
   "source": [
    "## Setup"
   ]
  },
  {
   "cell_type": "markdown",
   "metadata": {},
   "source": [
    "Again, we'll use the distributed scheduler. Schedulers will be explained in depth [later](05_distributed.ipynb)."
   ]
  },
  {
   "cell_type": "code",
   "execution_count": 2,
   "metadata": {
    "execution": {
     "iopub.execute_input": "2021-12-10T21:45:29.267287Z",
     "iopub.status.busy": "2021-12-10T21:45:29.266578Z",
     "iopub.status.idle": "2021-12-10T21:45:31.349091Z",
     "shell.execute_reply": "2021-12-10T21:45:31.348286Z"
    }
   },
   "outputs": [],
   "source": [
    "from dask.distributed import Client\n",
    "\n",
    "client = Client(n_workers=4)"
   ]
  },
  {
   "cell_type": "markdown",
   "metadata": {},
   "source": [
    "## Creation"
   ]
  },
  {
   "cell_type": "markdown",
   "metadata": {},
   "source": [
    "You can create a `Bag` from a Python sequence, from files, from data on S3, etc.\n",
    "We demonstrate using `.take()` to show elements of the data. (Doing `.take(1)` results in a tuple with one element)\n",
    "\n",
    "Note that the data are partitioned into blocks, and there are many items per block. In the first example, the two partitions contain five elements each, and in the following two, each file is partitioned into one or more bytes blocks."
   ]
  },
  {
   "cell_type": "code",
   "execution_count": 3,
   "metadata": {
    "execution": {
     "iopub.execute_input": "2021-12-10T21:45:31.354274Z",
     "iopub.status.busy": "2021-12-10T21:45:31.353763Z",
     "iopub.status.idle": "2021-12-10T21:45:31.585700Z",
     "shell.execute_reply": "2021-12-10T21:45:31.586032Z"
    }
   },
   "outputs": [
    {
     "data": {
      "text/plain": [
       "(1, 2, 3)"
      ]
     },
     "execution_count": 3,
     "metadata": {},
     "output_type": "execute_result"
    }
   ],
   "source": [
    "# each element is an integer\n",
    "import dask.bag as db\n",
    "b = db.from_sequence([1, 2, 3, 4, 5, 6, 7, 8, 9, 10], npartitions=2)\n",
    "b.take(3)"
   ]
  },
  {
   "cell_type": "code",
   "execution_count": 4,
   "metadata": {
    "execution": {
     "iopub.execute_input": "2021-12-10T21:45:31.589867Z",
     "iopub.status.busy": "2021-12-10T21:45:31.589398Z",
     "iopub.status.idle": "2021-12-10T21:45:31.654607Z",
     "shell.execute_reply": "2021-12-10T21:45:31.654940Z"
    }
   },
   "outputs": [
    {
     "data": {
      "text/plain": [
       "('{\"id\": 0, \"name\": \"Bob\", \"transactions\": [{\"transaction-id\": 38, \"amount\": 81}, {\"transaction-id\": 39, \"amount\": 123}, {\"transaction-id\": 191, \"amount\": 164}, {\"transaction-id\": 287, \"amount\": 110}, {\"transaction-id\": 313, \"amount\": 62}, {\"transaction-id\": 441, \"amount\": 189}, {\"transaction-id\": 583, \"amount\": 80}, {\"transaction-id\": 613, \"amount\": 33}, {\"transaction-id\": 692, \"amount\": 197}, {\"transaction-id\": 832, \"amount\": 113}, {\"transaction-id\": 856, \"amount\": 127}, {\"transaction-id\": 872, \"amount\": 158}, {\"transaction-id\": 972, \"amount\": 78}, {\"transaction-id\": 1179, \"amount\": 211}, {\"transaction-id\": 1276, \"amount\": 182}, {\"transaction-id\": 1298, \"amount\": 160}, {\"transaction-id\": 1332, \"amount\": 45}, {\"transaction-id\": 1413, \"amount\": 172}, {\"transaction-id\": 1487, \"amount\": 6}, {\"transaction-id\": 1604, \"amount\": 146}, {\"transaction-id\": 1625, \"amount\": 82}, {\"transaction-id\": 1922, \"amount\": 73}, {\"transaction-id\": 1979, \"amount\": 34}, {\"transaction-id\": 2187, \"amount\": 162}, {\"transaction-id\": 2195, \"amount\": 130}, {\"transaction-id\": 2299, \"amount\": 102}, {\"transaction-id\": 2356, \"amount\": 127}, {\"transaction-id\": 2452, \"amount\": 61}, {\"transaction-id\": 2503, \"amount\": 180}, {\"transaction-id\": 2517, \"amount\": 153}, {\"transaction-id\": 2558, \"amount\": 141}, {\"transaction-id\": 2638, \"amount\": 56}, {\"transaction-id\": 2711, \"amount\": 126}, {\"transaction-id\": 2724, \"amount\": 46}, {\"transaction-id\": 2817, \"amount\": 100}, {\"transaction-id\": 2841, \"amount\": 147}, {\"transaction-id\": 2866, \"amount\": 190}, {\"transaction-id\": 2877, \"amount\": 114}, {\"transaction-id\": 2931, \"amount\": 144}, {\"transaction-id\": 2932, \"amount\": 172}, {\"transaction-id\": 2950, \"amount\": 182}, {\"transaction-id\": 3070, \"amount\": 11}, {\"transaction-id\": 3135, \"amount\": 149}, {\"transaction-id\": 3139, \"amount\": 187}, {\"transaction-id\": 3169, \"amount\": 164}, {\"transaction-id\": 3188, \"amount\": 119}, {\"transaction-id\": 3303, \"amount\": 235}, {\"transaction-id\": 3413, \"amount\": -20}, {\"transaction-id\": 3597, \"amount\": 76}, {\"transaction-id\": 3671, \"amount\": 140}, {\"transaction-id\": 3945, \"amount\": 284}, {\"transaction-id\": 3953, \"amount\": 54}, {\"transaction-id\": 4086, \"amount\": 122}, {\"transaction-id\": 4155, \"amount\": 128}, {\"transaction-id\": 4171, \"amount\": 107}, {\"transaction-id\": 4227, \"amount\": 158}, {\"transaction-id\": 4279, \"amount\": 112}, {\"transaction-id\": 4283, \"amount\": 75}, {\"transaction-id\": 4337, \"amount\": 101}, {\"transaction-id\": 4448, \"amount\": 83}, {\"transaction-id\": 4603, \"amount\": 196}, {\"transaction-id\": 4613, \"amount\": 75}, {\"transaction-id\": 4778, \"amount\": 60}, {\"transaction-id\": 4943, \"amount\": 132}, {\"transaction-id\": 5080, \"amount\": 56}, {\"transaction-id\": 5173, \"amount\": 149}, {\"transaction-id\": 5176, \"amount\": 70}, {\"transaction-id\": 5282, \"amount\": 59}, {\"transaction-id\": 5317, \"amount\": 117}, {\"transaction-id\": 5390, \"amount\": 71}, {\"transaction-id\": 5443, \"amount\": 228}, {\"transaction-id\": 5509, \"amount\": 123}, {\"transaction-id\": 5806, \"amount\": 191}, {\"transaction-id\": 6056, \"amount\": 175}, {\"transaction-id\": 6266, \"amount\": 188}, {\"transaction-id\": 6290, \"amount\": 66}, {\"transaction-id\": 6385, \"amount\": 126}, {\"transaction-id\": 6430, \"amount\": 95}, {\"transaction-id\": 6438, \"amount\": 117}, {\"transaction-id\": 6491, \"amount\": 136}, {\"transaction-id\": 6599, \"amount\": 102}, {\"transaction-id\": 6608, \"amount\": 126}, {\"transaction-id\": 6654, \"amount\": 53}, {\"transaction-id\": 6655, \"amount\": 154}, {\"transaction-id\": 6835, \"amount\": 97}, {\"transaction-id\": 6851, \"amount\": 145}, {\"transaction-id\": 6936, \"amount\": 119}, {\"transaction-id\": 7088, \"amount\": 119}, {\"transaction-id\": 7164, \"amount\": 143}, {\"transaction-id\": 7186, \"amount\": 109}, {\"transaction-id\": 7204, \"amount\": 49}, {\"transaction-id\": 7221, \"amount\": 156}, {\"transaction-id\": 7434, \"amount\": 75}, {\"transaction-id\": 7467, \"amount\": 137}, {\"transaction-id\": 7562, \"amount\": 85}, {\"transaction-id\": 7602, \"amount\": 140}, {\"transaction-id\": 7623, \"amount\": 71}, {\"transaction-id\": 7661, \"amount\": 73}, {\"transaction-id\": 7818, \"amount\": 119}, {\"transaction-id\": 7885, \"amount\": 139}, {\"transaction-id\": 8291, \"amount\": 153}, {\"transaction-id\": 8345, \"amount\": 66}, {\"transaction-id\": 8611, \"amount\": 127}, {\"transaction-id\": 8706, \"amount\": 82}, {\"transaction-id\": 8795, \"amount\": 87}, {\"transaction-id\": 8797, \"amount\": 160}, {\"transaction-id\": 8838, \"amount\": 194}, {\"transaction-id\": 8995, \"amount\": 62}, {\"transaction-id\": 9106, \"amount\": 125}, {\"transaction-id\": 9144, \"amount\": 116}, {\"transaction-id\": 9171, \"amount\": 52}, {\"transaction-id\": 9360, \"amount\": 38}, {\"transaction-id\": 9404, \"amount\": 78}, {\"transaction-id\": 9415, \"amount\": 105}, {\"transaction-id\": 9559, \"amount\": 206}, {\"transaction-id\": 9583, \"amount\": 103}, {\"transaction-id\": 9585, \"amount\": 158}, {\"transaction-id\": 9586, \"amount\": 186}, {\"transaction-id\": 9633, \"amount\": 141}, {\"transaction-id\": 9720, \"amount\": 110}, {\"transaction-id\": 9780, \"amount\": 104}, {\"transaction-id\": 9852, \"amount\": 163}, {\"transaction-id\": 9859, \"amount\": 106}, {\"transaction-id\": 9946, \"amount\": 131}, {\"transaction-id\": 9971, \"amount\": 153}]}\\n',)"
      ]
     },
     "execution_count": 4,
     "metadata": {},
     "output_type": "execute_result"
    }
   ],
   "source": [
    "# each element is a text file, where each line is a JSON object\n",
    "# note that the compression is handled automatically\n",
    "import os\n",
    "b = db.read_text(os.path.join('data', 'accounts.*.json.gz'))\n",
    "b.take(1)"
   ]
  },
  {
   "cell_type": "code",
   "execution_count": 5,
   "metadata": {
    "execution": {
     "iopub.execute_input": "2021-12-10T21:45:31.658597Z",
     "iopub.status.busy": "2021-12-10T21:45:31.658161Z",
     "iopub.status.idle": "2021-12-10T21:45:31.663117Z",
     "shell.execute_reply": "2021-12-10T21:45:31.663456Z"
    }
   },
   "outputs": [
    {
     "data": {
      "text/plain": [
       "'s3://dask-data/nyc-taxi/2015/yellow_tripdata_2015-01.csv'"
      ]
     },
     "execution_count": 5,
     "metadata": {},
     "output_type": "execute_result"
    }
   ],
   "source": [
    "# Edit sources.py to configure source locations\n",
    "import sources\n",
    "sources.bag_url"
   ]
  },
  {
   "cell_type": "code",
   "execution_count": 6,
   "metadata": {
    "execution": {
     "iopub.execute_input": "2021-12-10T21:45:31.667253Z",
     "iopub.status.busy": "2021-12-10T21:45:31.666429Z",
     "iopub.status.idle": "2021-12-10T21:45:32.632102Z",
     "shell.execute_reply": "2021-12-10T21:45:32.631694Z"
    }
   },
   "outputs": [
    {
     "data": {
      "text/plain": [
       "('VendorID,tpep_pickup_datetime,tpep_dropoff_datetime,passenger_count,trip_distance,pickup_longitude,pickup_latitude,RateCodeID,store_and_fwd_flag,dropoff_longitude,dropoff_latitude,payment_type,fare_amount,extra,mta_tax,tip_amount,tolls_amount,improvement_surcharge,total_amount\\n',)"
      ]
     },
     "execution_count": 6,
     "metadata": {},
     "output_type": "execute_result"
    }
   ],
   "source": [
    "# Requires `s3fs` library\n",
    "# each partition is a remote CSV text file\n",
    "b = db.read_text(sources.bag_url,\n",
    "                 storage_options={'anon': True})\n",
    "b.take(1)"
   ]
  },
  {
   "cell_type": "markdown",
   "metadata": {},
   "source": [
    "## Manipulation"
   ]
  },
  {
   "cell_type": "markdown",
   "metadata": {},
   "source": [
    "`Bag` objects hold the standard functional API found in projects like the Python standard library, `toolz`, or `pyspark`, including `map`, `filter`, `groupby`, etc..\n",
    "\n",
    "Operations on `Bag` objects create new bags.  Call the `.compute()` method to trigger execution, as we saw for `Delayed` objects.  "
   ]
  },
  {
   "cell_type": "code",
   "execution_count": 7,
   "metadata": {
    "execution": {
     "iopub.execute_input": "2021-12-10T21:45:32.637817Z",
     "iopub.status.busy": "2021-12-10T21:45:32.637283Z",
     "iopub.status.idle": "2021-12-10T21:45:32.640455Z",
     "shell.execute_reply": "2021-12-10T21:45:32.640079Z"
    }
   },
   "outputs": [
    {
     "data": {
      "text/plain": [
       "dask.bag<lambda, npartitions=10>"
      ]
     },
     "execution_count": 7,
     "metadata": {},
     "output_type": "execute_result"
    }
   ],
   "source": [
    "def is_even(n):\n",
    "    return n % 2 == 0\n",
    "\n",
    "b = db.from_sequence([1, 2, 3, 4, 5, 6, 7, 8, 9, 10])\n",
    "c = b.filter(is_even).map(lambda x: x ** 2)\n",
    "c"
   ]
  },
  {
   "cell_type": "code",
   "execution_count": 8,
   "metadata": {
    "execution": {
     "iopub.execute_input": "2021-12-10T21:45:32.654699Z",
     "iopub.status.busy": "2021-12-10T21:45:32.654271Z",
     "iopub.status.idle": "2021-12-10T21:45:32.775401Z",
     "shell.execute_reply": "2021-12-10T21:45:32.775030Z"
    }
   },
   "outputs": [
    {
     "data": {
      "text/plain": [
       "[4, 16, 36, 64, 100]"
      ]
     },
     "execution_count": 8,
     "metadata": {},
     "output_type": "execute_result"
    }
   ],
   "source": [
    "# blocking form: wait for completion (which is very fast in this case)\n",
    "c.compute()"
   ]
  },
  {
   "cell_type": "markdown",
   "metadata": {},
   "source": [
    "### Example: Accounts JSON data"
   ]
  },
  {
   "cell_type": "markdown",
   "metadata": {},
   "source": [
    "We've created a fake dataset of gzipped JSON data in your data directory.  This is like the example used in the `DataFrame` example we will see later, except that it has bundled up all of the entries for each individual `id` into a single record.  This is similar to data that you might collect off of a document store database or a web API.\n",
    "\n",
    "Each line is a JSON encoded dictionary with the following keys\n",
    "\n",
    "*  id: Unique identifier of the customer\n",
    "*  name: Name of the customer\n",
    "*  transactions: List of `transaction-id`, `amount` pairs, one for each transaction for the customer in that file"
   ]
  },
  {
   "cell_type": "code",
   "execution_count": 9,
   "metadata": {
    "execution": {
     "iopub.execute_input": "2021-12-10T21:45:32.782474Z",
     "iopub.status.busy": "2021-12-10T21:45:32.779302Z",
     "iopub.status.idle": "2021-12-10T21:45:32.809103Z",
     "shell.execute_reply": "2021-12-10T21:45:32.809422Z"
    }
   },
   "outputs": [
    {
     "data": {
      "text/plain": [
       "('{\"id\": 0, \"name\": \"Bob\", \"transactions\": [{\"transaction-id\": 38, \"amount\": 81}, {\"transaction-id\": 39, \"amount\": 123}, {\"transaction-id\": 191, \"amount\": 164}, {\"transaction-id\": 287, \"amount\": 110}, {\"transaction-id\": 313, \"amount\": 62}, {\"transaction-id\": 441, \"amount\": 189}, {\"transaction-id\": 583, \"amount\": 80}, {\"transaction-id\": 613, \"amount\": 33}, {\"transaction-id\": 692, \"amount\": 197}, {\"transaction-id\": 832, \"amount\": 113}, {\"transaction-id\": 856, \"amount\": 127}, {\"transaction-id\": 872, \"amount\": 158}, {\"transaction-id\": 972, \"amount\": 78}, {\"transaction-id\": 1179, \"amount\": 211}, {\"transaction-id\": 1276, \"amount\": 182}, {\"transaction-id\": 1298, \"amount\": 160}, {\"transaction-id\": 1332, \"amount\": 45}, {\"transaction-id\": 1413, \"amount\": 172}, {\"transaction-id\": 1487, \"amount\": 6}, {\"transaction-id\": 1604, \"amount\": 146}, {\"transaction-id\": 1625, \"amount\": 82}, {\"transaction-id\": 1922, \"amount\": 73}, {\"transaction-id\": 1979, \"amount\": 34}, {\"transaction-id\": 2187, \"amount\": 162}, {\"transaction-id\": 2195, \"amount\": 130}, {\"transaction-id\": 2299, \"amount\": 102}, {\"transaction-id\": 2356, \"amount\": 127}, {\"transaction-id\": 2452, \"amount\": 61}, {\"transaction-id\": 2503, \"amount\": 180}, {\"transaction-id\": 2517, \"amount\": 153}, {\"transaction-id\": 2558, \"amount\": 141}, {\"transaction-id\": 2638, \"amount\": 56}, {\"transaction-id\": 2711, \"amount\": 126}, {\"transaction-id\": 2724, \"amount\": 46}, {\"transaction-id\": 2817, \"amount\": 100}, {\"transaction-id\": 2841, \"amount\": 147}, {\"transaction-id\": 2866, \"amount\": 190}, {\"transaction-id\": 2877, \"amount\": 114}, {\"transaction-id\": 2931, \"amount\": 144}, {\"transaction-id\": 2932, \"amount\": 172}, {\"transaction-id\": 2950, \"amount\": 182}, {\"transaction-id\": 3070, \"amount\": 11}, {\"transaction-id\": 3135, \"amount\": 149}, {\"transaction-id\": 3139, \"amount\": 187}, {\"transaction-id\": 3169, \"amount\": 164}, {\"transaction-id\": 3188, \"amount\": 119}, {\"transaction-id\": 3303, \"amount\": 235}, {\"transaction-id\": 3413, \"amount\": -20}, {\"transaction-id\": 3597, \"amount\": 76}, {\"transaction-id\": 3671, \"amount\": 140}, {\"transaction-id\": 3945, \"amount\": 284}, {\"transaction-id\": 3953, \"amount\": 54}, {\"transaction-id\": 4086, \"amount\": 122}, {\"transaction-id\": 4155, \"amount\": 128}, {\"transaction-id\": 4171, \"amount\": 107}, {\"transaction-id\": 4227, \"amount\": 158}, {\"transaction-id\": 4279, \"amount\": 112}, {\"transaction-id\": 4283, \"amount\": 75}, {\"transaction-id\": 4337, \"amount\": 101}, {\"transaction-id\": 4448, \"amount\": 83}, {\"transaction-id\": 4603, \"amount\": 196}, {\"transaction-id\": 4613, \"amount\": 75}, {\"transaction-id\": 4778, \"amount\": 60}, {\"transaction-id\": 4943, \"amount\": 132}, {\"transaction-id\": 5080, \"amount\": 56}, {\"transaction-id\": 5173, \"amount\": 149}, {\"transaction-id\": 5176, \"amount\": 70}, {\"transaction-id\": 5282, \"amount\": 59}, {\"transaction-id\": 5317, \"amount\": 117}, {\"transaction-id\": 5390, \"amount\": 71}, {\"transaction-id\": 5443, \"amount\": 228}, {\"transaction-id\": 5509, \"amount\": 123}, {\"transaction-id\": 5806, \"amount\": 191}, {\"transaction-id\": 6056, \"amount\": 175}, {\"transaction-id\": 6266, \"amount\": 188}, {\"transaction-id\": 6290, \"amount\": 66}, {\"transaction-id\": 6385, \"amount\": 126}, {\"transaction-id\": 6430, \"amount\": 95}, {\"transaction-id\": 6438, \"amount\": 117}, {\"transaction-id\": 6491, \"amount\": 136}, {\"transaction-id\": 6599, \"amount\": 102}, {\"transaction-id\": 6608, \"amount\": 126}, {\"transaction-id\": 6654, \"amount\": 53}, {\"transaction-id\": 6655, \"amount\": 154}, {\"transaction-id\": 6835, \"amount\": 97}, {\"transaction-id\": 6851, \"amount\": 145}, {\"transaction-id\": 6936, \"amount\": 119}, {\"transaction-id\": 7088, \"amount\": 119}, {\"transaction-id\": 7164, \"amount\": 143}, {\"transaction-id\": 7186, \"amount\": 109}, {\"transaction-id\": 7204, \"amount\": 49}, {\"transaction-id\": 7221, \"amount\": 156}, {\"transaction-id\": 7434, \"amount\": 75}, {\"transaction-id\": 7467, \"amount\": 137}, {\"transaction-id\": 7562, \"amount\": 85}, {\"transaction-id\": 7602, \"amount\": 140}, {\"transaction-id\": 7623, \"amount\": 71}, {\"transaction-id\": 7661, \"amount\": 73}, {\"transaction-id\": 7818, \"amount\": 119}, {\"transaction-id\": 7885, \"amount\": 139}, {\"transaction-id\": 8291, \"amount\": 153}, {\"transaction-id\": 8345, \"amount\": 66}, {\"transaction-id\": 8611, \"amount\": 127}, {\"transaction-id\": 8706, \"amount\": 82}, {\"transaction-id\": 8795, \"amount\": 87}, {\"transaction-id\": 8797, \"amount\": 160}, {\"transaction-id\": 8838, \"amount\": 194}, {\"transaction-id\": 8995, \"amount\": 62}, {\"transaction-id\": 9106, \"amount\": 125}, {\"transaction-id\": 9144, \"amount\": 116}, {\"transaction-id\": 9171, \"amount\": 52}, {\"transaction-id\": 9360, \"amount\": 38}, {\"transaction-id\": 9404, \"amount\": 78}, {\"transaction-id\": 9415, \"amount\": 105}, {\"transaction-id\": 9559, \"amount\": 206}, {\"transaction-id\": 9583, \"amount\": 103}, {\"transaction-id\": 9585, \"amount\": 158}, {\"transaction-id\": 9586, \"amount\": 186}, {\"transaction-id\": 9633, \"amount\": 141}, {\"transaction-id\": 9720, \"amount\": 110}, {\"transaction-id\": 9780, \"amount\": 104}, {\"transaction-id\": 9852, \"amount\": 163}, {\"transaction-id\": 9859, \"amount\": 106}, {\"transaction-id\": 9946, \"amount\": 131}, {\"transaction-id\": 9971, \"amount\": 153}]}\\n',\n",
       " '{\"id\": 1, \"name\": \"Edith\", \"transactions\": [{\"transaction-id\": 4671, \"amount\": 6247}, {\"transaction-id\": 8178, \"amount\": 6165}]}\\n',\n",
       " '{\"id\": 2, \"name\": \"Ray\", \"transactions\": [{\"transaction-id\": 5, \"amount\": 2675}, {\"transaction-id\": 196, \"amount\": 2330}, {\"transaction-id\": 216, \"amount\": 2731}, {\"transaction-id\": 259, \"amount\": 2371}, {\"transaction-id\": 260, \"amount\": 2364}, {\"transaction-id\": 481, \"amount\": 2621}, {\"transaction-id\": 639, \"amount\": 2535}, {\"transaction-id\": 841, \"amount\": 2538}, {\"transaction-id\": 877, \"amount\": 2512}, {\"transaction-id\": 982, \"amount\": 2284}, {\"transaction-id\": 1009, \"amount\": 2470}, {\"transaction-id\": 1111, \"amount\": 2332}, {\"transaction-id\": 1203, \"amount\": 2534}, {\"transaction-id\": 1274, \"amount\": 2454}, {\"transaction-id\": 1322, \"amount\": 2513}, {\"transaction-id\": 1628, \"amount\": 2467}, {\"transaction-id\": 1754, \"amount\": 2570}, {\"transaction-id\": 1760, \"amount\": 2461}, {\"transaction-id\": 2000, \"amount\": 2558}, {\"transaction-id\": 2417, \"amount\": 2616}, {\"transaction-id\": 2472, \"amount\": 2428}, {\"transaction-id\": 2591, \"amount\": 2532}, {\"transaction-id\": 2622, \"amount\": 2575}, {\"transaction-id\": 2682, \"amount\": 2593}, {\"transaction-id\": 2740, \"amount\": 2538}, {\"transaction-id\": 2750, \"amount\": 2400}, {\"transaction-id\": 2778, \"amount\": 2547}, {\"transaction-id\": 2828, \"amount\": 2635}, {\"transaction-id\": 2953, \"amount\": 2321}, {\"transaction-id\": 3026, \"amount\": 2506}, {\"transaction-id\": 3215, \"amount\": 2546}, {\"transaction-id\": 3391, \"amount\": 2513}, {\"transaction-id\": 3414, \"amount\": 2673}, {\"transaction-id\": 3444, \"amount\": 2511}, {\"transaction-id\": 3450, \"amount\": 2615}, {\"transaction-id\": 3547, \"amount\": 2640}, {\"transaction-id\": 3558, \"amount\": 2482}, {\"transaction-id\": 3719, \"amount\": 2449}, {\"transaction-id\": 3816, \"amount\": 2529}, {\"transaction-id\": 3826, \"amount\": 2423}, {\"transaction-id\": 3862, \"amount\": 2591}, {\"transaction-id\": 4019, \"amount\": 2347}, {\"transaction-id\": 4211, \"amount\": 2453}, {\"transaction-id\": 4344, \"amount\": 2508}, {\"transaction-id\": 4421, \"amount\": 2567}, {\"transaction-id\": 4440, \"amount\": 2709}, {\"transaction-id\": 4591, \"amount\": 2404}, {\"transaction-id\": 4635, \"amount\": 2333}, {\"transaction-id\": 4718, \"amount\": 2458}, {\"transaction-id\": 4739, \"amount\": 2554}, {\"transaction-id\": 4859, \"amount\": 2708}, {\"transaction-id\": 4892, \"amount\": 2641}, {\"transaction-id\": 4989, \"amount\": 2419}, {\"transaction-id\": 5065, \"amount\": 2376}, {\"transaction-id\": 5289, \"amount\": 2470}, {\"transaction-id\": 5441, \"amount\": 2408}, {\"transaction-id\": 5614, \"amount\": 2350}, {\"transaction-id\": 5639, \"amount\": 2493}, {\"transaction-id\": 5690, \"amount\": 2616}, {\"transaction-id\": 5746, \"amount\": 2616}, {\"transaction-id\": 5766, \"amount\": 2573}, {\"transaction-id\": 5900, \"amount\": 2471}, {\"transaction-id\": 5983, \"amount\": 2459}, {\"transaction-id\": 6158, \"amount\": 2780}, {\"transaction-id\": 6185, \"amount\": 2444}, {\"transaction-id\": 6257, \"amount\": 2405}, {\"transaction-id\": 6272, \"amount\": 2819}, {\"transaction-id\": 6424, \"amount\": 2378}, {\"transaction-id\": 6585, \"amount\": 2807}, {\"transaction-id\": 6767, \"amount\": 2589}, {\"transaction-id\": 6791, \"amount\": 2579}, {\"transaction-id\": 6914, \"amount\": 2451}, {\"transaction-id\": 7002, \"amount\": 2294}, {\"transaction-id\": 7041, \"amount\": 2432}, {\"transaction-id\": 7128, \"amount\": 2593}, {\"transaction-id\": 7162, \"amount\": 2496}, {\"transaction-id\": 7231, \"amount\": 2557}, {\"transaction-id\": 7327, \"amount\": 2356}, {\"transaction-id\": 7352, \"amount\": 2544}, {\"transaction-id\": 7365, \"amount\": 2422}, {\"transaction-id\": 7436, \"amount\": 2701}, {\"transaction-id\": 7493, \"amount\": 2602}, {\"transaction-id\": 7735, \"amount\": 2552}, {\"transaction-id\": 7925, \"amount\": 2411}, {\"transaction-id\": 7982, \"amount\": 2614}, {\"transaction-id\": 8109, \"amount\": 2381}, {\"transaction-id\": 8213, \"amount\": 2257}, {\"transaction-id\": 8300, \"amount\": 2541}, {\"transaction-id\": 8421, \"amount\": 2405}, {\"transaction-id\": 8435, \"amount\": 2654}, {\"transaction-id\": 8516, \"amount\": 2602}, {\"transaction-id\": 8605, \"amount\": 2631}, {\"transaction-id\": 8899, \"amount\": 2540}, {\"transaction-id\": 8914, \"amount\": 2256}, {\"transaction-id\": 9058, \"amount\": 2297}, {\"transaction-id\": 9229, \"amount\": 2526}, {\"transaction-id\": 9241, \"amount\": 2389}, {\"transaction-id\": 9438, \"amount\": 2368}, {\"transaction-id\": 9538, \"amount\": 2501}, {\"transaction-id\": 9555, \"amount\": 2113}, {\"transaction-id\": 9613, \"amount\": 2476}, {\"transaction-id\": 9734, \"amount\": 2598}, {\"transaction-id\": 9816, \"amount\": 2537}, {\"transaction-id\": 9993, \"amount\": 2520}]}\\n')"
      ]
     },
     "execution_count": 9,
     "metadata": {},
     "output_type": "execute_result"
    }
   ],
   "source": [
    "filename = os.path.join('data', 'accounts.*.json.gz')\n",
    "lines = db.read_text(filename)\n",
    "lines.take(3)"
   ]
  },
  {
   "cell_type": "markdown",
   "metadata": {},
   "source": [
    "Our data comes out of the file as lines of text. Notice that file decompression happened automatically. We can make this data look more reasonable by mapping the `json.loads` function onto our bag."
   ]
  },
  {
   "cell_type": "code",
   "execution_count": 10,
   "metadata": {
    "execution": {
     "iopub.execute_input": "2021-12-10T21:45:32.817435Z",
     "iopub.status.busy": "2021-12-10T21:45:32.817019Z",
     "iopub.status.idle": "2021-12-10T21:45:32.847551Z",
     "shell.execute_reply": "2021-12-10T21:45:32.847868Z"
    }
   },
   "outputs": [
    {
     "data": {
      "text/plain": [
       "({'id': 0,\n",
       "  'name': 'Bob',\n",
       "  'transactions': [{'transaction-id': 38, 'amount': 81},\n",
       "   {'transaction-id': 39, 'amount': 123},\n",
       "   {'transaction-id': 191, 'amount': 164},\n",
       "   {'transaction-id': 287, 'amount': 110},\n",
       "   {'transaction-id': 313, 'amount': 62},\n",
       "   {'transaction-id': 441, 'amount': 189},\n",
       "   {'transaction-id': 583, 'amount': 80},\n",
       "   {'transaction-id': 613, 'amount': 33},\n",
       "   {'transaction-id': 692, 'amount': 197},\n",
       "   {'transaction-id': 832, 'amount': 113},\n",
       "   {'transaction-id': 856, 'amount': 127},\n",
       "   {'transaction-id': 872, 'amount': 158},\n",
       "   {'transaction-id': 972, 'amount': 78},\n",
       "   {'transaction-id': 1179, 'amount': 211},\n",
       "   {'transaction-id': 1276, 'amount': 182},\n",
       "   {'transaction-id': 1298, 'amount': 160},\n",
       "   {'transaction-id': 1332, 'amount': 45},\n",
       "   {'transaction-id': 1413, 'amount': 172},\n",
       "   {'transaction-id': 1487, 'amount': 6},\n",
       "   {'transaction-id': 1604, 'amount': 146},\n",
       "   {'transaction-id': 1625, 'amount': 82},\n",
       "   {'transaction-id': 1922, 'amount': 73},\n",
       "   {'transaction-id': 1979, 'amount': 34},\n",
       "   {'transaction-id': 2187, 'amount': 162},\n",
       "   {'transaction-id': 2195, 'amount': 130},\n",
       "   {'transaction-id': 2299, 'amount': 102},\n",
       "   {'transaction-id': 2356, 'amount': 127},\n",
       "   {'transaction-id': 2452, 'amount': 61},\n",
       "   {'transaction-id': 2503, 'amount': 180},\n",
       "   {'transaction-id': 2517, 'amount': 153},\n",
       "   {'transaction-id': 2558, 'amount': 141},\n",
       "   {'transaction-id': 2638, 'amount': 56},\n",
       "   {'transaction-id': 2711, 'amount': 126},\n",
       "   {'transaction-id': 2724, 'amount': 46},\n",
       "   {'transaction-id': 2817, 'amount': 100},\n",
       "   {'transaction-id': 2841, 'amount': 147},\n",
       "   {'transaction-id': 2866, 'amount': 190},\n",
       "   {'transaction-id': 2877, 'amount': 114},\n",
       "   {'transaction-id': 2931, 'amount': 144},\n",
       "   {'transaction-id': 2932, 'amount': 172},\n",
       "   {'transaction-id': 2950, 'amount': 182},\n",
       "   {'transaction-id': 3070, 'amount': 11},\n",
       "   {'transaction-id': 3135, 'amount': 149},\n",
       "   {'transaction-id': 3139, 'amount': 187},\n",
       "   {'transaction-id': 3169, 'amount': 164},\n",
       "   {'transaction-id': 3188, 'amount': 119},\n",
       "   {'transaction-id': 3303, 'amount': 235},\n",
       "   {'transaction-id': 3413, 'amount': -20},\n",
       "   {'transaction-id': 3597, 'amount': 76},\n",
       "   {'transaction-id': 3671, 'amount': 140},\n",
       "   {'transaction-id': 3945, 'amount': 284},\n",
       "   {'transaction-id': 3953, 'amount': 54},\n",
       "   {'transaction-id': 4086, 'amount': 122},\n",
       "   {'transaction-id': 4155, 'amount': 128},\n",
       "   {'transaction-id': 4171, 'amount': 107},\n",
       "   {'transaction-id': 4227, 'amount': 158},\n",
       "   {'transaction-id': 4279, 'amount': 112},\n",
       "   {'transaction-id': 4283, 'amount': 75},\n",
       "   {'transaction-id': 4337, 'amount': 101},\n",
       "   {'transaction-id': 4448, 'amount': 83},\n",
       "   {'transaction-id': 4603, 'amount': 196},\n",
       "   {'transaction-id': 4613, 'amount': 75},\n",
       "   {'transaction-id': 4778, 'amount': 60},\n",
       "   {'transaction-id': 4943, 'amount': 132},\n",
       "   {'transaction-id': 5080, 'amount': 56},\n",
       "   {'transaction-id': 5173, 'amount': 149},\n",
       "   {'transaction-id': 5176, 'amount': 70},\n",
       "   {'transaction-id': 5282, 'amount': 59},\n",
       "   {'transaction-id': 5317, 'amount': 117},\n",
       "   {'transaction-id': 5390, 'amount': 71},\n",
       "   {'transaction-id': 5443, 'amount': 228},\n",
       "   {'transaction-id': 5509, 'amount': 123},\n",
       "   {'transaction-id': 5806, 'amount': 191},\n",
       "   {'transaction-id': 6056, 'amount': 175},\n",
       "   {'transaction-id': 6266, 'amount': 188},\n",
       "   {'transaction-id': 6290, 'amount': 66},\n",
       "   {'transaction-id': 6385, 'amount': 126},\n",
       "   {'transaction-id': 6430, 'amount': 95},\n",
       "   {'transaction-id': 6438, 'amount': 117},\n",
       "   {'transaction-id': 6491, 'amount': 136},\n",
       "   {'transaction-id': 6599, 'amount': 102},\n",
       "   {'transaction-id': 6608, 'amount': 126},\n",
       "   {'transaction-id': 6654, 'amount': 53},\n",
       "   {'transaction-id': 6655, 'amount': 154},\n",
       "   {'transaction-id': 6835, 'amount': 97},\n",
       "   {'transaction-id': 6851, 'amount': 145},\n",
       "   {'transaction-id': 6936, 'amount': 119},\n",
       "   {'transaction-id': 7088, 'amount': 119},\n",
       "   {'transaction-id': 7164, 'amount': 143},\n",
       "   {'transaction-id': 7186, 'amount': 109},\n",
       "   {'transaction-id': 7204, 'amount': 49},\n",
       "   {'transaction-id': 7221, 'amount': 156},\n",
       "   {'transaction-id': 7434, 'amount': 75},\n",
       "   {'transaction-id': 7467, 'amount': 137},\n",
       "   {'transaction-id': 7562, 'amount': 85},\n",
       "   {'transaction-id': 7602, 'amount': 140},\n",
       "   {'transaction-id': 7623, 'amount': 71},\n",
       "   {'transaction-id': 7661, 'amount': 73},\n",
       "   {'transaction-id': 7818, 'amount': 119},\n",
       "   {'transaction-id': 7885, 'amount': 139},\n",
       "   {'transaction-id': 8291, 'amount': 153},\n",
       "   {'transaction-id': 8345, 'amount': 66},\n",
       "   {'transaction-id': 8611, 'amount': 127},\n",
       "   {'transaction-id': 8706, 'amount': 82},\n",
       "   {'transaction-id': 8795, 'amount': 87},\n",
       "   {'transaction-id': 8797, 'amount': 160},\n",
       "   {'transaction-id': 8838, 'amount': 194},\n",
       "   {'transaction-id': 8995, 'amount': 62},\n",
       "   {'transaction-id': 9106, 'amount': 125},\n",
       "   {'transaction-id': 9144, 'amount': 116},\n",
       "   {'transaction-id': 9171, 'amount': 52},\n",
       "   {'transaction-id': 9360, 'amount': 38},\n",
       "   {'transaction-id': 9404, 'amount': 78},\n",
       "   {'transaction-id': 9415, 'amount': 105},\n",
       "   {'transaction-id': 9559, 'amount': 206},\n",
       "   {'transaction-id': 9583, 'amount': 103},\n",
       "   {'transaction-id': 9585, 'amount': 158},\n",
       "   {'transaction-id': 9586, 'amount': 186},\n",
       "   {'transaction-id': 9633, 'amount': 141},\n",
       "   {'transaction-id': 9720, 'amount': 110},\n",
       "   {'transaction-id': 9780, 'amount': 104},\n",
       "   {'transaction-id': 9852, 'amount': 163},\n",
       "   {'transaction-id': 9859, 'amount': 106},\n",
       "   {'transaction-id': 9946, 'amount': 131},\n",
       "   {'transaction-id': 9971, 'amount': 153}]},\n",
       " {'id': 1,\n",
       "  'name': 'Edith',\n",
       "  'transactions': [{'transaction-id': 4671, 'amount': 6247},\n",
       "   {'transaction-id': 8178, 'amount': 6165}]},\n",
       " {'id': 2,\n",
       "  'name': 'Ray',\n",
       "  'transactions': [{'transaction-id': 5, 'amount': 2675},\n",
       "   {'transaction-id': 196, 'amount': 2330},\n",
       "   {'transaction-id': 216, 'amount': 2731},\n",
       "   {'transaction-id': 259, 'amount': 2371},\n",
       "   {'transaction-id': 260, 'amount': 2364},\n",
       "   {'transaction-id': 481, 'amount': 2621},\n",
       "   {'transaction-id': 639, 'amount': 2535},\n",
       "   {'transaction-id': 841, 'amount': 2538},\n",
       "   {'transaction-id': 877, 'amount': 2512},\n",
       "   {'transaction-id': 982, 'amount': 2284},\n",
       "   {'transaction-id': 1009, 'amount': 2470},\n",
       "   {'transaction-id': 1111, 'amount': 2332},\n",
       "   {'transaction-id': 1203, 'amount': 2534},\n",
       "   {'transaction-id': 1274, 'amount': 2454},\n",
       "   {'transaction-id': 1322, 'amount': 2513},\n",
       "   {'transaction-id': 1628, 'amount': 2467},\n",
       "   {'transaction-id': 1754, 'amount': 2570},\n",
       "   {'transaction-id': 1760, 'amount': 2461},\n",
       "   {'transaction-id': 2000, 'amount': 2558},\n",
       "   {'transaction-id': 2417, 'amount': 2616},\n",
       "   {'transaction-id': 2472, 'amount': 2428},\n",
       "   {'transaction-id': 2591, 'amount': 2532},\n",
       "   {'transaction-id': 2622, 'amount': 2575},\n",
       "   {'transaction-id': 2682, 'amount': 2593},\n",
       "   {'transaction-id': 2740, 'amount': 2538},\n",
       "   {'transaction-id': 2750, 'amount': 2400},\n",
       "   {'transaction-id': 2778, 'amount': 2547},\n",
       "   {'transaction-id': 2828, 'amount': 2635},\n",
       "   {'transaction-id': 2953, 'amount': 2321},\n",
       "   {'transaction-id': 3026, 'amount': 2506},\n",
       "   {'transaction-id': 3215, 'amount': 2546},\n",
       "   {'transaction-id': 3391, 'amount': 2513},\n",
       "   {'transaction-id': 3414, 'amount': 2673},\n",
       "   {'transaction-id': 3444, 'amount': 2511},\n",
       "   {'transaction-id': 3450, 'amount': 2615},\n",
       "   {'transaction-id': 3547, 'amount': 2640},\n",
       "   {'transaction-id': 3558, 'amount': 2482},\n",
       "   {'transaction-id': 3719, 'amount': 2449},\n",
       "   {'transaction-id': 3816, 'amount': 2529},\n",
       "   {'transaction-id': 3826, 'amount': 2423},\n",
       "   {'transaction-id': 3862, 'amount': 2591},\n",
       "   {'transaction-id': 4019, 'amount': 2347},\n",
       "   {'transaction-id': 4211, 'amount': 2453},\n",
       "   {'transaction-id': 4344, 'amount': 2508},\n",
       "   {'transaction-id': 4421, 'amount': 2567},\n",
       "   {'transaction-id': 4440, 'amount': 2709},\n",
       "   {'transaction-id': 4591, 'amount': 2404},\n",
       "   {'transaction-id': 4635, 'amount': 2333},\n",
       "   {'transaction-id': 4718, 'amount': 2458},\n",
       "   {'transaction-id': 4739, 'amount': 2554},\n",
       "   {'transaction-id': 4859, 'amount': 2708},\n",
       "   {'transaction-id': 4892, 'amount': 2641},\n",
       "   {'transaction-id': 4989, 'amount': 2419},\n",
       "   {'transaction-id': 5065, 'amount': 2376},\n",
       "   {'transaction-id': 5289, 'amount': 2470},\n",
       "   {'transaction-id': 5441, 'amount': 2408},\n",
       "   {'transaction-id': 5614, 'amount': 2350},\n",
       "   {'transaction-id': 5639, 'amount': 2493},\n",
       "   {'transaction-id': 5690, 'amount': 2616},\n",
       "   {'transaction-id': 5746, 'amount': 2616},\n",
       "   {'transaction-id': 5766, 'amount': 2573},\n",
       "   {'transaction-id': 5900, 'amount': 2471},\n",
       "   {'transaction-id': 5983, 'amount': 2459},\n",
       "   {'transaction-id': 6158, 'amount': 2780},\n",
       "   {'transaction-id': 6185, 'amount': 2444},\n",
       "   {'transaction-id': 6257, 'amount': 2405},\n",
       "   {'transaction-id': 6272, 'amount': 2819},\n",
       "   {'transaction-id': 6424, 'amount': 2378},\n",
       "   {'transaction-id': 6585, 'amount': 2807},\n",
       "   {'transaction-id': 6767, 'amount': 2589},\n",
       "   {'transaction-id': 6791, 'amount': 2579},\n",
       "   {'transaction-id': 6914, 'amount': 2451},\n",
       "   {'transaction-id': 7002, 'amount': 2294},\n",
       "   {'transaction-id': 7041, 'amount': 2432},\n",
       "   {'transaction-id': 7128, 'amount': 2593},\n",
       "   {'transaction-id': 7162, 'amount': 2496},\n",
       "   {'transaction-id': 7231, 'amount': 2557},\n",
       "   {'transaction-id': 7327, 'amount': 2356},\n",
       "   {'transaction-id': 7352, 'amount': 2544},\n",
       "   {'transaction-id': 7365, 'amount': 2422},\n",
       "   {'transaction-id': 7436, 'amount': 2701},\n",
       "   {'transaction-id': 7493, 'amount': 2602},\n",
       "   {'transaction-id': 7735, 'amount': 2552},\n",
       "   {'transaction-id': 7925, 'amount': 2411},\n",
       "   {'transaction-id': 7982, 'amount': 2614},\n",
       "   {'transaction-id': 8109, 'amount': 2381},\n",
       "   {'transaction-id': 8213, 'amount': 2257},\n",
       "   {'transaction-id': 8300, 'amount': 2541},\n",
       "   {'transaction-id': 8421, 'amount': 2405},\n",
       "   {'transaction-id': 8435, 'amount': 2654},\n",
       "   {'transaction-id': 8516, 'amount': 2602},\n",
       "   {'transaction-id': 8605, 'amount': 2631},\n",
       "   {'transaction-id': 8899, 'amount': 2540},\n",
       "   {'transaction-id': 8914, 'amount': 2256},\n",
       "   {'transaction-id': 9058, 'amount': 2297},\n",
       "   {'transaction-id': 9229, 'amount': 2526},\n",
       "   {'transaction-id': 9241, 'amount': 2389},\n",
       "   {'transaction-id': 9438, 'amount': 2368},\n",
       "   {'transaction-id': 9538, 'amount': 2501},\n",
       "   {'transaction-id': 9555, 'amount': 2113},\n",
       "   {'transaction-id': 9613, 'amount': 2476},\n",
       "   {'transaction-id': 9734, 'amount': 2598},\n",
       "   {'transaction-id': 9816, 'amount': 2537},\n",
       "   {'transaction-id': 9993, 'amount': 2520}]})"
      ]
     },
     "execution_count": 10,
     "metadata": {},
     "output_type": "execute_result"
    }
   ],
   "source": [
    "import json\n",
    "js = lines.map(json.loads)\n",
    "# take: inspect first few elements\n",
    "js.take(3)"
   ]
  },
  {
   "cell_type": "markdown",
   "metadata": {},
   "source": [
    "### Basic Queries"
   ]
  },
  {
   "cell_type": "markdown",
   "metadata": {},
   "source": [
    "Once we parse our JSON data into proper Python objects (`dict`s, `list`s, etc.) we can perform more interesting queries by creating small Python functions to run on our data."
   ]
  },
  {
   "cell_type": "code",
   "execution_count": 11,
   "metadata": {
    "execution": {
     "iopub.execute_input": "2021-12-10T21:45:32.855725Z",
     "iopub.status.busy": "2021-12-10T21:45:32.851185Z",
     "iopub.status.idle": "2021-12-10T21:45:32.892324Z",
     "shell.execute_reply": "2021-12-10T21:45:32.891612Z"
    }
   },
   "outputs": [
    {
     "data": {
      "text/plain": [
       "({'id': 101,\n",
       "  'name': 'Alice',\n",
       "  'transactions': [{'transaction-id': 246, 'amount': 458},\n",
       "   {'transaction-id': 672, 'amount': 493},\n",
       "   {'transaction-id': 790, 'amount': 455},\n",
       "   {'transaction-id': 1993, 'amount': 473},\n",
       "   {'transaction-id': 2130, 'amount': 460},\n",
       "   {'transaction-id': 2479, 'amount': 411},\n",
       "   {'transaction-id': 2936, 'amount': 495},\n",
       "   {'transaction-id': 3121, 'amount': 461},\n",
       "   {'transaction-id': 3154, 'amount': 455},\n",
       "   {'transaction-id': 3218, 'amount': 467},\n",
       "   {'transaction-id': 3250, 'amount': 447},\n",
       "   {'transaction-id': 3509, 'amount': 444},\n",
       "   {'transaction-id': 3721, 'amount': 452},\n",
       "   {'transaction-id': 3894, 'amount': 481},\n",
       "   {'transaction-id': 4176, 'amount': 469},\n",
       "   {'transaction-id': 4272, 'amount': 489},\n",
       "   {'transaction-id': 4462, 'amount': 420},\n",
       "   {'transaction-id': 4558, 'amount': 461},\n",
       "   {'transaction-id': 4968, 'amount': 450},\n",
       "   {'transaction-id': 5654, 'amount': 471},\n",
       "   {'transaction-id': 5880, 'amount': 441},\n",
       "   {'transaction-id': 6020, 'amount': 471},\n",
       "   {'transaction-id': 6216, 'amount': 430},\n",
       "   {'transaction-id': 6225, 'amount': 446},\n",
       "   {'transaction-id': 6477, 'amount': 477},\n",
       "   {'transaction-id': 6535, 'amount': 469},\n",
       "   {'transaction-id': 6666, 'amount': 462},\n",
       "   {'transaction-id': 7362, 'amount': 486},\n",
       "   {'transaction-id': 7456, 'amount': 435},\n",
       "   {'transaction-id': 7790, 'amount': 435},\n",
       "   {'transaction-id': 8117, 'amount': 477},\n",
       "   {'transaction-id': 8470, 'amount': 493},\n",
       "   {'transaction-id': 8572, 'amount': 481},\n",
       "   {'transaction-id': 8707, 'amount': 475},\n",
       "   {'transaction-id': 8952, 'amount': 472},\n",
       "   {'transaction-id': 9112, 'amount': 439},\n",
       "   {'transaction-id': 9340, 'amount': 465},\n",
       "   {'transaction-id': 9467, 'amount': 526},\n",
       "   {'transaction-id': 9831, 'amount': 483},\n",
       "   {'transaction-id': 9853, 'amount': 504},\n",
       "   {'transaction-id': 9985, 'amount': 459}]},\n",
       " {'id': 132,\n",
       "  'name': 'Alice',\n",
       "  'transactions': [{'transaction-id': 13, 'amount': 3396},\n",
       "   {'transaction-id': 111, 'amount': 3269},\n",
       "   {'transaction-id': 201, 'amount': 2933},\n",
       "   {'transaction-id': 304, 'amount': 3372},\n",
       "   {'transaction-id': 345, 'amount': 3606},\n",
       "   {'transaction-id': 444, 'amount': 3192},\n",
       "   {'transaction-id': 551, 'amount': 3217},\n",
       "   {'transaction-id': 706, 'amount': 3290},\n",
       "   {'transaction-id': 819, 'amount': 3158},\n",
       "   {'transaction-id': 878, 'amount': 3261},\n",
       "   {'transaction-id': 896, 'amount': 3295},\n",
       "   {'transaction-id': 917, 'amount': 3407},\n",
       "   {'transaction-id': 937, 'amount': 3368},\n",
       "   {'transaction-id': 955, 'amount': 3315},\n",
       "   {'transaction-id': 1047, 'amount': 3354},\n",
       "   {'transaction-id': 1116, 'amount': 3286},\n",
       "   {'transaction-id': 1138, 'amount': 3230},\n",
       "   {'transaction-id': 1210, 'amount': 3510},\n",
       "   {'transaction-id': 1278, 'amount': 4059},\n",
       "   {'transaction-id': 1331, 'amount': 3204},\n",
       "   {'transaction-id': 1369, 'amount': 2922},\n",
       "   {'transaction-id': 1397, 'amount': 3254},\n",
       "   {'transaction-id': 1559, 'amount': 3504},\n",
       "   {'transaction-id': 1657, 'amount': 3233},\n",
       "   {'transaction-id': 1669, 'amount': 3203},\n",
       "   {'transaction-id': 1692, 'amount': 2690},\n",
       "   {'transaction-id': 1785, 'amount': 3415},\n",
       "   {'transaction-id': 1832, 'amount': 3194},\n",
       "   {'transaction-id': 1891, 'amount': 3614},\n",
       "   {'transaction-id': 1913, 'amount': 3269},\n",
       "   {'transaction-id': 1966, 'amount': 3761},\n",
       "   {'transaction-id': 2002, 'amount': 3631},\n",
       "   {'transaction-id': 2019, 'amount': 3699},\n",
       "   {'transaction-id': 2082, 'amount': 2824},\n",
       "   {'transaction-id': 2207, 'amount': 3409},\n",
       "   {'transaction-id': 2335, 'amount': 3596},\n",
       "   {'transaction-id': 2457, 'amount': 2871},\n",
       "   {'transaction-id': 2482, 'amount': 3512},\n",
       "   {'transaction-id': 2681, 'amount': 3611},\n",
       "   {'transaction-id': 2745, 'amount': 3013},\n",
       "   {'transaction-id': 2795, 'amount': 3456},\n",
       "   {'transaction-id': 2882, 'amount': 3498},\n",
       "   {'transaction-id': 2919, 'amount': 3055},\n",
       "   {'transaction-id': 2990, 'amount': 3267},\n",
       "   {'transaction-id': 3052, 'amount': 3691},\n",
       "   {'transaction-id': 3115, 'amount': 3063},\n",
       "   {'transaction-id': 3137, 'amount': 2846},\n",
       "   {'transaction-id': 3161, 'amount': 3003},\n",
       "   {'transaction-id': 3242, 'amount': 3164},\n",
       "   {'transaction-id': 3333, 'amount': 3348},\n",
       "   {'transaction-id': 3522, 'amount': 3071},\n",
       "   {'transaction-id': 3562, 'amount': 3171},\n",
       "   {'transaction-id': 3584, 'amount': 3491},\n",
       "   {'transaction-id': 3652, 'amount': 3135},\n",
       "   {'transaction-id': 3707, 'amount': 3511},\n",
       "   {'transaction-id': 3744, 'amount': 3527},\n",
       "   {'transaction-id': 3768, 'amount': 3064},\n",
       "   {'transaction-id': 3822, 'amount': 3101},\n",
       "   {'transaction-id': 3955, 'amount': 3588},\n",
       "   {'transaction-id': 3959, 'amount': 3353},\n",
       "   {'transaction-id': 3984, 'amount': 3176},\n",
       "   {'transaction-id': 4038, 'amount': 3334},\n",
       "   {'transaction-id': 4078, 'amount': 3248},\n",
       "   {'transaction-id': 4092, 'amount': 3371},\n",
       "   {'transaction-id': 4332, 'amount': 3524},\n",
       "   {'transaction-id': 4380, 'amount': 3135},\n",
       "   {'transaction-id': 4425, 'amount': 3717},\n",
       "   {'transaction-id': 4449, 'amount': 2721},\n",
       "   {'transaction-id': 4477, 'amount': 2990},\n",
       "   {'transaction-id': 4511, 'amount': 3298},\n",
       "   {'transaction-id': 4536, 'amount': 3424},\n",
       "   {'transaction-id': 4572, 'amount': 3372},\n",
       "   {'transaction-id': 4573, 'amount': 3512},\n",
       "   {'transaction-id': 4684, 'amount': 3536},\n",
       "   {'transaction-id': 4686, 'amount': 2848},\n",
       "   {'transaction-id': 4702, 'amount': 3499},\n",
       "   {'transaction-id': 4704, 'amount': 3077},\n",
       "   {'transaction-id': 4751, 'amount': 3322},\n",
       "   {'transaction-id': 4807, 'amount': 3542},\n",
       "   {'transaction-id': 4840, 'amount': 2855},\n",
       "   {'transaction-id': 4889, 'amount': 3251},\n",
       "   {'transaction-id': 4958, 'amount': 2831},\n",
       "   {'transaction-id': 4962, 'amount': 2894},\n",
       "   {'transaction-id': 4994, 'amount': 3627},\n",
       "   {'transaction-id': 5011, 'amount': 3321},\n",
       "   {'transaction-id': 5031, 'amount': 3073},\n",
       "   {'transaction-id': 5038, 'amount': 3280},\n",
       "   {'transaction-id': 5158, 'amount': 3438},\n",
       "   {'transaction-id': 5205, 'amount': 2956},\n",
       "   {'transaction-id': 5277, 'amount': 3378},\n",
       "   {'transaction-id': 5283, 'amount': 3121},\n",
       "   {'transaction-id': 5285, 'amount': 3243},\n",
       "   {'transaction-id': 5321, 'amount': 3165},\n",
       "   {'transaction-id': 5359, 'amount': 3125},\n",
       "   {'transaction-id': 5520, 'amount': 3553},\n",
       "   {'transaction-id': 5559, 'amount': 2887},\n",
       "   {'transaction-id': 5678, 'amount': 3329},\n",
       "   {'transaction-id': 5821, 'amount': 3845},\n",
       "   {'transaction-id': 5834, 'amount': 3298},\n",
       "   {'transaction-id': 5919, 'amount': 3037},\n",
       "   {'transaction-id': 5965, 'amount': 3321},\n",
       "   {'transaction-id': 6006, 'amount': 3760},\n",
       "   {'transaction-id': 6160, 'amount': 3030},\n",
       "   {'transaction-id': 6170, 'amount': 3092},\n",
       "   {'transaction-id': 6183, 'amount': 3360},\n",
       "   {'transaction-id': 6255, 'amount': 3162},\n",
       "   {'transaction-id': 6447, 'amount': 3196},\n",
       "   {'transaction-id': 6638, 'amount': 3638},\n",
       "   {'transaction-id': 6831, 'amount': 3242},\n",
       "   {'transaction-id': 6868, 'amount': 3193},\n",
       "   {'transaction-id': 6883, 'amount': 3489},\n",
       "   {'transaction-id': 6918, 'amount': 3217},\n",
       "   {'transaction-id': 6984, 'amount': 3043},\n",
       "   {'transaction-id': 7107, 'amount': 3079},\n",
       "   {'transaction-id': 7113, 'amount': 3811},\n",
       "   {'transaction-id': 7269, 'amount': 3454},\n",
       "   {'transaction-id': 7276, 'amount': 3268},\n",
       "   {'transaction-id': 7322, 'amount': 3239},\n",
       "   {'transaction-id': 7361, 'amount': 3048},\n",
       "   {'transaction-id': 7396, 'amount': 3926},\n",
       "   {'transaction-id': 7425, 'amount': 3168},\n",
       "   {'transaction-id': 7459, 'amount': 3028},\n",
       "   {'transaction-id': 7523, 'amount': 3582},\n",
       "   {'transaction-id': 7534, 'amount': 3494},\n",
       "   {'transaction-id': 7538, 'amount': 3376},\n",
       "   {'transaction-id': 7551, 'amount': 3672},\n",
       "   {'transaction-id': 7616, 'amount': 3552},\n",
       "   {'transaction-id': 7637, 'amount': 3085},\n",
       "   {'transaction-id': 7644, 'amount': 3095},\n",
       "   {'transaction-id': 7656, 'amount': 3259},\n",
       "   {'transaction-id': 7684, 'amount': 3461},\n",
       "   {'transaction-id': 7841, 'amount': 3691},\n",
       "   {'transaction-id': 7848, 'amount': 2798},\n",
       "   {'transaction-id': 7911, 'amount': 3311},\n",
       "   {'transaction-id': 7928, 'amount': 2996},\n",
       "   {'transaction-id': 7931, 'amount': 3070},\n",
       "   {'transaction-id': 7977, 'amount': 3245},\n",
       "   {'transaction-id': 8226, 'amount': 3105},\n",
       "   {'transaction-id': 8241, 'amount': 2750},\n",
       "   {'transaction-id': 8295, 'amount': 3299},\n",
       "   {'transaction-id': 8299, 'amount': 3511},\n",
       "   {'transaction-id': 8315, 'amount': 3559},\n",
       "   {'transaction-id': 8393, 'amount': 2927},\n",
       "   {'transaction-id': 8463, 'amount': 2772},\n",
       "   {'transaction-id': 8504, 'amount': 3170},\n",
       "   {'transaction-id': 8550, 'amount': 3194},\n",
       "   {'transaction-id': 8567, 'amount': 4019},\n",
       "   {'transaction-id': 8584, 'amount': 3242},\n",
       "   {'transaction-id': 8609, 'amount': 3108},\n",
       "   {'transaction-id': 8662, 'amount': 2843},\n",
       "   {'transaction-id': 8675, 'amount': 3624},\n",
       "   {'transaction-id': 8679, 'amount': 3390},\n",
       "   {'transaction-id': 8750, 'amount': 3216},\n",
       "   {'transaction-id': 8821, 'amount': 2944},\n",
       "   {'transaction-id': 8974, 'amount': 3180},\n",
       "   {'transaction-id': 9014, 'amount': 3356},\n",
       "   {'transaction-id': 9057, 'amount': 3266},\n",
       "   {'transaction-id': 9073, 'amount': 3348},\n",
       "   {'transaction-id': 9107, 'amount': 3216},\n",
       "   {'transaction-id': 9166, 'amount': 3237},\n",
       "   {'transaction-id': 9291, 'amount': 3685},\n",
       "   {'transaction-id': 9315, 'amount': 2981},\n",
       "   {'transaction-id': 9387, 'amount': 3503},\n",
       "   {'transaction-id': 9389, 'amount': 3712},\n",
       "   {'transaction-id': 9571, 'amount': 3146},\n",
       "   {'transaction-id': 9609, 'amount': 3259},\n",
       "   {'transaction-id': 9621, 'amount': 3208},\n",
       "   {'transaction-id': 9657, 'amount': 3283},\n",
       "   {'transaction-id': 9690, 'amount': 3730},\n",
       "   {'transaction-id': 9701, 'amount': 3197},\n",
       "   {'transaction-id': 9737, 'amount': 3006},\n",
       "   {'transaction-id': 9749, 'amount': 3333},\n",
       "   {'transaction-id': 9979, 'amount': 3257},\n",
       "   {'transaction-id': 9983, 'amount': 3377}]},\n",
       " {'id': 181,\n",
       "  'name': 'Alice',\n",
       "  'transactions': [{'transaction-id': 1345, 'amount': 81},\n",
       "   {'transaction-id': 3417, 'amount': 89},\n",
       "   {'transaction-id': 3991, 'amount': 83},\n",
       "   {'transaction-id': 8841, 'amount': 86},\n",
       "   {'transaction-id': 9501, 'amount': 79}]},\n",
       " {'id': 183,\n",
       "  'name': 'Alice',\n",
       "  'transactions': [{'transaction-id': 75, 'amount': 1297},\n",
       "   {'transaction-id': 98, 'amount': 1254},\n",
       "   {'transaction-id': 299, 'amount': 1480},\n",
       "   {'transaction-id': 515, 'amount': 1290},\n",
       "   {'transaction-id': 580, 'amount': 1296},\n",
       "   {'transaction-id': 884, 'amount': 1324},\n",
       "   {'transaction-id': 911, 'amount': 1224},\n",
       "   {'transaction-id': 1010, 'amount': 1297},\n",
       "   {'transaction-id': 1014, 'amount': 1225},\n",
       "   {'transaction-id': 1204, 'amount': 1353},\n",
       "   {'transaction-id': 1680, 'amount': 1319},\n",
       "   {'transaction-id': 2041, 'amount': 1271},\n",
       "   {'transaction-id': 2350, 'amount': 1213},\n",
       "   {'transaction-id': 2751, 'amount': 1261},\n",
       "   {'transaction-id': 2861, 'amount': 1314},\n",
       "   {'transaction-id': 2879, 'amount': 1325},\n",
       "   {'transaction-id': 3930, 'amount': 1275},\n",
       "   {'transaction-id': 3949, 'amount': 1330},\n",
       "   {'transaction-id': 4005, 'amount': 1315},\n",
       "   {'transaction-id': 4496, 'amount': 1277},\n",
       "   {'transaction-id': 4533, 'amount': 1258},\n",
       "   {'transaction-id': 4802, 'amount': 1316},\n",
       "   {'transaction-id': 4849, 'amount': 1329},\n",
       "   {'transaction-id': 5032, 'amount': 1260},\n",
       "   {'transaction-id': 5178, 'amount': 1264},\n",
       "   {'transaction-id': 5327, 'amount': 1297},\n",
       "   {'transaction-id': 5372, 'amount': 1192},\n",
       "   {'transaction-id': 5615, 'amount': 1299},\n",
       "   {'transaction-id': 5836, 'amount': 1242},\n",
       "   {'transaction-id': 5946, 'amount': 1247},\n",
       "   {'transaction-id': 6376, 'amount': 1275},\n",
       "   {'transaction-id': 6628, 'amount': 1247},\n",
       "   {'transaction-id': 6829, 'amount': 1221},\n",
       "   {'transaction-id': 7419, 'amount': 1289},\n",
       "   {'transaction-id': 7723, 'amount': 1229},\n",
       "   {'transaction-id': 8344, 'amount': 1304},\n",
       "   {'transaction-id': 8407, 'amount': 1318},\n",
       "   {'transaction-id': 8563, 'amount': 1294},\n",
       "   {'transaction-id': 8692, 'amount': 1194},\n",
       "   {'transaction-id': 8948, 'amount': 1242},\n",
       "   {'transaction-id': 9071, 'amount': 1290},\n",
       "   {'transaction-id': 9074, 'amount': 1300},\n",
       "   {'transaction-id': 9084, 'amount': 1344},\n",
       "   {'transaction-id': 9216, 'amount': 1228},\n",
       "   {'transaction-id': 9792, 'amount': 1302},\n",
       "   {'transaction-id': 9820, 'amount': 1149},\n",
       "   {'transaction-id': 9953, 'amount': 1345},\n",
       "   {'transaction-id': 9965, 'amount': 1327}]})"
      ]
     },
     "execution_count": 11,
     "metadata": {},
     "output_type": "execute_result"
    }
   ],
   "source": [
    "# filter: keep only some elements of the sequence\n",
    "js.filter(lambda record: record['name'] == 'Alice').take(5)"
   ]
  },
  {
   "cell_type": "code",
   "execution_count": 12,
   "metadata": {
    "execution": {
     "iopub.execute_input": "2021-12-10T21:45:32.901409Z",
     "iopub.status.busy": "2021-12-10T21:45:32.894198Z",
     "iopub.status.idle": "2021-12-10T21:45:32.923640Z",
     "shell.execute_reply": "2021-12-10T21:45:32.923293Z"
    }
   },
   "outputs": [
    {
     "data": {
      "text/plain": [
       "({'name': 'Alice', 'count': 41},\n",
       " {'name': 'Alice', 'count': 174},\n",
       " {'name': 'Alice', 'count': 5},\n",
       " {'name': 'Alice', 'count': 48})"
      ]
     },
     "execution_count": 12,
     "metadata": {},
     "output_type": "execute_result"
    }
   ],
   "source": [
    "def count_transactions(d):\n",
    "    return {'name': d['name'], 'count': len(d['transactions'])}\n",
    "\n",
    "# map: apply a function to each element\n",
    "(js.filter(lambda record: record['name'] == 'Alice')\n",
    "   .map(count_transactions)\n",
    "   .take(5))"
   ]
  },
  {
   "cell_type": "code",
   "execution_count": 13,
   "metadata": {
    "execution": {
     "iopub.execute_input": "2021-12-10T21:45:32.931842Z",
     "iopub.status.busy": "2021-12-10T21:45:32.931441Z",
     "iopub.status.idle": "2021-12-10T21:45:32.951142Z",
     "shell.execute_reply": "2021-12-10T21:45:32.951553Z"
    }
   },
   "outputs": [
    {
     "data": {
      "text/plain": [
       "(41, 174, 5, 48)"
      ]
     },
     "execution_count": 13,
     "metadata": {},
     "output_type": "execute_result"
    }
   ],
   "source": [
    "# pluck: select a field, as from a dictionary, element[field]\n",
    "(js.filter(lambda record: record['name'] == 'Alice')\n",
    "   .map(count_transactions)\n",
    "   .pluck('count')\n",
    "   .take(5))"
   ]
  },
  {
   "cell_type": "code",
   "execution_count": 14,
   "metadata": {
    "execution": {
     "iopub.execute_input": "2021-12-10T21:45:32.978939Z",
     "iopub.status.busy": "2021-12-10T21:45:32.960910Z",
     "iopub.status.idle": "2021-12-10T21:45:33.309417Z",
     "shell.execute_reply": "2021-12-10T21:45:33.309054Z"
    }
   },
   "outputs": [
    {
     "data": {
      "text/plain": [
       "63.145"
      ]
     },
     "execution_count": 14,
     "metadata": {},
     "output_type": "execute_result"
    }
   ],
   "source": [
    "# Average number of transactions for all of the Alice entries\n",
    "(js.filter(lambda record: record['name'] == 'Alice')\n",
    "   .map(count_transactions)\n",
    "   .pluck('count')\n",
    "   .mean()\n",
    "   .compute())"
   ]
  },
  {
   "cell_type": "markdown",
   "metadata": {},
   "source": [
    "### Use `flatten` to de-nest"
   ]
  },
  {
   "cell_type": "markdown",
   "metadata": {},
   "source": [
    "In the example below we see the use of `.flatten()` to flatten results.  We compute the average amount for all transactions for all Alices."
   ]
  },
  {
   "cell_type": "code",
   "execution_count": 15,
   "metadata": {
    "execution": {
     "iopub.execute_input": "2021-12-10T21:45:33.313379Z",
     "iopub.status.busy": "2021-12-10T21:45:33.312953Z",
     "iopub.status.idle": "2021-12-10T21:45:33.350516Z",
     "shell.execute_reply": "2021-12-10T21:45:33.350833Z"
    }
   },
   "outputs": [
    {
     "data": {
      "text/plain": [
       "([{'transaction-id': 246, 'amount': 458},\n",
       "  {'transaction-id': 672, 'amount': 493},\n",
       "  {'transaction-id': 790, 'amount': 455},\n",
       "  {'transaction-id': 1993, 'amount': 473},\n",
       "  {'transaction-id': 2130, 'amount': 460},\n",
       "  {'transaction-id': 2479, 'amount': 411},\n",
       "  {'transaction-id': 2936, 'amount': 495},\n",
       "  {'transaction-id': 3121, 'amount': 461},\n",
       "  {'transaction-id': 3154, 'amount': 455},\n",
       "  {'transaction-id': 3218, 'amount': 467},\n",
       "  {'transaction-id': 3250, 'amount': 447},\n",
       "  {'transaction-id': 3509, 'amount': 444},\n",
       "  {'transaction-id': 3721, 'amount': 452},\n",
       "  {'transaction-id': 3894, 'amount': 481},\n",
       "  {'transaction-id': 4176, 'amount': 469},\n",
       "  {'transaction-id': 4272, 'amount': 489},\n",
       "  {'transaction-id': 4462, 'amount': 420},\n",
       "  {'transaction-id': 4558, 'amount': 461},\n",
       "  {'transaction-id': 4968, 'amount': 450},\n",
       "  {'transaction-id': 5654, 'amount': 471},\n",
       "  {'transaction-id': 5880, 'amount': 441},\n",
       "  {'transaction-id': 6020, 'amount': 471},\n",
       "  {'transaction-id': 6216, 'amount': 430},\n",
       "  {'transaction-id': 6225, 'amount': 446},\n",
       "  {'transaction-id': 6477, 'amount': 477},\n",
       "  {'transaction-id': 6535, 'amount': 469},\n",
       "  {'transaction-id': 6666, 'amount': 462},\n",
       "  {'transaction-id': 7362, 'amount': 486},\n",
       "  {'transaction-id': 7456, 'amount': 435},\n",
       "  {'transaction-id': 7790, 'amount': 435},\n",
       "  {'transaction-id': 8117, 'amount': 477},\n",
       "  {'transaction-id': 8470, 'amount': 493},\n",
       "  {'transaction-id': 8572, 'amount': 481},\n",
       "  {'transaction-id': 8707, 'amount': 475},\n",
       "  {'transaction-id': 8952, 'amount': 472},\n",
       "  {'transaction-id': 9112, 'amount': 439},\n",
       "  {'transaction-id': 9340, 'amount': 465},\n",
       "  {'transaction-id': 9467, 'amount': 526},\n",
       "  {'transaction-id': 9831, 'amount': 483},\n",
       "  {'transaction-id': 9853, 'amount': 504},\n",
       "  {'transaction-id': 9985, 'amount': 459}],\n",
       " [{'transaction-id': 13, 'amount': 3396},\n",
       "  {'transaction-id': 111, 'amount': 3269},\n",
       "  {'transaction-id': 201, 'amount': 2933},\n",
       "  {'transaction-id': 304, 'amount': 3372},\n",
       "  {'transaction-id': 345, 'amount': 3606},\n",
       "  {'transaction-id': 444, 'amount': 3192},\n",
       "  {'transaction-id': 551, 'amount': 3217},\n",
       "  {'transaction-id': 706, 'amount': 3290},\n",
       "  {'transaction-id': 819, 'amount': 3158},\n",
       "  {'transaction-id': 878, 'amount': 3261},\n",
       "  {'transaction-id': 896, 'amount': 3295},\n",
       "  {'transaction-id': 917, 'amount': 3407},\n",
       "  {'transaction-id': 937, 'amount': 3368},\n",
       "  {'transaction-id': 955, 'amount': 3315},\n",
       "  {'transaction-id': 1047, 'amount': 3354},\n",
       "  {'transaction-id': 1116, 'amount': 3286},\n",
       "  {'transaction-id': 1138, 'amount': 3230},\n",
       "  {'transaction-id': 1210, 'amount': 3510},\n",
       "  {'transaction-id': 1278, 'amount': 4059},\n",
       "  {'transaction-id': 1331, 'amount': 3204},\n",
       "  {'transaction-id': 1369, 'amount': 2922},\n",
       "  {'transaction-id': 1397, 'amount': 3254},\n",
       "  {'transaction-id': 1559, 'amount': 3504},\n",
       "  {'transaction-id': 1657, 'amount': 3233},\n",
       "  {'transaction-id': 1669, 'amount': 3203},\n",
       "  {'transaction-id': 1692, 'amount': 2690},\n",
       "  {'transaction-id': 1785, 'amount': 3415},\n",
       "  {'transaction-id': 1832, 'amount': 3194},\n",
       "  {'transaction-id': 1891, 'amount': 3614},\n",
       "  {'transaction-id': 1913, 'amount': 3269},\n",
       "  {'transaction-id': 1966, 'amount': 3761},\n",
       "  {'transaction-id': 2002, 'amount': 3631},\n",
       "  {'transaction-id': 2019, 'amount': 3699},\n",
       "  {'transaction-id': 2082, 'amount': 2824},\n",
       "  {'transaction-id': 2207, 'amount': 3409},\n",
       "  {'transaction-id': 2335, 'amount': 3596},\n",
       "  {'transaction-id': 2457, 'amount': 2871},\n",
       "  {'transaction-id': 2482, 'amount': 3512},\n",
       "  {'transaction-id': 2681, 'amount': 3611},\n",
       "  {'transaction-id': 2745, 'amount': 3013},\n",
       "  {'transaction-id': 2795, 'amount': 3456},\n",
       "  {'transaction-id': 2882, 'amount': 3498},\n",
       "  {'transaction-id': 2919, 'amount': 3055},\n",
       "  {'transaction-id': 2990, 'amount': 3267},\n",
       "  {'transaction-id': 3052, 'amount': 3691},\n",
       "  {'transaction-id': 3115, 'amount': 3063},\n",
       "  {'transaction-id': 3137, 'amount': 2846},\n",
       "  {'transaction-id': 3161, 'amount': 3003},\n",
       "  {'transaction-id': 3242, 'amount': 3164},\n",
       "  {'transaction-id': 3333, 'amount': 3348},\n",
       "  {'transaction-id': 3522, 'amount': 3071},\n",
       "  {'transaction-id': 3562, 'amount': 3171},\n",
       "  {'transaction-id': 3584, 'amount': 3491},\n",
       "  {'transaction-id': 3652, 'amount': 3135},\n",
       "  {'transaction-id': 3707, 'amount': 3511},\n",
       "  {'transaction-id': 3744, 'amount': 3527},\n",
       "  {'transaction-id': 3768, 'amount': 3064},\n",
       "  {'transaction-id': 3822, 'amount': 3101},\n",
       "  {'transaction-id': 3955, 'amount': 3588},\n",
       "  {'transaction-id': 3959, 'amount': 3353},\n",
       "  {'transaction-id': 3984, 'amount': 3176},\n",
       "  {'transaction-id': 4038, 'amount': 3334},\n",
       "  {'transaction-id': 4078, 'amount': 3248},\n",
       "  {'transaction-id': 4092, 'amount': 3371},\n",
       "  {'transaction-id': 4332, 'amount': 3524},\n",
       "  {'transaction-id': 4380, 'amount': 3135},\n",
       "  {'transaction-id': 4425, 'amount': 3717},\n",
       "  {'transaction-id': 4449, 'amount': 2721},\n",
       "  {'transaction-id': 4477, 'amount': 2990},\n",
       "  {'transaction-id': 4511, 'amount': 3298},\n",
       "  {'transaction-id': 4536, 'amount': 3424},\n",
       "  {'transaction-id': 4572, 'amount': 3372},\n",
       "  {'transaction-id': 4573, 'amount': 3512},\n",
       "  {'transaction-id': 4684, 'amount': 3536},\n",
       "  {'transaction-id': 4686, 'amount': 2848},\n",
       "  {'transaction-id': 4702, 'amount': 3499},\n",
       "  {'transaction-id': 4704, 'amount': 3077},\n",
       "  {'transaction-id': 4751, 'amount': 3322},\n",
       "  {'transaction-id': 4807, 'amount': 3542},\n",
       "  {'transaction-id': 4840, 'amount': 2855},\n",
       "  {'transaction-id': 4889, 'amount': 3251},\n",
       "  {'transaction-id': 4958, 'amount': 2831},\n",
       "  {'transaction-id': 4962, 'amount': 2894},\n",
       "  {'transaction-id': 4994, 'amount': 3627},\n",
       "  {'transaction-id': 5011, 'amount': 3321},\n",
       "  {'transaction-id': 5031, 'amount': 3073},\n",
       "  {'transaction-id': 5038, 'amount': 3280},\n",
       "  {'transaction-id': 5158, 'amount': 3438},\n",
       "  {'transaction-id': 5205, 'amount': 2956},\n",
       "  {'transaction-id': 5277, 'amount': 3378},\n",
       "  {'transaction-id': 5283, 'amount': 3121},\n",
       "  {'transaction-id': 5285, 'amount': 3243},\n",
       "  {'transaction-id': 5321, 'amount': 3165},\n",
       "  {'transaction-id': 5359, 'amount': 3125},\n",
       "  {'transaction-id': 5520, 'amount': 3553},\n",
       "  {'transaction-id': 5559, 'amount': 2887},\n",
       "  {'transaction-id': 5678, 'amount': 3329},\n",
       "  {'transaction-id': 5821, 'amount': 3845},\n",
       "  {'transaction-id': 5834, 'amount': 3298},\n",
       "  {'transaction-id': 5919, 'amount': 3037},\n",
       "  {'transaction-id': 5965, 'amount': 3321},\n",
       "  {'transaction-id': 6006, 'amount': 3760},\n",
       "  {'transaction-id': 6160, 'amount': 3030},\n",
       "  {'transaction-id': 6170, 'amount': 3092},\n",
       "  {'transaction-id': 6183, 'amount': 3360},\n",
       "  {'transaction-id': 6255, 'amount': 3162},\n",
       "  {'transaction-id': 6447, 'amount': 3196},\n",
       "  {'transaction-id': 6638, 'amount': 3638},\n",
       "  {'transaction-id': 6831, 'amount': 3242},\n",
       "  {'transaction-id': 6868, 'amount': 3193},\n",
       "  {'transaction-id': 6883, 'amount': 3489},\n",
       "  {'transaction-id': 6918, 'amount': 3217},\n",
       "  {'transaction-id': 6984, 'amount': 3043},\n",
       "  {'transaction-id': 7107, 'amount': 3079},\n",
       "  {'transaction-id': 7113, 'amount': 3811},\n",
       "  {'transaction-id': 7269, 'amount': 3454},\n",
       "  {'transaction-id': 7276, 'amount': 3268},\n",
       "  {'transaction-id': 7322, 'amount': 3239},\n",
       "  {'transaction-id': 7361, 'amount': 3048},\n",
       "  {'transaction-id': 7396, 'amount': 3926},\n",
       "  {'transaction-id': 7425, 'amount': 3168},\n",
       "  {'transaction-id': 7459, 'amount': 3028},\n",
       "  {'transaction-id': 7523, 'amount': 3582},\n",
       "  {'transaction-id': 7534, 'amount': 3494},\n",
       "  {'transaction-id': 7538, 'amount': 3376},\n",
       "  {'transaction-id': 7551, 'amount': 3672},\n",
       "  {'transaction-id': 7616, 'amount': 3552},\n",
       "  {'transaction-id': 7637, 'amount': 3085},\n",
       "  {'transaction-id': 7644, 'amount': 3095},\n",
       "  {'transaction-id': 7656, 'amount': 3259},\n",
       "  {'transaction-id': 7684, 'amount': 3461},\n",
       "  {'transaction-id': 7841, 'amount': 3691},\n",
       "  {'transaction-id': 7848, 'amount': 2798},\n",
       "  {'transaction-id': 7911, 'amount': 3311},\n",
       "  {'transaction-id': 7928, 'amount': 2996},\n",
       "  {'transaction-id': 7931, 'amount': 3070},\n",
       "  {'transaction-id': 7977, 'amount': 3245},\n",
       "  {'transaction-id': 8226, 'amount': 3105},\n",
       "  {'transaction-id': 8241, 'amount': 2750},\n",
       "  {'transaction-id': 8295, 'amount': 3299},\n",
       "  {'transaction-id': 8299, 'amount': 3511},\n",
       "  {'transaction-id': 8315, 'amount': 3559},\n",
       "  {'transaction-id': 8393, 'amount': 2927},\n",
       "  {'transaction-id': 8463, 'amount': 2772},\n",
       "  {'transaction-id': 8504, 'amount': 3170},\n",
       "  {'transaction-id': 8550, 'amount': 3194},\n",
       "  {'transaction-id': 8567, 'amount': 4019},\n",
       "  {'transaction-id': 8584, 'amount': 3242},\n",
       "  {'transaction-id': 8609, 'amount': 3108},\n",
       "  {'transaction-id': 8662, 'amount': 2843},\n",
       "  {'transaction-id': 8675, 'amount': 3624},\n",
       "  {'transaction-id': 8679, 'amount': 3390},\n",
       "  {'transaction-id': 8750, 'amount': 3216},\n",
       "  {'transaction-id': 8821, 'amount': 2944},\n",
       "  {'transaction-id': 8974, 'amount': 3180},\n",
       "  {'transaction-id': 9014, 'amount': 3356},\n",
       "  {'transaction-id': 9057, 'amount': 3266},\n",
       "  {'transaction-id': 9073, 'amount': 3348},\n",
       "  {'transaction-id': 9107, 'amount': 3216},\n",
       "  {'transaction-id': 9166, 'amount': 3237},\n",
       "  {'transaction-id': 9291, 'amount': 3685},\n",
       "  {'transaction-id': 9315, 'amount': 2981},\n",
       "  {'transaction-id': 9387, 'amount': 3503},\n",
       "  {'transaction-id': 9389, 'amount': 3712},\n",
       "  {'transaction-id': 9571, 'amount': 3146},\n",
       "  {'transaction-id': 9609, 'amount': 3259},\n",
       "  {'transaction-id': 9621, 'amount': 3208},\n",
       "  {'transaction-id': 9657, 'amount': 3283},\n",
       "  {'transaction-id': 9690, 'amount': 3730},\n",
       "  {'transaction-id': 9701, 'amount': 3197},\n",
       "  {'transaction-id': 9737, 'amount': 3006},\n",
       "  {'transaction-id': 9749, 'amount': 3333},\n",
       "  {'transaction-id': 9979, 'amount': 3257},\n",
       "  {'transaction-id': 9983, 'amount': 3377}],\n",
       " [{'transaction-id': 1345, 'amount': 81},\n",
       "  {'transaction-id': 3417, 'amount': 89},\n",
       "  {'transaction-id': 3991, 'amount': 83},\n",
       "  {'transaction-id': 8841, 'amount': 86},\n",
       "  {'transaction-id': 9501, 'amount': 79}])"
      ]
     },
     "execution_count": 15,
     "metadata": {},
     "output_type": "execute_result"
    }
   ],
   "source": [
    "(js.filter(lambda record: record['name'] == 'Alice')\n",
    "   .pluck('transactions')\n",
    "   .take(3))"
   ]
  },
  {
   "cell_type": "code",
   "execution_count": 16,
   "metadata": {
    "execution": {
     "iopub.execute_input": "2021-12-10T21:45:33.360488Z",
     "iopub.status.busy": "2021-12-10T21:45:33.355173Z",
     "iopub.status.idle": "2021-12-10T21:45:33.376040Z",
     "shell.execute_reply": "2021-12-10T21:45:33.375453Z"
    }
   },
   "outputs": [
    {
     "data": {
      "text/plain": [
       "({'transaction-id': 246, 'amount': 458},\n",
       " {'transaction-id': 672, 'amount': 493},\n",
       " {'transaction-id': 790, 'amount': 455})"
      ]
     },
     "execution_count": 16,
     "metadata": {},
     "output_type": "execute_result"
    }
   ],
   "source": [
    "(js.filter(lambda record: record['name'] == 'Alice')\n",
    "   .pluck('transactions')\n",
    "   .flatten()\n",
    "   .take(3))"
   ]
  },
  {
   "cell_type": "code",
   "execution_count": 17,
   "metadata": {
    "execution": {
     "iopub.execute_input": "2021-12-10T21:45:33.386327Z",
     "iopub.status.busy": "2021-12-10T21:45:33.384590Z",
     "iopub.status.idle": "2021-12-10T21:45:33.400096Z",
     "shell.execute_reply": "2021-12-10T21:45:33.399718Z"
    }
   },
   "outputs": [
    {
     "data": {
      "text/plain": [
       "(458, 493, 455)"
      ]
     },
     "execution_count": 17,
     "metadata": {},
     "output_type": "execute_result"
    }
   ],
   "source": [
    "(js.filter(lambda record: record['name'] == 'Alice')\n",
    "   .pluck('transactions')\n",
    "   .flatten()\n",
    "   .pluck('amount')\n",
    "   .take(3))"
   ]
  },
  {
   "cell_type": "code",
   "execution_count": 18,
   "metadata": {
    "execution": {
     "iopub.execute_input": "2021-12-10T21:45:33.404575Z",
     "iopub.status.busy": "2021-12-10T21:45:33.404165Z",
     "iopub.status.idle": "2021-12-10T21:45:33.759355Z",
     "shell.execute_reply": "2021-12-10T21:45:33.758966Z"
    }
   },
   "outputs": [
    {
     "data": {
      "text/plain": [
       "2359.89682476839"
      ]
     },
     "execution_count": 18,
     "metadata": {},
     "output_type": "execute_result"
    }
   ],
   "source": [
    "(js.filter(lambda record: record['name'] == 'Alice')\n",
    "   .pluck('transactions')\n",
    "   .flatten()\n",
    "   .pluck('amount')\n",
    "   .mean()\n",
    "   .compute())"
   ]
  },
  {
   "cell_type": "markdown",
   "metadata": {},
   "source": [
    "### Groupby and Foldby"
   ]
  },
  {
   "cell_type": "markdown",
   "metadata": {},
   "source": [
    "Often we want to group data by some function or key.  We can do this either with the `.groupby` method, which is straightforward but forces a full shuffle of the data (expensive) or with the harder-to-use but faster `.foldby` method, which does a streaming combined groupby and reduction.\n",
    "\n",
    "*  `groupby`:  Shuffles data so that all items with the same key are in the same key-value pair\n",
    "*  `foldby`:  Walks through the data accumulating a result per key\n",
    "\n",
    "*Note: the full groupby is particularly bad. In actual workloads you would do well to use `foldby` or switch to `DataFrame`s if possible.*"
   ]
  },
  {
   "cell_type": "markdown",
   "metadata": {},
   "source": [
    "### `groupby`"
   ]
  },
  {
   "cell_type": "markdown",
   "metadata": {},
   "source": [
    "Groupby collects items in your collection so that all items with the same value under some function are collected together into a key-value pair."
   ]
  },
  {
   "cell_type": "code",
   "execution_count": 19,
   "metadata": {
    "execution": {
     "iopub.execute_input": "2021-12-10T21:45:33.770728Z",
     "iopub.status.busy": "2021-12-10T21:45:33.761580Z",
     "iopub.status.idle": "2021-12-10T21:45:33.848993Z",
     "shell.execute_reply": "2021-12-10T21:45:33.848360Z"
    }
   },
   "outputs": [
    {
     "data": {
      "text/plain": [
       "[(7, ['Charlie']), (3, ['Bob', 'Dan']), (5, ['Alice', 'Edith', 'Frank'])]"
      ]
     },
     "execution_count": 19,
     "metadata": {},
     "output_type": "execute_result"
    }
   ],
   "source": [
    "b = db.from_sequence(['Alice', 'Bob', 'Charlie', 'Dan', 'Edith', 'Frank'])\n",
    "b.groupby(len).compute()  # names grouped by length"
   ]
  },
  {
   "cell_type": "code",
   "execution_count": 20,
   "metadata": {
    "execution": {
     "iopub.execute_input": "2021-12-10T21:45:33.853499Z",
     "iopub.status.busy": "2021-12-10T21:45:33.853060Z",
     "iopub.status.idle": "2021-12-10T21:45:34.077716Z",
     "shell.execute_reply": "2021-12-10T21:45:34.078091Z"
    }
   },
   "outputs": [
    {
     "data": {
      "text/plain": [
       "[(0, [0, 2, 4, 6, 8]), (1, [1, 3, 5, 7, 9])]"
      ]
     },
     "execution_count": 20,
     "metadata": {},
     "output_type": "execute_result"
    }
   ],
   "source": [
    "b = db.from_sequence(list(range(10)))\n",
    "b.groupby(lambda x: x % 2).compute()"
   ]
  },
  {
   "cell_type": "code",
   "execution_count": 21,
   "metadata": {
    "execution": {
     "iopub.execute_input": "2021-12-10T21:45:34.087335Z",
     "iopub.status.busy": "2021-12-10T21:45:34.082071Z",
     "iopub.status.idle": "2021-12-10T21:45:34.208184Z",
     "shell.execute_reply": "2021-12-10T21:45:34.207801Z"
    }
   },
   "outputs": [
    {
     "data": {
      "text/plain": [
       "[(0, 8), (1, 9)]"
      ]
     },
     "execution_count": 21,
     "metadata": {},
     "output_type": "execute_result"
    }
   ],
   "source": [
    "b.groupby(lambda x: x % 2).starmap(lambda k, v: (k, max(v))).compute()"
   ]
  },
  {
   "cell_type": "markdown",
   "metadata": {},
   "source": [
    "### `foldby`"
   ]
  },
  {
   "cell_type": "markdown",
   "metadata": {},
   "source": [
    "Foldby can be quite odd at first.  It is similar to the following functions from other libraries:\n",
    "\n",
    "*  [`toolz.reduceby`](http://toolz.readthedocs.io/en/latest/streaming-analytics.html#streaming-split-apply-combine)\n",
    "*  [`pyspark.RDD.combineByKey`](http://abshinn.github.io/python/apache-spark/2014/10/11/using-combinebykey-in-apache-spark/)\n",
    "\n",
    "When using `foldby` you provide \n",
    "\n",
    "1.  A key function on which to group elements\n",
    "2.  A binary operator such as you would pass to `reduce` that you use to perform reduction per each group\n",
    "3.  A combine binary operator that can combine the results of two `reduce` calls on different parts of your dataset.\n",
    "\n",
    "Your reduction must be associative.  It will happen in parallel in each of the partitions of your dataset.  Then all of these intermediate results will be combined by the `combine` binary operator."
   ]
  },
  {
   "cell_type": "code",
   "execution_count": 22,
   "metadata": {
    "execution": {
     "iopub.execute_input": "2021-12-10T21:45:34.217871Z",
     "iopub.status.busy": "2021-12-10T21:45:34.212817Z",
     "iopub.status.idle": "2021-12-10T21:45:34.259212Z",
     "shell.execute_reply": "2021-12-10T21:45:34.258843Z"
    }
   },
   "outputs": [
    {
     "data": {
      "text/plain": [
       "[(0, 8), (1, 9)]"
      ]
     },
     "execution_count": 22,
     "metadata": {},
     "output_type": "execute_result"
    }
   ],
   "source": [
    "b.foldby(lambda x: x % 2, binop=max, combine=max).compute()"
   ]
  },
  {
   "cell_type": "markdown",
   "metadata": {},
   "source": [
    "### Example with account data"
   ]
  },
  {
   "cell_type": "markdown",
   "metadata": {},
   "source": [
    "We find the number of people with the same name."
   ]
  },
  {
   "cell_type": "code",
   "execution_count": 23,
   "metadata": {
    "execution": {
     "iopub.execute_input": "2021-12-10T21:45:34.265746Z",
     "iopub.status.busy": "2021-12-10T21:45:34.261994Z",
     "iopub.status.idle": "2021-12-10T21:45:38.212231Z",
     "shell.execute_reply": "2021-12-10T21:45:38.211601Z"
    }
   },
   "outputs": [
    {
     "name": "stdout",
     "output_type": "stream",
     "text": [
      "[('Alice', 48), ('Alice', 48), ('Alice', 48), ('Alice', 56), ('Bob', 132), ('Bob', 133), ('Bob', 136), ('Bob', 156), ('Charlie', 143), ('Charlie', 144), ('Charlie', 144), ('Charlie', 168), ('Dan', 169), ('Dan', 169), ('Dan', 170), ('Dan', 197), ('Edith', 138), ('Edith', 142), ('Edith', 142), ('Edith', 166), ('Frank', 107), ('Frank', 108), ('Frank', 108), ('Frank', 126), ('George', 95), ('George', 96), ('George', 96), ('George', 112), ('Hannah', 112), ('Hannah', 113), ('Hannah', 117), ('Hannah', 131), ('Ingrid', 24), ('Ingrid', 24), ('Ingrid', 24), ('Ingrid', 26), ('Jerry', 112), ('Jerry', 113), ('Jerry', 115), ('Jerry', 133), ('Kevin', 84), ('Kevin', 84), ('Kevin', 84), ('Kevin', 98), ('Laura', 107), ('Laura', 107), ('Laura', 107), ('Laura', 125), ('Michael', 64), ('Michael', 64), ('Michael', 69), ('Michael', 78), ('Norbert', 48), ('Norbert', 48), ('Norbert', 48), ('Norbert', 56), ('Oliver', 71), ('Oliver', 72), ('Oliver', 72), ('Oliver', 84), ('Patricia', 144), ('Patricia', 144), ('Patricia', 144), ('Patricia', 168), ('Quinn', 83), ('Quinn', 84), ('Quinn', 84), ('Quinn', 97), ('Ray', 117), ('Ray', 119), ('Ray', 120), ('Ray', 139), ('Sarah', 190), ('Sarah', 192), ('Sarah', 192), ('Sarah', 223), ('Tim', 144), ('Tim', 144), ('Tim', 144), ('Tim', 168), ('Ursula', 175), ('Ursula', 175), ('Ursula', 177), ('Ursula', 206), ('Victor', 121), ('Victor', 122), ('Victor', 123), ('Victor', 145), ('Wendy', 127), ('Wendy', 127), ('Wendy', 128), ('Wendy', 142), ('Xavier', 109), ('Xavier', 111), ('Xavier', 238), ('Yvonne', 139), ('Yvonne', 140), ('Yvonne', 142), ('Yvonne', 163), ('Zelda', 96), ('Zelda', 96), ('Zelda', 96), ('Zelda', 112)]\n",
      "CPU times: user 776 ms, sys: 85.2 ms, total: 861 ms\n",
      "Wall time: 3.94 s\n"
     ]
    }
   ],
   "source": [
    "%%time\n",
    "# Warning, this one takes a while...\n",
    "result = js.groupby(lambda item: item['name']).starmap(lambda k, v: (k, len(v))).compute()\n",
    "print(sorted(result))"
   ]
  },
  {
   "cell_type": "code",
   "execution_count": 24,
   "metadata": {
    "execution": {
     "iopub.execute_input": "2021-12-10T21:45:38.222260Z",
     "iopub.status.busy": "2021-12-10T21:45:38.221426Z",
     "iopub.status.idle": "2021-12-10T21:45:38.594512Z",
     "shell.execute_reply": "2021-12-10T21:45:38.594146Z"
    }
   },
   "outputs": [
    {
     "name": "stdout",
     "output_type": "stream",
     "text": [
      "[('Alice', 200), ('Bob', 557), ('Charlie', 599), ('Dan', 705), ('Edith', 588), ('Frank', 449), ('George', 399), ('Hannah', 473), ('Ingrid', 98), ('Jerry', 473), ('Kevin', 350), ('Laura', 446), ('Michael', 275), ('Norbert', 200), ('Oliver', 299), ('Patricia', 600), ('Quinn', 348), ('Ray', 495), ('Sarah', 797), ('Tim', 600), ('Ursula', 733), ('Victor', 511), ('Wendy', 524), ('Xavier', 458), ('Yvonne', 584), ('Zelda', 400)]\n",
      "CPU times: user 101 ms, sys: 9.05 ms, total: 110 ms\n",
      "Wall time: 372 ms\n"
     ]
    }
   ],
   "source": [
    "%%time\n",
    "# This one is comparatively fast and produces the same result.\n",
    "from operator import add\n",
    "def incr(tot, _):\n",
    "    return tot + 1\n",
    "\n",
    "result = js.foldby(key='name', \n",
    "                   binop=incr, \n",
    "                   initial=0, \n",
    "                   combine=add, \n",
    "                   combine_initial=0).compute()\n",
    "print(sorted(result))"
   ]
  },
  {
   "cell_type": "markdown",
   "metadata": {},
   "source": [
    "### Exercise: compute total amount per name"
   ]
  },
  {
   "cell_type": "markdown",
   "metadata": {},
   "source": [
    "We want to groupby (or foldby) the `name` key, then add up the all of the amounts for each name.\n",
    "\n",
    "Steps\n",
    "\n",
    "1.  Create a small function that, given a dictionary like \n",
    "\n",
    "        {'name': 'Alice', 'transactions': [{'amount': 1, 'id': 123}, {'amount': 2, 'id': 456}]}\n",
    "        \n",
    "    produces the sum of the amounts, e.g. `3`\n",
    "    \n",
    "2.  Slightly change the binary operator of the `foldby` example above so that the binary operator doesn't count the number of entries, but instead accumulates the sum of the amounts."
   ]
  },
  {
   "cell_type": "code",
   "execution_count": 25,
   "metadata": {
    "execution": {
     "iopub.execute_input": "2021-12-10T21:45:38.598117Z",
     "iopub.status.busy": "2021-12-10T21:45:38.597473Z",
     "iopub.status.idle": "2021-12-10T21:45:38.600183Z",
     "shell.execute_reply": "2021-12-10T21:45:38.600499Z"
    }
   },
   "outputs": [],
   "source": [
    "# Your code here..."
   ]
  },
  {
   "cell_type": "markdown",
   "metadata": {},
   "source": [
    "## DataFrames"
   ]
  },
  {
   "cell_type": "markdown",
   "metadata": {},
   "source": [
    "For the same reasons that Pandas is often faster than pure Python, `dask.dataframe` can be faster than `dask.bag`.  We will work more with DataFrames later, but from the point of view of a Bag, it is frequently the end-point of the \"messy\" part of data ingestion—once the data can be made into a data-frame, then complex split-apply-combine logic will become much more straight-forward and efficient.\n",
    "\n",
    "You can transform a bag with a simple tuple or flat dictionary structure into a `dask.dataframe` with the `to_dataframe` method."
   ]
  },
  {
   "cell_type": "code",
   "execution_count": 26,
   "metadata": {
    "execution": {
     "iopub.execute_input": "2021-12-10T21:45:38.603732Z",
     "iopub.status.busy": "2021-12-10T21:45:38.603315Z",
     "iopub.status.idle": "2021-12-10T21:45:39.126628Z",
     "shell.execute_reply": "2021-12-10T21:45:39.126006Z"
    }
   },
   "outputs": [
    {
     "data": {
      "text/html": [
       "<div>\n",
       "<style scoped>\n",
       "    .dataframe tbody tr th:only-of-type {\n",
       "        vertical-align: middle;\n",
       "    }\n",
       "\n",
       "    .dataframe tbody tr th {\n",
       "        vertical-align: top;\n",
       "    }\n",
       "\n",
       "    .dataframe thead th {\n",
       "        text-align: right;\n",
       "    }\n",
       "</style>\n",
       "<table border=\"1\" class=\"dataframe\">\n",
       "  <thead>\n",
       "    <tr style=\"text-align: right;\">\n",
       "      <th></th>\n",
       "      <th>id</th>\n",
       "      <th>name</th>\n",
       "      <th>transactions</th>\n",
       "    </tr>\n",
       "  </thead>\n",
       "  <tbody>\n",
       "    <tr>\n",
       "      <th>0</th>\n",
       "      <td>0</td>\n",
       "      <td>Bob</td>\n",
       "      <td>[{'transaction-id': 38, 'amount': 81}, {'trans...</td>\n",
       "    </tr>\n",
       "    <tr>\n",
       "      <th>1</th>\n",
       "      <td>1</td>\n",
       "      <td>Edith</td>\n",
       "      <td>[{'transaction-id': 4671, 'amount': 6247}, {'t...</td>\n",
       "    </tr>\n",
       "    <tr>\n",
       "      <th>2</th>\n",
       "      <td>2</td>\n",
       "      <td>Ray</td>\n",
       "      <td>[{'transaction-id': 5, 'amount': 2675}, {'tran...</td>\n",
       "    </tr>\n",
       "    <tr>\n",
       "      <th>3</th>\n",
       "      <td>3</td>\n",
       "      <td>Kevin</td>\n",
       "      <td>[{'transaction-id': 161, 'amount': 1953}, {'tr...</td>\n",
       "    </tr>\n",
       "    <tr>\n",
       "      <th>4</th>\n",
       "      <td>4</td>\n",
       "      <td>Bob</td>\n",
       "      <td>[{'transaction-id': 66, 'amount': 2448}, {'tra...</td>\n",
       "    </tr>\n",
       "  </tbody>\n",
       "</table>\n",
       "</div>"
      ],
      "text/plain": [
       "   id   name                                       transactions\n",
       "0   0    Bob  [{'transaction-id': 38, 'amount': 81}, {'trans...\n",
       "1   1  Edith  [{'transaction-id': 4671, 'amount': 6247}, {'t...\n",
       "2   2    Ray  [{'transaction-id': 5, 'amount': 2675}, {'tran...\n",
       "3   3  Kevin  [{'transaction-id': 161, 'amount': 1953}, {'tr...\n",
       "4   4    Bob  [{'transaction-id': 66, 'amount': 2448}, {'tra..."
      ]
     },
     "execution_count": 26,
     "metadata": {},
     "output_type": "execute_result"
    }
   ],
   "source": [
    "df1 = js.to_dataframe()\n",
    "df1.head()"
   ]
  },
  {
   "cell_type": "markdown",
   "metadata": {},
   "source": [
    "This now looks like a well-defined DataFrame, and we can apply Pandas-like computations to it efficiently."
   ]
  },
  {
   "cell_type": "markdown",
   "metadata": {},
   "source": [
    "Using a Dask DataFrame, how long does it take to do our prior computation of numbers of people with the same name?  It turns out that `dask.dataframe.groupby()` beats `dask.bag.groupby()` by more than an order of magnitude; but it still cannot match `dask.bag.foldby()` for this case."
   ]
  },
  {
   "cell_type": "code",
   "execution_count": 27,
   "metadata": {
    "execution": {
     "iopub.execute_input": "2021-12-10T21:45:39.138428Z",
     "iopub.status.busy": "2021-12-10T21:45:39.133189Z",
     "iopub.status.idle": "2021-12-10T21:45:40.305883Z",
     "shell.execute_reply": "2021-12-10T21:45:40.305439Z"
    }
   },
   "outputs": [
    {
     "name": "stdout",
     "output_type": "stream",
     "text": [
      "CPU times: user 169 ms, sys: 21.2 ms, total: 190 ms\n",
      "Wall time: 1.17 s\n"
     ]
    },
    {
     "data": {
      "text/plain": [
       "name\n",
       "Alice      200\n",
       "Bob        557\n",
       "Charlie    599\n",
       "Dan        705\n",
       "Edith      588\n",
       "Name: id, dtype: int64"
      ]
     },
     "execution_count": 27,
     "metadata": {},
     "output_type": "execute_result"
    }
   ],
   "source": [
    "%time df1.groupby('name').id.count().compute().head()"
   ]
  },
  {
   "cell_type": "markdown",
   "metadata": {},
   "source": [
    "### Denormalization"
   ]
  },
  {
   "cell_type": "markdown",
   "metadata": {},
   "source": [
    "This DataFrame format is less-than-optimal because the `transactions` column is filled with nested data so Pandas has to revert to `object` dtype, which is quite slow in Pandas.  Ideally we want to transform to a dataframe only after we have flattened our data so that each record is a single `int`, `string`, `float`, etc.."
   ]
  },
  {
   "cell_type": "code",
   "execution_count": 28,
   "metadata": {
    "execution": {
     "iopub.execute_input": "2021-12-10T21:45:40.311525Z",
     "iopub.status.busy": "2021-12-10T21:45:40.311113Z",
     "iopub.status.idle": "2021-12-10T21:45:40.334549Z",
     "shell.execute_reply": "2021-12-10T21:45:40.334179Z"
    }
   },
   "outputs": [
    {
     "data": {
      "text/plain": [
       "({'id': 0, 'name': 'Bob', 'amount': 81, 'transaction-id': 38},\n",
       " {'id': 0, 'name': 'Bob', 'amount': 123, 'transaction-id': 39},\n",
       " {'id': 0, 'name': 'Bob', 'amount': 164, 'transaction-id': 191})"
      ]
     },
     "execution_count": 28,
     "metadata": {},
     "output_type": "execute_result"
    }
   ],
   "source": [
    "def denormalize(record):\n",
    "    # returns a list for each person, one item per transaction\n",
    "    return [{'id': record['id'], \n",
    "             'name': record['name'], \n",
    "             'amount': transaction['amount'], \n",
    "             'transaction-id': transaction['transaction-id']}\n",
    "            for transaction in record['transactions']]\n",
    "\n",
    "transactions = js.map(denormalize).flatten()\n",
    "transactions.take(3)"
   ]
  },
  {
   "cell_type": "code",
   "execution_count": 29,
   "metadata": {
    "execution": {
     "iopub.execute_input": "2021-12-10T21:45:40.342290Z",
     "iopub.status.busy": "2021-12-10T21:45:40.337492Z",
     "iopub.status.idle": "2021-12-10T21:45:40.410040Z",
     "shell.execute_reply": "2021-12-10T21:45:40.409667Z"
    }
   },
   "outputs": [
    {
     "data": {
      "text/html": [
       "<div>\n",
       "<style scoped>\n",
       "    .dataframe tbody tr th:only-of-type {\n",
       "        vertical-align: middle;\n",
       "    }\n",
       "\n",
       "    .dataframe tbody tr th {\n",
       "        vertical-align: top;\n",
       "    }\n",
       "\n",
       "    .dataframe thead th {\n",
       "        text-align: right;\n",
       "    }\n",
       "</style>\n",
       "<table border=\"1\" class=\"dataframe\">\n",
       "  <thead>\n",
       "    <tr style=\"text-align: right;\">\n",
       "      <th></th>\n",
       "      <th>id</th>\n",
       "      <th>name</th>\n",
       "      <th>amount</th>\n",
       "      <th>transaction-id</th>\n",
       "    </tr>\n",
       "  </thead>\n",
       "  <tbody>\n",
       "    <tr>\n",
       "      <th>0</th>\n",
       "      <td>0</td>\n",
       "      <td>Bob</td>\n",
       "      <td>81</td>\n",
       "      <td>38</td>\n",
       "    </tr>\n",
       "    <tr>\n",
       "      <th>1</th>\n",
       "      <td>0</td>\n",
       "      <td>Bob</td>\n",
       "      <td>123</td>\n",
       "      <td>39</td>\n",
       "    </tr>\n",
       "    <tr>\n",
       "      <th>2</th>\n",
       "      <td>0</td>\n",
       "      <td>Bob</td>\n",
       "      <td>164</td>\n",
       "      <td>191</td>\n",
       "    </tr>\n",
       "    <tr>\n",
       "      <th>3</th>\n",
       "      <td>0</td>\n",
       "      <td>Bob</td>\n",
       "      <td>110</td>\n",
       "      <td>287</td>\n",
       "    </tr>\n",
       "    <tr>\n",
       "      <th>4</th>\n",
       "      <td>0</td>\n",
       "      <td>Bob</td>\n",
       "      <td>62</td>\n",
       "      <td>313</td>\n",
       "    </tr>\n",
       "  </tbody>\n",
       "</table>\n",
       "</div>"
      ],
      "text/plain": [
       "   id name  amount  transaction-id\n",
       "0   0  Bob      81              38\n",
       "1   0  Bob     123              39\n",
       "2   0  Bob     164             191\n",
       "3   0  Bob     110             287\n",
       "4   0  Bob      62             313"
      ]
     },
     "execution_count": 29,
     "metadata": {},
     "output_type": "execute_result"
    }
   ],
   "source": [
    "df = transactions.to_dataframe()\n",
    "df.head()"
   ]
  },
  {
   "cell_type": "code",
   "execution_count": 30,
   "metadata": {
    "execution": {
     "iopub.execute_input": "2021-12-10T21:45:40.421935Z",
     "iopub.status.busy": "2021-12-10T21:45:40.421481Z",
     "iopub.status.idle": "2021-12-10T21:45:41.322526Z",
     "shell.execute_reply": "2021-12-10T21:45:41.322044Z"
    }
   },
   "outputs": [
    {
     "name": "stdout",
     "output_type": "stream",
     "text": [
      "CPU times: user 154 ms, sys: 454 µs, total: 155 ms\n",
      "Wall time: 901 ms\n"
     ]
    },
    {
     "data": {
      "text/plain": [
       "name\n",
       "Alice       12629\n",
       "Bob         21851\n",
       "Charlie     24853\n",
       "Dan         27013\n",
       "Edith       19698\n",
       "Frank       12267\n",
       "George      13895\n",
       "Hannah      15861\n",
       "Ingrid       1558\n",
       "Jerry        7492\n",
       "Kevin       17884\n",
       "Laura       16821\n",
       "Michael      6522\n",
       "Norbert     10918\n",
       "Oliver      22124\n",
       "Patricia    26928\n",
       "Quinn       10047\n",
       "Ray         18835\n",
       "Sarah       40632\n",
       "Tim         22970\n",
       "Ursula      18963\n",
       "Victor      35804\n",
       "Wendy       32500\n",
       "Xavier      13668\n",
       "Yvonne      30014\n",
       "Zelda       18253\n",
       "Name: transaction-id, dtype: int64"
      ]
     },
     "execution_count": 30,
     "metadata": {},
     "output_type": "execute_result"
    }
   ],
   "source": [
    "%%time\n",
    "# number of transactions per name\n",
    "# note that the time here includes the data load and ingestion\n",
    "df.groupby('name')['transaction-id'].count().compute()"
   ]
  },
  {
   "cell_type": "markdown",
   "metadata": {},
   "source": [
    "## Limitations"
   ]
  },
  {
   "cell_type": "markdown",
   "metadata": {},
   "source": [
    "Bags provide very general computation (any Python function.)  This generality\n",
    "comes at cost.  Bags have the following known limitations\n",
    "\n",
    "1.  Bag operations tend to be slower than array/dataframe computations in the\n",
    "    same way that Python tends to be slower than NumPy/Pandas\n",
    "2.  ``Bag.groupby`` is slow.  You should try to use ``Bag.foldby`` if possible.\n",
    "    Using ``Bag.foldby`` requires more thought. Even better, consider creating\n",
    "    a normalised dataframe."
   ]
  },
  {
   "cell_type": "markdown",
   "metadata": {},
   "source": [
    "## Learn More\n",
    "\n",
    "* [Bag documentation](https://docs.dask.org/en/latest/bag.html)\n",
    "* [Bag screencast](https://youtu.be/-qIiJ1XtSv0)\n",
    "* [Bag API](https://docs.dask.org/en/latest/bag-api.html)\n",
    "* [Bag examples](https://examples.dask.org/bag.html)"
   ]
  },
  {
   "cell_type": "markdown",
   "metadata": {},
   "source": [
    "## Shutdown"
   ]
  },
  {
   "cell_type": "code",
   "execution_count": 31,
   "metadata": {
    "execution": {
     "iopub.execute_input": "2021-12-10T21:45:41.326495Z",
     "iopub.status.busy": "2021-12-10T21:45:41.325405Z",
     "iopub.status.idle": "2021-12-10T21:45:41.795802Z",
     "shell.execute_reply": "2021-12-10T21:45:41.796217Z"
    }
   },
   "outputs": [
    {
     "name": "stderr",
     "output_type": "stream",
     "text": [
      "/usr/share/miniconda3/envs/dask-tutorial/lib/python3.8/site-packages/dask/bag/core.py:2443: UserWarning: Insufficient elements for `take`. 5 elements requested, only 4 elements available. Try passing larger `npartitions` to `take`.\n",
      "  warnings.warn(\n",
      "/usr/share/miniconda3/envs/dask-tutorial/lib/python3.8/site-packages/dask/bag/core.py:2443: UserWarning: Insufficient elements for `take`. 5 elements requested, only 4 elements available. Try passing larger `npartitions` to `take`.\n",
      "  warnings.warn(\n"
     ]
    }
   ],
   "source": [
    "client.shutdown()"
   ]
  }
 ],
 "metadata": {
  "anaconda-cloud": {},
  "kernelspec": {
   "display_name": "Python 3",
   "language": "python",
   "name": "python3"
  },
  "language_info": {
   "codemirror_mode": {
    "name": "ipython",
    "version": 3
   },
   "file_extension": ".py",
   "mimetype": "text/x-python",
   "name": "python",
   "nbconvert_exporter": "python",
   "pygments_lexer": "ipython3",
   "version": "3.8.12"
  }
 },
 "nbformat": 4,
 "nbformat_minor": 4
}
