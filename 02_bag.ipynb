{
 "cells": [
  {
   "cell_type": "markdown",
   "metadata": {},
   "source": [
    "<img src=\"images/dask_horizontal.svg\" align=\"right\" width=\"30%\">"
   ]
  },
  {
   "cell_type": "markdown",
   "metadata": {},
   "source": [
    "# Bag: Parallel Lists for semi-structured data"
   ]
  },
  {
   "cell_type": "markdown",
   "metadata": {},
   "source": [
    "Dask-bag excels in processing data that can be represented as a sequence of arbitrary inputs. We'll refer to this as \"messy\" data, because it can contain complex nested structures, missing fields, mixtures of data types, etc. The *functional* programming style fits very nicely with standard Python iteration, such as can be found in the `itertools` module.\n",
    "\n",
    "Messy data is often encountered at the beginning of data processing pipelines when large volumes of raw data are first consumed. The initial set of data might be JSON, CSV, XML, or any other format that does not enforce strict structure and datatypes.\n",
    "For this reason, the initial data massaging and processing is often done with Python `list`s, `dict`s, and `set`s.\n",
    "\n",
    "These core data structures are optimized for general-purpose storage and processing.  Adding streaming computation with iterators/generator expressions or libraries like `itertools` or [`toolz`](https://toolz.readthedocs.io/en/latest/) let us process large volumes in a small space.  If we combine this with parallel processing then we can churn through a fair amount of data.\n",
    "\n",
    "Dask.bag is a high level Dask collection to automate common workloads of this form.  In a nutshell\n",
    "\n",
    "    dask.bag = map, filter, toolz + parallel execution\n",
    "    \n",
    "**Related Documentation**\n",
    "\n",
    "* [Bag documentation](https://docs.dask.org/en/latest/bag.html)\n",
    "* [Bag screencast](https://youtu.be/-qIiJ1XtSv0)\n",
    "* [Bag API](https://docs.dask.org/en/latest/bag-api.html)\n",
    "* [Bag examples](https://examples.dask.org/bag.html)"
   ]
  },
  {
   "cell_type": "markdown",
   "metadata": {},
   "source": [
    "## Create data"
   ]
  },
  {
   "cell_type": "code",
   "execution_count": 1,
   "metadata": {
    "execution": {
     "iopub.execute_input": "2021-07-20T15:42:59.088327Z",
     "iopub.status.busy": "2021-07-20T15:42:59.087854Z",
     "iopub.status.idle": "2021-07-20T15:42:59.735974Z",
     "shell.execute_reply": "2021-07-20T15:42:59.735419Z"
    }
   },
   "outputs": [],
   "source": [
    "%run prep.py -d accounts"
   ]
  },
  {
   "cell_type": "markdown",
   "metadata": {},
   "source": [
    "## Setup"
   ]
  },
  {
   "cell_type": "markdown",
   "metadata": {},
   "source": [
    "Again, we'll use the distributed scheduler. Schedulers will be explained in depth [later](05_distributed.ipynb)."
   ]
  },
  {
   "cell_type": "code",
   "execution_count": 2,
   "metadata": {
    "execution": {
     "iopub.execute_input": "2021-07-20T15:42:59.740665Z",
     "iopub.status.busy": "2021-07-20T15:42:59.739543Z",
     "iopub.status.idle": "2021-07-20T15:43:01.535227Z",
     "shell.execute_reply": "2021-07-20T15:43:01.535916Z"
    }
   },
   "outputs": [],
   "source": [
    "from dask.distributed import Client\n",
    "\n",
    "client = Client(n_workers=4)"
   ]
  },
  {
   "cell_type": "markdown",
   "metadata": {},
   "source": [
    "## Creation"
   ]
  },
  {
   "cell_type": "markdown",
   "metadata": {},
   "source": [
    "You can create a `Bag` from a Python sequence, from files, from data on S3, etc.\n",
    "We demonstrate using `.take()` to show elements of the data. (Doing `.take(1)` results in a tuple with one element)\n",
    "\n",
    "Note that the data are partitioned into blocks, and there are many items per block. In the first example, the two partitions contain five elements each, and in the following two, each file is partitioned into one or more bytes blocks."
   ]
  },
  {
   "cell_type": "code",
   "execution_count": 3,
   "metadata": {
    "execution": {
     "iopub.execute_input": "2021-07-20T15:43:01.542874Z",
     "iopub.status.busy": "2021-07-20T15:43:01.541052Z",
     "iopub.status.idle": "2021-07-20T15:43:01.776725Z",
     "shell.execute_reply": "2021-07-20T15:43:01.776253Z"
    }
   },
   "outputs": [
    {
     "data": {
      "text/plain": [
       "(1, 2, 3)"
      ]
     },
     "execution_count": 3,
     "metadata": {},
     "output_type": "execute_result"
    }
   ],
   "source": [
    "# each element is an integer\n",
    "import dask.bag as db\n",
    "b = db.from_sequence([1, 2, 3, 4, 5, 6, 7, 8, 9, 10], npartitions=2)\n",
    "b.take(3)"
   ]
  },
  {
   "cell_type": "code",
   "execution_count": 4,
   "metadata": {
    "execution": {
     "iopub.execute_input": "2021-07-20T15:43:01.781390Z",
     "iopub.status.busy": "2021-07-20T15:43:01.780886Z",
     "iopub.status.idle": "2021-07-20T15:43:01.812020Z",
     "shell.execute_reply": "2021-07-20T15:43:01.811537Z"
    }
   },
   "outputs": [
    {
     "data": {
      "text/plain": [
       "('{\"id\": 0, \"name\": \"Alice\", \"transactions\": [{\"transaction-id\": 17, \"amount\": 179}, {\"transaction-id\": 203, \"amount\": 113}, {\"transaction-id\": 302, \"amount\": -15}, {\"transaction-id\": 398, \"amount\": 204}, {\"transaction-id\": 987, \"amount\": 39}, {\"transaction-id\": 3434, \"amount\": 346}, {\"transaction-id\": 3568, \"amount\": 159}, {\"transaction-id\": 3597, \"amount\": 90}, {\"transaction-id\": 3817, \"amount\": 30}, {\"transaction-id\": 3824, \"amount\": 88}, {\"transaction-id\": 5497, \"amount\": 75}, {\"transaction-id\": 5512, \"amount\": 158}, {\"transaction-id\": 6095, \"amount\": 190}, {\"transaction-id\": 6192, \"amount\": 92}, {\"transaction-id\": 6752, \"amount\": 30}, {\"transaction-id\": 6778, \"amount\": 166}, {\"transaction-id\": 6940, \"amount\": -106}, {\"transaction-id\": 7057, \"amount\": 111}, {\"transaction-id\": 7151, \"amount\": 132}, {\"transaction-id\": 7863, \"amount\": 140}, {\"transaction-id\": 7917, \"amount\": 154}, {\"transaction-id\": 8291, \"amount\": 213}, {\"transaction-id\": 8294, \"amount\": 56}, {\"transaction-id\": 8652, \"amount\": 278}, {\"transaction-id\": 8767, \"amount\": 80}, {\"transaction-id\": 8955, \"amount\": 199}, {\"transaction-id\": 9124, \"amount\": 125}, {\"transaction-id\": 9368, \"amount\": 162}, {\"transaction-id\": 9834, \"amount\": 231}, {\"transaction-id\": 9849, \"amount\": 100}]}\\n',)"
      ]
     },
     "execution_count": 4,
     "metadata": {},
     "output_type": "execute_result"
    }
   ],
   "source": [
    "# each element is a text file, where each line is a JSON object\n",
    "# note that the compression is handled automatically\n",
    "import os\n",
    "b = db.read_text(os.path.join('data', 'accounts.*.json.gz'))\n",
    "b.take(1)"
   ]
  },
  {
   "cell_type": "code",
   "execution_count": 5,
   "metadata": {
    "execution": {
     "iopub.execute_input": "2021-07-20T15:43:01.818713Z",
     "iopub.status.busy": "2021-07-20T15:43:01.818023Z",
     "iopub.status.idle": "2021-07-20T15:43:01.820231Z",
     "shell.execute_reply": "2021-07-20T15:43:01.820642Z"
    }
   },
   "outputs": [
    {
     "data": {
      "text/plain": [
       "'s3://dask-data/nyc-taxi/2015/yellow_tripdata_2015-01.csv'"
      ]
     },
     "execution_count": 5,
     "metadata": {},
     "output_type": "execute_result"
    }
   ],
   "source": [
    "# Edit sources.py to configure source locations\n",
    "import sources\n",
    "sources.bag_url"
   ]
  },
  {
   "cell_type": "code",
   "execution_count": 6,
   "metadata": {
    "execution": {
     "iopub.execute_input": "2021-07-20T15:43:01.825108Z",
     "iopub.status.busy": "2021-07-20T15:43:01.824552Z",
     "iopub.status.idle": "2021-07-20T15:43:02.606613Z",
     "shell.execute_reply": "2021-07-20T15:43:02.605792Z"
    }
   },
   "outputs": [
    {
     "data": {
      "text/plain": [
       "('VendorID,tpep_pickup_datetime,tpep_dropoff_datetime,passenger_count,trip_distance,pickup_longitude,pickup_latitude,RateCodeID,store_and_fwd_flag,dropoff_longitude,dropoff_latitude,payment_type,fare_amount,extra,mta_tax,tip_amount,tolls_amount,improvement_surcharge,total_amount\\n',)"
      ]
     },
     "execution_count": 6,
     "metadata": {},
     "output_type": "execute_result"
    }
   ],
   "source": [
    "# Requires `s3fs` library\n",
    "# each partition is a remote CSV text file\n",
    "b = db.read_text(sources.bag_url,\n",
    "                 storage_options={'anon': True})\n",
    "b.take(1)"
   ]
  },
  {
   "cell_type": "markdown",
   "metadata": {},
   "source": [
    "## Manipulation"
   ]
  },
  {
   "cell_type": "markdown",
   "metadata": {},
   "source": [
    "`Bag` objects hold the standard functional API found in projects like the Python standard library, `toolz`, or `pyspark`, including `map`, `filter`, `groupby`, etc..\n",
    "\n",
    "Operations on `Bag` objects create new bags.  Call the `.compute()` method to trigger execution, as we saw for `Delayed` objects.  "
   ]
  },
  {
   "cell_type": "code",
   "execution_count": 7,
   "metadata": {
    "execution": {
     "iopub.execute_input": "2021-07-20T15:43:02.613399Z",
     "iopub.status.busy": "2021-07-20T15:43:02.612852Z",
     "iopub.status.idle": "2021-07-20T15:43:02.615048Z",
     "shell.execute_reply": "2021-07-20T15:43:02.615467Z"
    }
   },
   "outputs": [
    {
     "data": {
      "text/plain": [
       "dask.bag<lambda, npartitions=10>"
      ]
     },
     "execution_count": 7,
     "metadata": {},
     "output_type": "execute_result"
    }
   ],
   "source": [
    "def is_even(n):\n",
    "    return n % 2 == 0\n",
    "\n",
    "b = db.from_sequence([1, 2, 3, 4, 5, 6, 7, 8, 9, 10])\n",
    "c = b.filter(is_even).map(lambda x: x ** 2)\n",
    "c"
   ]
  },
  {
   "cell_type": "code",
   "execution_count": 8,
   "metadata": {
    "execution": {
     "iopub.execute_input": "2021-07-20T15:43:02.628599Z",
     "iopub.status.busy": "2021-07-20T15:43:02.624240Z",
     "iopub.status.idle": "2021-07-20T15:43:02.775856Z",
     "shell.execute_reply": "2021-07-20T15:43:02.776570Z"
    }
   },
   "outputs": [
    {
     "data": {
      "text/plain": [
       "[4, 16, 36, 64, 100]"
      ]
     },
     "execution_count": 8,
     "metadata": {},
     "output_type": "execute_result"
    }
   ],
   "source": [
    "# blocking form: wait for completion (which is very fast in this case)\n",
    "c.compute()"
   ]
  },
  {
   "cell_type": "markdown",
   "metadata": {},
   "source": [
    "### Example: Accounts JSON data"
   ]
  },
  {
   "cell_type": "markdown",
   "metadata": {},
   "source": [
    "We've created a fake dataset of gzipped JSON data in your data directory.  This is like the example used in the `DataFrame` example we will see later, except that it has bundled up all of the entries for each individual `id` into a single record.  This is similar to data that you might collect off of a document store database or a web API.\n",
    "\n",
    "Each line is a JSON encoded dictionary with the following keys\n",
    "\n",
    "*  id: Unique identifier of the customer\n",
    "*  name: Name of the customer\n",
    "*  transactions: List of `transaction-id`, `amount` pairs, one for each transaction for the customer in that file"
   ]
  },
  {
   "cell_type": "code",
   "execution_count": 9,
   "metadata": {
    "execution": {
     "iopub.execute_input": "2021-07-20T15:43:02.783361Z",
     "iopub.status.busy": "2021-07-20T15:43:02.781277Z",
     "iopub.status.idle": "2021-07-20T15:43:02.813804Z",
     "shell.execute_reply": "2021-07-20T15:43:02.813202Z"
    }
   },
   "outputs": [
    {
     "data": {
      "text/plain": [
       "('{\"id\": 0, \"name\": \"Alice\", \"transactions\": [{\"transaction-id\": 17, \"amount\": 179}, {\"transaction-id\": 203, \"amount\": 113}, {\"transaction-id\": 302, \"amount\": -15}, {\"transaction-id\": 398, \"amount\": 204}, {\"transaction-id\": 987, \"amount\": 39}, {\"transaction-id\": 3434, \"amount\": 346}, {\"transaction-id\": 3568, \"amount\": 159}, {\"transaction-id\": 3597, \"amount\": 90}, {\"transaction-id\": 3817, \"amount\": 30}, {\"transaction-id\": 3824, \"amount\": 88}, {\"transaction-id\": 5497, \"amount\": 75}, {\"transaction-id\": 5512, \"amount\": 158}, {\"transaction-id\": 6095, \"amount\": 190}, {\"transaction-id\": 6192, \"amount\": 92}, {\"transaction-id\": 6752, \"amount\": 30}, {\"transaction-id\": 6778, \"amount\": 166}, {\"transaction-id\": 6940, \"amount\": -106}, {\"transaction-id\": 7057, \"amount\": 111}, {\"transaction-id\": 7151, \"amount\": 132}, {\"transaction-id\": 7863, \"amount\": 140}, {\"transaction-id\": 7917, \"amount\": 154}, {\"transaction-id\": 8291, \"amount\": 213}, {\"transaction-id\": 8294, \"amount\": 56}, {\"transaction-id\": 8652, \"amount\": 278}, {\"transaction-id\": 8767, \"amount\": 80}, {\"transaction-id\": 8955, \"amount\": 199}, {\"transaction-id\": 9124, \"amount\": 125}, {\"transaction-id\": 9368, \"amount\": 162}, {\"transaction-id\": 9834, \"amount\": 231}, {\"transaction-id\": 9849, \"amount\": 100}]}\\n',\n",
       " '{\"id\": 1, \"name\": \"Frank\", \"transactions\": [{\"transaction-id\": 143, \"amount\": 524}, {\"transaction-id\": 361, \"amount\": 477}, {\"transaction-id\": 649, \"amount\": 535}, {\"transaction-id\": 659, \"amount\": 496}, {\"transaction-id\": 1661, \"amount\": 548}, {\"transaction-id\": 2131, \"amount\": 411}, {\"transaction-id\": 2194, \"amount\": 390}, {\"transaction-id\": 2492, \"amount\": 513}, {\"transaction-id\": 2542, \"amount\": 405}, {\"transaction-id\": 3041, \"amount\": 517}, {\"transaction-id\": 3338, \"amount\": 483}, {\"transaction-id\": 5593, \"amount\": 466}, {\"transaction-id\": 5741, \"amount\": 417}, {\"transaction-id\": 5981, \"amount\": 522}, {\"transaction-id\": 6054, \"amount\": 416}, {\"transaction-id\": 6818, \"amount\": 543}, {\"transaction-id\": 8237, \"amount\": 336}, {\"transaction-id\": 9537, \"amount\": 470}, {\"transaction-id\": 9921, \"amount\": 527}]}\\n',\n",
       " '{\"id\": 2, \"name\": \"Bob\", \"transactions\": [{\"transaction-id\": 76, \"amount\": 229}, {\"transaction-id\": 117, \"amount\": -155}, {\"transaction-id\": 306, \"amount\": 81}, {\"transaction-id\": 422, \"amount\": 0}, {\"transaction-id\": 448, \"amount\": 162}, {\"transaction-id\": 507, \"amount\": 213}, {\"transaction-id\": 545, \"amount\": -629}, {\"transaction-id\": 628, \"amount\": -377}, {\"transaction-id\": 655, \"amount\": 80}, {\"transaction-id\": 776, \"amount\": -1621}, {\"transaction-id\": 838, \"amount\": -517}, {\"transaction-id\": 906, \"amount\": 495}, {\"transaction-id\": 941, \"amount\": -993}, {\"transaction-id\": 997, \"amount\": 33}, {\"transaction-id\": 1072, \"amount\": -859}, {\"transaction-id\": 1105, \"amount\": -67}, {\"transaction-id\": 1326, \"amount\": -509}, {\"transaction-id\": 1672, \"amount\": -124}, {\"transaction-id\": 1697, \"amount\": -2}, {\"transaction-id\": 1730, \"amount\": 406}, {\"transaction-id\": 1871, \"amount\": 17}, {\"transaction-id\": 1879, \"amount\": -613}, {\"transaction-id\": 2012, \"amount\": 350}, {\"transaction-id\": 2041, \"amount\": -268}, {\"transaction-id\": 2074, \"amount\": -1194}, {\"transaction-id\": 2145, \"amount\": 33}, {\"transaction-id\": 2177, \"amount\": -81}, {\"transaction-id\": 2184, \"amount\": -848}, {\"transaction-id\": 2199, \"amount\": -448}, {\"transaction-id\": 2214, \"amount\": 84}, {\"transaction-id\": 2228, \"amount\": -272}, {\"transaction-id\": 2240, \"amount\": -381}, {\"transaction-id\": 2250, \"amount\": -808}, {\"transaction-id\": 2322, \"amount\": -495}, {\"transaction-id\": 2382, \"amount\": -1111}, {\"transaction-id\": 2384, \"amount\": -1131}, {\"transaction-id\": 2517, \"amount\": -74}, {\"transaction-id\": 2557, \"amount\": -476}, {\"transaction-id\": 2617, \"amount\": -727}, {\"transaction-id\": 2770, \"amount\": -853}, {\"transaction-id\": 2833, \"amount\": 136}, {\"transaction-id\": 2935, \"amount\": 121}, {\"transaction-id\": 3008, \"amount\": -56}, {\"transaction-id\": 3023, \"amount\": -674}, {\"transaction-id\": 3048, \"amount\": -834}, {\"transaction-id\": 3052, \"amount\": -362}, {\"transaction-id\": 3165, \"amount\": -911}, {\"transaction-id\": 3173, \"amount\": -420}, {\"transaction-id\": 3205, \"amount\": -271}, {\"transaction-id\": 3245, \"amount\": -1177}, {\"transaction-id\": 3261, \"amount\": 157}, {\"transaction-id\": 3309, \"amount\": 344}, {\"transaction-id\": 3370, \"amount\": -22}, {\"transaction-id\": 3461, \"amount\": -389}, {\"transaction-id\": 3608, \"amount\": -516}, {\"transaction-id\": 3648, \"amount\": 98}, {\"transaction-id\": 3680, \"amount\": 211}, {\"transaction-id\": 3770, \"amount\": -821}, {\"transaction-id\": 3785, \"amount\": 239}, {\"transaction-id\": 4190, \"amount\": 260}, {\"transaction-id\": 4221, \"amount\": 40}, {\"transaction-id\": 4229, \"amount\": -639}, {\"transaction-id\": 4313, \"amount\": 388}, {\"transaction-id\": 4381, \"amount\": -29}, {\"transaction-id\": 4472, \"amount\": -517}, {\"transaction-id\": 4480, \"amount\": -1}, {\"transaction-id\": 4593, \"amount\": -145}, {\"transaction-id\": 4602, \"amount\": -306}, {\"transaction-id\": 4603, \"amount\": -200}, {\"transaction-id\": 4661, \"amount\": -525}, {\"transaction-id\": 4676, \"amount\": -509}, {\"transaction-id\": 4857, \"amount\": -103}, {\"transaction-id\": 4940, \"amount\": -1165}, {\"transaction-id\": 4959, \"amount\": -774}, {\"transaction-id\": 5092, \"amount\": -641}, {\"transaction-id\": 5193, \"amount\": 440}, {\"transaction-id\": 5254, \"amount\": -657}, {\"transaction-id\": 5423, \"amount\": -607}, {\"transaction-id\": 5500, \"amount\": -522}, {\"transaction-id\": 5573, \"amount\": -186}, {\"transaction-id\": 5665, \"amount\": -240}, {\"transaction-id\": 5680, \"amount\": -1624}, {\"transaction-id\": 5682, \"amount\": 550}, {\"transaction-id\": 5899, \"amount\": -227}, {\"transaction-id\": 5983, \"amount\": -660}, {\"transaction-id\": 5986, \"amount\": -389}, {\"transaction-id\": 5999, \"amount\": -912}, {\"transaction-id\": 6107, \"amount\": -648}, {\"transaction-id\": 6178, \"amount\": -554}, {\"transaction-id\": 6218, \"amount\": -604}, {\"transaction-id\": 6381, \"amount\": -1284}, {\"transaction-id\": 6511, \"amount\": 485}, {\"transaction-id\": 6524, \"amount\": -802}, {\"transaction-id\": 6810, \"amount\": -527}, {\"transaction-id\": 6929, \"amount\": 91}, {\"transaction-id\": 7039, \"amount\": -672}, {\"transaction-id\": 7263, \"amount\": -1097}, {\"transaction-id\": 7289, \"amount\": -692}, {\"transaction-id\": 7298, \"amount\": 108}, {\"transaction-id\": 7365, \"amount\": 86}, {\"transaction-id\": 7397, \"amount\": -588}, {\"transaction-id\": 7442, \"amount\": -281}, {\"transaction-id\": 7599, \"amount\": 170}, {\"transaction-id\": 7668, \"amount\": -505}, {\"transaction-id\": 7790, \"amount\": -1011}, {\"transaction-id\": 7812, \"amount\": -801}, {\"transaction-id\": 7867, \"amount\": -260}, {\"transaction-id\": 7877, \"amount\": -578}, {\"transaction-id\": 7915, \"amount\": -580}, {\"transaction-id\": 8119, \"amount\": -580}, {\"transaction-id\": 8123, \"amount\": -250}, {\"transaction-id\": 8164, \"amount\": -684}, {\"transaction-id\": 8234, \"amount\": -769}, {\"transaction-id\": 8243, \"amount\": -562}, {\"transaction-id\": 8275, \"amount\": 144}, {\"transaction-id\": 8299, \"amount\": -845}, {\"transaction-id\": 8422, \"amount\": 343}, {\"transaction-id\": 8461, \"amount\": -399}, {\"transaction-id\": 8510, \"amount\": -501}, {\"transaction-id\": 8598, \"amount\": -288}, {\"transaction-id\": 8814, \"amount\": 339}, {\"transaction-id\": 8838, \"amount\": -746}, {\"transaction-id\": 8880, \"amount\": -412}, {\"transaction-id\": 8969, \"amount\": -297}, {\"transaction-id\": 8994, \"amount\": -279}, {\"transaction-id\": 9009, \"amount\": -275}, {\"transaction-id\": 9148, \"amount\": 34}, {\"transaction-id\": 9212, \"amount\": -205}, {\"transaction-id\": 9230, \"amount\": -695}, {\"transaction-id\": 9442, \"amount\": 305}, {\"transaction-id\": 9534, \"amount\": -741}, {\"transaction-id\": 9918, \"amount\": -1110}, {\"transaction-id\": 9957, \"amount\": -431}]}\\n')"
      ]
     },
     "execution_count": 9,
     "metadata": {},
     "output_type": "execute_result"
    }
   ],
   "source": [
    "filename = os.path.join('data', 'accounts.*.json.gz')\n",
    "lines = db.read_text(filename)\n",
    "lines.take(3)"
   ]
  },
  {
   "cell_type": "markdown",
   "metadata": {},
   "source": [
    "Our data comes out of the file as lines of text. Notice that file decompression happened automatically. We can make this data look more reasonable by mapping the `json.loads` function onto our bag."
   ]
  },
  {
   "cell_type": "code",
   "execution_count": 10,
   "metadata": {
    "execution": {
     "iopub.execute_input": "2021-07-20T15:43:02.819860Z",
     "iopub.status.busy": "2021-07-20T15:43:02.819029Z",
     "iopub.status.idle": "2021-07-20T15:43:02.850785Z",
     "shell.execute_reply": "2021-07-20T15:43:02.851475Z"
    }
   },
   "outputs": [
    {
     "data": {
      "text/plain": [
       "({'id': 0,\n",
       "  'name': 'Alice',\n",
       "  'transactions': [{'transaction-id': 17, 'amount': 179},\n",
       "   {'transaction-id': 203, 'amount': 113},\n",
       "   {'transaction-id': 302, 'amount': -15},\n",
       "   {'transaction-id': 398, 'amount': 204},\n",
       "   {'transaction-id': 987, 'amount': 39},\n",
       "   {'transaction-id': 3434, 'amount': 346},\n",
       "   {'transaction-id': 3568, 'amount': 159},\n",
       "   {'transaction-id': 3597, 'amount': 90},\n",
       "   {'transaction-id': 3817, 'amount': 30},\n",
       "   {'transaction-id': 3824, 'amount': 88},\n",
       "   {'transaction-id': 5497, 'amount': 75},\n",
       "   {'transaction-id': 5512, 'amount': 158},\n",
       "   {'transaction-id': 6095, 'amount': 190},\n",
       "   {'transaction-id': 6192, 'amount': 92},\n",
       "   {'transaction-id': 6752, 'amount': 30},\n",
       "   {'transaction-id': 6778, 'amount': 166},\n",
       "   {'transaction-id': 6940, 'amount': -106},\n",
       "   {'transaction-id': 7057, 'amount': 111},\n",
       "   {'transaction-id': 7151, 'amount': 132},\n",
       "   {'transaction-id': 7863, 'amount': 140},\n",
       "   {'transaction-id': 7917, 'amount': 154},\n",
       "   {'transaction-id': 8291, 'amount': 213},\n",
       "   {'transaction-id': 8294, 'amount': 56},\n",
       "   {'transaction-id': 8652, 'amount': 278},\n",
       "   {'transaction-id': 8767, 'amount': 80},\n",
       "   {'transaction-id': 8955, 'amount': 199},\n",
       "   {'transaction-id': 9124, 'amount': 125},\n",
       "   {'transaction-id': 9368, 'amount': 162},\n",
       "   {'transaction-id': 9834, 'amount': 231},\n",
       "   {'transaction-id': 9849, 'amount': 100}]},\n",
       " {'id': 1,\n",
       "  'name': 'Frank',\n",
       "  'transactions': [{'transaction-id': 143, 'amount': 524},\n",
       "   {'transaction-id': 361, 'amount': 477},\n",
       "   {'transaction-id': 649, 'amount': 535},\n",
       "   {'transaction-id': 659, 'amount': 496},\n",
       "   {'transaction-id': 1661, 'amount': 548},\n",
       "   {'transaction-id': 2131, 'amount': 411},\n",
       "   {'transaction-id': 2194, 'amount': 390},\n",
       "   {'transaction-id': 2492, 'amount': 513},\n",
       "   {'transaction-id': 2542, 'amount': 405},\n",
       "   {'transaction-id': 3041, 'amount': 517},\n",
       "   {'transaction-id': 3338, 'amount': 483},\n",
       "   {'transaction-id': 5593, 'amount': 466},\n",
       "   {'transaction-id': 5741, 'amount': 417},\n",
       "   {'transaction-id': 5981, 'amount': 522},\n",
       "   {'transaction-id': 6054, 'amount': 416},\n",
       "   {'transaction-id': 6818, 'amount': 543},\n",
       "   {'transaction-id': 8237, 'amount': 336},\n",
       "   {'transaction-id': 9537, 'amount': 470},\n",
       "   {'transaction-id': 9921, 'amount': 527}]},\n",
       " {'id': 2,\n",
       "  'name': 'Bob',\n",
       "  'transactions': [{'transaction-id': 76, 'amount': 229},\n",
       "   {'transaction-id': 117, 'amount': -155},\n",
       "   {'transaction-id': 306, 'amount': 81},\n",
       "   {'transaction-id': 422, 'amount': 0},\n",
       "   {'transaction-id': 448, 'amount': 162},\n",
       "   {'transaction-id': 507, 'amount': 213},\n",
       "   {'transaction-id': 545, 'amount': -629},\n",
       "   {'transaction-id': 628, 'amount': -377},\n",
       "   {'transaction-id': 655, 'amount': 80},\n",
       "   {'transaction-id': 776, 'amount': -1621},\n",
       "   {'transaction-id': 838, 'amount': -517},\n",
       "   {'transaction-id': 906, 'amount': 495},\n",
       "   {'transaction-id': 941, 'amount': -993},\n",
       "   {'transaction-id': 997, 'amount': 33},\n",
       "   {'transaction-id': 1072, 'amount': -859},\n",
       "   {'transaction-id': 1105, 'amount': -67},\n",
       "   {'transaction-id': 1326, 'amount': -509},\n",
       "   {'transaction-id': 1672, 'amount': -124},\n",
       "   {'transaction-id': 1697, 'amount': -2},\n",
       "   {'transaction-id': 1730, 'amount': 406},\n",
       "   {'transaction-id': 1871, 'amount': 17},\n",
       "   {'transaction-id': 1879, 'amount': -613},\n",
       "   {'transaction-id': 2012, 'amount': 350},\n",
       "   {'transaction-id': 2041, 'amount': -268},\n",
       "   {'transaction-id': 2074, 'amount': -1194},\n",
       "   {'transaction-id': 2145, 'amount': 33},\n",
       "   {'transaction-id': 2177, 'amount': -81},\n",
       "   {'transaction-id': 2184, 'amount': -848},\n",
       "   {'transaction-id': 2199, 'amount': -448},\n",
       "   {'transaction-id': 2214, 'amount': 84},\n",
       "   {'transaction-id': 2228, 'amount': -272},\n",
       "   {'transaction-id': 2240, 'amount': -381},\n",
       "   {'transaction-id': 2250, 'amount': -808},\n",
       "   {'transaction-id': 2322, 'amount': -495},\n",
       "   {'transaction-id': 2382, 'amount': -1111},\n",
       "   {'transaction-id': 2384, 'amount': -1131},\n",
       "   {'transaction-id': 2517, 'amount': -74},\n",
       "   {'transaction-id': 2557, 'amount': -476},\n",
       "   {'transaction-id': 2617, 'amount': -727},\n",
       "   {'transaction-id': 2770, 'amount': -853},\n",
       "   {'transaction-id': 2833, 'amount': 136},\n",
       "   {'transaction-id': 2935, 'amount': 121},\n",
       "   {'transaction-id': 3008, 'amount': -56},\n",
       "   {'transaction-id': 3023, 'amount': -674},\n",
       "   {'transaction-id': 3048, 'amount': -834},\n",
       "   {'transaction-id': 3052, 'amount': -362},\n",
       "   {'transaction-id': 3165, 'amount': -911},\n",
       "   {'transaction-id': 3173, 'amount': -420},\n",
       "   {'transaction-id': 3205, 'amount': -271},\n",
       "   {'transaction-id': 3245, 'amount': -1177},\n",
       "   {'transaction-id': 3261, 'amount': 157},\n",
       "   {'transaction-id': 3309, 'amount': 344},\n",
       "   {'transaction-id': 3370, 'amount': -22},\n",
       "   {'transaction-id': 3461, 'amount': -389},\n",
       "   {'transaction-id': 3608, 'amount': -516},\n",
       "   {'transaction-id': 3648, 'amount': 98},\n",
       "   {'transaction-id': 3680, 'amount': 211},\n",
       "   {'transaction-id': 3770, 'amount': -821},\n",
       "   {'transaction-id': 3785, 'amount': 239},\n",
       "   {'transaction-id': 4190, 'amount': 260},\n",
       "   {'transaction-id': 4221, 'amount': 40},\n",
       "   {'transaction-id': 4229, 'amount': -639},\n",
       "   {'transaction-id': 4313, 'amount': 388},\n",
       "   {'transaction-id': 4381, 'amount': -29},\n",
       "   {'transaction-id': 4472, 'amount': -517},\n",
       "   {'transaction-id': 4480, 'amount': -1},\n",
       "   {'transaction-id': 4593, 'amount': -145},\n",
       "   {'transaction-id': 4602, 'amount': -306},\n",
       "   {'transaction-id': 4603, 'amount': -200},\n",
       "   {'transaction-id': 4661, 'amount': -525},\n",
       "   {'transaction-id': 4676, 'amount': -509},\n",
       "   {'transaction-id': 4857, 'amount': -103},\n",
       "   {'transaction-id': 4940, 'amount': -1165},\n",
       "   {'transaction-id': 4959, 'amount': -774},\n",
       "   {'transaction-id': 5092, 'amount': -641},\n",
       "   {'transaction-id': 5193, 'amount': 440},\n",
       "   {'transaction-id': 5254, 'amount': -657},\n",
       "   {'transaction-id': 5423, 'amount': -607},\n",
       "   {'transaction-id': 5500, 'amount': -522},\n",
       "   {'transaction-id': 5573, 'amount': -186},\n",
       "   {'transaction-id': 5665, 'amount': -240},\n",
       "   {'transaction-id': 5680, 'amount': -1624},\n",
       "   {'transaction-id': 5682, 'amount': 550},\n",
       "   {'transaction-id': 5899, 'amount': -227},\n",
       "   {'transaction-id': 5983, 'amount': -660},\n",
       "   {'transaction-id': 5986, 'amount': -389},\n",
       "   {'transaction-id': 5999, 'amount': -912},\n",
       "   {'transaction-id': 6107, 'amount': -648},\n",
       "   {'transaction-id': 6178, 'amount': -554},\n",
       "   {'transaction-id': 6218, 'amount': -604},\n",
       "   {'transaction-id': 6381, 'amount': -1284},\n",
       "   {'transaction-id': 6511, 'amount': 485},\n",
       "   {'transaction-id': 6524, 'amount': -802},\n",
       "   {'transaction-id': 6810, 'amount': -527},\n",
       "   {'transaction-id': 6929, 'amount': 91},\n",
       "   {'transaction-id': 7039, 'amount': -672},\n",
       "   {'transaction-id': 7263, 'amount': -1097},\n",
       "   {'transaction-id': 7289, 'amount': -692},\n",
       "   {'transaction-id': 7298, 'amount': 108},\n",
       "   {'transaction-id': 7365, 'amount': 86},\n",
       "   {'transaction-id': 7397, 'amount': -588},\n",
       "   {'transaction-id': 7442, 'amount': -281},\n",
       "   {'transaction-id': 7599, 'amount': 170},\n",
       "   {'transaction-id': 7668, 'amount': -505},\n",
       "   {'transaction-id': 7790, 'amount': -1011},\n",
       "   {'transaction-id': 7812, 'amount': -801},\n",
       "   {'transaction-id': 7867, 'amount': -260},\n",
       "   {'transaction-id': 7877, 'amount': -578},\n",
       "   {'transaction-id': 7915, 'amount': -580},\n",
       "   {'transaction-id': 8119, 'amount': -580},\n",
       "   {'transaction-id': 8123, 'amount': -250},\n",
       "   {'transaction-id': 8164, 'amount': -684},\n",
       "   {'transaction-id': 8234, 'amount': -769},\n",
       "   {'transaction-id': 8243, 'amount': -562},\n",
       "   {'transaction-id': 8275, 'amount': 144},\n",
       "   {'transaction-id': 8299, 'amount': -845},\n",
       "   {'transaction-id': 8422, 'amount': 343},\n",
       "   {'transaction-id': 8461, 'amount': -399},\n",
       "   {'transaction-id': 8510, 'amount': -501},\n",
       "   {'transaction-id': 8598, 'amount': -288},\n",
       "   {'transaction-id': 8814, 'amount': 339},\n",
       "   {'transaction-id': 8838, 'amount': -746},\n",
       "   {'transaction-id': 8880, 'amount': -412},\n",
       "   {'transaction-id': 8969, 'amount': -297},\n",
       "   {'transaction-id': 8994, 'amount': -279},\n",
       "   {'transaction-id': 9009, 'amount': -275},\n",
       "   {'transaction-id': 9148, 'amount': 34},\n",
       "   {'transaction-id': 9212, 'amount': -205},\n",
       "   {'transaction-id': 9230, 'amount': -695},\n",
       "   {'transaction-id': 9442, 'amount': 305},\n",
       "   {'transaction-id': 9534, 'amount': -741},\n",
       "   {'transaction-id': 9918, 'amount': -1110},\n",
       "   {'transaction-id': 9957, 'amount': -431}]})"
      ]
     },
     "execution_count": 10,
     "metadata": {},
     "output_type": "execute_result"
    }
   ],
   "source": [
    "import json\n",
    "js = lines.map(json.loads)\n",
    "# take: inspect first few elements\n",
    "js.take(3)"
   ]
  },
  {
   "cell_type": "markdown",
   "metadata": {},
   "source": [
    "### Basic Queries"
   ]
  },
  {
   "cell_type": "markdown",
   "metadata": {},
   "source": [
    "Once we parse our JSON data into proper Python objects (`dict`s, `list`s, etc.) we can perform more interesting queries by creating small Python functions to run on our data."
   ]
  },
  {
   "cell_type": "code",
   "execution_count": 11,
   "metadata": {
    "execution": {
     "iopub.execute_input": "2021-07-20T15:43:02.856940Z",
     "iopub.status.busy": "2021-07-20T15:43:02.854112Z",
     "iopub.status.idle": "2021-07-20T15:43:02.895142Z",
     "shell.execute_reply": "2021-07-20T15:43:02.894673Z"
    }
   },
   "outputs": [
    {
     "data": {
      "text/plain": [
       "({'id': 0,\n",
       "  'name': 'Alice',\n",
       "  'transactions': [{'transaction-id': 17, 'amount': 179},\n",
       "   {'transaction-id': 203, 'amount': 113},\n",
       "   {'transaction-id': 302, 'amount': -15},\n",
       "   {'transaction-id': 398, 'amount': 204},\n",
       "   {'transaction-id': 987, 'amount': 39},\n",
       "   {'transaction-id': 3434, 'amount': 346},\n",
       "   {'transaction-id': 3568, 'amount': 159},\n",
       "   {'transaction-id': 3597, 'amount': 90},\n",
       "   {'transaction-id': 3817, 'amount': 30},\n",
       "   {'transaction-id': 3824, 'amount': 88},\n",
       "   {'transaction-id': 5497, 'amount': 75},\n",
       "   {'transaction-id': 5512, 'amount': 158},\n",
       "   {'transaction-id': 6095, 'amount': 190},\n",
       "   {'transaction-id': 6192, 'amount': 92},\n",
       "   {'transaction-id': 6752, 'amount': 30},\n",
       "   {'transaction-id': 6778, 'amount': 166},\n",
       "   {'transaction-id': 6940, 'amount': -106},\n",
       "   {'transaction-id': 7057, 'amount': 111},\n",
       "   {'transaction-id': 7151, 'amount': 132},\n",
       "   {'transaction-id': 7863, 'amount': 140},\n",
       "   {'transaction-id': 7917, 'amount': 154},\n",
       "   {'transaction-id': 8291, 'amount': 213},\n",
       "   {'transaction-id': 8294, 'amount': 56},\n",
       "   {'transaction-id': 8652, 'amount': 278},\n",
       "   {'transaction-id': 8767, 'amount': 80},\n",
       "   {'transaction-id': 8955, 'amount': 199},\n",
       "   {'transaction-id': 9124, 'amount': 125},\n",
       "   {'transaction-id': 9368, 'amount': 162},\n",
       "   {'transaction-id': 9834, 'amount': 231},\n",
       "   {'transaction-id': 9849, 'amount': 100}]},\n",
       " {'id': 21,\n",
       "  'name': 'Alice',\n",
       "  'transactions': [{'transaction-id': 66, 'amount': 490},\n",
       "   {'transaction-id': 107, 'amount': 465},\n",
       "   {'transaction-id': 109, 'amount': 494},\n",
       "   {'transaction-id': 277, 'amount': 483},\n",
       "   {'transaction-id': 835, 'amount': 548},\n",
       "   {'transaction-id': 876, 'amount': 452},\n",
       "   {'transaction-id': 1205, 'amount': 469},\n",
       "   {'transaction-id': 1216, 'amount': 454},\n",
       "   {'transaction-id': 1266, 'amount': 496},\n",
       "   {'transaction-id': 1521, 'amount': 394},\n",
       "   {'transaction-id': 1702, 'amount': 533},\n",
       "   {'transaction-id': 1863, 'amount': 452},\n",
       "   {'transaction-id': 2043, 'amount': 449},\n",
       "   {'transaction-id': 2274, 'amount': 451},\n",
       "   {'transaction-id': 3026, 'amount': 491},\n",
       "   {'transaction-id': 3690, 'amount': 464},\n",
       "   {'transaction-id': 3831, 'amount': 494},\n",
       "   {'transaction-id': 3888, 'amount': 508},\n",
       "   {'transaction-id': 4098, 'amount': 508},\n",
       "   {'transaction-id': 4513, 'amount': 505},\n",
       "   {'transaction-id': 4528, 'amount': 441},\n",
       "   {'transaction-id': 4658, 'amount': 492},\n",
       "   {'transaction-id': 4785, 'amount': 434},\n",
       "   {'transaction-id': 4978, 'amount': 492},\n",
       "   {'transaction-id': 5018, 'amount': 478},\n",
       "   {'transaction-id': 5047, 'amount': 415},\n",
       "   {'transaction-id': 5090, 'amount': 506},\n",
       "   {'transaction-id': 5224, 'amount': 468},\n",
       "   {'transaction-id': 5352, 'amount': 475},\n",
       "   {'transaction-id': 5471, 'amount': 459},\n",
       "   {'transaction-id': 5582, 'amount': 431},\n",
       "   {'transaction-id': 5590, 'amount': 537},\n",
       "   {'transaction-id': 5645, 'amount': 446},\n",
       "   {'transaction-id': 5703, 'amount': 461},\n",
       "   {'transaction-id': 5911, 'amount': 466},\n",
       "   {'transaction-id': 6071, 'amount': 417},\n",
       "   {'transaction-id': 6255, 'amount': 520},\n",
       "   {'transaction-id': 6267, 'amount': 571},\n",
       "   {'transaction-id': 6756, 'amount': 410},\n",
       "   {'transaction-id': 6865, 'amount': 528},\n",
       "   {'transaction-id': 6982, 'amount': 491},\n",
       "   {'transaction-id': 7021, 'amount': 461},\n",
       "   {'transaction-id': 7108, 'amount': 514},\n",
       "   {'transaction-id': 7247, 'amount': 450},\n",
       "   {'transaction-id': 7564, 'amount': 435},\n",
       "   {'transaction-id': 7610, 'amount': 480},\n",
       "   {'transaction-id': 7681, 'amount': 496},\n",
       "   {'transaction-id': 7736, 'amount': 492},\n",
       "   {'transaction-id': 7912, 'amount': 424},\n",
       "   {'transaction-id': 8129, 'amount': 444},\n",
       "   {'transaction-id': 8158, 'amount': 488},\n",
       "   {'transaction-id': 8195, 'amount': 467},\n",
       "   {'transaction-id': 8253, 'amount': 388},\n",
       "   {'transaction-id': 8380, 'amount': 478},\n",
       "   {'transaction-id': 8386, 'amount': 409},\n",
       "   {'transaction-id': 8569, 'amount': 473},\n",
       "   {'transaction-id': 8721, 'amount': 487},\n",
       "   {'transaction-id': 8788, 'amount': 414},\n",
       "   {'transaction-id': 8979, 'amount': 503},\n",
       "   {'transaction-id': 9043, 'amount': 426},\n",
       "   {'transaction-id': 9073, 'amount': 472},\n",
       "   {'transaction-id': 9594, 'amount': 446},\n",
       "   {'transaction-id': 9763, 'amount': 494},\n",
       "   {'transaction-id': 9774, 'amount': 479}]},\n",
       " {'id': 30,\n",
       "  'name': 'Alice',\n",
       "  'transactions': [{'transaction-id': 1798, 'amount': 690},\n",
       "   {'transaction-id': 2168, 'amount': 748},\n",
       "   {'transaction-id': 2216, 'amount': 760},\n",
       "   {'transaction-id': 2301, 'amount': 767},\n",
       "   {'transaction-id': 2825, 'amount': 721},\n",
       "   {'transaction-id': 4485, 'amount': 648},\n",
       "   {'transaction-id': 5335, 'amount': 760},\n",
       "   {'transaction-id': 5446, 'amount': 710},\n",
       "   {'transaction-id': 5515, 'amount': 681},\n",
       "   {'transaction-id': 6261, 'amount': 699},\n",
       "   {'transaction-id': 6388, 'amount': 748},\n",
       "   {'transaction-id': 6538, 'amount': 732},\n",
       "   {'transaction-id': 6963, 'amount': 718},\n",
       "   {'transaction-id': 7532, 'amount': 810},\n",
       "   {'transaction-id': 7983, 'amount': 782},\n",
       "   {'transaction-id': 8372, 'amount': 728},\n",
       "   {'transaction-id': 8602, 'amount': 757},\n",
       "   {'transaction-id': 8685, 'amount': 732},\n",
       "   {'transaction-id': 8877, 'amount': 726},\n",
       "   {'transaction-id': 8961, 'amount': 814},\n",
       "   {'transaction-id': 8981, 'amount': 748},\n",
       "   {'transaction-id': 9403, 'amount': 752},\n",
       "   {'transaction-id': 9644, 'amount': 773},\n",
       "   {'transaction-id': 9886, 'amount': 707}]},\n",
       " {'id': 41,\n",
       "  'name': 'Alice',\n",
       "  'transactions': [{'transaction-id': 77, 'amount': 528},\n",
       "   {'transaction-id': 259, 'amount': 577},\n",
       "   {'transaction-id': 802, 'amount': 522},\n",
       "   {'transaction-id': 848, 'amount': 554},\n",
       "   {'transaction-id': 1163, 'amount': 536},\n",
       "   {'transaction-id': 1533, 'amount': 525},\n",
       "   {'transaction-id': 1553, 'amount': 522},\n",
       "   {'transaction-id': 1899, 'amount': 568},\n",
       "   {'transaction-id': 2195, 'amount': 536},\n",
       "   {'transaction-id': 2238, 'amount': 522},\n",
       "   {'transaction-id': 2288, 'amount': 579},\n",
       "   {'transaction-id': 2532, 'amount': 522},\n",
       "   {'transaction-id': 2983, 'amount': 601},\n",
       "   {'transaction-id': 4053, 'amount': 538},\n",
       "   {'transaction-id': 4100, 'amount': 553},\n",
       "   {'transaction-id': 4208, 'amount': 544},\n",
       "   {'transaction-id': 4385, 'amount': 574},\n",
       "   {'transaction-id': 4589, 'amount': 522},\n",
       "   {'transaction-id': 4646, 'amount': 523},\n",
       "   {'transaction-id': 4737, 'amount': 553},\n",
       "   {'transaction-id': 5035, 'amount': 591},\n",
       "   {'transaction-id': 5747, 'amount': 558},\n",
       "   {'transaction-id': 6313, 'amount': 565},\n",
       "   {'transaction-id': 6686, 'amount': 571},\n",
       "   {'transaction-id': 6918, 'amount': 531},\n",
       "   {'transaction-id': 7006, 'amount': 542},\n",
       "   {'transaction-id': 7410, 'amount': 549},\n",
       "   {'transaction-id': 7417, 'amount': 523},\n",
       "   {'transaction-id': 7770, 'amount': 522},\n",
       "   {'transaction-id': 7996, 'amount': 534},\n",
       "   {'transaction-id': 8044, 'amount': 529},\n",
       "   {'transaction-id': 8186, 'amount': 546},\n",
       "   {'transaction-id': 8445, 'amount': 539},\n",
       "   {'transaction-id': 8612, 'amount': 527},\n",
       "   {'transaction-id': 8775, 'amount': 552},\n",
       "   {'transaction-id': 8874, 'amount': 512}]},\n",
       " {'id': 49,\n",
       "  'name': 'Alice',\n",
       "  'transactions': [{'transaction-id': 650, 'amount': 351},\n",
       "   {'transaction-id': 1192, 'amount': 460},\n",
       "   {'transaction-id': 1249, 'amount': 355},\n",
       "   {'transaction-id': 2097, 'amount': 458},\n",
       "   {'transaction-id': 2754, 'amount': 381},\n",
       "   {'transaction-id': 3328, 'amount': 390},\n",
       "   {'transaction-id': 3662, 'amount': 379},\n",
       "   {'transaction-id': 4099, 'amount': 358},\n",
       "   {'transaction-id': 4744, 'amount': 325},\n",
       "   {'transaction-id': 4860, 'amount': 352},\n",
       "   {'transaction-id': 5460, 'amount': 326},\n",
       "   {'transaction-id': 5479, 'amount': 283},\n",
       "   {'transaction-id': 5704, 'amount': 225},\n",
       "   {'transaction-id': 7048, 'amount': 347},\n",
       "   {'transaction-id': 7487, 'amount': 433},\n",
       "   {'transaction-id': 7653, 'amount': 284},\n",
       "   {'transaction-id': 8454, 'amount': 274},\n",
       "   {'transaction-id': 8633, 'amount': 306},\n",
       "   {'transaction-id': 9300, 'amount': 278}]})"
      ]
     },
     "execution_count": 11,
     "metadata": {},
     "output_type": "execute_result"
    }
   ],
   "source": [
    "# filter: keep only some elements of the sequence\n",
    "js.filter(lambda record: record['name'] == 'Alice').take(5)"
   ]
  },
  {
   "cell_type": "code",
   "execution_count": 12,
   "metadata": {
    "execution": {
     "iopub.execute_input": "2021-07-20T15:43:02.903476Z",
     "iopub.status.busy": "2021-07-20T15:43:02.902952Z",
     "iopub.status.idle": "2021-07-20T15:43:02.921360Z",
     "shell.execute_reply": "2021-07-20T15:43:02.921813Z"
    }
   },
   "outputs": [
    {
     "data": {
      "text/plain": [
       "({'name': 'Alice', 'count': 30},\n",
       " {'name': 'Alice', 'count': 64},\n",
       " {'name': 'Alice', 'count': 24},\n",
       " {'name': 'Alice', 'count': 36},\n",
       " {'name': 'Alice', 'count': 19})"
      ]
     },
     "execution_count": 12,
     "metadata": {},
     "output_type": "execute_result"
    }
   ],
   "source": [
    "def count_transactions(d):\n",
    "    return {'name': d['name'], 'count': len(d['transactions'])}\n",
    "\n",
    "# map: apply a function to each element\n",
    "(js.filter(lambda record: record['name'] == 'Alice')\n",
    "   .map(count_transactions)\n",
    "   .take(5))"
   ]
  },
  {
   "cell_type": "code",
   "execution_count": 13,
   "metadata": {
    "execution": {
     "iopub.execute_input": "2021-07-20T15:43:02.928774Z",
     "iopub.status.busy": "2021-07-20T15:43:02.926154Z",
     "iopub.status.idle": "2021-07-20T15:43:02.945604Z",
     "shell.execute_reply": "2021-07-20T15:43:02.945078Z"
    }
   },
   "outputs": [
    {
     "data": {
      "text/plain": [
       "(30, 64, 24, 36, 19)"
      ]
     },
     "execution_count": 13,
     "metadata": {},
     "output_type": "execute_result"
    }
   ],
   "source": [
    "# pluck: select a field, as from a dictionary, element[field]\n",
    "(js.filter(lambda record: record['name'] == 'Alice')\n",
    "   .map(count_transactions)\n",
    "   .pluck('count')\n",
    "   .take(5))"
   ]
  },
  {
   "cell_type": "code",
   "execution_count": 14,
   "metadata": {
    "execution": {
     "iopub.execute_input": "2021-07-20T15:43:02.951826Z",
     "iopub.status.busy": "2021-07-20T15:43:02.951319Z",
     "iopub.status.idle": "2021-07-20T15:43:03.416396Z",
     "shell.execute_reply": "2021-07-20T15:43:03.415980Z"
    }
   },
   "outputs": [
    {
     "data": {
      "text/plain": [
       "37.58714285714286"
      ]
     },
     "execution_count": 14,
     "metadata": {},
     "output_type": "execute_result"
    }
   ],
   "source": [
    "# Average number of transactions for all of the Alice entries\n",
    "(js.filter(lambda record: record['name'] == 'Alice')\n",
    "   .map(count_transactions)\n",
    "   .pluck('count')\n",
    "   .mean()\n",
    "   .compute())"
   ]
  },
  {
   "cell_type": "markdown",
   "metadata": {},
   "source": [
    "### Use `flatten` to de-nest"
   ]
  },
  {
   "cell_type": "markdown",
   "metadata": {},
   "source": [
    "In the example below we see the use of `.flatten()` to flatten results.  We compute the average amount for all transactions for all Alices."
   ]
  },
  {
   "cell_type": "code",
   "execution_count": 15,
   "metadata": {
    "execution": {
     "iopub.execute_input": "2021-07-20T15:43:03.425766Z",
     "iopub.status.busy": "2021-07-20T15:43:03.421942Z",
     "iopub.status.idle": "2021-07-20T15:43:03.447936Z",
     "shell.execute_reply": "2021-07-20T15:43:03.447457Z"
    }
   },
   "outputs": [
    {
     "data": {
      "text/plain": [
       "([{'transaction-id': 17, 'amount': 179},\n",
       "  {'transaction-id': 203, 'amount': 113},\n",
       "  {'transaction-id': 302, 'amount': -15},\n",
       "  {'transaction-id': 398, 'amount': 204},\n",
       "  {'transaction-id': 987, 'amount': 39},\n",
       "  {'transaction-id': 3434, 'amount': 346},\n",
       "  {'transaction-id': 3568, 'amount': 159},\n",
       "  {'transaction-id': 3597, 'amount': 90},\n",
       "  {'transaction-id': 3817, 'amount': 30},\n",
       "  {'transaction-id': 3824, 'amount': 88},\n",
       "  {'transaction-id': 5497, 'amount': 75},\n",
       "  {'transaction-id': 5512, 'amount': 158},\n",
       "  {'transaction-id': 6095, 'amount': 190},\n",
       "  {'transaction-id': 6192, 'amount': 92},\n",
       "  {'transaction-id': 6752, 'amount': 30},\n",
       "  {'transaction-id': 6778, 'amount': 166},\n",
       "  {'transaction-id': 6940, 'amount': -106},\n",
       "  {'transaction-id': 7057, 'amount': 111},\n",
       "  {'transaction-id': 7151, 'amount': 132},\n",
       "  {'transaction-id': 7863, 'amount': 140},\n",
       "  {'transaction-id': 7917, 'amount': 154},\n",
       "  {'transaction-id': 8291, 'amount': 213},\n",
       "  {'transaction-id': 8294, 'amount': 56},\n",
       "  {'transaction-id': 8652, 'amount': 278},\n",
       "  {'transaction-id': 8767, 'amount': 80},\n",
       "  {'transaction-id': 8955, 'amount': 199},\n",
       "  {'transaction-id': 9124, 'amount': 125},\n",
       "  {'transaction-id': 9368, 'amount': 162},\n",
       "  {'transaction-id': 9834, 'amount': 231},\n",
       "  {'transaction-id': 9849, 'amount': 100}],\n",
       " [{'transaction-id': 66, 'amount': 490},\n",
       "  {'transaction-id': 107, 'amount': 465},\n",
       "  {'transaction-id': 109, 'amount': 494},\n",
       "  {'transaction-id': 277, 'amount': 483},\n",
       "  {'transaction-id': 835, 'amount': 548},\n",
       "  {'transaction-id': 876, 'amount': 452},\n",
       "  {'transaction-id': 1205, 'amount': 469},\n",
       "  {'transaction-id': 1216, 'amount': 454},\n",
       "  {'transaction-id': 1266, 'amount': 496},\n",
       "  {'transaction-id': 1521, 'amount': 394},\n",
       "  {'transaction-id': 1702, 'amount': 533},\n",
       "  {'transaction-id': 1863, 'amount': 452},\n",
       "  {'transaction-id': 2043, 'amount': 449},\n",
       "  {'transaction-id': 2274, 'amount': 451},\n",
       "  {'transaction-id': 3026, 'amount': 491},\n",
       "  {'transaction-id': 3690, 'amount': 464},\n",
       "  {'transaction-id': 3831, 'amount': 494},\n",
       "  {'transaction-id': 3888, 'amount': 508},\n",
       "  {'transaction-id': 4098, 'amount': 508},\n",
       "  {'transaction-id': 4513, 'amount': 505},\n",
       "  {'transaction-id': 4528, 'amount': 441},\n",
       "  {'transaction-id': 4658, 'amount': 492},\n",
       "  {'transaction-id': 4785, 'amount': 434},\n",
       "  {'transaction-id': 4978, 'amount': 492},\n",
       "  {'transaction-id': 5018, 'amount': 478},\n",
       "  {'transaction-id': 5047, 'amount': 415},\n",
       "  {'transaction-id': 5090, 'amount': 506},\n",
       "  {'transaction-id': 5224, 'amount': 468},\n",
       "  {'transaction-id': 5352, 'amount': 475},\n",
       "  {'transaction-id': 5471, 'amount': 459},\n",
       "  {'transaction-id': 5582, 'amount': 431},\n",
       "  {'transaction-id': 5590, 'amount': 537},\n",
       "  {'transaction-id': 5645, 'amount': 446},\n",
       "  {'transaction-id': 5703, 'amount': 461},\n",
       "  {'transaction-id': 5911, 'amount': 466},\n",
       "  {'transaction-id': 6071, 'amount': 417},\n",
       "  {'transaction-id': 6255, 'amount': 520},\n",
       "  {'transaction-id': 6267, 'amount': 571},\n",
       "  {'transaction-id': 6756, 'amount': 410},\n",
       "  {'transaction-id': 6865, 'amount': 528},\n",
       "  {'transaction-id': 6982, 'amount': 491},\n",
       "  {'transaction-id': 7021, 'amount': 461},\n",
       "  {'transaction-id': 7108, 'amount': 514},\n",
       "  {'transaction-id': 7247, 'amount': 450},\n",
       "  {'transaction-id': 7564, 'amount': 435},\n",
       "  {'transaction-id': 7610, 'amount': 480},\n",
       "  {'transaction-id': 7681, 'amount': 496},\n",
       "  {'transaction-id': 7736, 'amount': 492},\n",
       "  {'transaction-id': 7912, 'amount': 424},\n",
       "  {'transaction-id': 8129, 'amount': 444},\n",
       "  {'transaction-id': 8158, 'amount': 488},\n",
       "  {'transaction-id': 8195, 'amount': 467},\n",
       "  {'transaction-id': 8253, 'amount': 388},\n",
       "  {'transaction-id': 8380, 'amount': 478},\n",
       "  {'transaction-id': 8386, 'amount': 409},\n",
       "  {'transaction-id': 8569, 'amount': 473},\n",
       "  {'transaction-id': 8721, 'amount': 487},\n",
       "  {'transaction-id': 8788, 'amount': 414},\n",
       "  {'transaction-id': 8979, 'amount': 503},\n",
       "  {'transaction-id': 9043, 'amount': 426},\n",
       "  {'transaction-id': 9073, 'amount': 472},\n",
       "  {'transaction-id': 9594, 'amount': 446},\n",
       "  {'transaction-id': 9763, 'amount': 494},\n",
       "  {'transaction-id': 9774, 'amount': 479}],\n",
       " [{'transaction-id': 1798, 'amount': 690},\n",
       "  {'transaction-id': 2168, 'amount': 748},\n",
       "  {'transaction-id': 2216, 'amount': 760},\n",
       "  {'transaction-id': 2301, 'amount': 767},\n",
       "  {'transaction-id': 2825, 'amount': 721},\n",
       "  {'transaction-id': 4485, 'amount': 648},\n",
       "  {'transaction-id': 5335, 'amount': 760},\n",
       "  {'transaction-id': 5446, 'amount': 710},\n",
       "  {'transaction-id': 5515, 'amount': 681},\n",
       "  {'transaction-id': 6261, 'amount': 699},\n",
       "  {'transaction-id': 6388, 'amount': 748},\n",
       "  {'transaction-id': 6538, 'amount': 732},\n",
       "  {'transaction-id': 6963, 'amount': 718},\n",
       "  {'transaction-id': 7532, 'amount': 810},\n",
       "  {'transaction-id': 7983, 'amount': 782},\n",
       "  {'transaction-id': 8372, 'amount': 728},\n",
       "  {'transaction-id': 8602, 'amount': 757},\n",
       "  {'transaction-id': 8685, 'amount': 732},\n",
       "  {'transaction-id': 8877, 'amount': 726},\n",
       "  {'transaction-id': 8961, 'amount': 814},\n",
       "  {'transaction-id': 8981, 'amount': 748},\n",
       "  {'transaction-id': 9403, 'amount': 752},\n",
       "  {'transaction-id': 9644, 'amount': 773},\n",
       "  {'transaction-id': 9886, 'amount': 707}])"
      ]
     },
     "execution_count": 15,
     "metadata": {},
     "output_type": "execute_result"
    }
   ],
   "source": [
    "(js.filter(lambda record: record['name'] == 'Alice')\n",
    "   .pluck('transactions')\n",
    "   .take(3))"
   ]
  },
  {
   "cell_type": "code",
   "execution_count": 16,
   "metadata": {
    "execution": {
     "iopub.execute_input": "2021-07-20T15:43:03.452932Z",
     "iopub.status.busy": "2021-07-20T15:43:03.452419Z",
     "iopub.status.idle": "2021-07-20T15:43:03.473462Z",
     "shell.execute_reply": "2021-07-20T15:43:03.473022Z"
    }
   },
   "outputs": [
    {
     "data": {
      "text/plain": [
       "({'transaction-id': 17, 'amount': 179},\n",
       " {'transaction-id': 203, 'amount': 113},\n",
       " {'transaction-id': 302, 'amount': -15})"
      ]
     },
     "execution_count": 16,
     "metadata": {},
     "output_type": "execute_result"
    }
   ],
   "source": [
    "(js.filter(lambda record: record['name'] == 'Alice')\n",
    "   .pluck('transactions')\n",
    "   .flatten()\n",
    "   .take(3))"
   ]
  },
  {
   "cell_type": "code",
   "execution_count": 17,
   "metadata": {
    "execution": {
     "iopub.execute_input": "2021-07-20T15:43:03.479517Z",
     "iopub.status.busy": "2021-07-20T15:43:03.478846Z",
     "iopub.status.idle": "2021-07-20T15:43:03.497930Z",
     "shell.execute_reply": "2021-07-20T15:43:03.498891Z"
    }
   },
   "outputs": [
    {
     "data": {
      "text/plain": [
       "(179, 113, -15)"
      ]
     },
     "execution_count": 17,
     "metadata": {},
     "output_type": "execute_result"
    }
   ],
   "source": [
    "(js.filter(lambda record: record['name'] == 'Alice')\n",
    "   .pluck('transactions')\n",
    "   .flatten()\n",
    "   .pluck('amount')\n",
    "   .take(3))"
   ]
  },
  {
   "cell_type": "code",
   "execution_count": 18,
   "metadata": {
    "execution": {
     "iopub.execute_input": "2021-07-20T15:43:03.515562Z",
     "iopub.status.busy": "2021-07-20T15:43:03.509184Z",
     "iopub.status.idle": "2021-07-20T15:43:03.952765Z",
     "shell.execute_reply": "2021-07-20T15:43:03.952080Z"
    }
   },
   "outputs": [
    {
     "data": {
      "text/plain": [
       "1415.7387784576792"
      ]
     },
     "execution_count": 18,
     "metadata": {},
     "output_type": "execute_result"
    }
   ],
   "source": [
    "(js.filter(lambda record: record['name'] == 'Alice')\n",
    "   .pluck('transactions')\n",
    "   .flatten()\n",
    "   .pluck('amount')\n",
    "   .mean()\n",
    "   .compute())"
   ]
  },
  {
   "cell_type": "markdown",
   "metadata": {},
   "source": [
    "### Groupby and Foldby"
   ]
  },
  {
   "cell_type": "markdown",
   "metadata": {},
   "source": [
    "Often we want to group data by some function or key.  We can do this either with the `.groupby` method, which is straightforward but forces a full shuffle of the data (expensive) or with the harder-to-use but faster `.foldby` method, which does a streaming combined groupby and reduction.\n",
    "\n",
    "*  `groupby`:  Shuffles data so that all items with the same key are in the same key-value pair\n",
    "*  `foldby`:  Walks through the data accumulating a result per key\n",
    "\n",
    "*Note: the full groupby is particularly bad. In actual workloads you would do well to use `foldby` or switch to `DataFrame`s if possible.*"
   ]
  },
  {
   "cell_type": "markdown",
   "metadata": {},
   "source": [
    "### `groupby`"
   ]
  },
  {
   "cell_type": "markdown",
   "metadata": {},
   "source": [
    "Groupby collects items in your collection so that all items with the same value under some function are collected together into a key-value pair."
   ]
  },
  {
   "cell_type": "code",
   "execution_count": 19,
   "metadata": {
    "execution": {
     "iopub.execute_input": "2021-07-20T15:43:03.962551Z",
     "iopub.status.busy": "2021-07-20T15:43:03.961640Z",
     "iopub.status.idle": "2021-07-20T15:43:04.059868Z",
     "shell.execute_reply": "2021-07-20T15:43:04.059377Z"
    }
   },
   "outputs": [
    {
     "data": {
      "text/plain": [
       "[(7, ['Charlie']), (3, ['Bob', 'Dan']), (5, ['Alice', 'Edith', 'Frank'])]"
      ]
     },
     "execution_count": 19,
     "metadata": {},
     "output_type": "execute_result"
    }
   ],
   "source": [
    "b = db.from_sequence(['Alice', 'Bob', 'Charlie', 'Dan', 'Edith', 'Frank'])\n",
    "b.groupby(len).compute()  # names grouped by length"
   ]
  },
  {
   "cell_type": "code",
   "execution_count": 20,
   "metadata": {
    "execution": {
     "iopub.execute_input": "2021-07-20T15:43:04.065664Z",
     "iopub.status.busy": "2021-07-20T15:43:04.065010Z",
     "iopub.status.idle": "2021-07-20T15:43:04.226054Z",
     "shell.execute_reply": "2021-07-20T15:43:04.225153Z"
    }
   },
   "outputs": [
    {
     "data": {
      "text/plain": [
       "[(0, [0, 2, 4, 6, 8]), (1, [1, 3, 5, 7, 9])]"
      ]
     },
     "execution_count": 20,
     "metadata": {},
     "output_type": "execute_result"
    }
   ],
   "source": [
    "b = db.from_sequence(list(range(10)))\n",
    "b.groupby(lambda x: x % 2).compute()"
   ]
  },
  {
   "cell_type": "code",
   "execution_count": 21,
   "metadata": {
    "execution": {
     "iopub.execute_input": "2021-07-20T15:43:04.242366Z",
     "iopub.status.busy": "2021-07-20T15:43:04.228887Z",
     "iopub.status.idle": "2021-07-20T15:43:04.408209Z",
     "shell.execute_reply": "2021-07-20T15:43:04.407511Z"
    }
   },
   "outputs": [
    {
     "data": {
      "text/plain": [
       "[(0, 8), (1, 9)]"
      ]
     },
     "execution_count": 21,
     "metadata": {},
     "output_type": "execute_result"
    }
   ],
   "source": [
    "b.groupby(lambda x: x % 2).starmap(lambda k, v: (k, max(v))).compute()"
   ]
  },
  {
   "cell_type": "markdown",
   "metadata": {},
   "source": [
    "### `foldby`"
   ]
  },
  {
   "cell_type": "markdown",
   "metadata": {},
   "source": [
    "Foldby can be quite odd at first.  It is similar to the following functions from other libraries:\n",
    "\n",
    "*  [`toolz.reduceby`](http://toolz.readthedocs.io/en/latest/streaming-analytics.html#streaming-split-apply-combine)\n",
    "*  [`pyspark.RDD.combineByKey`](http://abshinn.github.io/python/apache-spark/2014/10/11/using-combinebykey-in-apache-spark/)\n",
    "\n",
    "When using `foldby` you provide \n",
    "\n",
    "1.  A key function on which to group elements\n",
    "2.  A binary operator such as you would pass to `reduce` that you use to perform reduction per each group\n",
    "3.  A combine binary operator that can combine the results of two `reduce` calls on different parts of your dataset.\n",
    "\n",
    "Your reduction must be associative.  It will happen in parallel in each of the partitions of your dataset.  Then all of these intermediate results will be combined by the `combine` binary operator."
   ]
  },
  {
   "cell_type": "code",
   "execution_count": 22,
   "metadata": {
    "execution": {
     "iopub.execute_input": "2021-07-20T15:43:04.411490Z",
     "iopub.status.busy": "2021-07-20T15:43:04.410979Z",
     "iopub.status.idle": "2021-07-20T15:43:04.464730Z",
     "shell.execute_reply": "2021-07-20T15:43:04.464065Z"
    }
   },
   "outputs": [
    {
     "data": {
      "text/plain": [
       "[(0, 8), (1, 9)]"
      ]
     },
     "execution_count": 22,
     "metadata": {},
     "output_type": "execute_result"
    }
   ],
   "source": [
    "b.foldby(lambda x: x % 2, binop=max, combine=max).compute()"
   ]
  },
  {
   "cell_type": "markdown",
   "metadata": {},
   "source": [
    "### Example with account data"
   ]
  },
  {
   "cell_type": "markdown",
   "metadata": {},
   "source": [
    "We find the number of people with the same name."
   ]
  },
  {
   "cell_type": "code",
   "execution_count": 23,
   "metadata": {
    "execution": {
     "iopub.execute_input": "2021-07-20T15:43:04.480894Z",
     "iopub.status.busy": "2021-07-20T15:43:04.477803Z",
     "iopub.status.idle": "2021-07-20T15:43:12.831982Z",
     "shell.execute_reply": "2021-07-20T15:43:12.831283Z"
    }
   },
   "outputs": [
    {
     "name": "stdout",
     "output_type": "stream",
     "text": [
      "[('Alice', 154), ('Alice', 168), ('Alice', 182), ('Alice', 196), ('Bob', 86), ('Bob', 94), ('Bob', 99), ('Bob', 107), ('Charlie', 99), ('Charlie', 108), ('Charlie', 117), ('Charlie', 126), ('Dan', 81), ('Dan', 86), ('Dan', 170), ('Edith', 110), ('Edith', 120), ('Edith', 130), ('Edith', 140), ('Frank', 33), ('Frank', 36), ('Frank', 39), ('Frank', 42), ('George', 121), ('George', 132), ('George', 143), ('George', 154), ('Hannah', 70), ('Hannah', 78), ('Hannah', 81), ('Hannah', 90), ('Ingrid', 55), ('Ingrid', 60), ('Ingrid', 65), ('Ingrid', 70), ('Jerry', 180), ('Jerry', 210), ('Jerry', 360), ('Kevin', 42), ('Kevin', 47), ('Kevin', 51), ('Kevin', 54), ('Laura', 165), ('Laura', 180), ('Laura', 195), ('Laura', 210), ('Michael', 150), ('Michael', 166), ('Michael', 181), ('Michael', 194), ('Norbert', 66), ('Norbert', 72), ('Norbert', 78), ('Norbert', 84), ('Oliver', 110), ('Oliver', 118), ('Oliver', 128), ('Oliver', 138), ('Patricia', 116), ('Patricia', 124), ('Patricia', 134), ('Patricia', 147), ('Quinn', 146), ('Quinn', 162), ('Quinn', 176), ('Quinn', 187), ('Ray', 121), ('Ray', 131), ('Ray', 143), ('Ray', 153), ('Sarah', 77), ('Sarah', 84), ('Sarah', 91), ('Sarah', 98), ('Tim', 120), ('Tim', 130), ('Tim', 140), ('Tim', 150), ('Ursula', 99), ('Ursula', 108), ('Ursula', 117), ('Ursula', 126), ('Victor', 99), ('Victor', 108), ('Victor', 117), ('Victor', 126), ('Wendy', 129), ('Wendy', 142), ('Wendy', 151), ('Wendy', 161), ('Xavier', 77), ('Xavier', 84), ('Xavier', 91), ('Xavier', 98), ('Yvonne', 121), ('Yvonne', 132), ('Yvonne', 143), ('Yvonne', 154), ('Zelda', 88), ('Zelda', 95), ('Zelda', 104), ('Zelda', 111)]\n",
      "CPU times: user 1.39 s, sys: 127 ms, total: 1.51 s\n",
      "Wall time: 8.36 s\n"
     ]
    }
   ],
   "source": [
    "%%time\n",
    "# Warning, this one takes a while...\n",
    "result = js.groupby(lambda item: item['name']).starmap(lambda k, v: (k, len(v))).compute()\n",
    "print(sorted(result))"
   ]
  },
  {
   "cell_type": "code",
   "execution_count": 24,
   "metadata": {
    "execution": {
     "iopub.execute_input": "2021-07-20T15:43:12.847696Z",
     "iopub.status.busy": "2021-07-20T15:43:12.847181Z",
     "iopub.status.idle": "2021-07-20T15:43:13.331786Z",
     "shell.execute_reply": "2021-07-20T15:43:13.331153Z"
    }
   },
   "outputs": [
    {
     "name": "stdout",
     "output_type": "stream",
     "text": [
      "[('Alice', 700), ('Bob', 386), ('Charlie', 450), ('Dan', 337), ('Edith', 500), ('Frank', 150), ('George', 550), ('Hannah', 319), ('Ingrid', 250), ('Jerry', 750), ('Kevin', 194), ('Laura', 750), ('Michael', 691), ('Norbert', 300), ('Oliver', 494), ('Patricia', 521), ('Quinn', 671), ('Ray', 548), ('Sarah', 350), ('Tim', 540), ('Ursula', 450), ('Victor', 450), ('Wendy', 583), ('Xavier', 350), ('Yvonne', 550), ('Zelda', 398)]\n",
      "CPU times: user 130 ms, sys: 21.1 ms, total: 151 ms\n",
      "Wall time: 491 ms\n"
     ]
    }
   ],
   "source": [
    "%%time\n",
    "# This one is comparatively fast and produces the same result.\n",
    "from operator import add\n",
    "def incr(tot, _):\n",
    "    return tot + 1\n",
    "\n",
    "result = js.foldby(key='name', \n",
    "                   binop=incr, \n",
    "                   initial=0, \n",
    "                   combine=add, \n",
    "                   combine_initial=0).compute()\n",
    "print(sorted(result))"
   ]
  },
  {
   "cell_type": "markdown",
   "metadata": {},
   "source": [
    "### Exercise: compute total amount per name"
   ]
  },
  {
   "cell_type": "markdown",
   "metadata": {},
   "source": [
    "We want to groupby (or foldby) the `name` key, then add up the all of the amounts for each name.\n",
    "\n",
    "Steps\n",
    "\n",
    "1.  Create a small function that, given a dictionary like \n",
    "\n",
    "        {'name': 'Alice', 'transactions': [{'amount': 1, 'id': 123}, {'amount': 2, 'id': 456}]}\n",
    "        \n",
    "    produces the sum of the amounts, e.g. `3`\n",
    "    \n",
    "2.  Slightly change the binary operator of the `foldby` example above so that the binary operator doesn't count the number of entries, but instead accumulates the sum of the amounts."
   ]
  },
  {
   "cell_type": "code",
   "execution_count": 25,
   "metadata": {
    "execution": {
     "iopub.execute_input": "2021-07-20T15:43:13.335880Z",
     "iopub.status.busy": "2021-07-20T15:43:13.334931Z",
     "iopub.status.idle": "2021-07-20T15:43:13.338201Z",
     "shell.execute_reply": "2021-07-20T15:43:13.337784Z"
    }
   },
   "outputs": [],
   "source": [
    "# Your code here..."
   ]
  },
  {
   "cell_type": "markdown",
   "metadata": {},
   "source": [
    "## DataFrames"
   ]
  },
  {
   "cell_type": "markdown",
   "metadata": {},
   "source": [
    "For the same reasons that Pandas is often faster than pure Python, `dask.dataframe` can be faster than `dask.bag`.  We will work more with DataFrames later, but from the point of view of a Bag, it is frequently the end-point of the \"messy\" part of data ingestion—once the data can be made into a data-frame, then complex split-apply-combine logic will become much more straight-forward and efficient.\n",
    "\n",
    "You can transform a bag with a simple tuple or flat dictionary structure into a `dask.dataframe` with the `to_dataframe` method."
   ]
  },
  {
   "cell_type": "code",
   "execution_count": 26,
   "metadata": {
    "execution": {
     "iopub.execute_input": "2021-07-20T15:43:13.341748Z",
     "iopub.status.busy": "2021-07-20T15:43:13.341241Z",
     "iopub.status.idle": "2021-07-20T15:43:14.028690Z",
     "shell.execute_reply": "2021-07-20T15:43:14.028254Z"
    }
   },
   "outputs": [
    {
     "data": {
      "text/html": [
       "<div>\n",
       "<style scoped>\n",
       "    .dataframe tbody tr th:only-of-type {\n",
       "        vertical-align: middle;\n",
       "    }\n",
       "\n",
       "    .dataframe tbody tr th {\n",
       "        vertical-align: top;\n",
       "    }\n",
       "\n",
       "    .dataframe thead th {\n",
       "        text-align: right;\n",
       "    }\n",
       "</style>\n",
       "<table border=\"1\" class=\"dataframe\">\n",
       "  <thead>\n",
       "    <tr style=\"text-align: right;\">\n",
       "      <th></th>\n",
       "      <th>id</th>\n",
       "      <th>name</th>\n",
       "      <th>transactions</th>\n",
       "    </tr>\n",
       "  </thead>\n",
       "  <tbody>\n",
       "    <tr>\n",
       "      <th>0</th>\n",
       "      <td>0</td>\n",
       "      <td>Alice</td>\n",
       "      <td>[{'transaction-id': 17, 'amount': 179}, {'tran...</td>\n",
       "    </tr>\n",
       "    <tr>\n",
       "      <th>1</th>\n",
       "      <td>1</td>\n",
       "      <td>Frank</td>\n",
       "      <td>[{'transaction-id': 143, 'amount': 524}, {'tra...</td>\n",
       "    </tr>\n",
       "    <tr>\n",
       "      <th>2</th>\n",
       "      <td>2</td>\n",
       "      <td>Bob</td>\n",
       "      <td>[{'transaction-id': 76, 'amount': 229}, {'tran...</td>\n",
       "    </tr>\n",
       "    <tr>\n",
       "      <th>3</th>\n",
       "      <td>3</td>\n",
       "      <td>Patricia</td>\n",
       "      <td>[{'transaction-id': 5602, 'amount': 17}, {'tra...</td>\n",
       "    </tr>\n",
       "    <tr>\n",
       "      <th>4</th>\n",
       "      <td>4</td>\n",
       "      <td>Victor</td>\n",
       "      <td>[{'transaction-id': 126, 'amount': 1415}, {'tr...</td>\n",
       "    </tr>\n",
       "  </tbody>\n",
       "</table>\n",
       "</div>"
      ],
      "text/plain": [
       "   id      name                                       transactions\n",
       "0   0     Alice  [{'transaction-id': 17, 'amount': 179}, {'tran...\n",
       "1   1     Frank  [{'transaction-id': 143, 'amount': 524}, {'tra...\n",
       "2   2       Bob  [{'transaction-id': 76, 'amount': 229}, {'tran...\n",
       "3   3  Patricia  [{'transaction-id': 5602, 'amount': 17}, {'tra...\n",
       "4   4    Victor  [{'transaction-id': 126, 'amount': 1415}, {'tr..."
      ]
     },
     "execution_count": 26,
     "metadata": {},
     "output_type": "execute_result"
    }
   ],
   "source": [
    "df1 = js.to_dataframe()\n",
    "df1.head()"
   ]
  },
  {
   "cell_type": "markdown",
   "metadata": {},
   "source": [
    "This now looks like a well-defined DataFrame, and we can apply Pandas-like computations to it efficiently."
   ]
  },
  {
   "cell_type": "markdown",
   "metadata": {},
   "source": [
    "Using a Dask DataFrame, how long does it take to do our prior computation of numbers of people with the same name?  It turns out that `dask.dataframe.groupby()` beats `dask.bag.groupby()` by more than an order of magnitude; but it still cannot match `dask.bag.foldby()` for this case."
   ]
  },
  {
   "cell_type": "code",
   "execution_count": 27,
   "metadata": {
    "execution": {
     "iopub.execute_input": "2021-07-20T15:43:14.050083Z",
     "iopub.status.busy": "2021-07-20T15:43:14.045129Z",
     "iopub.status.idle": "2021-07-20T15:43:15.409213Z",
     "shell.execute_reply": "2021-07-20T15:43:15.408184Z"
    }
   },
   "outputs": [
    {
     "name": "stdout",
     "output_type": "stream",
     "text": [
      "CPU times: user 152 ms, sys: 14.4 ms, total: 167 ms\n",
      "Wall time: 1.37 s\n"
     ]
    },
    {
     "data": {
      "text/plain": [
       "name\n",
       "Alice      700\n",
       "Bob        386\n",
       "Charlie    450\n",
       "Dan        337\n",
       "Edith      500\n",
       "Name: id, dtype: int64"
      ]
     },
     "execution_count": 27,
     "metadata": {},
     "output_type": "execute_result"
    }
   ],
   "source": [
    "%time df1.groupby('name').id.count().compute().head()"
   ]
  },
  {
   "cell_type": "markdown",
   "metadata": {},
   "source": [
    "### Denormalization"
   ]
  },
  {
   "cell_type": "markdown",
   "metadata": {},
   "source": [
    "This DataFrame format is less-than-optimal because the `transactions` column is filled with nested data so Pandas has to revert to `object` dtype, which is quite slow in Pandas.  Ideally we want to transform to a dataframe only after we have flattened our data so that each record is a single `int`, `string`, `float`, etc.."
   ]
  },
  {
   "cell_type": "code",
   "execution_count": 28,
   "metadata": {
    "execution": {
     "iopub.execute_input": "2021-07-20T15:43:15.415761Z",
     "iopub.status.busy": "2021-07-20T15:43:15.414805Z",
     "iopub.status.idle": "2021-07-20T15:43:15.434338Z",
     "shell.execute_reply": "2021-07-20T15:43:15.433933Z"
    }
   },
   "outputs": [
    {
     "data": {
      "text/plain": [
       "({'id': 0, 'name': 'Alice', 'amount': 179, 'transaction-id': 17},\n",
       " {'id': 0, 'name': 'Alice', 'amount': 113, 'transaction-id': 203},\n",
       " {'id': 0, 'name': 'Alice', 'amount': -15, 'transaction-id': 302})"
      ]
     },
     "execution_count": 28,
     "metadata": {},
     "output_type": "execute_result"
    }
   ],
   "source": [
    "def denormalize(record):\n",
    "    # returns a list for each person, one item per transaction\n",
    "    return [{'id': record['id'], \n",
    "             'name': record['name'], \n",
    "             'amount': transaction['amount'], \n",
    "             'transaction-id': transaction['transaction-id']}\n",
    "            for transaction in record['transactions']]\n",
    "\n",
    "transactions = js.map(denormalize).flatten()\n",
    "transactions.take(3)"
   ]
  },
  {
   "cell_type": "code",
   "execution_count": 29,
   "metadata": {
    "execution": {
     "iopub.execute_input": "2021-07-20T15:43:15.438760Z",
     "iopub.status.busy": "2021-07-20T15:43:15.438280Z",
     "iopub.status.idle": "2021-07-20T15:43:15.511699Z",
     "shell.execute_reply": "2021-07-20T15:43:15.511034Z"
    }
   },
   "outputs": [
    {
     "data": {
      "text/html": [
       "<div>\n",
       "<style scoped>\n",
       "    .dataframe tbody tr th:only-of-type {\n",
       "        vertical-align: middle;\n",
       "    }\n",
       "\n",
       "    .dataframe tbody tr th {\n",
       "        vertical-align: top;\n",
       "    }\n",
       "\n",
       "    .dataframe thead th {\n",
       "        text-align: right;\n",
       "    }\n",
       "</style>\n",
       "<table border=\"1\" class=\"dataframe\">\n",
       "  <thead>\n",
       "    <tr style=\"text-align: right;\">\n",
       "      <th></th>\n",
       "      <th>id</th>\n",
       "      <th>name</th>\n",
       "      <th>amount</th>\n",
       "      <th>transaction-id</th>\n",
       "    </tr>\n",
       "  </thead>\n",
       "  <tbody>\n",
       "    <tr>\n",
       "      <th>0</th>\n",
       "      <td>0</td>\n",
       "      <td>Alice</td>\n",
       "      <td>179</td>\n",
       "      <td>17</td>\n",
       "    </tr>\n",
       "    <tr>\n",
       "      <th>1</th>\n",
       "      <td>0</td>\n",
       "      <td>Alice</td>\n",
       "      <td>113</td>\n",
       "      <td>203</td>\n",
       "    </tr>\n",
       "    <tr>\n",
       "      <th>2</th>\n",
       "      <td>0</td>\n",
       "      <td>Alice</td>\n",
       "      <td>-15</td>\n",
       "      <td>302</td>\n",
       "    </tr>\n",
       "    <tr>\n",
       "      <th>3</th>\n",
       "      <td>0</td>\n",
       "      <td>Alice</td>\n",
       "      <td>204</td>\n",
       "      <td>398</td>\n",
       "    </tr>\n",
       "    <tr>\n",
       "      <th>4</th>\n",
       "      <td>0</td>\n",
       "      <td>Alice</td>\n",
       "      <td>39</td>\n",
       "      <td>987</td>\n",
       "    </tr>\n",
       "  </tbody>\n",
       "</table>\n",
       "</div>"
      ],
      "text/plain": [
       "   id   name  amount  transaction-id\n",
       "0   0  Alice     179              17\n",
       "1   0  Alice     113             203\n",
       "2   0  Alice     -15             302\n",
       "3   0  Alice     204             398\n",
       "4   0  Alice      39             987"
      ]
     },
     "execution_count": 29,
     "metadata": {},
     "output_type": "execute_result"
    }
   ],
   "source": [
    "df = transactions.to_dataframe()\n",
    "df.head()"
   ]
  },
  {
   "cell_type": "code",
   "execution_count": 30,
   "metadata": {
    "execution": {
     "iopub.execute_input": "2021-07-20T15:43:15.525584Z",
     "iopub.status.busy": "2021-07-20T15:43:15.517659Z",
     "iopub.status.idle": "2021-07-20T15:43:16.612662Z",
     "shell.execute_reply": "2021-07-20T15:43:16.611611Z"
    }
   },
   "outputs": [
    {
     "name": "stdout",
     "output_type": "stream",
     "text": [
      "CPU times: user 146 ms, sys: 21.3 ms, total: 168 ms\n",
      "Wall time: 1.09 s\n"
     ]
    },
    {
     "data": {
      "text/plain": [
       "name\n",
       "Alice       26311\n",
       "Bob         28573\n",
       "Charlie     18584\n",
       "Dan         14083\n",
       "Edith       21481\n",
       "Frank        5892\n",
       "George      26148\n",
       "Hannah      25979\n",
       "Ingrid      18419\n",
       "Jerry       25661\n",
       "Kevin        4597\n",
       "Laura       26373\n",
       "Michael     32767\n",
       "Norbert     13017\n",
       "Oliver      21105\n",
       "Patricia    33577\n",
       "Quinn       22224\n",
       "Ray         20591\n",
       "Sarah        7843\n",
       "Tim         15113\n",
       "Ursula      14489\n",
       "Victor      20138\n",
       "Wendy       17601\n",
       "Xavier       7738\n",
       "Yvonne      18477\n",
       "Zelda       13219\n",
       "Name: transaction-id, dtype: int64"
      ]
     },
     "execution_count": 30,
     "metadata": {},
     "output_type": "execute_result"
    }
   ],
   "source": [
    "%%time\n",
    "# number of transactions per name\n",
    "# note that the time here includes the data load and ingestion\n",
    "df.groupby('name')['transaction-id'].count().compute()"
   ]
  },
  {
   "cell_type": "markdown",
   "metadata": {},
   "source": [
    "## Limitations"
   ]
  },
  {
   "cell_type": "markdown",
   "metadata": {},
   "source": [
    "Bags provide very general computation (any Python function.)  This generality\n",
    "comes at cost.  Bags have the following known limitations\n",
    "\n",
    "1.  Bag operations tend to be slower than array/dataframe computations in the\n",
    "    same way that Python tends to be slower than NumPy/Pandas\n",
    "2.  ``Bag.groupby`` is slow.  You should try to use ``Bag.foldby`` if possible.\n",
    "    Using ``Bag.foldby`` requires more thought. Even better, consider creating\n",
    "    a normalised dataframe."
   ]
  },
  {
   "cell_type": "markdown",
   "metadata": {},
   "source": [
    "## Learn More\n",
    "\n",
    "* [Bag documentation](https://docs.dask.org/en/latest/bag.html)\n",
    "* [Bag screencast](https://youtu.be/-qIiJ1XtSv0)\n",
    "* [Bag API](https://docs.dask.org/en/latest/bag-api.html)\n",
    "* [Bag examples](https://examples.dask.org/bag.html)"
   ]
  },
  {
   "cell_type": "markdown",
   "metadata": {},
   "source": [
    "## Shutdown"
   ]
  },
  {
   "cell_type": "code",
   "execution_count": 31,
   "metadata": {
    "execution": {
     "iopub.execute_input": "2021-07-20T15:43:16.617733Z",
     "iopub.status.busy": "2021-07-20T15:43:16.617086Z",
     "iopub.status.idle": "2021-07-20T15:43:18.156301Z",
     "shell.execute_reply": "2021-07-20T15:43:18.155860Z"
    }
   },
   "outputs": [],
   "source": [
    "client.shutdown()"
   ]
  }
 ],
 "metadata": {
  "anaconda-cloud": {},
  "kernelspec": {
   "display_name": "Python 3",
   "language": "python",
   "name": "python3"
  },
  "language_info": {
   "codemirror_mode": {
    "name": "ipython",
    "version": 3
   },
   "file_extension": ".py",
   "mimetype": "text/x-python",
   "name": "python",
   "nbconvert_exporter": "python",
   "pygments_lexer": "ipython3",
   "version": "3.8.10"
  }
 },
 "nbformat": 4,
 "nbformat_minor": 4
}
