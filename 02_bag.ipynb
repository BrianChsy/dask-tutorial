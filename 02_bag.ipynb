{
 "cells": [
  {
   "cell_type": "markdown",
   "metadata": {},
   "source": [
    "<img src=\"images/dask_horizontal.svg\" align=\"right\" width=\"30%\">"
   ]
  },
  {
   "cell_type": "markdown",
   "metadata": {},
   "source": [
    "# Bag: Parallel Lists for semi-structured data"
   ]
  },
  {
   "cell_type": "markdown",
   "metadata": {},
   "source": [
    "Dask-bag excels in processing data that can be represented as a sequence of arbitrary inputs. We'll refer to this as \"messy\" data, because it can contain complex nested structures, missing fields, mixtures of data types, etc. The *functional* programming style fits very nicely with standard Python iteration, such as can be found in the `itertools` module.\n",
    "\n",
    "Messy data is often encountered at the beginning of data processing pipelines when large volumes of raw data are first consumed. The initial set of data might be JSON, CSV, XML, or any other format that does not enforce strict structure and datatypes.\n",
    "For this reason, the initial data massaging and processing is often done with Python `list`s, `dict`s, and `set`s.\n",
    "\n",
    "These core data structures are optimized for general-purpose storage and processing.  Adding streaming computation with iterators/generator expressions or libraries like `itertools` or [`toolz`](https://toolz.readthedocs.io/en/latest/) let us process large volumes in a small space.  If we combine this with parallel processing then we can churn through a fair amount of data.\n",
    "\n",
    "Dask.bag is a high-level Dask collection to automate common workloads of this form.  In a nutshell\n",
    "\n",
    "    dask.bag = map, filter, toolz + parallel execution\n",
    "    \n",
    "**Related Documentation**\n",
    "\n",
    "* [Bag documentation](https://docs.dask.org/en/latest/bag.html)\n",
    "* [Bag screencast](https://youtu.be/-qIiJ1XtSv0)\n",
    "* [Bag API](https://docs.dask.org/en/latest/bag-api.html)\n",
    "* [Bag examples](https://examples.dask.org/bag.html)"
   ]
  },
  {
   "cell_type": "markdown",
   "metadata": {},
   "source": [
    "## Create data"
   ]
  },
  {
   "cell_type": "code",
   "execution_count": 1,
   "metadata": {
    "execution": {
     "iopub.execute_input": "2022-06-06T15:40:21.527996Z",
     "iopub.status.busy": "2022-06-06T15:40:21.527676Z",
     "iopub.status.idle": "2022-06-06T15:40:22.275876Z",
     "shell.execute_reply": "2022-06-06T15:40:22.274631Z"
    }
   },
   "outputs": [],
   "source": [
    "%run prep.py -d accounts"
   ]
  },
  {
   "cell_type": "markdown",
   "metadata": {},
   "source": [
    "## Setup"
   ]
  },
  {
   "cell_type": "markdown",
   "metadata": {},
   "source": [
    "Again, we'll use the distributed scheduler. Schedulers will be explained in depth [later](05_distributed.ipynb)."
   ]
  },
  {
   "cell_type": "code",
   "execution_count": 2,
   "metadata": {
    "execution": {
     "iopub.execute_input": "2022-06-06T15:40:22.280591Z",
     "iopub.status.busy": "2022-06-06T15:40:22.280167Z",
     "iopub.status.idle": "2022-06-06T15:40:24.899952Z",
     "shell.execute_reply": "2022-06-06T15:40:24.898820Z"
    }
   },
   "outputs": [],
   "source": [
    "from dask.distributed import Client\n",
    "\n",
    "client = Client(n_workers=4)"
   ]
  },
  {
   "cell_type": "markdown",
   "metadata": {},
   "source": [
    "## Creation"
   ]
  },
  {
   "cell_type": "markdown",
   "metadata": {},
   "source": [
    "You can create a `Bag` from a Python sequence, from files, from data on S3, etc.\n",
    "We demonstrate using `.take()` to show elements of the data. (Doing `.take(1)` results in a tuple with one element)\n",
    "\n",
    "Note that the data are partitioned into blocks, and there are many items per block. In the first example, the two partitions contain five elements each, and in the following two, each file is partitioned into one or more bytes blocks."
   ]
  },
  {
   "cell_type": "code",
   "execution_count": 3,
   "metadata": {
    "execution": {
     "iopub.execute_input": "2022-06-06T15:40:24.904498Z",
     "iopub.status.busy": "2022-06-06T15:40:24.904174Z",
     "iopub.status.idle": "2022-06-06T15:40:25.258129Z",
     "shell.execute_reply": "2022-06-06T15:40:25.257334Z"
    }
   },
   "outputs": [
    {
     "data": {
      "text/plain": [
       "(1, 2, 3)"
      ]
     },
     "execution_count": 3,
     "metadata": {},
     "output_type": "execute_result"
    }
   ],
   "source": [
    "# each element is an integer\n",
    "import dask.bag as db\n",
    "b = db.from_sequence([1, 2, 3, 4, 5, 6, 7, 8, 9, 10], npartitions=2)\n",
    "b.take(3)"
   ]
  },
  {
   "cell_type": "code",
   "execution_count": 4,
   "metadata": {
    "execution": {
     "iopub.execute_input": "2022-06-06T15:40:25.262872Z",
     "iopub.status.busy": "2022-06-06T15:40:25.262295Z",
     "iopub.status.idle": "2022-06-06T15:40:25.383479Z",
     "shell.execute_reply": "2022-06-06T15:40:25.382671Z"
    }
   },
   "outputs": [
    {
     "data": {
      "text/plain": [
       "('{\"id\": 0, \"name\": \"Yvonne\", \"transactions\": [{\"transaction-id\": 258, \"amount\": 4556}, {\"transaction-id\": 2117, \"amount\": 4842}, {\"transaction-id\": 2313, \"amount\": 3950}, {\"transaction-id\": 2490, \"amount\": 4135}, {\"transaction-id\": 2554, \"amount\": 4441}, {\"transaction-id\": 2728, \"amount\": 4496}, {\"transaction-id\": 3043, \"amount\": 4367}, {\"transaction-id\": 3609, \"amount\": 4882}, {\"transaction-id\": 4018, \"amount\": 4477}, {\"transaction-id\": 4763, \"amount\": 4105}, {\"transaction-id\": 4945, \"amount\": 4426}, {\"transaction-id\": 5398, \"amount\": 4130}, {\"transaction-id\": 5714, \"amount\": 4247}, {\"transaction-id\": 6072, \"amount\": 4933}, {\"transaction-id\": 7496, \"amount\": 4541}, {\"transaction-id\": 7609, \"amount\": 4638}, {\"transaction-id\": 7618, \"amount\": 4453}, {\"transaction-id\": 7938, \"amount\": 4232}, {\"transaction-id\": 8218, \"amount\": 4589}, {\"transaction-id\": 8971, \"amount\": 4367}]}\\n',)"
      ]
     },
     "execution_count": 4,
     "metadata": {},
     "output_type": "execute_result"
    }
   ],
   "source": [
    "# each element is a text file, where each line is a JSON object\n",
    "# note that the compression is handled automatically\n",
    "import os\n",
    "b = db.read_text(os.path.join('data', 'accounts.*.json.gz'))\n",
    "b.take(1)"
   ]
  },
  {
   "cell_type": "code",
   "execution_count": 5,
   "metadata": {
    "execution": {
     "iopub.execute_input": "2022-06-06T15:40:25.387109Z",
     "iopub.status.busy": "2022-06-06T15:40:25.386837Z",
     "iopub.status.idle": "2022-06-06T15:40:25.391574Z",
     "shell.execute_reply": "2022-06-06T15:40:25.390795Z"
    }
   },
   "outputs": [
    {
     "data": {
      "text/plain": [
       "'s3://dask-data/nyc-taxi/2015/yellow_tripdata_2015-01.csv'"
      ]
     },
     "execution_count": 5,
     "metadata": {},
     "output_type": "execute_result"
    }
   ],
   "source": [
    "# Edit sources.py to configure source locations\n",
    "import sources\n",
    "sources.bag_url"
   ]
  },
  {
   "cell_type": "code",
   "execution_count": 6,
   "metadata": {
    "execution": {
     "iopub.execute_input": "2022-06-06T15:40:25.396012Z",
     "iopub.status.busy": "2022-06-06T15:40:25.394863Z",
     "iopub.status.idle": "2022-06-06T15:40:26.626105Z",
     "shell.execute_reply": "2022-06-06T15:40:26.625262Z"
    }
   },
   "outputs": [
    {
     "data": {
      "text/plain": [
       "('VendorID,tpep_pickup_datetime,tpep_dropoff_datetime,passenger_count,trip_distance,pickup_longitude,pickup_latitude,RateCodeID,store_and_fwd_flag,dropoff_longitude,dropoff_latitude,payment_type,fare_amount,extra,mta_tax,tip_amount,tolls_amount,improvement_surcharge,total_amount\\n',)"
      ]
     },
     "execution_count": 6,
     "metadata": {},
     "output_type": "execute_result"
    }
   ],
   "source": [
    "# Requires `s3fs` library\n",
    "# each partition is a remote CSV text file\n",
    "b = db.read_text(sources.bag_url,\n",
    "                 storage_options={'anon': True})\n",
    "b.take(1)"
   ]
  },
  {
   "cell_type": "markdown",
   "metadata": {},
   "source": [
    "## Manipulation"
   ]
  },
  {
   "cell_type": "markdown",
   "metadata": {},
   "source": [
    "`Bag` objects hold the standard functional API found in projects like the Python standard library, `toolz`, or `pyspark`, including `map`, `filter`, `groupby`, etc..\n",
    "\n",
    "Operations on `Bag` objects create new bags.  Call the `.compute()` method to trigger execution, as we saw for `Delayed` objects.  "
   ]
  },
  {
   "cell_type": "code",
   "execution_count": 7,
   "metadata": {
    "execution": {
     "iopub.execute_input": "2022-06-06T15:40:26.631471Z",
     "iopub.status.busy": "2022-06-06T15:40:26.630775Z",
     "iopub.status.idle": "2022-06-06T15:40:26.639301Z",
     "shell.execute_reply": "2022-06-06T15:40:26.638527Z"
    }
   },
   "outputs": [
    {
     "data": {
      "text/plain": [
       "dask.bag<lambda, npartitions=10>"
      ]
     },
     "execution_count": 7,
     "metadata": {},
     "output_type": "execute_result"
    }
   ],
   "source": [
    "def is_even(n):\n",
    "    return n % 2 == 0\n",
    "\n",
    "b = db.from_sequence([1, 2, 3, 4, 5, 6, 7, 8, 9, 10])\n",
    "c = b.filter(is_even).map(lambda x: x ** 2)\n",
    "c"
   ]
  },
  {
   "cell_type": "code",
   "execution_count": 8,
   "metadata": {
    "execution": {
     "iopub.execute_input": "2022-06-06T15:40:26.643792Z",
     "iopub.status.busy": "2022-06-06T15:40:26.643142Z",
     "iopub.status.idle": "2022-06-06T15:40:26.902510Z",
     "shell.execute_reply": "2022-06-06T15:40:26.901752Z"
    }
   },
   "outputs": [
    {
     "data": {
      "text/plain": [
       "[4, 16, 36, 64, 100]"
      ]
     },
     "execution_count": 8,
     "metadata": {},
     "output_type": "execute_result"
    }
   ],
   "source": [
    "# blocking form: wait for completion (which is very fast in this case)\n",
    "c.compute()"
   ]
  },
  {
   "cell_type": "markdown",
   "metadata": {},
   "source": [
    "### Example: Accounts JSON data"
   ]
  },
  {
   "cell_type": "markdown",
   "metadata": {},
   "source": [
    "We've created a fake dataset of gzipped JSON data in your data directory.  This is like the example used in the `DataFrame` example we will see later, except that it has bundled up all of the entries for each individual `id` into a single record.  This is similar to data that you might collect off of a document store database or a web API.\n",
    "\n",
    "Each line is a JSON encoded dictionary with the following keys\n",
    "\n",
    "*  id: Unique identifier of the customer\n",
    "*  name: Name of the customer\n",
    "*  transactions: List of `transaction-id`, `amount` pairs, one for each transaction for the customer in that file"
   ]
  },
  {
   "cell_type": "code",
   "execution_count": 9,
   "metadata": {
    "execution": {
     "iopub.execute_input": "2022-06-06T15:40:26.907214Z",
     "iopub.status.busy": "2022-06-06T15:40:26.906607Z",
     "iopub.status.idle": "2022-06-06T15:40:26.948204Z",
     "shell.execute_reply": "2022-06-06T15:40:26.947296Z"
    }
   },
   "outputs": [
    {
     "data": {
      "text/plain": [
       "('{\"id\": 0, \"name\": \"Yvonne\", \"transactions\": [{\"transaction-id\": 258, \"amount\": 4556}, {\"transaction-id\": 2117, \"amount\": 4842}, {\"transaction-id\": 2313, \"amount\": 3950}, {\"transaction-id\": 2490, \"amount\": 4135}, {\"transaction-id\": 2554, \"amount\": 4441}, {\"transaction-id\": 2728, \"amount\": 4496}, {\"transaction-id\": 3043, \"amount\": 4367}, {\"transaction-id\": 3609, \"amount\": 4882}, {\"transaction-id\": 4018, \"amount\": 4477}, {\"transaction-id\": 4763, \"amount\": 4105}, {\"transaction-id\": 4945, \"amount\": 4426}, {\"transaction-id\": 5398, \"amount\": 4130}, {\"transaction-id\": 5714, \"amount\": 4247}, {\"transaction-id\": 6072, \"amount\": 4933}, {\"transaction-id\": 7496, \"amount\": 4541}, {\"transaction-id\": 7609, \"amount\": 4638}, {\"transaction-id\": 7618, \"amount\": 4453}, {\"transaction-id\": 7938, \"amount\": 4232}, {\"transaction-id\": 8218, \"amount\": 4589}, {\"transaction-id\": 8971, \"amount\": 4367}]}\\n',\n",
       " '{\"id\": 1, \"name\": \"Laura\", \"transactions\": [{\"transaction-id\": 444, \"amount\": 741}, {\"transaction-id\": 485, \"amount\": 753}, {\"transaction-id\": 595, \"amount\": 782}, {\"transaction-id\": 627, \"amount\": 720}, {\"transaction-id\": 780, \"amount\": 737}, {\"transaction-id\": 1111, \"amount\": 739}, {\"transaction-id\": 1174, \"amount\": 796}, {\"transaction-id\": 1594, \"amount\": 805}, {\"transaction-id\": 1621, \"amount\": 693}, {\"transaction-id\": 1701, \"amount\": 745}, {\"transaction-id\": 1889, \"amount\": 652}, {\"transaction-id\": 1968, \"amount\": 761}, {\"transaction-id\": 2301, \"amount\": 786}, {\"transaction-id\": 2942, \"amount\": 755}, {\"transaction-id\": 3125, \"amount\": 780}, {\"transaction-id\": 3248, \"amount\": 797}, {\"transaction-id\": 3646, \"amount\": 812}, {\"transaction-id\": 3777, \"amount\": 687}, {\"transaction-id\": 3840, \"amount\": 673}, {\"transaction-id\": 3915, \"amount\": 707}, {\"transaction-id\": 4198, \"amount\": 686}, {\"transaction-id\": 4245, \"amount\": 697}, {\"transaction-id\": 4267, \"amount\": 777}, {\"transaction-id\": 4580, \"amount\": 792}, {\"transaction-id\": 4649, \"amount\": 798}, {\"transaction-id\": 4661, \"amount\": 785}, {\"transaction-id\": 4920, \"amount\": 662}, {\"transaction-id\": 5010, \"amount\": 701}, {\"transaction-id\": 5066, \"amount\": 735}, {\"transaction-id\": 5838, \"amount\": 701}, {\"transaction-id\": 6036, \"amount\": 722}, {\"transaction-id\": 6102, \"amount\": 734}, {\"transaction-id\": 6397, \"amount\": 776}, {\"transaction-id\": 6492, \"amount\": 794}, {\"transaction-id\": 6649, \"amount\": 721}, {\"transaction-id\": 6789, \"amount\": 808}, {\"transaction-id\": 6881, \"amount\": 749}, {\"transaction-id\": 7578, \"amount\": 734}, {\"transaction-id\": 7999, \"amount\": 809}, {\"transaction-id\": 8168, \"amount\": 741}, {\"transaction-id\": 8351, \"amount\": 758}, {\"transaction-id\": 8467, \"amount\": 690}, {\"transaction-id\": 8519, \"amount\": 695}, {\"transaction-id\": 8675, \"amount\": 788}, {\"transaction-id\": 8771, \"amount\": 672}, {\"transaction-id\": 9262, \"amount\": 718}, {\"transaction-id\": 9267, \"amount\": 788}, {\"transaction-id\": 9354, \"amount\": 694}, {\"transaction-id\": 9535, \"amount\": 770}, {\"transaction-id\": 9817, \"amount\": 831}, {\"transaction-id\": 9877, \"amount\": 796}]}\\n',\n",
       " '{\"id\": 2, \"name\": \"Quinn\", \"transactions\": [{\"transaction-id\": 6369, \"amount\": 29}]}\\n')"
      ]
     },
     "execution_count": 9,
     "metadata": {},
     "output_type": "execute_result"
    }
   ],
   "source": [
    "filename = os.path.join('data', 'accounts.*.json.gz')\n",
    "lines = db.read_text(filename)\n",
    "lines.take(3)"
   ]
  },
  {
   "cell_type": "markdown",
   "metadata": {},
   "source": [
    "Our data comes out of the file as lines of text. Notice that file decompression happened automatically. We can make this data look more reasonable by mapping the `json.loads` function onto our bag."
   ]
  },
  {
   "cell_type": "code",
   "execution_count": 10,
   "metadata": {
    "execution": {
     "iopub.execute_input": "2022-06-06T15:40:26.953104Z",
     "iopub.status.busy": "2022-06-06T15:40:26.952393Z",
     "iopub.status.idle": "2022-06-06T15:40:26.987589Z",
     "shell.execute_reply": "2022-06-06T15:40:26.986746Z"
    }
   },
   "outputs": [
    {
     "data": {
      "text/plain": [
       "({'id': 0,\n",
       "  'name': 'Yvonne',\n",
       "  'transactions': [{'transaction-id': 258, 'amount': 4556},\n",
       "   {'transaction-id': 2117, 'amount': 4842},\n",
       "   {'transaction-id': 2313, 'amount': 3950},\n",
       "   {'transaction-id': 2490, 'amount': 4135},\n",
       "   {'transaction-id': 2554, 'amount': 4441},\n",
       "   {'transaction-id': 2728, 'amount': 4496},\n",
       "   {'transaction-id': 3043, 'amount': 4367},\n",
       "   {'transaction-id': 3609, 'amount': 4882},\n",
       "   {'transaction-id': 4018, 'amount': 4477},\n",
       "   {'transaction-id': 4763, 'amount': 4105},\n",
       "   {'transaction-id': 4945, 'amount': 4426},\n",
       "   {'transaction-id': 5398, 'amount': 4130},\n",
       "   {'transaction-id': 5714, 'amount': 4247},\n",
       "   {'transaction-id': 6072, 'amount': 4933},\n",
       "   {'transaction-id': 7496, 'amount': 4541},\n",
       "   {'transaction-id': 7609, 'amount': 4638},\n",
       "   {'transaction-id': 7618, 'amount': 4453},\n",
       "   {'transaction-id': 7938, 'amount': 4232},\n",
       "   {'transaction-id': 8218, 'amount': 4589},\n",
       "   {'transaction-id': 8971, 'amount': 4367}]},\n",
       " {'id': 1,\n",
       "  'name': 'Laura',\n",
       "  'transactions': [{'transaction-id': 444, 'amount': 741},\n",
       "   {'transaction-id': 485, 'amount': 753},\n",
       "   {'transaction-id': 595, 'amount': 782},\n",
       "   {'transaction-id': 627, 'amount': 720},\n",
       "   {'transaction-id': 780, 'amount': 737},\n",
       "   {'transaction-id': 1111, 'amount': 739},\n",
       "   {'transaction-id': 1174, 'amount': 796},\n",
       "   {'transaction-id': 1594, 'amount': 805},\n",
       "   {'transaction-id': 1621, 'amount': 693},\n",
       "   {'transaction-id': 1701, 'amount': 745},\n",
       "   {'transaction-id': 1889, 'amount': 652},\n",
       "   {'transaction-id': 1968, 'amount': 761},\n",
       "   {'transaction-id': 2301, 'amount': 786},\n",
       "   {'transaction-id': 2942, 'amount': 755},\n",
       "   {'transaction-id': 3125, 'amount': 780},\n",
       "   {'transaction-id': 3248, 'amount': 797},\n",
       "   {'transaction-id': 3646, 'amount': 812},\n",
       "   {'transaction-id': 3777, 'amount': 687},\n",
       "   {'transaction-id': 3840, 'amount': 673},\n",
       "   {'transaction-id': 3915, 'amount': 707},\n",
       "   {'transaction-id': 4198, 'amount': 686},\n",
       "   {'transaction-id': 4245, 'amount': 697},\n",
       "   {'transaction-id': 4267, 'amount': 777},\n",
       "   {'transaction-id': 4580, 'amount': 792},\n",
       "   {'transaction-id': 4649, 'amount': 798},\n",
       "   {'transaction-id': 4661, 'amount': 785},\n",
       "   {'transaction-id': 4920, 'amount': 662},\n",
       "   {'transaction-id': 5010, 'amount': 701},\n",
       "   {'transaction-id': 5066, 'amount': 735},\n",
       "   {'transaction-id': 5838, 'amount': 701},\n",
       "   {'transaction-id': 6036, 'amount': 722},\n",
       "   {'transaction-id': 6102, 'amount': 734},\n",
       "   {'transaction-id': 6397, 'amount': 776},\n",
       "   {'transaction-id': 6492, 'amount': 794},\n",
       "   {'transaction-id': 6649, 'amount': 721},\n",
       "   {'transaction-id': 6789, 'amount': 808},\n",
       "   {'transaction-id': 6881, 'amount': 749},\n",
       "   {'transaction-id': 7578, 'amount': 734},\n",
       "   {'transaction-id': 7999, 'amount': 809},\n",
       "   {'transaction-id': 8168, 'amount': 741},\n",
       "   {'transaction-id': 8351, 'amount': 758},\n",
       "   {'transaction-id': 8467, 'amount': 690},\n",
       "   {'transaction-id': 8519, 'amount': 695},\n",
       "   {'transaction-id': 8675, 'amount': 788},\n",
       "   {'transaction-id': 8771, 'amount': 672},\n",
       "   {'transaction-id': 9262, 'amount': 718},\n",
       "   {'transaction-id': 9267, 'amount': 788},\n",
       "   {'transaction-id': 9354, 'amount': 694},\n",
       "   {'transaction-id': 9535, 'amount': 770},\n",
       "   {'transaction-id': 9817, 'amount': 831},\n",
       "   {'transaction-id': 9877, 'amount': 796}]},\n",
       " {'id': 2,\n",
       "  'name': 'Quinn',\n",
       "  'transactions': [{'transaction-id': 6369, 'amount': 29}]})"
      ]
     },
     "execution_count": 10,
     "metadata": {},
     "output_type": "execute_result"
    }
   ],
   "source": [
    "import json\n",
    "js = lines.map(json.loads)\n",
    "# take: inspect first few elements\n",
    "js.take(3)"
   ]
  },
  {
   "cell_type": "markdown",
   "metadata": {},
   "source": [
    "### Basic Queries"
   ]
  },
  {
   "cell_type": "markdown",
   "metadata": {},
   "source": [
    "Once we parse our JSON data into proper Python objects (`dict`s, `list`s, etc.) we can perform more interesting queries by creating small Python functions to run on our data."
   ]
  },
  {
   "cell_type": "code",
   "execution_count": 11,
   "metadata": {
    "execution": {
     "iopub.execute_input": "2022-06-06T15:40:26.992446Z",
     "iopub.status.busy": "2022-06-06T15:40:26.992160Z",
     "iopub.status.idle": "2022-06-06T15:40:27.035161Z",
     "shell.execute_reply": "2022-06-06T15:40:27.034244Z"
    }
   },
   "outputs": [
    {
     "data": {
      "text/plain": [
       "({'id': 14,\n",
       "  'name': 'Alice',\n",
       "  'transactions': [{'transaction-id': 15, 'amount': 91},\n",
       "   {'transaction-id': 950, 'amount': -534},\n",
       "   {'transaction-id': 1093, 'amount': -152},\n",
       "   {'transaction-id': 1244, 'amount': 35},\n",
       "   {'transaction-id': 1430, 'amount': 570},\n",
       "   {'transaction-id': 4795, 'amount': -609},\n",
       "   {'transaction-id': 5769, 'amount': 535},\n",
       "   {'transaction-id': 8637, 'amount': -319},\n",
       "   {'transaction-id': 9326, 'amount': -477},\n",
       "   {'transaction-id': 9327, 'amount': -399}]},\n",
       " {'id': 16,\n",
       "  'name': 'Alice',\n",
       "  'transactions': [{'transaction-id': 935, 'amount': 330},\n",
       "   {'transaction-id': 2258, 'amount': 327},\n",
       "   {'transaction-id': 4769, 'amount': 302},\n",
       "   {'transaction-id': 7286, 'amount': 256},\n",
       "   {'transaction-id': 7564, 'amount': 367}]},\n",
       " {'id': 24,\n",
       "  'name': 'Alice',\n",
       "  'transactions': [{'transaction-id': 109, 'amount': 4091},\n",
       "   {'transaction-id': 246, 'amount': 3386},\n",
       "   {'transaction-id': 249, 'amount': 3799},\n",
       "   {'transaction-id': 418, 'amount': 3883},\n",
       "   {'transaction-id': 604, 'amount': 3506},\n",
       "   {'transaction-id': 882, 'amount': 3782},\n",
       "   {'transaction-id': 1073, 'amount': 4089},\n",
       "   {'transaction-id': 1205, 'amount': 4115},\n",
       "   {'transaction-id': 2148, 'amount': 3778},\n",
       "   {'transaction-id': 2197, 'amount': 3968},\n",
       "   {'transaction-id': 2238, 'amount': 4110},\n",
       "   {'transaction-id': 2336, 'amount': 3967},\n",
       "   {'transaction-id': 2640, 'amount': 3972},\n",
       "   {'transaction-id': 2778, 'amount': 4249},\n",
       "   {'transaction-id': 3210, 'amount': 3698},\n",
       "   {'transaction-id': 3236, 'amount': 3843},\n",
       "   {'transaction-id': 3238, 'amount': 3772},\n",
       "   {'transaction-id': 3625, 'amount': 3694},\n",
       "   {'transaction-id': 4139, 'amount': 4016},\n",
       "   {'transaction-id': 4528, 'amount': 3958},\n",
       "   {'transaction-id': 4702, 'amount': 4002},\n",
       "   {'transaction-id': 4853, 'amount': 3561},\n",
       "   {'transaction-id': 5057, 'amount': 3918},\n",
       "   {'transaction-id': 5592, 'amount': 4241},\n",
       "   {'transaction-id': 5901, 'amount': 3944},\n",
       "   {'transaction-id': 6060, 'amount': 3702},\n",
       "   {'transaction-id': 6132, 'amount': 3960},\n",
       "   {'transaction-id': 6266, 'amount': 3819},\n",
       "   {'transaction-id': 6320, 'amount': 4256},\n",
       "   {'transaction-id': 6355, 'amount': 3220},\n",
       "   {'transaction-id': 6357, 'amount': 3942},\n",
       "   {'transaction-id': 6463, 'amount': 4180},\n",
       "   {'transaction-id': 6580, 'amount': 3540},\n",
       "   {'transaction-id': 6968, 'amount': 4211},\n",
       "   {'transaction-id': 7004, 'amount': 3920},\n",
       "   {'transaction-id': 7200, 'amount': 3991},\n",
       "   {'transaction-id': 7281, 'amount': 3828},\n",
       "   {'transaction-id': 7649, 'amount': 4317},\n",
       "   {'transaction-id': 7773, 'amount': 3916},\n",
       "   {'transaction-id': 7947, 'amount': 4111},\n",
       "   {'transaction-id': 8371, 'amount': 3691},\n",
       "   {'transaction-id': 8501, 'amount': 3563},\n",
       "   {'transaction-id': 8884, 'amount': 3936},\n",
       "   {'transaction-id': 8912, 'amount': 3759},\n",
       "   {'transaction-id': 8934, 'amount': 4288},\n",
       "   {'transaction-id': 8975, 'amount': 3707},\n",
       "   {'transaction-id': 9045, 'amount': 3716},\n",
       "   {'transaction-id': 9049, 'amount': 4052},\n",
       "   {'transaction-id': 9670, 'amount': 3904},\n",
       "   {'transaction-id': 9826, 'amount': 3850},\n",
       "   {'transaction-id': 9928, 'amount': 3818},\n",
       "   {'transaction-id': 9967, 'amount': 3649}]},\n",
       " {'id': 37,\n",
       "  'name': 'Alice',\n",
       "  'transactions': [{'transaction-id': 1127, 'amount': 84},\n",
       "   {'transaction-id': 1219, 'amount': 135},\n",
       "   {'transaction-id': 1499, 'amount': 90},\n",
       "   {'transaction-id': 2738, 'amount': 109},\n",
       "   {'transaction-id': 3371, 'amount': 187},\n",
       "   {'transaction-id': 3400, 'amount': 160},\n",
       "   {'transaction-id': 4111, 'amount': 91},\n",
       "   {'transaction-id': 5828, 'amount': -16},\n",
       "   {'transaction-id': 5936, 'amount': -32},\n",
       "   {'transaction-id': 6197, 'amount': 70},\n",
       "   {'transaction-id': 8585, 'amount': 139},\n",
       "   {'transaction-id': 9247, 'amount': 153},\n",
       "   {'transaction-id': 9690, 'amount': 54}]},\n",
       " {'id': 49,\n",
       "  'name': 'Alice',\n",
       "  'transactions': [{'transaction-id': 93, 'amount': 123},\n",
       "   {'transaction-id': 371, 'amount': 167},\n",
       "   {'transaction-id': 448, 'amount': 129},\n",
       "   {'transaction-id': 774, 'amount': 134},\n",
       "   {'transaction-id': 3154, 'amount': 127},\n",
       "   {'transaction-id': 3496, 'amount': 146},\n",
       "   {'transaction-id': 3775, 'amount': 158},\n",
       "   {'transaction-id': 3998, 'amount': 180},\n",
       "   {'transaction-id': 4642, 'amount': 138},\n",
       "   {'transaction-id': 5407, 'amount': 130},\n",
       "   {'transaction-id': 5458, 'amount': 154},\n",
       "   {'transaction-id': 6308, 'amount': 156},\n",
       "   {'transaction-id': 6429, 'amount': 118},\n",
       "   {'transaction-id': 6430, 'amount': 160},\n",
       "   {'transaction-id': 6528, 'amount': 137},\n",
       "   {'transaction-id': 6806, 'amount': 132},\n",
       "   {'transaction-id': 7425, 'amount': 131},\n",
       "   {'transaction-id': 8257, 'amount': 183},\n",
       "   {'transaction-id': 8878, 'amount': 155},\n",
       "   {'transaction-id': 9165, 'amount': 158}]})"
      ]
     },
     "execution_count": 11,
     "metadata": {},
     "output_type": "execute_result"
    }
   ],
   "source": [
    "# filter: keep only some elements of the sequence\n",
    "js.filter(lambda record: record['name'] == 'Alice').take(5)"
   ]
  },
  {
   "cell_type": "code",
   "execution_count": 12,
   "metadata": {
    "execution": {
     "iopub.execute_input": "2022-06-06T15:40:27.039235Z",
     "iopub.status.busy": "2022-06-06T15:40:27.038762Z",
     "iopub.status.idle": "2022-06-06T15:40:27.073093Z",
     "shell.execute_reply": "2022-06-06T15:40:27.072342Z"
    }
   },
   "outputs": [
    {
     "data": {
      "text/plain": [
       "({'name': 'Alice', 'count': 10},\n",
       " {'name': 'Alice', 'count': 5},\n",
       " {'name': 'Alice', 'count': 52},\n",
       " {'name': 'Alice', 'count': 13},\n",
       " {'name': 'Alice', 'count': 20})"
      ]
     },
     "execution_count": 12,
     "metadata": {},
     "output_type": "execute_result"
    }
   ],
   "source": [
    "def count_transactions(d):\n",
    "    return {'name': d['name'], 'count': len(d['transactions'])}\n",
    "\n",
    "# map: apply a function to each element\n",
    "(js.filter(lambda record: record['name'] == 'Alice')\n",
    "   .map(count_transactions)\n",
    "   .take(5))"
   ]
  },
  {
   "cell_type": "code",
   "execution_count": 13,
   "metadata": {
    "execution": {
     "iopub.execute_input": "2022-06-06T15:40:27.077921Z",
     "iopub.status.busy": "2022-06-06T15:40:27.077259Z",
     "iopub.status.idle": "2022-06-06T15:40:27.109106Z",
     "shell.execute_reply": "2022-06-06T15:40:27.108198Z"
    }
   },
   "outputs": [
    {
     "data": {
      "text/plain": [
       "(10, 5, 52, 13, 20)"
      ]
     },
     "execution_count": 13,
     "metadata": {},
     "output_type": "execute_result"
    }
   ],
   "source": [
    "# pluck: select a field, as from a dictionary, element[field]\n",
    "(js.filter(lambda record: record['name'] == 'Alice')\n",
    "   .map(count_transactions)\n",
    "   .pluck('count')\n",
    "   .take(5))"
   ]
  },
  {
   "cell_type": "code",
   "execution_count": 14,
   "metadata": {
    "execution": {
     "iopub.execute_input": "2022-06-06T15:40:27.115425Z",
     "iopub.status.busy": "2022-06-06T15:40:27.113890Z",
     "iopub.status.idle": "2022-06-06T15:40:27.620360Z",
     "shell.execute_reply": "2022-06-06T15:40:27.619411Z"
    }
   },
   "outputs": [
    {
     "data": {
      "text/plain": [
       "28.350877192982455"
      ]
     },
     "execution_count": 14,
     "metadata": {},
     "output_type": "execute_result"
    }
   ],
   "source": [
    "# Average number of transactions for all of the Alice entries\n",
    "(js.filter(lambda record: record['name'] == 'Alice')\n",
    "   .map(count_transactions)\n",
    "   .pluck('count')\n",
    "   .mean()\n",
    "   .compute())"
   ]
  },
  {
   "cell_type": "markdown",
   "metadata": {},
   "source": [
    "### Use `flatten` to de-nest"
   ]
  },
  {
   "cell_type": "markdown",
   "metadata": {},
   "source": [
    "In the example below we see the use of `.flatten()` to flatten results.  We compute the average amount for all transactions for all Alices."
   ]
  },
  {
   "cell_type": "code",
   "execution_count": 15,
   "metadata": {
    "execution": {
     "iopub.execute_input": "2022-06-06T15:40:27.625176Z",
     "iopub.status.busy": "2022-06-06T15:40:27.624606Z",
     "iopub.status.idle": "2022-06-06T15:40:27.659953Z",
     "shell.execute_reply": "2022-06-06T15:40:27.659171Z"
    }
   },
   "outputs": [
    {
     "data": {
      "text/plain": [
       "([{'transaction-id': 15, 'amount': 91},\n",
       "  {'transaction-id': 950, 'amount': -534},\n",
       "  {'transaction-id': 1093, 'amount': -152},\n",
       "  {'transaction-id': 1244, 'amount': 35},\n",
       "  {'transaction-id': 1430, 'amount': 570},\n",
       "  {'transaction-id': 4795, 'amount': -609},\n",
       "  {'transaction-id': 5769, 'amount': 535},\n",
       "  {'transaction-id': 8637, 'amount': -319},\n",
       "  {'transaction-id': 9326, 'amount': -477},\n",
       "  {'transaction-id': 9327, 'amount': -399}],\n",
       " [{'transaction-id': 935, 'amount': 330},\n",
       "  {'transaction-id': 2258, 'amount': 327},\n",
       "  {'transaction-id': 4769, 'amount': 302},\n",
       "  {'transaction-id': 7286, 'amount': 256},\n",
       "  {'transaction-id': 7564, 'amount': 367}],\n",
       " [{'transaction-id': 109, 'amount': 4091},\n",
       "  {'transaction-id': 246, 'amount': 3386},\n",
       "  {'transaction-id': 249, 'amount': 3799},\n",
       "  {'transaction-id': 418, 'amount': 3883},\n",
       "  {'transaction-id': 604, 'amount': 3506},\n",
       "  {'transaction-id': 882, 'amount': 3782},\n",
       "  {'transaction-id': 1073, 'amount': 4089},\n",
       "  {'transaction-id': 1205, 'amount': 4115},\n",
       "  {'transaction-id': 2148, 'amount': 3778},\n",
       "  {'transaction-id': 2197, 'amount': 3968},\n",
       "  {'transaction-id': 2238, 'amount': 4110},\n",
       "  {'transaction-id': 2336, 'amount': 3967},\n",
       "  {'transaction-id': 2640, 'amount': 3972},\n",
       "  {'transaction-id': 2778, 'amount': 4249},\n",
       "  {'transaction-id': 3210, 'amount': 3698},\n",
       "  {'transaction-id': 3236, 'amount': 3843},\n",
       "  {'transaction-id': 3238, 'amount': 3772},\n",
       "  {'transaction-id': 3625, 'amount': 3694},\n",
       "  {'transaction-id': 4139, 'amount': 4016},\n",
       "  {'transaction-id': 4528, 'amount': 3958},\n",
       "  {'transaction-id': 4702, 'amount': 4002},\n",
       "  {'transaction-id': 4853, 'amount': 3561},\n",
       "  {'transaction-id': 5057, 'amount': 3918},\n",
       "  {'transaction-id': 5592, 'amount': 4241},\n",
       "  {'transaction-id': 5901, 'amount': 3944},\n",
       "  {'transaction-id': 6060, 'amount': 3702},\n",
       "  {'transaction-id': 6132, 'amount': 3960},\n",
       "  {'transaction-id': 6266, 'amount': 3819},\n",
       "  {'transaction-id': 6320, 'amount': 4256},\n",
       "  {'transaction-id': 6355, 'amount': 3220},\n",
       "  {'transaction-id': 6357, 'amount': 3942},\n",
       "  {'transaction-id': 6463, 'amount': 4180},\n",
       "  {'transaction-id': 6580, 'amount': 3540},\n",
       "  {'transaction-id': 6968, 'amount': 4211},\n",
       "  {'transaction-id': 7004, 'amount': 3920},\n",
       "  {'transaction-id': 7200, 'amount': 3991},\n",
       "  {'transaction-id': 7281, 'amount': 3828},\n",
       "  {'transaction-id': 7649, 'amount': 4317},\n",
       "  {'transaction-id': 7773, 'amount': 3916},\n",
       "  {'transaction-id': 7947, 'amount': 4111},\n",
       "  {'transaction-id': 8371, 'amount': 3691},\n",
       "  {'transaction-id': 8501, 'amount': 3563},\n",
       "  {'transaction-id': 8884, 'amount': 3936},\n",
       "  {'transaction-id': 8912, 'amount': 3759},\n",
       "  {'transaction-id': 8934, 'amount': 4288},\n",
       "  {'transaction-id': 8975, 'amount': 3707},\n",
       "  {'transaction-id': 9045, 'amount': 3716},\n",
       "  {'transaction-id': 9049, 'amount': 4052},\n",
       "  {'transaction-id': 9670, 'amount': 3904},\n",
       "  {'transaction-id': 9826, 'amount': 3850},\n",
       "  {'transaction-id': 9928, 'amount': 3818},\n",
       "  {'transaction-id': 9967, 'amount': 3649}])"
      ]
     },
     "execution_count": 15,
     "metadata": {},
     "output_type": "execute_result"
    }
   ],
   "source": [
    "(js.filter(lambda record: record['name'] == 'Alice')\n",
    "   .pluck('transactions')\n",
    "   .take(3))"
   ]
  },
  {
   "cell_type": "code",
   "execution_count": 16,
   "metadata": {
    "execution": {
     "iopub.execute_input": "2022-06-06T15:40:27.664085Z",
     "iopub.status.busy": "2022-06-06T15:40:27.663794Z",
     "iopub.status.idle": "2022-06-06T15:40:27.694679Z",
     "shell.execute_reply": "2022-06-06T15:40:27.693309Z"
    }
   },
   "outputs": [
    {
     "data": {
      "text/plain": [
       "({'transaction-id': 15, 'amount': 91},\n",
       " {'transaction-id': 950, 'amount': -534},\n",
       " {'transaction-id': 1093, 'amount': -152})"
      ]
     },
     "execution_count": 16,
     "metadata": {},
     "output_type": "execute_result"
    }
   ],
   "source": [
    "(js.filter(lambda record: record['name'] == 'Alice')\n",
    "   .pluck('transactions')\n",
    "   .flatten()\n",
    "   .take(3))"
   ]
  },
  {
   "cell_type": "code",
   "execution_count": 17,
   "metadata": {
    "execution": {
     "iopub.execute_input": "2022-06-06T15:40:27.699168Z",
     "iopub.status.busy": "2022-06-06T15:40:27.698787Z",
     "iopub.status.idle": "2022-06-06T15:40:27.731944Z",
     "shell.execute_reply": "2022-06-06T15:40:27.730201Z"
    }
   },
   "outputs": [
    {
     "data": {
      "text/plain": [
       "(91, -534, -152)"
      ]
     },
     "execution_count": 17,
     "metadata": {},
     "output_type": "execute_result"
    }
   ],
   "source": [
    "(js.filter(lambda record: record['name'] == 'Alice')\n",
    "   .pluck('transactions')\n",
    "   .flatten()\n",
    "   .pluck('amount')\n",
    "   .take(3))"
   ]
  },
  {
   "cell_type": "code",
   "execution_count": 18,
   "metadata": {
    "execution": {
     "iopub.execute_input": "2022-06-06T15:40:27.736337Z",
     "iopub.status.busy": "2022-06-06T15:40:27.735875Z",
     "iopub.status.idle": "2022-06-06T15:40:28.234355Z",
     "shell.execute_reply": "2022-06-06T15:40:28.233547Z"
    }
   },
   "outputs": [
    {
     "data": {
      "text/plain": [
       "1184.745491513437"
      ]
     },
     "execution_count": 18,
     "metadata": {},
     "output_type": "execute_result"
    }
   ],
   "source": [
    "(js.filter(lambda record: record['name'] == 'Alice')\n",
    "   .pluck('transactions')\n",
    "   .flatten()\n",
    "   .pluck('amount')\n",
    "   .mean()\n",
    "   .compute())"
   ]
  },
  {
   "cell_type": "markdown",
   "metadata": {},
   "source": [
    "### Groupby and Foldby"
   ]
  },
  {
   "cell_type": "markdown",
   "metadata": {},
   "source": [
    "Often we want to group data by some function or key.  We can do this either with the `.groupby` method, which is straightforward but forces a full shuffle of the data (expensive) or with the harder-to-use but faster `.foldby` method, which does a streaming combined groupby and reduction.\n",
    "\n",
    "*  `groupby`:  Shuffles data so that all items with the same key are in the same key-value pair\n",
    "*  `foldby`:  Walks through the data accumulating a result per key\n",
    "\n",
    "*Note: the full groupby is particularly bad. In actual workloads you would do well to use `foldby` or switch to `DataFrame`s if possible.*"
   ]
  },
  {
   "cell_type": "markdown",
   "metadata": {},
   "source": [
    "### `groupby`"
   ]
  },
  {
   "cell_type": "markdown",
   "metadata": {},
   "source": [
    "Groupby collects items in your collection so that all items with the same value under some function are collected together into a key-value pair."
   ]
  },
  {
   "cell_type": "code",
   "execution_count": 19,
   "metadata": {
    "execution": {
     "iopub.execute_input": "2022-06-06T15:40:28.238911Z",
     "iopub.status.busy": "2022-06-06T15:40:28.238389Z",
     "iopub.status.idle": "2022-06-06T15:40:28.351531Z",
     "shell.execute_reply": "2022-06-06T15:40:28.350649Z"
    }
   },
   "outputs": [
    {
     "data": {
      "text/plain": [
       "[(7, ['Charlie']), (3, ['Bob', 'Dan']), (5, ['Alice', 'Edith', 'Frank'])]"
      ]
     },
     "execution_count": 19,
     "metadata": {},
     "output_type": "execute_result"
    }
   ],
   "source": [
    "b = db.from_sequence(['Alice', 'Bob', 'Charlie', 'Dan', 'Edith', 'Frank'])\n",
    "b.groupby(len).compute()  # names grouped by length"
   ]
  },
  {
   "cell_type": "code",
   "execution_count": 20,
   "metadata": {
    "execution": {
     "iopub.execute_input": "2022-06-06T15:40:28.356412Z",
     "iopub.status.busy": "2022-06-06T15:40:28.355625Z",
     "iopub.status.idle": "2022-06-06T15:40:28.517366Z",
     "shell.execute_reply": "2022-06-06T15:40:28.515912Z"
    }
   },
   "outputs": [
    {
     "data": {
      "text/plain": [
       "[(0, [0, 2, 4, 6, 8]), (1, [1, 3, 5, 7, 9])]"
      ]
     },
     "execution_count": 20,
     "metadata": {},
     "output_type": "execute_result"
    }
   ],
   "source": [
    "b = db.from_sequence(list(range(10)))\n",
    "b.groupby(lambda x: x % 2).compute()"
   ]
  },
  {
   "cell_type": "code",
   "execution_count": 21,
   "metadata": {
    "execution": {
     "iopub.execute_input": "2022-06-06T15:40:28.524993Z",
     "iopub.status.busy": "2022-06-06T15:40:28.524676Z",
     "iopub.status.idle": "2022-06-06T15:40:28.708561Z",
     "shell.execute_reply": "2022-06-06T15:40:28.707832Z"
    }
   },
   "outputs": [
    {
     "data": {
      "text/plain": [
       "[(0, 8), (1, 9)]"
      ]
     },
     "execution_count": 21,
     "metadata": {},
     "output_type": "execute_result"
    }
   ],
   "source": [
    "b.groupby(lambda x: x % 2).starmap(lambda k, v: (k, max(v))).compute()"
   ]
  },
  {
   "cell_type": "markdown",
   "metadata": {},
   "source": [
    "### `foldby`"
   ]
  },
  {
   "cell_type": "markdown",
   "metadata": {},
   "source": [
    "Foldby can be quite odd at first.  It is similar to the following functions from other libraries:\n",
    "\n",
    "*  [`toolz.reduceby`](http://toolz.readthedocs.io/en/latest/streaming-analytics.html#streaming-split-apply-combine)\n",
    "*  [`pyspark.RDD.combineByKey`](http://abshinn.github.io/python/apache-spark/2014/10/11/using-combinebykey-in-apache-spark/)\n",
    "\n",
    "When using `foldby` you provide \n",
    "\n",
    "1.  A key function on which to group elements\n",
    "2.  A binary operator such as you would pass to `reduce` that you use to perform reduction per each group\n",
    "3.  A combine binary operator that can combine the results of two `reduce` calls on different parts of your dataset.\n",
    "\n",
    "Your reduction must be associative.  It will happen in parallel in each of the partitions of your dataset.  Then all of these intermediate results will be combined by the `combine` binary operator."
   ]
  },
  {
   "cell_type": "code",
   "execution_count": 22,
   "metadata": {
    "execution": {
     "iopub.execute_input": "2022-06-06T15:40:28.713361Z",
     "iopub.status.busy": "2022-06-06T15:40:28.713068Z",
     "iopub.status.idle": "2022-06-06T15:40:28.774564Z",
     "shell.execute_reply": "2022-06-06T15:40:28.773721Z"
    }
   },
   "outputs": [
    {
     "data": {
      "text/plain": [
       "[(0, 8), (1, 9)]"
      ]
     },
     "execution_count": 22,
     "metadata": {},
     "output_type": "execute_result"
    }
   ],
   "source": [
    "b.foldby(lambda x: x % 2, binop=max, combine=max).compute()"
   ]
  },
  {
   "cell_type": "markdown",
   "metadata": {},
   "source": [
    "### Example with account data"
   ]
  },
  {
   "cell_type": "markdown",
   "metadata": {},
   "source": [
    "We find the number of people with the same name."
   ]
  },
  {
   "cell_type": "code",
   "execution_count": 23,
   "metadata": {
    "execution": {
     "iopub.execute_input": "2022-06-06T15:40:28.778717Z",
     "iopub.status.busy": "2022-06-06T15:40:28.778164Z",
     "iopub.status.idle": "2022-06-06T15:40:32.760147Z",
     "shell.execute_reply": "2022-06-06T15:40:32.759346Z"
    }
   },
   "outputs": [
    {
     "name": "stdout",
     "output_type": "stream",
     "text": [
      "[('Alice', 96), ('Alice', 96), ('Alice', 96), ('Alice', 111), ('Bob', 101), ('Bob', 102), ('Bob', 106), ('Bob', 123), ('Charlie', 120), ('Charlie', 120), ('Charlie', 260), ('Dan', 112), ('Dan', 112), ('Dan', 113), ('Dan', 132), ('Edith', 44), ('Edith', 46), ('Edith', 46), ('Edith', 51), ('Frank', 156), ('Frank', 156), ('Frank', 156), ('Frank', 182), ('George', 96), ('George', 96), ('George', 96), ('George', 112), ('Hannah', 131), ('Hannah', 132), ('Hannah', 132), ('Hannah', 154), ('Ingrid', 83), ('Ingrid', 85), ('Ingrid', 85), ('Ingrid', 100), ('Jerry', 120), ('Jerry', 120), ('Jerry', 120), ('Jerry', 140), ('Kevin', 91), ('Kevin', 93), ('Kevin', 94), ('Kevin', 109), ('Laura', 166), ('Laura', 167), ('Laura', 171), ('Laura', 198), ('Michael', 142), ('Michael', 143), ('Michael', 148), ('Michael', 168), ('Norbert', 120), ('Norbert', 120), ('Norbert', 260), ('Oliver', 36), ('Oliver', 36), ('Oliver', 36), ('Oliver', 42), ('Patricia', 143), ('Patricia', 143), ('Patricia', 144), ('Patricia', 165), ('Quinn', 86), ('Quinn', 104), ('Quinn', 183), ('Ray', 96), ('Ray', 96), ('Ray', 96), ('Ray', 112), ('Sarah', 108), ('Sarah', 108), ('Sarah', 108), ('Sarah', 124), ('Tim', 177), ('Tim', 178), ('Tim', 179), ('Tim', 208), ('Ursula', 96), ('Ursula', 96), ('Ursula', 96), ('Ursula', 112), ('Victor', 97), ('Victor', 100), ('Victor', 100), ('Victor', 112), ('Wendy', 107), ('Wendy', 108), ('Wendy', 108), ('Wendy', 126), ('Xavier', 117), ('Xavier', 118), ('Xavier', 119), ('Xavier', 137), ('Yvonne', 96), ('Yvonne', 96), ('Yvonne', 96), ('Yvonne', 112), ('Zelda', 147), ('Zelda', 147), ('Zelda', 149), ('Zelda', 177)]\n",
      "CPU times: user 1.02 s, sys: 63.6 ms, total: 1.08 s\n",
      "Wall time: 3.97 s\n"
     ]
    }
   ],
   "source": [
    "%%time\n",
    "# Warning, this one takes a while...\n",
    "result = js.groupby(lambda item: item['name']).starmap(lambda k, v: (k, len(v))).compute()\n",
    "print(sorted(result))"
   ]
  },
  {
   "cell_type": "code",
   "execution_count": 24,
   "metadata": {
    "execution": {
     "iopub.execute_input": "2022-06-06T15:40:32.775756Z",
     "iopub.status.busy": "2022-06-06T15:40:32.769846Z",
     "iopub.status.idle": "2022-06-06T15:40:33.300758Z",
     "shell.execute_reply": "2022-06-06T15:40:33.299990Z"
    }
   },
   "outputs": [
    {
     "name": "stdout",
     "output_type": "stream",
     "text": [
      "[('Alice', 399), ('Bob', 432), ('Charlie', 500), ('Dan', 469), ('Edith', 187), ('Frank', 650), ('George', 400), ('Hannah', 549), ('Ingrid', 353), ('Jerry', 500), ('Kevin', 387), ('Laura', 702), ('Michael', 601), ('Norbert', 500), ('Oliver', 150), ('Patricia', 595), ('Quinn', 373), ('Ray', 400), ('Sarah', 448), ('Tim', 742), ('Ursula', 400), ('Victor', 409), ('Wendy', 449), ('Xavier', 491), ('Yvonne', 400), ('Zelda', 620)]\n",
      "CPU times: user 132 ms, sys: 12.6 ms, total: 145 ms\n",
      "Wall time: 518 ms\n"
     ]
    }
   ],
   "source": [
    "%%time\n",
    "# This one is comparatively fast and produces the same result.\n",
    "from operator import add\n",
    "def incr(tot, _):\n",
    "    return tot + 1\n",
    "\n",
    "result = js.foldby(key='name', \n",
    "                   binop=incr, \n",
    "                   initial=0, \n",
    "                   combine=add, \n",
    "                   combine_initial=0).compute()\n",
    "print(sorted(result))"
   ]
  },
  {
   "cell_type": "markdown",
   "metadata": {},
   "source": [
    "### Exercise: compute total amount per name"
   ]
  },
  {
   "cell_type": "markdown",
   "metadata": {},
   "source": [
    "We want to groupby (or foldby) the `name` key, then add up the all of the amounts for each name.\n",
    "\n",
    "Steps\n",
    "\n",
    "1.  Create a small function that, given a dictionary like \n",
    "\n",
    "        {'name': 'Alice', 'transactions': [{'amount': 1, 'id': 123}, {'amount': 2, 'id': 456}]}\n",
    "        \n",
    "    produces the sum of the amounts, e.g. `3`\n",
    "    \n",
    "2.  Slightly change the binary operator of the `foldby` example above so that the binary operator doesn't count the number of entries, but instead accumulates the sum of the amounts."
   ]
  },
  {
   "cell_type": "code",
   "execution_count": 25,
   "metadata": {
    "execution": {
     "iopub.execute_input": "2022-06-06T15:40:33.304971Z",
     "iopub.status.busy": "2022-06-06T15:40:33.304351Z",
     "iopub.status.idle": "2022-06-06T15:40:33.308375Z",
     "shell.execute_reply": "2022-06-06T15:40:33.307412Z"
    }
   },
   "outputs": [],
   "source": [
    "# Your code here..."
   ]
  },
  {
   "cell_type": "markdown",
   "metadata": {},
   "source": [
    "## DataFrames"
   ]
  },
  {
   "cell_type": "markdown",
   "metadata": {},
   "source": [
    "For the same reasons that Pandas is often faster than pure Python, `dask.dataframe` can be faster than `dask.bag`.  We will work more with DataFrames later, but from the point of view of a Bag, it is frequently the end-point of the \"messy\" part of data ingestion—once the data can be made into a data-frame, then complex split-apply-combine logic will become much more straight-forward and efficient.\n",
    "\n",
    "You can transform a bag with a simple tuple or flat dictionary structure into a `dask.dataframe` with the `to_dataframe` method."
   ]
  },
  {
   "cell_type": "code",
   "execution_count": 26,
   "metadata": {
    "execution": {
     "iopub.execute_input": "2022-06-06T15:40:33.312155Z",
     "iopub.status.busy": "2022-06-06T15:40:33.311668Z",
     "iopub.status.idle": "2022-06-06T15:40:33.896177Z",
     "shell.execute_reply": "2022-06-06T15:40:33.895281Z"
    }
   },
   "outputs": [
    {
     "name": "stderr",
     "output_type": "stream",
     "text": [
      "/usr/share/miniconda3/envs/dask-tutorial/lib/python3.8/site-packages/dask/dataframe/backends.py:187: FutureWarning: pandas.Int64Index is deprecated and will be removed from pandas in a future version. Use pandas.Index with the appropriate dtype instead.\n",
      "  _numeric_index_types = (pd.Int64Index, pd.Float64Index, pd.UInt64Index)\n",
      "/usr/share/miniconda3/envs/dask-tutorial/lib/python3.8/site-packages/dask/dataframe/backends.py:187: FutureWarning: pandas.Float64Index is deprecated and will be removed from pandas in a future version. Use pandas.Index with the appropriate dtype instead.\n",
      "  _numeric_index_types = (pd.Int64Index, pd.Float64Index, pd.UInt64Index)\n",
      "/usr/share/miniconda3/envs/dask-tutorial/lib/python3.8/site-packages/dask/dataframe/backends.py:187: FutureWarning: pandas.UInt64Index is deprecated and will be removed from pandas in a future version. Use pandas.Index with the appropriate dtype instead.\n",
      "  _numeric_index_types = (pd.Int64Index, pd.Float64Index, pd.UInt64Index)\n"
     ]
    },
    {
     "data": {
      "text/html": [
       "<div>\n",
       "<style scoped>\n",
       "    .dataframe tbody tr th:only-of-type {\n",
       "        vertical-align: middle;\n",
       "    }\n",
       "\n",
       "    .dataframe tbody tr th {\n",
       "        vertical-align: top;\n",
       "    }\n",
       "\n",
       "    .dataframe thead th {\n",
       "        text-align: right;\n",
       "    }\n",
       "</style>\n",
       "<table border=\"1\" class=\"dataframe\">\n",
       "  <thead>\n",
       "    <tr style=\"text-align: right;\">\n",
       "      <th></th>\n",
       "      <th>id</th>\n",
       "      <th>name</th>\n",
       "      <th>transactions</th>\n",
       "    </tr>\n",
       "  </thead>\n",
       "  <tbody>\n",
       "    <tr>\n",
       "      <th>0</th>\n",
       "      <td>0</td>\n",
       "      <td>Yvonne</td>\n",
       "      <td>[{'transaction-id': 258, 'amount': 4556}, {'tr...</td>\n",
       "    </tr>\n",
       "    <tr>\n",
       "      <th>1</th>\n",
       "      <td>1</td>\n",
       "      <td>Laura</td>\n",
       "      <td>[{'transaction-id': 444, 'amount': 741}, {'tra...</td>\n",
       "    </tr>\n",
       "    <tr>\n",
       "      <th>2</th>\n",
       "      <td>2</td>\n",
       "      <td>Quinn</td>\n",
       "      <td>[{'transaction-id': 6369, 'amount': 29}]</td>\n",
       "    </tr>\n",
       "    <tr>\n",
       "      <th>3</th>\n",
       "      <td>3</td>\n",
       "      <td>Norbert</td>\n",
       "      <td>[{'transaction-id': 1365, 'amount': 56}, {'tra...</td>\n",
       "    </tr>\n",
       "    <tr>\n",
       "      <th>4</th>\n",
       "      <td>4</td>\n",
       "      <td>Jerry</td>\n",
       "      <td>[{'transaction-id': 244, 'amount': 470}, {'tra...</td>\n",
       "    </tr>\n",
       "  </tbody>\n",
       "</table>\n",
       "</div>"
      ],
      "text/plain": [
       "   id     name                                       transactions\n",
       "0   0   Yvonne  [{'transaction-id': 258, 'amount': 4556}, {'tr...\n",
       "1   1    Laura  [{'transaction-id': 444, 'amount': 741}, {'tra...\n",
       "2   2    Quinn           [{'transaction-id': 6369, 'amount': 29}]\n",
       "3   3  Norbert  [{'transaction-id': 1365, 'amount': 56}, {'tra...\n",
       "4   4    Jerry  [{'transaction-id': 244, 'amount': 470}, {'tra..."
      ]
     },
     "execution_count": 26,
     "metadata": {},
     "output_type": "execute_result"
    }
   ],
   "source": [
    "df1 = js.to_dataframe()\n",
    "df1.head()"
   ]
  },
  {
   "cell_type": "markdown",
   "metadata": {},
   "source": [
    "This now looks like a well-defined DataFrame, and we can apply Pandas-like computations to it efficiently."
   ]
  },
  {
   "cell_type": "markdown",
   "metadata": {},
   "source": [
    "Using a Dask DataFrame, how long does it take to do our prior computation of numbers of people with the same name?  It turns out that `dask.dataframe.groupby()` beats `dask.bag.groupby()` by more than an order of magnitude; but it still cannot match `dask.bag.foldby()` for this case."
   ]
  },
  {
   "cell_type": "code",
   "execution_count": 27,
   "metadata": {
    "execution": {
     "iopub.execute_input": "2022-06-06T15:40:33.901047Z",
     "iopub.status.busy": "2022-06-06T15:40:33.900486Z",
     "iopub.status.idle": "2022-06-06T15:40:35.392296Z",
     "shell.execute_reply": "2022-06-06T15:40:35.391543Z"
    }
   },
   "outputs": [
    {
     "name": "stdout",
     "output_type": "stream",
     "text": [
      "CPU times: user 240 ms, sys: 30.6 ms, total: 270 ms\n",
      "Wall time: 1.48 s\n"
     ]
    },
    {
     "data": {
      "text/plain": [
       "name\n",
       "Alice      399\n",
       "Bob        432\n",
       "Charlie    500\n",
       "Dan        469\n",
       "Edith      187\n",
       "Name: id, dtype: int64"
      ]
     },
     "execution_count": 27,
     "metadata": {},
     "output_type": "execute_result"
    }
   ],
   "source": [
    "%time df1.groupby('name').id.count().compute().head()"
   ]
  },
  {
   "cell_type": "markdown",
   "metadata": {},
   "source": [
    "### Denormalization"
   ]
  },
  {
   "cell_type": "markdown",
   "metadata": {},
   "source": [
    "This DataFrame format is less-than-optimal because the `transactions` column is filled with nested data so Pandas has to revert to `object` dtype, which is quite slow in Pandas.  Ideally we want to transform to a dataframe only after we have flattened our data so that each record is a single `int`, `string`, `float`, etc.."
   ]
  },
  {
   "cell_type": "code",
   "execution_count": 28,
   "metadata": {
    "execution": {
     "iopub.execute_input": "2022-06-06T15:40:35.396059Z",
     "iopub.status.busy": "2022-06-06T15:40:35.395771Z",
     "iopub.status.idle": "2022-06-06T15:40:35.425892Z",
     "shell.execute_reply": "2022-06-06T15:40:35.425256Z"
    }
   },
   "outputs": [
    {
     "data": {
      "text/plain": [
       "({'id': 0, 'name': 'Yvonne', 'amount': 4556, 'transaction-id': 258},\n",
       " {'id': 0, 'name': 'Yvonne', 'amount': 4842, 'transaction-id': 2117},\n",
       " {'id': 0, 'name': 'Yvonne', 'amount': 3950, 'transaction-id': 2313})"
      ]
     },
     "execution_count": 28,
     "metadata": {},
     "output_type": "execute_result"
    }
   ],
   "source": [
    "def denormalize(record):\n",
    "    # returns a list for each person, one item per transaction\n",
    "    return [{'id': record['id'], \n",
    "             'name': record['name'], \n",
    "             'amount': transaction['amount'], \n",
    "             'transaction-id': transaction['transaction-id']}\n",
    "            for transaction in record['transactions']]\n",
    "\n",
    "transactions = js.map(denormalize).flatten()\n",
    "transactions.take(3)"
   ]
  },
  {
   "cell_type": "code",
   "execution_count": 29,
   "metadata": {
    "execution": {
     "iopub.execute_input": "2022-06-06T15:40:35.429386Z",
     "iopub.status.busy": "2022-06-06T15:40:35.428842Z",
     "iopub.status.idle": "2022-06-06T15:40:35.520757Z",
     "shell.execute_reply": "2022-06-06T15:40:35.519896Z"
    }
   },
   "outputs": [
    {
     "data": {
      "text/html": [
       "<div>\n",
       "<style scoped>\n",
       "    .dataframe tbody tr th:only-of-type {\n",
       "        vertical-align: middle;\n",
       "    }\n",
       "\n",
       "    .dataframe tbody tr th {\n",
       "        vertical-align: top;\n",
       "    }\n",
       "\n",
       "    .dataframe thead th {\n",
       "        text-align: right;\n",
       "    }\n",
       "</style>\n",
       "<table border=\"1\" class=\"dataframe\">\n",
       "  <thead>\n",
       "    <tr style=\"text-align: right;\">\n",
       "      <th></th>\n",
       "      <th>id</th>\n",
       "      <th>name</th>\n",
       "      <th>amount</th>\n",
       "      <th>transaction-id</th>\n",
       "    </tr>\n",
       "  </thead>\n",
       "  <tbody>\n",
       "    <tr>\n",
       "      <th>0</th>\n",
       "      <td>0</td>\n",
       "      <td>Yvonne</td>\n",
       "      <td>4556</td>\n",
       "      <td>258</td>\n",
       "    </tr>\n",
       "    <tr>\n",
       "      <th>1</th>\n",
       "      <td>0</td>\n",
       "      <td>Yvonne</td>\n",
       "      <td>4842</td>\n",
       "      <td>2117</td>\n",
       "    </tr>\n",
       "    <tr>\n",
       "      <th>2</th>\n",
       "      <td>0</td>\n",
       "      <td>Yvonne</td>\n",
       "      <td>3950</td>\n",
       "      <td>2313</td>\n",
       "    </tr>\n",
       "    <tr>\n",
       "      <th>3</th>\n",
       "      <td>0</td>\n",
       "      <td>Yvonne</td>\n",
       "      <td>4135</td>\n",
       "      <td>2490</td>\n",
       "    </tr>\n",
       "    <tr>\n",
       "      <th>4</th>\n",
       "      <td>0</td>\n",
       "      <td>Yvonne</td>\n",
       "      <td>4441</td>\n",
       "      <td>2554</td>\n",
       "    </tr>\n",
       "  </tbody>\n",
       "</table>\n",
       "</div>"
      ],
      "text/plain": [
       "   id    name  amount  transaction-id\n",
       "0   0  Yvonne    4556             258\n",
       "1   0  Yvonne    4842            2117\n",
       "2   0  Yvonne    3950            2313\n",
       "3   0  Yvonne    4135            2490\n",
       "4   0  Yvonne    4441            2554"
      ]
     },
     "execution_count": 29,
     "metadata": {},
     "output_type": "execute_result"
    }
   ],
   "source": [
    "df = transactions.to_dataframe()\n",
    "df.head()"
   ]
  },
  {
   "cell_type": "code",
   "execution_count": 30,
   "metadata": {
    "execution": {
     "iopub.execute_input": "2022-06-06T15:40:35.525904Z",
     "iopub.status.busy": "2022-06-06T15:40:35.524894Z",
     "iopub.status.idle": "2022-06-06T15:40:36.723903Z",
     "shell.execute_reply": "2022-06-06T15:40:36.722838Z"
    }
   },
   "outputs": [
    {
     "name": "stdout",
     "output_type": "stream",
     "text": [
      "CPU times: user 217 ms, sys: 5.88 ms, total: 223 ms\n",
      "Wall time: 1.19 s\n"
     ]
    },
    {
     "data": {
      "text/plain": [
       "name\n",
       "Alice       11312\n",
       "Bob         16588\n",
       "Charlie     20094\n",
       "Dan         22887\n",
       "Edith        7102\n",
       "Frank       22588\n",
       "George      27962\n",
       "Hannah      19904\n",
       "Ingrid       9494\n",
       "Jerry       15751\n",
       "Kevin       16572\n",
       "Laura       38006\n",
       "Michael     15381\n",
       "Norbert     18425\n",
       "Oliver       2805\n",
       "Patricia    15872\n",
       "Quinn       14756\n",
       "Ray         25724\n",
       "Sarah       12851\n",
       "Tim         39095\n",
       "Ursula      17981\n",
       "Victor      22392\n",
       "Wendy       17511\n",
       "Xavier      22108\n",
       "Yvonne      17435\n",
       "Zelda       29404\n",
       "Name: transaction-id, dtype: int64"
      ]
     },
     "execution_count": 30,
     "metadata": {},
     "output_type": "execute_result"
    }
   ],
   "source": [
    "%%time\n",
    "# number of transactions per name\n",
    "# note that the time here includes the data load and ingestion\n",
    "df.groupby('name')['transaction-id'].count().compute()"
   ]
  },
  {
   "cell_type": "markdown",
   "metadata": {},
   "source": [
    "## Limitations"
   ]
  },
  {
   "cell_type": "markdown",
   "metadata": {},
   "source": [
    "Bags provide very general computation (any Python function.)  This generality\n",
    "comes at cost.  Bags have the following known limitations\n",
    "\n",
    "1.  Bag operations tend to be slower than array/dataframe computations in the\n",
    "    same way that Python tends to be slower than NumPy/Pandas\n",
    "2.  ``Bag.groupby`` is slow.  You should try to use ``Bag.foldby`` if possible.\n",
    "    Using ``Bag.foldby`` requires more thought. Even better, consider creating\n",
    "    a normalised dataframe."
   ]
  },
  {
   "cell_type": "markdown",
   "metadata": {},
   "source": [
    "## Learn More\n",
    "\n",
    "* [Bag documentation](https://docs.dask.org/en/latest/bag.html)\n",
    "* [Bag screencast](https://youtu.be/-qIiJ1XtSv0)\n",
    "* [Bag API](https://docs.dask.org/en/latest/bag-api.html)\n",
    "* [Bag examples](https://examples.dask.org/bag.html)"
   ]
  },
  {
   "cell_type": "markdown",
   "metadata": {},
   "source": [
    "## Shutdown"
   ]
  },
  {
   "cell_type": "code",
   "execution_count": 31,
   "metadata": {
    "execution": {
     "iopub.execute_input": "2022-06-06T15:40:36.728969Z",
     "iopub.status.busy": "2022-06-06T15:40:36.728254Z",
     "iopub.status.idle": "2022-06-06T15:40:37.301313Z",
     "shell.execute_reply": "2022-06-06T15:40:37.300559Z"
    }
   },
   "outputs": [
    {
     "name": "stderr",
     "output_type": "stream",
     "text": [
      "/usr/share/miniconda3/envs/dask-tutorial/lib/python3.8/site-packages/dask/dataframe/backends.py:187: FutureWarning: pandas.Int64Index is deprecated and will be removed from pandas in a future version. Use pandas.Index with the appropriate dtype instead.\n",
      "  _numeric_index_types = (pd.Int64Index, pd.Float64Index, pd.UInt64Index)\n",
      "/usr/share/miniconda3/envs/dask-tutorial/lib/python3.8/site-packages/dask/dataframe/backends.py:187: FutureWarning: pandas.Float64Index is deprecated and will be removed from pandas in a future version. Use pandas.Index with the appropriate dtype instead.\n",
      "  _numeric_index_types = (pd.Int64Index, pd.Float64Index, pd.UInt64Index)\n",
      "/usr/share/miniconda3/envs/dask-tutorial/lib/python3.8/site-packages/dask/dataframe/backends.py:187: FutureWarning: pandas.UInt64Index is deprecated and will be removed from pandas in a future version. Use pandas.Index with the appropriate dtype instead.\n",
      "  _numeric_index_types = (pd.Int64Index, pd.Float64Index, pd.UInt64Index)\n",
      "/usr/share/miniconda3/envs/dask-tutorial/lib/python3.8/site-packages/dask/dataframe/backends.py:187: FutureWarning: pandas.Int64Index is deprecated and will be removed from pandas in a future version. Use pandas.Index with the appropriate dtype instead.\n",
      "  _numeric_index_types = (pd.Int64Index, pd.Float64Index, pd.UInt64Index)\n",
      "/usr/share/miniconda3/envs/dask-tutorial/lib/python3.8/site-packages/dask/dataframe/backends.py:187: FutureWarning: pandas.Float64Index is deprecated and will be removed from pandas in a future version. Use pandas.Index with the appropriate dtype instead.\n",
      "  _numeric_index_types = (pd.Int64Index, pd.Float64Index, pd.UInt64Index)\n",
      "/usr/share/miniconda3/envs/dask-tutorial/lib/python3.8/site-packages/dask/dataframe/backends.py:187: FutureWarning: pandas.UInt64Index is deprecated and will be removed from pandas in a future version. Use pandas.Index with the appropriate dtype instead.\n",
      "  _numeric_index_types = (pd.Int64Index, pd.Float64Index, pd.UInt64Index)\n",
      "/usr/share/miniconda3/envs/dask-tutorial/lib/python3.8/site-packages/dask/dataframe/backends.py:187: FutureWarning: pandas.Int64Index is deprecated and will be removed from pandas in a future version. Use pandas.Index with the appropriate dtype instead.\n",
      "  _numeric_index_types = (pd.Int64Index, pd.Float64Index, pd.UInt64Index)\n",
      "/usr/share/miniconda3/envs/dask-tutorial/lib/python3.8/site-packages/dask/dataframe/backends.py:187: FutureWarning: pandas.Float64Index is deprecated and will be removed from pandas in a future version. Use pandas.Index with the appropriate dtype instead.\n",
      "  _numeric_index_types = (pd.Int64Index, pd.Float64Index, pd.UInt64Index)\n",
      "/usr/share/miniconda3/envs/dask-tutorial/lib/python3.8/site-packages/dask/dataframe/backends.py:187: FutureWarning: pandas.UInt64Index is deprecated and will be removed from pandas in a future version. Use pandas.Index with the appropriate dtype instead.\n",
      "  _numeric_index_types = (pd.Int64Index, pd.Float64Index, pd.UInt64Index)\n",
      "/usr/share/miniconda3/envs/dask-tutorial/lib/python3.8/site-packages/dask/dataframe/backends.py:187: FutureWarning: pandas.Int64Index is deprecated and will be removed from pandas in a future version. Use pandas.Index with the appropriate dtype instead.\n",
      "  _numeric_index_types = (pd.Int64Index, pd.Float64Index, pd.UInt64Index)\n",
      "/usr/share/miniconda3/envs/dask-tutorial/lib/python3.8/site-packages/dask/dataframe/backends.py:187: FutureWarning: pandas.Float64Index is deprecated and will be removed from pandas in a future version. Use pandas.Index with the appropriate dtype instead.\n",
      "  _numeric_index_types = (pd.Int64Index, pd.Float64Index, pd.UInt64Index)\n",
      "/usr/share/miniconda3/envs/dask-tutorial/lib/python3.8/site-packages/dask/dataframe/backends.py:187: FutureWarning: pandas.UInt64Index is deprecated and will be removed from pandas in a future version. Use pandas.Index with the appropriate dtype instead.\n",
      "  _numeric_index_types = (pd.Int64Index, pd.Float64Index, pd.UInt64Index)\n"
     ]
    }
   ],
   "source": [
    "client.shutdown()"
   ]
  }
 ],
 "metadata": {
  "anaconda-cloud": {},
  "kernelspec": {
   "display_name": "Python 3",
   "language": "python",
   "name": "python3"
  },
  "language_info": {
   "codemirror_mode": {
    "name": "ipython",
    "version": 3
   },
   "file_extension": ".py",
   "mimetype": "text/x-python",
   "name": "python",
   "nbconvert_exporter": "python",
   "pygments_lexer": "ipython3",
   "version": "3.8.13"
  }
 },
 "nbformat": 4,
 "nbformat_minor": 4
}
