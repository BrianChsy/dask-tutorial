{
 "cells": [
  {
   "cell_type": "markdown",
   "metadata": {},
   "source": [
    "<img src=\"images/dask_horizontal.svg\" align=\"right\" width=\"30%\">"
   ]
  },
  {
   "cell_type": "markdown",
   "metadata": {},
   "source": [
    "# Bag: Parallel Lists for semi-structured data"
   ]
  },
  {
   "cell_type": "markdown",
   "metadata": {},
   "source": [
    "Dask-bag excels in processing data that can be represented as a sequence of arbitrary inputs. We'll refer to this as \"messy\" data, because it can contain complex nested structures, missing fields, mixtures of data types, etc. The *functional* programming style fits very nicely with standard Python iteration, such as can be found in the `itertools` module.\n",
    "\n",
    "Messy data is often encountered at the beginning of data processing pipelines when large volumes of raw data are first consumed. The initial set of data might be JSON, CSV, XML, or any other format that does not enforce strict structure and datatypes.\n",
    "For this reason, the initial data massaging and processing is often done with Python `list`s, `dict`s, and `set`s.\n",
    "\n",
    "These core data structures are optimized for general-purpose storage and processing.  Adding streaming computation with iterators/generator expressions or libraries like `itertools` or [`toolz`](https://toolz.readthedocs.io/en/latest/) let us process large volumes in a small space.  If we combine this with parallel processing then we can churn through a fair amount of data.\n",
    "\n",
    "Dask.bag is a high-level Dask collection to automate common workloads of this form.  In a nutshell\n",
    "\n",
    "    dask.bag = map, filter, toolz + parallel execution\n",
    "    \n",
    "**Related Documentation**\n",
    "\n",
    "* [Bag documentation](https://docs.dask.org/en/latest/bag.html)\n",
    "* [Bag screencast](https://youtu.be/-qIiJ1XtSv0)\n",
    "* [Bag API](https://docs.dask.org/en/latest/bag-api.html)\n",
    "* [Bag examples](https://examples.dask.org/bag.html)"
   ]
  },
  {
   "cell_type": "markdown",
   "metadata": {},
   "source": [
    "## Create data"
   ]
  },
  {
   "cell_type": "code",
   "execution_count": 1,
   "metadata": {
    "execution": {
     "iopub.execute_input": "2022-05-19T17:18:57.414301Z",
     "iopub.status.busy": "2022-05-19T17:18:57.413801Z",
     "iopub.status.idle": "2022-05-19T17:18:58.111252Z",
     "shell.execute_reply": "2022-05-19T17:18:58.110293Z"
    }
   },
   "outputs": [],
   "source": [
    "%run prep.py -d accounts"
   ]
  },
  {
   "cell_type": "markdown",
   "metadata": {},
   "source": [
    "## Setup"
   ]
  },
  {
   "cell_type": "markdown",
   "metadata": {},
   "source": [
    "Again, we'll use the distributed scheduler. Schedulers will be explained in depth [later](05_distributed.ipynb)."
   ]
  },
  {
   "cell_type": "code",
   "execution_count": 2,
   "metadata": {
    "execution": {
     "iopub.execute_input": "2022-05-19T17:18:58.116037Z",
     "iopub.status.busy": "2022-05-19T17:18:58.115650Z",
     "iopub.status.idle": "2022-05-19T17:19:00.596707Z",
     "shell.execute_reply": "2022-05-19T17:19:00.595314Z"
    }
   },
   "outputs": [],
   "source": [
    "from dask.distributed import Client\n",
    "\n",
    "client = Client(n_workers=4)"
   ]
  },
  {
   "cell_type": "markdown",
   "metadata": {},
   "source": [
    "## Creation"
   ]
  },
  {
   "cell_type": "markdown",
   "metadata": {},
   "source": [
    "You can create a `Bag` from a Python sequence, from files, from data on S3, etc.\n",
    "We demonstrate using `.take()` to show elements of the data. (Doing `.take(1)` results in a tuple with one element)\n",
    "\n",
    "Note that the data are partitioned into blocks, and there are many items per block. In the first example, the two partitions contain five elements each, and in the following two, each file is partitioned into one or more bytes blocks."
   ]
  },
  {
   "cell_type": "code",
   "execution_count": 3,
   "metadata": {
    "execution": {
     "iopub.execute_input": "2022-05-19T17:19:00.602058Z",
     "iopub.status.busy": "2022-05-19T17:19:00.601495Z",
     "iopub.status.idle": "2022-05-19T17:19:00.934319Z",
     "shell.execute_reply": "2022-05-19T17:19:00.933449Z"
    }
   },
   "outputs": [
    {
     "data": {
      "text/plain": [
       "(1, 2, 3)"
      ]
     },
     "execution_count": 3,
     "metadata": {},
     "output_type": "execute_result"
    }
   ],
   "source": [
    "# each element is an integer\n",
    "import dask.bag as db\n",
    "b = db.from_sequence([1, 2, 3, 4, 5, 6, 7, 8, 9, 10], npartitions=2)\n",
    "b.take(3)"
   ]
  },
  {
   "cell_type": "code",
   "execution_count": 4,
   "metadata": {
    "execution": {
     "iopub.execute_input": "2022-05-19T17:19:00.937962Z",
     "iopub.status.busy": "2022-05-19T17:19:00.937451Z",
     "iopub.status.idle": "2022-05-19T17:19:01.045155Z",
     "shell.execute_reply": "2022-05-19T17:19:01.044326Z"
    }
   },
   "outputs": [
    {
     "data": {
      "text/plain": [
       "('{\"id\": 0, \"name\": \"George\", \"transactions\": [{\"transaction-id\": 523, \"amount\": 760}, {\"transaction-id\": 990, \"amount\": 787}, {\"transaction-id\": 3452, \"amount\": 812}, {\"transaction-id\": 3700, \"amount\": 798}, {\"transaction-id\": 4313, \"amount\": 735}, {\"transaction-id\": 4572, \"amount\": 806}, {\"transaction-id\": 4703, \"amount\": 812}, {\"transaction-id\": 5487, \"amount\": 760}, {\"transaction-id\": 7035, \"amount\": 699}, {\"transaction-id\": 7301, \"amount\": 639}, {\"transaction-id\": 8098, \"amount\": 789}, {\"transaction-id\": 9287, \"amount\": 764}]}\\n',)"
      ]
     },
     "execution_count": 4,
     "metadata": {},
     "output_type": "execute_result"
    }
   ],
   "source": [
    "# each element is a text file, where each line is a JSON object\n",
    "# note that the compression is handled automatically\n",
    "import os\n",
    "b = db.read_text(os.path.join('data', 'accounts.*.json.gz'))\n",
    "b.take(1)"
   ]
  },
  {
   "cell_type": "code",
   "execution_count": 5,
   "metadata": {
    "execution": {
     "iopub.execute_input": "2022-05-19T17:19:01.048732Z",
     "iopub.status.busy": "2022-05-19T17:19:01.048438Z",
     "iopub.status.idle": "2022-05-19T17:19:01.053605Z",
     "shell.execute_reply": "2022-05-19T17:19:01.052891Z"
    }
   },
   "outputs": [
    {
     "data": {
      "text/plain": [
       "'s3://dask-data/nyc-taxi/2015/yellow_tripdata_2015-01.csv'"
      ]
     },
     "execution_count": 5,
     "metadata": {},
     "output_type": "execute_result"
    }
   ],
   "source": [
    "# Edit sources.py to configure source locations\n",
    "import sources\n",
    "sources.bag_url"
   ]
  },
  {
   "cell_type": "code",
   "execution_count": 6,
   "metadata": {
    "execution": {
     "iopub.execute_input": "2022-05-19T17:19:01.057250Z",
     "iopub.status.busy": "2022-05-19T17:19:01.056425Z",
     "iopub.status.idle": "2022-05-19T17:19:02.248838Z",
     "shell.execute_reply": "2022-05-19T17:19:02.247228Z"
    }
   },
   "outputs": [
    {
     "data": {
      "text/plain": [
       "('VendorID,tpep_pickup_datetime,tpep_dropoff_datetime,passenger_count,trip_distance,pickup_longitude,pickup_latitude,RateCodeID,store_and_fwd_flag,dropoff_longitude,dropoff_latitude,payment_type,fare_amount,extra,mta_tax,tip_amount,tolls_amount,improvement_surcharge,total_amount\\n',)"
      ]
     },
     "execution_count": 6,
     "metadata": {},
     "output_type": "execute_result"
    }
   ],
   "source": [
    "# Requires `s3fs` library\n",
    "# each partition is a remote CSV text file\n",
    "b = db.read_text(sources.bag_url,\n",
    "                 storage_options={'anon': True})\n",
    "b.take(1)"
   ]
  },
  {
   "cell_type": "markdown",
   "metadata": {},
   "source": [
    "## Manipulation"
   ]
  },
  {
   "cell_type": "markdown",
   "metadata": {},
   "source": [
    "`Bag` objects hold the standard functional API found in projects like the Python standard library, `toolz`, or `pyspark`, including `map`, `filter`, `groupby`, etc..\n",
    "\n",
    "Operations on `Bag` objects create new bags.  Call the `.compute()` method to trigger execution, as we saw for `Delayed` objects.  "
   ]
  },
  {
   "cell_type": "code",
   "execution_count": 7,
   "metadata": {
    "execution": {
     "iopub.execute_input": "2022-05-19T17:19:02.253328Z",
     "iopub.status.busy": "2022-05-19T17:19:02.252666Z",
     "iopub.status.idle": "2022-05-19T17:19:02.262304Z",
     "shell.execute_reply": "2022-05-19T17:19:02.261142Z"
    }
   },
   "outputs": [
    {
     "data": {
      "text/plain": [
       "dask.bag<lambda, npartitions=10>"
      ]
     },
     "execution_count": 7,
     "metadata": {},
     "output_type": "execute_result"
    }
   ],
   "source": [
    "def is_even(n):\n",
    "    return n % 2 == 0\n",
    "\n",
    "b = db.from_sequence([1, 2, 3, 4, 5, 6, 7, 8, 9, 10])\n",
    "c = b.filter(is_even).map(lambda x: x ** 2)\n",
    "c"
   ]
  },
  {
   "cell_type": "code",
   "execution_count": 8,
   "metadata": {
    "execution": {
     "iopub.execute_input": "2022-05-19T17:19:02.265871Z",
     "iopub.status.busy": "2022-05-19T17:19:02.265216Z",
     "iopub.status.idle": "2022-05-19T17:19:02.521724Z",
     "shell.execute_reply": "2022-05-19T17:19:02.520880Z"
    }
   },
   "outputs": [
    {
     "data": {
      "text/plain": [
       "[4, 16, 36, 64, 100]"
      ]
     },
     "execution_count": 8,
     "metadata": {},
     "output_type": "execute_result"
    }
   ],
   "source": [
    "# blocking form: wait for completion (which is very fast in this case)\n",
    "c.compute()"
   ]
  },
  {
   "cell_type": "markdown",
   "metadata": {},
   "source": [
    "### Example: Accounts JSON data"
   ]
  },
  {
   "cell_type": "markdown",
   "metadata": {},
   "source": [
    "We've created a fake dataset of gzipped JSON data in your data directory.  This is like the example used in the `DataFrame` example we will see later, except that it has bundled up all of the entries for each individual `id` into a single record.  This is similar to data that you might collect off of a document store database or a web API.\n",
    "\n",
    "Each line is a JSON encoded dictionary with the following keys\n",
    "\n",
    "*  id: Unique identifier of the customer\n",
    "*  name: Name of the customer\n",
    "*  transactions: List of `transaction-id`, `amount` pairs, one for each transaction for the customer in that file"
   ]
  },
  {
   "cell_type": "code",
   "execution_count": 9,
   "metadata": {
    "execution": {
     "iopub.execute_input": "2022-05-19T17:19:02.525213Z",
     "iopub.status.busy": "2022-05-19T17:19:02.524786Z",
     "iopub.status.idle": "2022-05-19T17:19:02.566408Z",
     "shell.execute_reply": "2022-05-19T17:19:02.565480Z"
    }
   },
   "outputs": [
    {
     "data": {
      "text/plain": [
       "('{\"id\": 0, \"name\": \"George\", \"transactions\": [{\"transaction-id\": 523, \"amount\": 760}, {\"transaction-id\": 990, \"amount\": 787}, {\"transaction-id\": 3452, \"amount\": 812}, {\"transaction-id\": 3700, \"amount\": 798}, {\"transaction-id\": 4313, \"amount\": 735}, {\"transaction-id\": 4572, \"amount\": 806}, {\"transaction-id\": 4703, \"amount\": 812}, {\"transaction-id\": 5487, \"amount\": 760}, {\"transaction-id\": 7035, \"amount\": 699}, {\"transaction-id\": 7301, \"amount\": 639}, {\"transaction-id\": 8098, \"amount\": 789}, {\"transaction-id\": 9287, \"amount\": 764}]}\\n',\n",
       " '{\"id\": 1, \"name\": \"George\", \"transactions\": [{\"transaction-id\": 62, \"amount\": 2}, {\"transaction-id\": 115, \"amount\": 2}, {\"transaction-id\": 208, \"amount\": 2}, {\"transaction-id\": 215, \"amount\": 2}, {\"transaction-id\": 590, \"amount\": 2}, {\"transaction-id\": 1100, \"amount\": 2}, {\"transaction-id\": 1410, \"amount\": 2}, {\"transaction-id\": 1652, \"amount\": 2}, {\"transaction-id\": 1988, \"amount\": 2}, {\"transaction-id\": 2038, \"amount\": 2}, {\"transaction-id\": 2147, \"amount\": 2}, {\"transaction-id\": 2862, \"amount\": 2}, {\"transaction-id\": 2946, \"amount\": 2}, {\"transaction-id\": 3108, \"amount\": 2}, {\"transaction-id\": 3734, \"amount\": 2}, {\"transaction-id\": 4358, \"amount\": 2}, {\"transaction-id\": 4500, \"amount\": 2}, {\"transaction-id\": 4633, \"amount\": 2}, {\"transaction-id\": 4693, \"amount\": 2}, {\"transaction-id\": 4836, \"amount\": 2}, {\"transaction-id\": 4845, \"amount\": 2}, {\"transaction-id\": 5088, \"amount\": 2}, {\"transaction-id\": 6099, \"amount\": 2}, {\"transaction-id\": 6250, \"amount\": 2}, {\"transaction-id\": 6264, \"amount\": 2}, {\"transaction-id\": 6442, \"amount\": 2}, {\"transaction-id\": 7069, \"amount\": 3}, {\"transaction-id\": 7262, \"amount\": 2}, {\"transaction-id\": 7853, \"amount\": 2}, {\"transaction-id\": 8010, \"amount\": 2}, {\"transaction-id\": 8179, \"amount\": 2}, {\"transaction-id\": 8876, \"amount\": 2}, {\"transaction-id\": 9242, \"amount\": 2}, {\"transaction-id\": 9445, \"amount\": 2}, {\"transaction-id\": 9496, \"amount\": 2}, {\"transaction-id\": 9670, \"amount\": 2}, {\"transaction-id\": 9780, \"amount\": 2}, {\"transaction-id\": 9810, \"amount\": 2}, {\"transaction-id\": 9911, \"amount\": 2}]}\\n',\n",
       " '{\"id\": 2, \"name\": \"Alice\", \"transactions\": [{\"transaction-id\": 444, \"amount\": 146}, {\"transaction-id\": 738, \"amount\": 222}, {\"transaction-id\": 835, \"amount\": 216}, {\"transaction-id\": 874, \"amount\": 196}, {\"transaction-id\": 1761, \"amount\": 194}, {\"transaction-id\": 2329, \"amount\": 161}, {\"transaction-id\": 3576, \"amount\": 177}, {\"transaction-id\": 3996, \"amount\": 186}, {\"transaction-id\": 4054, \"amount\": 169}, {\"transaction-id\": 4400, \"amount\": 144}, {\"transaction-id\": 4401, \"amount\": 160}, {\"transaction-id\": 4648, \"amount\": 198}, {\"transaction-id\": 4772, \"amount\": 190}, {\"transaction-id\": 4804, \"amount\": 240}, {\"transaction-id\": 5308, \"amount\": 207}, {\"transaction-id\": 5541, \"amount\": 206}, {\"transaction-id\": 5973, \"amount\": 170}, {\"transaction-id\": 6209, \"amount\": 188}, {\"transaction-id\": 6344, \"amount\": 166}, {\"transaction-id\": 6542, \"amount\": 152}, {\"transaction-id\": 7397, \"amount\": 186}, {\"transaction-id\": 8060, \"amount\": 155}, {\"transaction-id\": 8223, \"amount\": 237}, {\"transaction-id\": 8309, \"amount\": 148}, {\"transaction-id\": 8449, \"amount\": 215}, {\"transaction-id\": 9214, \"amount\": 187}, {\"transaction-id\": 9704, \"amount\": 200}, {\"transaction-id\": 9864, \"amount\": 102}, {\"transaction-id\": 9877, \"amount\": 179}, {\"transaction-id\": 9981, \"amount\": 229}]}\\n')"
      ]
     },
     "execution_count": 9,
     "metadata": {},
     "output_type": "execute_result"
    }
   ],
   "source": [
    "filename = os.path.join('data', 'accounts.*.json.gz')\n",
    "lines = db.read_text(filename)\n",
    "lines.take(3)"
   ]
  },
  {
   "cell_type": "markdown",
   "metadata": {},
   "source": [
    "Our data comes out of the file as lines of text. Notice that file decompression happened automatically. We can make this data look more reasonable by mapping the `json.loads` function onto our bag."
   ]
  },
  {
   "cell_type": "code",
   "execution_count": 10,
   "metadata": {
    "execution": {
     "iopub.execute_input": "2022-05-19T17:19:02.570154Z",
     "iopub.status.busy": "2022-05-19T17:19:02.569741Z",
     "iopub.status.idle": "2022-05-19T17:19:02.600912Z",
     "shell.execute_reply": "2022-05-19T17:19:02.600226Z"
    }
   },
   "outputs": [
    {
     "data": {
      "text/plain": [
       "({'id': 0,\n",
       "  'name': 'George',\n",
       "  'transactions': [{'transaction-id': 523, 'amount': 760},\n",
       "   {'transaction-id': 990, 'amount': 787},\n",
       "   {'transaction-id': 3452, 'amount': 812},\n",
       "   {'transaction-id': 3700, 'amount': 798},\n",
       "   {'transaction-id': 4313, 'amount': 735},\n",
       "   {'transaction-id': 4572, 'amount': 806},\n",
       "   {'transaction-id': 4703, 'amount': 812},\n",
       "   {'transaction-id': 5487, 'amount': 760},\n",
       "   {'transaction-id': 7035, 'amount': 699},\n",
       "   {'transaction-id': 7301, 'amount': 639},\n",
       "   {'transaction-id': 8098, 'amount': 789},\n",
       "   {'transaction-id': 9287, 'amount': 764}]},\n",
       " {'id': 1,\n",
       "  'name': 'George',\n",
       "  'transactions': [{'transaction-id': 62, 'amount': 2},\n",
       "   {'transaction-id': 115, 'amount': 2},\n",
       "   {'transaction-id': 208, 'amount': 2},\n",
       "   {'transaction-id': 215, 'amount': 2},\n",
       "   {'transaction-id': 590, 'amount': 2},\n",
       "   {'transaction-id': 1100, 'amount': 2},\n",
       "   {'transaction-id': 1410, 'amount': 2},\n",
       "   {'transaction-id': 1652, 'amount': 2},\n",
       "   {'transaction-id': 1988, 'amount': 2},\n",
       "   {'transaction-id': 2038, 'amount': 2},\n",
       "   {'transaction-id': 2147, 'amount': 2},\n",
       "   {'transaction-id': 2862, 'amount': 2},\n",
       "   {'transaction-id': 2946, 'amount': 2},\n",
       "   {'transaction-id': 3108, 'amount': 2},\n",
       "   {'transaction-id': 3734, 'amount': 2},\n",
       "   {'transaction-id': 4358, 'amount': 2},\n",
       "   {'transaction-id': 4500, 'amount': 2},\n",
       "   {'transaction-id': 4633, 'amount': 2},\n",
       "   {'transaction-id': 4693, 'amount': 2},\n",
       "   {'transaction-id': 4836, 'amount': 2},\n",
       "   {'transaction-id': 4845, 'amount': 2},\n",
       "   {'transaction-id': 5088, 'amount': 2},\n",
       "   {'transaction-id': 6099, 'amount': 2},\n",
       "   {'transaction-id': 6250, 'amount': 2},\n",
       "   {'transaction-id': 6264, 'amount': 2},\n",
       "   {'transaction-id': 6442, 'amount': 2},\n",
       "   {'transaction-id': 7069, 'amount': 3},\n",
       "   {'transaction-id': 7262, 'amount': 2},\n",
       "   {'transaction-id': 7853, 'amount': 2},\n",
       "   {'transaction-id': 8010, 'amount': 2},\n",
       "   {'transaction-id': 8179, 'amount': 2},\n",
       "   {'transaction-id': 8876, 'amount': 2},\n",
       "   {'transaction-id': 9242, 'amount': 2},\n",
       "   {'transaction-id': 9445, 'amount': 2},\n",
       "   {'transaction-id': 9496, 'amount': 2},\n",
       "   {'transaction-id': 9670, 'amount': 2},\n",
       "   {'transaction-id': 9780, 'amount': 2},\n",
       "   {'transaction-id': 9810, 'amount': 2},\n",
       "   {'transaction-id': 9911, 'amount': 2}]},\n",
       " {'id': 2,\n",
       "  'name': 'Alice',\n",
       "  'transactions': [{'transaction-id': 444, 'amount': 146},\n",
       "   {'transaction-id': 738, 'amount': 222},\n",
       "   {'transaction-id': 835, 'amount': 216},\n",
       "   {'transaction-id': 874, 'amount': 196},\n",
       "   {'transaction-id': 1761, 'amount': 194},\n",
       "   {'transaction-id': 2329, 'amount': 161},\n",
       "   {'transaction-id': 3576, 'amount': 177},\n",
       "   {'transaction-id': 3996, 'amount': 186},\n",
       "   {'transaction-id': 4054, 'amount': 169},\n",
       "   {'transaction-id': 4400, 'amount': 144},\n",
       "   {'transaction-id': 4401, 'amount': 160},\n",
       "   {'transaction-id': 4648, 'amount': 198},\n",
       "   {'transaction-id': 4772, 'amount': 190},\n",
       "   {'transaction-id': 4804, 'amount': 240},\n",
       "   {'transaction-id': 5308, 'amount': 207},\n",
       "   {'transaction-id': 5541, 'amount': 206},\n",
       "   {'transaction-id': 5973, 'amount': 170},\n",
       "   {'transaction-id': 6209, 'amount': 188},\n",
       "   {'transaction-id': 6344, 'amount': 166},\n",
       "   {'transaction-id': 6542, 'amount': 152},\n",
       "   {'transaction-id': 7397, 'amount': 186},\n",
       "   {'transaction-id': 8060, 'amount': 155},\n",
       "   {'transaction-id': 8223, 'amount': 237},\n",
       "   {'transaction-id': 8309, 'amount': 148},\n",
       "   {'transaction-id': 8449, 'amount': 215},\n",
       "   {'transaction-id': 9214, 'amount': 187},\n",
       "   {'transaction-id': 9704, 'amount': 200},\n",
       "   {'transaction-id': 9864, 'amount': 102},\n",
       "   {'transaction-id': 9877, 'amount': 179},\n",
       "   {'transaction-id': 9981, 'amount': 229}]})"
      ]
     },
     "execution_count": 10,
     "metadata": {},
     "output_type": "execute_result"
    }
   ],
   "source": [
    "import json\n",
    "js = lines.map(json.loads)\n",
    "# take: inspect first few elements\n",
    "js.take(3)"
   ]
  },
  {
   "cell_type": "markdown",
   "metadata": {},
   "source": [
    "### Basic Queries"
   ]
  },
  {
   "cell_type": "markdown",
   "metadata": {},
   "source": [
    "Once we parse our JSON data into proper Python objects (`dict`s, `list`s, etc.) we can perform more interesting queries by creating small Python functions to run on our data."
   ]
  },
  {
   "cell_type": "code",
   "execution_count": 11,
   "metadata": {
    "execution": {
     "iopub.execute_input": "2022-05-19T17:19:02.604750Z",
     "iopub.status.busy": "2022-05-19T17:19:02.604068Z",
     "iopub.status.idle": "2022-05-19T17:19:02.656154Z",
     "shell.execute_reply": "2022-05-19T17:19:02.655360Z"
    }
   },
   "outputs": [
    {
     "data": {
      "text/plain": [
       "({'id': 2,\n",
       "  'name': 'Alice',\n",
       "  'transactions': [{'transaction-id': 444, 'amount': 146},\n",
       "   {'transaction-id': 738, 'amount': 222},\n",
       "   {'transaction-id': 835, 'amount': 216},\n",
       "   {'transaction-id': 874, 'amount': 196},\n",
       "   {'transaction-id': 1761, 'amount': 194},\n",
       "   {'transaction-id': 2329, 'amount': 161},\n",
       "   {'transaction-id': 3576, 'amount': 177},\n",
       "   {'transaction-id': 3996, 'amount': 186},\n",
       "   {'transaction-id': 4054, 'amount': 169},\n",
       "   {'transaction-id': 4400, 'amount': 144},\n",
       "   {'transaction-id': 4401, 'amount': 160},\n",
       "   {'transaction-id': 4648, 'amount': 198},\n",
       "   {'transaction-id': 4772, 'amount': 190},\n",
       "   {'transaction-id': 4804, 'amount': 240},\n",
       "   {'transaction-id': 5308, 'amount': 207},\n",
       "   {'transaction-id': 5541, 'amount': 206},\n",
       "   {'transaction-id': 5973, 'amount': 170},\n",
       "   {'transaction-id': 6209, 'amount': 188},\n",
       "   {'transaction-id': 6344, 'amount': 166},\n",
       "   {'transaction-id': 6542, 'amount': 152},\n",
       "   {'transaction-id': 7397, 'amount': 186},\n",
       "   {'transaction-id': 8060, 'amount': 155},\n",
       "   {'transaction-id': 8223, 'amount': 237},\n",
       "   {'transaction-id': 8309, 'amount': 148},\n",
       "   {'transaction-id': 8449, 'amount': 215},\n",
       "   {'transaction-id': 9214, 'amount': 187},\n",
       "   {'transaction-id': 9704, 'amount': 200},\n",
       "   {'transaction-id': 9864, 'amount': 102},\n",
       "   {'transaction-id': 9877, 'amount': 179},\n",
       "   {'transaction-id': 9981, 'amount': 229}]},\n",
       " {'id': 41,\n",
       "  'name': 'Alice',\n",
       "  'transactions': [{'transaction-id': 3, 'amount': 436},\n",
       "   {'transaction-id': 379, 'amount': 475},\n",
       "   {'transaction-id': 555, 'amount': 504},\n",
       "   {'transaction-id': 602, 'amount': 482},\n",
       "   {'transaction-id': 614, 'amount': 539},\n",
       "   {'transaction-id': 741, 'amount': 558},\n",
       "   {'transaction-id': 779, 'amount': 484},\n",
       "   {'transaction-id': 786, 'amount': 594},\n",
       "   {'transaction-id': 817, 'amount': 417},\n",
       "   {'transaction-id': 841, 'amount': 481},\n",
       "   {'transaction-id': 1086, 'amount': 462},\n",
       "   {'transaction-id': 1591, 'amount': 572},\n",
       "   {'transaction-id': 2018, 'amount': 497},\n",
       "   {'transaction-id': 2095, 'amount': 494},\n",
       "   {'transaction-id': 2254, 'amount': 488},\n",
       "   {'transaction-id': 2600, 'amount': 463},\n",
       "   {'transaction-id': 2641, 'amount': 526},\n",
       "   {'transaction-id': 2784, 'amount': 576},\n",
       "   {'transaction-id': 3044, 'amount': 524},\n",
       "   {'transaction-id': 3484, 'amount': 514},\n",
       "   {'transaction-id': 3784, 'amount': 505},\n",
       "   {'transaction-id': 4120, 'amount': 532},\n",
       "   {'transaction-id': 4130, 'amount': 503},\n",
       "   {'transaction-id': 4258, 'amount': 507},\n",
       "   {'transaction-id': 4308, 'amount': 458},\n",
       "   {'transaction-id': 4346, 'amount': 503},\n",
       "   {'transaction-id': 4374, 'amount': 515},\n",
       "   {'transaction-id': 4573, 'amount': 490},\n",
       "   {'transaction-id': 4860, 'amount': 544},\n",
       "   {'transaction-id': 5138, 'amount': 524},\n",
       "   {'transaction-id': 5209, 'amount': 554},\n",
       "   {'transaction-id': 5333, 'amount': 457},\n",
       "   {'transaction-id': 5379, 'amount': 408},\n",
       "   {'transaction-id': 5395, 'amount': 500},\n",
       "   {'transaction-id': 5548, 'amount': 497},\n",
       "   {'transaction-id': 5574, 'amount': 516},\n",
       "   {'transaction-id': 5652, 'amount': 510},\n",
       "   {'transaction-id': 5723, 'amount': 494},\n",
       "   {'transaction-id': 5858, 'amount': 498},\n",
       "   {'transaction-id': 6156, 'amount': 473},\n",
       "   {'transaction-id': 6297, 'amount': 521},\n",
       "   {'transaction-id': 6871, 'amount': 462},\n",
       "   {'transaction-id': 7022, 'amount': 488},\n",
       "   {'transaction-id': 7477, 'amount': 467},\n",
       "   {'transaction-id': 7528, 'amount': 492},\n",
       "   {'transaction-id': 7606, 'amount': 500},\n",
       "   {'transaction-id': 8026, 'amount': 514},\n",
       "   {'transaction-id': 8189, 'amount': 480},\n",
       "   {'transaction-id': 8289, 'amount': 524},\n",
       "   {'transaction-id': 8734, 'amount': 494},\n",
       "   {'transaction-id': 9410, 'amount': 477},\n",
       "   {'transaction-id': 9429, 'amount': 529},\n",
       "   {'transaction-id': 9433, 'amount': 468},\n",
       "   {'transaction-id': 9694, 'amount': 540},\n",
       "   {'transaction-id': 9891, 'amount': 595},\n",
       "   {'transaction-id': 9902, 'amount': 550},\n",
       "   {'transaction-id': 9958, 'amount': 512}]},\n",
       " {'id': 88,\n",
       "  'name': 'Alice',\n",
       "  'transactions': [{'transaction-id': 687, 'amount': 1761},\n",
       "   {'transaction-id': 875, 'amount': 1348},\n",
       "   {'transaction-id': 1130, 'amount': 1374},\n",
       "   {'transaction-id': 1510, 'amount': 1289},\n",
       "   {'transaction-id': 1700, 'amount': 1958},\n",
       "   {'transaction-id': 1807, 'amount': 1624},\n",
       "   {'transaction-id': 1900, 'amount': 1285},\n",
       "   {'transaction-id': 2511, 'amount': 1407},\n",
       "   {'transaction-id': 4367, 'amount': 1458},\n",
       "   {'transaction-id': 4590, 'amount': 1023},\n",
       "   {'transaction-id': 7210, 'amount': 1718},\n",
       "   {'transaction-id': 7341, 'amount': 1077},\n",
       "   {'transaction-id': 7987, 'amount': 1456},\n",
       "   {'transaction-id': 8118, 'amount': 1430},\n",
       "   {'transaction-id': 8250, 'amount': 1201},\n",
       "   {'transaction-id': 8461, 'amount': 2033},\n",
       "   {'transaction-id': 9272, 'amount': 1224},\n",
       "   {'transaction-id': 9388, 'amount': 1318},\n",
       "   {'transaction-id': 9736, 'amount': 978}]},\n",
       " {'id': 133,\n",
       "  'name': 'Alice',\n",
       "  'transactions': [{'transaction-id': 303, 'amount': 759},\n",
       "   {'transaction-id': 324, 'amount': 418},\n",
       "   {'transaction-id': 468, 'amount': 629},\n",
       "   {'transaction-id': 664, 'amount': 602},\n",
       "   {'transaction-id': 789, 'amount': 798},\n",
       "   {'transaction-id': 1263, 'amount': 688},\n",
       "   {'transaction-id': 1339, 'amount': 983},\n",
       "   {'transaction-id': 1350, 'amount': 714},\n",
       "   {'transaction-id': 1612, 'amount': 796},\n",
       "   {'transaction-id': 1772, 'amount': 870},\n",
       "   {'transaction-id': 1782, 'amount': 856},\n",
       "   {'transaction-id': 1914, 'amount': 398},\n",
       "   {'transaction-id': 2117, 'amount': 957},\n",
       "   {'transaction-id': 2328, 'amount': 908},\n",
       "   {'transaction-id': 2365, 'amount': 644},\n",
       "   {'transaction-id': 2400, 'amount': 725},\n",
       "   {'transaction-id': 2454, 'amount': 827},\n",
       "   {'transaction-id': 2483, 'amount': 832},\n",
       "   {'transaction-id': 2728, 'amount': 785},\n",
       "   {'transaction-id': 2843, 'amount': 552},\n",
       "   {'transaction-id': 3189, 'amount': 920},\n",
       "   {'transaction-id': 3272, 'amount': 819},\n",
       "   {'transaction-id': 3350, 'amount': 686},\n",
       "   {'transaction-id': 3560, 'amount': 729},\n",
       "   {'transaction-id': 4042, 'amount': 783},\n",
       "   {'transaction-id': 4107, 'amount': 941},\n",
       "   {'transaction-id': 4259, 'amount': 472},\n",
       "   {'transaction-id': 4357, 'amount': 611},\n",
       "   {'transaction-id': 4559, 'amount': 417},\n",
       "   {'transaction-id': 4856, 'amount': 341},\n",
       "   {'transaction-id': 5115, 'amount': 530},\n",
       "   {'transaction-id': 5341, 'amount': 592},\n",
       "   {'transaction-id': 5440, 'amount': 673},\n",
       "   {'transaction-id': 5605, 'amount': 717},\n",
       "   {'transaction-id': 5752, 'amount': 699},\n",
       "   {'transaction-id': 6131, 'amount': 865},\n",
       "   {'transaction-id': 6231, 'amount': 629},\n",
       "   {'transaction-id': 6631, 'amount': 599},\n",
       "   {'transaction-id': 6765, 'amount': 557},\n",
       "   {'transaction-id': 6769, 'amount': 878},\n",
       "   {'transaction-id': 6855, 'amount': 737},\n",
       "   {'transaction-id': 6966, 'amount': 659},\n",
       "   {'transaction-id': 7169, 'amount': 554},\n",
       "   {'transaction-id': 7542, 'amount': 660},\n",
       "   {'transaction-id': 8460, 'amount': 801},\n",
       "   {'transaction-id': 8521, 'amount': 621},\n",
       "   {'transaction-id': 8579, 'amount': 927},\n",
       "   {'transaction-id': 8617, 'amount': 583},\n",
       "   {'transaction-id': 8877, 'amount': 832},\n",
       "   {'transaction-id': 8937, 'amount': 843},\n",
       "   {'transaction-id': 9178, 'amount': 489},\n",
       "   {'transaction-id': 9303, 'amount': 1043},\n",
       "   {'transaction-id': 9338, 'amount': 680},\n",
       "   {'transaction-id': 9603, 'amount': 540},\n",
       "   {'transaction-id': 9698, 'amount': 781},\n",
       "   {'transaction-id': 9733, 'amount': 523},\n",
       "   {'transaction-id': 9858, 'amount': 431}]},\n",
       " {'id': 179,\n",
       "  'name': 'Alice',\n",
       "  'transactions': [{'transaction-id': 287, 'amount': -220},\n",
       "   {'transaction-id': 312, 'amount': -250},\n",
       "   {'transaction-id': 328, 'amount': -273},\n",
       "   {'transaction-id': 391, 'amount': -246},\n",
       "   {'transaction-id': 637, 'amount': -298},\n",
       "   {'transaction-id': 652, 'amount': -283},\n",
       "   {'transaction-id': 688, 'amount': -203},\n",
       "   {'transaction-id': 705, 'amount': -238},\n",
       "   {'transaction-id': 881, 'amount': -197},\n",
       "   {'transaction-id': 943, 'amount': -223},\n",
       "   {'transaction-id': 984, 'amount': -242},\n",
       "   {'transaction-id': 1274, 'amount': -224},\n",
       "   {'transaction-id': 1325, 'amount': -172},\n",
       "   {'transaction-id': 1503, 'amount': -236},\n",
       "   {'transaction-id': 1601, 'amount': -251},\n",
       "   {'transaction-id': 1758, 'amount': -264},\n",
       "   {'transaction-id': 1798, 'amount': -204},\n",
       "   {'transaction-id': 1823, 'amount': -257},\n",
       "   {'transaction-id': 1871, 'amount': -274},\n",
       "   {'transaction-id': 1883, 'amount': -252},\n",
       "   {'transaction-id': 1906, 'amount': -211},\n",
       "   {'transaction-id': 2032, 'amount': -299},\n",
       "   {'transaction-id': 2096, 'amount': -214},\n",
       "   {'transaction-id': 2200, 'amount': -267},\n",
       "   {'transaction-id': 2334, 'amount': -328},\n",
       "   {'transaction-id': 2521, 'amount': -251},\n",
       "   {'transaction-id': 2630, 'amount': -240},\n",
       "   {'transaction-id': 2785, 'amount': -221},\n",
       "   {'transaction-id': 2920, 'amount': -230},\n",
       "   {'transaction-id': 3025, 'amount': -335},\n",
       "   {'transaction-id': 3143, 'amount': -256},\n",
       "   {'transaction-id': 3151, 'amount': -255},\n",
       "   {'transaction-id': 3168, 'amount': -165},\n",
       "   {'transaction-id': 3219, 'amount': -320},\n",
       "   {'transaction-id': 3267, 'amount': -280},\n",
       "   {'transaction-id': 3270, 'amount': -217},\n",
       "   {'transaction-id': 3294, 'amount': -308},\n",
       "   {'transaction-id': 3470, 'amount': -224},\n",
       "   {'transaction-id': 3473, 'amount': -223},\n",
       "   {'transaction-id': 3544, 'amount': -253},\n",
       "   {'transaction-id': 3755, 'amount': -249},\n",
       "   {'transaction-id': 3813, 'amount': -203},\n",
       "   {'transaction-id': 3962, 'amount': -211},\n",
       "   {'transaction-id': 3991, 'amount': -268},\n",
       "   {'transaction-id': 4188, 'amount': -291},\n",
       "   {'transaction-id': 4269, 'amount': -289},\n",
       "   {'transaction-id': 4421, 'amount': -268},\n",
       "   {'transaction-id': 4522, 'amount': -208},\n",
       "   {'transaction-id': 4542, 'amount': -128},\n",
       "   {'transaction-id': 4643, 'amount': -337},\n",
       "   {'transaction-id': 4720, 'amount': -180},\n",
       "   {'transaction-id': 4757, 'amount': -271},\n",
       "   {'transaction-id': 4795, 'amount': -266},\n",
       "   {'transaction-id': 4881, 'amount': -260},\n",
       "   {'transaction-id': 4956, 'amount': -225},\n",
       "   {'transaction-id': 5026, 'amount': -307},\n",
       "   {'transaction-id': 5028, 'amount': -184},\n",
       "   {'transaction-id': 5174, 'amount': -259},\n",
       "   {'transaction-id': 5181, 'amount': -262},\n",
       "   {'transaction-id': 5400, 'amount': -292},\n",
       "   {'transaction-id': 5477, 'amount': -252},\n",
       "   {'transaction-id': 5516, 'amount': -134},\n",
       "   {'transaction-id': 5532, 'amount': -287},\n",
       "   {'transaction-id': 5610, 'amount': -303},\n",
       "   {'transaction-id': 5764, 'amount': -320},\n",
       "   {'transaction-id': 5792, 'amount': -208},\n",
       "   {'transaction-id': 5890, 'amount': -177},\n",
       "   {'transaction-id': 6110, 'amount': -213},\n",
       "   {'transaction-id': 6113, 'amount': -244},\n",
       "   {'transaction-id': 6155, 'amount': -235},\n",
       "   {'transaction-id': 6173, 'amount': -170},\n",
       "   {'transaction-id': 6192, 'amount': -239},\n",
       "   {'transaction-id': 6246, 'amount': -215},\n",
       "   {'transaction-id': 6280, 'amount': -274},\n",
       "   {'transaction-id': 6398, 'amount': -302},\n",
       "   {'transaction-id': 6440, 'amount': -306},\n",
       "   {'transaction-id': 6754, 'amount': -151},\n",
       "   {'transaction-id': 6998, 'amount': -248},\n",
       "   {'transaction-id': 7051, 'amount': -304},\n",
       "   {'transaction-id': 7062, 'amount': -229},\n",
       "   {'transaction-id': 7097, 'amount': -193},\n",
       "   {'transaction-id': 7119, 'amount': -213},\n",
       "   {'transaction-id': 7139, 'amount': -346},\n",
       "   {'transaction-id': 7163, 'amount': -215},\n",
       "   {'transaction-id': 7272, 'amount': -257},\n",
       "   {'transaction-id': 7292, 'amount': -265},\n",
       "   {'transaction-id': 7476, 'amount': -174},\n",
       "   {'transaction-id': 7540, 'amount': -198},\n",
       "   {'transaction-id': 7706, 'amount': -229},\n",
       "   {'transaction-id': 7734, 'amount': -296},\n",
       "   {'transaction-id': 7796, 'amount': -319},\n",
       "   {'transaction-id': 7841, 'amount': -231},\n",
       "   {'transaction-id': 7947, 'amount': -255},\n",
       "   {'transaction-id': 7978, 'amount': -273},\n",
       "   {'transaction-id': 8040, 'amount': -274},\n",
       "   {'transaction-id': 8074, 'amount': -317},\n",
       "   {'transaction-id': 8145, 'amount': -265},\n",
       "   {'transaction-id': 8207, 'amount': -242},\n",
       "   {'transaction-id': 8336, 'amount': -233},\n",
       "   {'transaction-id': 8389, 'amount': -260},\n",
       "   {'transaction-id': 8397, 'amount': -380},\n",
       "   {'transaction-id': 8413, 'amount': -265},\n",
       "   {'transaction-id': 8426, 'amount': -150},\n",
       "   {'transaction-id': 8490, 'amount': -283},\n",
       "   {'transaction-id': 8545, 'amount': -249},\n",
       "   {'transaction-id': 8553, 'amount': -269},\n",
       "   {'transaction-id': 8833, 'amount': -224},\n",
       "   {'transaction-id': 8850, 'amount': -224},\n",
       "   {'transaction-id': 8851, 'amount': -306},\n",
       "   {'transaction-id': 8897, 'amount': -261},\n",
       "   {'transaction-id': 9119, 'amount': -173},\n",
       "   {'transaction-id': 9194, 'amount': -244},\n",
       "   {'transaction-id': 9367, 'amount': -337},\n",
       "   {'transaction-id': 9417, 'amount': -131},\n",
       "   {'transaction-id': 9494, 'amount': -205},\n",
       "   {'transaction-id': 9511, 'amount': -211},\n",
       "   {'transaction-id': 9602, 'amount': -279},\n",
       "   {'transaction-id': 9859, 'amount': -210},\n",
       "   {'transaction-id': 9963, 'amount': -224},\n",
       "   {'transaction-id': 9991, 'amount': -241}]})"
      ]
     },
     "execution_count": 11,
     "metadata": {},
     "output_type": "execute_result"
    }
   ],
   "source": [
    "# filter: keep only some elements of the sequence\n",
    "js.filter(lambda record: record['name'] == 'Alice').take(5)"
   ]
  },
  {
   "cell_type": "code",
   "execution_count": 12,
   "metadata": {
    "execution": {
     "iopub.execute_input": "2022-05-19T17:19:02.659933Z",
     "iopub.status.busy": "2022-05-19T17:19:02.659490Z",
     "iopub.status.idle": "2022-05-19T17:19:02.697157Z",
     "shell.execute_reply": "2022-05-19T17:19:02.696022Z"
    }
   },
   "outputs": [
    {
     "data": {
      "text/plain": [
       "({'name': 'Alice', 'count': 30},\n",
       " {'name': 'Alice', 'count': 57},\n",
       " {'name': 'Alice', 'count': 19},\n",
       " {'name': 'Alice', 'count': 57},\n",
       " {'name': 'Alice', 'count': 120})"
      ]
     },
     "execution_count": 12,
     "metadata": {},
     "output_type": "execute_result"
    }
   ],
   "source": [
    "def count_transactions(d):\n",
    "    return {'name': d['name'], 'count': len(d['transactions'])}\n",
    "\n",
    "# map: apply a function to each element\n",
    "(js.filter(lambda record: record['name'] == 'Alice')\n",
    "   .map(count_transactions)\n",
    "   .take(5))"
   ]
  },
  {
   "cell_type": "code",
   "execution_count": 13,
   "metadata": {
    "execution": {
     "iopub.execute_input": "2022-05-19T17:19:02.701257Z",
     "iopub.status.busy": "2022-05-19T17:19:02.700885Z",
     "iopub.status.idle": "2022-05-19T17:19:02.741773Z",
     "shell.execute_reply": "2022-05-19T17:19:02.740848Z"
    }
   },
   "outputs": [
    {
     "data": {
      "text/plain": [
       "(30, 57, 19, 57, 120)"
      ]
     },
     "execution_count": 13,
     "metadata": {},
     "output_type": "execute_result"
    }
   ],
   "source": [
    "# pluck: select a field, as from a dictionary, element[field]\n",
    "(js.filter(lambda record: record['name'] == 'Alice')\n",
    "   .map(count_transactions)\n",
    "   .pluck('count')\n",
    "   .take(5))"
   ]
  },
  {
   "cell_type": "code",
   "execution_count": 14,
   "metadata": {
    "execution": {
     "iopub.execute_input": "2022-05-19T17:19:02.746055Z",
     "iopub.status.busy": "2022-05-19T17:19:02.745578Z",
     "iopub.status.idle": "2022-05-19T17:19:03.214358Z",
     "shell.execute_reply": "2022-05-19T17:19:03.213705Z"
    }
   },
   "outputs": [
    {
     "data": {
      "text/plain": [
       "46.69"
      ]
     },
     "execution_count": 14,
     "metadata": {},
     "output_type": "execute_result"
    }
   ],
   "source": [
    "# Average number of transactions for all of the Alice entries\n",
    "(js.filter(lambda record: record['name'] == 'Alice')\n",
    "   .map(count_transactions)\n",
    "   .pluck('count')\n",
    "   .mean()\n",
    "   .compute())"
   ]
  },
  {
   "cell_type": "markdown",
   "metadata": {},
   "source": [
    "### Use `flatten` to de-nest"
   ]
  },
  {
   "cell_type": "markdown",
   "metadata": {},
   "source": [
    "In the example below we see the use of `.flatten()` to flatten results.  We compute the average amount for all transactions for all Alices."
   ]
  },
  {
   "cell_type": "code",
   "execution_count": 15,
   "metadata": {
    "execution": {
     "iopub.execute_input": "2022-05-19T17:19:03.218301Z",
     "iopub.status.busy": "2022-05-19T17:19:03.217829Z",
     "iopub.status.idle": "2022-05-19T17:19:03.255866Z",
     "shell.execute_reply": "2022-05-19T17:19:03.255039Z"
    }
   },
   "outputs": [
    {
     "data": {
      "text/plain": [
       "([{'transaction-id': 444, 'amount': 146},\n",
       "  {'transaction-id': 738, 'amount': 222},\n",
       "  {'transaction-id': 835, 'amount': 216},\n",
       "  {'transaction-id': 874, 'amount': 196},\n",
       "  {'transaction-id': 1761, 'amount': 194},\n",
       "  {'transaction-id': 2329, 'amount': 161},\n",
       "  {'transaction-id': 3576, 'amount': 177},\n",
       "  {'transaction-id': 3996, 'amount': 186},\n",
       "  {'transaction-id': 4054, 'amount': 169},\n",
       "  {'transaction-id': 4400, 'amount': 144},\n",
       "  {'transaction-id': 4401, 'amount': 160},\n",
       "  {'transaction-id': 4648, 'amount': 198},\n",
       "  {'transaction-id': 4772, 'amount': 190},\n",
       "  {'transaction-id': 4804, 'amount': 240},\n",
       "  {'transaction-id': 5308, 'amount': 207},\n",
       "  {'transaction-id': 5541, 'amount': 206},\n",
       "  {'transaction-id': 5973, 'amount': 170},\n",
       "  {'transaction-id': 6209, 'amount': 188},\n",
       "  {'transaction-id': 6344, 'amount': 166},\n",
       "  {'transaction-id': 6542, 'amount': 152},\n",
       "  {'transaction-id': 7397, 'amount': 186},\n",
       "  {'transaction-id': 8060, 'amount': 155},\n",
       "  {'transaction-id': 8223, 'amount': 237},\n",
       "  {'transaction-id': 8309, 'amount': 148},\n",
       "  {'transaction-id': 8449, 'amount': 215},\n",
       "  {'transaction-id': 9214, 'amount': 187},\n",
       "  {'transaction-id': 9704, 'amount': 200},\n",
       "  {'transaction-id': 9864, 'amount': 102},\n",
       "  {'transaction-id': 9877, 'amount': 179},\n",
       "  {'transaction-id': 9981, 'amount': 229}],\n",
       " [{'transaction-id': 3, 'amount': 436},\n",
       "  {'transaction-id': 379, 'amount': 475},\n",
       "  {'transaction-id': 555, 'amount': 504},\n",
       "  {'transaction-id': 602, 'amount': 482},\n",
       "  {'transaction-id': 614, 'amount': 539},\n",
       "  {'transaction-id': 741, 'amount': 558},\n",
       "  {'transaction-id': 779, 'amount': 484},\n",
       "  {'transaction-id': 786, 'amount': 594},\n",
       "  {'transaction-id': 817, 'amount': 417},\n",
       "  {'transaction-id': 841, 'amount': 481},\n",
       "  {'transaction-id': 1086, 'amount': 462},\n",
       "  {'transaction-id': 1591, 'amount': 572},\n",
       "  {'transaction-id': 2018, 'amount': 497},\n",
       "  {'transaction-id': 2095, 'amount': 494},\n",
       "  {'transaction-id': 2254, 'amount': 488},\n",
       "  {'transaction-id': 2600, 'amount': 463},\n",
       "  {'transaction-id': 2641, 'amount': 526},\n",
       "  {'transaction-id': 2784, 'amount': 576},\n",
       "  {'transaction-id': 3044, 'amount': 524},\n",
       "  {'transaction-id': 3484, 'amount': 514},\n",
       "  {'transaction-id': 3784, 'amount': 505},\n",
       "  {'transaction-id': 4120, 'amount': 532},\n",
       "  {'transaction-id': 4130, 'amount': 503},\n",
       "  {'transaction-id': 4258, 'amount': 507},\n",
       "  {'transaction-id': 4308, 'amount': 458},\n",
       "  {'transaction-id': 4346, 'amount': 503},\n",
       "  {'transaction-id': 4374, 'amount': 515},\n",
       "  {'transaction-id': 4573, 'amount': 490},\n",
       "  {'transaction-id': 4860, 'amount': 544},\n",
       "  {'transaction-id': 5138, 'amount': 524},\n",
       "  {'transaction-id': 5209, 'amount': 554},\n",
       "  {'transaction-id': 5333, 'amount': 457},\n",
       "  {'transaction-id': 5379, 'amount': 408},\n",
       "  {'transaction-id': 5395, 'amount': 500},\n",
       "  {'transaction-id': 5548, 'amount': 497},\n",
       "  {'transaction-id': 5574, 'amount': 516},\n",
       "  {'transaction-id': 5652, 'amount': 510},\n",
       "  {'transaction-id': 5723, 'amount': 494},\n",
       "  {'transaction-id': 5858, 'amount': 498},\n",
       "  {'transaction-id': 6156, 'amount': 473},\n",
       "  {'transaction-id': 6297, 'amount': 521},\n",
       "  {'transaction-id': 6871, 'amount': 462},\n",
       "  {'transaction-id': 7022, 'amount': 488},\n",
       "  {'transaction-id': 7477, 'amount': 467},\n",
       "  {'transaction-id': 7528, 'amount': 492},\n",
       "  {'transaction-id': 7606, 'amount': 500},\n",
       "  {'transaction-id': 8026, 'amount': 514},\n",
       "  {'transaction-id': 8189, 'amount': 480},\n",
       "  {'transaction-id': 8289, 'amount': 524},\n",
       "  {'transaction-id': 8734, 'amount': 494},\n",
       "  {'transaction-id': 9410, 'amount': 477},\n",
       "  {'transaction-id': 9429, 'amount': 529},\n",
       "  {'transaction-id': 9433, 'amount': 468},\n",
       "  {'transaction-id': 9694, 'amount': 540},\n",
       "  {'transaction-id': 9891, 'amount': 595},\n",
       "  {'transaction-id': 9902, 'amount': 550},\n",
       "  {'transaction-id': 9958, 'amount': 512}],\n",
       " [{'transaction-id': 687, 'amount': 1761},\n",
       "  {'transaction-id': 875, 'amount': 1348},\n",
       "  {'transaction-id': 1130, 'amount': 1374},\n",
       "  {'transaction-id': 1510, 'amount': 1289},\n",
       "  {'transaction-id': 1700, 'amount': 1958},\n",
       "  {'transaction-id': 1807, 'amount': 1624},\n",
       "  {'transaction-id': 1900, 'amount': 1285},\n",
       "  {'transaction-id': 2511, 'amount': 1407},\n",
       "  {'transaction-id': 4367, 'amount': 1458},\n",
       "  {'transaction-id': 4590, 'amount': 1023},\n",
       "  {'transaction-id': 7210, 'amount': 1718},\n",
       "  {'transaction-id': 7341, 'amount': 1077},\n",
       "  {'transaction-id': 7987, 'amount': 1456},\n",
       "  {'transaction-id': 8118, 'amount': 1430},\n",
       "  {'transaction-id': 8250, 'amount': 1201},\n",
       "  {'transaction-id': 8461, 'amount': 2033},\n",
       "  {'transaction-id': 9272, 'amount': 1224},\n",
       "  {'transaction-id': 9388, 'amount': 1318},\n",
       "  {'transaction-id': 9736, 'amount': 978}])"
      ]
     },
     "execution_count": 15,
     "metadata": {},
     "output_type": "execute_result"
    }
   ],
   "source": [
    "(js.filter(lambda record: record['name'] == 'Alice')\n",
    "   .pluck('transactions')\n",
    "   .take(3))"
   ]
  },
  {
   "cell_type": "code",
   "execution_count": 16,
   "metadata": {
    "execution": {
     "iopub.execute_input": "2022-05-19T17:19:03.259371Z",
     "iopub.status.busy": "2022-05-19T17:19:03.258987Z",
     "iopub.status.idle": "2022-05-19T17:19:03.287650Z",
     "shell.execute_reply": "2022-05-19T17:19:03.286915Z"
    }
   },
   "outputs": [
    {
     "data": {
      "text/plain": [
       "({'transaction-id': 444, 'amount': 146},\n",
       " {'transaction-id': 738, 'amount': 222},\n",
       " {'transaction-id': 835, 'amount': 216})"
      ]
     },
     "execution_count": 16,
     "metadata": {},
     "output_type": "execute_result"
    }
   ],
   "source": [
    "(js.filter(lambda record: record['name'] == 'Alice')\n",
    "   .pluck('transactions')\n",
    "   .flatten()\n",
    "   .take(3))"
   ]
  },
  {
   "cell_type": "code",
   "execution_count": 17,
   "metadata": {
    "execution": {
     "iopub.execute_input": "2022-05-19T17:19:03.291249Z",
     "iopub.status.busy": "2022-05-19T17:19:03.290562Z",
     "iopub.status.idle": "2022-05-19T17:19:03.320555Z",
     "shell.execute_reply": "2022-05-19T17:19:03.319023Z"
    }
   },
   "outputs": [
    {
     "data": {
      "text/plain": [
       "(146, 222, 216)"
      ]
     },
     "execution_count": 17,
     "metadata": {},
     "output_type": "execute_result"
    }
   ],
   "source": [
    "(js.filter(lambda record: record['name'] == 'Alice')\n",
    "   .pluck('transactions')\n",
    "   .flatten()\n",
    "   .pluck('amount')\n",
    "   .take(3))"
   ]
  },
  {
   "cell_type": "code",
   "execution_count": 18,
   "metadata": {
    "execution": {
     "iopub.execute_input": "2022-05-19T17:19:03.324021Z",
     "iopub.status.busy": "2022-05-19T17:19:03.323420Z",
     "iopub.status.idle": "2022-05-19T17:19:03.776101Z",
     "shell.execute_reply": "2022-05-19T17:19:03.775263Z"
    }
   },
   "outputs": [
    {
     "data": {
      "text/plain": [
       "352.9318911972585"
      ]
     },
     "execution_count": 18,
     "metadata": {},
     "output_type": "execute_result"
    }
   ],
   "source": [
    "(js.filter(lambda record: record['name'] == 'Alice')\n",
    "   .pluck('transactions')\n",
    "   .flatten()\n",
    "   .pluck('amount')\n",
    "   .mean()\n",
    "   .compute())"
   ]
  },
  {
   "cell_type": "markdown",
   "metadata": {},
   "source": [
    "### Groupby and Foldby"
   ]
  },
  {
   "cell_type": "markdown",
   "metadata": {},
   "source": [
    "Often we want to group data by some function or key.  We can do this either with the `.groupby` method, which is straightforward but forces a full shuffle of the data (expensive) or with the harder-to-use but faster `.foldby` method, which does a streaming combined groupby and reduction.\n",
    "\n",
    "*  `groupby`:  Shuffles data so that all items with the same key are in the same key-value pair\n",
    "*  `foldby`:  Walks through the data accumulating a result per key\n",
    "\n",
    "*Note: the full groupby is particularly bad. In actual workloads you would do well to use `foldby` or switch to `DataFrame`s if possible.*"
   ]
  },
  {
   "cell_type": "markdown",
   "metadata": {},
   "source": [
    "### `groupby`"
   ]
  },
  {
   "cell_type": "markdown",
   "metadata": {},
   "source": [
    "Groupby collects items in your collection so that all items with the same value under some function are collected together into a key-value pair."
   ]
  },
  {
   "cell_type": "code",
   "execution_count": 19,
   "metadata": {
    "execution": {
     "iopub.execute_input": "2022-05-19T17:19:03.780126Z",
     "iopub.status.busy": "2022-05-19T17:19:03.779490Z",
     "iopub.status.idle": "2022-05-19T17:19:03.874355Z",
     "shell.execute_reply": "2022-05-19T17:19:03.873559Z"
    }
   },
   "outputs": [
    {
     "data": {
      "text/plain": [
       "[(7, ['Charlie']), (3, ['Bob', 'Dan']), (5, ['Alice', 'Edith', 'Frank'])]"
      ]
     },
     "execution_count": 19,
     "metadata": {},
     "output_type": "execute_result"
    }
   ],
   "source": [
    "b = db.from_sequence(['Alice', 'Bob', 'Charlie', 'Dan', 'Edith', 'Frank'])\n",
    "b.groupby(len).compute()  # names grouped by length"
   ]
  },
  {
   "cell_type": "code",
   "execution_count": 20,
   "metadata": {
    "execution": {
     "iopub.execute_input": "2022-05-19T17:19:03.878136Z",
     "iopub.status.busy": "2022-05-19T17:19:03.877414Z",
     "iopub.status.idle": "2022-05-19T17:19:04.049758Z",
     "shell.execute_reply": "2022-05-19T17:19:04.048832Z"
    }
   },
   "outputs": [
    {
     "data": {
      "text/plain": [
       "[(0, [0, 2, 4, 6, 8]), (1, [1, 3, 5, 7, 9])]"
      ]
     },
     "execution_count": 20,
     "metadata": {},
     "output_type": "execute_result"
    }
   ],
   "source": [
    "b = db.from_sequence(list(range(10)))\n",
    "b.groupby(lambda x: x % 2).compute()"
   ]
  },
  {
   "cell_type": "code",
   "execution_count": 21,
   "metadata": {
    "execution": {
     "iopub.execute_input": "2022-05-19T17:19:04.053865Z",
     "iopub.status.busy": "2022-05-19T17:19:04.053330Z",
     "iopub.status.idle": "2022-05-19T17:19:04.223066Z",
     "shell.execute_reply": "2022-05-19T17:19:04.222358Z"
    }
   },
   "outputs": [
    {
     "data": {
      "text/plain": [
       "[(0, 8), (1, 9)]"
      ]
     },
     "execution_count": 21,
     "metadata": {},
     "output_type": "execute_result"
    }
   ],
   "source": [
    "b.groupby(lambda x: x % 2).starmap(lambda k, v: (k, max(v))).compute()"
   ]
  },
  {
   "cell_type": "markdown",
   "metadata": {},
   "source": [
    "### `foldby`"
   ]
  },
  {
   "cell_type": "markdown",
   "metadata": {},
   "source": [
    "Foldby can be quite odd at first.  It is similar to the following functions from other libraries:\n",
    "\n",
    "*  [`toolz.reduceby`](http://toolz.readthedocs.io/en/latest/streaming-analytics.html#streaming-split-apply-combine)\n",
    "*  [`pyspark.RDD.combineByKey`](http://abshinn.github.io/python/apache-spark/2014/10/11/using-combinebykey-in-apache-spark/)\n",
    "\n",
    "When using `foldby` you provide \n",
    "\n",
    "1.  A key function on which to group elements\n",
    "2.  A binary operator such as you would pass to `reduce` that you use to perform reduction per each group\n",
    "3.  A combine binary operator that can combine the results of two `reduce` calls on different parts of your dataset.\n",
    "\n",
    "Your reduction must be associative.  It will happen in parallel in each of the partitions of your dataset.  Then all of these intermediate results will be combined by the `combine` binary operator."
   ]
  },
  {
   "cell_type": "code",
   "execution_count": 22,
   "metadata": {
    "execution": {
     "iopub.execute_input": "2022-05-19T17:19:04.227169Z",
     "iopub.status.busy": "2022-05-19T17:19:04.226594Z",
     "iopub.status.idle": "2022-05-19T17:19:04.282080Z",
     "shell.execute_reply": "2022-05-19T17:19:04.281356Z"
    }
   },
   "outputs": [
    {
     "data": {
      "text/plain": [
       "[(0, 8), (1, 9)]"
      ]
     },
     "execution_count": 22,
     "metadata": {},
     "output_type": "execute_result"
    }
   ],
   "source": [
    "b.foldby(lambda x: x % 2, binop=max, combine=max).compute()"
   ]
  },
  {
   "cell_type": "markdown",
   "metadata": {},
   "source": [
    "### Example with account data"
   ]
  },
  {
   "cell_type": "markdown",
   "metadata": {},
   "source": [
    "We find the number of people with the same name."
   ]
  },
  {
   "cell_type": "code",
   "execution_count": 23,
   "metadata": {
    "execution": {
     "iopub.execute_input": "2022-05-19T17:19:04.285909Z",
     "iopub.status.busy": "2022-05-19T17:19:04.285229Z",
     "iopub.status.idle": "2022-05-19T17:19:08.191721Z",
     "shell.execute_reply": "2022-05-19T17:19:08.190755Z"
    }
   },
   "outputs": [
    {
     "name": "stdout",
     "output_type": "stream",
     "text": [
      "[('Alice', 72), ('Alice', 72), ('Alice', 72), ('Alice', 84), ('Bob', 131), ('Bob', 132), ('Bob', 132), ('Bob', 153), ('Charlie', 84), ('Charlie', 84), ('Charlie', 84), ('Charlie', 98), ('Dan', 153), ('Dan', 155), ('Dan', 155), ('Dan', 180), ('Edith', 156), ('Edith', 156), ('Edith', 156), ('Edith', 182), ('Frank', 127), ('Frank', 129), ('Frank', 131), ('Frank', 152), ('George', 156), ('George', 156), ('George', 156), ('George', 182), ('Hannah', 69), ('Hannah', 69), ('Hannah', 70), ('Hannah', 81), ('Ingrid', 122), ('Ingrid', 128), ('Ingrid', 129), ('Ingrid', 147), ('Jerry', 109), ('Jerry', 109), ('Jerry', 110), ('Jerry', 128), ('Kevin', 105), ('Kevin', 108), ('Kevin', 108), ('Kevin', 124), ('Laura', 149), ('Laura', 151), ('Laura', 153), ('Laura', 177), ('Michael', 72), ('Michael', 72), ('Michael', 72), ('Michael', 84), ('Norbert', 84), ('Norbert', 84), ('Norbert', 84), ('Norbert', 98), ('Oliver', 120), ('Oliver', 120), ('Oliver', 120), ('Oliver', 140), ('Patricia', 119), ('Patricia', 120), ('Patricia', 120), ('Patricia', 140), ('Quinn', 81), ('Quinn', 83), ('Quinn', 83), ('Quinn', 96), ('Ray', 120), ('Ray', 120), ('Ray', 122), ('Ray', 140), ('Sarah', 96), ('Sarah', 96), ('Sarah', 96), ('Sarah', 112), ('Tim', 117), ('Tim', 119), ('Tim', 120), ('Tim', 139), ('Ursula', 156), ('Ursula', 156), ('Ursula', 156), ('Ursula', 182), ('Victor', 84), ('Victor', 84), ('Victor', 84), ('Victor', 98), ('Wendy', 72), ('Wendy', 72), ('Wendy', 72), ('Wendy', 84), ('Xavier', 102), ('Xavier', 104), ('Xavier', 106), ('Xavier', 122), ('Yvonne', 96), ('Yvonne', 97), ('Yvonne', 97), ('Yvonne', 112), ('Zelda', 149), ('Zelda', 150), ('Zelda', 152), ('Zelda', 178)]\n",
      "CPU times: user 1.06 s, sys: 58.3 ms, total: 1.11 s\n",
      "Wall time: 3.9 s\n"
     ]
    }
   ],
   "source": [
    "%%time\n",
    "# Warning, this one takes a while...\n",
    "result = js.groupby(lambda item: item['name']).starmap(lambda k, v: (k, len(v))).compute()\n",
    "print(sorted(result))"
   ]
  },
  {
   "cell_type": "code",
   "execution_count": 24,
   "metadata": {
    "execution": {
     "iopub.execute_input": "2022-05-19T17:19:08.195859Z",
     "iopub.status.busy": "2022-05-19T17:19:08.195100Z",
     "iopub.status.idle": "2022-05-19T17:19:08.689977Z",
     "shell.execute_reply": "2022-05-19T17:19:08.688862Z"
    }
   },
   "outputs": [
    {
     "name": "stdout",
     "output_type": "stream",
     "text": [
      "[('Alice', 300), ('Bob', 548), ('Charlie', 350), ('Dan', 643), ('Edith', 650), ('Frank', 539), ('George', 650), ('Hannah', 289), ('Ingrid', 526), ('Jerry', 456), ('Kevin', 445), ('Laura', 630), ('Michael', 300), ('Norbert', 350), ('Oliver', 500), ('Patricia', 499), ('Quinn', 343), ('Ray', 502), ('Sarah', 400), ('Tim', 495), ('Ursula', 650), ('Victor', 350), ('Wendy', 300), ('Xavier', 434), ('Yvonne', 402), ('Zelda', 629)]\n",
      "CPU times: user 140 ms, sys: 10 ms, total: 150 ms\n",
      "Wall time: 488 ms\n"
     ]
    }
   ],
   "source": [
    "%%time\n",
    "# This one is comparatively fast and produces the same result.\n",
    "from operator import add\n",
    "def incr(tot, _):\n",
    "    return tot + 1\n",
    "\n",
    "result = js.foldby(key='name', \n",
    "                   binop=incr, \n",
    "                   initial=0, \n",
    "                   combine=add, \n",
    "                   combine_initial=0).compute()\n",
    "print(sorted(result))"
   ]
  },
  {
   "cell_type": "markdown",
   "metadata": {},
   "source": [
    "### Exercise: compute total amount per name"
   ]
  },
  {
   "cell_type": "markdown",
   "metadata": {},
   "source": [
    "We want to groupby (or foldby) the `name` key, then add up the all of the amounts for each name.\n",
    "\n",
    "Steps\n",
    "\n",
    "1.  Create a small function that, given a dictionary like \n",
    "\n",
    "        {'name': 'Alice', 'transactions': [{'amount': 1, 'id': 123}, {'amount': 2, 'id': 456}]}\n",
    "        \n",
    "    produces the sum of the amounts, e.g. `3`\n",
    "    \n",
    "2.  Slightly change the binary operator of the `foldby` example above so that the binary operator doesn't count the number of entries, but instead accumulates the sum of the amounts."
   ]
  },
  {
   "cell_type": "code",
   "execution_count": 25,
   "metadata": {
    "execution": {
     "iopub.execute_input": "2022-05-19T17:19:08.693678Z",
     "iopub.status.busy": "2022-05-19T17:19:08.692992Z",
     "iopub.status.idle": "2022-05-19T17:19:08.696649Z",
     "shell.execute_reply": "2022-05-19T17:19:08.695773Z"
    }
   },
   "outputs": [],
   "source": [
    "# Your code here..."
   ]
  },
  {
   "cell_type": "markdown",
   "metadata": {},
   "source": [
    "## DataFrames"
   ]
  },
  {
   "cell_type": "markdown",
   "metadata": {},
   "source": [
    "For the same reasons that Pandas is often faster than pure Python, `dask.dataframe` can be faster than `dask.bag`.  We will work more with DataFrames later, but from the point of view of a Bag, it is frequently the end-point of the \"messy\" part of data ingestion—once the data can be made into a data-frame, then complex split-apply-combine logic will become much more straight-forward and efficient.\n",
    "\n",
    "You can transform a bag with a simple tuple or flat dictionary structure into a `dask.dataframe` with the `to_dataframe` method."
   ]
  },
  {
   "cell_type": "code",
   "execution_count": 26,
   "metadata": {
    "execution": {
     "iopub.execute_input": "2022-05-19T17:19:08.700354Z",
     "iopub.status.busy": "2022-05-19T17:19:08.699876Z",
     "iopub.status.idle": "2022-05-19T17:19:09.230269Z",
     "shell.execute_reply": "2022-05-19T17:19:09.229466Z"
    }
   },
   "outputs": [
    {
     "name": "stderr",
     "output_type": "stream",
     "text": [
      "/usr/share/miniconda3/envs/dask-tutorial/lib/python3.8/site-packages/dask/dataframe/backends.py:187: FutureWarning: pandas.Int64Index is deprecated and will be removed from pandas in a future version. Use pandas.Index with the appropriate dtype instead.\n",
      "  _numeric_index_types = (pd.Int64Index, pd.Float64Index, pd.UInt64Index)\n",
      "/usr/share/miniconda3/envs/dask-tutorial/lib/python3.8/site-packages/dask/dataframe/backends.py:187: FutureWarning: pandas.Float64Index is deprecated and will be removed from pandas in a future version. Use pandas.Index with the appropriate dtype instead.\n",
      "  _numeric_index_types = (pd.Int64Index, pd.Float64Index, pd.UInt64Index)\n",
      "/usr/share/miniconda3/envs/dask-tutorial/lib/python3.8/site-packages/dask/dataframe/backends.py:187: FutureWarning: pandas.UInt64Index is deprecated and will be removed from pandas in a future version. Use pandas.Index with the appropriate dtype instead.\n",
      "  _numeric_index_types = (pd.Int64Index, pd.Float64Index, pd.UInt64Index)\n"
     ]
    },
    {
     "data": {
      "text/html": [
       "<div>\n",
       "<style scoped>\n",
       "    .dataframe tbody tr th:only-of-type {\n",
       "        vertical-align: middle;\n",
       "    }\n",
       "\n",
       "    .dataframe tbody tr th {\n",
       "        vertical-align: top;\n",
       "    }\n",
       "\n",
       "    .dataframe thead th {\n",
       "        text-align: right;\n",
       "    }\n",
       "</style>\n",
       "<table border=\"1\" class=\"dataframe\">\n",
       "  <thead>\n",
       "    <tr style=\"text-align: right;\">\n",
       "      <th></th>\n",
       "      <th>id</th>\n",
       "      <th>name</th>\n",
       "      <th>transactions</th>\n",
       "    </tr>\n",
       "  </thead>\n",
       "  <tbody>\n",
       "    <tr>\n",
       "      <th>0</th>\n",
       "      <td>0</td>\n",
       "      <td>George</td>\n",
       "      <td>[{'transaction-id': 523, 'amount': 760}, {'tra...</td>\n",
       "    </tr>\n",
       "    <tr>\n",
       "      <th>1</th>\n",
       "      <td>1</td>\n",
       "      <td>George</td>\n",
       "      <td>[{'transaction-id': 62, 'amount': 2}, {'transa...</td>\n",
       "    </tr>\n",
       "    <tr>\n",
       "      <th>2</th>\n",
       "      <td>2</td>\n",
       "      <td>Alice</td>\n",
       "      <td>[{'transaction-id': 444, 'amount': 146}, {'tra...</td>\n",
       "    </tr>\n",
       "    <tr>\n",
       "      <th>3</th>\n",
       "      <td>3</td>\n",
       "      <td>Edith</td>\n",
       "      <td>[{'transaction-id': 1400, 'amount': 237}, {'tr...</td>\n",
       "    </tr>\n",
       "    <tr>\n",
       "      <th>4</th>\n",
       "      <td>4</td>\n",
       "      <td>Wendy</td>\n",
       "      <td>[{'transaction-id': 161, 'amount': 301}, {'tra...</td>\n",
       "    </tr>\n",
       "  </tbody>\n",
       "</table>\n",
       "</div>"
      ],
      "text/plain": [
       "   id    name                                       transactions\n",
       "0   0  George  [{'transaction-id': 523, 'amount': 760}, {'tra...\n",
       "1   1  George  [{'transaction-id': 62, 'amount': 2}, {'transa...\n",
       "2   2   Alice  [{'transaction-id': 444, 'amount': 146}, {'tra...\n",
       "3   3   Edith  [{'transaction-id': 1400, 'amount': 237}, {'tr...\n",
       "4   4   Wendy  [{'transaction-id': 161, 'amount': 301}, {'tra..."
      ]
     },
     "execution_count": 26,
     "metadata": {},
     "output_type": "execute_result"
    }
   ],
   "source": [
    "df1 = js.to_dataframe()\n",
    "df1.head()"
   ]
  },
  {
   "cell_type": "markdown",
   "metadata": {},
   "source": [
    "This now looks like a well-defined DataFrame, and we can apply Pandas-like computations to it efficiently."
   ]
  },
  {
   "cell_type": "markdown",
   "metadata": {},
   "source": [
    "Using a Dask DataFrame, how long does it take to do our prior computation of numbers of people with the same name?  It turns out that `dask.dataframe.groupby()` beats `dask.bag.groupby()` by more than an order of magnitude; but it still cannot match `dask.bag.foldby()` for this case."
   ]
  },
  {
   "cell_type": "code",
   "execution_count": 27,
   "metadata": {
    "execution": {
     "iopub.execute_input": "2022-05-19T17:19:09.233846Z",
     "iopub.status.busy": "2022-05-19T17:19:09.233540Z",
     "iopub.status.idle": "2022-05-19T17:19:10.615664Z",
     "shell.execute_reply": "2022-05-19T17:19:10.614815Z"
    }
   },
   "outputs": [
    {
     "name": "stdout",
     "output_type": "stream",
     "text": [
      "CPU times: user 225 ms, sys: 20.5 ms, total: 245 ms\n",
      "Wall time: 1.37 s\n"
     ]
    },
    {
     "data": {
      "text/plain": [
       "name\n",
       "Alice      300\n",
       "Bob        548\n",
       "Charlie    350\n",
       "Dan        643\n",
       "Edith      650\n",
       "Name: id, dtype: int64"
      ]
     },
     "execution_count": 27,
     "metadata": {},
     "output_type": "execute_result"
    }
   ],
   "source": [
    "%time df1.groupby('name').id.count().compute().head()"
   ]
  },
  {
   "cell_type": "markdown",
   "metadata": {},
   "source": [
    "### Denormalization"
   ]
  },
  {
   "cell_type": "markdown",
   "metadata": {},
   "source": [
    "This DataFrame format is less-than-optimal because the `transactions` column is filled with nested data so Pandas has to revert to `object` dtype, which is quite slow in Pandas.  Ideally we want to transform to a dataframe only after we have flattened our data so that each record is a single `int`, `string`, `float`, etc.."
   ]
  },
  {
   "cell_type": "code",
   "execution_count": 28,
   "metadata": {
    "execution": {
     "iopub.execute_input": "2022-05-19T17:19:10.619365Z",
     "iopub.status.busy": "2022-05-19T17:19:10.618819Z",
     "iopub.status.idle": "2022-05-19T17:19:10.649360Z",
     "shell.execute_reply": "2022-05-19T17:19:10.648627Z"
    }
   },
   "outputs": [
    {
     "data": {
      "text/plain": [
       "({'id': 0, 'name': 'George', 'amount': 760, 'transaction-id': 523},\n",
       " {'id': 0, 'name': 'George', 'amount': 787, 'transaction-id': 990},\n",
       " {'id': 0, 'name': 'George', 'amount': 812, 'transaction-id': 3452})"
      ]
     },
     "execution_count": 28,
     "metadata": {},
     "output_type": "execute_result"
    }
   ],
   "source": [
    "def denormalize(record):\n",
    "    # returns a list for each person, one item per transaction\n",
    "    return [{'id': record['id'], \n",
    "             'name': record['name'], \n",
    "             'amount': transaction['amount'], \n",
    "             'transaction-id': transaction['transaction-id']}\n",
    "            for transaction in record['transactions']]\n",
    "\n",
    "transactions = js.map(denormalize).flatten()\n",
    "transactions.take(3)"
   ]
  },
  {
   "cell_type": "code",
   "execution_count": 29,
   "metadata": {
    "execution": {
     "iopub.execute_input": "2022-05-19T17:19:10.653526Z",
     "iopub.status.busy": "2022-05-19T17:19:10.653017Z",
     "iopub.status.idle": "2022-05-19T17:19:10.736118Z",
     "shell.execute_reply": "2022-05-19T17:19:10.735153Z"
    }
   },
   "outputs": [
    {
     "data": {
      "text/html": [
       "<div>\n",
       "<style scoped>\n",
       "    .dataframe tbody tr th:only-of-type {\n",
       "        vertical-align: middle;\n",
       "    }\n",
       "\n",
       "    .dataframe tbody tr th {\n",
       "        vertical-align: top;\n",
       "    }\n",
       "\n",
       "    .dataframe thead th {\n",
       "        text-align: right;\n",
       "    }\n",
       "</style>\n",
       "<table border=\"1\" class=\"dataframe\">\n",
       "  <thead>\n",
       "    <tr style=\"text-align: right;\">\n",
       "      <th></th>\n",
       "      <th>id</th>\n",
       "      <th>name</th>\n",
       "      <th>amount</th>\n",
       "      <th>transaction-id</th>\n",
       "    </tr>\n",
       "  </thead>\n",
       "  <tbody>\n",
       "    <tr>\n",
       "      <th>0</th>\n",
       "      <td>0</td>\n",
       "      <td>George</td>\n",
       "      <td>760</td>\n",
       "      <td>523</td>\n",
       "    </tr>\n",
       "    <tr>\n",
       "      <th>1</th>\n",
       "      <td>0</td>\n",
       "      <td>George</td>\n",
       "      <td>787</td>\n",
       "      <td>990</td>\n",
       "    </tr>\n",
       "    <tr>\n",
       "      <th>2</th>\n",
       "      <td>0</td>\n",
       "      <td>George</td>\n",
       "      <td>812</td>\n",
       "      <td>3452</td>\n",
       "    </tr>\n",
       "    <tr>\n",
       "      <th>3</th>\n",
       "      <td>0</td>\n",
       "      <td>George</td>\n",
       "      <td>798</td>\n",
       "      <td>3700</td>\n",
       "    </tr>\n",
       "    <tr>\n",
       "      <th>4</th>\n",
       "      <td>0</td>\n",
       "      <td>George</td>\n",
       "      <td>735</td>\n",
       "      <td>4313</td>\n",
       "    </tr>\n",
       "  </tbody>\n",
       "</table>\n",
       "</div>"
      ],
      "text/plain": [
       "   id    name  amount  transaction-id\n",
       "0   0  George     760             523\n",
       "1   0  George     787             990\n",
       "2   0  George     812            3452\n",
       "3   0  George     798            3700\n",
       "4   0  George     735            4313"
      ]
     },
     "execution_count": 29,
     "metadata": {},
     "output_type": "execute_result"
    }
   ],
   "source": [
    "df = transactions.to_dataframe()\n",
    "df.head()"
   ]
  },
  {
   "cell_type": "code",
   "execution_count": 30,
   "metadata": {
    "execution": {
     "iopub.execute_input": "2022-05-19T17:19:10.739897Z",
     "iopub.status.busy": "2022-05-19T17:19:10.739300Z",
     "iopub.status.idle": "2022-05-19T17:19:11.847523Z",
     "shell.execute_reply": "2022-05-19T17:19:11.846377Z"
    }
   },
   "outputs": [
    {
     "name": "stdout",
     "output_type": "stream",
     "text": [
      "CPU times: user 179 ms, sys: 24 ms, total: 203 ms\n",
      "Wall time: 1.09 s\n"
     ]
    },
    {
     "data": {
      "text/plain": [
       "name\n",
       "Alice       14007\n",
       "Bob         24171\n",
       "Charlie     27112\n",
       "Dan         30534\n",
       "Edith       34379\n",
       "Frank       21894\n",
       "George      29567\n",
       "Hannah       7378\n",
       "Ingrid      17199\n",
       "Jerry       15603\n",
       "Kevin       18315\n",
       "Laura       21380\n",
       "Michael      5740\n",
       "Norbert     26084\n",
       "Oliver      23919\n",
       "Patricia     8887\n",
       "Quinn        4730\n",
       "Ray         32227\n",
       "Sarah       17666\n",
       "Tim         19291\n",
       "Ursula      19524\n",
       "Victor       9453\n",
       "Wendy       14775\n",
       "Xavier      19799\n",
       "Yvonne       7144\n",
       "Zelda       29222\n",
       "Name: transaction-id, dtype: int64"
      ]
     },
     "execution_count": 30,
     "metadata": {},
     "output_type": "execute_result"
    }
   ],
   "source": [
    "%%time\n",
    "# number of transactions per name\n",
    "# note that the time here includes the data load and ingestion\n",
    "df.groupby('name')['transaction-id'].count().compute()"
   ]
  },
  {
   "cell_type": "markdown",
   "metadata": {},
   "source": [
    "## Limitations"
   ]
  },
  {
   "cell_type": "markdown",
   "metadata": {},
   "source": [
    "Bags provide very general computation (any Python function.)  This generality\n",
    "comes at cost.  Bags have the following known limitations\n",
    "\n",
    "1.  Bag operations tend to be slower than array/dataframe computations in the\n",
    "    same way that Python tends to be slower than NumPy/Pandas\n",
    "2.  ``Bag.groupby`` is slow.  You should try to use ``Bag.foldby`` if possible.\n",
    "    Using ``Bag.foldby`` requires more thought. Even better, consider creating\n",
    "    a normalised dataframe."
   ]
  },
  {
   "cell_type": "markdown",
   "metadata": {},
   "source": [
    "## Learn More\n",
    "\n",
    "* [Bag documentation](https://docs.dask.org/en/latest/bag.html)\n",
    "* [Bag screencast](https://youtu.be/-qIiJ1XtSv0)\n",
    "* [Bag API](https://docs.dask.org/en/latest/bag-api.html)\n",
    "* [Bag examples](https://examples.dask.org/bag.html)"
   ]
  },
  {
   "cell_type": "markdown",
   "metadata": {},
   "source": [
    "## Shutdown"
   ]
  },
  {
   "cell_type": "code",
   "execution_count": 31,
   "metadata": {
    "execution": {
     "iopub.execute_input": "2022-05-19T17:19:11.851212Z",
     "iopub.status.busy": "2022-05-19T17:19:11.850673Z",
     "iopub.status.idle": "2022-05-19T17:19:12.422855Z",
     "shell.execute_reply": "2022-05-19T17:19:12.421589Z"
    }
   },
   "outputs": [
    {
     "name": "stderr",
     "output_type": "stream",
     "text": [
      "/usr/share/miniconda3/envs/dask-tutorial/lib/python3.8/site-packages/dask/dataframe/backends.py:187: FutureWarning: pandas.Int64Index is deprecated and will be removed from pandas in a future version. Use pandas.Index with the appropriate dtype instead.\n",
      "  _numeric_index_types = (pd.Int64Index, pd.Float64Index, pd.UInt64Index)\n",
      "/usr/share/miniconda3/envs/dask-tutorial/lib/python3.8/site-packages/dask/dataframe/backends.py:187: FutureWarning: pandas.Float64Index is deprecated and will be removed from pandas in a future version. Use pandas.Index with the appropriate dtype instead.\n",
      "  _numeric_index_types = (pd.Int64Index, pd.Float64Index, pd.UInt64Index)\n",
      "/usr/share/miniconda3/envs/dask-tutorial/lib/python3.8/site-packages/dask/dataframe/backends.py:187: FutureWarning: pandas.UInt64Index is deprecated and will be removed from pandas in a future version. Use pandas.Index with the appropriate dtype instead.\n",
      "  _numeric_index_types = (pd.Int64Index, pd.Float64Index, pd.UInt64Index)\n",
      "/usr/share/miniconda3/envs/dask-tutorial/lib/python3.8/site-packages/dask/dataframe/backends.py:187: FutureWarning: pandas.Int64Index is deprecated and will be removed from pandas in a future version. Use pandas.Index with the appropriate dtype instead.\n",
      "  _numeric_index_types = (pd.Int64Index, pd.Float64Index, pd.UInt64Index)\n",
      "/usr/share/miniconda3/envs/dask-tutorial/lib/python3.8/site-packages/dask/dataframe/backends.py:187: FutureWarning: pandas.Float64Index is deprecated and will be removed from pandas in a future version. Use pandas.Index with the appropriate dtype instead.\n",
      "  _numeric_index_types = (pd.Int64Index, pd.Float64Index, pd.UInt64Index)\n",
      "/usr/share/miniconda3/envs/dask-tutorial/lib/python3.8/site-packages/dask/dataframe/backends.py:187: FutureWarning: pandas.UInt64Index is deprecated and will be removed from pandas in a future version. Use pandas.Index with the appropriate dtype instead.\n",
      "  _numeric_index_types = (pd.Int64Index, pd.Float64Index, pd.UInt64Index)\n",
      "/usr/share/miniconda3/envs/dask-tutorial/lib/python3.8/site-packages/dask/dataframe/backends.py:187: FutureWarning: pandas.Int64Index is deprecated and will be removed from pandas in a future version. Use pandas.Index with the appropriate dtype instead.\n",
      "  _numeric_index_types = (pd.Int64Index, pd.Float64Index, pd.UInt64Index)\n",
      "/usr/share/miniconda3/envs/dask-tutorial/lib/python3.8/site-packages/dask/dataframe/backends.py:187: FutureWarning: pandas.Float64Index is deprecated and will be removed from pandas in a future version. Use pandas.Index with the appropriate dtype instead.\n",
      "  _numeric_index_types = (pd.Int64Index, pd.Float64Index, pd.UInt64Index)\n",
      "/usr/share/miniconda3/envs/dask-tutorial/lib/python3.8/site-packages/dask/dataframe/backends.py:187: FutureWarning: pandas.UInt64Index is deprecated and will be removed from pandas in a future version. Use pandas.Index with the appropriate dtype instead.\n",
      "  _numeric_index_types = (pd.Int64Index, pd.Float64Index, pd.UInt64Index)\n",
      "/usr/share/miniconda3/envs/dask-tutorial/lib/python3.8/site-packages/dask/dataframe/backends.py:187: FutureWarning: pandas.Int64Index is deprecated and will be removed from pandas in a future version. Use pandas.Index with the appropriate dtype instead.\n",
      "  _numeric_index_types = (pd.Int64Index, pd.Float64Index, pd.UInt64Index)\n",
      "/usr/share/miniconda3/envs/dask-tutorial/lib/python3.8/site-packages/dask/dataframe/backends.py:187: FutureWarning: pandas.Float64Index is deprecated and will be removed from pandas in a future version. Use pandas.Index with the appropriate dtype instead.\n",
      "  _numeric_index_types = (pd.Int64Index, pd.Float64Index, pd.UInt64Index)\n",
      "/usr/share/miniconda3/envs/dask-tutorial/lib/python3.8/site-packages/dask/dataframe/backends.py:187: FutureWarning: pandas.UInt64Index is deprecated and will be removed from pandas in a future version. Use pandas.Index with the appropriate dtype instead.\n",
      "  _numeric_index_types = (pd.Int64Index, pd.Float64Index, pd.UInt64Index)\n"
     ]
    }
   ],
   "source": [
    "client.shutdown()"
   ]
  }
 ],
 "metadata": {
  "anaconda-cloud": {},
  "kernelspec": {
   "display_name": "Python 3",
   "language": "python",
   "name": "python3"
  },
  "language_info": {
   "codemirror_mode": {
    "name": "ipython",
    "version": 3
   },
   "file_extension": ".py",
   "mimetype": "text/x-python",
   "name": "python",
   "nbconvert_exporter": "python",
   "pygments_lexer": "ipython3",
   "version": "3.8.13"
  }
 },
 "nbformat": 4,
 "nbformat_minor": 4
}
