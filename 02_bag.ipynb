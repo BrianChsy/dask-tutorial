{
 "cells": [
  {
   "cell_type": "markdown",
   "metadata": {},
   "source": [
    "<img src=\"images/dask_horizontal.svg\" align=\"right\" width=\"30%\">"
   ]
  },
  {
   "cell_type": "markdown",
   "metadata": {},
   "source": [
    "# Bag: Parallel Lists for semi-structured data"
   ]
  },
  {
   "cell_type": "markdown",
   "metadata": {},
   "source": [
    "Dask-bag excels in processing data that can be represented as a sequence of arbitrary inputs. We'll refer to this as \"messy\" data, because it can contain complex nested structures, missing fields, mixtures of data types, etc. The *functional* programming style fits very nicely with standard Python iteration, such as can be found in the `itertools` module.\n",
    "\n",
    "Messy data is often encountered at the beginning of data processing pipelines when large volumes of raw data are first consumed. The initial set of data might be JSON, CSV, XML, or any other format that does not enforce strict structure and datatypes.\n",
    "For this reason, the initial data massaging and processing is often done with Python `list`s, `dict`s, and `set`s.\n",
    "\n",
    "These core data structures are optimized for general-purpose storage and processing.  Adding streaming computation with iterators/generator expressions or libraries like `itertools` or [`toolz`](https://toolz.readthedocs.io/en/latest/) let us process large volumes in a small space.  If we combine this with parallel processing then we can churn through a fair amount of data.\n",
    "\n",
    "Dask.bag is a high level Dask collection to automate common workloads of this form.  In a nutshell\n",
    "\n",
    "    dask.bag = map, filter, toolz + parallel execution\n",
    "    \n",
    "**Related Documentation**\n",
    "\n",
    "* [Bag documentation](https://docs.dask.org/en/latest/bag.html)\n",
    "* [Bag screencast](https://youtu.be/-qIiJ1XtSv0)\n",
    "* [Bag API](https://docs.dask.org/en/latest/bag-api.html)\n",
    "* [Bag examples](https://examples.dask.org/bag.html)"
   ]
  },
  {
   "cell_type": "markdown",
   "metadata": {},
   "source": [
    "## Create data"
   ]
  },
  {
   "cell_type": "code",
   "execution_count": 1,
   "metadata": {
    "execution": {
     "iopub.execute_input": "2022-01-13T15:28:37.487981Z",
     "iopub.status.busy": "2022-01-13T15:28:37.487478Z",
     "iopub.status.idle": "2022-01-13T15:28:38.036834Z",
     "shell.execute_reply": "2022-01-13T15:28:38.036271Z"
    }
   },
   "outputs": [],
   "source": [
    "%run prep.py -d accounts"
   ]
  },
  {
   "cell_type": "markdown",
   "metadata": {},
   "source": [
    "## Setup"
   ]
  },
  {
   "cell_type": "markdown",
   "metadata": {},
   "source": [
    "Again, we'll use the distributed scheduler. Schedulers will be explained in depth [later](05_distributed.ipynb)."
   ]
  },
  {
   "cell_type": "code",
   "execution_count": 2,
   "metadata": {
    "execution": {
     "iopub.execute_input": "2022-01-13T15:28:38.040959Z",
     "iopub.status.busy": "2022-01-13T15:28:38.039962Z",
     "iopub.status.idle": "2022-01-13T15:28:40.052819Z",
     "shell.execute_reply": "2022-01-13T15:28:40.052021Z"
    }
   },
   "outputs": [],
   "source": [
    "from dask.distributed import Client\n",
    "\n",
    "client = Client(n_workers=4)"
   ]
  },
  {
   "cell_type": "markdown",
   "metadata": {},
   "source": [
    "## Creation"
   ]
  },
  {
   "cell_type": "markdown",
   "metadata": {},
   "source": [
    "You can create a `Bag` from a Python sequence, from files, from data on S3, etc.\n",
    "We demonstrate using `.take()` to show elements of the data. (Doing `.take(1)` results in a tuple with one element)\n",
    "\n",
    "Note that the data are partitioned into blocks, and there are many items per block. In the first example, the two partitions contain five elements each, and in the following two, each file is partitioned into one or more bytes blocks."
   ]
  },
  {
   "cell_type": "code",
   "execution_count": 3,
   "metadata": {
    "execution": {
     "iopub.execute_input": "2022-01-13T15:28:40.057490Z",
     "iopub.status.busy": "2022-01-13T15:28:40.057071Z",
     "iopub.status.idle": "2022-01-13T15:28:40.326472Z",
     "shell.execute_reply": "2022-01-13T15:28:40.326063Z"
    }
   },
   "outputs": [
    {
     "data": {
      "text/plain": [
       "(1, 2, 3)"
      ]
     },
     "execution_count": 3,
     "metadata": {},
     "output_type": "execute_result"
    }
   ],
   "source": [
    "# each element is an integer\n",
    "import dask.bag as db\n",
    "b = db.from_sequence([1, 2, 3, 4, 5, 6, 7, 8, 9, 10], npartitions=2)\n",
    "b.take(3)"
   ]
  },
  {
   "cell_type": "code",
   "execution_count": 4,
   "metadata": {
    "execution": {
     "iopub.execute_input": "2022-01-13T15:28:40.331218Z",
     "iopub.status.busy": "2022-01-13T15:28:40.330624Z",
     "iopub.status.idle": "2022-01-13T15:28:40.425216Z",
     "shell.execute_reply": "2022-01-13T15:28:40.424801Z"
    }
   },
   "outputs": [
    {
     "data": {
      "text/plain": [
       "('{\"id\": 0, \"name\": \"Norbert\", \"transactions\": [{\"transaction-id\": 357, \"amount\": 1311}, {\"transaction-id\": 1051, \"amount\": 1467}, {\"transaction-id\": 1381, \"amount\": 1372}, {\"transaction-id\": 2052, \"amount\": 1221}, {\"transaction-id\": 2270, \"amount\": 1296}, {\"transaction-id\": 3640, \"amount\": 1374}, {\"transaction-id\": 4561, \"amount\": 1194}, {\"transaction-id\": 5639, \"amount\": 1528}, {\"transaction-id\": 6162, \"amount\": 1176}, {\"transaction-id\": 6978, \"amount\": 889}, {\"transaction-id\": 8236, \"amount\": 1126}, {\"transaction-id\": 9392, \"amount\": 1351}, {\"transaction-id\": 9635, \"amount\": 1060}]}\\n',)"
      ]
     },
     "execution_count": 4,
     "metadata": {},
     "output_type": "execute_result"
    }
   ],
   "source": [
    "# each element is a text file, where each line is a JSON object\n",
    "# note that the compression is handled automatically\n",
    "import os\n",
    "b = db.read_text(os.path.join('data', 'accounts.*.json.gz'))\n",
    "b.take(1)"
   ]
  },
  {
   "cell_type": "code",
   "execution_count": 5,
   "metadata": {
    "execution": {
     "iopub.execute_input": "2022-01-13T15:28:40.429508Z",
     "iopub.status.busy": "2022-01-13T15:28:40.428672Z",
     "iopub.status.idle": "2022-01-13T15:28:40.432415Z",
     "shell.execute_reply": "2022-01-13T15:28:40.432760Z"
    }
   },
   "outputs": [
    {
     "data": {
      "text/plain": [
       "'s3://dask-data/nyc-taxi/2015/yellow_tripdata_2015-01.csv'"
      ]
     },
     "execution_count": 5,
     "metadata": {},
     "output_type": "execute_result"
    }
   ],
   "source": [
    "# Edit sources.py to configure source locations\n",
    "import sources\n",
    "sources.bag_url"
   ]
  },
  {
   "cell_type": "code",
   "execution_count": 6,
   "metadata": {
    "execution": {
     "iopub.execute_input": "2022-01-13T15:28:40.436354Z",
     "iopub.status.busy": "2022-01-13T15:28:40.435938Z",
     "iopub.status.idle": "2022-01-13T15:28:41.465840Z",
     "shell.execute_reply": "2022-01-13T15:28:41.466183Z"
    }
   },
   "outputs": [
    {
     "data": {
      "text/plain": [
       "('VendorID,tpep_pickup_datetime,tpep_dropoff_datetime,passenger_count,trip_distance,pickup_longitude,pickup_latitude,RateCodeID,store_and_fwd_flag,dropoff_longitude,dropoff_latitude,payment_type,fare_amount,extra,mta_tax,tip_amount,tolls_amount,improvement_surcharge,total_amount\\n',)"
      ]
     },
     "execution_count": 6,
     "metadata": {},
     "output_type": "execute_result"
    }
   ],
   "source": [
    "# Requires `s3fs` library\n",
    "# each partition is a remote CSV text file\n",
    "b = db.read_text(sources.bag_url,\n",
    "                 storage_options={'anon': True})\n",
    "b.take(1)"
   ]
  },
  {
   "cell_type": "markdown",
   "metadata": {},
   "source": [
    "## Manipulation"
   ]
  },
  {
   "cell_type": "markdown",
   "metadata": {},
   "source": [
    "`Bag` objects hold the standard functional API found in projects like the Python standard library, `toolz`, or `pyspark`, including `map`, `filter`, `groupby`, etc..\n",
    "\n",
    "Operations on `Bag` objects create new bags.  Call the `.compute()` method to trigger execution, as we saw for `Delayed` objects.  "
   ]
  },
  {
   "cell_type": "code",
   "execution_count": 7,
   "metadata": {
    "execution": {
     "iopub.execute_input": "2022-01-13T15:28:41.473728Z",
     "iopub.status.busy": "2022-01-13T15:28:41.473285Z",
     "iopub.status.idle": "2022-01-13T15:28:41.475841Z",
     "shell.execute_reply": "2022-01-13T15:28:41.475406Z"
    }
   },
   "outputs": [
    {
     "data": {
      "text/plain": [
       "dask.bag<lambda, npartitions=10>"
      ]
     },
     "execution_count": 7,
     "metadata": {},
     "output_type": "execute_result"
    }
   ],
   "source": [
    "def is_even(n):\n",
    "    return n % 2 == 0\n",
    "\n",
    "b = db.from_sequence([1, 2, 3, 4, 5, 6, 7, 8, 9, 10])\n",
    "c = b.filter(is_even).map(lambda x: x ** 2)\n",
    "c"
   ]
  },
  {
   "cell_type": "code",
   "execution_count": 8,
   "metadata": {
    "execution": {
     "iopub.execute_input": "2022-01-13T15:28:41.485954Z",
     "iopub.status.busy": "2022-01-13T15:28:41.484968Z",
     "iopub.status.idle": "2022-01-13T15:28:41.604656Z",
     "shell.execute_reply": "2022-01-13T15:28:41.604248Z"
    }
   },
   "outputs": [
    {
     "data": {
      "text/plain": [
       "[4, 16, 36, 64, 100]"
      ]
     },
     "execution_count": 8,
     "metadata": {},
     "output_type": "execute_result"
    }
   ],
   "source": [
    "# blocking form: wait for completion (which is very fast in this case)\n",
    "c.compute()"
   ]
  },
  {
   "cell_type": "markdown",
   "metadata": {},
   "source": [
    "### Example: Accounts JSON data"
   ]
  },
  {
   "cell_type": "markdown",
   "metadata": {},
   "source": [
    "We've created a fake dataset of gzipped JSON data in your data directory.  This is like the example used in the `DataFrame` example we will see later, except that it has bundled up all of the entries for each individual `id` into a single record.  This is similar to data that you might collect off of a document store database or a web API.\n",
    "\n",
    "Each line is a JSON encoded dictionary with the following keys\n",
    "\n",
    "*  id: Unique identifier of the customer\n",
    "*  name: Name of the customer\n",
    "*  transactions: List of `transaction-id`, `amount` pairs, one for each transaction for the customer in that file"
   ]
  },
  {
   "cell_type": "code",
   "execution_count": 9,
   "metadata": {
    "execution": {
     "iopub.execute_input": "2022-01-13T15:28:41.608984Z",
     "iopub.status.busy": "2022-01-13T15:28:41.608233Z",
     "iopub.status.idle": "2022-01-13T15:28:41.643696Z",
     "shell.execute_reply": "2022-01-13T15:28:41.643312Z"
    }
   },
   "outputs": [
    {
     "data": {
      "text/plain": [
       "('{\"id\": 0, \"name\": \"Norbert\", \"transactions\": [{\"transaction-id\": 357, \"amount\": 1311}, {\"transaction-id\": 1051, \"amount\": 1467}, {\"transaction-id\": 1381, \"amount\": 1372}, {\"transaction-id\": 2052, \"amount\": 1221}, {\"transaction-id\": 2270, \"amount\": 1296}, {\"transaction-id\": 3640, \"amount\": 1374}, {\"transaction-id\": 4561, \"amount\": 1194}, {\"transaction-id\": 5639, \"amount\": 1528}, {\"transaction-id\": 6162, \"amount\": 1176}, {\"transaction-id\": 6978, \"amount\": 889}, {\"transaction-id\": 8236, \"amount\": 1126}, {\"transaction-id\": 9392, \"amount\": 1351}, {\"transaction-id\": 9635, \"amount\": 1060}]}\\n',\n",
       " '{\"id\": 1, \"name\": \"Dan\", \"transactions\": [{\"transaction-id\": 305, \"amount\": 806}, {\"transaction-id\": 926, \"amount\": 819}, {\"transaction-id\": 1502, \"amount\": 795}, {\"transaction-id\": 1911, \"amount\": 758}, {\"transaction-id\": 2598, \"amount\": 874}, {\"transaction-id\": 2762, \"amount\": 689}, {\"transaction-id\": 3271, \"amount\": 787}, {\"transaction-id\": 3323, \"amount\": 770}, {\"transaction-id\": 4713, \"amount\": 800}, {\"transaction-id\": 5074, \"amount\": 771}, {\"transaction-id\": 5522, \"amount\": 834}, {\"transaction-id\": 6015, \"amount\": 858}, {\"transaction-id\": 6345, \"amount\": 828}, {\"transaction-id\": 6542, \"amount\": 631}, {\"transaction-id\": 6648, \"amount\": 790}, {\"transaction-id\": 7723, \"amount\": 797}, {\"transaction-id\": 8736, \"amount\": 787}]}\\n',\n",
       " '{\"id\": 2, \"name\": \"Edith\", \"transactions\": [{\"transaction-id\": 4494, \"amount\": 2}, {\"transaction-id\": 6132, \"amount\": 1}, {\"transaction-id\": 6536, \"amount\": 1}, {\"transaction-id\": 8472, \"amount\": 1}, {\"transaction-id\": 9560, \"amount\": 1}]}\\n')"
      ]
     },
     "execution_count": 9,
     "metadata": {},
     "output_type": "execute_result"
    }
   ],
   "source": [
    "filename = os.path.join('data', 'accounts.*.json.gz')\n",
    "lines = db.read_text(filename)\n",
    "lines.take(3)"
   ]
  },
  {
   "cell_type": "markdown",
   "metadata": {},
   "source": [
    "Our data comes out of the file as lines of text. Notice that file decompression happened automatically. We can make this data look more reasonable by mapping the `json.loads` function onto our bag."
   ]
  },
  {
   "cell_type": "code",
   "execution_count": 10,
   "metadata": {
    "execution": {
     "iopub.execute_input": "2022-01-13T15:28:41.653012Z",
     "iopub.status.busy": "2022-01-13T15:28:41.652097Z",
     "iopub.status.idle": "2022-01-13T15:28:41.670653Z",
     "shell.execute_reply": "2022-01-13T15:28:41.670310Z"
    }
   },
   "outputs": [
    {
     "data": {
      "text/plain": [
       "({'id': 0,\n",
       "  'name': 'Norbert',\n",
       "  'transactions': [{'transaction-id': 357, 'amount': 1311},\n",
       "   {'transaction-id': 1051, 'amount': 1467},\n",
       "   {'transaction-id': 1381, 'amount': 1372},\n",
       "   {'transaction-id': 2052, 'amount': 1221},\n",
       "   {'transaction-id': 2270, 'amount': 1296},\n",
       "   {'transaction-id': 3640, 'amount': 1374},\n",
       "   {'transaction-id': 4561, 'amount': 1194},\n",
       "   {'transaction-id': 5639, 'amount': 1528},\n",
       "   {'transaction-id': 6162, 'amount': 1176},\n",
       "   {'transaction-id': 6978, 'amount': 889},\n",
       "   {'transaction-id': 8236, 'amount': 1126},\n",
       "   {'transaction-id': 9392, 'amount': 1351},\n",
       "   {'transaction-id': 9635, 'amount': 1060}]},\n",
       " {'id': 1,\n",
       "  'name': 'Dan',\n",
       "  'transactions': [{'transaction-id': 305, 'amount': 806},\n",
       "   {'transaction-id': 926, 'amount': 819},\n",
       "   {'transaction-id': 1502, 'amount': 795},\n",
       "   {'transaction-id': 1911, 'amount': 758},\n",
       "   {'transaction-id': 2598, 'amount': 874},\n",
       "   {'transaction-id': 2762, 'amount': 689},\n",
       "   {'transaction-id': 3271, 'amount': 787},\n",
       "   {'transaction-id': 3323, 'amount': 770},\n",
       "   {'transaction-id': 4713, 'amount': 800},\n",
       "   {'transaction-id': 5074, 'amount': 771},\n",
       "   {'transaction-id': 5522, 'amount': 834},\n",
       "   {'transaction-id': 6015, 'amount': 858},\n",
       "   {'transaction-id': 6345, 'amount': 828},\n",
       "   {'transaction-id': 6542, 'amount': 631},\n",
       "   {'transaction-id': 6648, 'amount': 790},\n",
       "   {'transaction-id': 7723, 'amount': 797},\n",
       "   {'transaction-id': 8736, 'amount': 787}]},\n",
       " {'id': 2,\n",
       "  'name': 'Edith',\n",
       "  'transactions': [{'transaction-id': 4494, 'amount': 2},\n",
       "   {'transaction-id': 6132, 'amount': 1},\n",
       "   {'transaction-id': 6536, 'amount': 1},\n",
       "   {'transaction-id': 8472, 'amount': 1},\n",
       "   {'transaction-id': 9560, 'amount': 1}]})"
      ]
     },
     "execution_count": 10,
     "metadata": {},
     "output_type": "execute_result"
    }
   ],
   "source": [
    "import json\n",
    "js = lines.map(json.loads)\n",
    "# take: inspect first few elements\n",
    "js.take(3)"
   ]
  },
  {
   "cell_type": "markdown",
   "metadata": {},
   "source": [
    "### Basic Queries"
   ]
  },
  {
   "cell_type": "markdown",
   "metadata": {},
   "source": [
    "Once we parse our JSON data into proper Python objects (`dict`s, `list`s, etc.) we can perform more interesting queries by creating small Python functions to run on our data."
   ]
  },
  {
   "cell_type": "code",
   "execution_count": 11,
   "metadata": {
    "execution": {
     "iopub.execute_input": "2022-01-13T15:28:41.674571Z",
     "iopub.status.busy": "2022-01-13T15:28:41.674125Z",
     "iopub.status.idle": "2022-01-13T15:28:41.708828Z",
     "shell.execute_reply": "2022-01-13T15:28:41.708495Z"
    }
   },
   "outputs": [
    {
     "data": {
      "text/plain": [
       "({'id': 62,\n",
       "  'name': 'Alice',\n",
       "  'transactions': [{'transaction-id': 328, 'amount': 300},\n",
       "   {'transaction-id': 557, 'amount': 296},\n",
       "   {'transaction-id': 683, 'amount': 328},\n",
       "   {'transaction-id': 714, 'amount': 306},\n",
       "   {'transaction-id': 976, 'amount': 314},\n",
       "   {'transaction-id': 979, 'amount': 337},\n",
       "   {'transaction-id': 1142, 'amount': 332},\n",
       "   {'transaction-id': 1241, 'amount': 305},\n",
       "   {'transaction-id': 1290, 'amount': 316},\n",
       "   {'transaction-id': 1332, 'amount': 306},\n",
       "   {'transaction-id': 1351, 'amount': 295},\n",
       "   {'transaction-id': 1554, 'amount': 325},\n",
       "   {'transaction-id': 1597, 'amount': 297},\n",
       "   {'transaction-id': 1874, 'amount': 279},\n",
       "   {'transaction-id': 1944, 'amount': 322},\n",
       "   {'transaction-id': 1991, 'amount': 320},\n",
       "   {'transaction-id': 2392, 'amount': 312},\n",
       "   {'transaction-id': 3269, 'amount': 308},\n",
       "   {'transaction-id': 3443, 'amount': 301},\n",
       "   {'transaction-id': 3576, 'amount': 332},\n",
       "   {'transaction-id': 3740, 'amount': 322},\n",
       "   {'transaction-id': 3747, 'amount': 348},\n",
       "   {'transaction-id': 3914, 'amount': 305},\n",
       "   {'transaction-id': 4003, 'amount': 298},\n",
       "   {'transaction-id': 4008, 'amount': 337},\n",
       "   {'transaction-id': 4034, 'amount': 310},\n",
       "   {'transaction-id': 4057, 'amount': 309},\n",
       "   {'transaction-id': 4092, 'amount': 336},\n",
       "   {'transaction-id': 4146, 'amount': 305},\n",
       "   {'transaction-id': 4736, 'amount': 318},\n",
       "   {'transaction-id': 5790, 'amount': 320},\n",
       "   {'transaction-id': 5962, 'amount': 287},\n",
       "   {'transaction-id': 6245, 'amount': 317},\n",
       "   {'transaction-id': 6957, 'amount': 277},\n",
       "   {'transaction-id': 7197, 'amount': 327},\n",
       "   {'transaction-id': 7377, 'amount': 317},\n",
       "   {'transaction-id': 7803, 'amount': 303},\n",
       "   {'transaction-id': 7839, 'amount': 325},\n",
       "   {'transaction-id': 7894, 'amount': 313},\n",
       "   {'transaction-id': 8458, 'amount': 309},\n",
       "   {'transaction-id': 8686, 'amount': 311},\n",
       "   {'transaction-id': 8870, 'amount': 303},\n",
       "   {'transaction-id': 9042, 'amount': 300},\n",
       "   {'transaction-id': 9123, 'amount': 319},\n",
       "   {'transaction-id': 9190, 'amount': 328},\n",
       "   {'transaction-id': 9461, 'amount': 304},\n",
       "   {'transaction-id': 9606, 'amount': 291},\n",
       "   {'transaction-id': 9668, 'amount': 318},\n",
       "   {'transaction-id': 9815, 'amount': 297},\n",
       "   {'transaction-id': 9936, 'amount': 334}]},\n",
       " {'id': 66,\n",
       "  'name': 'Alice',\n",
       "  'transactions': [{'transaction-id': 79, 'amount': -153},\n",
       "   {'transaction-id': 648, 'amount': -87},\n",
       "   {'transaction-id': 1580, 'amount': -151},\n",
       "   {'transaction-id': 4788, 'amount': -157},\n",
       "   {'transaction-id': 5542, 'amount': -323},\n",
       "   {'transaction-id': 5886, 'amount': 0},\n",
       "   {'transaction-id': 6004, 'amount': 95},\n",
       "   {'transaction-id': 6684, 'amount': 132},\n",
       "   {'transaction-id': 8546, 'amount': -251},\n",
       "   {'transaction-id': 8985, 'amount': -16},\n",
       "   {'transaction-id': 9929, 'amount': 15}]},\n",
       " {'id': 92,\n",
       "  'name': 'Alice',\n",
       "  'transactions': [{'transaction-id': 57, 'amount': 10647},\n",
       "   {'transaction-id': 86, 'amount': 11554},\n",
       "   {'transaction-id': 90, 'amount': 11915},\n",
       "   {'transaction-id': 231, 'amount': 12136},\n",
       "   {'transaction-id': 289, 'amount': 11061},\n",
       "   {'transaction-id': 369, 'amount': 10822},\n",
       "   {'transaction-id': 389, 'amount': 10685},\n",
       "   {'transaction-id': 468, 'amount': 11636},\n",
       "   {'transaction-id': 497, 'amount': 12032},\n",
       "   {'transaction-id': 523, 'amount': 11041},\n",
       "   {'transaction-id': 546, 'amount': 11197},\n",
       "   {'transaction-id': 666, 'amount': 11254},\n",
       "   {'transaction-id': 878, 'amount': 11672},\n",
       "   {'transaction-id': 1067, 'amount': 12136},\n",
       "   {'transaction-id': 1105, 'amount': 11072},\n",
       "   {'transaction-id': 1284, 'amount': 12010},\n",
       "   {'transaction-id': 1545, 'amount': 10528},\n",
       "   {'transaction-id': 1701, 'amount': 11308},\n",
       "   {'transaction-id': 1947, 'amount': 11762},\n",
       "   {'transaction-id': 2067, 'amount': 12007},\n",
       "   {'transaction-id': 2272, 'amount': 10441},\n",
       "   {'transaction-id': 2292, 'amount': 10770},\n",
       "   {'transaction-id': 2387, 'amount': 10626},\n",
       "   {'transaction-id': 2400, 'amount': 11373},\n",
       "   {'transaction-id': 2419, 'amount': 12198},\n",
       "   {'transaction-id': 2471, 'amount': 11661},\n",
       "   {'transaction-id': 2919, 'amount': 9942},\n",
       "   {'transaction-id': 2937, 'amount': 12146},\n",
       "   {'transaction-id': 3001, 'amount': 10702},\n",
       "   {'transaction-id': 3049, 'amount': 11235},\n",
       "   {'transaction-id': 3211, 'amount': 11682},\n",
       "   {'transaction-id': 3244, 'amount': 11104},\n",
       "   {'transaction-id': 3254, 'amount': 11050},\n",
       "   {'transaction-id': 3265, 'amount': 11289},\n",
       "   {'transaction-id': 3528, 'amount': 11569},\n",
       "   {'transaction-id': 3710, 'amount': 11523},\n",
       "   {'transaction-id': 3741, 'amount': 10956},\n",
       "   {'transaction-id': 3801, 'amount': 12155},\n",
       "   {'transaction-id': 3842, 'amount': 10823},\n",
       "   {'transaction-id': 3905, 'amount': 10301},\n",
       "   {'transaction-id': 4135, 'amount': 11039},\n",
       "   {'transaction-id': 4212, 'amount': 10999},\n",
       "   {'transaction-id': 4344, 'amount': 10361},\n",
       "   {'transaction-id': 4357, 'amount': 10523},\n",
       "   {'transaction-id': 4794, 'amount': 10756},\n",
       "   {'transaction-id': 4841, 'amount': 11363},\n",
       "   {'transaction-id': 4995, 'amount': 12121},\n",
       "   {'transaction-id': 5182, 'amount': 12723},\n",
       "   {'transaction-id': 5451, 'amount': 11146},\n",
       "   {'transaction-id': 5582, 'amount': 10446},\n",
       "   {'transaction-id': 5650, 'amount': 10169},\n",
       "   {'transaction-id': 5769, 'amount': 11665},\n",
       "   {'transaction-id': 6045, 'amount': 10830},\n",
       "   {'transaction-id': 6052, 'amount': 10851},\n",
       "   {'transaction-id': 6072, 'amount': 10945},\n",
       "   {'transaction-id': 6214, 'amount': 11984},\n",
       "   {'transaction-id': 6476, 'amount': 10490},\n",
       "   {'transaction-id': 6774, 'amount': 10063},\n",
       "   {'transaction-id': 6810, 'amount': 10657},\n",
       "   {'transaction-id': 6835, 'amount': 10993},\n",
       "   {'transaction-id': 6931, 'amount': 11382},\n",
       "   {'transaction-id': 7079, 'amount': 11088},\n",
       "   {'transaction-id': 7202, 'amount': 10701},\n",
       "   {'transaction-id': 7371, 'amount': 12617},\n",
       "   {'transaction-id': 7419, 'amount': 11573},\n",
       "   {'transaction-id': 7460, 'amount': 10698},\n",
       "   {'transaction-id': 7482, 'amount': 10968},\n",
       "   {'transaction-id': 7556, 'amount': 10945},\n",
       "   {'transaction-id': 7586, 'amount': 11422},\n",
       "   {'transaction-id': 7595, 'amount': 11404},\n",
       "   {'transaction-id': 7635, 'amount': 11654},\n",
       "   {'transaction-id': 7827, 'amount': 11233},\n",
       "   {'transaction-id': 7834, 'amount': 11329},\n",
       "   {'transaction-id': 8094, 'amount': 11333},\n",
       "   {'transaction-id': 8128, 'amount': 12111},\n",
       "   {'transaction-id': 8262, 'amount': 10350},\n",
       "   {'transaction-id': 8346, 'amount': 12021},\n",
       "   {'transaction-id': 8350, 'amount': 10724},\n",
       "   {'transaction-id': 8545, 'amount': 11500},\n",
       "   {'transaction-id': 8876, 'amount': 11120},\n",
       "   {'transaction-id': 8888, 'amount': 10946},\n",
       "   {'transaction-id': 8934, 'amount': 11165},\n",
       "   {'transaction-id': 9193, 'amount': 11471},\n",
       "   {'transaction-id': 9396, 'amount': 11918},\n",
       "   {'transaction-id': 9442, 'amount': 11830},\n",
       "   {'transaction-id': 9501, 'amount': 12157},\n",
       "   {'transaction-id': 9591, 'amount': 10871},\n",
       "   {'transaction-id': 9784, 'amount': 12311},\n",
       "   {'transaction-id': 9851, 'amount': 11939},\n",
       "   {'transaction-id': 9938, 'amount': 11696},\n",
       "   {'transaction-id': 9943, 'amount': 10572}]},\n",
       " {'id': 105,\n",
       "  'name': 'Alice',\n",
       "  'transactions': [{'transaction-id': 155, 'amount': 607},\n",
       "   {'transaction-id': 7304, 'amount': 641},\n",
       "   {'transaction-id': 7892, 'amount': 627}]},\n",
       " {'id': 106,\n",
       "  'name': 'Alice',\n",
       "  'transactions': [{'transaction-id': 101, 'amount': -6},\n",
       "   {'transaction-id': 212, 'amount': -4},\n",
       "   {'transaction-id': 252, 'amount': -3},\n",
       "   {'transaction-id': 353, 'amount': -3},\n",
       "   {'transaction-id': 537, 'amount': -4},\n",
       "   {'transaction-id': 571, 'amount': -1},\n",
       "   {'transaction-id': 630, 'amount': -5},\n",
       "   {'transaction-id': 635, 'amount': -4},\n",
       "   {'transaction-id': 722, 'amount': -5},\n",
       "   {'transaction-id': 932, 'amount': -6},\n",
       "   {'transaction-id': 936, 'amount': -4},\n",
       "   {'transaction-id': 1055, 'amount': -6},\n",
       "   {'transaction-id': 1057, 'amount': -7},\n",
       "   {'transaction-id': 1152, 'amount': -8},\n",
       "   {'transaction-id': 1158, 'amount': -7},\n",
       "   {'transaction-id': 1335, 'amount': -6},\n",
       "   {'transaction-id': 1657, 'amount': -6},\n",
       "   {'transaction-id': 2063, 'amount': -3},\n",
       "   {'transaction-id': 2214, 'amount': -5},\n",
       "   {'transaction-id': 2339, 'amount': -4},\n",
       "   {'transaction-id': 2347, 'amount': -5},\n",
       "   {'transaction-id': 2547, 'amount': -7},\n",
       "   {'transaction-id': 2608, 'amount': -5},\n",
       "   {'transaction-id': 2626, 'amount': -5},\n",
       "   {'transaction-id': 2973, 'amount': -5},\n",
       "   {'transaction-id': 3330, 'amount': -4},\n",
       "   {'transaction-id': 3490, 'amount': -5},\n",
       "   {'transaction-id': 3492, 'amount': -4},\n",
       "   {'transaction-id': 3642, 'amount': -5},\n",
       "   {'transaction-id': 3752, 'amount': -7},\n",
       "   {'transaction-id': 3834, 'amount': -4},\n",
       "   {'transaction-id': 3848, 'amount': -2},\n",
       "   {'transaction-id': 3958, 'amount': -5},\n",
       "   {'transaction-id': 4085, 'amount': -5},\n",
       "   {'transaction-id': 4129, 'amount': -5},\n",
       "   {'transaction-id': 4504, 'amount': -5},\n",
       "   {'transaction-id': 4678, 'amount': -5},\n",
       "   {'transaction-id': 4765, 'amount': -4},\n",
       "   {'transaction-id': 4834, 'amount': -5},\n",
       "   {'transaction-id': 4937, 'amount': -5},\n",
       "   {'transaction-id': 4994, 'amount': -4},\n",
       "   {'transaction-id': 5096, 'amount': -5},\n",
       "   {'transaction-id': 5143, 'amount': -5},\n",
       "   {'transaction-id': 5179, 'amount': -7},\n",
       "   {'transaction-id': 5381, 'amount': -7},\n",
       "   {'transaction-id': 5461, 'amount': -4},\n",
       "   {'transaction-id': 5480, 'amount': -6},\n",
       "   {'transaction-id': 5489, 'amount': -2},\n",
       "   {'transaction-id': 5668, 'amount': -4},\n",
       "   {'transaction-id': 5717, 'amount': -8},\n",
       "   {'transaction-id': 5836, 'amount': -5},\n",
       "   {'transaction-id': 5849, 'amount': -4},\n",
       "   {'transaction-id': 6025, 'amount': -4},\n",
       "   {'transaction-id': 6054, 'amount': -6},\n",
       "   {'transaction-id': 6060, 'amount': -5},\n",
       "   {'transaction-id': 6142, 'amount': -3},\n",
       "   {'transaction-id': 6236, 'amount': -3},\n",
       "   {'transaction-id': 6385, 'amount': -3},\n",
       "   {'transaction-id': 6489, 'amount': -4},\n",
       "   {'transaction-id': 6636, 'amount': -5},\n",
       "   {'transaction-id': 6699, 'amount': -7},\n",
       "   {'transaction-id': 6703, 'amount': -5},\n",
       "   {'transaction-id': 6969, 'amount': -3},\n",
       "   {'transaction-id': 7111, 'amount': -4},\n",
       "   {'transaction-id': 7379, 'amount': -6},\n",
       "   {'transaction-id': 7470, 'amount': -2},\n",
       "   {'transaction-id': 7591, 'amount': -5},\n",
       "   {'transaction-id': 7666, 'amount': -4},\n",
       "   {'transaction-id': 7686, 'amount': -7},\n",
       "   {'transaction-id': 7748, 'amount': -4},\n",
       "   {'transaction-id': 7846, 'amount': -4},\n",
       "   {'transaction-id': 8047, 'amount': -6},\n",
       "   {'transaction-id': 8192, 'amount': -7},\n",
       "   {'transaction-id': 8210, 'amount': -4},\n",
       "   {'transaction-id': 8324, 'amount': -2},\n",
       "   {'transaction-id': 8393, 'amount': -4},\n",
       "   {'transaction-id': 8495, 'amount': -3},\n",
       "   {'transaction-id': 8505, 'amount': -4},\n",
       "   {'transaction-id': 8649, 'amount': -3},\n",
       "   {'transaction-id': 9034, 'amount': -5},\n",
       "   {'transaction-id': 9044, 'amount': -7},\n",
       "   {'transaction-id': 9057, 'amount': -5},\n",
       "   {'transaction-id': 9058, 'amount': -7},\n",
       "   {'transaction-id': 9187, 'amount': -7},\n",
       "   {'transaction-id': 9320, 'amount': -3},\n",
       "   {'transaction-id': 9322, 'amount': -5},\n",
       "   {'transaction-id': 9435, 'amount': -3},\n",
       "   {'transaction-id': 9644, 'amount': -6},\n",
       "   {'transaction-id': 9666, 'amount': -4},\n",
       "   {'transaction-id': 9713, 'amount': -6},\n",
       "   {'transaction-id': 9914, 'amount': -4}]})"
      ]
     },
     "execution_count": 11,
     "metadata": {},
     "output_type": "execute_result"
    }
   ],
   "source": [
    "# filter: keep only some elements of the sequence\n",
    "js.filter(lambda record: record['name'] == 'Alice').take(5)"
   ]
  },
  {
   "cell_type": "code",
   "execution_count": 12,
   "metadata": {
    "execution": {
     "iopub.execute_input": "2022-01-13T15:28:41.717763Z",
     "iopub.status.busy": "2022-01-13T15:28:41.713431Z",
     "iopub.status.idle": "2022-01-13T15:28:41.734087Z",
     "shell.execute_reply": "2022-01-13T15:28:41.734401Z"
    }
   },
   "outputs": [
    {
     "data": {
      "text/plain": [
       "({'name': 'Alice', 'count': 50},\n",
       " {'name': 'Alice', 'count': 11},\n",
       " {'name': 'Alice', 'count': 91},\n",
       " {'name': 'Alice', 'count': 3},\n",
       " {'name': 'Alice', 'count': 91})"
      ]
     },
     "execution_count": 12,
     "metadata": {},
     "output_type": "execute_result"
    }
   ],
   "source": [
    "def count_transactions(d):\n",
    "    return {'name': d['name'], 'count': len(d['transactions'])}\n",
    "\n",
    "# map: apply a function to each element\n",
    "(js.filter(lambda record: record['name'] == 'Alice')\n",
    "   .map(count_transactions)\n",
    "   .take(5))"
   ]
  },
  {
   "cell_type": "code",
   "execution_count": 13,
   "metadata": {
    "execution": {
     "iopub.execute_input": "2022-01-13T15:28:41.737907Z",
     "iopub.status.busy": "2022-01-13T15:28:41.736121Z",
     "iopub.status.idle": "2022-01-13T15:28:41.757706Z",
     "shell.execute_reply": "2022-01-13T15:28:41.757326Z"
    }
   },
   "outputs": [
    {
     "data": {
      "text/plain": [
       "(50, 11, 91, 3, 91)"
      ]
     },
     "execution_count": 13,
     "metadata": {},
     "output_type": "execute_result"
    }
   ],
   "source": [
    "# pluck: select a field, as from a dictionary, element[field]\n",
    "(js.filter(lambda record: record['name'] == 'Alice')\n",
    "   .map(count_transactions)\n",
    "   .pluck('count')\n",
    "   .take(5))"
   ]
  },
  {
   "cell_type": "code",
   "execution_count": 14,
   "metadata": {
    "execution": {
     "iopub.execute_input": "2022-01-13T15:28:41.767194Z",
     "iopub.status.busy": "2022-01-13T15:28:41.766758Z",
     "iopub.status.idle": "2022-01-13T15:28:42.212283Z",
     "shell.execute_reply": "2022-01-13T15:28:42.212642Z"
    }
   },
   "outputs": [
    {
     "data": {
      "text/plain": [
       "36.98"
      ]
     },
     "execution_count": 14,
     "metadata": {},
     "output_type": "execute_result"
    }
   ],
   "source": [
    "# Average number of transactions for all of the Alice entries\n",
    "(js.filter(lambda record: record['name'] == 'Alice')\n",
    "   .map(count_transactions)\n",
    "   .pluck('count')\n",
    "   .mean()\n",
    "   .compute())"
   ]
  },
  {
   "cell_type": "markdown",
   "metadata": {},
   "source": [
    "### Use `flatten` to de-nest"
   ]
  },
  {
   "cell_type": "markdown",
   "metadata": {},
   "source": [
    "In the example below we see the use of `.flatten()` to flatten results.  We compute the average amount for all transactions for all Alices."
   ]
  },
  {
   "cell_type": "code",
   "execution_count": 15,
   "metadata": {
    "execution": {
     "iopub.execute_input": "2022-01-13T15:28:42.216750Z",
     "iopub.status.busy": "2022-01-13T15:28:42.216337Z",
     "iopub.status.idle": "2022-01-13T15:28:42.248980Z",
     "shell.execute_reply": "2022-01-13T15:28:42.248629Z"
    }
   },
   "outputs": [
    {
     "data": {
      "text/plain": [
       "([{'transaction-id': 328, 'amount': 300},\n",
       "  {'transaction-id': 557, 'amount': 296},\n",
       "  {'transaction-id': 683, 'amount': 328},\n",
       "  {'transaction-id': 714, 'amount': 306},\n",
       "  {'transaction-id': 976, 'amount': 314},\n",
       "  {'transaction-id': 979, 'amount': 337},\n",
       "  {'transaction-id': 1142, 'amount': 332},\n",
       "  {'transaction-id': 1241, 'amount': 305},\n",
       "  {'transaction-id': 1290, 'amount': 316},\n",
       "  {'transaction-id': 1332, 'amount': 306},\n",
       "  {'transaction-id': 1351, 'amount': 295},\n",
       "  {'transaction-id': 1554, 'amount': 325},\n",
       "  {'transaction-id': 1597, 'amount': 297},\n",
       "  {'transaction-id': 1874, 'amount': 279},\n",
       "  {'transaction-id': 1944, 'amount': 322},\n",
       "  {'transaction-id': 1991, 'amount': 320},\n",
       "  {'transaction-id': 2392, 'amount': 312},\n",
       "  {'transaction-id': 3269, 'amount': 308},\n",
       "  {'transaction-id': 3443, 'amount': 301},\n",
       "  {'transaction-id': 3576, 'amount': 332},\n",
       "  {'transaction-id': 3740, 'amount': 322},\n",
       "  {'transaction-id': 3747, 'amount': 348},\n",
       "  {'transaction-id': 3914, 'amount': 305},\n",
       "  {'transaction-id': 4003, 'amount': 298},\n",
       "  {'transaction-id': 4008, 'amount': 337},\n",
       "  {'transaction-id': 4034, 'amount': 310},\n",
       "  {'transaction-id': 4057, 'amount': 309},\n",
       "  {'transaction-id': 4092, 'amount': 336},\n",
       "  {'transaction-id': 4146, 'amount': 305},\n",
       "  {'transaction-id': 4736, 'amount': 318},\n",
       "  {'transaction-id': 5790, 'amount': 320},\n",
       "  {'transaction-id': 5962, 'amount': 287},\n",
       "  {'transaction-id': 6245, 'amount': 317},\n",
       "  {'transaction-id': 6957, 'amount': 277},\n",
       "  {'transaction-id': 7197, 'amount': 327},\n",
       "  {'transaction-id': 7377, 'amount': 317},\n",
       "  {'transaction-id': 7803, 'amount': 303},\n",
       "  {'transaction-id': 7839, 'amount': 325},\n",
       "  {'transaction-id': 7894, 'amount': 313},\n",
       "  {'transaction-id': 8458, 'amount': 309},\n",
       "  {'transaction-id': 8686, 'amount': 311},\n",
       "  {'transaction-id': 8870, 'amount': 303},\n",
       "  {'transaction-id': 9042, 'amount': 300},\n",
       "  {'transaction-id': 9123, 'amount': 319},\n",
       "  {'transaction-id': 9190, 'amount': 328},\n",
       "  {'transaction-id': 9461, 'amount': 304},\n",
       "  {'transaction-id': 9606, 'amount': 291},\n",
       "  {'transaction-id': 9668, 'amount': 318},\n",
       "  {'transaction-id': 9815, 'amount': 297},\n",
       "  {'transaction-id': 9936, 'amount': 334}],\n",
       " [{'transaction-id': 79, 'amount': -153},\n",
       "  {'transaction-id': 648, 'amount': -87},\n",
       "  {'transaction-id': 1580, 'amount': -151},\n",
       "  {'transaction-id': 4788, 'amount': -157},\n",
       "  {'transaction-id': 5542, 'amount': -323},\n",
       "  {'transaction-id': 5886, 'amount': 0},\n",
       "  {'transaction-id': 6004, 'amount': 95},\n",
       "  {'transaction-id': 6684, 'amount': 132},\n",
       "  {'transaction-id': 8546, 'amount': -251},\n",
       "  {'transaction-id': 8985, 'amount': -16},\n",
       "  {'transaction-id': 9929, 'amount': 15}],\n",
       " [{'transaction-id': 57, 'amount': 10647},\n",
       "  {'transaction-id': 86, 'amount': 11554},\n",
       "  {'transaction-id': 90, 'amount': 11915},\n",
       "  {'transaction-id': 231, 'amount': 12136},\n",
       "  {'transaction-id': 289, 'amount': 11061},\n",
       "  {'transaction-id': 369, 'amount': 10822},\n",
       "  {'transaction-id': 389, 'amount': 10685},\n",
       "  {'transaction-id': 468, 'amount': 11636},\n",
       "  {'transaction-id': 497, 'amount': 12032},\n",
       "  {'transaction-id': 523, 'amount': 11041},\n",
       "  {'transaction-id': 546, 'amount': 11197},\n",
       "  {'transaction-id': 666, 'amount': 11254},\n",
       "  {'transaction-id': 878, 'amount': 11672},\n",
       "  {'transaction-id': 1067, 'amount': 12136},\n",
       "  {'transaction-id': 1105, 'amount': 11072},\n",
       "  {'transaction-id': 1284, 'amount': 12010},\n",
       "  {'transaction-id': 1545, 'amount': 10528},\n",
       "  {'transaction-id': 1701, 'amount': 11308},\n",
       "  {'transaction-id': 1947, 'amount': 11762},\n",
       "  {'transaction-id': 2067, 'amount': 12007},\n",
       "  {'transaction-id': 2272, 'amount': 10441},\n",
       "  {'transaction-id': 2292, 'amount': 10770},\n",
       "  {'transaction-id': 2387, 'amount': 10626},\n",
       "  {'transaction-id': 2400, 'amount': 11373},\n",
       "  {'transaction-id': 2419, 'amount': 12198},\n",
       "  {'transaction-id': 2471, 'amount': 11661},\n",
       "  {'transaction-id': 2919, 'amount': 9942},\n",
       "  {'transaction-id': 2937, 'amount': 12146},\n",
       "  {'transaction-id': 3001, 'amount': 10702},\n",
       "  {'transaction-id': 3049, 'amount': 11235},\n",
       "  {'transaction-id': 3211, 'amount': 11682},\n",
       "  {'transaction-id': 3244, 'amount': 11104},\n",
       "  {'transaction-id': 3254, 'amount': 11050},\n",
       "  {'transaction-id': 3265, 'amount': 11289},\n",
       "  {'transaction-id': 3528, 'amount': 11569},\n",
       "  {'transaction-id': 3710, 'amount': 11523},\n",
       "  {'transaction-id': 3741, 'amount': 10956},\n",
       "  {'transaction-id': 3801, 'amount': 12155},\n",
       "  {'transaction-id': 3842, 'amount': 10823},\n",
       "  {'transaction-id': 3905, 'amount': 10301},\n",
       "  {'transaction-id': 4135, 'amount': 11039},\n",
       "  {'transaction-id': 4212, 'amount': 10999},\n",
       "  {'transaction-id': 4344, 'amount': 10361},\n",
       "  {'transaction-id': 4357, 'amount': 10523},\n",
       "  {'transaction-id': 4794, 'amount': 10756},\n",
       "  {'transaction-id': 4841, 'amount': 11363},\n",
       "  {'transaction-id': 4995, 'amount': 12121},\n",
       "  {'transaction-id': 5182, 'amount': 12723},\n",
       "  {'transaction-id': 5451, 'amount': 11146},\n",
       "  {'transaction-id': 5582, 'amount': 10446},\n",
       "  {'transaction-id': 5650, 'amount': 10169},\n",
       "  {'transaction-id': 5769, 'amount': 11665},\n",
       "  {'transaction-id': 6045, 'amount': 10830},\n",
       "  {'transaction-id': 6052, 'amount': 10851},\n",
       "  {'transaction-id': 6072, 'amount': 10945},\n",
       "  {'transaction-id': 6214, 'amount': 11984},\n",
       "  {'transaction-id': 6476, 'amount': 10490},\n",
       "  {'transaction-id': 6774, 'amount': 10063},\n",
       "  {'transaction-id': 6810, 'amount': 10657},\n",
       "  {'transaction-id': 6835, 'amount': 10993},\n",
       "  {'transaction-id': 6931, 'amount': 11382},\n",
       "  {'transaction-id': 7079, 'amount': 11088},\n",
       "  {'transaction-id': 7202, 'amount': 10701},\n",
       "  {'transaction-id': 7371, 'amount': 12617},\n",
       "  {'transaction-id': 7419, 'amount': 11573},\n",
       "  {'transaction-id': 7460, 'amount': 10698},\n",
       "  {'transaction-id': 7482, 'amount': 10968},\n",
       "  {'transaction-id': 7556, 'amount': 10945},\n",
       "  {'transaction-id': 7586, 'amount': 11422},\n",
       "  {'transaction-id': 7595, 'amount': 11404},\n",
       "  {'transaction-id': 7635, 'amount': 11654},\n",
       "  {'transaction-id': 7827, 'amount': 11233},\n",
       "  {'transaction-id': 7834, 'amount': 11329},\n",
       "  {'transaction-id': 8094, 'amount': 11333},\n",
       "  {'transaction-id': 8128, 'amount': 12111},\n",
       "  {'transaction-id': 8262, 'amount': 10350},\n",
       "  {'transaction-id': 8346, 'amount': 12021},\n",
       "  {'transaction-id': 8350, 'amount': 10724},\n",
       "  {'transaction-id': 8545, 'amount': 11500},\n",
       "  {'transaction-id': 8876, 'amount': 11120},\n",
       "  {'transaction-id': 8888, 'amount': 10946},\n",
       "  {'transaction-id': 8934, 'amount': 11165},\n",
       "  {'transaction-id': 9193, 'amount': 11471},\n",
       "  {'transaction-id': 9396, 'amount': 11918},\n",
       "  {'transaction-id': 9442, 'amount': 11830},\n",
       "  {'transaction-id': 9501, 'amount': 12157},\n",
       "  {'transaction-id': 9591, 'amount': 10871},\n",
       "  {'transaction-id': 9784, 'amount': 12311},\n",
       "  {'transaction-id': 9851, 'amount': 11939},\n",
       "  {'transaction-id': 9938, 'amount': 11696},\n",
       "  {'transaction-id': 9943, 'amount': 10572}])"
      ]
     },
     "execution_count": 15,
     "metadata": {},
     "output_type": "execute_result"
    }
   ],
   "source": [
    "(js.filter(lambda record: record['name'] == 'Alice')\n",
    "   .pluck('transactions')\n",
    "   .take(3))"
   ]
  },
  {
   "cell_type": "code",
   "execution_count": 16,
   "metadata": {
    "execution": {
     "iopub.execute_input": "2022-01-13T15:28:42.258083Z",
     "iopub.status.busy": "2022-01-13T15:28:42.252513Z",
     "iopub.status.idle": "2022-01-13T15:28:42.273594Z",
     "shell.execute_reply": "2022-01-13T15:28:42.274038Z"
    }
   },
   "outputs": [
    {
     "data": {
      "text/plain": [
       "({'transaction-id': 328, 'amount': 300},\n",
       " {'transaction-id': 557, 'amount': 296},\n",
       " {'transaction-id': 683, 'amount': 328})"
      ]
     },
     "execution_count": 16,
     "metadata": {},
     "output_type": "execute_result"
    }
   ],
   "source": [
    "(js.filter(lambda record: record['name'] == 'Alice')\n",
    "   .pluck('transactions')\n",
    "   .flatten()\n",
    "   .take(3))"
   ]
  },
  {
   "cell_type": "code",
   "execution_count": 17,
   "metadata": {
    "execution": {
     "iopub.execute_input": "2022-01-13T15:28:42.279069Z",
     "iopub.status.busy": "2022-01-13T15:28:42.277581Z",
     "iopub.status.idle": "2022-01-13T15:28:42.298249Z",
     "shell.execute_reply": "2022-01-13T15:28:42.297655Z"
    }
   },
   "outputs": [
    {
     "data": {
      "text/plain": [
       "(300, 296, 328)"
      ]
     },
     "execution_count": 17,
     "metadata": {},
     "output_type": "execute_result"
    }
   ],
   "source": [
    "(js.filter(lambda record: record['name'] == 'Alice')\n",
    "   .pluck('transactions')\n",
    "   .flatten()\n",
    "   .pluck('amount')\n",
    "   .take(3))"
   ]
  },
  {
   "cell_type": "code",
   "execution_count": 18,
   "metadata": {
    "execution": {
     "iopub.execute_input": "2022-01-13T15:28:42.308006Z",
     "iopub.status.busy": "2022-01-13T15:28:42.301964Z",
     "iopub.status.idle": "2022-01-13T15:28:42.668891Z",
     "shell.execute_reply": "2022-01-13T15:28:42.669221Z"
    }
   },
   "outputs": [
    {
     "data": {
      "text/plain": [
       "3159.9319226608977"
      ]
     },
     "execution_count": 18,
     "metadata": {},
     "output_type": "execute_result"
    }
   ],
   "source": [
    "(js.filter(lambda record: record['name'] == 'Alice')\n",
    "   .pluck('transactions')\n",
    "   .flatten()\n",
    "   .pluck('amount')\n",
    "   .mean()\n",
    "   .compute())"
   ]
  },
  {
   "cell_type": "markdown",
   "metadata": {},
   "source": [
    "### Groupby and Foldby"
   ]
  },
  {
   "cell_type": "markdown",
   "metadata": {},
   "source": [
    "Often we want to group data by some function or key.  We can do this either with the `.groupby` method, which is straightforward but forces a full shuffle of the data (expensive) or with the harder-to-use but faster `.foldby` method, which does a streaming combined groupby and reduction.\n",
    "\n",
    "*  `groupby`:  Shuffles data so that all items with the same key are in the same key-value pair\n",
    "*  `foldby`:  Walks through the data accumulating a result per key\n",
    "\n",
    "*Note: the full groupby is particularly bad. In actual workloads you would do well to use `foldby` or switch to `DataFrame`s if possible.*"
   ]
  },
  {
   "cell_type": "markdown",
   "metadata": {},
   "source": [
    "### `groupby`"
   ]
  },
  {
   "cell_type": "markdown",
   "metadata": {},
   "source": [
    "Groupby collects items in your collection so that all items with the same value under some function are collected together into a key-value pair."
   ]
  },
  {
   "cell_type": "code",
   "execution_count": 19,
   "metadata": {
    "execution": {
     "iopub.execute_input": "2022-01-13T15:28:42.681710Z",
     "iopub.status.busy": "2022-01-13T15:28:42.676271Z",
     "iopub.status.idle": "2022-01-13T15:28:42.748840Z",
     "shell.execute_reply": "2022-01-13T15:28:42.749502Z"
    }
   },
   "outputs": [
    {
     "data": {
      "text/plain": [
       "[(7, ['Charlie']), (3, ['Bob', 'Dan']), (5, ['Alice', 'Edith', 'Frank'])]"
      ]
     },
     "execution_count": 19,
     "metadata": {},
     "output_type": "execute_result"
    }
   ],
   "source": [
    "b = db.from_sequence(['Alice', 'Bob', 'Charlie', 'Dan', 'Edith', 'Frank'])\n",
    "b.groupby(len).compute()  # names grouped by length"
   ]
  },
  {
   "cell_type": "code",
   "execution_count": 20,
   "metadata": {
    "execution": {
     "iopub.execute_input": "2022-01-13T15:28:42.753315Z",
     "iopub.status.busy": "2022-01-13T15:28:42.751473Z",
     "iopub.status.idle": "2022-01-13T15:28:42.875601Z",
     "shell.execute_reply": "2022-01-13T15:28:42.875164Z"
    }
   },
   "outputs": [
    {
     "data": {
      "text/plain": [
       "[(0, [0, 2, 4, 6, 8]), (1, [1, 3, 5, 7, 9])]"
      ]
     },
     "execution_count": 20,
     "metadata": {},
     "output_type": "execute_result"
    }
   ],
   "source": [
    "b = db.from_sequence(list(range(10)))\n",
    "b.groupby(lambda x: x % 2).compute()"
   ]
  },
  {
   "cell_type": "code",
   "execution_count": 21,
   "metadata": {
    "execution": {
     "iopub.execute_input": "2022-01-13T15:28:42.893859Z",
     "iopub.status.busy": "2022-01-13T15:28:42.884729Z",
     "iopub.status.idle": "2022-01-13T15:28:43.017501Z",
     "shell.execute_reply": "2022-01-13T15:28:43.017116Z"
    }
   },
   "outputs": [
    {
     "data": {
      "text/plain": [
       "[(0, 8), (1, 9)]"
      ]
     },
     "execution_count": 21,
     "metadata": {},
     "output_type": "execute_result"
    }
   ],
   "source": [
    "b.groupby(lambda x: x % 2).starmap(lambda k, v: (k, max(v))).compute()"
   ]
  },
  {
   "cell_type": "markdown",
   "metadata": {},
   "source": [
    "### `foldby`"
   ]
  },
  {
   "cell_type": "markdown",
   "metadata": {},
   "source": [
    "Foldby can be quite odd at first.  It is similar to the following functions from other libraries:\n",
    "\n",
    "*  [`toolz.reduceby`](http://toolz.readthedocs.io/en/latest/streaming-analytics.html#streaming-split-apply-combine)\n",
    "*  [`pyspark.RDD.combineByKey`](http://abshinn.github.io/python/apache-spark/2014/10/11/using-combinebykey-in-apache-spark/)\n",
    "\n",
    "When using `foldby` you provide \n",
    "\n",
    "1.  A key function on which to group elements\n",
    "2.  A binary operator such as you would pass to `reduce` that you use to perform reduction per each group\n",
    "3.  A combine binary operator that can combine the results of two `reduce` calls on different parts of your dataset.\n",
    "\n",
    "Your reduction must be associative.  It will happen in parallel in each of the partitions of your dataset.  Then all of these intermediate results will be combined by the `combine` binary operator."
   ]
  },
  {
   "cell_type": "code",
   "execution_count": 22,
   "metadata": {
    "execution": {
     "iopub.execute_input": "2022-01-13T15:28:43.021589Z",
     "iopub.status.busy": "2022-01-13T15:28:43.021136Z",
     "iopub.status.idle": "2022-01-13T15:28:43.067208Z",
     "shell.execute_reply": "2022-01-13T15:28:43.067573Z"
    }
   },
   "outputs": [
    {
     "data": {
      "text/plain": [
       "[(0, 8), (1, 9)]"
      ]
     },
     "execution_count": 22,
     "metadata": {},
     "output_type": "execute_result"
    }
   ],
   "source": [
    "b.foldby(lambda x: x % 2, binop=max, combine=max).compute()"
   ]
  },
  {
   "cell_type": "markdown",
   "metadata": {},
   "source": [
    "### Example with account data"
   ]
  },
  {
   "cell_type": "markdown",
   "metadata": {},
   "source": [
    "We find the number of people with the same name."
   ]
  },
  {
   "cell_type": "code",
   "execution_count": 23,
   "metadata": {
    "execution": {
     "iopub.execute_input": "2022-01-13T15:28:43.078951Z",
     "iopub.status.busy": "2022-01-13T15:28:43.073488Z",
     "iopub.status.idle": "2022-01-13T15:28:46.950728Z",
     "shell.execute_reply": "2022-01-13T15:28:46.951365Z"
    }
   },
   "outputs": [
    {
     "name": "stdout",
     "output_type": "stream",
     "text": [
      "[('Alice', 96), ('Alice', 96), ('Alice', 96), ('Alice', 112), ('Bob', 108), ('Bob', 108), ('Bob', 108), ('Bob', 126), ('Charlie', 108), ('Charlie', 108), ('Charlie', 108), ('Charlie', 126), ('Dan', 108), ('Dan', 108), ('Dan', 108), ('Dan', 126), ('Edith', 51), ('Edith', 53), ('Edith', 54), ('Edith', 62), ('Frank', 84), ('Frank', 84), ('Frank', 84), ('Frank', 98), ('George', 228), ('George', 228), ('George', 228), ('George', 266), ('Hannah', 180), ('Hannah', 180), ('Hannah', 180), ('Hannah', 210), ('Ingrid', 152), ('Ingrid', 153), ('Ingrid', 154), ('Ingrid', 174), ('Jerry', 80), ('Jerry', 81), ('Jerry', 82), ('Jerry', 97), ('Kevin', 72), ('Kevin', 84), ('Kevin', 144), ('Laura', 116), ('Laura', 118), ('Laura', 119), ('Laura', 141), ('Michael', 114), ('Michael', 114), ('Michael', 115), ('Michael', 133), ('Norbert', 128), ('Norbert', 128), ('Norbert', 128), ('Norbert', 151), ('Oliver', 36), ('Oliver', 36), ('Oliver', 36), ('Oliver', 42), ('Patricia', 88), ('Patricia', 89), ('Patricia', 91), ('Patricia', 106), ('Quinn', 104), ('Quinn', 106), ('Quinn', 108), ('Quinn', 124), ('Ray', 83), ('Ray', 84), ('Ray', 84), ('Ray', 97), ('Sarah', 126), ('Sarah', 127), ('Sarah', 128), ('Sarah', 145), ('Tim', 72), ('Tim', 72), ('Tim', 72), ('Tim', 84), ('Ursula', 155), ('Ursula', 157), ('Ursula', 160), ('Ursula', 181), ('Victor', 83), ('Victor', 84), ('Victor', 84), ('Victor', 98), ('Wendy', 138), ('Wendy', 141), ('Wendy', 143), ('Wendy', 160), ('Xavier', 130), ('Xavier', 131), ('Xavier', 132), ('Xavier', 150), ('Yvonne', 155), ('Yvonne', 155), ('Yvonne', 156), ('Yvonne', 178), ('Zelda', 120), ('Zelda', 120), ('Zelda', 120), ('Zelda', 140)]\n",
      "CPU times: user 770 ms, sys: 55.3 ms, total: 825 ms\n",
      "Wall time: 3.88 s\n"
     ]
    }
   ],
   "source": [
    "%%time\n",
    "# Warning, this one takes a while...\n",
    "result = js.groupby(lambda item: item['name']).starmap(lambda k, v: (k, len(v))).compute()\n",
    "print(sorted(result))"
   ]
  },
  {
   "cell_type": "code",
   "execution_count": 24,
   "metadata": {
    "execution": {
     "iopub.execute_input": "2022-01-13T15:28:46.968449Z",
     "iopub.status.busy": "2022-01-13T15:28:46.968009Z",
     "iopub.status.idle": "2022-01-13T15:28:47.388684Z",
     "shell.execute_reply": "2022-01-13T15:28:47.388255Z"
    }
   },
   "outputs": [
    {
     "name": "stdout",
     "output_type": "stream",
     "text": [
      "[('Alice', 400), ('Bob', 450), ('Charlie', 450), ('Dan', 450), ('Edith', 220), ('Frank', 350), ('George', 950), ('Hannah', 750), ('Ingrid', 633), ('Jerry', 340), ('Kevin', 300), ('Laura', 494), ('Michael', 476), ('Norbert', 535), ('Oliver', 150), ('Patricia', 374), ('Quinn', 442), ('Ray', 348), ('Sarah', 526), ('Tim', 300), ('Ursula', 653), ('Victor', 349), ('Wendy', 582), ('Xavier', 543), ('Yvonne', 644), ('Zelda', 500)]\n",
      "CPU times: user 166 ms, sys: 12 ms, total: 178 ms\n",
      "Wall time: 418 ms\n"
     ]
    }
   ],
   "source": [
    "%%time\n",
    "# This one is comparatively fast and produces the same result.\n",
    "from operator import add\n",
    "def incr(tot, _):\n",
    "    return tot + 1\n",
    "\n",
    "result = js.foldby(key='name', \n",
    "                   binop=incr, \n",
    "                   initial=0, \n",
    "                   combine=add, \n",
    "                   combine_initial=0).compute()\n",
    "print(sorted(result))"
   ]
  },
  {
   "cell_type": "markdown",
   "metadata": {},
   "source": [
    "### Exercise: compute total amount per name"
   ]
  },
  {
   "cell_type": "markdown",
   "metadata": {},
   "source": [
    "We want to groupby (or foldby) the `name` key, then add up the all of the amounts for each name.\n",
    "\n",
    "Steps\n",
    "\n",
    "1.  Create a small function that, given a dictionary like \n",
    "\n",
    "        {'name': 'Alice', 'transactions': [{'amount': 1, 'id': 123}, {'amount': 2, 'id': 456}]}\n",
    "        \n",
    "    produces the sum of the amounts, e.g. `3`\n",
    "    \n",
    "2.  Slightly change the binary operator of the `foldby` example above so that the binary operator doesn't count the number of entries, but instead accumulates the sum of the amounts."
   ]
  },
  {
   "cell_type": "code",
   "execution_count": 25,
   "metadata": {
    "execution": {
     "iopub.execute_input": "2022-01-13T15:28:47.391905Z",
     "iopub.status.busy": "2022-01-13T15:28:47.391439Z",
     "iopub.status.idle": "2022-01-13T15:28:47.393631Z",
     "shell.execute_reply": "2022-01-13T15:28:47.393949Z"
    }
   },
   "outputs": [],
   "source": [
    "# Your code here..."
   ]
  },
  {
   "cell_type": "markdown",
   "metadata": {},
   "source": [
    "## DataFrames"
   ]
  },
  {
   "cell_type": "markdown",
   "metadata": {},
   "source": [
    "For the same reasons that Pandas is often faster than pure Python, `dask.dataframe` can be faster than `dask.bag`.  We will work more with DataFrames later, but from the point of view of a Bag, it is frequently the end-point of the \"messy\" part of data ingestion—once the data can be made into a data-frame, then complex split-apply-combine logic will become much more straight-forward and efficient.\n",
    "\n",
    "You can transform a bag with a simple tuple or flat dictionary structure into a `dask.dataframe` with the `to_dataframe` method."
   ]
  },
  {
   "cell_type": "code",
   "execution_count": 26,
   "metadata": {
    "execution": {
     "iopub.execute_input": "2022-01-13T15:28:47.396906Z",
     "iopub.status.busy": "2022-01-13T15:28:47.396502Z",
     "iopub.status.idle": "2022-01-13T15:28:47.818007Z",
     "shell.execute_reply": "2022-01-13T15:28:47.817642Z"
    }
   },
   "outputs": [
    {
     "data": {
      "text/html": [
       "<div>\n",
       "<style scoped>\n",
       "    .dataframe tbody tr th:only-of-type {\n",
       "        vertical-align: middle;\n",
       "    }\n",
       "\n",
       "    .dataframe tbody tr th {\n",
       "        vertical-align: top;\n",
       "    }\n",
       "\n",
       "    .dataframe thead th {\n",
       "        text-align: right;\n",
       "    }\n",
       "</style>\n",
       "<table border=\"1\" class=\"dataframe\">\n",
       "  <thead>\n",
       "    <tr style=\"text-align: right;\">\n",
       "      <th></th>\n",
       "      <th>id</th>\n",
       "      <th>name</th>\n",
       "      <th>transactions</th>\n",
       "    </tr>\n",
       "  </thead>\n",
       "  <tbody>\n",
       "    <tr>\n",
       "      <th>0</th>\n",
       "      <td>0</td>\n",
       "      <td>Norbert</td>\n",
       "      <td>[{'transaction-id': 357, 'amount': 1311}, {'tr...</td>\n",
       "    </tr>\n",
       "    <tr>\n",
       "      <th>1</th>\n",
       "      <td>1</td>\n",
       "      <td>Dan</td>\n",
       "      <td>[{'transaction-id': 305, 'amount': 806}, {'tra...</td>\n",
       "    </tr>\n",
       "    <tr>\n",
       "      <th>2</th>\n",
       "      <td>2</td>\n",
       "      <td>Edith</td>\n",
       "      <td>[{'transaction-id': 4494, 'amount': 2}, {'tran...</td>\n",
       "    </tr>\n",
       "    <tr>\n",
       "      <th>3</th>\n",
       "      <td>3</td>\n",
       "      <td>Tim</td>\n",
       "      <td>[{'transaction-id': 338, 'amount': 65}, {'tran...</td>\n",
       "    </tr>\n",
       "    <tr>\n",
       "      <th>4</th>\n",
       "      <td>4</td>\n",
       "      <td>Bob</td>\n",
       "      <td>[{'transaction-id': 121, 'amount': 996}, {'tra...</td>\n",
       "    </tr>\n",
       "  </tbody>\n",
       "</table>\n",
       "</div>"
      ],
      "text/plain": [
       "   id     name                                       transactions\n",
       "0   0  Norbert  [{'transaction-id': 357, 'amount': 1311}, {'tr...\n",
       "1   1      Dan  [{'transaction-id': 305, 'amount': 806}, {'tra...\n",
       "2   2    Edith  [{'transaction-id': 4494, 'amount': 2}, {'tran...\n",
       "3   3      Tim  [{'transaction-id': 338, 'amount': 65}, {'tran...\n",
       "4   4      Bob  [{'transaction-id': 121, 'amount': 996}, {'tra..."
      ]
     },
     "execution_count": 26,
     "metadata": {},
     "output_type": "execute_result"
    }
   ],
   "source": [
    "df1 = js.to_dataframe()\n",
    "df1.head()"
   ]
  },
  {
   "cell_type": "markdown",
   "metadata": {},
   "source": [
    "This now looks like a well-defined DataFrame, and we can apply Pandas-like computations to it efficiently."
   ]
  },
  {
   "cell_type": "markdown",
   "metadata": {},
   "source": [
    "Using a Dask DataFrame, how long does it take to do our prior computation of numbers of people with the same name?  It turns out that `dask.dataframe.groupby()` beats `dask.bag.groupby()` by more than an order of magnitude; but it still cannot match `dask.bag.foldby()` for this case."
   ]
  },
  {
   "cell_type": "code",
   "execution_count": 27,
   "metadata": {
    "execution": {
     "iopub.execute_input": "2022-01-13T15:28:47.825482Z",
     "iopub.status.busy": "2022-01-13T15:28:47.825062Z",
     "iopub.status.idle": "2022-01-13T15:28:49.060096Z",
     "shell.execute_reply": "2022-01-13T15:28:49.060483Z"
    }
   },
   "outputs": [
    {
     "name": "stdout",
     "output_type": "stream",
     "text": [
      "CPU times: user 175 ms, sys: 18.1 ms, total: 193 ms\n",
      "Wall time: 1.23 s\n"
     ]
    },
    {
     "data": {
      "text/plain": [
       "name\n",
       "Alice      400\n",
       "Bob        450\n",
       "Charlie    450\n",
       "Dan        450\n",
       "Edith      220\n",
       "Name: id, dtype: int64"
      ]
     },
     "execution_count": 27,
     "metadata": {},
     "output_type": "execute_result"
    }
   ],
   "source": [
    "%time df1.groupby('name').id.count().compute().head()"
   ]
  },
  {
   "cell_type": "markdown",
   "metadata": {},
   "source": [
    "### Denormalization"
   ]
  },
  {
   "cell_type": "markdown",
   "metadata": {},
   "source": [
    "This DataFrame format is less-than-optimal because the `transactions` column is filled with nested data so Pandas has to revert to `object` dtype, which is quite slow in Pandas.  Ideally we want to transform to a dataframe only after we have flattened our data so that each record is a single `int`, `string`, `float`, etc.."
   ]
  },
  {
   "cell_type": "code",
   "execution_count": 28,
   "metadata": {
    "execution": {
     "iopub.execute_input": "2022-01-13T15:28:49.065743Z",
     "iopub.status.busy": "2022-01-13T15:28:49.065328Z",
     "iopub.status.idle": "2022-01-13T15:28:49.089034Z",
     "shell.execute_reply": "2022-01-13T15:28:49.088658Z"
    }
   },
   "outputs": [
    {
     "data": {
      "text/plain": [
       "({'id': 0, 'name': 'Norbert', 'amount': 1311, 'transaction-id': 357},\n",
       " {'id': 0, 'name': 'Norbert', 'amount': 1467, 'transaction-id': 1051},\n",
       " {'id': 0, 'name': 'Norbert', 'amount': 1372, 'transaction-id': 1381})"
      ]
     },
     "execution_count": 28,
     "metadata": {},
     "output_type": "execute_result"
    }
   ],
   "source": [
    "def denormalize(record):\n",
    "    # returns a list for each person, one item per transaction\n",
    "    return [{'id': record['id'], \n",
    "             'name': record['name'], \n",
    "             'amount': transaction['amount'], \n",
    "             'transaction-id': transaction['transaction-id']}\n",
    "            for transaction in record['transactions']]\n",
    "\n",
    "transactions = js.map(denormalize).flatten()\n",
    "transactions.take(3)"
   ]
  },
  {
   "cell_type": "code",
   "execution_count": 29,
   "metadata": {
    "execution": {
     "iopub.execute_input": "2022-01-13T15:28:49.098891Z",
     "iopub.status.busy": "2022-01-13T15:28:49.092940Z",
     "iopub.status.idle": "2022-01-13T15:28:49.169054Z",
     "shell.execute_reply": "2022-01-13T15:28:49.169382Z"
    }
   },
   "outputs": [
    {
     "data": {
      "text/html": [
       "<div>\n",
       "<style scoped>\n",
       "    .dataframe tbody tr th:only-of-type {\n",
       "        vertical-align: middle;\n",
       "    }\n",
       "\n",
       "    .dataframe tbody tr th {\n",
       "        vertical-align: top;\n",
       "    }\n",
       "\n",
       "    .dataframe thead th {\n",
       "        text-align: right;\n",
       "    }\n",
       "</style>\n",
       "<table border=\"1\" class=\"dataframe\">\n",
       "  <thead>\n",
       "    <tr style=\"text-align: right;\">\n",
       "      <th></th>\n",
       "      <th>id</th>\n",
       "      <th>name</th>\n",
       "      <th>amount</th>\n",
       "      <th>transaction-id</th>\n",
       "    </tr>\n",
       "  </thead>\n",
       "  <tbody>\n",
       "    <tr>\n",
       "      <th>0</th>\n",
       "      <td>0</td>\n",
       "      <td>Norbert</td>\n",
       "      <td>1311</td>\n",
       "      <td>357</td>\n",
       "    </tr>\n",
       "    <tr>\n",
       "      <th>1</th>\n",
       "      <td>0</td>\n",
       "      <td>Norbert</td>\n",
       "      <td>1467</td>\n",
       "      <td>1051</td>\n",
       "    </tr>\n",
       "    <tr>\n",
       "      <th>2</th>\n",
       "      <td>0</td>\n",
       "      <td>Norbert</td>\n",
       "      <td>1372</td>\n",
       "      <td>1381</td>\n",
       "    </tr>\n",
       "    <tr>\n",
       "      <th>3</th>\n",
       "      <td>0</td>\n",
       "      <td>Norbert</td>\n",
       "      <td>1221</td>\n",
       "      <td>2052</td>\n",
       "    </tr>\n",
       "    <tr>\n",
       "      <th>4</th>\n",
       "      <td>0</td>\n",
       "      <td>Norbert</td>\n",
       "      <td>1296</td>\n",
       "      <td>2270</td>\n",
       "    </tr>\n",
       "  </tbody>\n",
       "</table>\n",
       "</div>"
      ],
      "text/plain": [
       "   id     name  amount  transaction-id\n",
       "0   0  Norbert    1311             357\n",
       "1   0  Norbert    1467            1051\n",
       "2   0  Norbert    1372            1381\n",
       "3   0  Norbert    1221            2052\n",
       "4   0  Norbert    1296            2270"
      ]
     },
     "execution_count": 29,
     "metadata": {},
     "output_type": "execute_result"
    }
   ],
   "source": [
    "df = transactions.to_dataframe()\n",
    "df.head()"
   ]
  },
  {
   "cell_type": "code",
   "execution_count": 30,
   "metadata": {
    "execution": {
     "iopub.execute_input": "2022-01-13T15:28:49.176205Z",
     "iopub.status.busy": "2022-01-13T15:28:49.175608Z",
     "iopub.status.idle": "2022-01-13T15:28:50.092887Z",
     "shell.execute_reply": "2022-01-13T15:28:50.093236Z"
    }
   },
   "outputs": [
    {
     "name": "stdout",
     "output_type": "stream",
     "text": [
      "CPU times: user 150 ms, sys: 3.82 ms, total: 154 ms\n",
      "Wall time: 912 ms\n"
     ]
    },
    {
     "data": {
      "text/plain": [
       "name\n",
       "Alice       14792\n",
       "Bob         16959\n",
       "Charlie     35445\n",
       "Dan         18334\n",
       "Edith        8864\n",
       "Frank       17660\n",
       "George      34451\n",
       "Hannah      35430\n",
       "Ingrid      40468\n",
       "Jerry       12681\n",
       "Kevin        6149\n",
       "Laura       16447\n",
       "Michael     16981\n",
       "Norbert     28177\n",
       "Oliver      13630\n",
       "Patricia     6999\n",
       "Quinn       20097\n",
       "Ray         12901\n",
       "Sarah       19480\n",
       "Tim          5245\n",
       "Ursula      31619\n",
       "Victor      12762\n",
       "Wendy       20500\n",
       "Xavier      12398\n",
       "Yvonne      20152\n",
       "Zelda       21379\n",
       "Name: transaction-id, dtype: int64"
      ]
     },
     "execution_count": 30,
     "metadata": {},
     "output_type": "execute_result"
    }
   ],
   "source": [
    "%%time\n",
    "# number of transactions per name\n",
    "# note that the time here includes the data load and ingestion\n",
    "df.groupby('name')['transaction-id'].count().compute()"
   ]
  },
  {
   "cell_type": "markdown",
   "metadata": {},
   "source": [
    "## Limitations"
   ]
  },
  {
   "cell_type": "markdown",
   "metadata": {},
   "source": [
    "Bags provide very general computation (any Python function.)  This generality\n",
    "comes at cost.  Bags have the following known limitations\n",
    "\n",
    "1.  Bag operations tend to be slower than array/dataframe computations in the\n",
    "    same way that Python tends to be slower than NumPy/Pandas\n",
    "2.  ``Bag.groupby`` is slow.  You should try to use ``Bag.foldby`` if possible.\n",
    "    Using ``Bag.foldby`` requires more thought. Even better, consider creating\n",
    "    a normalised dataframe."
   ]
  },
  {
   "cell_type": "markdown",
   "metadata": {},
   "source": [
    "## Learn More\n",
    "\n",
    "* [Bag documentation](https://docs.dask.org/en/latest/bag.html)\n",
    "* [Bag screencast](https://youtu.be/-qIiJ1XtSv0)\n",
    "* [Bag API](https://docs.dask.org/en/latest/bag-api.html)\n",
    "* [Bag examples](https://examples.dask.org/bag.html)"
   ]
  },
  {
   "cell_type": "markdown",
   "metadata": {},
   "source": [
    "## Shutdown"
   ]
  },
  {
   "cell_type": "code",
   "execution_count": 31,
   "metadata": {
    "execution": {
     "iopub.execute_input": "2022-01-13T15:28:50.097718Z",
     "iopub.status.busy": "2022-01-13T15:28:50.096239Z",
     "iopub.status.idle": "2022-01-13T15:28:50.564173Z",
     "shell.execute_reply": "2022-01-13T15:28:50.563514Z"
    }
   },
   "outputs": [],
   "source": [
    "client.shutdown()"
   ]
  }
 ],
 "metadata": {
  "anaconda-cloud": {},
  "kernelspec": {
   "display_name": "Python 3",
   "language": "python",
   "name": "python3"
  },
  "language_info": {
   "codemirror_mode": {
    "name": "ipython",
    "version": 3
   },
   "file_extension": ".py",
   "mimetype": "text/x-python",
   "name": "python",
   "nbconvert_exporter": "python",
   "pygments_lexer": "ipython3",
   "version": "3.8.12"
  }
 },
 "nbformat": 4,
 "nbformat_minor": 4
}
