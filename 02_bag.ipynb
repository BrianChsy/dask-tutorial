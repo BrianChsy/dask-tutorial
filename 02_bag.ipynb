{
 "cells": [
  {
   "cell_type": "markdown",
   "metadata": {},
   "source": [
    "<img src=\"https://docs.dask.org/en/latest/_images/dask_horizontal.svg\" align=\"right\" width=\"30%\" alt=\"Dask logo\">"
   ]
  },
  {
   "cell_type": "markdown",
   "metadata": {},
   "source": [
    "# Bag: Parallel Lists for semi-structured data"
   ]
  },
  {
   "cell_type": "markdown",
   "metadata": {},
   "source": [
    "Dask-bag excels in processing data that can be represented as a sequence of arbitrary inputs. We'll refer to this as \"messy\" data, because it can contain complex nested structures, missing fields, mixtures of data types, etc. The *functional* programming style fits very nicely with standard Python iteration, such as can be found in the `itertools` module.\n",
    "\n",
    "Messy data is often encountered at the beginning of data processing pipelines when large volumes of raw data are first consumed. The initial set of data might be JSON, CSV, XML, or any other format that does not enforce strict structure and datatypes.\n",
    "For this reason, the initial data massaging and processing is often done with Python `list`s, `dict`s, and `set`s.\n",
    "\n",
    "These core data structures are optimized for general-purpose storage and processing.  Adding streaming computation with iterators/generator expressions or libraries like `itertools` or [`toolz`](https://toolz.readthedocs.io/en/latest/) let us process large volumes in a small space.  If we combine this with parallel processing then we can churn through a fair amount of data.\n",
    "\n",
    "Dask.bag is a high-level Dask collection to automate common workloads of this form.  In a nutshell\n",
    "\n",
    "    dask.bag = map, filter, toolz + parallel execution\n",
    "    \n",
    "**Related Documentation**\n",
    "\n",
    "* [Bag documentation](https://docs.dask.org/en/latest/bag.html)\n",
    "* [Bag screencast](https://youtu.be/-qIiJ1XtSv0)\n",
    "* [Bag API](https://docs.dask.org/en/latest/bag-api.html)\n",
    "* [Bag examples](https://examples.dask.org/bag.html)"
   ]
  },
  {
   "cell_type": "markdown",
   "metadata": {},
   "source": [
    "## Create data"
   ]
  },
  {
   "cell_type": "code",
   "execution_count": 1,
   "metadata": {
    "execution": {
     "iopub.execute_input": "2022-06-14T17:44:43.082753Z",
     "iopub.status.busy": "2022-06-14T17:44:43.082453Z",
     "iopub.status.idle": "2022-06-14T17:44:43.772825Z",
     "shell.execute_reply": "2022-06-14T17:44:43.771999Z"
    }
   },
   "outputs": [],
   "source": [
    "%run prep.py -d accounts"
   ]
  },
  {
   "cell_type": "markdown",
   "metadata": {},
   "source": [
    "## Setup"
   ]
  },
  {
   "cell_type": "markdown",
   "metadata": {},
   "source": [
    "Again, we'll use the distributed scheduler. Schedulers will be explained in depth [later](05_distributed.ipynb)."
   ]
  },
  {
   "cell_type": "code",
   "execution_count": 2,
   "metadata": {
    "execution": {
     "iopub.execute_input": "2022-06-14T17:44:43.777326Z",
     "iopub.status.busy": "2022-06-14T17:44:43.776908Z",
     "iopub.status.idle": "2022-06-14T17:44:46.244933Z",
     "shell.execute_reply": "2022-06-14T17:44:46.243623Z"
    }
   },
   "outputs": [],
   "source": [
    "from dask.distributed import Client\n",
    "\n",
    "client = Client(n_workers=4)"
   ]
  },
  {
   "cell_type": "markdown",
   "metadata": {},
   "source": [
    "## Creation"
   ]
  },
  {
   "cell_type": "markdown",
   "metadata": {},
   "source": [
    "You can create a `Bag` from a Python sequence, from files, from data on S3, etc.\n",
    "We demonstrate using `.take()` to show elements of the data. (Doing `.take(1)` results in a tuple with one element)\n",
    "\n",
    "Note that the data are partitioned into blocks, and there are many items per block. In the first example, the two partitions contain five elements each, and in the following two, each file is partitioned into one or more bytes blocks."
   ]
  },
  {
   "cell_type": "code",
   "execution_count": 3,
   "metadata": {
    "execution": {
     "iopub.execute_input": "2022-06-14T17:44:46.249970Z",
     "iopub.status.busy": "2022-06-14T17:44:46.249561Z",
     "iopub.status.idle": "2022-06-14T17:44:46.601925Z",
     "shell.execute_reply": "2022-06-14T17:44:46.600867Z"
    }
   },
   "outputs": [
    {
     "data": {
      "text/plain": [
       "(1, 2, 3)"
      ]
     },
     "execution_count": 3,
     "metadata": {},
     "output_type": "execute_result"
    }
   ],
   "source": [
    "# each element is an integer\n",
    "import dask.bag as db\n",
    "b = db.from_sequence([1, 2, 3, 4, 5, 6, 7, 8, 9, 10], npartitions=2)\n",
    "b.take(3)"
   ]
  },
  {
   "cell_type": "code",
   "execution_count": 4,
   "metadata": {
    "execution": {
     "iopub.execute_input": "2022-06-14T17:44:46.605850Z",
     "iopub.status.busy": "2022-06-14T17:44:46.605542Z",
     "iopub.status.idle": "2022-06-14T17:44:46.719942Z",
     "shell.execute_reply": "2022-06-14T17:44:46.719078Z"
    }
   },
   "outputs": [
    {
     "data": {
      "text/plain": [
       "('{\"id\": 0, \"name\": \"Jerry\", \"transactions\": [{\"transaction-id\": 2843, \"amount\": 1469}, {\"transaction-id\": 3009, \"amount\": 1709}, {\"transaction-id\": 3715, \"amount\": 1572}, {\"transaction-id\": 4273, \"amount\": 1512}, {\"transaction-id\": 4403, \"amount\": 1658}, {\"transaction-id\": 5326, \"amount\": 1689}, {\"transaction-id\": 7121, \"amount\": 1446}, {\"transaction-id\": 8318, \"amount\": 1678}, {\"transaction-id\": 8599, \"amount\": 1768}, {\"transaction-id\": 9771, \"amount\": 1546}]}\\n',)"
      ]
     },
     "execution_count": 4,
     "metadata": {},
     "output_type": "execute_result"
    }
   ],
   "source": [
    "# each element is a text file, where each line is a JSON object\n",
    "# note that the compression is handled automatically\n",
    "import os\n",
    "b = db.read_text(os.path.join('data', 'accounts.*.json.gz'))\n",
    "b.take(1)"
   ]
  },
  {
   "cell_type": "code",
   "execution_count": 5,
   "metadata": {
    "execution": {
     "iopub.execute_input": "2022-06-14T17:44:46.723434Z",
     "iopub.status.busy": "2022-06-14T17:44:46.723152Z",
     "iopub.status.idle": "2022-06-14T17:44:46.730862Z",
     "shell.execute_reply": "2022-06-14T17:44:46.729967Z"
    }
   },
   "outputs": [
    {
     "data": {
      "text/plain": [
       "'s3://dask-data/nyc-taxi/2015/yellow_tripdata_2015-01.csv'"
      ]
     },
     "execution_count": 5,
     "metadata": {},
     "output_type": "execute_result"
    }
   ],
   "source": [
    "# Edit sources.py to configure source locations\n",
    "import sources\n",
    "sources.bag_url"
   ]
  },
  {
   "cell_type": "code",
   "execution_count": 6,
   "metadata": {
    "execution": {
     "iopub.execute_input": "2022-06-14T17:44:46.734752Z",
     "iopub.status.busy": "2022-06-14T17:44:46.734286Z",
     "iopub.status.idle": "2022-06-14T17:44:48.668759Z",
     "shell.execute_reply": "2022-06-14T17:44:48.667855Z"
    }
   },
   "outputs": [
    {
     "data": {
      "text/plain": [
       "('VendorID,tpep_pickup_datetime,tpep_dropoff_datetime,passenger_count,trip_distance,pickup_longitude,pickup_latitude,RateCodeID,store_and_fwd_flag,dropoff_longitude,dropoff_latitude,payment_type,fare_amount,extra,mta_tax,tip_amount,tolls_amount,improvement_surcharge,total_amount\\n',)"
      ]
     },
     "execution_count": 6,
     "metadata": {},
     "output_type": "execute_result"
    }
   ],
   "source": [
    "# Requires `s3fs` library\n",
    "# each partition is a remote CSV text file\n",
    "b = db.read_text(sources.bag_url,\n",
    "                 storage_options={'anon': True})\n",
    "b.take(1)"
   ]
  },
  {
   "cell_type": "markdown",
   "metadata": {},
   "source": [
    "## Manipulation"
   ]
  },
  {
   "cell_type": "markdown",
   "metadata": {},
   "source": [
    "`Bag` objects hold the standard functional API found in projects like the Python standard library, `toolz`, or `pyspark`, including `map`, `filter`, `groupby`, etc..\n",
    "\n",
    "Operations on `Bag` objects create new bags.  Call the `.compute()` method to trigger execution, as we saw for `Delayed` objects.  "
   ]
  },
  {
   "cell_type": "code",
   "execution_count": 7,
   "metadata": {
    "execution": {
     "iopub.execute_input": "2022-06-14T17:44:48.673298Z",
     "iopub.status.busy": "2022-06-14T17:44:48.672823Z",
     "iopub.status.idle": "2022-06-14T17:44:48.680820Z",
     "shell.execute_reply": "2022-06-14T17:44:48.680177Z"
    }
   },
   "outputs": [
    {
     "data": {
      "text/plain": [
       "dask.bag<lambda, npartitions=10>"
      ]
     },
     "execution_count": 7,
     "metadata": {},
     "output_type": "execute_result"
    }
   ],
   "source": [
    "def is_even(n):\n",
    "    return n % 2 == 0\n",
    "\n",
    "b = db.from_sequence([1, 2, 3, 4, 5, 6, 7, 8, 9, 10])\n",
    "c = b.filter(is_even).map(lambda x: x ** 2)\n",
    "c"
   ]
  },
  {
   "cell_type": "code",
   "execution_count": 8,
   "metadata": {
    "execution": {
     "iopub.execute_input": "2022-06-14T17:44:48.685479Z",
     "iopub.status.busy": "2022-06-14T17:44:48.685165Z",
     "iopub.status.idle": "2022-06-14T17:44:48.952073Z",
     "shell.execute_reply": "2022-06-14T17:44:48.950810Z"
    }
   },
   "outputs": [
    {
     "data": {
      "text/plain": [
       "[4, 16, 36, 64, 100]"
      ]
     },
     "execution_count": 8,
     "metadata": {},
     "output_type": "execute_result"
    }
   ],
   "source": [
    "# blocking form: wait for completion (which is very fast in this case)\n",
    "c.compute()"
   ]
  },
  {
   "cell_type": "markdown",
   "metadata": {},
   "source": [
    "### Example: Accounts JSON data"
   ]
  },
  {
   "cell_type": "markdown",
   "metadata": {},
   "source": [
    "We've created a fake dataset of gzipped JSON data in your data directory.  This is like the example used in the `DataFrame` example we will see later, except that it has bundled up all of the entries for each individual `id` into a single record.  This is similar to data that you might collect off of a document store database or a web API.\n",
    "\n",
    "Each line is a JSON encoded dictionary with the following keys\n",
    "\n",
    "*  id: Unique identifier of the customer\n",
    "*  name: Name of the customer\n",
    "*  transactions: List of `transaction-id`, `amount` pairs, one for each transaction for the customer in that file"
   ]
  },
  {
   "cell_type": "code",
   "execution_count": 9,
   "metadata": {
    "execution": {
     "iopub.execute_input": "2022-06-14T17:44:48.958068Z",
     "iopub.status.busy": "2022-06-14T17:44:48.956553Z",
     "iopub.status.idle": "2022-06-14T17:44:48.999334Z",
     "shell.execute_reply": "2022-06-14T17:44:48.997773Z"
    }
   },
   "outputs": [
    {
     "data": {
      "text/plain": [
       "('{\"id\": 0, \"name\": \"Jerry\", \"transactions\": [{\"transaction-id\": 2843, \"amount\": 1469}, {\"transaction-id\": 3009, \"amount\": 1709}, {\"transaction-id\": 3715, \"amount\": 1572}, {\"transaction-id\": 4273, \"amount\": 1512}, {\"transaction-id\": 4403, \"amount\": 1658}, {\"transaction-id\": 5326, \"amount\": 1689}, {\"transaction-id\": 7121, \"amount\": 1446}, {\"transaction-id\": 8318, \"amount\": 1678}, {\"transaction-id\": 8599, \"amount\": 1768}, {\"transaction-id\": 9771, \"amount\": 1546}]}\\n',\n",
       " '{\"id\": 1, \"name\": \"Norbert\", \"transactions\": [{\"transaction-id\": 28, \"amount\": 1016}, {\"transaction-id\": 212, \"amount\": 1019}, {\"transaction-id\": 280, \"amount\": 986}, {\"transaction-id\": 397, \"amount\": 1001}, {\"transaction-id\": 856, \"amount\": 1014}, {\"transaction-id\": 1167, \"amount\": 1030}, {\"transaction-id\": 1622, \"amount\": 1001}, {\"transaction-id\": 2325, \"amount\": 1051}, {\"transaction-id\": 2685, \"amount\": 981}, {\"transaction-id\": 2759, \"amount\": 1015}, {\"transaction-id\": 3103, \"amount\": 989}, {\"transaction-id\": 3329, \"amount\": 1034}, {\"transaction-id\": 3352, \"amount\": 1076}, {\"transaction-id\": 3556, \"amount\": 1029}, {\"transaction-id\": 4078, \"amount\": 1018}, {\"transaction-id\": 4495, \"amount\": 960}, {\"transaction-id\": 4638, \"amount\": 1075}, {\"transaction-id\": 4988, \"amount\": 1046}, {\"transaction-id\": 5228, \"amount\": 1025}, {\"transaction-id\": 5560, \"amount\": 990}, {\"transaction-id\": 5599, \"amount\": 1053}, {\"transaction-id\": 5686, \"amount\": 997}, {\"transaction-id\": 5963, \"amount\": 1013}, {\"transaction-id\": 6077, \"amount\": 969}, {\"transaction-id\": 6550, \"amount\": 1002}, {\"transaction-id\": 6569, \"amount\": 1040}, {\"transaction-id\": 6778, \"amount\": 1049}, {\"transaction-id\": 6804, \"amount\": 1031}, {\"transaction-id\": 7052, \"amount\": 984}, {\"transaction-id\": 7162, \"amount\": 1081}, {\"transaction-id\": 7298, \"amount\": 995}, {\"transaction-id\": 7632, \"amount\": 1024}, {\"transaction-id\": 8021, \"amount\": 992}, {\"transaction-id\": 8672, \"amount\": 997}, {\"transaction-id\": 9088, \"amount\": 1066}, {\"transaction-id\": 9145, \"amount\": 1007}, {\"transaction-id\": 9447, \"amount\": 1019}, {\"transaction-id\": 9475, \"amount\": 1068}, {\"transaction-id\": 9476, \"amount\": 1020}, {\"transaction-id\": 9849, \"amount\": 1014}]}\\n',\n",
       " '{\"id\": 2, \"name\": \"Wendy\", \"transactions\": [{\"transaction-id\": 30, \"amount\": 256}, {\"transaction-id\": 160, \"amount\": 169}, {\"transaction-id\": 229, \"amount\": 370}, {\"transaction-id\": 469, \"amount\": 463}, {\"transaction-id\": 933, \"amount\": -52}, {\"transaction-id\": 958, \"amount\": 217}, {\"transaction-id\": 1042, \"amount\": 350}, {\"transaction-id\": 1189, \"amount\": 405}, {\"transaction-id\": 1432, \"amount\": 159}, {\"transaction-id\": 1616, \"amount\": 370}, {\"transaction-id\": 1655, \"amount\": 254}, {\"transaction-id\": 1833, \"amount\": 52}, {\"transaction-id\": 1946, \"amount\": 317}, {\"transaction-id\": 2539, \"amount\": 187}, {\"transaction-id\": 2559, \"amount\": -19}, {\"transaction-id\": 2690, \"amount\": 233}, {\"transaction-id\": 3104, \"amount\": 240}, {\"transaction-id\": 3583, \"amount\": 318}, {\"transaction-id\": 3822, \"amount\": 314}, {\"transaction-id\": 3826, \"amount\": 156}, {\"transaction-id\": 4050, \"amount\": 269}, {\"transaction-id\": 4388, \"amount\": 408}, {\"transaction-id\": 4443, \"amount\": 399}, {\"transaction-id\": 4508, \"amount\": 168}, {\"transaction-id\": 5090, \"amount\": 230}, {\"transaction-id\": 5404, \"amount\": 328}, {\"transaction-id\": 5411, \"amount\": 228}, {\"transaction-id\": 5624, \"amount\": 65}, {\"transaction-id\": 5825, \"amount\": 330}, {\"transaction-id\": 6214, \"amount\": 113}, {\"transaction-id\": 6269, \"amount\": 345}, {\"transaction-id\": 6316, \"amount\": 529}, {\"transaction-id\": 6441, \"amount\": 402}, {\"transaction-id\": 6546, \"amount\": 61}, {\"transaction-id\": 6640, \"amount\": -50}, {\"transaction-id\": 6683, \"amount\": 431}, {\"transaction-id\": 6903, \"amount\": 385}, {\"transaction-id\": 7049, \"amount\": -13}, {\"transaction-id\": 7485, \"amount\": 483}, {\"transaction-id\": 7562, \"amount\": 565}, {\"transaction-id\": 7584, \"amount\": 541}, {\"transaction-id\": 7714, \"amount\": 347}, {\"transaction-id\": 7786, \"amount\": 550}, {\"transaction-id\": 7895, \"amount\": 119}, {\"transaction-id\": 7933, \"amount\": 237}, {\"transaction-id\": 8276, \"amount\": 258}, {\"transaction-id\": 8321, \"amount\": 134}, {\"transaction-id\": 8511, \"amount\": 437}, {\"transaction-id\": 8518, \"amount\": 198}, {\"transaction-id\": 8638, \"amount\": 129}, {\"transaction-id\": 9518, \"amount\": 212}, {\"transaction-id\": 9585, \"amount\": 357}]}\\n')"
      ]
     },
     "execution_count": 9,
     "metadata": {},
     "output_type": "execute_result"
    }
   ],
   "source": [
    "filename = os.path.join('data', 'accounts.*.json.gz')\n",
    "lines = db.read_text(filename)\n",
    "lines.take(3)"
   ]
  },
  {
   "cell_type": "markdown",
   "metadata": {},
   "source": [
    "Our data comes out of the file as lines of text. Notice that file decompression happened automatically. We can make this data look more reasonable by mapping the `json.loads` function onto our bag."
   ]
  },
  {
   "cell_type": "code",
   "execution_count": 10,
   "metadata": {
    "execution": {
     "iopub.execute_input": "2022-06-14T17:44:49.003066Z",
     "iopub.status.busy": "2022-06-14T17:44:49.002706Z",
     "iopub.status.idle": "2022-06-14T17:44:49.037074Z",
     "shell.execute_reply": "2022-06-14T17:44:49.036100Z"
    }
   },
   "outputs": [
    {
     "data": {
      "text/plain": [
       "({'id': 0,\n",
       "  'name': 'Jerry',\n",
       "  'transactions': [{'transaction-id': 2843, 'amount': 1469},\n",
       "   {'transaction-id': 3009, 'amount': 1709},\n",
       "   {'transaction-id': 3715, 'amount': 1572},\n",
       "   {'transaction-id': 4273, 'amount': 1512},\n",
       "   {'transaction-id': 4403, 'amount': 1658},\n",
       "   {'transaction-id': 5326, 'amount': 1689},\n",
       "   {'transaction-id': 7121, 'amount': 1446},\n",
       "   {'transaction-id': 8318, 'amount': 1678},\n",
       "   {'transaction-id': 8599, 'amount': 1768},\n",
       "   {'transaction-id': 9771, 'amount': 1546}]},\n",
       " {'id': 1,\n",
       "  'name': 'Norbert',\n",
       "  'transactions': [{'transaction-id': 28, 'amount': 1016},\n",
       "   {'transaction-id': 212, 'amount': 1019},\n",
       "   {'transaction-id': 280, 'amount': 986},\n",
       "   {'transaction-id': 397, 'amount': 1001},\n",
       "   {'transaction-id': 856, 'amount': 1014},\n",
       "   {'transaction-id': 1167, 'amount': 1030},\n",
       "   {'transaction-id': 1622, 'amount': 1001},\n",
       "   {'transaction-id': 2325, 'amount': 1051},\n",
       "   {'transaction-id': 2685, 'amount': 981},\n",
       "   {'transaction-id': 2759, 'amount': 1015},\n",
       "   {'transaction-id': 3103, 'amount': 989},\n",
       "   {'transaction-id': 3329, 'amount': 1034},\n",
       "   {'transaction-id': 3352, 'amount': 1076},\n",
       "   {'transaction-id': 3556, 'amount': 1029},\n",
       "   {'transaction-id': 4078, 'amount': 1018},\n",
       "   {'transaction-id': 4495, 'amount': 960},\n",
       "   {'transaction-id': 4638, 'amount': 1075},\n",
       "   {'transaction-id': 4988, 'amount': 1046},\n",
       "   {'transaction-id': 5228, 'amount': 1025},\n",
       "   {'transaction-id': 5560, 'amount': 990},\n",
       "   {'transaction-id': 5599, 'amount': 1053},\n",
       "   {'transaction-id': 5686, 'amount': 997},\n",
       "   {'transaction-id': 5963, 'amount': 1013},\n",
       "   {'transaction-id': 6077, 'amount': 969},\n",
       "   {'transaction-id': 6550, 'amount': 1002},\n",
       "   {'transaction-id': 6569, 'amount': 1040},\n",
       "   {'transaction-id': 6778, 'amount': 1049},\n",
       "   {'transaction-id': 6804, 'amount': 1031},\n",
       "   {'transaction-id': 7052, 'amount': 984},\n",
       "   {'transaction-id': 7162, 'amount': 1081},\n",
       "   {'transaction-id': 7298, 'amount': 995},\n",
       "   {'transaction-id': 7632, 'amount': 1024},\n",
       "   {'transaction-id': 8021, 'amount': 992},\n",
       "   {'transaction-id': 8672, 'amount': 997},\n",
       "   {'transaction-id': 9088, 'amount': 1066},\n",
       "   {'transaction-id': 9145, 'amount': 1007},\n",
       "   {'transaction-id': 9447, 'amount': 1019},\n",
       "   {'transaction-id': 9475, 'amount': 1068},\n",
       "   {'transaction-id': 9476, 'amount': 1020},\n",
       "   {'transaction-id': 9849, 'amount': 1014}]},\n",
       " {'id': 2,\n",
       "  'name': 'Wendy',\n",
       "  'transactions': [{'transaction-id': 30, 'amount': 256},\n",
       "   {'transaction-id': 160, 'amount': 169},\n",
       "   {'transaction-id': 229, 'amount': 370},\n",
       "   {'transaction-id': 469, 'amount': 463},\n",
       "   {'transaction-id': 933, 'amount': -52},\n",
       "   {'transaction-id': 958, 'amount': 217},\n",
       "   {'transaction-id': 1042, 'amount': 350},\n",
       "   {'transaction-id': 1189, 'amount': 405},\n",
       "   {'transaction-id': 1432, 'amount': 159},\n",
       "   {'transaction-id': 1616, 'amount': 370},\n",
       "   {'transaction-id': 1655, 'amount': 254},\n",
       "   {'transaction-id': 1833, 'amount': 52},\n",
       "   {'transaction-id': 1946, 'amount': 317},\n",
       "   {'transaction-id': 2539, 'amount': 187},\n",
       "   {'transaction-id': 2559, 'amount': -19},\n",
       "   {'transaction-id': 2690, 'amount': 233},\n",
       "   {'transaction-id': 3104, 'amount': 240},\n",
       "   {'transaction-id': 3583, 'amount': 318},\n",
       "   {'transaction-id': 3822, 'amount': 314},\n",
       "   {'transaction-id': 3826, 'amount': 156},\n",
       "   {'transaction-id': 4050, 'amount': 269},\n",
       "   {'transaction-id': 4388, 'amount': 408},\n",
       "   {'transaction-id': 4443, 'amount': 399},\n",
       "   {'transaction-id': 4508, 'amount': 168},\n",
       "   {'transaction-id': 5090, 'amount': 230},\n",
       "   {'transaction-id': 5404, 'amount': 328},\n",
       "   {'transaction-id': 5411, 'amount': 228},\n",
       "   {'transaction-id': 5624, 'amount': 65},\n",
       "   {'transaction-id': 5825, 'amount': 330},\n",
       "   {'transaction-id': 6214, 'amount': 113},\n",
       "   {'transaction-id': 6269, 'amount': 345},\n",
       "   {'transaction-id': 6316, 'amount': 529},\n",
       "   {'transaction-id': 6441, 'amount': 402},\n",
       "   {'transaction-id': 6546, 'amount': 61},\n",
       "   {'transaction-id': 6640, 'amount': -50},\n",
       "   {'transaction-id': 6683, 'amount': 431},\n",
       "   {'transaction-id': 6903, 'amount': 385},\n",
       "   {'transaction-id': 7049, 'amount': -13},\n",
       "   {'transaction-id': 7485, 'amount': 483},\n",
       "   {'transaction-id': 7562, 'amount': 565},\n",
       "   {'transaction-id': 7584, 'amount': 541},\n",
       "   {'transaction-id': 7714, 'amount': 347},\n",
       "   {'transaction-id': 7786, 'amount': 550},\n",
       "   {'transaction-id': 7895, 'amount': 119},\n",
       "   {'transaction-id': 7933, 'amount': 237},\n",
       "   {'transaction-id': 8276, 'amount': 258},\n",
       "   {'transaction-id': 8321, 'amount': 134},\n",
       "   {'transaction-id': 8511, 'amount': 437},\n",
       "   {'transaction-id': 8518, 'amount': 198},\n",
       "   {'transaction-id': 8638, 'amount': 129},\n",
       "   {'transaction-id': 9518, 'amount': 212},\n",
       "   {'transaction-id': 9585, 'amount': 357}]})"
      ]
     },
     "execution_count": 10,
     "metadata": {},
     "output_type": "execute_result"
    }
   ],
   "source": [
    "import json\n",
    "js = lines.map(json.loads)\n",
    "# take: inspect first few elements\n",
    "js.take(3)"
   ]
  },
  {
   "cell_type": "markdown",
   "metadata": {},
   "source": [
    "### Basic Queries"
   ]
  },
  {
   "cell_type": "markdown",
   "metadata": {},
   "source": [
    "Once we parse our JSON data into proper Python objects (`dict`s, `list`s, etc.) we can perform more interesting queries by creating small Python functions to run on our data."
   ]
  },
  {
   "cell_type": "code",
   "execution_count": 11,
   "metadata": {
    "execution": {
     "iopub.execute_input": "2022-06-14T17:44:49.040288Z",
     "iopub.status.busy": "2022-06-14T17:44:49.040038Z",
     "iopub.status.idle": "2022-06-14T17:44:49.081452Z",
     "shell.execute_reply": "2022-06-14T17:44:49.080579Z"
    }
   },
   "outputs": [
    {
     "data": {
      "text/plain": [
       "({'id': 15,\n",
       "  'name': 'Alice',\n",
       "  'transactions': [{'transaction-id': 123, 'amount': 798},\n",
       "   {'transaction-id': 167, 'amount': 975},\n",
       "   {'transaction-id': 408, 'amount': 740},\n",
       "   {'transaction-id': 1452, 'amount': 676},\n",
       "   {'transaction-id': 2001, 'amount': 785},\n",
       "   {'transaction-id': 2145, 'amount': 790},\n",
       "   {'transaction-id': 2500, 'amount': 877},\n",
       "   {'transaction-id': 2767, 'amount': 706},\n",
       "   {'transaction-id': 2836, 'amount': 634},\n",
       "   {'transaction-id': 2979, 'amount': 728},\n",
       "   {'transaction-id': 3032, 'amount': 832},\n",
       "   {'transaction-id': 3327, 'amount': 809},\n",
       "   {'transaction-id': 3664, 'amount': 682},\n",
       "   {'transaction-id': 3954, 'amount': 685},\n",
       "   {'transaction-id': 4168, 'amount': 771},\n",
       "   {'transaction-id': 4200, 'amount': 600},\n",
       "   {'transaction-id': 4451, 'amount': 789},\n",
       "   {'transaction-id': 4559, 'amount': 880},\n",
       "   {'transaction-id': 4676, 'amount': 830},\n",
       "   {'transaction-id': 5044, 'amount': 764},\n",
       "   {'transaction-id': 5125, 'amount': 855},\n",
       "   {'transaction-id': 5339, 'amount': 903},\n",
       "   {'transaction-id': 5360, 'amount': 707},\n",
       "   {'transaction-id': 5633, 'amount': 881},\n",
       "   {'transaction-id': 5838, 'amount': 818},\n",
       "   {'transaction-id': 6485, 'amount': 692},\n",
       "   {'transaction-id': 6621, 'amount': 813},\n",
       "   {'transaction-id': 6771, 'amount': 699},\n",
       "   {'transaction-id': 6980, 'amount': 786},\n",
       "   {'transaction-id': 7131, 'amount': 696},\n",
       "   {'transaction-id': 7494, 'amount': 765},\n",
       "   {'transaction-id': 7839, 'amount': 710},\n",
       "   {'transaction-id': 7855, 'amount': 783},\n",
       "   {'transaction-id': 7986, 'amount': 676},\n",
       "   {'transaction-id': 8211, 'amount': 753},\n",
       "   {'transaction-id': 8598, 'amount': 840},\n",
       "   {'transaction-id': 9014, 'amount': 797}]},\n",
       " {'id': 92,\n",
       "  'name': 'Alice',\n",
       "  'transactions': [{'transaction-id': 7213, 'amount': 1776},\n",
       "   {'transaction-id': 7323, 'amount': 3411},\n",
       "   {'transaction-id': 9446, 'amount': 2275}]},\n",
       " {'id': 100,\n",
       "  'name': 'Alice',\n",
       "  'transactions': [{'transaction-id': 176, 'amount': -1233},\n",
       "   {'transaction-id': 213, 'amount': -1072},\n",
       "   {'transaction-id': 398, 'amount': -962},\n",
       "   {'transaction-id': 927, 'amount': -985},\n",
       "   {'transaction-id': 1149, 'amount': -996},\n",
       "   {'transaction-id': 1643, 'amount': -1165},\n",
       "   {'transaction-id': 1766, 'amount': -959},\n",
       "   {'transaction-id': 1768, 'amount': -1258},\n",
       "   {'transaction-id': 1861, 'amount': -833},\n",
       "   {'transaction-id': 2214, 'amount': -1081},\n",
       "   {'transaction-id': 2366, 'amount': -1043},\n",
       "   {'transaction-id': 2416, 'amount': -1018},\n",
       "   {'transaction-id': 2623, 'amount': -1119},\n",
       "   {'transaction-id': 2943, 'amount': -945},\n",
       "   {'transaction-id': 3060, 'amount': -1116},\n",
       "   {'transaction-id': 3410, 'amount': -1151},\n",
       "   {'transaction-id': 3584, 'amount': -1139},\n",
       "   {'transaction-id': 3689, 'amount': -978},\n",
       "   {'transaction-id': 3750, 'amount': -1149},\n",
       "   {'transaction-id': 3832, 'amount': -1055},\n",
       "   {'transaction-id': 3995, 'amount': -932},\n",
       "   {'transaction-id': 4055, 'amount': -1119},\n",
       "   {'transaction-id': 4073, 'amount': -1009},\n",
       "   {'transaction-id': 4242, 'amount': -1107},\n",
       "   {'transaction-id': 4575, 'amount': -1023},\n",
       "   {'transaction-id': 4577, 'amount': -1084},\n",
       "   {'transaction-id': 4895, 'amount': -1081},\n",
       "   {'transaction-id': 5021, 'amount': -1007},\n",
       "   {'transaction-id': 5159, 'amount': -1125},\n",
       "   {'transaction-id': 5351, 'amount': -969},\n",
       "   {'transaction-id': 5519, 'amount': -1115},\n",
       "   {'transaction-id': 5681, 'amount': -901},\n",
       "   {'transaction-id': 5771, 'amount': -1045},\n",
       "   {'transaction-id': 5913, 'amount': -1015},\n",
       "   {'transaction-id': 6451, 'amount': -979},\n",
       "   {'transaction-id': 6456, 'amount': -928},\n",
       "   {'transaction-id': 6506, 'amount': -1112},\n",
       "   {'transaction-id': 6507, 'amount': -1159},\n",
       "   {'transaction-id': 6887, 'amount': -1216},\n",
       "   {'transaction-id': 6895, 'amount': -1161},\n",
       "   {'transaction-id': 7403, 'amount': -1024},\n",
       "   {'transaction-id': 8044, 'amount': -1162},\n",
       "   {'transaction-id': 8060, 'amount': -1050},\n",
       "   {'transaction-id': 8064, 'amount': -1154},\n",
       "   {'transaction-id': 8404, 'amount': -995},\n",
       "   {'transaction-id': 8469, 'amount': -1038},\n",
       "   {'transaction-id': 8730, 'amount': -1170},\n",
       "   {'transaction-id': 9203, 'amount': -1169},\n",
       "   {'transaction-id': 9641, 'amount': -1081},\n",
       "   {'transaction-id': 9667, 'amount': -1081},\n",
       "   {'transaction-id': 9827, 'amount': -870}]},\n",
       " {'id': 127,\n",
       "  'name': 'Alice',\n",
       "  'transactions': [{'transaction-id': 34, 'amount': 298},\n",
       "   {'transaction-id': 1078, 'amount': 269},\n",
       "   {'transaction-id': 1400, 'amount': 290},\n",
       "   {'transaction-id': 1877, 'amount': 220},\n",
       "   {'transaction-id': 1930, 'amount': 298},\n",
       "   {'transaction-id': 2289, 'amount': 231},\n",
       "   {'transaction-id': 2880, 'amount': 223},\n",
       "   {'transaction-id': 3063, 'amount': 292},\n",
       "   {'transaction-id': 3787, 'amount': 335},\n",
       "   {'transaction-id': 4116, 'amount': 233},\n",
       "   {'transaction-id': 4156, 'amount': 242},\n",
       "   {'transaction-id': 4193, 'amount': 260},\n",
       "   {'transaction-id': 4264, 'amount': 290},\n",
       "   {'transaction-id': 4378, 'amount': 275},\n",
       "   {'transaction-id': 5013, 'amount': 292},\n",
       "   {'transaction-id': 5429, 'amount': 267},\n",
       "   {'transaction-id': 5494, 'amount': 311},\n",
       "   {'transaction-id': 5833, 'amount': 240},\n",
       "   {'transaction-id': 6026, 'amount': 251},\n",
       "   {'transaction-id': 6032, 'amount': 288},\n",
       "   {'transaction-id': 6064, 'amount': 243},\n",
       "   {'transaction-id': 6308, 'amount': 243},\n",
       "   {'transaction-id': 6313, 'amount': 329},\n",
       "   {'transaction-id': 6327, 'amount': 257},\n",
       "   {'transaction-id': 6424, 'amount': 243},\n",
       "   {'transaction-id': 6496, 'amount': 235},\n",
       "   {'transaction-id': 6728, 'amount': 274},\n",
       "   {'transaction-id': 6976, 'amount': 253},\n",
       "   {'transaction-id': 7022, 'amount': 303},\n",
       "   {'transaction-id': 7797, 'amount': 266},\n",
       "   {'transaction-id': 8089, 'amount': 278},\n",
       "   {'transaction-id': 8725, 'amount': 294},\n",
       "   {'transaction-id': 9093, 'amount': 322},\n",
       "   {'transaction-id': 9499, 'amount': 318},\n",
       "   {'transaction-id': 9753, 'amount': 244},\n",
       "   {'transaction-id': 9801, 'amount': 223}]},\n",
       " {'id': 130,\n",
       "  'name': 'Alice',\n",
       "  'transactions': [{'transaction-id': 876, 'amount': -24},\n",
       "   {'transaction-id': 1253, 'amount': -31},\n",
       "   {'transaction-id': 1491, 'amount': -18},\n",
       "   {'transaction-id': 1513, 'amount': -35},\n",
       "   {'transaction-id': 4779, 'amount': -47},\n",
       "   {'transaction-id': 5704, 'amount': -40},\n",
       "   {'transaction-id': 6019, 'amount': -28},\n",
       "   {'transaction-id': 7201, 'amount': -38},\n",
       "   {'transaction-id': 7557, 'amount': -30},\n",
       "   {'transaction-id': 9690, 'amount': -25}]})"
      ]
     },
     "execution_count": 11,
     "metadata": {},
     "output_type": "execute_result"
    }
   ],
   "source": [
    "# filter: keep only some elements of the sequence\n",
    "js.filter(lambda record: record['name'] == 'Alice').take(5)"
   ]
  },
  {
   "cell_type": "code",
   "execution_count": 12,
   "metadata": {
    "execution": {
     "iopub.execute_input": "2022-06-14T17:44:49.086148Z",
     "iopub.status.busy": "2022-06-14T17:44:49.085309Z",
     "iopub.status.idle": "2022-06-14T17:44:49.120718Z",
     "shell.execute_reply": "2022-06-14T17:44:49.119975Z"
    }
   },
   "outputs": [
    {
     "data": {
      "text/plain": [
       "({'name': 'Alice', 'count': 37},\n",
       " {'name': 'Alice', 'count': 3},\n",
       " {'name': 'Alice', 'count': 51},\n",
       " {'name': 'Alice', 'count': 36},\n",
       " {'name': 'Alice', 'count': 10})"
      ]
     },
     "execution_count": 12,
     "metadata": {},
     "output_type": "execute_result"
    }
   ],
   "source": [
    "def count_transactions(d):\n",
    "    return {'name': d['name'], 'count': len(d['transactions'])}\n",
    "\n",
    "# map: apply a function to each element\n",
    "(js.filter(lambda record: record['name'] == 'Alice')\n",
    "   .map(count_transactions)\n",
    "   .take(5))"
   ]
  },
  {
   "cell_type": "code",
   "execution_count": 13,
   "metadata": {
    "execution": {
     "iopub.execute_input": "2022-06-14T17:44:49.125143Z",
     "iopub.status.busy": "2022-06-14T17:44:49.124846Z",
     "iopub.status.idle": "2022-06-14T17:44:49.154006Z",
     "shell.execute_reply": "2022-06-14T17:44:49.153084Z"
    }
   },
   "outputs": [
    {
     "data": {
      "text/plain": [
       "(37, 3, 51, 36, 10)"
      ]
     },
     "execution_count": 13,
     "metadata": {},
     "output_type": "execute_result"
    }
   ],
   "source": [
    "# pluck: select a field, as from a dictionary, element[field]\n",
    "(js.filter(lambda record: record['name'] == 'Alice')\n",
    "   .map(count_transactions)\n",
    "   .pluck('count')\n",
    "   .take(5))"
   ]
  },
  {
   "cell_type": "code",
   "execution_count": 14,
   "metadata": {
    "execution": {
     "iopub.execute_input": "2022-06-14T17:44:49.157588Z",
     "iopub.status.busy": "2022-06-14T17:44:49.157297Z",
     "iopub.status.idle": "2022-06-14T17:44:49.628193Z",
     "shell.execute_reply": "2022-06-14T17:44:49.627402Z"
    }
   },
   "outputs": [
    {
     "data": {
      "text/plain": [
       "32.19725557461407"
      ]
     },
     "execution_count": 14,
     "metadata": {},
     "output_type": "execute_result"
    }
   ],
   "source": [
    "# Average number of transactions for all of the Alice entries\n",
    "(js.filter(lambda record: record['name'] == 'Alice')\n",
    "   .map(count_transactions)\n",
    "   .pluck('count')\n",
    "   .mean()\n",
    "   .compute())"
   ]
  },
  {
   "cell_type": "markdown",
   "metadata": {},
   "source": [
    "### Use `flatten` to de-nest"
   ]
  },
  {
   "cell_type": "markdown",
   "metadata": {},
   "source": [
    "In the example below we see the use of `.flatten()` to flatten results.  We compute the average amount for all transactions for all Alices."
   ]
  },
  {
   "cell_type": "code",
   "execution_count": 15,
   "metadata": {
    "execution": {
     "iopub.execute_input": "2022-06-14T17:44:49.632814Z",
     "iopub.status.busy": "2022-06-14T17:44:49.632197Z",
     "iopub.status.idle": "2022-06-14T17:44:49.671022Z",
     "shell.execute_reply": "2022-06-14T17:44:49.670142Z"
    }
   },
   "outputs": [
    {
     "data": {
      "text/plain": [
       "([{'transaction-id': 123, 'amount': 798},\n",
       "  {'transaction-id': 167, 'amount': 975},\n",
       "  {'transaction-id': 408, 'amount': 740},\n",
       "  {'transaction-id': 1452, 'amount': 676},\n",
       "  {'transaction-id': 2001, 'amount': 785},\n",
       "  {'transaction-id': 2145, 'amount': 790},\n",
       "  {'transaction-id': 2500, 'amount': 877},\n",
       "  {'transaction-id': 2767, 'amount': 706},\n",
       "  {'transaction-id': 2836, 'amount': 634},\n",
       "  {'transaction-id': 2979, 'amount': 728},\n",
       "  {'transaction-id': 3032, 'amount': 832},\n",
       "  {'transaction-id': 3327, 'amount': 809},\n",
       "  {'transaction-id': 3664, 'amount': 682},\n",
       "  {'transaction-id': 3954, 'amount': 685},\n",
       "  {'transaction-id': 4168, 'amount': 771},\n",
       "  {'transaction-id': 4200, 'amount': 600},\n",
       "  {'transaction-id': 4451, 'amount': 789},\n",
       "  {'transaction-id': 4559, 'amount': 880},\n",
       "  {'transaction-id': 4676, 'amount': 830},\n",
       "  {'transaction-id': 5044, 'amount': 764},\n",
       "  {'transaction-id': 5125, 'amount': 855},\n",
       "  {'transaction-id': 5339, 'amount': 903},\n",
       "  {'transaction-id': 5360, 'amount': 707},\n",
       "  {'transaction-id': 5633, 'amount': 881},\n",
       "  {'transaction-id': 5838, 'amount': 818},\n",
       "  {'transaction-id': 6485, 'amount': 692},\n",
       "  {'transaction-id': 6621, 'amount': 813},\n",
       "  {'transaction-id': 6771, 'amount': 699},\n",
       "  {'transaction-id': 6980, 'amount': 786},\n",
       "  {'transaction-id': 7131, 'amount': 696},\n",
       "  {'transaction-id': 7494, 'amount': 765},\n",
       "  {'transaction-id': 7839, 'amount': 710},\n",
       "  {'transaction-id': 7855, 'amount': 783},\n",
       "  {'transaction-id': 7986, 'amount': 676},\n",
       "  {'transaction-id': 8211, 'amount': 753},\n",
       "  {'transaction-id': 8598, 'amount': 840},\n",
       "  {'transaction-id': 9014, 'amount': 797}],\n",
       " [{'transaction-id': 7213, 'amount': 1776},\n",
       "  {'transaction-id': 7323, 'amount': 3411},\n",
       "  {'transaction-id': 9446, 'amount': 2275}],\n",
       " [{'transaction-id': 176, 'amount': -1233},\n",
       "  {'transaction-id': 213, 'amount': -1072},\n",
       "  {'transaction-id': 398, 'amount': -962},\n",
       "  {'transaction-id': 927, 'amount': -985},\n",
       "  {'transaction-id': 1149, 'amount': -996},\n",
       "  {'transaction-id': 1643, 'amount': -1165},\n",
       "  {'transaction-id': 1766, 'amount': -959},\n",
       "  {'transaction-id': 1768, 'amount': -1258},\n",
       "  {'transaction-id': 1861, 'amount': -833},\n",
       "  {'transaction-id': 2214, 'amount': -1081},\n",
       "  {'transaction-id': 2366, 'amount': -1043},\n",
       "  {'transaction-id': 2416, 'amount': -1018},\n",
       "  {'transaction-id': 2623, 'amount': -1119},\n",
       "  {'transaction-id': 2943, 'amount': -945},\n",
       "  {'transaction-id': 3060, 'amount': -1116},\n",
       "  {'transaction-id': 3410, 'amount': -1151},\n",
       "  {'transaction-id': 3584, 'amount': -1139},\n",
       "  {'transaction-id': 3689, 'amount': -978},\n",
       "  {'transaction-id': 3750, 'amount': -1149},\n",
       "  {'transaction-id': 3832, 'amount': -1055},\n",
       "  {'transaction-id': 3995, 'amount': -932},\n",
       "  {'transaction-id': 4055, 'amount': -1119},\n",
       "  {'transaction-id': 4073, 'amount': -1009},\n",
       "  {'transaction-id': 4242, 'amount': -1107},\n",
       "  {'transaction-id': 4575, 'amount': -1023},\n",
       "  {'transaction-id': 4577, 'amount': -1084},\n",
       "  {'transaction-id': 4895, 'amount': -1081},\n",
       "  {'transaction-id': 5021, 'amount': -1007},\n",
       "  {'transaction-id': 5159, 'amount': -1125},\n",
       "  {'transaction-id': 5351, 'amount': -969},\n",
       "  {'transaction-id': 5519, 'amount': -1115},\n",
       "  {'transaction-id': 5681, 'amount': -901},\n",
       "  {'transaction-id': 5771, 'amount': -1045},\n",
       "  {'transaction-id': 5913, 'amount': -1015},\n",
       "  {'transaction-id': 6451, 'amount': -979},\n",
       "  {'transaction-id': 6456, 'amount': -928},\n",
       "  {'transaction-id': 6506, 'amount': -1112},\n",
       "  {'transaction-id': 6507, 'amount': -1159},\n",
       "  {'transaction-id': 6887, 'amount': -1216},\n",
       "  {'transaction-id': 6895, 'amount': -1161},\n",
       "  {'transaction-id': 7403, 'amount': -1024},\n",
       "  {'transaction-id': 8044, 'amount': -1162},\n",
       "  {'transaction-id': 8060, 'amount': -1050},\n",
       "  {'transaction-id': 8064, 'amount': -1154},\n",
       "  {'transaction-id': 8404, 'amount': -995},\n",
       "  {'transaction-id': 8469, 'amount': -1038},\n",
       "  {'transaction-id': 8730, 'amount': -1170},\n",
       "  {'transaction-id': 9203, 'amount': -1169},\n",
       "  {'transaction-id': 9641, 'amount': -1081},\n",
       "  {'transaction-id': 9667, 'amount': -1081},\n",
       "  {'transaction-id': 9827, 'amount': -870}])"
      ]
     },
     "execution_count": 15,
     "metadata": {},
     "output_type": "execute_result"
    }
   ],
   "source": [
    "(js.filter(lambda record: record['name'] == 'Alice')\n",
    "   .pluck('transactions')\n",
    "   .take(3))"
   ]
  },
  {
   "cell_type": "code",
   "execution_count": 16,
   "metadata": {
    "execution": {
     "iopub.execute_input": "2022-06-14T17:44:49.682419Z",
     "iopub.status.busy": "2022-06-14T17:44:49.681814Z",
     "iopub.status.idle": "2022-06-14T17:44:49.714189Z",
     "shell.execute_reply": "2022-06-14T17:44:49.713258Z"
    }
   },
   "outputs": [
    {
     "data": {
      "text/plain": [
       "({'transaction-id': 123, 'amount': 798},\n",
       " {'transaction-id': 167, 'amount': 975},\n",
       " {'transaction-id': 408, 'amount': 740})"
      ]
     },
     "execution_count": 16,
     "metadata": {},
     "output_type": "execute_result"
    }
   ],
   "source": [
    "(js.filter(lambda record: record['name'] == 'Alice')\n",
    "   .pluck('transactions')\n",
    "   .flatten()\n",
    "   .take(3))"
   ]
  },
  {
   "cell_type": "code",
   "execution_count": 17,
   "metadata": {
    "execution": {
     "iopub.execute_input": "2022-06-14T17:44:49.717883Z",
     "iopub.status.busy": "2022-06-14T17:44:49.717620Z",
     "iopub.status.idle": "2022-06-14T17:44:49.745718Z",
     "shell.execute_reply": "2022-06-14T17:44:49.744628Z"
    }
   },
   "outputs": [
    {
     "data": {
      "text/plain": [
       "(798, 975, 740)"
      ]
     },
     "execution_count": 17,
     "metadata": {},
     "output_type": "execute_result"
    }
   ],
   "source": [
    "(js.filter(lambda record: record['name'] == 'Alice')\n",
    "   .pluck('transactions')\n",
    "   .flatten()\n",
    "   .pluck('amount')\n",
    "   .take(3))"
   ]
  },
  {
   "cell_type": "code",
   "execution_count": 18,
   "metadata": {
    "execution": {
     "iopub.execute_input": "2022-06-14T17:44:49.751197Z",
     "iopub.status.busy": "2022-06-14T17:44:49.750809Z",
     "iopub.status.idle": "2022-06-14T17:44:50.204575Z",
     "shell.execute_reply": "2022-06-14T17:44:50.203913Z"
    }
   },
   "outputs": [
    {
     "data": {
      "text/plain": [
       "579.197432209259"
      ]
     },
     "execution_count": 18,
     "metadata": {},
     "output_type": "execute_result"
    }
   ],
   "source": [
    "(js.filter(lambda record: record['name'] == 'Alice')\n",
    "   .pluck('transactions')\n",
    "   .flatten()\n",
    "   .pluck('amount')\n",
    "   .mean()\n",
    "   .compute())"
   ]
  },
  {
   "cell_type": "markdown",
   "metadata": {},
   "source": [
    "### Groupby and Foldby"
   ]
  },
  {
   "cell_type": "markdown",
   "metadata": {},
   "source": [
    "Often we want to group data by some function or key.  We can do this either with the `.groupby` method, which is straightforward but forces a full shuffle of the data (expensive) or with the harder-to-use but faster `.foldby` method, which does a streaming combined groupby and reduction.\n",
    "\n",
    "*  `groupby`:  Shuffles data so that all items with the same key are in the same key-value pair\n",
    "*  `foldby`:  Walks through the data accumulating a result per key\n",
    "\n",
    "*Note: the full groupby is particularly bad. In actual workloads you would do well to use `foldby` or switch to `DataFrame`s if possible.*"
   ]
  },
  {
   "cell_type": "markdown",
   "metadata": {},
   "source": [
    "### `groupby`"
   ]
  },
  {
   "cell_type": "markdown",
   "metadata": {},
   "source": [
    "Groupby collects items in your collection so that all items with the same value under some function are collected together into a key-value pair."
   ]
  },
  {
   "cell_type": "code",
   "execution_count": 19,
   "metadata": {
    "execution": {
     "iopub.execute_input": "2022-06-14T17:44:50.209340Z",
     "iopub.status.busy": "2022-06-14T17:44:50.209100Z",
     "iopub.status.idle": "2022-06-14T17:44:50.318840Z",
     "shell.execute_reply": "2022-06-14T17:44:50.318086Z"
    }
   },
   "outputs": [
    {
     "data": {
      "text/plain": [
       "[(7, ['Charlie']), (3, ['Bob', 'Dan']), (5, ['Alice', 'Edith', 'Frank'])]"
      ]
     },
     "execution_count": 19,
     "metadata": {},
     "output_type": "execute_result"
    }
   ],
   "source": [
    "b = db.from_sequence(['Alice', 'Bob', 'Charlie', 'Dan', 'Edith', 'Frank'])\n",
    "b.groupby(len).compute()  # names grouped by length"
   ]
  },
  {
   "cell_type": "code",
   "execution_count": 20,
   "metadata": {
    "execution": {
     "iopub.execute_input": "2022-06-14T17:44:50.322193Z",
     "iopub.status.busy": "2022-06-14T17:44:50.321933Z",
     "iopub.status.idle": "2022-06-14T17:44:50.513466Z",
     "shell.execute_reply": "2022-06-14T17:44:50.512628Z"
    }
   },
   "outputs": [
    {
     "data": {
      "text/plain": [
       "[(0, [0, 2, 4, 6, 8]), (1, [1, 3, 5, 7, 9])]"
      ]
     },
     "execution_count": 20,
     "metadata": {},
     "output_type": "execute_result"
    }
   ],
   "source": [
    "b = db.from_sequence(list(range(10)))\n",
    "b.groupby(lambda x: x % 2).compute()"
   ]
  },
  {
   "cell_type": "code",
   "execution_count": 21,
   "metadata": {
    "execution": {
     "iopub.execute_input": "2022-06-14T17:44:50.518343Z",
     "iopub.status.busy": "2022-06-14T17:44:50.517482Z",
     "iopub.status.idle": "2022-06-14T17:44:50.704756Z",
     "shell.execute_reply": "2022-06-14T17:44:50.701515Z"
    }
   },
   "outputs": [
    {
     "data": {
      "text/plain": [
       "[(0, 8), (1, 9)]"
      ]
     },
     "execution_count": 21,
     "metadata": {},
     "output_type": "execute_result"
    }
   ],
   "source": [
    "b.groupby(lambda x: x % 2).starmap(lambda k, v: (k, max(v))).compute()"
   ]
  },
  {
   "cell_type": "markdown",
   "metadata": {},
   "source": [
    "### `foldby`"
   ]
  },
  {
   "cell_type": "markdown",
   "metadata": {},
   "source": [
    "Foldby can be quite odd at first.  It is similar to the following functions from other libraries:\n",
    "\n",
    "*  [`toolz.reduceby`](http://toolz.readthedocs.io/en/latest/streaming-analytics.html#streaming-split-apply-combine)\n",
    "*  [`pyspark.RDD.combineByKey`](http://abshinn.github.io/python/apache-spark/2014/10/11/using-combinebykey-in-apache-spark/)\n",
    "\n",
    "When using `foldby` you provide \n",
    "\n",
    "1.  A key function on which to group elements\n",
    "2.  A binary operator such as you would pass to `reduce` that you use to perform reduction per each group\n",
    "3.  A combine binary operator that can combine the results of two `reduce` calls on different parts of your dataset.\n",
    "\n",
    "Your reduction must be associative.  It will happen in parallel in each of the partitions of your dataset.  Then all of these intermediate results will be combined by the `combine` binary operator."
   ]
  },
  {
   "cell_type": "code",
   "execution_count": 22,
   "metadata": {
    "execution": {
     "iopub.execute_input": "2022-06-14T17:44:50.709490Z",
     "iopub.status.busy": "2022-06-14T17:44:50.709213Z",
     "iopub.status.idle": "2022-06-14T17:44:50.765647Z",
     "shell.execute_reply": "2022-06-14T17:44:50.764886Z"
    }
   },
   "outputs": [
    {
     "data": {
      "text/plain": [
       "[(0, 8), (1, 9)]"
      ]
     },
     "execution_count": 22,
     "metadata": {},
     "output_type": "execute_result"
    }
   ],
   "source": [
    "b.foldby(lambda x: x % 2, binop=max, combine=max).compute()"
   ]
  },
  {
   "cell_type": "markdown",
   "metadata": {},
   "source": [
    "### Example with account data"
   ]
  },
  {
   "cell_type": "markdown",
   "metadata": {},
   "source": [
    "We find the number of people with the same name."
   ]
  },
  {
   "cell_type": "code",
   "execution_count": 23,
   "metadata": {
    "execution": {
     "iopub.execute_input": "2022-06-14T17:44:50.770253Z",
     "iopub.status.busy": "2022-06-14T17:44:50.769936Z",
     "iopub.status.idle": "2022-06-14T17:44:54.730578Z",
     "shell.execute_reply": "2022-06-14T17:44:54.729018Z"
    }
   },
   "outputs": [
    {
     "name": "stdout",
     "output_type": "stream",
     "text": [
      "[('Alice', 137), ('Alice', 141), ('Alice', 151), ('Alice', 154), ('Bob', 120), ('Bob', 120), ('Bob', 130), ('Bob', 130), ('Charlie', 203), ('Charlie', 203), ('Charlie', 219), ('Charlie', 221), ('Dan', 85), ('Dan', 86), ('Dan', 186), ('Edith', 132), ('Edith', 132), ('Edith', 142), ('Edith', 143), ('Frank', 120), ('Frank', 120), ('Frank', 130), ('Frank', 130), ('George', 108), ('George', 108), ('George', 116), ('George', 117), ('Hannah', 60), ('Hannah', 60), ('Hannah', 65), ('Hannah', 65), ('Ingrid', 144), ('Ingrid', 144), ('Ingrid', 156), ('Ingrid', 156), ('Jerry', 84), ('Jerry', 84), ('Jerry', 91), ('Jerry', 91), ('Kevin', 148), ('Kevin', 150), ('Kevin', 157), ('Kevin', 158), ('Laura', 132), ('Laura', 132), ('Laura', 142), ('Laura', 142), ('Michael', 96), ('Michael', 96), ('Michael', 104), ('Michael', 104), ('Norbert', 125), ('Norbert', 128), ('Norbert', 141), ('Norbert', 142), ('Oliver', 102), ('Oliver', 107), ('Oliver', 111), ('Oliver', 113), ('Patricia', 72), ('Patricia', 72), ('Patricia', 78), ('Patricia', 78), ('Quinn', 48), ('Quinn', 49), ('Quinn', 52), ('Quinn', 53), ('Ray', 74), ('Ray', 78), ('Ray', 82), ('Ray', 87), ('Sarah', 74), ('Sarah', 80), ('Sarah', 81), ('Sarah', 85), ('Tim', 120), ('Tim', 120), ('Tim', 130), ('Tim', 130), ('Ursula', 143), ('Ursula', 144), ('Ursula', 156), ('Ursula', 156), ('Victor', 120), ('Victor', 120), ('Victor', 130), ('Victor', 130), ('Wendy', 96), ('Wendy', 96), ('Wendy', 103), ('Wendy', 104), ('Xavier', 96), ('Xavier', 96), ('Xavier', 104), ('Xavier', 104), ('Yvonne', 197), ('Yvonne', 205), ('Yvonne', 218), ('Yvonne', 220), ('Zelda', 56), ('Zelda', 56), ('Zelda', 58), ('Zelda', 59)]\n",
      "CPU times: user 1 s, sys: 96.1 ms, total: 1.1 s\n",
      "Wall time: 3.95 s\n"
     ]
    }
   ],
   "source": [
    "%%time\n",
    "# Warning, this one takes a while...\n",
    "result = js.groupby(lambda item: item['name']).starmap(lambda k, v: (k, len(v))).compute()\n",
    "print(sorted(result))"
   ]
  },
  {
   "cell_type": "code",
   "execution_count": 24,
   "metadata": {
    "execution": {
     "iopub.execute_input": "2022-06-14T17:44:54.734553Z",
     "iopub.status.busy": "2022-06-14T17:44:54.734190Z",
     "iopub.status.idle": "2022-06-14T17:44:55.224647Z",
     "shell.execute_reply": "2022-06-14T17:44:55.223875Z"
    }
   },
   "outputs": [
    {
     "name": "stdout",
     "output_type": "stream",
     "text": [
      "[('Alice', 583), ('Bob', 500), ('Charlie', 846), ('Dan', 357), ('Edith', 549), ('Frank', 500), ('George', 449), ('Hannah', 250), ('Ingrid', 600), ('Jerry', 350), ('Kevin', 613), ('Laura', 548), ('Michael', 400), ('Norbert', 536), ('Oliver', 433), ('Patricia', 300), ('Quinn', 202), ('Ray', 321), ('Sarah', 320), ('Tim', 500), ('Ursula', 599), ('Victor', 500), ('Wendy', 399), ('Xavier', 400), ('Yvonne', 840), ('Zelda', 229)]\n",
      "CPU times: user 138 ms, sys: 13.5 ms, total: 152 ms\n",
      "Wall time: 485 ms\n"
     ]
    }
   ],
   "source": [
    "%%time\n",
    "# This one is comparatively fast and produces the same result.\n",
    "from operator import add\n",
    "def incr(tot, _):\n",
    "    return tot + 1\n",
    "\n",
    "result = js.foldby(key='name', \n",
    "                   binop=incr, \n",
    "                   initial=0, \n",
    "                   combine=add, \n",
    "                   combine_initial=0).compute()\n",
    "print(sorted(result))"
   ]
  },
  {
   "cell_type": "markdown",
   "metadata": {},
   "source": [
    "### Exercise: compute total amount per name"
   ]
  },
  {
   "cell_type": "markdown",
   "metadata": {},
   "source": [
    "We want to groupby (or foldby) the `name` key, then add up the all of the amounts for each name.\n",
    "\n",
    "Steps\n",
    "\n",
    "1.  Create a small function that, given a dictionary like \n",
    "\n",
    "        {'name': 'Alice', 'transactions': [{'amount': 1, 'id': 123}, {'amount': 2, 'id': 456}]}\n",
    "        \n",
    "    produces the sum of the amounts, e.g. `3`\n",
    "    \n",
    "2.  Slightly change the binary operator of the `foldby` example above so that the binary operator doesn't count the number of entries, but instead accumulates the sum of the amounts."
   ]
  },
  {
   "cell_type": "code",
   "execution_count": 25,
   "metadata": {
    "execution": {
     "iopub.execute_input": "2022-06-14T17:44:55.228887Z",
     "iopub.status.busy": "2022-06-14T17:44:55.228597Z",
     "iopub.status.idle": "2022-06-14T17:44:55.233948Z",
     "shell.execute_reply": "2022-06-14T17:44:55.232995Z"
    }
   },
   "outputs": [],
   "source": [
    "# Your code here..."
   ]
  },
  {
   "cell_type": "markdown",
   "metadata": {},
   "source": [
    "## DataFrames"
   ]
  },
  {
   "cell_type": "markdown",
   "metadata": {},
   "source": [
    "For the same reasons that Pandas is often faster than pure Python, `dask.dataframe` can be faster than `dask.bag`.  We will work more with DataFrames later, but from the point of view of a Bag, it is frequently the end-point of the \"messy\" part of data ingestion—once the data can be made into a data-frame, then complex split-apply-combine logic will become much more straight-forward and efficient.\n",
    "\n",
    "You can transform a bag with a simple tuple or flat dictionary structure into a `dask.dataframe` with the `to_dataframe` method."
   ]
  },
  {
   "cell_type": "code",
   "execution_count": 26,
   "metadata": {
    "execution": {
     "iopub.execute_input": "2022-06-14T17:44:55.239011Z",
     "iopub.status.busy": "2022-06-14T17:44:55.238767Z",
     "iopub.status.idle": "2022-06-14T17:44:55.810265Z",
     "shell.execute_reply": "2022-06-14T17:44:55.809182Z"
    }
   },
   "outputs": [
    {
     "name": "stderr",
     "output_type": "stream",
     "text": [
      "/usr/share/miniconda3/envs/dask-tutorial/lib/python3.8/site-packages/dask/dataframe/backends.py:187: FutureWarning: pandas.Int64Index is deprecated and will be removed from pandas in a future version. Use pandas.Index with the appropriate dtype instead.\n",
      "  _numeric_index_types = (pd.Int64Index, pd.Float64Index, pd.UInt64Index)\n",
      "/usr/share/miniconda3/envs/dask-tutorial/lib/python3.8/site-packages/dask/dataframe/backends.py:187: FutureWarning: pandas.Float64Index is deprecated and will be removed from pandas in a future version. Use pandas.Index with the appropriate dtype instead.\n",
      "  _numeric_index_types = (pd.Int64Index, pd.Float64Index, pd.UInt64Index)\n",
      "/usr/share/miniconda3/envs/dask-tutorial/lib/python3.8/site-packages/dask/dataframe/backends.py:187: FutureWarning: pandas.UInt64Index is deprecated and will be removed from pandas in a future version. Use pandas.Index with the appropriate dtype instead.\n",
      "  _numeric_index_types = (pd.Int64Index, pd.Float64Index, pd.UInt64Index)\n"
     ]
    },
    {
     "data": {
      "text/html": [
       "<div>\n",
       "<style scoped>\n",
       "    .dataframe tbody tr th:only-of-type {\n",
       "        vertical-align: middle;\n",
       "    }\n",
       "\n",
       "    .dataframe tbody tr th {\n",
       "        vertical-align: top;\n",
       "    }\n",
       "\n",
       "    .dataframe thead th {\n",
       "        text-align: right;\n",
       "    }\n",
       "</style>\n",
       "<table border=\"1\" class=\"dataframe\">\n",
       "  <thead>\n",
       "    <tr style=\"text-align: right;\">\n",
       "      <th></th>\n",
       "      <th>id</th>\n",
       "      <th>name</th>\n",
       "      <th>transactions</th>\n",
       "    </tr>\n",
       "  </thead>\n",
       "  <tbody>\n",
       "    <tr>\n",
       "      <th>0</th>\n",
       "      <td>0</td>\n",
       "      <td>Jerry</td>\n",
       "      <td>[{'transaction-id': 2843, 'amount': 1469}, {'t...</td>\n",
       "    </tr>\n",
       "    <tr>\n",
       "      <th>1</th>\n",
       "      <td>1</td>\n",
       "      <td>Norbert</td>\n",
       "      <td>[{'transaction-id': 28, 'amount': 1016}, {'tra...</td>\n",
       "    </tr>\n",
       "    <tr>\n",
       "      <th>2</th>\n",
       "      <td>2</td>\n",
       "      <td>Wendy</td>\n",
       "      <td>[{'transaction-id': 30, 'amount': 256}, {'tran...</td>\n",
       "    </tr>\n",
       "    <tr>\n",
       "      <th>3</th>\n",
       "      <td>3</td>\n",
       "      <td>Edith</td>\n",
       "      <td>[{'transaction-id': 233, 'amount': -238}, {'tr...</td>\n",
       "    </tr>\n",
       "    <tr>\n",
       "      <th>4</th>\n",
       "      <td>4</td>\n",
       "      <td>Kevin</td>\n",
       "      <td>[{'transaction-id': 130, 'amount': 175}, {'tra...</td>\n",
       "    </tr>\n",
       "  </tbody>\n",
       "</table>\n",
       "</div>"
      ],
      "text/plain": [
       "   id     name                                       transactions\n",
       "0   0    Jerry  [{'transaction-id': 2843, 'amount': 1469}, {'t...\n",
       "1   1  Norbert  [{'transaction-id': 28, 'amount': 1016}, {'tra...\n",
       "2   2    Wendy  [{'transaction-id': 30, 'amount': 256}, {'tran...\n",
       "3   3    Edith  [{'transaction-id': 233, 'amount': -238}, {'tr...\n",
       "4   4    Kevin  [{'transaction-id': 130, 'amount': 175}, {'tra..."
      ]
     },
     "execution_count": 26,
     "metadata": {},
     "output_type": "execute_result"
    }
   ],
   "source": [
    "df1 = js.to_dataframe()\n",
    "df1.head()"
   ]
  },
  {
   "cell_type": "markdown",
   "metadata": {},
   "source": [
    "This now looks like a well-defined DataFrame, and we can apply Pandas-like computations to it efficiently."
   ]
  },
  {
   "cell_type": "markdown",
   "metadata": {},
   "source": [
    "Using a Dask DataFrame, how long does it take to do our prior computation of numbers of people with the same name?  It turns out that `dask.dataframe.groupby()` beats `dask.bag.groupby()` by more than an order of magnitude; but it still cannot match `dask.bag.foldby()` for this case."
   ]
  },
  {
   "cell_type": "code",
   "execution_count": 27,
   "metadata": {
    "execution": {
     "iopub.execute_input": "2022-06-14T17:44:55.815162Z",
     "iopub.status.busy": "2022-06-14T17:44:55.814577Z",
     "iopub.status.idle": "2022-06-14T17:44:57.322290Z",
     "shell.execute_reply": "2022-06-14T17:44:57.321364Z"
    }
   },
   "outputs": [
    {
     "name": "stdout",
     "output_type": "stream",
     "text": [
      "CPU times: user 281 ms, sys: 8.77 ms, total: 289 ms\n",
      "Wall time: 1.49 s\n"
     ]
    },
    {
     "data": {
      "text/plain": [
       "name\n",
       "Alice      583\n",
       "Bob        500\n",
       "Charlie    846\n",
       "Dan        357\n",
       "Edith      549\n",
       "Name: id, dtype: int64"
      ]
     },
     "execution_count": 27,
     "metadata": {},
     "output_type": "execute_result"
    }
   ],
   "source": [
    "%time df1.groupby('name').id.count().compute().head()"
   ]
  },
  {
   "cell_type": "markdown",
   "metadata": {},
   "source": [
    "### Denormalization"
   ]
  },
  {
   "cell_type": "markdown",
   "metadata": {},
   "source": [
    "This DataFrame format is less-than-optimal because the `transactions` column is filled with nested data so Pandas has to revert to `object` dtype, which is quite slow in Pandas.  Ideally we want to transform to a dataframe only after we have flattened our data so that each record is a single `int`, `string`, `float`, etc.."
   ]
  },
  {
   "cell_type": "code",
   "execution_count": 28,
   "metadata": {
    "execution": {
     "iopub.execute_input": "2022-06-14T17:44:57.326811Z",
     "iopub.status.busy": "2022-06-14T17:44:57.326520Z",
     "iopub.status.idle": "2022-06-14T17:44:57.357566Z",
     "shell.execute_reply": "2022-06-14T17:44:57.356738Z"
    }
   },
   "outputs": [
    {
     "data": {
      "text/plain": [
       "({'id': 0, 'name': 'Jerry', 'amount': 1469, 'transaction-id': 2843},\n",
       " {'id': 0, 'name': 'Jerry', 'amount': 1709, 'transaction-id': 3009},\n",
       " {'id': 0, 'name': 'Jerry', 'amount': 1572, 'transaction-id': 3715})"
      ]
     },
     "execution_count": 28,
     "metadata": {},
     "output_type": "execute_result"
    }
   ],
   "source": [
    "def denormalize(record):\n",
    "    # returns a list for each person, one item per transaction\n",
    "    return [{'id': record['id'], \n",
    "             'name': record['name'], \n",
    "             'amount': transaction['amount'], \n",
    "             'transaction-id': transaction['transaction-id']}\n",
    "            for transaction in record['transactions']]\n",
    "\n",
    "transactions = js.map(denormalize).flatten()\n",
    "transactions.take(3)"
   ]
  },
  {
   "cell_type": "code",
   "execution_count": 29,
   "metadata": {
    "execution": {
     "iopub.execute_input": "2022-06-14T17:44:57.361974Z",
     "iopub.status.busy": "2022-06-14T17:44:57.361080Z",
     "iopub.status.idle": "2022-06-14T17:44:57.447040Z",
     "shell.execute_reply": "2022-06-14T17:44:57.446018Z"
    }
   },
   "outputs": [
    {
     "data": {
      "text/html": [
       "<div>\n",
       "<style scoped>\n",
       "    .dataframe tbody tr th:only-of-type {\n",
       "        vertical-align: middle;\n",
       "    }\n",
       "\n",
       "    .dataframe tbody tr th {\n",
       "        vertical-align: top;\n",
       "    }\n",
       "\n",
       "    .dataframe thead th {\n",
       "        text-align: right;\n",
       "    }\n",
       "</style>\n",
       "<table border=\"1\" class=\"dataframe\">\n",
       "  <thead>\n",
       "    <tr style=\"text-align: right;\">\n",
       "      <th></th>\n",
       "      <th>id</th>\n",
       "      <th>name</th>\n",
       "      <th>amount</th>\n",
       "      <th>transaction-id</th>\n",
       "    </tr>\n",
       "  </thead>\n",
       "  <tbody>\n",
       "    <tr>\n",
       "      <th>0</th>\n",
       "      <td>0</td>\n",
       "      <td>Jerry</td>\n",
       "      <td>1469</td>\n",
       "      <td>2843</td>\n",
       "    </tr>\n",
       "    <tr>\n",
       "      <th>1</th>\n",
       "      <td>0</td>\n",
       "      <td>Jerry</td>\n",
       "      <td>1709</td>\n",
       "      <td>3009</td>\n",
       "    </tr>\n",
       "    <tr>\n",
       "      <th>2</th>\n",
       "      <td>0</td>\n",
       "      <td>Jerry</td>\n",
       "      <td>1572</td>\n",
       "      <td>3715</td>\n",
       "    </tr>\n",
       "    <tr>\n",
       "      <th>3</th>\n",
       "      <td>0</td>\n",
       "      <td>Jerry</td>\n",
       "      <td>1512</td>\n",
       "      <td>4273</td>\n",
       "    </tr>\n",
       "    <tr>\n",
       "      <th>4</th>\n",
       "      <td>0</td>\n",
       "      <td>Jerry</td>\n",
       "      <td>1658</td>\n",
       "      <td>4403</td>\n",
       "    </tr>\n",
       "  </tbody>\n",
       "</table>\n",
       "</div>"
      ],
      "text/plain": [
       "   id   name  amount  transaction-id\n",
       "0   0  Jerry    1469            2843\n",
       "1   0  Jerry    1709            3009\n",
       "2   0  Jerry    1572            3715\n",
       "3   0  Jerry    1512            4273\n",
       "4   0  Jerry    1658            4403"
      ]
     },
     "execution_count": 29,
     "metadata": {},
     "output_type": "execute_result"
    }
   ],
   "source": [
    "df = transactions.to_dataframe()\n",
    "df.head()"
   ]
  },
  {
   "cell_type": "code",
   "execution_count": 30,
   "metadata": {
    "execution": {
     "iopub.execute_input": "2022-06-14T17:44:57.451643Z",
     "iopub.status.busy": "2022-06-14T17:44:57.451194Z",
     "iopub.status.idle": "2022-06-14T17:44:58.693018Z",
     "shell.execute_reply": "2022-06-14T17:44:58.692080Z"
    }
   },
   "outputs": [
    {
     "name": "stdout",
     "output_type": "stream",
     "text": [
      "CPU times: user 199 ms, sys: 34.8 ms, total: 234 ms\n",
      "Wall time: 1.23 s\n"
     ]
    },
    {
     "data": {
      "text/plain": [
       "name\n",
       "Alice       18771\n",
       "Bob         20424\n",
       "Charlie     36223\n",
       "Dan         15068\n",
       "Edith       19328\n",
       "Frank       21743\n",
       "George      22539\n",
       "Hannah      10396\n",
       "Ingrid      29793\n",
       "Jerry       10962\n",
       "Kevin       30668\n",
       "Laura       19908\n",
       "Michael     16322\n",
       "Norbert     16026\n",
       "Oliver      11171\n",
       "Patricia    11438\n",
       "Quinn       10816\n",
       "Ray          4977\n",
       "Sarah        8219\n",
       "Tim         32007\n",
       "Ursula      33689\n",
       "Victor      18063\n",
       "Wendy       18623\n",
       "Xavier      22430\n",
       "Yvonne      29730\n",
       "Zelda       10666\n",
       "Name: transaction-id, dtype: int64"
      ]
     },
     "execution_count": 30,
     "metadata": {},
     "output_type": "execute_result"
    }
   ],
   "source": [
    "%%time\n",
    "# number of transactions per name\n",
    "# note that the time here includes the data load and ingestion\n",
    "df.groupby('name')['transaction-id'].count().compute()"
   ]
  },
  {
   "cell_type": "markdown",
   "metadata": {},
   "source": [
    "## Limitations"
   ]
  },
  {
   "cell_type": "markdown",
   "metadata": {},
   "source": [
    "Bags provide very general computation (any Python function.)  This generality\n",
    "comes at cost.  Bags have the following known limitations\n",
    "\n",
    "1.  Bag operations tend to be slower than array/dataframe computations in the\n",
    "    same way that Python tends to be slower than NumPy/Pandas\n",
    "2.  ``Bag.groupby`` is slow.  You should try to use ``Bag.foldby`` if possible.\n",
    "    Using ``Bag.foldby`` requires more thought. Even better, consider creating\n",
    "    a normalised dataframe."
   ]
  },
  {
   "cell_type": "markdown",
   "metadata": {},
   "source": [
    "## Learn More\n",
    "\n",
    "* [Bag documentation](https://docs.dask.org/en/latest/bag.html)\n",
    "* [Bag screencast](https://youtu.be/-qIiJ1XtSv0)\n",
    "* [Bag API](https://docs.dask.org/en/latest/bag-api.html)\n",
    "* [Bag examples](https://examples.dask.org/bag.html)"
   ]
  },
  {
   "cell_type": "markdown",
   "metadata": {},
   "source": [
    "## Shutdown"
   ]
  },
  {
   "cell_type": "code",
   "execution_count": 31,
   "metadata": {
    "execution": {
     "iopub.execute_input": "2022-06-14T17:44:58.698709Z",
     "iopub.status.busy": "2022-06-14T17:44:58.697997Z",
     "iopub.status.idle": "2022-06-14T17:44:59.277938Z",
     "shell.execute_reply": "2022-06-14T17:44:59.276420Z"
    }
   },
   "outputs": [
    {
     "name": "stderr",
     "output_type": "stream",
     "text": [
      "/usr/share/miniconda3/envs/dask-tutorial/lib/python3.8/site-packages/dask/dataframe/backends.py:187: FutureWarning: pandas.Int64Index is deprecated and will be removed from pandas in a future version. Use pandas.Index with the appropriate dtype instead.\n",
      "  _numeric_index_types = (pd.Int64Index, pd.Float64Index, pd.UInt64Index)\n",
      "/usr/share/miniconda3/envs/dask-tutorial/lib/python3.8/site-packages/dask/dataframe/backends.py:187: FutureWarning: pandas.Float64Index is deprecated and will be removed from pandas in a future version. Use pandas.Index with the appropriate dtype instead.\n",
      "  _numeric_index_types = (pd.Int64Index, pd.Float64Index, pd.UInt64Index)\n",
      "/usr/share/miniconda3/envs/dask-tutorial/lib/python3.8/site-packages/dask/dataframe/backends.py:187: FutureWarning: pandas.UInt64Index is deprecated and will be removed from pandas in a future version. Use pandas.Index with the appropriate dtype instead.\n",
      "  _numeric_index_types = (pd.Int64Index, pd.Float64Index, pd.UInt64Index)\n",
      "/usr/share/miniconda3/envs/dask-tutorial/lib/python3.8/site-packages/dask/dataframe/backends.py:187: FutureWarning: pandas.Int64Index is deprecated and will be removed from pandas in a future version. Use pandas.Index with the appropriate dtype instead.\n",
      "  _numeric_index_types = (pd.Int64Index, pd.Float64Index, pd.UInt64Index)\n",
      "/usr/share/miniconda3/envs/dask-tutorial/lib/python3.8/site-packages/dask/dataframe/backends.py:187: FutureWarning: pandas.Float64Index is deprecated and will be removed from pandas in a future version. Use pandas.Index with the appropriate dtype instead.\n",
      "  _numeric_index_types = (pd.Int64Index, pd.Float64Index, pd.UInt64Index)\n",
      "/usr/share/miniconda3/envs/dask-tutorial/lib/python3.8/site-packages/dask/dataframe/backends.py:187: FutureWarning: pandas.UInt64Index is deprecated and will be removed from pandas in a future version. Use pandas.Index with the appropriate dtype instead.\n",
      "  _numeric_index_types = (pd.Int64Index, pd.Float64Index, pd.UInt64Index)\n",
      "/usr/share/miniconda3/envs/dask-tutorial/lib/python3.8/site-packages/dask/dataframe/backends.py:187: FutureWarning: pandas.Int64Index is deprecated and will be removed from pandas in a future version. Use pandas.Index with the appropriate dtype instead.\n",
      "  _numeric_index_types = (pd.Int64Index, pd.Float64Index, pd.UInt64Index)\n",
      "/usr/share/miniconda3/envs/dask-tutorial/lib/python3.8/site-packages/dask/dataframe/backends.py:187: FutureWarning: pandas.Float64Index is deprecated and will be removed from pandas in a future version. Use pandas.Index with the appropriate dtype instead.\n",
      "  _numeric_index_types = (pd.Int64Index, pd.Float64Index, pd.UInt64Index)\n",
      "/usr/share/miniconda3/envs/dask-tutorial/lib/python3.8/site-packages/dask/dataframe/backends.py:187: FutureWarning: pandas.UInt64Index is deprecated and will be removed from pandas in a future version. Use pandas.Index with the appropriate dtype instead.\n",
      "  _numeric_index_types = (pd.Int64Index, pd.Float64Index, pd.UInt64Index)\n",
      "/usr/share/miniconda3/envs/dask-tutorial/lib/python3.8/site-packages/dask/dataframe/backends.py:187: FutureWarning: pandas.Int64Index is deprecated and will be removed from pandas in a future version. Use pandas.Index with the appropriate dtype instead.\n",
      "  _numeric_index_types = (pd.Int64Index, pd.Float64Index, pd.UInt64Index)\n",
      "/usr/share/miniconda3/envs/dask-tutorial/lib/python3.8/site-packages/dask/dataframe/backends.py:187: FutureWarning: pandas.Float64Index is deprecated and will be removed from pandas in a future version. Use pandas.Index with the appropriate dtype instead.\n",
      "  _numeric_index_types = (pd.Int64Index, pd.Float64Index, pd.UInt64Index)\n",
      "/usr/share/miniconda3/envs/dask-tutorial/lib/python3.8/site-packages/dask/dataframe/backends.py:187: FutureWarning: pandas.UInt64Index is deprecated and will be removed from pandas in a future version. Use pandas.Index with the appropriate dtype instead.\n",
      "  _numeric_index_types = (pd.Int64Index, pd.Float64Index, pd.UInt64Index)\n"
     ]
    }
   ],
   "source": [
    "client.shutdown()"
   ]
  }
 ],
 "metadata": {
  "anaconda-cloud": {},
  "kernelspec": {
   "display_name": "Python 3",
   "language": "python",
   "name": "python3"
  },
  "language_info": {
   "codemirror_mode": {
    "name": "ipython",
    "version": 3
   },
   "file_extension": ".py",
   "mimetype": "text/x-python",
   "name": "python",
   "nbconvert_exporter": "python",
   "pygments_lexer": "ipython3",
   "version": "3.8.13"
  }
 },
 "nbformat": 4,
 "nbformat_minor": 4
}
